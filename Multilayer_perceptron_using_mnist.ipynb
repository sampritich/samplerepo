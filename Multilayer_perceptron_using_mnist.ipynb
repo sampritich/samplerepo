{
  "nbformat": 4,
  "nbformat_minor": 0,
  "metadata": {
    "colab": {
      "name": "Multilayer_perceptron_using_mnist.ipynb",
      "provenance": [],
      "collapsed_sections": [],
      "include_colab_link": true
    },
    "kernelspec": {
      "name": "python3",
      "display_name": "Python 3"
    }
  },
  "cells": [
    {
      "cell_type": "markdown",
      "metadata": {
        "id": "view-in-github",
        "colab_type": "text"
      },
      "source": [
        "<a href=\"https://colab.research.google.com/github/sampritich/samplerepo/blob/master/Multilayer_perceptron_using_mnist.ipynb\" target=\"_parent\"><img src=\"https://colab.research.google.com/assets/colab-badge.svg\" alt=\"Open In Colab\"/></a>"
      ]
    },
    {
      "cell_type": "markdown",
      "metadata": {
        "id": "hkbiOCL8J_NL",
        "colab_type": "text"
      },
      "source": [
        "**MultiLayer Perceptron**\n",
        "# In the perceptron we just multiply with weights and add Bias, but we do this in one layer only.\n",
        "\n",
        "# We update the weight when we found an error in classification or miss-classified. Weight update equation =\n",
        "# weight = weight + learning_rate * (expected - predicted) * x"
      ]
    },
    {
      "cell_type": "markdown",
      "metadata": {
        "id": "O-isYzKyOqjj",
        "colab_type": "text"
      },
      "source": [
        "![alt text](https://miro.medium.com/proxy/1*S4FYCNkB0eOKR9OrcGu3Mw.jpeg)"
      ]
    },
    {
      "cell_type": "markdown",
      "metadata": {
        "id": "olWxAGn9O8Re",
        "colab_type": "text"
      },
      "source": [
        "\n",
        "**Activation function:**\n",
        "# Activation functions also known non- linearity, describe the input-output relations in a non-linear way. This gives the model power to be more flexible in describing arbitrary relations. Here are popular activation functions. Sigmoid, Relu, Tanh and many more. I will describe these in my next blog."
      ]
    },
    {
      "cell_type": "code",
      "metadata": {
        "id": "0qlt9E8LOwAL",
        "colab_type": "code",
        "colab": {}
      },
      "source": [
        ""
      ],
      "execution_count": 0,
      "outputs": []
    },
    {
      "cell_type": "markdown",
      "metadata": {
        "id": "BJv066IUPEUZ",
        "colab_type": "text"
      },
      "source": [
        "\n",
        "**Training the Model-**\n",
        "# There are basically three steps in the training of the model\n",
        "\n",
        "1.   Forward pass\n",
        "2.   Calculate error or loss\n",
        "3.   Backward pass \n",
        "\n",
        "\n"
      ]
    },
    {
      "cell_type": "code",
      "metadata": {
        "id": "OSJXcaY7J7EL",
        "colab_type": "code",
        "colab": {}
      },
      "source": [
        "from __future__ import print_function\n"
      ],
      "execution_count": 0,
      "outputs": []
    },
    {
      "cell_type": "markdown",
      "metadata": {
        "id": "uI947pShKMIs",
        "colab_type": "text"
      },
      "source": [
        "**Import Dataset**"
      ]
    },
    {
      "cell_type": "code",
      "metadata": {
        "id": "DrfUhoDzKMis",
        "colab_type": "code",
        "outputId": "4ff1a06e-9c8d-4739-e22b-5d249ee59883",
        "colab": {
          "base_uri": "https://localhost:8080/",
          "height": 576
        }
      },
      "source": [
        "# Import MNIST data\n",
        "from tensorflow.examples.tutorials.mnist import input_data\n",
        "mnist = input_data.read_data_sets(\"/tmp/data/\", one_hot=True)"
      ],
      "execution_count": 0,
      "outputs": [
        {
          "output_type": "display_data",
          "data": {
            "text/html": [
              "<p style=\"color: red;\">\n",
              "The default version of TensorFlow in Colab will soon switch to TensorFlow 2.x.<br>\n",
              "We recommend you <a href=\"https://www.tensorflow.org/guide/migrate\" target=\"_blank\">upgrade</a> now \n",
              "or ensure your notebook will continue to use TensorFlow 1.x via the <code>%tensorflow_version 1.x</code> magic:\n",
              "<a href=\"https://colab.research.google.com/notebooks/tensorflow_version.ipynb\" target=\"_blank\">more info</a>.</p>\n"
            ],
            "text/plain": [
              "<IPython.core.display.HTML object>"
            ]
          },
          "metadata": {
            "tags": []
          }
        },
        {
          "output_type": "stream",
          "text": [
            "WARNING:tensorflow:From <ipython-input-1-c3d55fec490c>:2: read_data_sets (from tensorflow.contrib.learn.python.learn.datasets.mnist) is deprecated and will be removed in a future version.\n",
            "Instructions for updating:\n",
            "Please use alternatives such as official/mnist/dataset.py from tensorflow/models.\n",
            "WARNING:tensorflow:From /usr/local/lib/python3.6/dist-packages/tensorflow_core/contrib/learn/python/learn/datasets/mnist.py:260: maybe_download (from tensorflow.contrib.learn.python.learn.datasets.base) is deprecated and will be removed in a future version.\n",
            "Instructions for updating:\n",
            "Please write your own downloading logic.\n",
            "WARNING:tensorflow:From /usr/local/lib/python3.6/dist-packages/tensorflow_core/contrib/learn/python/learn/datasets/base.py:252: _internal_retry.<locals>.wrap.<locals>.wrapped_fn (from tensorflow.contrib.learn.python.learn.datasets.base) is deprecated and will be removed in a future version.\n",
            "Instructions for updating:\n",
            "Please use urllib or similar directly.\n",
            "Successfully downloaded train-images-idx3-ubyte.gz 9912422 bytes.\n",
            "WARNING:tensorflow:From /usr/local/lib/python3.6/dist-packages/tensorflow_core/contrib/learn/python/learn/datasets/mnist.py:262: extract_images (from tensorflow.contrib.learn.python.learn.datasets.mnist) is deprecated and will be removed in a future version.\n",
            "Instructions for updating:\n",
            "Please use tf.data to implement this functionality.\n",
            "Extracting /tmp/data/train-images-idx3-ubyte.gz\n",
            "Successfully downloaded train-labels-idx1-ubyte.gz 28881 bytes.\n",
            "WARNING:tensorflow:From /usr/local/lib/python3.6/dist-packages/tensorflow_core/contrib/learn/python/learn/datasets/mnist.py:267: extract_labels (from tensorflow.contrib.learn.python.learn.datasets.mnist) is deprecated and will be removed in a future version.\n",
            "Instructions for updating:\n",
            "Please use tf.data to implement this functionality.\n",
            "Extracting /tmp/data/train-labels-idx1-ubyte.gz\n",
            "WARNING:tensorflow:From /usr/local/lib/python3.6/dist-packages/tensorflow_core/contrib/learn/python/learn/datasets/mnist.py:110: dense_to_one_hot (from tensorflow.contrib.learn.python.learn.datasets.mnist) is deprecated and will be removed in a future version.\n",
            "Instructions for updating:\n",
            "Please use tf.one_hot on tensors.\n",
            "Successfully downloaded t10k-images-idx3-ubyte.gz 1648877 bytes.\n",
            "Extracting /tmp/data/t10k-images-idx3-ubyte.gz\n",
            "Successfully downloaded t10k-labels-idx1-ubyte.gz 4542 bytes.\n",
            "Extracting /tmp/data/t10k-labels-idx1-ubyte.gz\n",
            "WARNING:tensorflow:From /usr/local/lib/python3.6/dist-packages/tensorflow_core/contrib/learn/python/learn/datasets/mnist.py:290: DataSet.__init__ (from tensorflow.contrib.learn.python.learn.datasets.mnist) is deprecated and will be removed in a future version.\n",
            "Instructions for updating:\n",
            "Please use alternatives such as official/mnist/dataset.py from tensorflow/models.\n"
          ],
          "name": "stdout"
        }
      ]
    },
    {
      "cell_type": "markdown",
      "metadata": {
        "id": "mv0lNmHnKcKE",
        "colab_type": "text"
      },
      "source": [
        "**Import Libraries**"
      ]
    },
    {
      "cell_type": "code",
      "metadata": {
        "colab_type": "code",
        "id": "O-YAzqfwKPwV",
        "colab": {}
      },
      "source": [
        "import tensorflow as tf\n",
        "import matplotlib.pyplot as  plt\n"
      ],
      "execution_count": 0,
      "outputs": []
    },
    {
      "cell_type": "markdown",
      "metadata": {
        "id": "d7KJn1RkKm8U",
        "colab_type": "text"
      },
      "source": [
        "**Parameters**"
      ]
    },
    {
      "cell_type": "code",
      "metadata": {
        "id": "aH7IFWgfKJ6N",
        "colab_type": "code",
        "colab": {}
      },
      "source": [
        "# Parameters\n",
        "learning_rate = 0.001\n",
        "training_epochs = 15\n",
        "batch_size = 100\n",
        "display_step = 1"
      ],
      "execution_count": 0,
      "outputs": []
    },
    {
      "cell_type": "markdown",
      "metadata": {
        "id": "AMym0nfYLJXc",
        "colab_type": "text"
      },
      "source": [
        "**Network Parameters**"
      ]
    },
    {
      "cell_type": "code",
      "metadata": {
        "id": "ZQHoVi0SLJe_",
        "colab_type": "code",
        "colab": {}
      },
      "source": [
        "\n",
        "n_hidden_1 = 256 # 1st layer number of features\n",
        "n_hidden_2 = 256 # 2nd layer number of features\n",
        "n_input = 784 # MNIST data input (img shape: 28*28)\n",
        "n_classes = 10 # MNIST total classes (0-9 digits)"
      ],
      "execution_count": 0,
      "outputs": []
    },
    {
      "cell_type": "markdown",
      "metadata": {
        "id": "urUo-TX0LF-e",
        "colab_type": "text"
      },
      "source": [
        "**tf Graph input**"
      ]
    },
    {
      "cell_type": "code",
      "metadata": {
        "id": "S5si0rR8LKI8",
        "colab_type": "code",
        "colab": {}
      },
      "source": [
        "\n",
        "x = tf.placeholder(\"float\", [None, n_input])\n",
        "y = tf.placeholder(\"float\", [None, n_classes])\n"
      ],
      "execution_count": 0,
      "outputs": []
    },
    {
      "cell_type": "markdown",
      "metadata": {
        "id": "koZnjSP2LJpu",
        "colab_type": "text"
      },
      "source": [
        "**Create model**"
      ]
    },
    {
      "cell_type": "code",
      "metadata": {
        "id": "TIX7pMRWLKdW",
        "colab_type": "code",
        "colab": {}
      },
      "source": [
        "\n",
        "def multilayer_perceptron(x, weights, biases):\n",
        "    # Hidden layer with RELU activation\n",
        "    layer_1 = tf.add(tf.matmul(x, weights['h1']), biases['b1'])\n",
        "    layer_1 = tf.nn.relu(layer_1)\n",
        "    # Hidden layer with RELU activation\n",
        "    layer_2 = tf.add(tf.matmul(layer_1, weights['h2']), biases['b2'])\n",
        "    layer_2 = tf.nn.relu(layer_2)\n",
        "    # Output layer with linear activation\n",
        "    out_layer = tf.matmul(layer_2, weights['out']) + biases['out']\n",
        "    return out_layer"
      ],
      "execution_count": 0,
      "outputs": []
    },
    {
      "cell_type": "markdown",
      "metadata": {
        "colab_type": "text",
        "id": "SbW-fsRqLpZZ"
      },
      "source": [
        "**Store layers weight & bias**"
      ]
    },
    {
      "cell_type": "code",
      "metadata": {
        "id": "kEiz7TZuLKv8",
        "colab_type": "code",
        "colab": {}
      },
      "source": [
        "\n",
        "\n",
        "weights = {\n",
        "    'h1': tf.Variable(tf.random_normal([n_input, n_hidden_1])),\n",
        "    'h2': tf.Variable(tf.random_normal([n_hidden_1, n_hidden_2])),\n",
        "    'out': tf.Variable(tf.random_normal([n_hidden_2, n_classes]))\n",
        "}\n",
        "biases = {\n",
        "    'b1': tf.Variable(tf.random_normal([n_hidden_1])),\n",
        "    'b2': tf.Variable(tf.random_normal([n_hidden_2])),\n",
        "    'out': tf.Variable(tf.random_normal([n_classes]))\n",
        "}"
      ],
      "execution_count": 0,
      "outputs": []
    },
    {
      "cell_type": "markdown",
      "metadata": {
        "id": "7KFRROjpLKms",
        "colab_type": "text"
      },
      "source": [
        "**Construct model**"
      ]
    },
    {
      "cell_type": "code",
      "metadata": {
        "id": "Km9flgutMYdk",
        "colab_type": "code",
        "colab": {}
      },
      "source": [
        "\n",
        "pred = multilayer_perceptron(x, weights, biases)"
      ],
      "execution_count": 0,
      "outputs": []
    },
    {
      "cell_type": "markdown",
      "metadata": {
        "id": "89t7GzXmMoIF",
        "colab_type": "text"
      },
      "source": [
        "**Define loss and optimizer**"
      ]
    },
    {
      "cell_type": "code",
      "metadata": {
        "id": "RPNjP6lUMWoe",
        "colab_type": "code",
        "outputId": "21ae76a0-73e8-4651-8f94-4f6d122befda",
        "colab": {
          "base_uri": "https://localhost:8080/",
          "height": 173
        }
      },
      "source": [
        "\n",
        "cost = tf.reduce_mean(tf.nn.softmax_cross_entropy_with_logits(logits=pred, labels=y))\n",
        "optimizer = tf.train.AdamOptimizer(learning_rate=learning_rate).minimize(cost)"
      ],
      "execution_count": 0,
      "outputs": [
        {
          "output_type": "stream",
          "text": [
            "WARNING:tensorflow:From <ipython-input-10-7671deffe5f4>:2: softmax_cross_entropy_with_logits (from tensorflow.python.ops.nn_ops) is deprecated and will be removed in a future version.\n",
            "Instructions for updating:\n",
            "\n",
            "Future major versions of TensorFlow will allow gradients to flow\n",
            "into the labels input on backprop by default.\n",
            "\n",
            "See `tf.nn.softmax_cross_entropy_with_logits_v2`.\n",
            "\n"
          ],
          "name": "stdout"
        }
      ]
    },
    {
      "cell_type": "markdown",
      "metadata": {
        "id": "WC4ToGaHM4bI",
        "colab_type": "text"
      },
      "source": [
        "**Initializing the variables**"
      ]
    },
    {
      "cell_type": "code",
      "metadata": {
        "id": "GvmDSXdeM3IU",
        "colab_type": "code",
        "colab": {}
      },
      "source": [
        "\n",
        "init = tf.global_variables_initializer()"
      ],
      "execution_count": 0,
      "outputs": []
    },
    {
      "cell_type": "markdown",
      "metadata": {
        "id": "UIBT_XMJNDxG",
        "colab_type": "text"
      },
      "source": [
        "**Create an empty list to store the cost history and accuracy history**"
      ]
    },
    {
      "cell_type": "code",
      "metadata": {
        "id": "I6_Ry7JuNDKM",
        "colab_type": "code",
        "colab": {}
      },
      "source": [
        "\n",
        "cost_history = []\n",
        "accuracy_history = []"
      ],
      "execution_count": 0,
      "outputs": []
    },
    {
      "cell_type": "markdown",
      "metadata": {
        "id": "Elh6zCsSNLBP",
        "colab_type": "text"
      },
      "source": [
        "**Launch the graph**"
      ]
    },
    {
      "cell_type": "code",
      "metadata": {
        "id": "1ZV5s2rfNLxh",
        "colab_type": "code",
        "outputId": "8c22e15a-c1be-49d1-d6fc-7915e2c9b669",
        "colab": {
          "base_uri": "https://localhost:8080/",
          "height": 802
        }
      },
      "source": [
        "with tf.Session() as sess:\n",
        "    sess.run(init) \n",
        " # Training cycle\n",
        "    for epoch in range(training_epochs):\n",
        "        avg_cost = 0.\n",
        "        total_batch = int(mnist.train.num_examples/batch_size)\n",
        "        # Loop over all batches\n",
        "        for i in range(total_batch):\n",
        "            batch_x, batch_y = mnist.train.next_batch(batch_size)\n",
        "\n",
        "            # Run optimization op (backprop) and cost op (to get loss value)\n",
        "            _, c = sess.run([optimizer, cost], feed_dict={x: batch_x,y: batch_y})\n",
        "            # Compute average loss\n",
        "            avg_cost += c / total_batch\n",
        "        # Display logs per epoch step\n",
        "        if epoch % display_step == 0:\n",
        "\n",
        "            correct_prediction = tf.equal(tf.argmax(pred, 1), tf.argmax(y, 1))\n",
        "            # Calculate accuracy\n",
        "            accuracy = tf.reduce_mean(tf.cast(correct_prediction, \"float\"))\n",
        "            acu_temp = accuracy.eval({x: mnist.test.images, y: mnist.test.labels})\n",
        "            #append the accuracy to the list\n",
        "            accuracy_history.append(acu_temp)\n",
        "            #append the cost history\n",
        "            cost_history.append(avg_cost)\n",
        "            print(\"Epoch:\", '%04d' % (epoch + 1), \"- cost=\", \"{:.9f}\".format(avg_cost), \"- Accuracy=\",acu_temp)\n",
        "\n",
        "\n",
        "    print(\"Optimization Finished!\")\n",
        "    #plot the cost history\n",
        "    plt.plot(cost_history)\n",
        "    plt.show()\n",
        "    #plot the accuracy history\n",
        "    plt.plot(accuracy_history)\n",
        "    plt.show()\n",
        "    # Test model\n",
        "    correct_prediction = tf.equal(tf.argmax(pred, 1), tf.argmax(y, 1))\n",
        "    # Calculate accuracy\n",
        "    accuracy = tf.reduce_mean(tf.cast(correct_prediction, \"float\"))\n",
        "    print(\"Accuracy:\", accuracy.eval({x: mnist.test.images, y: mnist.test.labels}))"
      ],
      "execution_count": 0,
      "outputs": [
        {
          "output_type": "stream",
          "text": [
            "Epoch: 0001 - cost= 164.270959788 - Accuracy= 0.8551\n",
            "Epoch: 0002 - cost= 39.560335751 - Accuracy= 0.8927\n",
            "Epoch: 0003 - cost= 24.742870838 - Accuracy= 0.9098\n",
            "Epoch: 0004 - cost= 17.221716094 - Accuracy= 0.9213\n",
            "Epoch: 0005 - cost= 12.541566000 - Accuracy= 0.9234\n",
            "Epoch: 0006 - cost= 9.314079774 - Accuracy= 0.9255\n",
            "Epoch: 0007 - cost= 7.089744009 - Accuracy= 0.931\n",
            "Epoch: 0008 - cost= 5.449201601 - Accuracy= 0.9353\n",
            "Epoch: 0009 - cost= 4.069390780 - Accuracy= 0.9368\n",
            "Epoch: 0010 - cost= 2.917721853 - Accuracy= 0.9412\n",
            "Epoch: 0011 - cost= 2.314672520 - Accuracy= 0.9401\n",
            "Epoch: 0012 - cost= 1.650217502 - Accuracy= 0.942\n",
            "Epoch: 0013 - cost= 1.334398970 - Accuracy= 0.9411\n",
            "Epoch: 0014 - cost= 1.093381639 - Accuracy= 0.9438\n",
            "Epoch: 0015 - cost= 0.835553241 - Accuracy= 0.944\n",
            "Optimization Finished!\n"
          ],
          "name": "stdout"
        },
        {
          "output_type": "display_data",
          "data": {
            "image/png": "[encoded data removed]",
            "text/plain": [
              "<Figure size 432x288 with 1 Axes>"
            ]
          },
          "metadata": {
            "tags": []
          }
        },
        {
          "output_type": "display_data",
          "data": {
            "image/png": "[encoded data removed]",
            "text/plain": [
              "<Figure size 432x288 with 1 Axes>"
            ]
          },
          "metadata": {
            "tags": []
          }
        },
        {
          "output_type": "stream",
          "text": [
            "Accuracy: 0.944\n"
          ],
          "name": "stdout"
        }
      ]
    }
  ]
}