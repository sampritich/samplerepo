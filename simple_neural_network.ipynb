{
  "nbformat": 4,
  "nbformat_minor": 0,
  "metadata": {
    "colab": {
      "name": "Untitled6.ipynb",
      "provenance": [],
      "include_colab_link": true
    },
    "kernelspec": {
      "name": "python3",
      "display_name": "Python 3"
    }
  },
  "cells": [
    {
      "cell_type": "markdown",
      "metadata": {
        "id": "view-in-github",
        "colab_type": "text"
      },
      "source": [
        "<a href=\"https://colab.research.google.com/github/sampritich/samplerepo/blob/master/simple_neural_network.ipynb\" target=\"_parent\"><img src=\"https://colab.research.google.com/assets/colab-badge.svg\" alt=\"Open In Colab\"/></a>"
      ]
    },
    {
      "cell_type": "code",
      "metadata": {
        "id": "aBocz-MwE05-",
        "colab_type": "code",
        "colab": {}
      },
      "source": [
        "import tensorflow as tf\n",
        "import numpy as np\n"
      ],
      "execution_count": 0,
      "outputs": []
    },
    {
      "cell_type": "code",
      "metadata": {
        "id": "SwBi-P5FE_xE",
        "colab_type": "code",
        "colab": {}
      },
      "source": [
        "a= tf.placeholder(tf.float32)\n",
        "\n",
        "\n",
        "b= tf.placeholder(tf.float32)\n",
        "\n",
        "\n",
        "\n",
        "random_a = np.random.uniform(0,100,(5,5))\n",
        "\n",
        "random_b = np.random.uniform(0,100,(5,5))\n",
        "\n"
      ],
      "execution_count": 0,
      "outputs": []
    },
    {
      "cell_type": "code",
      "metadata": {
        "id": "PEArV7Z7GLoR",
        "colab_type": "code",
        "colab": {}
      },
      "source": [
        "add = a+b\n",
        "\n",
        "\n",
        "mul = a*b"
      ],
      "execution_count": 0,
      "outputs": []
    },
    {
      "cell_type": "code",
      "metadata": {
        "id": "fqud5rICGQMO",
        "colab_type": "code",
        "colab": {
          "base_uri": "https://localhost:8080/",
          "height": 102
        },
        "outputId": "ef088a91-79e1-4667-dd8c-2b4ea08b320e"
      },
      "source": [
        "sess= tf.Session()\n",
        "\n",
        "result=sess.run(add,feed_dict={a:random_a,b:random_b})\n",
        "print(result)"
      ],
      "execution_count": 16,
      "outputs": [
        {
          "output_type": "stream",
          "text": [
            "[[ 67.172195 129.11264  108.67355   14.593181  20.939785]\n",
            " [159.21497   98.60312   46.32036  169.13158  177.66977 ]\n",
            " [ 62.904793 157.05739   82.55745   17.416138 125.61427 ]\n",
            " [123.529305  56.95148  166.51627  163.19727  130.04312 ]\n",
            " [ 53.09423  166.58612   38.336304  75.16363  111.462425]]\n"
          ],
          "name": "stdout"
        }
      ]
    },
    {
      "cell_type": "code",
      "metadata": {
        "id": "-EC-4YY6G8j1",
        "colab_type": "code",
        "colab": {}
      },
      "source": [
        "n_features = 10\n",
        "\n",
        "n_dense_neurons=3"
      ],
      "execution_count": 0,
      "outputs": []
    },
    {
      "cell_type": "code",
      "metadata": {
        "id": "OBfaQftyG8pn",
        "colab_type": "code",
        "colab": {}
      },
      "source": [
        "x=tf.placeholder(tf.float32,(None,n_features))\n",
        "\n",
        "\n",
        "w= tf.Variable(tf.random_normal([n_features,n_dense_neurons]))\n",
        "\n",
        "\n",
        "b= tf.Variable(tf.ones([n_dense_neurons]))"
      ],
      "execution_count": 0,
      "outputs": []
    },
    {
      "cell_type": "code",
      "metadata": {
        "id": "fiND-q2RG8si",
        "colab_type": "code",
        "colab": {}
      },
      "source": [
        "xW=tf.matmul(x,w)\n",
        "\n",
        "\n",
        "z=tf.add(xW,b)"
      ],
      "execution_count": 0,
      "outputs": []
    },
    {
      "cell_type": "code",
      "metadata": {
        "id": "0rJ9ivk7G8vt",
        "colab_type": "code",
        "colab": {}
      },
      "source": [
        "a=tf.nn.relu(z)"
      ],
      "execution_count": 0,
      "outputs": []
    },
    {
      "cell_type": "code",
      "metadata": {
        "id": "_65zdKHKG8y1",
        "colab_type": "code",
        "colab": {
          "base_uri": "https://localhost:8080/",
          "height": 34
        },
        "outputId": "63639e5c-0b51-410b-8410-077a9dafa2e9"
      },
      "source": [
        "init = tf.global_variables_initializer()\n",
        "\n",
        "sess = tf.Session()\n",
        "\n",
        "sess.run(init)\n",
        "\n",
        "\n",
        "layer_out=sess.run(a,feed_dict={x:np.random.random([1,n_features])})\n",
        "\n",
        "print(layer_out)"
      ],
      "execution_count": 29,
      "outputs": [
        {
          "output_type": "stream",
          "text": [
            "[[2.0415573 0.        4.3385577]]\n"
          ],
          "name": "stdout"
        }
      ]
    },
    {
      "cell_type": "code",
      "metadata": {
        "id": "cprDmu-iG816",
        "colab_type": "code",
        "colab": {}
      },
      "source": [
        ""
      ],
      "execution_count": 0,
      "outputs": []
    },
    {
      "cell_type": "code",
      "metadata": {
        "id": "Hodx0ZeaG86N",
        "colab_type": "code",
        "colab": {}
      },
      "source": [
        ""
      ],
      "execution_count": 0,
      "outputs": []
    },
    {
      "cell_type": "code",
      "metadata": {
        "id": "nPiVjkCnG89E",
        "colab_type": "code",
        "colab": {}
      },
      "source": [
        ""
      ],
      "execution_count": 0,
      "outputs": []
    },
    {
      "cell_type": "code",
      "metadata": {
        "id": "d8pbJZkRG9AA",
        "colab_type": "code",
        "colab": {}
      },
      "source": [
        ""
      ],
      "execution_count": 0,
      "outputs": []
    },
    {
      "cell_type": "code",
      "metadata": {
        "id": "1siLXbQbG84q",
        "colab_type": "code",
        "colab": {}
      },
      "source": [
        ""
      ],
      "execution_count": 0,
      "outputs": []
    },
    {
      "cell_type": "code",
      "metadata": {
        "id": "j3V72NkKG8nL",
        "colab_type": "code",
        "colab": {}
      },
      "source": [
        ""
      ],
      "execution_count": 0,
      "outputs": []
    }
  ]
}