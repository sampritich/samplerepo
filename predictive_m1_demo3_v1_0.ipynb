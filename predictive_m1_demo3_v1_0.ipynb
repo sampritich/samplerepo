{
  "nbformat": 4,
  "nbformat_minor": 0,
  "metadata": {
    "kernelspec": {
      "display_name": "Python 3",
      "language": "python",
      "name": "python3"
    },
    "language_info": {
      "codemirror_mode": {
        "name": "ipython",
        "version": 3
      },
      "file_extension": ".py",
      "mimetype": "text/x-python",
      "name": "python",
      "nbconvert_exporter": "python",
      "pygments_lexer": "ipython3",
      "version": "3.6.7"
    },
    "colab": {
      "name": "827_m1_demo3_v1.0.ipynb",
      "provenance": [],
      "collapsed_sections": [],
      "include_colab_link": true
    }
  },
  "cells": [
    {
      "cell_type": "markdown",
      "metadata": {
        "id": "view-in-github",
        "colab_type": "text"
      },
      "source": [
        "<a href=\"https://colab.research.google.com/github/sampritich/samplerepo/blob/master/predictive_m1_demo3_v1_0.ipynb\" target=\"_parent\"><img src=\"https://colab.research.google.com/assets/colab-badge.svg\" alt=\"Open In Colab\"/></a>"
      ]
    },
    {
      "cell_type": "markdown",
      "metadata": {
        "id": "eX2COVUB5Fpq",
        "colab_type": "text"
      },
      "source": [
        "# Predictive Analytics\n",
        "# Module 1 - Statistical Foundations\n",
        "## Demo 3 - Measures of Spread"
      ]
    },
    {
      "cell_type": "markdown",
      "metadata": {
        "id": "i20YTM4H5Fpv",
        "colab_type": "text"
      },
      "source": [
        "### Use-Case: Predict Future Sales"
      ]
    },
    {
      "cell_type": "markdown",
      "metadata": {
        "id": "w1IanX5J5Fpz",
        "colab_type": "text"
      },
      "source": [
        "### Load Data"
      ]
    },
    {
      "cell_type": "code",
      "metadata": {
        "id": "JeTzBCEH5Fp4",
        "colab_type": "code",
        "colab": {}
      },
      "source": [
        "import pandas as pd"
      ],
      "execution_count": 0,
      "outputs": []
    },
    {
      "cell_type": "code",
      "metadata": {
        "id": "Bci_14UH5LBW",
        "colab_type": "code",
        "colab": {
          "base_uri": "https://localhost:8080/",
          "height": 474
        },
        "outputId": "81fab3d7-da1a-4985-876e-22cdb694296d"
      },
      "source": [
        "!wget https://www.dropbox.com/s/m49xi2l7zm2ppqk/InputDataFiles.zip"
      ],
      "execution_count": 2,
      "outputs": [
        {
          "output_type": "stream",
          "text": [
            "--2019-12-21 09:58:26--  https://www.dropbox.com/s/m49xi2l7zm2ppqk/InputDataFiles.zip\n",
            "Resolving www.dropbox.com (www.dropbox.com)... 162.125.65.1, 2620:100:6021:1::a27d:4101\n",
            "Connecting to www.dropbox.com (www.dropbox.com)|162.125.65.1|:443... connected.\n",
            "HTTP request sent, awaiting response... 301 Moved Permanently\n",
            "Location: /s/raw/m49xi2l7zm2ppqk/InputDataFiles.zip [following]\n",
            "--2019-12-21 09:58:27--  https://www.dropbox.com/s/raw/m49xi2l7zm2ppqk/InputDataFiles.zip\n",
            "Reusing existing connection to www.dropbox.com:443.\n",
            "HTTP request sent, awaiting response... 302 Found\n",
            "Location: https://uc494f98b64bde1f9a9d9641103d.dl.dropboxusercontent.com/cd/0/inline/Auojpdj1ckTbQsNFAoa-X7xtaAhZPae-D-o9oANaKWOGU8Le62fzQYWKTWv_3JdMM2Azs0JfOvApI8LOCJnSfAJYXd9YwbOwk6xJN_t-hUVnDV8rFgkF6cz4mIhlf1vfRnY/file# [following]\n",
            "--2019-12-21 09:58:27--  https://uc494f98b64bde1f9a9d9641103d.dl.dropboxusercontent.com/cd/0/inline/Auojpdj1ckTbQsNFAoa-X7xtaAhZPae-D-o9oANaKWOGU8Le62fzQYWKTWv_3JdMM2Azs0JfOvApI8LOCJnSfAJYXd9YwbOwk6xJN_t-hUVnDV8rFgkF6cz4mIhlf1vfRnY/file\n",
            "Resolving uc494f98b64bde1f9a9d9641103d.dl.dropboxusercontent.com (uc494f98b64bde1f9a9d9641103d.dl.dropboxusercontent.com)... 162.125.65.6, 2620:100:6021:6::a27d:4106\n",
            "Connecting to uc494f98b64bde1f9a9d9641103d.dl.dropboxusercontent.com (uc494f98b64bde1f9a9d9641103d.dl.dropboxusercontent.com)|162.125.65.6|:443... connected.\n",
            "HTTP request sent, awaiting response... 302 FOUND\n",
            "Location: /cd/0/inline2/Aupr_KCcmsKrJeKIgHtubeEI4R5KExUdQl6Xj0DGF8lDdvUH1SFIY0zCOiOezW0B3WYn2aMBbxRkVdxhbMArSnQmhwPl3NlEiu6MdvHinrysBb214qudggC-fPPnXkkhc3T-F_FWo7qgn6YB8i3Iqn7DsVupHtSOJyypihzHaazqV1b5QvHNZXHAKPzh7o7sTt22z4Q39vh0e1PNLgZQ7Aog6ix6LL6L1EdJHqSNY6-mfvgDI5agUbaI9Jo0PY5LbBXLRg1Pef8uF47JzJpZpfRFhvSfgXGaAL017336VzU-V0DgdgEhXPGSsHBS_zpgN0YNifPnoC1DycrlZreneJF9UbsMFEn3MtTxVXN3H6sKVw/file [following]\n",
            "--2019-12-21 09:58:27--  https://uc494f98b64bde1f9a9d9641103d.dl.dropboxusercontent.com/cd/0/inline2/Aupr_KCcmsKrJeKIgHtubeEI4R5KExUdQl6Xj0DGF8lDdvUH1SFIY0zCOiOezW0B3WYn2aMBbxRkVdxhbMArSnQmhwPl3NlEiu6MdvHinrysBb214qudggC-fPPnXkkhc3T-F_FWo7qgn6YB8i3Iqn7DsVupHtSOJyypihzHaazqV1b5QvHNZXHAKPzh7o7sTt22z4Q39vh0e1PNLgZQ7Aog6ix6LL6L1EdJHqSNY6-mfvgDI5agUbaI9Jo0PY5LbBXLRg1Pef8uF47JzJpZpfRFhvSfgXGaAL017336VzU-V0DgdgEhXPGSsHBS_zpgN0YNifPnoC1DycrlZreneJF9UbsMFEn3MtTxVXN3H6sKVw/file\n",
            "Reusing existing connection to uc494f98b64bde1f9a9d9641103d.dl.dropboxusercontent.com:443.\n",
            "HTTP request sent, awaiting response... 200 OK\n",
            "Length: 5048351 (4.8M) [application/zip]\n",
            "Saving to: ‘InputDataFiles.zip’\n",
            "\n",
            "InputDataFiles.zip  100%[===================>]   4.81M  12.4MB/s    in 0.4s    \n",
            "\n",
            "2019-12-21 09:58:28 (12.4 MB/s) - ‘InputDataFiles.zip’ saved [5048351/5048351]\n",
            "\n"
          ],
          "name": "stdout"
        }
      ]
    },
    {
      "cell_type": "code",
      "metadata": {
        "id": "YMDFCdQo5Red",
        "colab_type": "code",
        "colab": {
          "base_uri": "https://localhost:8080/",
          "height": 145
        },
        "outputId": "acf7b3bf-8b3f-4fc0-849e-31962307dfc6"
      },
      "source": [
        "!unzip InputDataFiles.zip"
      ],
      "execution_count": 3,
      "outputs": [
        {
          "output_type": "stream",
          "text": [
            "Archive:  InputDataFiles.zip\n",
            "   creating: InputDataFiles/\n",
            "  inflating: InputDataFiles/items.csv  \n",
            "  inflating: InputDataFiles/item_categories.csv  \n",
            "  inflating: InputDataFiles/sales_train.csv  \n",
            "  inflating: InputDataFiles/shops.csv  \n",
            "  inflating: InputDataFiles/Supermarket.csv  \n"
          ],
          "name": "stdout"
        }
      ]
    },
    {
      "cell_type": "code",
      "metadata": {
        "id": "w4q8Waz25FqC",
        "colab_type": "code",
        "colab": {}
      },
      "source": [
        "train = pd.read_csv(\"/content/InputDataFiles/sales_train.csv\")"
      ],
      "execution_count": 0,
      "outputs": []
    },
    {
      "cell_type": "markdown",
      "metadata": {
        "id": "PhwTWd3R5FqI",
        "colab_type": "text"
      },
      "source": [
        "### Calculate Measures of Spread"
      ]
    },
    {
      "cell_type": "markdown",
      "metadata": {
        "id": "_1BTF-qT5FqK",
        "colab_type": "text"
      },
      "source": [
        "### Range"
      ]
    },
    {
      "cell_type": "code",
      "metadata": {
        "id": "eOVZh_Wk5FqN",
        "colab_type": "code",
        "colab": {
          "base_uri": "https://localhost:8080/",
          "height": 110
        },
        "outputId": "2d3ff5dd-bd1c-4071-8d8d-a930e4977d51"
      },
      "source": [
        "import numpy as np\n",
        "print(\"Range for item_price:\",np.ptp(train.item_price, axis=0))\n",
        "print(\"Range for item_cnt_day:\",np.ptp(train.item_cnt_day, axis=0))"
      ],
      "execution_count": 5,
      "outputs": [
        {
          "output_type": "stream",
          "text": [
            "Range for item_price: 59201.0\n",
            "Range for item_cnt_day: 294\n"
          ],
          "name": "stdout"
        },
        {
          "output_type": "stream",
          "text": [
            "/usr/local/lib/python3.6/dist-packages/numpy/core/fromnumeric.py:2495: FutureWarning: Method .ptp is deprecated and will be removed in a future version. Use numpy.ptp instead.\n",
            "  return ptp(axis=axis, out=out, **kwargs)\n"
          ],
          "name": "stderr"
        }
      ]
    },
    {
      "cell_type": "markdown",
      "metadata": {
        "id": "x3LJqYIF5FqT",
        "colab_type": "text"
      },
      "source": [
        "### Interquartile Range"
      ]
    },
    {
      "cell_type": "code",
      "metadata": {
        "id": "r9uQ7Th05FqU",
        "colab_type": "code",
        "colab": {},
        "outputId": "54d55cb8-6d4d-4e8f-a875-f811d1799dec"
      },
      "source": [
        "from scipy.stats import iqr\n",
        "iqr(train[['item_price','item_cnt_day']],axis=0, interpolation='lower')"
      ],
      "execution_count": 0,
      "outputs": [
        {
          "output_type": "execute_result",
          "data": {
            "text/plain": [
              "array([750.,   0.])"
            ]
          },
          "metadata": {
            "tags": []
          },
          "execution_count": 4
        }
      ]
    },
    {
      "cell_type": "markdown",
      "metadata": {
        "id": "UG-FoK1R5FqZ",
        "colab_type": "text"
      },
      "source": [
        "### Standard Deviation"
      ]
    },
    {
      "cell_type": "code",
      "metadata": {
        "id": "BPm6KQec5Fqa",
        "colab_type": "code",
        "colab": {
          "base_uri": "https://localhost:8080/",
          "height": 72
        },
        "outputId": "77a1e0ff-b2e1-467c-8b57-fa6dd1c6fc3d"
      },
      "source": [
        "np.std(train[['item_price','item_cnt_day']], axis=0)"
      ],
      "execution_count": 6,
      "outputs": [
        {
          "output_type": "execute_result",
          "data": {
            "text/plain": [
              "item_price      1124.828469\n",
              "item_cnt_day       1.600202\n",
              "dtype: float64"
            ]
          },
          "metadata": {
            "tags": []
          },
          "execution_count": 6
        }
      ]
    },
    {
      "cell_type": "markdown",
      "metadata": {
        "id": "NkFDkzoi5Fqd",
        "colab_type": "text"
      },
      "source": [
        "### Variance"
      ]
    },
    {
      "cell_type": "code",
      "metadata": {
        "id": "TGOEE4YV5Fqe",
        "colab_type": "code",
        "colab": {},
        "outputId": "23bd96fd-b059-4ab0-a31e-ec219e13d8d3"
      },
      "source": [
        "np.var(train[['item_price','item_cnt_day']], axis=0)"
      ],
      "execution_count": 0,
      "outputs": [
        {
          "output_type": "execute_result",
          "data": {
            "text/plain": [
              "item_price      2.992206e+06\n",
              "item_cnt_day    6.858291e+00\n",
              "dtype: float64"
            ]
          },
          "metadata": {
            "tags": []
          },
          "execution_count": 6
        }
      ]
    },
    {
      "cell_type": "markdown",
      "metadata": {
        "id": "mcD0Zfvm5Fqh",
        "colab_type": "text"
      },
      "source": [
        "### Kurtosis\n",
        "scipy.stats.kurtosis(array, axis=0, fisher=True, bias=True) function calculates the kurtosis (Fisher or Pearson) of a data set. It is the the fourth central moment divided by the square of the variance. It is a measure of the “tailedness” i.e. descriptor of shape of probability distribution of a real-valued random variable. In simple terms, one can say it is a measure of how heavy tail is compared to a normal distribution.\n",
        "\n",
        "Its formula –\n",
        "![alt text](https://media.geeksforgeeks.org/wp-content/uploads/kurtosis.jpg)\n",
        "\n",
        "Parameters :\n",
        "array : Input array or object having the elements.br>\n",
        "axis : Axis along which the kurtosis value is to be measured. By default axis = 0.<br>\n",
        "fisher : Bool; Fisher’s definition is used (normal 0.0) if True;<br> else Pearson’s definition is used (normal 3.0) if set to False.<br>\n",
        "bias : Bool; calculations are corrected for statistical bias, if set to False.\n",
        "\n",
        "\n",
        "Returns : Kurtosis value of the normal distribution for the data set.\n",
        "\n"
      ]
    },
    {
      "cell_type": "code",
      "metadata": {
        "id": "ci2rXPQa9Dfd",
        "colab_type": "code",
        "colab": {
          "base_uri": "https://localhost:8080/",
          "height": 374
        },
        "outputId": "f3b26852-717b-4833-ef0a-858c94c35123"
      },
      "source": [
        "# Graph using numpy.linspace()  \n",
        "# finding kurtosis \n",
        "  \n",
        "from scipy.stats import kurtosis \n",
        "import numpy as np  \n",
        "import pylab as p  \n",
        "  \n",
        "x1 = np.linspace( -5, 5, 1000 ) \n",
        "y1 = 1./(np.sqrt(2.*np.pi)) * np.exp( -.5*(x1)**2  ) \n",
        "  \n",
        "p.plot(x1, y1, '*') \n",
        "  \n",
        "  \n",
        "print( '\\nKurtosis for normal distribution :', kurtosis(y1)) \n",
        "  \n",
        "print( '\\nKurtosis for normal distribution :',  \n",
        "      kurtosis(y1, fisher = False)) \n",
        "  \n",
        "print( '\\nKurtosis for normal distribution :',  \n",
        "      kurtosis(y1, fisher = True)) "
      ],
      "execution_count": 11,
      "outputs": [
        {
          "output_type": "stream",
          "text": [
            "\n",
            "Kurtosis for normal distribution : -0.3073930877422071\n",
            "\n",
            "Kurtosis for normal distribution : 2.692606912257793\n",
            "\n",
            "Kurtosis for normal distribution : -0.3073930877422071\n"
          ],
          "name": "stdout"
        },
        {
          "output_type": "display_data",
          "data": {
            "image/png": "[encoded data removed]",
            "text/plain": [
              "<Figure size 432x288 with 1 Axes>"
            ]
          },
          "metadata": {
            "tags": []
          }
        }
      ]
    },
    {
      "cell_type": "code",
      "metadata": {
        "id": "J9t06ymk5Fqi",
        "colab_type": "code",
        "colab": {},
        "outputId": "0c5db5e3-e56f-420e-8b87-9632918a2ca7"
      },
      "source": [
        "from scipy.stats import kurtosis\n",
        "print(\"Pearson kurtosis:\", kurtosis(train[['item_price','item_cnt_day']], fisher=False))\n",
        "print(\"Fisher's kurtosis:\", kurtosis(train[['item_price','item_cnt_day']], fisher=True))"
      ],
      "execution_count": 0,
      "outputs": [
        {
          "output_type": "stream",
          "text": [
            "Pearson kurtosis: [   448.53206501 177480.79651154]\n",
            "Fisher's kurtosis: [   445.53206501 177477.79651154]\n"
          ],
          "name": "stdout"
        }
      ]
    },
    {
      "cell_type": "markdown",
      "metadata": {
        "id": "px7GFp385Fqn",
        "colab_type": "text"
      },
      "source": [
        "### Skew\n",
        "skewness = 0 : normally distributed.\n",
        "skewness > 0 : more weight in the left tail of the distribution.\n",
        "skewness < 0 : more weight in the right tail of the distribution."
      ]
    },
    {
      "cell_type": "code",
      "metadata": {
        "id": "v6rj6ro35Fqo",
        "colab_type": "code",
        "colab": {
          "base_uri": "https://localhost:8080/",
          "height": 284
        },
        "outputId": "9c065d4a-435d-4675-ed6d-a1a650d62c0b"
      },
      "source": [
        "from scipy.stats import skew\n",
        "from scipy.stats import skew \n",
        "import numpy as np  \n",
        "import pylab as p \n",
        "\n",
        "a=skew(train[['item_price']], axis=0)\n",
        "p.plot(a)"
      ],
      "execution_count": 12,
      "outputs": [
        {
          "output_type": "execute_result",
          "data": {
            "text/plain": [
              "[<matplotlib.lines.Line2D at 0x7fc08f3930b8>]"
            ]
          },
          "metadata": {
            "tags": []
          },
          "execution_count": 12
        },
        {
          "output_type": "display_data",
          "data": {
            "image/png": "[encoded data removed]",
            "text/plain": [
              "<Figure size 432x288 with 1 Axes>"
            ]
          },
          "metadata": {
            "tags": []
          }
        }
      ]
    },
    {
      "cell_type": "code",
      "metadata": {
        "id": "4_I1PFYe7c18",
        "colab_type": "code",
        "colab": {
          "base_uri": "https://localhost:8080/",
          "height": 35
        },
        "outputId": "1d1a506c-26d0-4e85-8c7c-e02054c7beb3"
      },
      "source": [
        "skew(train[['item_price']], axis=0)"
      ],
      "execution_count": 13,
      "outputs": [
        {
          "output_type": "execute_result",
          "data": {
            "text/plain": [
              "array([7.7545186])"
            ]
          },
          "metadata": {
            "tags": []
          },
          "execution_count": 13
        }
      ]
    }
  ]
}