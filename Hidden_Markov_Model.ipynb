{
  "nbformat": 4,
  "nbformat_minor": 0,
  "metadata": {
    "kernelspec": {
      "display_name": "Python 3",
      "language": "python",
      "name": "python3"
    },
    "colab": {
      "name": "Script (1).ipynb",
      "provenance": [],
      "include_colab_link": true
    }
  },
  "cells": [
    {
      "cell_type": "markdown",
      "metadata": {
        "id": "view-in-github",
        "colab_type": "text"
      },
      "source": [
        "<a href=\"https://colab.research.google.com/github/sampritich/samplerepo/blob/master/Hidden_Markov_Model.ipynb\" target=\"_parent\"><img src=\"https://colab.research.google.com/assets/colab-badge.svg\" alt=\"Open In Colab\"/></a>"
      ]
    },
    {
      "cell_type": "markdown",
      "metadata": {
        "id": "0ANIXEtI8ZW0",
        "colab_type": "text"
      },
      "source": [
        "#**Hidden Markov model**\n",
        "<br>\n",
        "This example gives a brief introduction to Markov Model and Hidden Markov model(HMM)\n",
        "\n",
        "In probability theory, a Markov model is a stochastic model used to \n",
        "model randomly changing systems where \n",
        "It is assumed that future states depend only on the current state not on the events that occurred before it. \n",
        "(that is, it assumes the Markov property)\n",
        "Source: https://en.wikipedia.org/wiki/Markov_model\n",
        "\n",
        "\n"
      ]
    },
    {
      "cell_type": "markdown",
      "metadata": {
        "id": "eK50ONoD5e1t",
        "colab_type": "text"
      },
      "source": [
        "#<b> Example: Use case of MARKOV AND HIDDEN MARKOV MODEL</b>\n",
        "<br>\n",
        "<b>Let's get into a simple example.</b>\n",
        "Assume that your kid is having her summer vacation and she usually spends time in** 4 ways (which we call as states)**\n",
        "\n",
        "The 4 ways are:\n",
        " \n",
        "1.   Playing\n",
        "2.   Eating\n",
        "3.   Sleeping\n",
        "4.   Hobying\n",
        "\n",
        "---\n",
        "\n",
        "\n",
        "\n",
        "\n",
        " Assume you want to model the future probability that your kid is in one of these four states given her current state. \n",
        "To do this we need to specify\n",
        " \n",
        "\n",
        "1.   The state space\n",
        "2.   The initial probabilities\n",
        "3.   TThe transition probabilities\n",
        "\n"
      ]
    },
    {
      "cell_type": "markdown",
      "metadata": {
        "id": "_VNRtDv29qme",
        "colab_type": "text"
      },
      "source": [
        "#<b>Import Libaries</b>"
      ]
    },
    {
      "cell_type": "code",
      "metadata": {
        "id": "3Mh_-2D88Trv",
        "colab_type": "code",
        "colab": {}
      },
      "source": [
        "import numpy as np\n",
        "import pandas as pd\n",
        "import networkx as nx\n",
        "import matplotlib.pyplot as plt\n",
        "%matplotlib inline"
      ],
      "execution_count": 0,
      "outputs": []
    },
    {
      "cell_type": "markdown",
      "metadata": {
        "id": "QG7DSwix9xsn",
        "colab_type": "text"
      },
      "source": [
        "<b>Let's say that \n",
        " \n",
        "\n",
        "1.   The initial probabilities of all these states = 0.3\n",
        "2.   Except for hobbying which is 0.1 </b>\n",
        "\n",
        "<br>\n",
        "\n",
        "---\n",
        "\n",
        "\n",
        "#Create state space and initial state probabilities"
      ]
    },
    {
      "cell_type": "code",
      "metadata": {
        "id": "ovGvkhoG8Try",
        "colab_type": "code",
        "outputId": "a4e7e76c-bde2-4892-b5fc-309357242dbd",
        "colab": {
          "base_uri": "https://localhost:8080/",
          "height": 118
        }
      },
      "source": [
        "\n",
        "states = ['playing', 'eating', 'sleeping','hobbying']\n",
        "pi = [0.3, 0.3, 0.3,0.1]\n",
        "state_space = pd.Series(pi, index=states, name='states')\n",
        "print(state_space)\n",
        "print(state_space.sum())"
      ],
      "execution_count": 2,
      "outputs": [
        {
          "output_type": "stream",
          "text": [
            "playing     0.3\n",
            "eating      0.3\n",
            "sleeping    0.3\n",
            "hobbying    0.1\n",
            "Name: states, dtype: float64\n",
            "0.9999999999999999\n"
          ],
          "name": "stdout"
        }
      ]
    },
    {
      "cell_type": "markdown",
      "metadata": {
        "id": "Y4vVHP-o-Bph",
        "colab_type": "text"
      },
      "source": [
        "<b>Transition probability</b> means the probablities of staying in the same state or moving to a different state given the current state\n",
        "\n",
        "\n",
        "1.   Create transition matrix\n",
        "2.   Equals transition probability matrix of changing states given a state\n",
        "3.  Matrix is size (M x M) where M is number of states\n",
        "\n"
      ]
    },
    {
      "cell_type": "code",
      "metadata": {
        "id": "miiUugJA8Tr1",
        "colab_type": "code",
        "outputId": "a52b84ad-27b7-4339-e7db-3ff9bbc8b2e4",
        "colab": {
          "base_uri": "https://localhost:8080/",
          "height": 286
        }
      },
      "source": [
        "\n",
        "\n",
        "t_df = pd.DataFrame(columns=states, index=states)\n",
        "t_df.loc[states[0]] = [0.4, 0.2, 0.2,0.2]\n",
        "t_df.loc[states[1]] = [0.4, 0.4, 0.1,0.1]\n",
        "t_df.loc[states[2]] = [0.4, 0.2, 0.3,0.1]\n",
        "t_df.loc[states[3]] = [0.3, 0.25, .3,0.15]\n",
        "\n",
        "print(t_df)\n",
        "\n",
        "\n"
      ],
      "execution_count": 3,
      "outputs": [
        {
          "output_type": "stream",
          "text": [
            "         playing eating sleeping hobbying\n",
            "playing      0.4    0.2      0.2      0.2\n",
            "eating       0.4    0.4      0.1      0.1\n",
            "sleeping     0.4    0.2      0.3      0.1\n",
            "hobbying     0.3   0.25      0.3     0.15\n",
            "\n",
            " [[0.4 0.2 0.2 0.2]\n",
            " [0.4 0.4 0.1 0.1]\n",
            " [0.4 0.2 0.3 0.1]\n",
            " [0.3 0.25 0.3 0.15]] (4, 4) \n",
            "\n",
            "playing     1.0\n",
            "eating      1.0\n",
            "sleeping    1.0\n",
            "hobbying    1.0\n",
            "dtype: float64\n"
          ],
          "name": "stdout"
        }
      ]
    },
    {
      "cell_type": "code",
      "metadata": {
        "id": "O54WXRi17Fci",
        "colab_type": "code",
        "colab": {
          "base_uri": "https://localhost:8080/",
          "height": 202
        },
        "outputId": "111c8c69-02f8-4469-e8a8-65f4d57b8f3c"
      },
      "source": [
        "q = t_df.values\n",
        "print('\\n', q, q.shape, '\\n')\n",
        "print(t_df.sum(axis=1))\n"
      ],
      "execution_count": 4,
      "outputs": [
        {
          "output_type": "stream",
          "text": [
            "\n",
            " [[0.4 0.2 0.2 0.2]\n",
            " [0.4 0.4 0.1 0.1]\n",
            " [0.4 0.2 0.3 0.1]\n",
            " [0.3 0.25 0.3 0.15]] (4, 4) \n",
            "\n",
            "playing     1.0\n",
            "eating      1.0\n",
            "sleeping    1.0\n",
            "hobbying    1.0\n",
            "dtype: float64\n"
          ],
          "name": "stdout"
        }
      ]
    },
    {
      "cell_type": "markdown",
      "metadata": {
        "id": "fiPRCDpI-Gsr",
        "colab_type": "text"
      },
      "source": [
        "# This matrix helps us in making us understand the probabilities of what your kid will do given her current state. \n",
        "# For example, if her current state is 'playing', there is a 40% chance kid will keep playing, 20% chance of her eating, 20% chance\n",
        "# that she might sleep or there is a 20% chance that she will pursue one of her hobbies.\n",
        "# To better understand these transitional probabilties, let us build a network graph.\n",
        "\n",
        "#Create a function that maps transition probability dataframe \n",
        "#To markov edges and weights\n"
      ]
    },
    {
      "cell_type": "code",
      "metadata": {
        "id": "CFpOp6nO8Tr3",
        "colab_type": "code",
        "outputId": "d3a666c4-6643-4626-d434-61a8672a2102",
        "colab": {}
      },
      "source": [
        "\n",
        "\n",
        "from pprint import pprint \n",
        "\n",
        "# create a function that maps transition probability dataframe \n",
        "# to markov edges and weights\n",
        "\n",
        "def _get_markov_edges(Q):\n",
        "    edges = {}\n",
        "    for col in Q.columns:\n",
        "        for idx in Q.index:\n",
        "            edges[(idx,col)] = Q.loc[idx,col]\n",
        "    return edges\n",
        "\n",
        "edges_wts = _get_markov_edges(t_df)\n",
        "pprint(edges_wts)"
      ],
      "execution_count": 0,
      "outputs": [
        {
          "output_type": "stream",
          "text": [
            "{('eating', 'eating'): 0.4,\n",
            " ('eating', 'hobbying'): 0.1,\n",
            " ('eating', 'playing'): 0.4,\n",
            " ('eating', 'sleeping'): 0.1,\n",
            " ('hobbying', 'eating'): 0.25,\n",
            " ('hobbying', 'hobbying'): 0.15,\n",
            " ('hobbying', 'playing'): 0.3,\n",
            " ('hobbying', 'sleeping'): 0.3,\n",
            " ('playing', 'eating'): 0.2,\n",
            " ('playing', 'hobbying'): 0.2,\n",
            " ('playing', 'playing'): 0.4,\n",
            " ('playing', 'sleeping'): 0.2,\n",
            " ('sleeping', 'eating'): 0.2,\n",
            " ('sleeping', 'hobbying'): 0.1,\n",
            " ('sleeping', 'playing'): 0.4,\n",
            " ('sleeping', 'sleeping'): 0.3}\n"
          ],
          "name": "stdout"
        }
      ]
    },
    {
      "cell_type": "markdown",
      "metadata": {
        "id": "xa9YyLOI-cjz",
        "colab_type": "text"
      },
      "source": [
        "# Let's represent the same in a graphical format\n",
        "\n",
        "#Create graph object"
      ]
    },
    {
      "cell_type": "code",
      "metadata": {
        "id": "htbIr-Z68Tr6",
        "colab_type": "code",
        "outputId": "b2e3b3c0-48a9-4eef-f310-006e5753deae",
        "colab": {}
      },
      "source": [
        "# Let's represent the same in a graphical format\n",
        "\n",
        "# create graph object\n",
        "G = nx.MultiDiGraph()\n",
        "\n",
        "# nodes correspond to states\n",
        "G.add_nodes_from(states)\n",
        "print(f'Nodes:\\n{G.nodes()}\\n')\n",
        "\n",
        "# edges represent transition probabilities\n",
        "for k, v in edges_wts.items():\n",
        "    tmp_origin, tmp_destination = k[0], k[1]\n",
        "    G.add_edge(tmp_origin, tmp_destination, weight=v, label=v)\n",
        "print(f'Edges:')\n",
        "pprint(G.edges(data=True))    \n",
        "\n",
        "pos = nx.drawing.nx_pydot.graphviz_layout(G, prog='dot')\n",
        "nx.draw_networkx(G, pos)\n",
        "\n",
        "# create edge labels for jupyter plot but is not necessary\n",
        "edge_labels = {(n1,n2):d['label'] for n1,n2,d in G.edges(data=True)}\n",
        "nx.draw_networkx_edge_labels(G , pos, edge_labels=edge_labels)\n",
        "nx.drawing.nx_pydot.write_dot(G, 'kid_markov.dot')"
      ],
      "execution_count": 0,
      "outputs": [
        {
          "output_type": "stream",
          "text": [
            "Nodes:\n",
            "['playing', 'eating', 'sleeping', 'hobbying']\n",
            "\n",
            "Edges:\n",
            "OutMultiEdgeDataView([('playing', 'playing', {'weight': 0.4, 'label': 0.4}), ('playing', 'eating', {'weight': 0.2, 'label': 0.2}), ('playing', 'sleeping', {'weight': 0.2, 'label': 0.2}), ('playing', 'hobbying', {'weight': 0.2, 'label': 0.2}), ('eating', 'playing', {'weight': 0.4, 'label': 0.4}), ('eating', 'eating', {'weight': 0.4, 'label': 0.4}), ('eating', 'sleeping', {'weight': 0.1, 'label': 0.1}), ('eating', 'hobbying', {'weight': 0.1, 'label': 0.1}), ('sleeping', 'playing', {'weight': 0.4, 'label': 0.4}), ('sleeping', 'eating', {'weight': 0.2, 'label': 0.2}), ('sleeping', 'sleeping', {'weight': 0.3, 'label': 0.3}), ('sleeping', 'hobbying', {'weight': 0.1, 'label': 0.1}), ('hobbying', 'playing', {'weight': 0.3, 'label': 0.3}), ('hobbying', 'eating', {'weight': 0.25, 'label': 0.25}), ('hobbying', 'sleeping', {'weight': 0.3, 'label': 0.3}), ('hobbying', 'hobbying', {'weight': 0.15, 'label': 0.15})])\n"
          ],
          "name": "stdout"
        },
        {
          "output_type": "display_data",
          "data": {
            "image/png": "[encoded data removed]",
            "text/plain": [
              "<Figure size 432x288 with 1 Axes>"
            ]
          },
          "metadata": {
            "tags": [],
            "needs_background": "light"
          }
        }
      ]
    },
    {
      "cell_type": "markdown",
      "metadata": {
        "id": "tcnmbep_-iis",
        "colab_type": "text"
      },
      "source": [
        "# Now, let's understand what is a Hidden Markov Model(HMM).\n",
        "#In a Hidden Markov Model (HMM), we have an invisible Markov chain (which we cannot observe), \n",
        "#and each state generates in random one out of k observations, which are visible to us.\n",
        "\n",
        "#In our example, let's consider your kid is cranky and behaving in a strange way. Let's assume that you wanted to model your\n",
        "#kid's behaviour based on any sickness. To do this, you would wish to check the probability of her being sick or healthy. \n",
        "\n",
        "# In this situation, the true state of your kid is unknown, thus hidden from you. One way to model this is to assume that your kid\n",
        "# has observational behaviour that represents the true & hidden state. \n",
        "\n",
        "# Our hidden states will be healthy and sick. \n",
        "# create state space and initial state probabilities"
      ]
    },
    {
      "cell_type": "code",
      "metadata": {
        "id": "JLDtOkvM8Tr8",
        "colab_type": "code",
        "outputId": "85e90d5b-b2af-4acb-aa15-4d659e3dd317",
        "colab": {}
      },
      "source": [
        "\n",
        "\n",
        "\n",
        "\n",
        "hidden_states = ['healthy', 'sick']\n",
        "pi = [0.5, 0.5]\n",
        "state_space = pd.Series(pi, index=hidden_states, name='states')\n",
        "print(state_space)\n",
        "print('\\n', state_space.sum())"
      ],
      "execution_count": 0,
      "outputs": [
        {
          "output_type": "stream",
          "text": [
            "healthy    0.5\n",
            "sick       0.5\n",
            "Name: states, dtype: float64\n",
            "\n",
            " 1.0\n"
          ],
          "name": "stdout"
        }
      ]
    },
    {
      "cell_type": "markdown",
      "metadata": {
        "id": "L2EWeL4e-sVv",
        "colab_type": "text"
      },
      "source": [
        "# For these hidden states, we need to create transition matrix (same way as we did for initial states)\n",
        "\n",
        "# create hidden transition matrix\n",
        "# a or alpha = transition probability matrix of changing states given a state\n",
        "# matrix is size (M x M) where M is number of states"
      ]
    },
    {
      "cell_type": "code",
      "metadata": {
        "id": "s63YbEFi8Tr_",
        "colab_type": "code",
        "outputId": "df727899-eeb8-4a95-e346-59cc264b0148",
        "colab": {}
      },
      "source": [
        "\n",
        "\n",
        "a_df = pd.DataFrame(columns=hidden_states, index=hidden_states)\n",
        "a_df.loc[hidden_states[0]] = [0.65, 0.35]\n",
        "a_df.loc[hidden_states[1]] = [0.45, 0.55]\n",
        "\n",
        "print(a_df)\n",
        "\n",
        "a = a_df.values\n",
        "print('\\n', a, a.shape, '\\n')\n",
        "print(a_df.sum(axis=1))"
      ],
      "execution_count": 0,
      "outputs": [
        {
          "output_type": "stream",
          "text": [
            "        healthy  sick\n",
            "healthy    0.65  0.35\n",
            "sick       0.45  0.55\n",
            "\n",
            " [[0.65 0.35]\n",
            " [0.45 0.55]] (2, 2) \n",
            "\n",
            "healthy    1.0\n",
            "sick       1.0\n",
            "dtype: float64\n"
          ],
          "name": "stdout"
        }
      ]
    },
    {
      "cell_type": "markdown",
      "metadata": {
        "id": "PGrc-MZ8-wdq",
        "colab_type": "text"
      },
      "source": [
        "#This is where it gets a little more interesting. Now we create the emission or observation probability matrix. \n",
        "#This matrix is size M x O where M is the number of hidden states and O is the number of possible observable states.\n",
        "#The emission matrix tells us the probability your kid is in one of the hidden states, given the current, observable state. \n",
        "#Let's keep the same observable states from the previous example. \n",
        "# The kid can be either be playing, eating, sleeping,or hobbying. For now we make our best guess to fill in the probabilities. \n",
        "\n",
        "\n",
        "# create matrix of observation (emission) probabilities\n",
        "# b or beta = observation probabilities given state\n",
        "# matrix is size (M x O) where M is number of states \n",
        "# and O is number of different possible observations"
      ]
    },
    {
      "cell_type": "code",
      "metadata": {
        "id": "3xwQjl_88TsC",
        "colab_type": "code",
        "outputId": "5e0e3235-16cc-4e43-ebf3-082639a4be81",
        "colab": {}
      },
      "source": [
        "#This is where it gets a little more interesting. Now we create the emission or observation probability matrix. \n",
        "#This matrix is size M x O where M is the number of hidden states and O is the number of possible observable states.\n",
        "#The emission matrix tells us the probability your kid is in one of the hidden states, given the current, observable state. \n",
        "#Let's keep the same observable states from the previous example. \n",
        "# The kid can be either be playing, eating, sleeping,or hobbying. For now we make our best guess to fill in the probabilities. \n",
        "\n",
        "\n",
        "# create matrix of observation (emission) probabilities\n",
        "# b or beta = observation probabilities given state\n",
        "# matrix is size (M x O) where M is number of states \n",
        "# and O is number of different possible observations\n",
        "\n",
        "observable_states = states\n",
        "\n",
        "b_df = pd.DataFrame(columns=observable_states, index=hidden_states)\n",
        "b_df.loc[hidden_states[0]] = [0.4, 0.25, 0.1,0.25]\n",
        "b_df.loc[hidden_states[1]] = [0.2, 0.2, 0.5,0.1]\n",
        "\n",
        "print(b_df)\n",
        "\n",
        "b = b_df.values\n",
        "print('\\n', b, b.shape, '\\n')\n",
        "print(b_df.sum(axis=1))"
      ],
      "execution_count": 0,
      "outputs": [
        {
          "output_type": "stream",
          "text": [
            "        playing eating sleeping hobbying\n",
            "healthy     0.4   0.25      0.1     0.25\n",
            "sick        0.2    0.2      0.5      0.1\n",
            "\n",
            " [[0.4 0.25 0.1 0.25]\n",
            " [0.2 0.2 0.5 0.1]] (2, 4) \n",
            "\n",
            "healthy    1.0\n",
            "sick       1.0\n",
            "dtype: float64\n"
          ],
          "name": "stdout"
        }
      ]
    },
    {
      "cell_type": "markdown",
      "metadata": {
        "id": "VNIk7Qll-3gl",
        "colab_type": "text"
      },
      "source": [
        "# The above matrix means that if your kid is healthy, there is 40% chance of her playing, 25% chance of eating, 10% chance of \n",
        "# sleeping and 25% chance of hobbying.\n",
        "\n",
        "# create graph edges and weights"
      ]
    },
    {
      "cell_type": "code",
      "metadata": {
        "id": "msxErIol8TsE",
        "colab_type": "code",
        "outputId": "55cd95dd-d469-4e23-a3bf-5999e3d12332",
        "colab": {}
      },
      "source": [
        "\n",
        "hide_edges_wts = _get_markov_edges(a_df)\n",
        "pprint(hide_edges_wts)\n",
        "\n",
        "emit_edges_wts = _get_markov_edges(b_df)\n",
        "pprint(emit_edges_wts)"
      ],
      "execution_count": 0,
      "outputs": [
        {
          "output_type": "stream",
          "text": [
            "{('healthy', 'healthy'): 0.65,\n",
            " ('healthy', 'sick'): 0.35,\n",
            " ('sick', 'healthy'): 0.45,\n",
            " ('sick', 'sick'): 0.55}\n",
            "{('healthy', 'eating'): 0.25,\n",
            " ('healthy', 'hobbying'): 0.25,\n",
            " ('healthy', 'playing'): 0.4,\n",
            " ('healthy', 'sleeping'): 0.1,\n",
            " ('sick', 'eating'): 0.2,\n",
            " ('sick', 'hobbying'): 0.1,\n",
            " ('sick', 'playing'): 0.2,\n",
            " ('sick', 'sleeping'): 0.5}\n"
          ],
          "name": "stdout"
        }
      ]
    },
    {
      "cell_type": "code",
      "metadata": {
        "id": "kg4vFUD58TsG",
        "colab_type": "code",
        "outputId": "38e18209-f867-441a-a1e6-b44740ce6de2",
        "colab": {}
      },
      "source": [
        "# Let's represent the same in a network graph as we did earlier for initial states.\n",
        "\n",
        "# create graph object\n",
        "G = nx.MultiDiGraph()\n",
        "\n",
        "# nodes correspond to states\n",
        "G.add_nodes_from(hidden_states)\n",
        "print(f'Nodes:\\n{G.nodes()}\\n')\n",
        "\n",
        "# edges represent hidden probabilities\n",
        "for k, v in hide_edges_wts.items():\n",
        "    tmp_origin, tmp_destination = k[0], k[1]\n",
        "    G.add_edge(tmp_origin, tmp_destination, weight=v, label=v)\n",
        "\n",
        "# edges represent emission probabilities\n",
        "for k, v in emit_edges_wts.items():\n",
        "    tmp_origin, tmp_destination = k[0], k[1]\n",
        "    G.add_edge(tmp_origin, tmp_destination, weight=v, label=v)\n",
        "    \n",
        "print(f'Edges:')\n",
        "pprint(G.edges(data=True))    \n",
        "\n",
        "pos = nx.drawing.nx_pydot.graphviz_layout(G, prog='neato')\n",
        "nx.draw_networkx(G, pos)\n",
        "\n",
        "# create edge labels for jupyter plot but is not necessary\n",
        "emit_edge_labels = {(n1,n2):d['label'] for n1,n2,d in G.edges(data=True)}\n",
        "nx.draw_networkx_edge_labels(G , pos, edge_labels=emit_edge_labels)\n",
        "nx.drawing.nx_pydot.write_dot(G, 'kid_hidden_markov.dot')"
      ],
      "execution_count": 0,
      "outputs": [
        {
          "output_type": "stream",
          "text": [
            "Nodes:\n",
            "['healthy', 'sick']\n",
            "\n",
            "Edges:\n",
            "OutMultiEdgeDataView([('healthy', 'healthy', {'weight': 0.65, 'label': 0.65}), ('healthy', 'sick', {'weight': 0.35, 'label': 0.35}), ('healthy', 'playing', {'weight': 0.4, 'label': 0.4}), ('healthy', 'eating', {'weight': 0.25, 'label': 0.25}), ('healthy', 'sleeping', {'weight': 0.1, 'label': 0.1}), ('healthy', 'hobbying', {'weight': 0.25, 'label': 0.25}), ('sick', 'healthy', {'weight': 0.45, 'label': 0.45}), ('sick', 'sick', {'weight': 0.55, 'label': 0.55}), ('sick', 'playing', {'weight': 0.2, 'label': 0.2}), ('sick', 'eating', {'weight': 0.2, 'label': 0.2}), ('sick', 'sleeping', {'weight': 0.5, 'label': 0.5}), ('sick', 'hobbying', {'weight': 0.1, 'label': 0.1})])\n"
          ],
          "name": "stdout"
        },
        {
          "output_type": "display_data",
          "data": {
            "image/png": "[encoded data removed]",
            "text/plain": [
              "<Figure size 432x288 with 1 Axes>"
            ]
          },
          "metadata": {
            "tags": [],
            "needs_background": "light"
          }
        }
      ]
    },
    {
      "cell_type": "code",
      "metadata": {
        "id": "GQ3wIaTV8TsJ",
        "colab_type": "code",
        "outputId": "ea76c522-fa07-4933-f2ab-15b078e3f980",
        "colab": {}
      },
      "source": [
        "#The hidden Markov graph is a little more complex but the principles are the same. \n",
        "#For example, you would expect that if your kid is sleeping, there is a high probability that she is sick (50%) and \n",
        "#a low probability that your kid is healthy (10%).\n",
        "\n",
        "#Now, what if you needed to discern the health of your kid over time given a sequence of observations?  \n",
        "\n",
        "\n",
        "# observation sequence of kid's behaviors\n",
        "# observations are encoded numerically\n",
        "\n",
        "obs_map = {'playing':0, 'eating':1, 'sleeping':2, 'hobbying':3}\n",
        "obs = np.array([1,3,2,1,0,1,2,3,0,2,2,0,1,0,1])\n",
        "\n",
        "inv_obs_map = dict((v,k) for k, v in obs_map.items())\n",
        "obs_seq = [inv_obs_map[v] for v in list(obs)]\n",
        "\n",
        "print( pd.DataFrame(np.column_stack([obs, obs_seq]), \n",
        "                columns=['Obs_code', 'Obs_seq']) )"
      ],
      "execution_count": 0,
      "outputs": [
        {
          "output_type": "stream",
          "text": [
            "   Obs_code   Obs_seq\n",
            "0         1    eating\n",
            "1         3  hobbying\n",
            "2         2  sleeping\n",
            "3         1    eating\n",
            "4         0   playing\n",
            "5         1    eating\n",
            "6         2  sleeping\n",
            "7         3  hobbying\n",
            "8         0   playing\n",
            "9         2  sleeping\n",
            "10        2  sleeping\n",
            "11        0   playing\n",
            "12        1    eating\n",
            "13        0   playing\n",
            "14        1    eating\n"
          ],
          "name": "stdout"
        }
      ]
    },
    {
      "cell_type": "code",
      "metadata": {
        "id": "bdpLTq4-8TsM",
        "colab_type": "code",
        "colab": {}
      },
      "source": [
        "#Using the Viterbi algorithm we can identify the most likely sequence of hidden states given the sequence of observations.\n",
        "#At a high level, the Viterbi algorithm increments over each time step, finding the maximum probability of any path that \n",
        "#gets to state i at time t, that also has the correct observations for the sequence up to time t.\n",
        "#The algorithm also keeps track of the state with the highest probability at each stage. \n",
        "#At the end of the sequence, the algorithm will iterate backwards selecting the state that \"won\" each time step, \n",
        "#and thus creating the most likely path, or likely sequence of hidden states that led to the sequence of observations.\n",
        "\n",
        "\n",
        "# define Viterbi algorithm for shortest path\n",
        "# code adapted from Stephen Marsland's, Machine Learning An Algorthmic Perspective, Vol. 2\n",
        "# https://github.com/alexsosn/MarslandMLAlgo/blob/master/Ch16/HMM.py\n",
        "\n",
        "def viterbi(pi, a, b, obs):\n",
        "    \n",
        "    nStates = np.shape(b)[0]\n",
        "    T = np.shape(obs)[0]\n",
        "    \n",
        "    # init blank path\n",
        "    path = np.zeros(T)\n",
        "    # delta --> highest probability of any path that reaches state i\n",
        "    delta = np.zeros((nStates, T))\n",
        "    # phi --> argmax by time step for each state\n",
        "    phi = np.zeros((nStates, T))\n",
        "    \n",
        "    # init delta and phi \n",
        "    delta[:, 0] = pi * b[:, obs[0]]\n",
        "    phi[:, 0] = 0\n",
        "\n",
        "    print('\\nStart Walk Forward\\n')    \n",
        "    # the forward algorithm extension\n",
        "    for t in range(1, T):\n",
        "        for s in range(nStates):\n",
        "            delta[s, t] = np.max(delta[:, t-1] * a[:, s]) * b[s, obs[t]] \n",
        "            phi[s, t] = np.argmax(delta[:, t-1] * a[:, s])\n",
        "            print('s={s} and t={t}: phi[{s}, {t}] = {phi}'.format(s=s, t=t, phi=phi[s, t]))\n",
        "    \n",
        "    # find optimal path\n",
        "    print('-'*50)\n",
        "    print('Start Backtrace\\n')\n",
        "    path[T-1] = np.argmax(delta[:, T-1])\n",
        "    #path('init path\\n    t={} path[{}-1]={}\\n'.format(T-1, T, path[T-1]))\n",
        "    for t in range(T-2, -1, -1):\n",
        "        phi[int(path[t+1]), [t+1]]\n",
        "        path[t] = phi[int(path[t+1]), [t+1]]\n",
        "        #p(' '*4 + 't={t}, path[{t}+1]={path}, [{t}+1]={i}'.format(t=t, path=path[t+1], i=[t+1]))\n",
        "        print('path[{}] = {}'.format(t, path[t]))\n",
        "        \n",
        "    return path, delta, phi\n",
        "\n"
      ],
      "execution_count": 0,
      "outputs": []
    },
    {
      "cell_type": "code",
      "metadata": {
        "id": "PnC1hMgA8TsO",
        "colab_type": "code",
        "outputId": "7e891f74-7ea4-4b6c-97a0-1534a671bb03",
        "colab": {}
      },
      "source": [
        "path, delta, phi = viterbi(pi, a, b, obs)\n",
        "print('\\nsingle best state path: \\n', path)\n",
        "print('delta:\\n', delta)\n",
        "print('phi:\\n', phi)"
      ],
      "execution_count": 0,
      "outputs": [
        {
          "output_type": "stream",
          "text": [
            "\n",
            "Start Walk Forward\n",
            "\n",
            "s=0 and t=1: phi[0, 1] = 0.0\n",
            "s=1 and t=1: phi[1, 1] = 1.0\n",
            "s=0 and t=2: phi[0, 2] = 0.0\n",
            "s=1 and t=2: phi[1, 2] = 0.0\n",
            "s=0 and t=3: phi[0, 3] = 1.0\n",
            "s=1 and t=3: phi[1, 3] = 1.0\n",
            "s=0 and t=4: phi[0, 4] = 0.0\n",
            "s=1 and t=4: phi[1, 4] = 1.0\n",
            "s=0 and t=5: phi[0, 5] = 0.0\n",
            "s=1 and t=5: phi[1, 5] = 0.0\n",
            "s=0 and t=6: phi[0, 6] = 0.0\n",
            "s=1 and t=6: phi[1, 6] = 0.0\n",
            "s=0 and t=7: phi[0, 7] = 1.0\n",
            "s=1 and t=7: phi[1, 7] = 1.0\n",
            "s=0 and t=8: phi[0, 8] = 0.0\n",
            "s=1 and t=8: phi[1, 8] = 0.0\n",
            "s=0 and t=9: phi[0, 9] = 0.0\n",
            "s=1 and t=9: phi[1, 9] = 0.0\n",
            "s=0 and t=10: phi[0, 10] = 1.0\n",
            "s=1 and t=10: phi[1, 10] = 1.0\n",
            "s=0 and t=11: phi[0, 11] = 1.0\n",
            "s=1 and t=11: phi[1, 11] = 1.0\n",
            "s=0 and t=12: phi[0, 12] = 0.0\n",
            "s=1 and t=12: phi[1, 12] = 0.0\n",
            "s=0 and t=13: phi[0, 13] = 0.0\n",
            "s=1 and t=13: phi[1, 13] = 0.0\n",
            "s=0 and t=14: phi[0, 14] = 0.0\n",
            "s=1 and t=14: phi[1, 14] = 0.0\n",
            "--------------------------------------------------\n",
            "Start Backtrace\n",
            "\n",
            "path[13] = 0.0\n",
            "path[12] = 0.0\n",
            "path[11] = 0.0\n",
            "path[10] = 1.0\n",
            "path[9] = 1.0\n",
            "path[8] = 0.0\n",
            "path[7] = 0.0\n",
            "path[6] = 1.0\n",
            "path[5] = 0.0\n",
            "path[4] = 0.0\n",
            "path[3] = 0.0\n",
            "path[2] = 1.0\n",
            "path[1] = 0.0\n",
            "path[0] = 0.0\n",
            "\n",
            "single best state path: \n",
            " [0. 0. 1. 0. 0. 0. 1. 0. 0. 1. 1. 0. 0. 0. 0.]\n",
            "delta:\n",
            " [[1.25000000e-01 2.03125000e-02 1.32031250e-03 3.99902344e-04\n",
            "  1.03974609e-04 1.68958740e-05 1.09823181e-06 3.32637520e-07\n",
            "  8.64857552e-08 5.62157409e-09 6.81075322e-10 7.49182854e-10\n",
            "  1.21742214e-10 3.16529756e-11 5.14360853e-12]\n",
            " [1.00000000e-01 5.50000000e-03 3.55468750e-03 3.91015625e-04\n",
            "  4.30117187e-05 7.27822266e-06 2.95677795e-06 1.62622787e-07\n",
            "  2.32846264e-08 1.51350072e-08 4.16212697e-09 4.57833966e-10\n",
            "  5.24427998e-11 8.52195496e-12 2.21570829e-12]]\n",
            "phi:\n",
            " [[0. 0. 0. 1. 0. 0. 0. 1. 0. 0. 1. 1. 0. 0. 0.]\n",
            " [0. 1. 0. 1. 1. 0. 0. 1. 0. 0. 1. 1. 0. 0. 0.]]\n"
          ],
          "name": "stdout"
        }
      ]
    },
    {
      "cell_type": "code",
      "metadata": {
        "id": "oT5VCuxA8TsQ",
        "colab_type": "code",
        "outputId": "7350c8f1-a8d0-4326-9a00-6f4593277727",
        "colab": {}
      },
      "source": [
        "state_map = {0:'healthy', 1:'sick'}\n",
        "state_path = [state_map[v] for v in path]\n",
        "\n",
        "(pd.DataFrame()\n",
        " .assign(Observation=obs_seq)\n",
        " .assign(Best_Path=state_path))"
      ],
      "execution_count": 0,
      "outputs": [
        {
          "output_type": "execute_result",
          "data": {
            "text/html": [
              "<div>\n",
              "<style scoped>\n",
              "    .dataframe tbody tr th:only-of-type {\n",
              "        vertical-align: middle;\n",
              "    }\n",
              "\n",
              "    .dataframe tbody tr th {\n",
              "        vertical-align: top;\n",
              "    }\n",
              "\n",
              "    .dataframe thead th {\n",
              "        text-align: right;\n",
              "    }\n",
              "</style>\n",
              "<table border=\"1\" class=\"dataframe\">\n",
              "  <thead>\n",
              "    <tr style=\"text-align: right;\">\n",
              "      <th></th>\n",
              "      <th>Observation</th>\n",
              "      <th>Best_Path</th>\n",
              "    </tr>\n",
              "  </thead>\n",
              "  <tbody>\n",
              "    <tr>\n",
              "      <th>0</th>\n",
              "      <td>eating</td>\n",
              "      <td>healthy</td>\n",
              "    </tr>\n",
              "    <tr>\n",
              "      <th>1</th>\n",
              "      <td>hobbying</td>\n",
              "      <td>healthy</td>\n",
              "    </tr>\n",
              "    <tr>\n",
              "      <th>2</th>\n",
              "      <td>sleeping</td>\n",
              "      <td>sick</td>\n",
              "    </tr>\n",
              "    <tr>\n",
              "      <th>3</th>\n",
              "      <td>eating</td>\n",
              "      <td>healthy</td>\n",
              "    </tr>\n",
              "    <tr>\n",
              "      <th>4</th>\n",
              "      <td>playing</td>\n",
              "      <td>healthy</td>\n",
              "    </tr>\n",
              "    <tr>\n",
              "      <th>5</th>\n",
              "      <td>eating</td>\n",
              "      <td>healthy</td>\n",
              "    </tr>\n",
              "    <tr>\n",
              "      <th>6</th>\n",
              "      <td>sleeping</td>\n",
              "      <td>sick</td>\n",
              "    </tr>\n",
              "    <tr>\n",
              "      <th>7</th>\n",
              "      <td>hobbying</td>\n",
              "      <td>healthy</td>\n",
              "    </tr>\n",
              "    <tr>\n",
              "      <th>8</th>\n",
              "      <td>playing</td>\n",
              "      <td>healthy</td>\n",
              "    </tr>\n",
              "    <tr>\n",
              "      <th>9</th>\n",
              "      <td>sleeping</td>\n",
              "      <td>sick</td>\n",
              "    </tr>\n",
              "    <tr>\n",
              "      <th>10</th>\n",
              "      <td>sleeping</td>\n",
              "      <td>sick</td>\n",
              "    </tr>\n",
              "    <tr>\n",
              "      <th>11</th>\n",
              "      <td>playing</td>\n",
              "      <td>healthy</td>\n",
              "    </tr>\n",
              "    <tr>\n",
              "      <th>12</th>\n",
              "      <td>eating</td>\n",
              "      <td>healthy</td>\n",
              "    </tr>\n",
              "    <tr>\n",
              "      <th>13</th>\n",
              "      <td>playing</td>\n",
              "      <td>healthy</td>\n",
              "    </tr>\n",
              "    <tr>\n",
              "      <th>14</th>\n",
              "      <td>eating</td>\n",
              "      <td>healthy</td>\n",
              "    </tr>\n",
              "  </tbody>\n",
              "</table>\n",
              "</div>"
            ],
            "text/plain": [
              "   Observation Best_Path\n",
              "0       eating   healthy\n",
              "1     hobbying   healthy\n",
              "2     sleeping      sick\n",
              "3       eating   healthy\n",
              "4      playing   healthy\n",
              "5       eating   healthy\n",
              "6     sleeping      sick\n",
              "7     hobbying   healthy\n",
              "8      playing   healthy\n",
              "9     sleeping      sick\n",
              "10    sleeping      sick\n",
              "11     playing   healthy\n",
              "12      eating   healthy\n",
              "13     playing   healthy\n",
              "14      eating   healthy"
            ]
          },
          "metadata": {
            "tags": []
          },
          "execution_count": 50
        }
      ]
    },
    {
      "cell_type": "code",
      "metadata": {
        "id": "x34fJB5D8TsS",
        "colab_type": "code",
        "colab": {}
      },
      "source": [
        "## The above table gives the best hidden state at any current state. \n",
        "#It is very clear from the table that if the observation is sleeping, there is a high chance that your kid is sleeping\n",
        "# Obviously it should be understood that sleeping doesn't just mean sleeping but sleeping more that the regular sleeping time. "
      ],
      "execution_count": 0,
      "outputs": []
    }
  ]
}