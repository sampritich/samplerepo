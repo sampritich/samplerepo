{
  "nbformat": 4,
  "nbformat_minor": 0,
  "metadata": {
    "kernelspec": {
      "name": "python3",
      "display_name": "Python 3"
    },
    "language_info": {
      "codemirror_mode": {
        "name": "ipython",
        "version": 3
      },
      "file_extension": ".py",
      "mimetype": "text/x-python",
      "name": "python",
      "nbconvert_exporter": "python",
      "pygments_lexer": "ipython3",
      "version": "3.6.7"
    },
    "colab": {
      "name": "827_m1_demo2_v1.0.ipynb",
      "provenance": [],
      "include_colab_link": true
    },
    "accelerator": "GPU"
  },
  "cells": [
    {
      "cell_type": "markdown",
      "metadata": {
        "id": "view-in-github",
        "colab_type": "text"
      },
      "source": [
        "<a href=\"https://colab.research.google.com/github/sampritich/samplerepo/blob/master/827_m1_demo2_v1_0.ipynb\" target=\"_parent\"><img src=\"https://colab.research.google.com/assets/colab-badge.svg\" alt=\"Open In Colab\"/></a>"
      ]
    },
    {
      "cell_type": "markdown",
      "metadata": {
        "id": "VWGsMw0PbxZ9",
        "colab_type": "text"
      },
      "source": [
        "# Predictive Analytics\n",
        "# Module 1 - Statistical Foundations\n",
        "## Demo 2 - Measures of Center"
      ]
    },
    {
      "cell_type": "markdown",
      "metadata": {
        "id": "F6bLQhX8bxZ-",
        "colab_type": "text"
      },
      "source": [
        "### Use-Case: Predict Future Sales"
      ]
    },
    {
      "cell_type": "markdown",
      "metadata": {
        "id": "hoLweYjKbxaA",
        "colab_type": "text"
      },
      "source": [
        "### Load Data"
      ]
    },
    {
      "cell_type": "code",
      "metadata": {
        "id": "2cryaP7MbxaB",
        "colab_type": "code",
        "colab": {}
      },
      "source": [
        "import pandas as pd"
      ],
      "execution_count": 0,
      "outputs": []
    },
    {
      "cell_type": "code",
      "metadata": {
        "id": "BJfCtWipygyp",
        "colab_type": "code",
        "colab": {
          "base_uri": "https://localhost:8080/",
          "height": 474
        },
        "outputId": "3d38c2e9-8475-40e2-a934-efc21b047214"
      },
      "source": [
        "!wget https://www.dropbox.com/s/m49xi2l7zm2ppqk/InputDataFiles.zip"
      ],
      "execution_count": 1,
      "outputs": [
        {
          "output_type": "stream",
          "text": [
            "--2019-12-21 09:29:25--  https://www.dropbox.com/s/m49xi2l7zm2ppqk/InputDataFiles.zip\n",
            "Resolving www.dropbox.com (www.dropbox.com)... 162.125.65.1, 2620:100:6021:1::a27d:4101\n",
            "Connecting to www.dropbox.com (www.dropbox.com)|162.125.65.1|:443... connected.\n",
            "HTTP request sent, awaiting response... 301 Moved Permanently\n",
            "Location: /s/raw/m49xi2l7zm2ppqk/InputDataFiles.zip [following]\n",
            "--2019-12-21 09:29:25--  https://www.dropbox.com/s/raw/m49xi2l7zm2ppqk/InputDataFiles.zip\n",
            "Reusing existing connection to www.dropbox.com:443.\n",
            "HTTP request sent, awaiting response... 302 Found\n",
            "Location: https://uc494f98b64bde1f9a9d9641103d.dl.dropboxusercontent.com/cd/0/inline/Auojpdj1ckTbQsNFAoa-X7xtaAhZPae-D-o9oANaKWOGU8Le62fzQYWKTWv_3JdMM2Azs0JfOvApI8LOCJnSfAJYXd9YwbOwk6xJN_t-hUVnDV8rFgkF6cz4mIhlf1vfRnY/file# [following]\n",
            "--2019-12-21 09:29:25--  https://uc494f98b64bde1f9a9d9641103d.dl.dropboxusercontent.com/cd/0/inline/Auojpdj1ckTbQsNFAoa-X7xtaAhZPae-D-o9oANaKWOGU8Le62fzQYWKTWv_3JdMM2Azs0JfOvApI8LOCJnSfAJYXd9YwbOwk6xJN_t-hUVnDV8rFgkF6cz4mIhlf1vfRnY/file\n",
            "Resolving uc494f98b64bde1f9a9d9641103d.dl.dropboxusercontent.com (uc494f98b64bde1f9a9d9641103d.dl.dropboxusercontent.com)... 162.125.65.6, 2620:100:6021:6::a27d:4106\n",
            "Connecting to uc494f98b64bde1f9a9d9641103d.dl.dropboxusercontent.com (uc494f98b64bde1f9a9d9641103d.dl.dropboxusercontent.com)|162.125.65.6|:443... connected.\n",
            "HTTP request sent, awaiting response... 302 FOUND\n",
            "Location: /cd/0/inline2/AureDM-Kfiz7xsMPeC9SfMIABsdnbdC5pJFhsYVtBEaIhMvHl9Rj90xc-ezT0agJ9yibK70FrpLJBDGQPrwxaH7IqEjh6RN6Y-2u5jTiCsoSzT7fPdUWQ6DMeFpknGn37DDxzgJ_9Y9r46C7-_7Ye7HyM1xU_QM3dr10WSlnlLx4evnDAPi-wEecstxeFXkuc-gxs_STl8Vke3Y05DP0LRASu3D2cimDVVsnz-sPY9gM7IptjHTvhkyDMlyird3m5CSCuVlqfcUOv3ML3_vw4F4WIARSFnN5bmJ07qpvAy8c-4t1LDsp7OWRs1G5GA04wt2libJ2nQtdT9DuRoF4XZWXzR1HtuI8GcbFECHD1eTSPA/file [following]\n",
            "--2019-12-21 09:29:26--  https://uc494f98b64bde1f9a9d9641103d.dl.dropboxusercontent.com/cd/0/inline2/AureDM-Kfiz7xsMPeC9SfMIABsdnbdC5pJFhsYVtBEaIhMvHl9Rj90xc-ezT0agJ9yibK70FrpLJBDGQPrwxaH7IqEjh6RN6Y-2u5jTiCsoSzT7fPdUWQ6DMeFpknGn37DDxzgJ_9Y9r46C7-_7Ye7HyM1xU_QM3dr10WSlnlLx4evnDAPi-wEecstxeFXkuc-gxs_STl8Vke3Y05DP0LRASu3D2cimDVVsnz-sPY9gM7IptjHTvhkyDMlyird3m5CSCuVlqfcUOv3ML3_vw4F4WIARSFnN5bmJ07qpvAy8c-4t1LDsp7OWRs1G5GA04wt2libJ2nQtdT9DuRoF4XZWXzR1HtuI8GcbFECHD1eTSPA/file\n",
            "Reusing existing connection to uc494f98b64bde1f9a9d9641103d.dl.dropboxusercontent.com:443.\n",
            "HTTP request sent, awaiting response... 200 OK\n",
            "Length: 5048351 (4.8M) [application/zip]\n",
            "Saving to: ‘InputDataFiles.zip’\n",
            "\n",
            "InputDataFiles.zip  100%[===================>]   4.81M  16.0MB/s    in 0.3s    \n",
            "\n",
            "2019-12-21 09:29:27 (16.0 MB/s) - ‘InputDataFiles.zip’ saved [5048351/5048351]\n",
            "\n"
          ],
          "name": "stdout"
        }
      ]
    },
    {
      "cell_type": "code",
      "metadata": {
        "id": "lvPkf0opylxA",
        "colab_type": "code",
        "colab": {
          "base_uri": "https://localhost:8080/",
          "height": 145
        },
        "outputId": "6b4c4ad0-f761-48d6-c578-37f922eea401"
      },
      "source": [
        "!unzip InputDataFiles.zip\n"
      ],
      "execution_count": 2,
      "outputs": [
        {
          "output_type": "stream",
          "text": [
            "Archive:  InputDataFiles.zip\n",
            "   creating: InputDataFiles/\n",
            "  inflating: InputDataFiles/items.csv  \n",
            "  inflating: InputDataFiles/item_categories.csv  \n",
            "  inflating: InputDataFiles/sales_train.csv  \n",
            "  inflating: InputDataFiles/shops.csv  \n",
            "  inflating: InputDataFiles/Supermarket.csv  \n"
          ],
          "name": "stdout"
        }
      ]
    },
    {
      "cell_type": "code",
      "metadata": {
        "id": "nmjeab-zbxaH",
        "colab_type": "code",
        "colab": {
          "base_uri": "https://localhost:8080/",
          "height": 198
        },
        "outputId": "2d861630-dfc6-433a-c9b4-f759354874ee"
      },
      "source": [
        "train = pd.read_csv(\"/content/InputDataFiles/sales_train.csv\")\n",
        "train.head()"
      ],
      "execution_count": 8,
      "outputs": [
        {
          "output_type": "execute_result",
          "data": {
            "text/html": [
              "<div>\n",
              "<style scoped>\n",
              "    .dataframe tbody tr th:only-of-type {\n",
              "        vertical-align: middle;\n",
              "    }\n",
              "\n",
              "    .dataframe tbody tr th {\n",
              "        vertical-align: top;\n",
              "    }\n",
              "\n",
              "    .dataframe thead th {\n",
              "        text-align: right;\n",
              "    }\n",
              "</style>\n",
              "<table border=\"1\" class=\"dataframe\">\n",
              "  <thead>\n",
              "    <tr style=\"text-align: right;\">\n",
              "      <th></th>\n",
              "      <th>date</th>\n",
              "      <th>date_block_num</th>\n",
              "      <th>shop_id</th>\n",
              "      <th>item_id</th>\n",
              "      <th>item_price</th>\n",
              "      <th>item_cnt_day</th>\n",
              "    </tr>\n",
              "  </thead>\n",
              "  <tbody>\n",
              "    <tr>\n",
              "      <th>0</th>\n",
              "      <td>02.01.2013</td>\n",
              "      <td>0</td>\n",
              "      <td>59</td>\n",
              "      <td>22154</td>\n",
              "      <td>999.00</td>\n",
              "      <td>1</td>\n",
              "    </tr>\n",
              "    <tr>\n",
              "      <th>1</th>\n",
              "      <td>03.01.2013</td>\n",
              "      <td>0</td>\n",
              "      <td>25</td>\n",
              "      <td>2552</td>\n",
              "      <td>899.00</td>\n",
              "      <td>1</td>\n",
              "    </tr>\n",
              "    <tr>\n",
              "      <th>2</th>\n",
              "      <td>05.01.2013</td>\n",
              "      <td>0</td>\n",
              "      <td>25</td>\n",
              "      <td>2552</td>\n",
              "      <td>899.00</td>\n",
              "      <td>-1</td>\n",
              "    </tr>\n",
              "    <tr>\n",
              "      <th>3</th>\n",
              "      <td>06.01.2013</td>\n",
              "      <td>0</td>\n",
              "      <td>25</td>\n",
              "      <td>2554</td>\n",
              "      <td>1709.05</td>\n",
              "      <td>1</td>\n",
              "    </tr>\n",
              "    <tr>\n",
              "      <th>4</th>\n",
              "      <td>15.01.2013</td>\n",
              "      <td>0</td>\n",
              "      <td>25</td>\n",
              "      <td>2555</td>\n",
              "      <td>1099.00</td>\n",
              "      <td>1</td>\n",
              "    </tr>\n",
              "  </tbody>\n",
              "</table>\n",
              "</div>"
            ],
            "text/plain": [
              "         date  date_block_num  shop_id  item_id  item_price  item_cnt_day\n",
              "0  02.01.2013               0       59    22154      999.00             1\n",
              "1  03.01.2013               0       25     2552      899.00             1\n",
              "2  05.01.2013               0       25     2552      899.00            -1\n",
              "3  06.01.2013               0       25     2554     1709.05             1\n",
              "4  15.01.2013               0       25     2555     1099.00             1"
            ]
          },
          "metadata": {
            "tags": []
          },
          "execution_count": 8
        }
      ]
    },
    {
      "cell_type": "markdown",
      "metadata": {
        "id": "lYhZpyLhbxaN",
        "colab_type": "text"
      },
      "source": [
        "### Calculating Measures of Central Tendency"
      ]
    },
    {
      "cell_type": "markdown",
      "metadata": {
        "id": "W68nXNVXbxaP",
        "colab_type": "text"
      },
      "source": [
        "### Mean: Represents average values"
      ]
    },
    {
      "cell_type": "code",
      "metadata": {
        "id": "MRzJZpUxbxaR",
        "colab_type": "code",
        "colab": {
          "base_uri": "https://localhost:8080/",
          "height": 288
        },
        "outputId": "7ff00449-0da4-460d-c8dc-dcb40dbe6561"
      },
      "source": [
        "train.describe()"
      ],
      "execution_count": 9,
      "outputs": [
        {
          "output_type": "execute_result",
          "data": {
            "text/html": [
              "<div>\n",
              "<style scoped>\n",
              "    .dataframe tbody tr th:only-of-type {\n",
              "        vertical-align: middle;\n",
              "    }\n",
              "\n",
              "    .dataframe tbody tr th {\n",
              "        vertical-align: top;\n",
              "    }\n",
              "\n",
              "    .dataframe thead th {\n",
              "        text-align: right;\n",
              "    }\n",
              "</style>\n",
              "<table border=\"1\" class=\"dataframe\">\n",
              "  <thead>\n",
              "    <tr style=\"text-align: right;\">\n",
              "      <th></th>\n",
              "      <th>date_block_num</th>\n",
              "      <th>shop_id</th>\n",
              "      <th>item_id</th>\n",
              "      <th>item_price</th>\n",
              "      <th>item_cnt_day</th>\n",
              "    </tr>\n",
              "  </thead>\n",
              "  <tbody>\n",
              "    <tr>\n",
              "      <th>count</th>\n",
              "      <td>1.043246e+06</td>\n",
              "      <td>1.043246e+06</td>\n",
              "      <td>1.043246e+06</td>\n",
              "      <td>1.043246e+06</td>\n",
              "      <td>1.043246e+06</td>\n",
              "    </tr>\n",
              "    <tr>\n",
              "      <th>mean</th>\n",
              "      <td>4.472810e+00</td>\n",
              "      <td>3.245368e+01</td>\n",
              "      <td>1.024260e+04</td>\n",
              "      <td>6.823654e+02</td>\n",
              "      <td>1.220174e+00</td>\n",
              "    </tr>\n",
              "    <tr>\n",
              "      <th>std</th>\n",
              "      <td>2.967065e+00</td>\n",
              "      <td>1.625856e+01</td>\n",
              "      <td>6.305360e+03</td>\n",
              "      <td>1.124829e+03</td>\n",
              "      <td>1.600203e+00</td>\n",
              "    </tr>\n",
              "    <tr>\n",
              "      <th>min</th>\n",
              "      <td>0.000000e+00</td>\n",
              "      <td>0.000000e+00</td>\n",
              "      <td>1.200000e+01</td>\n",
              "      <td>-1.000000e+00</td>\n",
              "      <td>-6.000000e+00</td>\n",
              "    </tr>\n",
              "    <tr>\n",
              "      <th>25%</th>\n",
              "      <td>2.000000e+00</td>\n",
              "      <td>2.200000e+01</td>\n",
              "      <td>4.548000e+03</td>\n",
              "      <td>1.990000e+02</td>\n",
              "      <td>1.000000e+00</td>\n",
              "    </tr>\n",
              "    <tr>\n",
              "      <th>50%</th>\n",
              "      <td>4.000000e+00</td>\n",
              "      <td>3.000000e+01</td>\n",
              "      <td>9.691000e+03</td>\n",
              "      <td>3.990000e+02</td>\n",
              "      <td>1.000000e+00</td>\n",
              "    </tr>\n",
              "    <tr>\n",
              "      <th>75%</th>\n",
              "      <td>7.000000e+00</td>\n",
              "      <td>4.700000e+01</td>\n",
              "      <td>1.561875e+04</td>\n",
              "      <td>6.993000e+02</td>\n",
              "      <td>1.000000e+00</td>\n",
              "    </tr>\n",
              "    <tr>\n",
              "      <th>max</th>\n",
              "      <td>1.000000e+01</td>\n",
              "      <td>5.900000e+01</td>\n",
              "      <td>2.216800e+04</td>\n",
              "      <td>5.920000e+04</td>\n",
              "      <td>2.880000e+02</td>\n",
              "    </tr>\n",
              "  </tbody>\n",
              "</table>\n",
              "</div>"
            ],
            "text/plain": [
              "       date_block_num       shop_id       item_id    item_price  item_cnt_day\n",
              "count    1.043246e+06  1.043246e+06  1.043246e+06  1.043246e+06  1.043246e+06\n",
              "mean     4.472810e+00  3.245368e+01  1.024260e+04  6.823654e+02  1.220174e+00\n",
              "std      2.967065e+00  1.625856e+01  6.305360e+03  1.124829e+03  1.600203e+00\n",
              "min      0.000000e+00  0.000000e+00  1.200000e+01 -1.000000e+00 -6.000000e+00\n",
              "25%      2.000000e+00  2.200000e+01  4.548000e+03  1.990000e+02  1.000000e+00\n",
              "50%      4.000000e+00  3.000000e+01  9.691000e+03  3.990000e+02  1.000000e+00\n",
              "75%      7.000000e+00  4.700000e+01  1.561875e+04  6.993000e+02  1.000000e+00\n",
              "max      1.000000e+01  5.900000e+01  2.216800e+04  5.920000e+04  2.880000e+02"
            ]
          },
          "metadata": {
            "tags": []
          },
          "execution_count": 9
        }
      ]
    },
    {
      "cell_type": "markdown",
      "metadata": {
        "id": "Gp5UIBKCbxaY",
        "colab_type": "text"
      },
      "source": [
        "### Median: Middle value of dataset"
      ]
    },
    {
      "cell_type": "code",
      "metadata": {
        "id": "F_8zapOpbxaZ",
        "colab_type": "code",
        "colab": {
          "base_uri": "https://localhost:8080/",
          "height": 126
        },
        "outputId": "d4258472-497f-4a14-fa80-ffaedb6bfb78"
      },
      "source": [
        "train.median()\n"
      ],
      "execution_count": 10,
      "outputs": [
        {
          "output_type": "execute_result",
          "data": {
            "text/plain": [
              "date_block_num       4.0\n",
              "shop_id             30.0\n",
              "item_id           9691.0\n",
              "item_price         399.0\n",
              "item_cnt_day         1.0\n",
              "dtype: float64"
            ]
          },
          "metadata": {
            "tags": []
          },
          "execution_count": 10
        }
      ]
    },
    {
      "cell_type": "code",
      "metadata": {
        "id": "wDb671mr0YAW",
        "colab_type": "code",
        "colab": {
          "base_uri": "https://localhost:8080/",
          "height": 35
        },
        "outputId": "429fdc34-f4d6-4493-b037-96ac9e7de724"
      },
      "source": [
        "train.shape\n"
      ],
      "execution_count": 29,
      "outputs": [
        {
          "output_type": "execute_result",
          "data": {
            "text/plain": [
              "(1043246, 6)"
            ]
          },
          "metadata": {
            "tags": []
          },
          "execution_count": 29
        }
      ]
    },
    {
      "cell_type": "code",
      "metadata": {
        "id": "Z35FryKu0eHq",
        "colab_type": "code",
        "colab": {
          "base_uri": "https://localhost:8080/",
          "height": 78
        },
        "outputId": "456e51a3-f65b-46ef-eccd-4e9bbae5ff03"
      },
      "source": [
        "#train.iloc[0]## first row of data frame\n",
        "#train.iloc[169:171,0:3]#First column\n",
        "train.mode()\n"
      ],
      "execution_count": 65,
      "outputs": [
        {
          "output_type": "execute_result",
          "data": {
            "text/html": [
              "<div>\n",
              "<style scoped>\n",
              "    .dataframe tbody tr th:only-of-type {\n",
              "        vertical-align: middle;\n",
              "    }\n",
              "\n",
              "    .dataframe tbody tr th {\n",
              "        vertical-align: top;\n",
              "    }\n",
              "\n",
              "    .dataframe thead th {\n",
              "        text-align: right;\n",
              "    }\n",
              "</style>\n",
              "<table border=\"1\" class=\"dataframe\">\n",
              "  <thead>\n",
              "    <tr style=\"text-align: right;\">\n",
              "      <th></th>\n",
              "      <th>date</th>\n",
              "      <th>date_block_num</th>\n",
              "      <th>shop_id</th>\n",
              "      <th>item_id</th>\n",
              "      <th>item_price</th>\n",
              "      <th>item_cnt_day</th>\n",
              "    </tr>\n",
              "  </thead>\n",
              "  <tbody>\n",
              "    <tr>\n",
              "      <th>0</th>\n",
              "      <td>23.02.2013</td>\n",
              "      <td>2</td>\n",
              "      <td>31</td>\n",
              "      <td>20949</td>\n",
              "      <td>299.0</td>\n",
              "      <td>1</td>\n",
              "    </tr>\n",
              "  </tbody>\n",
              "</table>\n",
              "</div>"
            ],
            "text/plain": [
              "         date  date_block_num  shop_id  item_id  item_price  item_cnt_day\n",
              "0  23.02.2013               2       31    20949       299.0             1"
            ]
          },
          "metadata": {
            "tags": []
          },
          "execution_count": 65
        }
      ]
    },
    {
      "cell_type": "code",
      "metadata": {
        "id": "pD6IycO-05rc",
        "colab_type": "code",
        "colab": {}
      },
      "source": [
        "'''data.iloc[0] # first row of data frame (Aleshia Tomkiewicz) - Note a Series data type output.\n",
        "data.iloc[1] # second row of data frame (Evan Zigomalas)\n",
        "data.iloc[-1] # last row of data frame (Mi Richan)\n",
        "# Columns:\n",
        "data.iloc[:,0] # first column of data frame (first_name)\n",
        "data.iloc[:,1] # second column of data frame (last_name)\n",
        "data.iloc[:,-1] # last column of data frame (id)'''\n",
        "\n"
      ],
      "execution_count": 0,
      "outputs": []
    },
    {
      "cell_type": "markdown",
      "metadata": {
        "id": "k6IlwZDEbxad",
        "colab_type": "text"
      },
      "source": [
        "### Outliers"
      ]
    },
    {
      "cell_type": "markdown",
      "metadata": {
        "id": "6ANPXO7Ebxae",
        "colab_type": "text"
      },
      "source": [
        "#### Using Z-Score"
      ]
    },
    {
      "cell_type": "code",
      "metadata": {
        "id": "ayiar7mbbxaf",
        "colab_type": "code",
        "colab": {}
      },
      "source": [
        "from scipy import stats\n",
        "import numpy as np"
      ],
      "execution_count": 0,
      "outputs": []
    },
    {
      "cell_type": "code",
      "metadata": {
        "id": "d8IVYC4ybxai",
        "colab_type": "code",
        "colab": {
          "base_uri": "https://localhost:8080/",
          "height": 145
        },
        "outputId": "1ee9f26f-72de-4036-e3c4-92d933f36e4b"
      },
      "source": [
        "# Using Z-score function defined in scipy library to detect the outliers\n",
        "z = np.abs(stats.zscore(train[['item_price','item_cnt_day']]))\n",
        "print(z)"
      ],
      "execution_count": 16,
      "outputs": [
        {
          "output_type": "stream",
          "text": [
            "[[0.28149591 0.13759157]\n",
            " [0.19259347 0.13759157]\n",
            " [0.19259347 1.38743362]\n",
            " ...\n",
            " [0.42972364 0.13759157]\n",
            " [0.51862608 0.13759157]\n",
            " [0.42972364 0.13759157]]\n"
          ],
          "name": "stdout"
        }
      ]
    },
    {
      "cell_type": "code",
      "metadata": {
        "id": "attRvATHbxam",
        "colab_type": "code",
        "colab": {
          "base_uri": "https://localhost:8080/",
          "height": 35
        },
        "outputId": "b41ffc61-4c7d-4e3d-ff40-acb4873023a4"
      },
      "source": [
        "# Define a threshold to identify an outlier\n",
        "threshold = 5\n",
        "print(np.where(z > threshold))"
      ],
      "execution_count": 47,
      "outputs": [
        {
          "output_type": "stream",
          "text": [
            "(array([    117,     169,     457, ..., 1042982, 1043154, 1043198]), array([1, 1, 0, ..., 0, 1, 1]))\n"
          ],
          "name": "stdout"
        }
      ]
    },
    {
      "cell_type": "code",
      "metadata": {
        "id": "xYDLMsJRbxar",
        "colab_type": "code",
        "colab": {
          "base_uri": "https://localhost:8080/",
          "height": 35
        },
        "outputId": "5e4e4f05-fc25-4893-878a-cb9a118fd056"
      },
      "source": [
        "# The first array contains the list of row numbers and second array respective column numbers, \n",
        "# which mean z[352][1] have a Z-score higher than 5.\n",
        "print(z[117][1])"
      ],
      "execution_count": 48,
      "outputs": [
        {
          "output_type": "stream",
          "text": [
            "7.36146071862519\n"
          ],
          "name": "stdout"
        }
      ]
    },
    {
      "cell_type": "code",
      "metadata": {
        "id": "GP0z24eObxav",
        "colab_type": "code",
        "colab": {
          "base_uri": "https://localhost:8080/",
          "height": 35
        },
        "outputId": "ba8d3c81-90e3-4c40-c438-681910ff6e0f"
      },
      "source": [
        "# Printing the sample values for the same\n",
        "train.iloc[169:171]\n",
        "z[169][1]"
      ],
      "execution_count": 50,
      "outputs": [
        {
          "output_type": "execute_result",
          "data": {
            "text/plain": [
              "7.36146071862519"
            ]
          },
          "metadata": {
            "tags": []
          },
          "execution_count": 50
        }
      ]
    },
    {
      "cell_type": "markdown",
      "metadata": {
        "id": "xd-boATbbxaz",
        "colab_type": "text"
      },
      "source": [
        "#### Using IQR"
      ]
    },
    {
      "cell_type": "code",
      "metadata": {
        "id": "XkCztR6Ybxa1",
        "colab_type": "code",
        "colab": {}
      },
      "source": [
        "def remove_outlier(df_in, col_name):\n",
        "    q1 = df_in[col_name].quantile(0.25)\n",
        "    q3 = df_in[col_name].quantile(0.75)\n",
        "    iqr = q3-q1 #Interquartile range\n",
        "    print(iqr)\n",
        "    fence_low  = q1-1.5*iqr\n",
        "    print(fence_low)\n",
        "    fence_high = q3+1.5*iqr\n",
        "    print(fence_high)\n",
        "    df_out = df_in.loc[(df_in[col_name] > fence_low) & (df_in[col_name] < fence_high)]\n",
        "    print(df_out)\n",
        "    return df_out"
      ],
      "execution_count": 0,
      "outputs": []
    },
    {
      "cell_type": "code",
      "metadata": {
        "id": "2s_YeDnQbxa5",
        "colab_type": "code",
        "colab": {
          "base_uri": "https://localhost:8080/",
          "height": 507
        },
        "outputId": "b03d61c8-a2dd-433d-bcba-3286ff0d550b"
      },
      "source": [
        "remove_outlier(train,\"item_price\").head()"
      ],
      "execution_count": 57,
      "outputs": [
        {
          "output_type": "stream",
          "text": [
            "500.29999999999995\n",
            "-551.4499999999999\n",
            "1449.75\n",
            "               date  date_block_num  shop_id  item_id  item_price  item_cnt_day\n",
            "0        02.01.2013               0       59    22154       999.0             1\n",
            "1        03.01.2013               0       25     2552       899.0             1\n",
            "2        05.01.2013               0       25     2552       899.0            -1\n",
            "4        15.01.2013               0       25     2555      1099.0             1\n",
            "5        12.01.2013               0       25     3253       899.0             1\n",
            "...             ...             ...      ...      ...         ...           ...\n",
            "1043241  07.11.2013              10       37    18474       199.0             1\n",
            "1043242  18.11.2013              10       37    18474       199.0             1\n",
            "1043243  24.11.2013              10       37    18484       199.0             1\n",
            "1043244  11.11.2013              10       37    19751        99.0             1\n",
            "1043245  26.11.2013              10       37    18498       199.0             1\n",
            "\n",
            "[928110 rows x 6 columns]\n"
          ],
          "name": "stdout"
        },
        {
          "output_type": "execute_result",
          "data": {
            "text/html": [
              "<div>\n",
              "<style scoped>\n",
              "    .dataframe tbody tr th:only-of-type {\n",
              "        vertical-align: middle;\n",
              "    }\n",
              "\n",
              "    .dataframe tbody tr th {\n",
              "        vertical-align: top;\n",
              "    }\n",
              "\n",
              "    .dataframe thead th {\n",
              "        text-align: right;\n",
              "    }\n",
              "</style>\n",
              "<table border=\"1\" class=\"dataframe\">\n",
              "  <thead>\n",
              "    <tr style=\"text-align: right;\">\n",
              "      <th></th>\n",
              "      <th>date</th>\n",
              "      <th>date_block_num</th>\n",
              "      <th>shop_id</th>\n",
              "      <th>item_id</th>\n",
              "      <th>item_price</th>\n",
              "      <th>item_cnt_day</th>\n",
              "    </tr>\n",
              "  </thead>\n",
              "  <tbody>\n",
              "    <tr>\n",
              "      <th>0</th>\n",
              "      <td>02.01.2013</td>\n",
              "      <td>0</td>\n",
              "      <td>59</td>\n",
              "      <td>22154</td>\n",
              "      <td>999.0</td>\n",
              "      <td>1</td>\n",
              "    </tr>\n",
              "    <tr>\n",
              "      <th>1</th>\n",
              "      <td>03.01.2013</td>\n",
              "      <td>0</td>\n",
              "      <td>25</td>\n",
              "      <td>2552</td>\n",
              "      <td>899.0</td>\n",
              "      <td>1</td>\n",
              "    </tr>\n",
              "    <tr>\n",
              "      <th>2</th>\n",
              "      <td>05.01.2013</td>\n",
              "      <td>0</td>\n",
              "      <td>25</td>\n",
              "      <td>2552</td>\n",
              "      <td>899.0</td>\n",
              "      <td>-1</td>\n",
              "    </tr>\n",
              "    <tr>\n",
              "      <th>4</th>\n",
              "      <td>15.01.2013</td>\n",
              "      <td>0</td>\n",
              "      <td>25</td>\n",
              "      <td>2555</td>\n",
              "      <td>1099.0</td>\n",
              "      <td>1</td>\n",
              "    </tr>\n",
              "    <tr>\n",
              "      <th>5</th>\n",
              "      <td>12.01.2013</td>\n",
              "      <td>0</td>\n",
              "      <td>25</td>\n",
              "      <td>3253</td>\n",
              "      <td>899.0</td>\n",
              "      <td>1</td>\n",
              "    </tr>\n",
              "  </tbody>\n",
              "</table>\n",
              "</div>"
            ],
            "text/plain": [
              "         date  date_block_num  shop_id  item_id  item_price  item_cnt_day\n",
              "0  02.01.2013               0       59    22154       999.0             1\n",
              "1  03.01.2013               0       25     2552       899.0             1\n",
              "2  05.01.2013               0       25     2552       899.0            -1\n",
              "4  15.01.2013               0       25     2555      1099.0             1\n",
              "5  12.01.2013               0       25     3253       899.0             1"
            ]
          },
          "metadata": {
            "tags": []
          },
          "execution_count": 57
        }
      ]
    },
    {
      "cell_type": "markdown",
      "metadata": {
        "id": "n-x1Ly6tbxa8",
        "colab_type": "text"
      },
      "source": [
        "#### Using box plots"
      ]
    },
    {
      "cell_type": "code",
      "metadata": {
        "id": "kYq7oXeMbxa9",
        "colab_type": "code",
        "colab": {}
      },
      "source": [
        "%matplotlib inline\n",
        "import seaborn as sns"
      ],
      "execution_count": 0,
      "outputs": []
    },
    {
      "cell_type": "code",
      "metadata": {
        "id": "4NLwsiipbxbA",
        "colab_type": "code",
        "colab": {
          "base_uri": "https://localhost:8080/",
          "height": 298
        },
        "outputId": "964ee160-e3c8-4671-d29a-e1dfcb8445a4"
      },
      "source": [
        "sns.boxplot(x=train['item_price'])"
      ],
      "execution_count": 59,
      "outputs": [
        {
          "output_type": "execute_result",
          "data": {
            "text/plain": [
              "<matplotlib.axes._subplots.AxesSubplot at 0x7f3f064cf748>"
            ]
          },
          "metadata": {
            "tags": []
          },
          "execution_count": 59
        },
        {
          "output_type": "display_data",
          "data": {
            "image/png": "[encoded data removed]",
            "text/plain": [
              "<Figure size 432x288 with 1 Axes>"
            ]
          },
          "metadata": {
            "tags": []
          }
        }
      ]
    },
    {
      "cell_type": "code",
      "metadata": {
        "id": "6v4gw0IwbxbD",
        "colab_type": "code",
        "colab": {
          "base_uri": "https://localhost:8080/",
          "height": 298
        },
        "outputId": "ae0d10bd-6123-4eaf-89c8-a705e631d367"
      },
      "source": [
        "sns.boxplot(x=train['item_cnt_day'])"
      ],
      "execution_count": 60,
      "outputs": [
        {
          "output_type": "execute_result",
          "data": {
            "text/plain": [
              "<matplotlib.axes._subplots.AxesSubplot at 0x7f3f05fa0240>"
            ]
          },
          "metadata": {
            "tags": []
          },
          "execution_count": 60
        },
        {
          "output_type": "display_data",
          "data": {
            "image/png": "[encoded data removed]",
            "text/plain": [
              "<Figure size 432x288 with 1 Axes>"
            ]
          },
          "metadata": {
            "tags": []
          }
        }
      ]
    },
    {
      "cell_type": "markdown",
      "metadata": {
        "id": "bgnlrZ9qbxbH",
        "colab_type": "text"
      },
      "source": [
        "#### Using scatter plots"
      ]
    },
    {
      "cell_type": "code",
      "metadata": {
        "id": "rvIOL6qybxbI",
        "colab_type": "code",
        "colab": {
          "base_uri": "https://localhost:8080/",
          "height": 298
        },
        "outputId": "e24172f4-4c76-4e29-8cbe-6b82253a8cbb"
      },
      "source": [
        "sns.scatterplot(x=\"item_cnt_day\", y=\"item_price\", data=train)"
      ],
      "execution_count": 61,
      "outputs": [
        {
          "output_type": "execute_result",
          "data": {
            "text/plain": [
              "<matplotlib.axes._subplots.AxesSubplot at 0x7f3f05f7b320>"
            ]
          },
          "metadata": {
            "tags": []
          },
          "execution_count": 61
        },
        {
          "output_type": "display_data",
          "data": {
            "image/png": "[encoded data removed]",
            "text/plain": [
              "<Figure size 432x288 with 1 Axes>"
            ]
          },
          "metadata": {
            "tags": []
          }
        }
      ]
    },
    {
      "cell_type": "markdown",
      "metadata": {
        "id": "9Td67Rk2bxbM",
        "colab_type": "text"
      },
      "source": [
        "### Mode"
      ]
    },
    {
      "cell_type": "code",
      "metadata": {
        "id": "EXAx-rpsbxbN",
        "colab_type": "code",
        "colab": {
          "base_uri": "https://localhost:8080/",
          "height": 78
        },
        "outputId": "7d55036f-576c-4a23-ef2f-718d39cc6d74"
      },
      "source": [
        "train.mode()"
      ],
      "execution_count": 62,
      "outputs": [
        {
          "output_type": "execute_result",
          "data": {
            "text/html": [
              "<div>\n",
              "<style scoped>\n",
              "    .dataframe tbody tr th:only-of-type {\n",
              "        vertical-align: middle;\n",
              "    }\n",
              "\n",
              "    .dataframe tbody tr th {\n",
              "        vertical-align: top;\n",
              "    }\n",
              "\n",
              "    .dataframe thead th {\n",
              "        text-align: right;\n",
              "    }\n",
              "</style>\n",
              "<table border=\"1\" class=\"dataframe\">\n",
              "  <thead>\n",
              "    <tr style=\"text-align: right;\">\n",
              "      <th></th>\n",
              "      <th>date</th>\n",
              "      <th>date_block_num</th>\n",
              "      <th>shop_id</th>\n",
              "      <th>item_id</th>\n",
              "      <th>item_price</th>\n",
              "      <th>item_cnt_day</th>\n",
              "    </tr>\n",
              "  </thead>\n",
              "  <tbody>\n",
              "    <tr>\n",
              "      <th>0</th>\n",
              "      <td>23.02.2013</td>\n",
              "      <td>2</td>\n",
              "      <td>31</td>\n",
              "      <td>20949</td>\n",
              "      <td>299.0</td>\n",
              "      <td>1</td>\n",
              "    </tr>\n",
              "  </tbody>\n",
              "</table>\n",
              "</div>"
            ],
            "text/plain": [
              "         date  date_block_num  shop_id  item_id  item_price  item_cnt_day\n",
              "0  23.02.2013               2       31    20949       299.0             1"
            ]
          },
          "metadata": {
            "tags": []
          },
          "execution_count": 62
        }
      ]
    }
  ]
}