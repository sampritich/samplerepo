{
  "nbformat": 4,
  "nbformat_minor": 0,
  "metadata": {
    "colab": {
      "name": "Untitled3.ipynb",
      "provenance": [],
      "include_colab_link": true
    },
    "kernelspec": {
      "name": "python3",
      "display_name": "Python 3"
    },
    "accelerator": "GPU"
  },
  "cells": [
    {
      "cell_type": "markdown",
      "metadata": {
        "id": "view-in-github",
        "colab_type": "text"
      },
      "source": [
        "<a href=\"https://colab.research.google.com/github/sampritich/samplerepo/blob/master/basics_of_tensorflow.ipynb\" target=\"_parent\"><img src=\"https://colab.research.google.com/assets/colab-badge.svg\" alt=\"Open In Colab\"/></a>"
      ]
    },
    {
      "cell_type": "code",
      "metadata": {
        "id": "LyaW0s7AhTZw",
        "colab_type": "code",
        "colab": {
          "base_uri": "https://localhost:8080/",
          "height": 34
        },
        "outputId": "0ff2851f-05df-439d-9776-b83e56bd896d"
      },
      "source": [
        "import tensorflow as tf\n",
        "print(tf.version)"
      ],
      "execution_count": 3,
      "outputs": [
        {
          "output_type": "stream",
          "text": [
            "<module 'tensorflow._api.v1.version' from '/usr/local/lib/python3.6/dist-packages/tensorflow_core/_api/v1/version/__init__.py'>\n"
          ],
          "name": "stdout"
        }
      ]
    },
    {
      "cell_type": "code",
      "metadata": {
        "id": "iu5lsRi4iBP2",
        "colab_type": "code",
        "colab": {
          "base_uri": "https://localhost:8080/",
          "height": 34
        },
        "outputId": "ef97dbea-4ab6-4dab-91fb-3245f9b81d52"
      },
      "source": [
        "hello = tf.constant(\"Hi\")\n",
        "type(hello)\n"
      ],
      "execution_count": 5,
      "outputs": [
        {
          "output_type": "execute_result",
          "data": {
            "text/plain": [
              "tensorflow.python.framework.ops.Tensor"
            ]
          },
          "metadata": {
            "tags": []
          },
          "execution_count": 5
        }
      ]
    },
    {
      "cell_type": "code",
      "metadata": {
        "id": "Lx7EROiuiBSq",
        "colab_type": "code",
        "colab": {
          "base_uri": "https://localhost:8080/",
          "height": 34
        },
        "outputId": "e9924ff8-14f5-4862-af00-bf7a21ba1747"
      },
      "source": [
        "print(hello) # by printing hello you will not able to fetch the data in tensorflow "
      ],
      "execution_count": 8,
      "outputs": [
        {
          "output_type": "stream",
          "text": [
            "Tensor(\"Const_1:0\", shape=(), dtype=string)\n"
          ],
          "name": "stdout"
        }
      ]
    },
    {
      "cell_type": "code",
      "metadata": {
        "id": "4IywpoPgiBWm",
        "colab_type": "code",
        "colab": {
          "base_uri": "https://localhost:8080/",
          "height": 34
        },
        "outputId": "351f5b22-987f-4a3e-b203-bb94ecfafdbc"
      },
      "source": [
        "sess = tf.Session()  # to do any kind of operation in tensorflow you need to use session object\n",
        "print(sess.run(hello)) # output b term for bytes\n",
        "  \n",
        "   "
      ],
      "execution_count": 15,
      "outputs": [
        {
          "output_type": "stream",
          "text": [
            "b'Hi'\n"
          ],
          "name": "stdout"
        }
      ]
    },
    {
      "cell_type": "code",
      "metadata": {
        "id": "ayr0zdURiBer",
        "colab_type": "code",
        "colab": {
          "base_uri": "https://localhost:8080/",
          "height": 34
        },
        "outputId": "c058045b-86b6-4cea-d941-45a21bb58276"
      },
      "source": [
        "#addition perform\n",
        "\n",
        "a = tf.constant(10)\n",
        "\n",
        "b = tf.constant(20)\n",
        "\n",
        "sess= tf.Session()\n",
        "\n",
        "print(sess.run(a+b))"
      ],
      "execution_count": 16,
      "outputs": [
        {
          "output_type": "stream",
          "text": [
            "30\n"
          ],
          "name": "stdout"
        }
      ]
    },
    {
      "cell_type": "code",
      "metadata": {
        "id": "4ef1FNBKiBiD",
        "colab_type": "code",
        "colab": {}
      },
      "source": [
        "# Tensor is n dimentionaal array\n"
      ],
      "execution_count": 0,
      "outputs": []
    },
    {
      "cell_type": "code",
      "metadata": {
        "id": "UL8mhowCiBkt",
        "colab_type": "code",
        "colab": {
          "base_uri": "https://localhost:8080/",
          "height": 85
        },
        "outputId": "0b823c96-a708-4779-aca6-408f39ae4061"
      },
      "source": [
        "fill_mat = tf.fill((4,4),10)\n",
        "sess = tf.Session() \n",
        "\n",
        "print(sess.run(fill_mat)) # It will create a array of 4*4 with value = 10"
      ],
      "execution_count": 20,
      "outputs": [
        {
          "output_type": "stream",
          "text": [
            "[[10 10 10 10]\n",
            " [10 10 10 10]\n",
            " [10 10 10 10]\n",
            " [10 10 10 10]]\n"
          ],
          "name": "stdout"
        }
      ]
    },
    {
      "cell_type": "code",
      "metadata": {
        "id": "RlZ1TO2OiBno",
        "colab_type": "code",
        "colab": {
          "base_uri": "https://localhost:8080/",
          "height": 34
        },
        "outputId": "579ebc77-15d9-4b40-c46e-36e3a8569d0d"
      },
      "source": [
        "Zero_mat= tf.zeros((4*4))\n",
        "\n",
        "sess = tf.Session() \n",
        "\n",
        "print(sess.run(Zero_mat)) "
      ],
      "execution_count": 23,
      "outputs": [
        {
          "output_type": "stream",
          "text": [
            "[0. 0. 0. 0. 0. 0. 0. 0. 0. 0. 0. 0. 0. 0. 0. 0.]\n"
          ],
          "name": "stdout"
        }
      ]
    },
    {
      "cell_type": "code",
      "metadata": {
        "id": "kNem_qYoiBqY",
        "colab_type": "code",
        "colab": {
          "base_uri": "https://localhost:8080/",
          "height": 34
        },
        "outputId": "01a3a74e-9282-47af-bdc8-81b214db1234"
      },
      "source": [
        "one_mat = tf.ones(4*4)\n",
        "sess = tf.Session() \n",
        "\n",
        "print(sess.run(one_mat)) "
      ],
      "execution_count": 25,
      "outputs": [
        {
          "output_type": "stream",
          "text": [
            "[1. 1. 1. 1. 1. 1. 1. 1. 1. 1. 1. 1. 1. 1. 1. 1.]\n"
          ],
          "name": "stdout"
        }
      ]
    },
    {
      "cell_type": "code",
      "metadata": {
        "id": "jkMt-nFyqx3o",
        "colab_type": "code",
        "colab": {}
      },
      "source": [
        "sess=tf.InteractiveSession()"
      ],
      "execution_count": 0,
      "outputs": []
    },
    {
      "cell_type": "code",
      "metadata": {
        "id": "uIiVDIoriBtV",
        "colab_type": "code",
        "colab": {
          "base_uri": "https://localhost:8080/",
          "height": 221
        },
        "outputId": "543a8438-23ca-40d4-af43-afadd8c57533"
      },
      "source": [
        "fun = [fill_mat,Zero_mat,one_mat]\n",
        "\n",
        "for i in fun:\n",
        "  print(sess.run(i))\n",
        "  print('\\n')"
      ],
      "execution_count": 45,
      "outputs": [
        {
          "output_type": "stream",
          "text": [
            "[[10 10 10 10]\n",
            " [10 10 10 10]\n",
            " [10 10 10 10]\n",
            " [10 10 10 10]]\n",
            "\n",
            "\n",
            "[0. 0. 0. 0. 0. 0. 0. 0. 0. 0. 0. 0. 0. 0. 0. 0.]\n",
            "\n",
            "\n",
            "[1. 1. 1. 1. 1. 1. 1. 1. 1. 1. 1. 1. 1. 1. 1. 1.]\n",
            "\n",
            "\n"
          ],
          "name": "stdout"
        }
      ]
    },
    {
      "cell_type": "code",
      "metadata": {
        "id": "u6opwYvhiBwQ",
        "colab_type": "code",
        "colab": {
          "base_uri": "https://localhost:8080/",
          "height": 34
        },
        "outputId": "998aada9-4010-448e-944f-a94db2337a6f"
      },
      "source": [
        "arr= tf.constant([[1,2],[2,3]])\n",
        "arr.get_shape()"
      ],
      "execution_count": 48,
      "outputs": [
        {
          "output_type": "execute_result",
          "data": {
            "text/plain": [
              "TensorShape([Dimension(2), Dimension(2)])"
            ]
          },
          "metadata": {
            "tags": []
          },
          "execution_count": 48
        }
      ]
    },
    {
      "cell_type": "code",
      "metadata": {
        "id": "-1PxNDh1iBzB",
        "colab_type": "code",
        "colab": {
          "base_uri": "https://localhost:8080/",
          "height": 51
        },
        "outputId": "d3692098-ae0e-4716-a140-7ce378feb899"
      },
      "source": [
        "sess=tf.Session()\n",
        "\n",
        "print(sess.run(arr))"
      ],
      "execution_count": 47,
      "outputs": [
        {
          "output_type": "stream",
          "text": [
            "[[1 2]\n",
            " [2 3]]\n"
          ],
          "name": "stdout"
        }
      ]
    },
    {
      "cell_type": "code",
      "metadata": {
        "id": "8h-gdfUsvR9T",
        "colab_type": "code",
        "colab": {
          "base_uri": "https://localhost:8080/",
          "height": 51
        },
        "outputId": "6ee55959-0167-488e-fe88-636d35f99192"
      },
      "source": [
        "arr1= tf.constant([[1],[100]])\n",
        "arr1.get_shape()\n",
        "\n",
        "result=tf.matmul(arr,arr1)\n",
        "\n",
        "\n",
        "\n",
        "sess=tf.Session()\n",
        "\n",
        "print(sess.run(result))\n"
      ],
      "execution_count": 54,
      "outputs": [
        {
          "output_type": "stream",
          "text": [
            "[[201]\n",
            " [302]]\n"
          ],
          "name": "stdout"
        }
      ]
    }
  ]
}