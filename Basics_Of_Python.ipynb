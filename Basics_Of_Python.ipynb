{
  "nbformat": 4,
  "nbformat_minor": 0,
  "metadata": {
    "kernelspec": {
      "name": "python36",
      "display_name": "Python 3.6",
      "language": "python"
    },
    "language_info": {
      "mimetype": "text/x-python",
      "nbconvert_exporter": "python",
      "name": "python",
      "pygments_lexer": "ipython3",
      "version": "3.6.6",
      "file_extension": ".py",
      "codemirror_mode": {
        "version": 3,
        "name": "ipython"
      }
    },
    "colab": {
      "name": "Basics_Of_Python.ipynb",
      "provenance": [],
      "collapsed_sections": [],
      "include_colab_link": true
    }
  },
  "cells": [
    {
      "cell_type": "markdown",
      "metadata": {
        "id": "view-in-github",
        "colab_type": "text"
      },
      "source": [
        "<a href=\"https://colab.research.google.com/github/sampritich/samplerepo/blob/master/Basics_Of_Python.ipynb\" target=\"_parent\"><img src=\"https://colab.research.google.com/assets/colab-badge.svg\" alt=\"Open In Colab\"/></a>"
      ]
    },
    {
      "cell_type": "markdown",
      "metadata": {
        "id": "IJfm4P3ZS_kY",
        "colab_type": "text"
      },
      "source": [
        "<div style=\"text-align: center\"><img src=\"https://www.python.org/static/img/python-logo.png\"></div>"
      ]
    },
    {
      "cell_type": "markdown",
      "metadata": {
        "id": "3jbsX8jJS_kf",
        "colab_type": "text"
      },
      "source": [
        "# Getting Started with Python\n",
        "\n",
        "\n",
        "---\n",
        "\n",
        "\n",
        "\n",
        "\n",
        "\n",
        "\n",
        "## What is Python?\n",
        "So let me clear the air by introducing you to what exactly is Python. \n",
        "Python is a popular programming language that is reliable, flexible, easy to learn, free to use on all operating systems, and supported by both a strong developer community and many free libraries. Python supports all manners of development, including web applications, web services, desktop apps, scripting, data science, scientific computing, and Jupyter notebooks. Python is a language used by many universities, scientists, casual developers, and professional developers alike.\n",
        "\n",
        "\n",
        "## Why Python?\n",
        "You would wonder why use Python anyways? Let me help you understand using the keywords in the formal definition of Python.\n",
        "\n",
        "\n",
        "*   **High Level** :\n",
        "Python derives components from the natural language that we humans use to communicate with each other. This makes it easier for anyone to try and relate what exactly could be happening without the burden of going through tons of machine code.\n",
        "\n",
        "*   **Interpreted** :\n",
        "Python codes are compiled line-by-line which makes debugging errors much easier and efficient. But this comes at a cost as it is much slower than other programming languages.\n",
        "\n",
        "*   **Easy Syntax** :\n",
        "Python makes use of indentations instead of braces to distinguish what blocks of code come under which class or function. This makes the code look well distributed and makes it easy for anyone to read it.\n",
        "\n",
        "*   **Dynamic Semantics** :\n",
        "If you are an old school coder, you would know that before using anything, you would need to initialize it. It does all of this dynamically.\n",
        "\n",
        "\n",
        "You can learn more about the language on [python.org](https://www.python.org/) and [Python for Beginners](https://www.python.org/about/gettingstarted/).\n",
        "Or you can refer to [edureka python blogs](https://www.edureka.co/blog/what-is-python/): \n",
        "\n",
        "This introduction is written for Python 3.6.7 but is generally applicable to other Python 3.x versions. \n",
        "\n",
        "The original material is Copyright (c) 2001-2018 Python Software Foundation.\n",
        "\n",
        "> **Note**: This notebook is designed to have you run code cells one by one, and several code cells contain deliberate errors for demonstration purposes. As a result, if you use the **Cell** > **Run All** command, some code cells past the error won't be run. To resume running the code in each case, use **Cell** > **Run All Below** from the cell after the error."
      ]
    },
    {
      "cell_type": "markdown",
      "metadata": {
        "id": "OVnxctMpy1Wp",
        "colab_type": "text"
      },
      "source": [
        "# Careers in Python\n",
        "\n",
        "\n",
        "---\n",
        "\n",
        "\n",
        "\n",
        "\n",
        "Inclination towards being curious and hands-on is desired as Python demands that we get our hands dirty and like to fiddle around the system for errors and other issues.\n",
        "\n",
        "In an independent 3rd party survey, it has been found that the Python programming language is currently the most popular language for Data Scientists worldwide. This claim is substantiated by IEEE, which tracks programming languages by popularity. According to them, Python tops the list of the most popular programming languages in 2018. Not only this, Python is finding its application in diverse domains, as illustrated below.\n",
        "\n",
        "\n",
        "![alt text](https://d1jnx9ba8s6j9r.cloudfront.net/blog/wp-content/uploads/2016/02/PythonApplications-Python-Career-Opurtunity-Edureka-1.png)\n",
        "\n"
      ]
    },
    {
      "cell_type": "markdown",
      "metadata": {
        "id": "LL0oKVaU1d5m",
        "colab_type": "text"
      },
      "source": [
        "#Python Salary\n",
        "---\n",
        "By the end of 2017, Python was delivering some impressive numbers. A recent Indeed.com inquiry also revealed at least 55,000 Python jobs in USA with exponential salary figures.\n",
        "\n",
        "According to Payscale.com, below are graphs depicting average Python salary for India and US.\n",
        "![alt text](https://d1jnx9ba8s6j9r.cloudfront.net/blog/wp-content/uploads/2016/02/Job-Profiles-Python-Career-Oppurtunity-Edureka-1.png)\n"
      ]
    },
    {
      "cell_type": "markdown",
      "metadata": {
        "id": "pXZwBNHp1rS5",
        "colab_type": "text"
      },
      "source": [
        "![alt text](https://d1jnx9ba8s6j9r.cloudfront.net/blog/wp-content/uploads/2016/02/Job-Profiles-Python-Career-Oppurtunity-Edureka.png)"
      ]
    },
    {
      "cell_type": "markdown",
      "metadata": {
        "id": "9nnyy6_d2bx8",
        "colab_type": "text"
      },
      "source": [
        "# Interesting Facts You Need To Know About Python\n",
        "---\n",
        "\n",
        "\n",
        "\n",
        "##1. Do you know who invented Python?\n",
        "\n",
        "**Guido Van Rossum** : A Dutch programmer, popularly known as the author of Python programming language. He has created Python in 1989 and has worked for Google and Dropbox!\n",
        "\n",
        "![alt text](https://cms.qz.com/wp-content/uploads/2019/05/Guido-van-Rossum-e1558635088256.jpg?quality=75&strip=all&w=410&h=231)\n",
        "\n",
        "##2. Ever wondered why is it named Python?\n",
        "\n",
        "There’s an interesting story behind it. While implementing Python, Van Rossum was also reading the published scripts from **“Monty Python’s Flying Circus”**, a BBC comedy series from the 1970s. Since he wanted a short, unique and slightly mysterious name for his invention, he got inspired by the series and named it Python!\n",
        "\n",
        "![alt text](https://m.media-amazon.com/images/M/MV5BOTFmYTc3ZWEtNTYxNi00OTA4LTk2NjEtNTI2MTJlNzkyMDdlXkEyXkFqcGdeQWpybA@@._V1_UX477_CR0,0,477,268_AL_.jpg)\n",
        "\n"
      ]
    },
    {
      "cell_type": "markdown",
      "metadata": {
        "id": "6nPWZtSS4Gcb",
        "colab_type": "text"
      },
      "source": [
        "##3. What are some real-life applications?\n",
        "\n",
        "1.  Over 75% of what you watch is recommended by Netflix and the recommendations are made by Machine Learning which uses Python!\n",
        "\n",
        "![alt text](https://www.edureka.co/blog/content/ver.1531477880/uploads/2018/07/NETFLIX-1.gif)\n",
        "\n",
        "2.  Facebook is using Machine Learning to tag in posts and images.\n",
        "\n",
        "![alt text](https://www.edureka.co/blog/content/ver.1531477880/uploads/2018/07/facebook-1.gif)\n",
        "\n",
        "3.  Alexa is Amazon’s Virtual Personal Assistance used for speech recognition, weather detection etc.\n",
        "\n",
        "![alt text](https://www.edureka.co/blog/content/ver.1531477880/uploads/2018/07/Amazon-Alexa-Edureka.gif)\n",
        "|"
      ]
    },
    {
      "cell_type": "markdown",
      "metadata": {
        "id": "xYaAqXof6C4U",
        "colab_type": "text"
      },
      "source": [
        "# Features of Python\n",
        "\n",
        "---\n",
        "\n",
        "\n",
        "![alt text](https://d1jnx9ba8s6j9r.cloudfront.net/blog/wp-content/uploads/2018/07/Python-Features-Edureka-1.png)\n",
        " The simplicity of Python is what makes it so popular!"
      ]
    },
    {
      "cell_type": "markdown",
      "metadata": {
        "id": "5QH82sMiS_kh",
        "colab_type": "text"
      },
      "source": [
        "## Comments\n",
        "\n",
        "Most of the examples in this notebook include comments. \n",
        "\n",
        "\n",
        "*   A Comments in Python start with the hash character, `#`\n",
        "*   A comment may appear at the start of a line or following whitespace or code, but not within a string literal\n",
        "*   A hash character within a string literal is just a hash character.\n",
        "*   Comments are used just to clarify the code and are not interpreted by python\n",
        "\n",
        "For example:"
      ]
    },
    {
      "cell_type": "code",
      "metadata": {
        "trusted": true,
        "id": "ePjdT8vNS_kl",
        "colab_type": "code",
        "outputId": "064fafda-1fcd-414e-fd8c-6d913f6b8af3",
        "colab": {
          "base_uri": "https://localhost:8080/",
          "height": 35
        }
      },
      "source": [
        "# this is the first comment\n",
        "spam = 1  # and this is the second comment\n",
        "          # ... and now a third!\n",
        "text = \"# This is not a comment because it's inside quotes.\"\n",
        "print(text)"
      ],
      "execution_count": 0,
      "outputs": [
        {
          "output_type": "stream",
          "text": [
            "# This is not a comment because it's inside quotes.\n"
          ],
          "name": "stdout"
        }
      ]
    },
    {
      "cell_type": "markdown",
      "metadata": {
        "id": "xfqyLYkTS_ky",
        "colab_type": "text"
      },
      "source": [
        "## Explore basic data types\n",
        "\n",
        "Let's try some simple Python commands to explore numbers, strings, and lists."
      ]
    },
    {
      "cell_type": "markdown",
      "metadata": {
        "id": "RqLdpwQVS_k0",
        "colab_type": "text"
      },
      "source": [
        "### Numbers\n",
        "\n",
        "The Python interpreter can act as a simple calculator: type an expression at it outputs the value.\n",
        "\n",
        "Expression syntax is straightforward: the operators `+`, `-`, `*` and `/` work just like in most other programming languages (such as Pascal or C); parentheses (`()`) can be used for grouping and order or precedence. For example:"
      ]
    },
    {
      "cell_type": "code",
      "metadata": {
        "trusted": true,
        "id": "D69NLNelS_k2",
        "colab_type": "code",
        "outputId": "e26d5a72-5dcc-4a6c-ad7d-5dadbefcb3e6",
        "colab": {
          "base_uri": "https://localhost:8080/",
          "height": 35
        }
      },
      "source": [
        "2 + 2"
      ],
      "execution_count": 0,
      "outputs": [
        {
          "output_type": "execute_result",
          "data": {
            "text/plain": [
              "4"
            ]
          },
          "metadata": {
            "tags": []
          },
          "execution_count": 93
        }
      ]
    },
    {
      "cell_type": "code",
      "metadata": {
        "trusted": true,
        "id": "LOwhtjPxS_k7",
        "colab_type": "code",
        "outputId": "16a24b67-ae3b-408e-991f-4d50e3b93164",
        "colab": {
          "base_uri": "https://localhost:8080/",
          "height": 35
        }
      },
      "source": [
        "50 - 5*6"
      ],
      "execution_count": 0,
      "outputs": [
        {
          "output_type": "execute_result",
          "data": {
            "text/plain": [
              "20"
            ]
          },
          "metadata": {
            "tags": []
          },
          "execution_count": 94
        }
      ]
    },
    {
      "cell_type": "code",
      "metadata": {
        "trusted": true,
        "id": "xSjXOrwfS_k-",
        "colab_type": "code",
        "outputId": "f255508a-8cdb-43b1-c630-c1c405173404",
        "colab": {
          "base_uri": "https://localhost:8080/",
          "height": 35
        }
      },
      "source": [
        "(50 - 5*6) / 4"
      ],
      "execution_count": 0,
      "outputs": [
        {
          "output_type": "execute_result",
          "data": {
            "text/plain": [
              "5.0"
            ]
          },
          "metadata": {
            "tags": []
          },
          "execution_count": 95
        }
      ]
    },
    {
      "cell_type": "code",
      "metadata": {
        "trusted": true,
        "id": "RGKQMQtwS_lC",
        "colab_type": "code",
        "outputId": "63930c9f-e0b0-423a-aab0-af5f04551e8f",
        "colab": {
          "base_uri": "https://localhost:8080/",
          "height": 35
        }
      },
      "source": [
        "8 / 5  # Division always returns a floating point number."
      ],
      "execution_count": 0,
      "outputs": [
        {
          "output_type": "execute_result",
          "data": {
            "text/plain": [
              "1.6"
            ]
          },
          "metadata": {
            "tags": []
          },
          "execution_count": 96
        }
      ]
    },
    {
      "cell_type": "markdown",
      "metadata": {
        "id": "MLy__sp_S_lE",
        "colab_type": "text"
      },
      "source": [
        "The integer numbers (e.g. `2`, `4`, `20`) have type [`int`](https://docs.python.org/3.5/library/functions.html#int), the ones with a fractional part (e.g. `5.0`, `1.6`) have type [`float`](https://docs.python.org/3.5/library/functions.html#float). We'll see more about numeric types later in the tutorial.\n",
        "\n",
        "Division (`/`) always returns a float. To do [floor division](https://docs.python.org/3.5/glossary.html#term-floor-division) and get an integer result (discarding any fractional result) you can use the `//` operator; to calculate the remainder you can use `%`:"
      ]
    },
    {
      "cell_type": "code",
      "metadata": {
        "trusted": true,
        "id": "8CFsQtz2S_lF",
        "colab_type": "code",
        "outputId": "25d5a470-188a-4e44-a3f6-22e18cc58e24",
        "colab": {
          "base_uri": "https://localhost:8080/",
          "height": 35
        }
      },
      "source": [
        "17 / 3  # Classic division returns a float."
      ],
      "execution_count": 0,
      "outputs": [
        {
          "output_type": "execute_result",
          "data": {
            "text/plain": [
              "5.666666666666667"
            ]
          },
          "metadata": {
            "tags": []
          },
          "execution_count": 97
        }
      ]
    },
    {
      "cell_type": "code",
      "metadata": {
        "trusted": true,
        "id": "Cg6JeqUCS_lH",
        "colab_type": "code",
        "outputId": "7c36c05a-39f0-4579-ed5b-db860935f22f",
        "colab": {
          "base_uri": "https://localhost:8080/",
          "height": 35
        }
      },
      "source": [
        "17 // 3  # Floor division discards the fractional part."
      ],
      "execution_count": 0,
      "outputs": [
        {
          "output_type": "execute_result",
          "data": {
            "text/plain": [
              "5"
            ]
          },
          "metadata": {
            "tags": []
          },
          "execution_count": 98
        }
      ]
    },
    {
      "cell_type": "code",
      "metadata": {
        "trusted": true,
        "id": "rI45jNnMS_lJ",
        "colab_type": "code",
        "outputId": "cad09e5d-b890-4ca0-ebf6-919340efcb29",
        "colab": {
          "base_uri": "https://localhost:8080/",
          "height": 35
        }
      },
      "source": [
        "17 % 3  # The % operator returns the remainder of the division."
      ],
      "execution_count": 0,
      "outputs": [
        {
          "output_type": "execute_result",
          "data": {
            "text/plain": [
              "2"
            ]
          },
          "metadata": {
            "tags": []
          },
          "execution_count": 99
        }
      ]
    },
    {
      "cell_type": "code",
      "metadata": {
        "trusted": true,
        "id": "9AdNz_iAS_lK",
        "colab_type": "code",
        "outputId": "14a51734-67a1-44e8-f2ec-31aeb7f11c75",
        "colab": {
          "base_uri": "https://localhost:8080/",
          "height": 35
        }
      },
      "source": [
        "5 * 3 + 2  # result * divisor + remainder"
      ],
      "execution_count": 0,
      "outputs": [
        {
          "output_type": "execute_result",
          "data": {
            "text/plain": [
              "17"
            ]
          },
          "metadata": {
            "tags": []
          },
          "execution_count": 100
        }
      ]
    },
    {
      "cell_type": "markdown",
      "metadata": {
        "id": "ovlUSAesS_lO",
        "colab_type": "text"
      },
      "source": [
        "Use the `**` operator to calculate powers:"
      ]
    },
    {
      "cell_type": "code",
      "metadata": {
        "trusted": true,
        "id": "B9aSTM8US_lQ",
        "colab_type": "code",
        "outputId": "0cac9269-82de-4194-e250-bc1ff3ed7c9d",
        "colab": {
          "base_uri": "https://localhost:8080/",
          "height": 35
        }
      },
      "source": [
        "5 ** 2  # 5 squared"
      ],
      "execution_count": 0,
      "outputs": [
        {
          "output_type": "execute_result",
          "data": {
            "text/plain": [
              "25"
            ]
          },
          "metadata": {
            "tags": []
          },
          "execution_count": 101
        }
      ]
    },
    {
      "cell_type": "code",
      "metadata": {
        "trusted": true,
        "id": "rOduYkC5S_lS",
        "colab_type": "code",
        "outputId": "3c47b985-6ea1-44c2-f21b-f68090b1d16a",
        "colab": {
          "base_uri": "https://localhost:8080/",
          "height": 35
        }
      },
      "source": [
        "2 ** 7  # 2 to the power of 7"
      ],
      "execution_count": 0,
      "outputs": [
        {
          "output_type": "execute_result",
          "data": {
            "text/plain": [
              "128"
            ]
          },
          "metadata": {
            "tags": []
          },
          "execution_count": 102
        }
      ]
    },
    {
      "cell_type": "markdown",
      "metadata": {
        "id": "qsMoSJnpS_lT",
        "colab_type": "text"
      },
      "source": [
        "`**` has higher precedence than `-`; if you want a negative base, use parentheses:"
      ]
    },
    {
      "cell_type": "code",
      "metadata": {
        "trusted": true,
        "id": "d4Kh6eQXS_lU",
        "colab_type": "code",
        "outputId": "384b47b4-52e7-4c4b-fbd8-303b2b445ea2",
        "colab": {
          "base_uri": "https://localhost:8080/",
          "height": 35
        }
      },
      "source": [
        "-3**2  # Same as -(3**2)"
      ],
      "execution_count": 0,
      "outputs": [
        {
          "output_type": "execute_result",
          "data": {
            "text/plain": [
              "-9"
            ]
          },
          "metadata": {
            "tags": []
          },
          "execution_count": 103
        }
      ]
    },
    {
      "cell_type": "code",
      "metadata": {
        "trusted": true,
        "id": "28hPg5-5S_lW",
        "colab_type": "code",
        "outputId": "c6ed84b2-d93c-4eef-dd50-86481b7419f8",
        "colab": {
          "base_uri": "https://localhost:8080/",
          "height": 35
        }
      },
      "source": [
        "(-3)**2"
      ],
      "execution_count": 0,
      "outputs": [
        {
          "output_type": "execute_result",
          "data": {
            "text/plain": [
              "9"
            ]
          },
          "metadata": {
            "tags": []
          },
          "execution_count": 104
        }
      ]
    },
    {
      "cell_type": "markdown",
      "metadata": {
        "id": "nXnb3NUuS_lX",
        "colab_type": "text"
      },
      "source": [
        "The equal sign (`=`) assigns a value to a variable:"
      ]
    },
    {
      "cell_type": "code",
      "metadata": {
        "trusted": true,
        "id": "MU3ng0EPS_lX",
        "colab_type": "code",
        "outputId": "46d61031-a323-4d6e-bff2-28f10b6315fc",
        "colab": {
          "base_uri": "https://localhost:8080/",
          "height": 35
        }
      },
      "source": [
        "width = 20\n",
        "height = 5 * 90\n",
        "width * height"
      ],
      "execution_count": 0,
      "outputs": [
        {
          "output_type": "execute_result",
          "data": {
            "text/plain": [
              "9000"
            ]
          },
          "metadata": {
            "tags": []
          },
          "execution_count": 105
        }
      ]
    },
    {
      "cell_type": "markdown",
      "metadata": {
        "id": "dE2IzYqsS_lZ",
        "colab_type": "text"
      },
      "source": [
        "If a variable is not \"defined\" (assigned a value), using it produces an error:"
      ]
    },
    {
      "cell_type": "code",
      "metadata": {
        "trusted": true,
        "id": "8OWNmoYeS_lZ",
        "colab_type": "code",
        "outputId": "831ec23b-974a-46a1-ffb0-5e44313d3e54",
        "colab": {
          "base_uri": "https://localhost:8080/",
          "height": 171
        }
      },
      "source": [
        "n  # Try to access an undefined variable."
      ],
      "execution_count": 0,
      "outputs": [
        {
          "output_type": "error",
          "ename": "NameError",
          "evalue": "ignored",
          "traceback": [
            "\u001b[0;31m---------------------------------------------------------------------------\u001b[0m",
            "\u001b[0;31mNameError\u001b[0m                                 Traceback (most recent call last)",
            "\u001b[0;32m<ipython-input-106-2d383632fd8e>\u001b[0m in \u001b[0;36m<module>\u001b[0;34m()\u001b[0m\n\u001b[0;32m----> 1\u001b[0;31m \u001b[0mn\u001b[0m  \u001b[0;31m# Try to access an undefined variable.\u001b[0m\u001b[0;34m\u001b[0m\u001b[0;34m\u001b[0m\u001b[0m\n\u001b[0m",
            "\u001b[0;31mNameError\u001b[0m: name 'n' is not defined"
          ]
        }
      ]
    },
    {
      "cell_type": "markdown",
      "metadata": {
        "id": "PdN-34OjS_lb",
        "colab_type": "text"
      },
      "source": [
        "Python provides full support for floating point numbers; operators with mixed type operands convert the integer operand to floating point:"
      ]
    },
    {
      "cell_type": "code",
      "metadata": {
        "trusted": true,
        "id": "rqz2KlR8S_lb",
        "colab_type": "code",
        "colab": {}
      },
      "source": [
        "3 * 3.75 / 1.5"
      ],
      "execution_count": 0,
      "outputs": []
    },
    {
      "cell_type": "code",
      "metadata": {
        "trusted": true,
        "id": "LZdpmT1JS_ld",
        "colab_type": "code",
        "colab": {}
      },
      "source": [
        "7.0 / 2"
      ],
      "execution_count": 0,
      "outputs": []
    },
    {
      "cell_type": "markdown",
      "metadata": {
        "id": "vfs0Y7ZhS_le",
        "colab_type": "text"
      },
      "source": [
        "In interactive mode and in Jupyter notebooks, the last printed expression is assigned to the variable `_`. This means that when you're using Python as a desk calculator, its somewhat easier to continue calculations. For example:"
      ]
    },
    {
      "cell_type": "code",
      "metadata": {
        "trusted": true,
        "id": "9LWjs1fUS_lf",
        "colab_type": "code",
        "colab": {}
      },
      "source": [
        "tax = 12.5 / 100\n",
        "price = 100.50\n",
        "price * tax"
      ],
      "execution_count": 0,
      "outputs": []
    },
    {
      "cell_type": "code",
      "metadata": {
        "trusted": true,
        "id": "BuJR6kdCS_li",
        "colab_type": "code",
        "colab": {}
      },
      "source": [
        "price + _"
      ],
      "execution_count": 0,
      "outputs": []
    },
    {
      "cell_type": "code",
      "metadata": {
        "trusted": true,
        "id": "boUGG8cIS_lj",
        "colab_type": "code",
        "colab": {}
      },
      "source": [
        "round(_, 2)"
      ],
      "execution_count": 0,
      "outputs": []
    },
    {
      "cell_type": "markdown",
      "metadata": {
        "id": "3RN866GcS_ll",
        "colab_type": "text"
      },
      "source": [
        "Treat the `_` variable as read-only. Don't explicitly assign a value to it--doing so creates an independent local variable with the same name, thereby masking the built-in variable with its magic behavior.\n",
        "\n",
        "In addition to `int` and `float`, Python supports other types of numbers, such as [`Decimal`](https://docs.python.org/3.5/library/decimal.html#decimal.Decimal) and [`Fraction`](https://docs.python.org/3.5/library/fractions.html#fractions.Fraction). Python also has built-in support for [complex numbers](https://docs.python.org/3.5/library/stdtypes.html#typesnumeric), and uses the `j` or `J` suffix to indicate the imaginary part (e.g. `3+5j`)."
      ]
    },
    {
      "cell_type": "markdown",
      "metadata": {
        "id": "VQSZkSVwS_ln",
        "colab_type": "text"
      },
      "source": [
        "### Strings"
      ]
    },
    {
      "cell_type": "markdown",
      "metadata": {
        "id": "OmgHbDwaS_lo",
        "colab_type": "text"
      },
      "source": [
        "Besides numbers, Python can also manipulate strings. Strings can enclosed in single quotes (`'...'`) or double quotes (`\"...\"`) with the same result. Use `\\` to escape quotes, that is, to use a quote within the string itself:"
      ]
    },
    {
      "cell_type": "code",
      "metadata": {
        "trusted": true,
        "id": "S7WzuXP0S_lp",
        "colab_type": "code",
        "colab": {}
      },
      "source": [
        "'spam eggs'  # Single quotes."
      ],
      "execution_count": 0,
      "outputs": []
    },
    {
      "cell_type": "code",
      "metadata": {
        "trusted": true,
        "id": "FzJRH3H9S_lq",
        "colab_type": "code",
        "colab": {}
      },
      "source": [
        "'doesn\\'t'  # Use \\' to escape the single quote..."
      ],
      "execution_count": 0,
      "outputs": []
    },
    {
      "cell_type": "code",
      "metadata": {
        "trusted": true,
        "id": "FDEl5GRDS_lu",
        "colab_type": "code",
        "colab": {}
      },
      "source": [
        "\"doesn't\"  # ...or use double quotes instead."
      ],
      "execution_count": 0,
      "outputs": []
    },
    {
      "cell_type": "code",
      "metadata": {
        "trusted": true,
        "id": "4au8vsahS_lw",
        "colab_type": "code",
        "colab": {}
      },
      "source": [
        "'\"Yes,\" he said.'"
      ],
      "execution_count": 0,
      "outputs": []
    },
    {
      "cell_type": "code",
      "metadata": {
        "trusted": true,
        "id": "WD-D_A4QS_ly",
        "colab_type": "code",
        "colab": {}
      },
      "source": [
        "\"\\\"Yes,\\\" he said.\""
      ],
      "execution_count": 0,
      "outputs": []
    },
    {
      "cell_type": "code",
      "metadata": {
        "trusted": true,
        "id": "2iXsbD8nS_lz",
        "colab_type": "code",
        "colab": {}
      },
      "source": [
        "'\"Isn\\'t,\" she said.'"
      ],
      "execution_count": 0,
      "outputs": []
    },
    {
      "cell_type": "markdown",
      "metadata": {
        "id": "KHycghMBS_l1",
        "colab_type": "text"
      },
      "source": [
        "In the interactive interpreter and Jupyter notebooks, the output string is enclosed in quotes and special characters are escaped with backslashes. Although this output sometimes looks different from the input (the enclosing quotes could change), the two strings are equivalent. The string is enclosed in double quotes if the string contains a single quote and no double quotes, otherwise its enclosed in single quotes. The [`print()`](https://docs.python.org/3.6/library/functions.html#print) function produces a more readable output by omitting the enclosing quotes and by printing escaped and special characters:"
      ]
    },
    {
      "cell_type": "code",
      "metadata": {
        "trusted": true,
        "id": "g7IJdkXLS_l1",
        "colab_type": "code",
        "colab": {}
      },
      "source": [
        "'\"Isn\\'t,\" she said.'"
      ],
      "execution_count": 0,
      "outputs": []
    },
    {
      "cell_type": "code",
      "metadata": {
        "trusted": true,
        "id": "8PXC1r-vS_l2",
        "colab_type": "code",
        "colab": {}
      },
      "source": [
        "print('\"Isn\\'t,\" she said.')"
      ],
      "execution_count": 0,
      "outputs": []
    },
    {
      "cell_type": "code",
      "metadata": {
        "trusted": true,
        "id": "aFTympE2S_l3",
        "colab_type": "code",
        "colab": {}
      },
      "source": [
        "s = 'First line.\\nSecond line.'  # \\n means newline.\n",
        "s  # Without print(), \\n is included in the output."
      ],
      "execution_count": 0,
      "outputs": []
    },
    {
      "cell_type": "code",
      "metadata": {
        "trusted": true,
        "id": "WfymncsiS_l5",
        "colab_type": "code",
        "colab": {}
      },
      "source": [
        "print(s)  # With print(), \\n produces a new line."
      ],
      "execution_count": 0,
      "outputs": []
    },
    {
      "cell_type": "markdown",
      "metadata": {
        "id": "hgKk5iuwS_l6",
        "colab_type": "text"
      },
      "source": [
        "If you don't want escaped characters (prefaced by `\\`) to be interpreted as special characters, use *raw strings* by adding an `r` before the first quote:"
      ]
    },
    {
      "cell_type": "code",
      "metadata": {
        "trusted": true,
        "id": "UyMmv79kS_l8",
        "colab_type": "code",
        "colab": {}
      },
      "source": [
        "print('C:\\some\\name')  # Here \\n means newline!"
      ],
      "execution_count": 0,
      "outputs": []
    },
    {
      "cell_type": "code",
      "metadata": {
        "trusted": true,
        "id": "Nh23_Xw-S_l9",
        "colab_type": "code",
        "colab": {}
      },
      "source": [
        "print(r'C:\\some\\name')  # Note the r before the quote."
      ],
      "execution_count": 0,
      "outputs": []
    },
    {
      "cell_type": "markdown",
      "metadata": {
        "id": "UPbxgoCsS_l-",
        "colab_type": "text"
      },
      "source": [
        "String literals can span multiple lines and are delineated by triple-quotes: `\"\"\"...\"\"\"` or `'''...'''`. End of lines are automatically included in the string, but it's possible to prevent this by adding a `\\` at the end of the line. For example, without a `\\`, the following example includes an extra line at the beginning of the output:"
      ]
    },
    {
      "cell_type": "code",
      "metadata": {
        "trusted": true,
        "id": "5LNXRTdKS_l_",
        "colab_type": "code",
        "colab": {}
      },
      "source": [
        "print(\"\"\"\n",
        "Usage: thingy [OPTIONS]\n",
        "     -h                        Display this usage message\n",
        "     -H hostname               Hostname to connect to\n",
        "\"\"\")"
      ],
      "execution_count": 0,
      "outputs": []
    },
    {
      "cell_type": "markdown",
      "metadata": {
        "id": "w2i871_6S_mA",
        "colab_type": "text"
      },
      "source": [
        "Adding a `\\` removes that extra line:"
      ]
    },
    {
      "cell_type": "code",
      "metadata": {
        "trusted": true,
        "id": "M947f-nMS_mA",
        "colab_type": "code",
        "colab": {}
      },
      "source": [
        "print(\"\"\"\\\n",
        "Usage: thingy [OPTIONS]\n",
        "     -h                        Display this usage message\n",
        "     -H hostname               Hostname to connect to\n",
        "\"\"\")"
      ],
      "execution_count": 0,
      "outputs": []
    },
    {
      "cell_type": "markdown",
      "metadata": {
        "id": "YlETWuXiS_mC",
        "colab_type": "text"
      },
      "source": [
        "Because Python doesn't provide a means for creating multi-line comments, developers often just use triple quotes for this purpose. In a Jupyter notebook, however, such quotes define a string literal which appears as the output of a code cell:"
      ]
    },
    {
      "cell_type": "code",
      "metadata": {
        "trusted": true,
        "id": "JBPG173LS_mC",
        "colab_type": "code",
        "colab": {}
      },
      "source": [
        "\"\"\"\n",
        "Everything between the first three quotes, including new lines,\n",
        "is part of the multi-line comment. Technically, the Python interpreter\n",
        "simply sees the comment as a string, and because it's not otherwise\n",
        "used in code, the string is ignored. Convenient, eh?\n",
        "\"\"\""
      ],
      "execution_count": 0,
      "outputs": []
    },
    {
      "cell_type": "markdown",
      "metadata": {
        "id": "fINzM6AOS_mD",
        "colab_type": "text"
      },
      "source": [
        "For this reason, it's best in notebooks to use the `#` comment character at the beginning of each line, or better still, just use a Markdown cell!"
      ]
    },
    {
      "cell_type": "markdown",
      "metadata": {
        "id": "iGHFyM-CS_mD",
        "colab_type": "text"
      },
      "source": [
        "Strings can be *concatenated* (glued together) with the `+` operator, and repeated with `*`:"
      ]
    },
    {
      "cell_type": "code",
      "metadata": {
        "trusted": true,
        "id": "wB0dU8WlS_mE",
        "colab_type": "code",
        "colab": {}
      },
      "source": [
        "# 3 times 'un', followed by 'ium'\n",
        "3 * 'un' + 'ium'"
      ],
      "execution_count": 0,
      "outputs": []
    },
    {
      "cell_type": "markdown",
      "metadata": {
        "id": "XqrQND2JS_mF",
        "colab_type": "text"
      },
      "source": [
        "Two or more *string literals* (that is, the values enclosed in quotes) placed next to each other are automatically concatenated:"
      ]
    },
    {
      "cell_type": "code",
      "metadata": {
        "trusted": true,
        "id": "ur5Cp2D2S_mF",
        "colab_type": "code",
        "colab": {}
      },
      "source": [
        "'Py' 'thon'"
      ],
      "execution_count": 0,
      "outputs": []
    },
    {
      "cell_type": "markdown",
      "metadata": {
        "id": "k5QmKtZmS_mG",
        "colab_type": "text"
      },
      "source": [
        "Automatic concatenation works only with two literals; it does not work with variables or expressions, so the following cell produces an error:"
      ]
    },
    {
      "cell_type": "code",
      "metadata": {
        "trusted": true,
        "id": "Hw3jcgLqS_mH",
        "colab_type": "code",
        "colab": {}
      },
      "source": [
        "prefix = 'Py'\n",
        "prefix 'thon'  # Can't concatenate a variable and a string literal."
      ],
      "execution_count": 0,
      "outputs": []
    },
    {
      "cell_type": "markdown",
      "metadata": {
        "id": "tOEyViOdS_mI",
        "colab_type": "text"
      },
      "source": [
        "The following cell likewise produces an error:"
      ]
    },
    {
      "cell_type": "code",
      "metadata": {
        "trusted": true,
        "id": "r-4WqfmES_mI",
        "colab_type": "code",
        "colab": {}
      },
      "source": [
        "('un' * 3) 'ium'"
      ],
      "execution_count": 0,
      "outputs": []
    },
    {
      "cell_type": "markdown",
      "metadata": {
        "id": "doeE8G3QS_mJ",
        "colab_type": "text"
      },
      "source": [
        "To concatenate variables, or a variable and a literal, use `+`:"
      ]
    },
    {
      "cell_type": "code",
      "metadata": {
        "trusted": true,
        "id": "WT5gOe-4S_mJ",
        "colab_type": "code",
        "colab": {}
      },
      "source": [
        "prefix = 'Py'\n",
        "prefix + 'thon'"
      ],
      "execution_count": 0,
      "outputs": []
    },
    {
      "cell_type": "markdown",
      "metadata": {
        "id": "mG3qrSiDS_mL",
        "colab_type": "text"
      },
      "source": [
        "Automatic concatenation is particularly useful when you want to break up long strings:"
      ]
    },
    {
      "cell_type": "code",
      "metadata": {
        "trusted": true,
        "id": "o_bbHVaxS_mM",
        "colab_type": "code",
        "colab": {}
      },
      "source": [
        "text = ('Put several strings within parentheses '\n",
        "            'to have them joined together.')\n",
        "text"
      ],
      "execution_count": 0,
      "outputs": []
    },
    {
      "cell_type": "markdown",
      "metadata": {
        "id": "au80-JlwS_mM",
        "colab_type": "text"
      },
      "source": [
        "Strings can be *indexed* (subscripted), with the first character having index 0. There is no separate character type; a character is simply a string of size one:"
      ]
    },
    {
      "cell_type": "code",
      "metadata": {
        "trusted": true,
        "id": "d2gZ4UbGS_mN",
        "colab_type": "code",
        "colab": {}
      },
      "source": [
        "word = 'Python'\n",
        "word[0]  # Character in position 0."
      ],
      "execution_count": 0,
      "outputs": []
    },
    {
      "cell_type": "code",
      "metadata": {
        "trusted": true,
        "id": "N37gmbYSS_mO",
        "colab_type": "code",
        "colab": {}
      },
      "source": [
        "word[5]  # Character in position 5."
      ],
      "execution_count": 0,
      "outputs": []
    },
    {
      "cell_type": "markdown",
      "metadata": {
        "id": "FyW_27SCS_mP",
        "colab_type": "text"
      },
      "source": [
        "Indices may also be negative numbers, which means to start counting from the end of the string. Note that because -0 is the same as 0, negative indices start from -1:"
      ]
    },
    {
      "cell_type": "code",
      "metadata": {
        "trusted": true,
        "id": "Ks-53v18S_mP",
        "colab_type": "code",
        "colab": {}
      },
      "source": [
        "word[-1]  # Last character."
      ],
      "execution_count": 0,
      "outputs": []
    },
    {
      "cell_type": "code",
      "metadata": {
        "trusted": true,
        "id": "SK5SqqxkS_mQ",
        "colab_type": "code",
        "colab": {}
      },
      "source": [
        "word[-2]  # Second-last character."
      ],
      "execution_count": 0,
      "outputs": []
    },
    {
      "cell_type": "code",
      "metadata": {
        "trusted": true,
        "id": "GlnguB3QS_mR",
        "colab_type": "code",
        "colab": {}
      },
      "source": [
        "word[-6]"
      ],
      "execution_count": 0,
      "outputs": []
    },
    {
      "cell_type": "markdown",
      "metadata": {
        "id": "JTAQqIdYS_mU",
        "colab_type": "text"
      },
      "source": [
        "In addition to indexing, which extracts individual characters, Python also supports *slicing*, which extracts a substring. To slide, you indicate a *range* in the format `start:end`, where the start position is included but the end position is excluded:"
      ]
    },
    {
      "cell_type": "code",
      "metadata": {
        "trusted": true,
        "id": "ys8uuv-0S_mU",
        "colab_type": "code",
        "colab": {}
      },
      "source": [
        "word[0:2]  # Characters from position 0 (included) to 2 (excluded)."
      ],
      "execution_count": 0,
      "outputs": []
    },
    {
      "cell_type": "code",
      "metadata": {
        "trusted": true,
        "id": "O3gXqpuPS_mV",
        "colab_type": "code",
        "colab": {}
      },
      "source": [
        "word[2:5]  # Characters from position 2 (included) to 5 (excluded)."
      ],
      "execution_count": 0,
      "outputs": []
    },
    {
      "cell_type": "markdown",
      "metadata": {
        "id": "WyJggKxwS_mW",
        "colab_type": "text"
      },
      "source": [
        "If you omit either position, the default start position is 0 and the default end is the length of the string:"
      ]
    },
    {
      "cell_type": "code",
      "metadata": {
        "trusted": true,
        "id": "am6uyJATS_mW",
        "colab_type": "code",
        "colab": {}
      },
      "source": [
        "word[:2]   # Character from the beginning to position 2 (excluded)."
      ],
      "execution_count": 0,
      "outputs": []
    },
    {
      "cell_type": "code",
      "metadata": {
        "trusted": true,
        "id": "WVTZFKNCS_mX",
        "colab_type": "code",
        "colab": {}
      },
      "source": [
        "word[4:]  # Characters from position 4 (included) to the end."
      ],
      "execution_count": 0,
      "outputs": []
    },
    {
      "cell_type": "code",
      "metadata": {
        "trusted": true,
        "id": "4URHDyXiS_mY",
        "colab_type": "code",
        "colab": {}
      },
      "source": [
        "word[-2:] # Characters from the second-last (included) to the end."
      ],
      "execution_count": 0,
      "outputs": []
    },
    {
      "cell_type": "markdown",
      "metadata": {
        "id": "2NWWwnnFS_mZ",
        "colab_type": "text"
      },
      "source": [
        "This characteristic means that `s[:i] + s[i:]` is always equal to `s`:"
      ]
    },
    {
      "cell_type": "code",
      "metadata": {
        "trusted": true,
        "id": "5W_dnCKUS_ma",
        "colab_type": "code",
        "colab": {}
      },
      "source": [
        "word[:2] + word[2:]"
      ],
      "execution_count": 0,
      "outputs": []
    },
    {
      "cell_type": "code",
      "metadata": {
        "trusted": true,
        "id": "pNrnlAMXS_mb",
        "colab_type": "code",
        "colab": {}
      },
      "source": [
        "word[:4] + word[4:]"
      ],
      "execution_count": 0,
      "outputs": []
    },
    {
      "cell_type": "markdown",
      "metadata": {
        "id": "qd1KiPgeS_me",
        "colab_type": "text"
      },
      "source": [
        "One way to remember how slices work is to think of the indices as pointing between characters, with the left edge of the first character numbered 0. Then the right edge of the last character of a string of *n* characters has index *n*. For example:"
      ]
    },
    {
      "cell_type": "markdown",
      "metadata": {
        "id": "fD5qIup5S_me",
        "colab_type": "raw"
      },
      "source": [
        " +---+---+---+---+---+---+\n",
        " | P | y | t | h | o | n |\n",
        " +---+---+---+---+---+---+\n",
        " 0   1   2   3   4   5   6\n",
        "-6  -5  -4  -3  -2  -1"
      ]
    },
    {
      "cell_type": "markdown",
      "metadata": {
        "id": "dlpLslq5S_me",
        "colab_type": "text"
      },
      "source": [
        "The first row of numbers gives the position of the indices 0...6 in the string; the second row gives the corresponding negative indices. The slice from *i* to *j* consists of all characters between the edges labeled *i* and *j*, respectively.\n",
        "\n",
        "For non-negative indices, the length of a slice is the difference of the indices, if both are within bounds. For example, the length of `word[1:3]` is 2.\n",
        "\n",
        "Attempting to use an index that is too large results in an error:"
      ]
    },
    {
      "cell_type": "code",
      "metadata": {
        "trusted": true,
        "id": "A27ZUB4mS_me",
        "colab_type": "code",
        "colab": {}
      },
      "source": [
        "word[42]  # The word only has 6 characters."
      ],
      "execution_count": 0,
      "outputs": []
    },
    {
      "cell_type": "markdown",
      "metadata": {
        "id": "eRffX76AS_mg",
        "colab_type": "text"
      },
      "source": [
        "However, when used in a range, an index that's too large defaults to the size of the string and does not give an error. This characteristic is useful when you always want to slice at a particular index regardless of the length of a string:"
      ]
    },
    {
      "cell_type": "code",
      "metadata": {
        "trusted": true,
        "id": "__7rIzHlS_mg",
        "colab_type": "code",
        "colab": {}
      },
      "source": [
        "word[4:42]"
      ],
      "execution_count": 0,
      "outputs": []
    },
    {
      "cell_type": "code",
      "metadata": {
        "trusted": true,
        "id": "TxY_JhFeS_mh",
        "colab_type": "code",
        "colab": {}
      },
      "source": [
        "word[42:]"
      ],
      "execution_count": 0,
      "outputs": []
    },
    {
      "cell_type": "markdown",
      "metadata": {
        "id": "8rpSCGLhS_mj",
        "colab_type": "text"
      },
      "source": [
        "Python strings are [immutable](https://docs.python.org/3.5/glossary.html#term-immutable), which means they cannot be changed. Therefore, assigning a value to an indexed position in a string results in an error:"
      ]
    },
    {
      "cell_type": "code",
      "metadata": {
        "trusted": true,
        "id": "9KtIvMHtS_mj",
        "colab_type": "code",
        "colab": {}
      },
      "source": [
        "word[0] = 'J'"
      ],
      "execution_count": 0,
      "outputs": []
    },
    {
      "cell_type": "markdown",
      "metadata": {
        "id": "C0A7_fXFS_mk",
        "colab_type": "text"
      },
      "source": [
        "The following cell also produces an error:"
      ]
    },
    {
      "cell_type": "code",
      "metadata": {
        "trusted": true,
        "id": "H_Ay1BoPS_mk",
        "colab_type": "code",
        "colab": {}
      },
      "source": [
        "word[2:] = 'py'"
      ],
      "execution_count": 0,
      "outputs": []
    },
    {
      "cell_type": "markdown",
      "metadata": {
        "id": "s7zPh0WvS_ml",
        "colab_type": "text"
      },
      "source": [
        "A slice it itself a value that you can concatenate with other values using `+`:"
      ]
    },
    {
      "cell_type": "code",
      "metadata": {
        "trusted": true,
        "id": "WarhrTpsS_ml",
        "colab_type": "code",
        "colab": {}
      },
      "source": [
        "'J' + word[1:]"
      ],
      "execution_count": 0,
      "outputs": []
    },
    {
      "cell_type": "code",
      "metadata": {
        "trusted": true,
        "id": "3xyMR0t9S_m5",
        "colab_type": "code",
        "colab": {}
      },
      "source": [
        "word[:2] + 'Py'"
      ],
      "execution_count": 0,
      "outputs": []
    },
    {
      "cell_type": "markdown",
      "metadata": {
        "id": "VB4ybDWhS_m6",
        "colab_type": "text"
      },
      "source": [
        "A slice, however, is not a string literal and cannot be used with automatic concatenation. The following code produces an error:"
      ]
    },
    {
      "cell_type": "code",
      "metadata": {
        "trusted": true,
        "id": "RGrQEDy9S_m7",
        "colab_type": "code",
        "colab": {}
      },
      "source": [
        "word[:2] 'Py'    # Slice is not a literal; produces an error"
      ],
      "execution_count": 0,
      "outputs": []
    },
    {
      "cell_type": "markdown",
      "metadata": {
        "id": "Tn7W5AAZS_m8",
        "colab_type": "text"
      },
      "source": [
        "The built-in function [`len()`](https://docs.python.org/3.5/library/functions.html#len) returns the length of a string:"
      ]
    },
    {
      "cell_type": "code",
      "metadata": {
        "trusted": true,
        "id": "xZYBw6OiS_m8",
        "colab_type": "code",
        "colab": {}
      },
      "source": [
        "s = 'supercalifragilisticexpialidocious'\n",
        "len(s)"
      ],
      "execution_count": 0,
      "outputs": []
    },
    {
      "cell_type": "markdown",
      "metadata": {
        "id": "tvoseJU0S_m9",
        "colab_type": "text"
      },
      "source": [
        "### Lists"
      ]
    },
    {
      "cell_type": "markdown",
      "metadata": {
        "id": "GO-UbVV2S_m9",
        "colab_type": "text"
      },
      "source": [
        "Python knows a number of _compound_ data types, which are used to group together other values. The most versatile is the [*list*](https://docs.python.org/3.5/library/stdtypes.html#typesseq-list), which can be written as a sequence of comma-separated values (items) between square brackets. Lists might contain items of different types, but usually the items all have the same type."
      ]
    },
    {
      "cell_type": "code",
      "metadata": {
        "trusted": true,
        "id": "JQGPCZbcS_m9",
        "colab_type": "code",
        "colab": {}
      },
      "source": [
        "squares = [1, 4, 9, 16, 25]\n",
        "squares"
      ],
      "execution_count": 0,
      "outputs": []
    },
    {
      "cell_type": "markdown",
      "metadata": {
        "id": "THDVMuRLS_m-",
        "colab_type": "text"
      },
      "source": [
        "Like strings (and all other built-in [sequence](https://docs.python.org/3.5/glossary.html#term-sequence) types), lists can be indexed and sliced:"
      ]
    },
    {
      "cell_type": "code",
      "metadata": {
        "trusted": true,
        "id": "7MMMsv9tS_m-",
        "colab_type": "code",
        "colab": {}
      },
      "source": [
        "squares[0]  # Indexing returns the item."
      ],
      "execution_count": 0,
      "outputs": []
    },
    {
      "cell_type": "code",
      "metadata": {
        "trusted": true,
        "id": "gLSGx2rSS_m_",
        "colab_type": "code",
        "colab": {}
      },
      "source": [
        "squares[-1]"
      ],
      "execution_count": 0,
      "outputs": []
    },
    {
      "cell_type": "code",
      "metadata": {
        "trusted": true,
        "id": "dt3j7UhaS_nA",
        "colab_type": "code",
        "colab": {}
      },
      "source": [
        "squares[-3:]  # Slicing returns a new list."
      ],
      "execution_count": 0,
      "outputs": []
    },
    {
      "cell_type": "markdown",
      "metadata": {
        "id": "sSmqoVDzS_nB",
        "colab_type": "text"
      },
      "source": [
        "All slice operations return a new list containing the requested elements. This means that the following slice returns a new (shallow) copy of the list:"
      ]
    },
    {
      "cell_type": "code",
      "metadata": {
        "trusted": true,
        "id": "b_WFwjRpS_nB",
        "colab_type": "code",
        "colab": {}
      },
      "source": [
        "squares[:]"
      ],
      "execution_count": 0,
      "outputs": []
    },
    {
      "cell_type": "markdown",
      "metadata": {
        "id": "LIj4X0NtS_nC",
        "colab_type": "text"
      },
      "source": [
        "Lists also support concatenation with the `+` operator:"
      ]
    },
    {
      "cell_type": "code",
      "metadata": {
        "trusted": true,
        "id": "j2N91LzbS_nC",
        "colab_type": "code",
        "colab": {}
      },
      "source": [
        "squares + [36, 49, 64, 81, 100]"
      ],
      "execution_count": 0,
      "outputs": []
    },
    {
      "cell_type": "markdown",
      "metadata": {
        "id": "vq6BbyAqS_nD",
        "colab_type": "text"
      },
      "source": [
        "Unlike strings, which are [immutable](https://docs.python.org/3.5/glossary.html#term-immutable), lists are a [mutable](https://docs.python.org/3.5/glossary.html#term-mutable) type, which means you can change any value in the list:"
      ]
    },
    {
      "cell_type": "code",
      "metadata": {
        "trusted": true,
        "id": "xZ1Zo_-GS_nD",
        "colab_type": "code",
        "colab": {}
      },
      "source": [
        "cubes = [1, 8, 27, 65, 125]  # Something's wrong here ...\n",
        "4 ** 3  # the cube of 4 is 64, not 65!"
      ],
      "execution_count": 0,
      "outputs": []
    },
    {
      "cell_type": "code",
      "metadata": {
        "trusted": true,
        "id": "0tde-gz8S_nE",
        "colab_type": "code",
        "colab": {}
      },
      "source": [
        "cubes[3] = 64  # Replace the wrong value.\n",
        "cubes"
      ],
      "execution_count": 0,
      "outputs": []
    },
    {
      "cell_type": "markdown",
      "metadata": {
        "id": "ejDA3coES_nF",
        "colab_type": "text"
      },
      "source": [
        "Use the list's `append()` method to add new items to the end of the list:"
      ]
    },
    {
      "cell_type": "code",
      "metadata": {
        "trusted": true,
        "id": "k8jD9bLSS_nF",
        "colab_type": "code",
        "colab": {}
      },
      "source": [
        "cubes.append(216)  # Add the cube of 6 ...\n",
        "cubes.append(7 ** 3)  # and the cube of 7.\n",
        "cubes"
      ],
      "execution_count": 0,
      "outputs": []
    },
    {
      "cell_type": "markdown",
      "metadata": {
        "id": "MYQyVLnFS_nG",
        "colab_type": "text"
      },
      "source": [
        "You can even assign to slices, which can change the size of the list or clear it entirely:"
      ]
    },
    {
      "cell_type": "code",
      "metadata": {
        "trusted": true,
        "id": "97-K0A9BS_nH",
        "colab_type": "code",
        "colab": {}
      },
      "source": [
        "letters = ['a', 'b', 'c', 'd', 'e', 'f', 'g']\n",
        "letters"
      ],
      "execution_count": 0,
      "outputs": []
    },
    {
      "cell_type": "code",
      "metadata": {
        "trusted": true,
        "id": "5zOvLLOSS_nH",
        "colab_type": "code",
        "colab": {}
      },
      "source": [
        "# Replace some values.\n",
        "letters[2:5] = ['C', 'D', 'E']\n",
        "letters"
      ],
      "execution_count": 0,
      "outputs": []
    },
    {
      "cell_type": "code",
      "metadata": {
        "trusted": true,
        "id": "EFdJEVhXS_nI",
        "colab_type": "code",
        "colab": {}
      },
      "source": [
        "# Now remove them.\n",
        "letters[2:5] = []\n",
        "letters"
      ],
      "execution_count": 0,
      "outputs": []
    },
    {
      "cell_type": "code",
      "metadata": {
        "trusted": true,
        "id": "p0rXHdl0S_nJ",
        "colab_type": "code",
        "colab": {}
      },
      "source": [
        "# Clear the list by replacing all the elements with an empty list.\n",
        "letters[:] = []\n",
        "letters"
      ],
      "execution_count": 0,
      "outputs": []
    },
    {
      "cell_type": "markdown",
      "metadata": {
        "id": "WCqvpLCDS_nK",
        "colab_type": "text"
      },
      "source": [
        "The built-in [`len()`](https://docs.python.org/3.5/library/functions.html#len) function also applies to lists:"
      ]
    },
    {
      "cell_type": "code",
      "metadata": {
        "trusted": true,
        "id": "G0k_aKdDS_nK",
        "colab_type": "code",
        "colab": {}
      },
      "source": [
        "letters = ['a', 'b', 'c', 'd']\n",
        "len(letters)"
      ],
      "execution_count": 0,
      "outputs": []
    },
    {
      "cell_type": "markdown",
      "metadata": {
        "id": "LNpGWsNvS_nL",
        "colab_type": "text"
      },
      "source": [
        "You can nest lists, which means to create lists that contain other lists. For example:"
      ]
    },
    {
      "cell_type": "code",
      "metadata": {
        "trusted": true,
        "id": "nnWw5HUaS_nL",
        "colab_type": "code",
        "colab": {}
      },
      "source": [
        "a = ['a', 'b', 'c']\n",
        "n = [1, 2, 3]\n",
        "x = [a, n]\n",
        "x"
      ],
      "execution_count": 0,
      "outputs": []
    },
    {
      "cell_type": "code",
      "metadata": {
        "trusted": true,
        "id": "-fMYgGlxS_nM",
        "colab_type": "code",
        "colab": {}
      },
      "source": [
        "x[0]"
      ],
      "execution_count": 0,
      "outputs": []
    },
    {
      "cell_type": "code",
      "metadata": {
        "trusted": true,
        "id": "Cz1OzLIaS_nM",
        "colab_type": "code",
        "colab": {}
      },
      "source": [
        "x[0][1]"
      ],
      "execution_count": 0,
      "outputs": []
    },
    {
      "cell_type": "markdown",
      "metadata": {
        "id": "DvuP1yGBS_nQ",
        "colab_type": "text"
      },
      "source": [
        "## Introductory Steps Towards Programming"
      ]
    },
    {
      "cell_type": "markdown",
      "metadata": {
        "id": "by5riLoKS_nQ",
        "colab_type": "text"
      },
      "source": [
        "Python, being used by professional programmers and scientists, among others, is capable of far more complicated tasks than adding numbers, playing with strings, and manipulating lists. For instance, we can write an initial sub-sequence of the Fibonacci series as follows:"
      ]
    },
    {
      "cell_type": "code",
      "metadata": {
        "trusted": true,
        "id": "ghU2U_WTS_nQ",
        "colab_type": "code",
        "colab": {}
      },
      "source": [
        "# Fibonacci series:\n",
        "# the sum of two elements defines the next.\n",
        "a, b = 0, 1\n",
        "\n",
        "while b < 10:    \n",
        "    print(b)\n",
        "    a, b = b, a+b"
      ],
      "execution_count": 0,
      "outputs": []
    },
    {
      "cell_type": "markdown",
      "metadata": {
        "id": "coHnroAkS_nR",
        "colab_type": "text"
      },
      "source": [
        "This example introduces several new features of the Python language:\n",
        "\n",
        "- The first line contains a *multiple assignment*: the variables `a` and `b` simultaneously get the new values 0 and 1. On the last line this assignment is used again, demonstrating that the expressions on the right-hand side are all evaluated first before any of the assignments take place. The right-hand side expressions are evaluated from the left to the right.\n",
        "\n",
        "- The [`while`](https://docs.python.org/3.5/reference/compound_stmts.html#while) loop executes as long as the condition (here: `b < 10`) remains true. In Python, as in C, any non-zero integer value is true; zero is false. The condition may also be a string or list value, in fact any sequence; anything with a non-zero length is true, empty sequences are false. The test used in the example is a simple comparison. The standard comparison operators are written the same as in C: `<` (less than), `>` (greater than), `==` (equal to), `<=` (less than or equal to), `>=` (greater than or equal to) and `!=` (not equal to).\n",
        "\n",
        "- Every line in the *body* of the loop is indented: indentation is Python's way of grouping statements. At the interactive prompt, you have to type a tab or space(s) for each indented line. In practice, you typically write Python code in an editor, including a Jupyter notebook, that provides automatic indentation.\n",
        "\n",
        "- The [`print()`](https://docs.python.org/3.5/library/functions.html#print) function writes the value of the argument(s) its given. `print` differs from just writing the expression you want to write (as we did earlier in the calculator examples) in the way it handles multiple arguments, floating point quantities, and strings. Strings are printed without quotes, and a space is inserted between items, so you can easily format your output nicely. For example:"
      ]
    },
    {
      "cell_type": "code",
      "metadata": {
        "trusted": true,
        "id": "MLZJLyHUS_nR",
        "colab_type": "code",
        "colab": {}
      },
      "source": [
        "i = 256*256\n",
        "print('The value of i is', i)"
      ],
      "execution_count": 0,
      "outputs": []
    },
    {
      "cell_type": "markdown",
      "metadata": {
        "id": "iaQLYBXrS_nS",
        "colab_type": "text"
      },
      "source": [
        "The keyword argument `end` can be used to avoid the newline after the output, or end the output with a different string:"
      ]
    },
    {
      "cell_type": "code",
      "metadata": {
        "trusted": true,
        "id": "Mmcg0049S_nS",
        "colab_type": "code",
        "colab": {}
      },
      "source": [
        "a, b = 0, 1\n",
        "while b < 1000:\n",
        "    print(b, end=',')\n",
        "    a, b = b, a+b"
      ],
      "execution_count": 0,
      "outputs": []
    },
    {
      "cell_type": "markdown",
      "metadata": {
        "id": "mGfaiB5-9j4u",
        "colab_type": "text"
      },
      "source": [
        "# OOPS in Python\n",
        "After Stack Overflow predicted that by 2019, Python will outstrip other languages in terms of active developers, the demand for Certified Python Developers is only growing. Python follows object-oriented programming paradigm. It deals with declaring python classes, creating objects from them and interacting with the users. In an object-oriented language, the program is split into self-contained objects or you can say into several mini-programs. Each object is representing a different part of the application which can communicate among themselves.\n",
        "In this python class blog, you will understand each aspect of classes and objects in the following sequence:\n",
        "* What is a Python Class?\n",
        "* Methods and Attributes in a class\n",
        "* What are Objects?\n",
        "* OOPs Concepts:\n",
        " *   Inheritance\n",
        " *   Polymorphism\n",
        " *   Abstraction\n",
        "\n"
      ]
    },
    {
      "cell_type": "markdown",
      "metadata": {
        "id": "_nSPY0qq-a0f",
        "colab_type": "text"
      },
      "source": [
        "### What is a Python Class?\n",
        "A class in python is the blueprint from which specific objects are created. It lets you structure your software in a particular way. Here comes a question how? Classes allow us to logically group our data and function in a way that it is easy to reuse and a way to build upon if need to be. Consider the below image."
      ]
    },
    {
      "cell_type": "markdown",
      "metadata": {
        "id": "lXZcg0ru_1_5",
        "colab_type": "text"
      },
      "source": [
        "\n",
        "![alt text](https://d1jnx9ba8s6j9r.cloudfront.net/blog/wp-content/uploads/2017/07/Classes-and-Objects-2.png)\n",
        "\n",
        "In the first image (A), it represents a blueprint of a house that can be considered as Class. With the same blueprint, we can create several houses and these can be considered as Objects. Using a class, you can add consistency to your programs so that they can be used in cleaner and efficient ways. The attributes are data members (class variables and instance variables) and methods which are accessed via dot notation.\n",
        "\n",
        "Class variable is a variable that is shared by all the different objects/instances of a class.\n",
        "Instance variables are variables which are unique to each instance. It is defined inside a method and belongs only to the current instance of a class.\n",
        "Methods are also called as functions which are defined in a class and describes the behaviour of an object.\n",
        "Now, let us move ahead and see how it works in PyCharm. To get started, first have a look at the example of a python class."
      ]
    },
    {
      "cell_type": "code",
      "metadata": {
        "id": "cCWX2yI4AQwC",
        "colab_type": "code",
        "colab": {}
      },
      "source": [
        "\n",
        "# User defined class\n",
        "\n",
        "class Student:\n",
        "    pass"
      ],
      "execution_count": 0,
      "outputs": []
    },
    {
      "cell_type": "code",
      "metadata": {
        "id": "9AZt-IKQHWh2",
        "colab_type": "code",
        "colab": {}
      },
      "source": [
        "\n",
        "# create 3 objects\n",
        "\n",
        "s1 = Student()\n",
        "s2 = Student()\n",
        "s3 = Student()"
      ],
      "execution_count": 0,
      "outputs": []
    },
    {
      "cell_type": "code",
      "metadata": {
        "id": "cJ6SbvhkJxKd",
        "colab_type": "code",
        "colab": {}
      },
      "source": [
        ""
      ],
      "execution_count": 0,
      "outputs": []
    },
    {
      "cell_type": "markdown",
      "metadata": {
        "id": "ktyDVj2d85tG",
        "colab_type": "text"
      },
      "source": [
        "# Types of Attribute\n",
        "**Instance attributes**\n",
        "\n",
        "Object attribute, that is these attributes are bound to a specific object. Eg: Name, Student, Age for the Student example.\n",
        "\n",
        "**Class attributes**\n",
        "\n",
        "Attribute bound to class. Eg: Class teacher name, total number of students."
      ]
    },
    {
      "cell_type": "code",
      "metadata": {
        "id": "09qcb3yt9SZD",
        "colab_type": "code",
        "colab": {}
      },
      "source": [
        "# Instance attributes\n",
        "# Objects can have different instance attributes\n",
        "# Adding Attributes: s1 -> Name, Age; s2 -> Roll no; s3 -> Age will not throw error\n",
        "\n",
        "s1.name = \"Atul\" # This creates new attribute \"name\" to s1\n",
        "s1.age = 28"
      ],
      "execution_count": 0,
      "outputs": []
    },
    {
      "cell_type": "code",
      "metadata": {
        "id": "LeTDtqM9RN6V",
        "colab_type": "code",
        "colab": {}
      },
      "source": [
        "s2.rollNumber = 101\n",
        "s3.age = 21\n",
        "s3.age = 34"
      ],
      "execution_count": 0,
      "outputs": []
    },
    {
      "cell_type": "code",
      "metadata": {
        "id": "iJrPGUf3Rj2f",
        "colab_type": "code",
        "colab": {}
      },
      "source": [
        "# In Python each and every instance of class (ie object) possesses a dictionary which holds list of attributes along with value\n",
        "\n",
        "# Syntax to access the dictionary: objName.__dict__\n",
        "print(s1.__dict__)\n",
        "print(s2.__dict__)\n",
        "print(s3.__dict__)\n",
        "\n",
        "s4 = Student()\n",
        "print(s4.__dict__)"
      ],
      "execution_count": 0,
      "outputs": []
    },
    {
      "cell_type": "code",
      "metadata": {
        "id": "yGP2HCFFgUus",
        "colab_type": "code",
        "colab": {}
      },
      "source": [
        "print(s1.name)"
      ],
      "execution_count": 0,
      "outputs": []
    },
    {
      "cell_type": "code",
      "metadata": {
        "id": "Q-TvvxPJgz8g",
        "colab_type": "code",
        "colab": {}
      },
      "source": [
        "# Inbuilt functions\n",
        "# hasattr(objectName, attributeToCheck)\n",
        "\n",
        "print(hasattr(s1, 'name'))\n",
        "print(hasattr(s2, 'name'))"
      ],
      "execution_count": 0,
      "outputs": []
    },
    {
      "cell_type": "code",
      "metadata": {
        "id": "hFOnWLcxhI4l",
        "colab_type": "code",
        "colab": {}
      },
      "source": [
        "# setattr(objectName, attribute, valuetoSet)\n",
        "# delattr(objectName, attributeToDelete)\n",
        "# getattr(objectName, attributeTovalueToGet)\n",
        "# getattr(objectName, attributeTovalueToGet, defaultValue) ----> In case attribute is not present\n",
        "print(getattr(s1, 'name'))\n",
        "print(getattr(s2, 'name','No such attribute'))# If no defaultValue is passed you will get an error\n",
        "print(getattr(s2, 'name')) "
      ],
      "execution_count": 0,
      "outputs": []
    },
    {
      "cell_type": "code",
      "metadata": {
        "id": "SXkL2D9Ch1mO",
        "colab_type": "code",
        "colab": {}
      },
      "source": [
        "#Deleting an attribute\n",
        "delattr(s1, 'age')\n",
        "print(s1.__dict__)"
      ],
      "execution_count": 0,
      "outputs": []
    },
    {
      "cell_type": "code",
      "metadata": {
        "id": "RN4C4OA-iBqn",
        "colab_type": "code",
        "colab": {}
      },
      "source": [
        "# Class attributes\n",
        "# Syntax like we used to set instance attribute\n",
        "\n",
        "Student.totalStudents = 20\n",
        "print(Student.__dict__)"
      ],
      "execution_count": 0,
      "outputs": []
    },
    {
      "cell_type": "code",
      "metadata": {
        "id": "dzcKc1oMiOWE",
        "colab_type": "code",
        "colab": {}
      },
      "source": [
        "# Another way of adding class attribute\n",
        "\n",
        "class Student:\n",
        "    ## Class attributes\n",
        "    totalStudents = 30\n",
        "    classTeacherName = 'Edureka'\n",
        "    \n",
        "s1 = Student()\n",
        "s2 = Student()\n",
        "print(Student.__dict__)"
      ],
      "execution_count": 0,
      "outputs": []
    },
    {
      "cell_type": "code",
      "metadata": {
        "id": "QnLJ3_AmifV-",
        "colab_type": "code",
        "colab": {}
      },
      "source": [
        "print(s1.__dict__)\n",
        "print(s2.__dict__)\n",
        "# The objects s1 and s2 are still empty, but they still have an access to totalStudents"
      ],
      "execution_count": 0,
      "outputs": []
    },
    {
      "cell_type": "code",
      "metadata": {
        "id": "Mwmd08_bi1SI",
        "colab_type": "code",
        "colab": {}
      },
      "source": [
        "# You can access the class attribute from the objects but cannot modify them\n",
        "\n",
        "print(Student.totalStudents)\n",
        "print(s1.totalStudents)\n",
        "print(s2.totalStudents)"
      ],
      "execution_count": 0,
      "outputs": []
    },
    {
      "cell_type": "code",
      "metadata": {
        "id": "eJ4eg-12i6wn",
        "colab_type": "code",
        "colab": {}
      },
      "source": [
        "Student.totalStudents = 40 # Updating value\n",
        "\n",
        "print(Student.totalStudents)\n",
        "print(s1.totalStudents)\n",
        "print(s2.totalStudents)"
      ],
      "execution_count": 0,
      "outputs": []
    },
    {
      "cell_type": "code",
      "metadata": {
        "id": "gf5XadjZjJf9",
        "colab_type": "code",
        "colab": {}
      },
      "source": [
        "s1.totalStudents = 50\n",
        "\n",
        "print(Student.totalStudents)\n",
        "print(s1.totalStudents)\n",
        "print(s2.totalStudents)"
      ],
      "execution_count": 0,
      "outputs": []
    },
    {
      "cell_type": "code",
      "metadata": {
        "id": "RkJKjaM9jY0P",
        "colab_type": "code",
        "colab": {}
      },
      "source": [
        "# A new instance attribute was created for s1 leaving Student class' attribute value unchanged\n",
        "\n",
        "print(s1.__dict__)\n",
        "print(s2.__dict__)"
      ],
      "execution_count": 0,
      "outputs": []
    },
    {
      "cell_type": "code",
      "metadata": {
        "id": "b2rn35n_w_Ly",
        "colab_type": "code",
        "colab": {}
      },
      "source": [
        "class Student : \n",
        "    \"\"\"HI i am a Student\"\"\"\n",
        "    name = \"Edureka Learner1\"\n",
        "    def __str__(self) : #print ---> object.__str__\n",
        "        return self.name\n",
        "    def __repr__(self):\n",
        "        return self.name"
      ],
      "execution_count": 0,
      "outputs": []
    },
    {
      "cell_type": "code",
      "metadata": {
        "id": "Z8S1hhBsxI8l",
        "colab_type": "code",
        "colab": {}
      },
      "source": [
        "s1 = Student()\n",
        "s2 = Student()\n",
        "s1.name = 'Edureka Learner2'\n",
        "print(s1)\n",
        "print(s2)"
      ],
      "execution_count": 0,
      "outputs": []
    },
    {
      "cell_type": "code",
      "metadata": {
        "id": "rkSyhpc9xXfa",
        "colab_type": "code",
        "colab": {}
      },
      "source": [
        "#Note the error\n",
        "s1+s2"
      ],
      "execution_count": 0,
      "outputs": []
    },
    {
      "cell_type": "code",
      "metadata": {
        "id": "J8ZTnEOZulqB",
        "colab_type": "code",
        "colab": {}
      },
      "source": [
        "class Student : \n",
        "    \"\"\"HI i am a student\"\"\"\n",
        "    name = \"Edureka PGP Learner1\"\n",
        "    def __str__(self) : #print ---> object.__str__\n",
        "        return self.name\n",
        "    def __repr__(self):\n",
        "        return self.name\n",
        "    def __add__(self,obj):\n",
        "        return self.name+'\\t'+obj.name\n",
        "    \n",
        "p1 = Student()\n",
        "p2 = Student()\n",
        "p1.name,p2.name = 'Atul','Edureka PGP Learner2'"
      ],
      "execution_count": 0,
      "outputs": []
    },
    {
      "cell_type": "code",
      "metadata": {
        "id": "ehgtaVKkwYWN",
        "colab_type": "code",
        "colab": {}
      },
      "source": [
        "print(p1)\n",
        "print(p2)"
      ],
      "execution_count": 0,
      "outputs": []
    },
    {
      "cell_type": "code",
      "metadata": {
        "id": "y-6BjTL2wdlC",
        "colab_type": "code",
        "colab": {}
      },
      "source": [
        "#Note the error\n",
        "r = p1 + p2 \n",
        "print(r)"
      ],
      "execution_count": 0,
      "outputs": []
    },
    {
      "cell_type": "code",
      "metadata": {
        "id": "VDbOh7WPwi-t",
        "colab_type": "code",
        "colab": {}
      },
      "source": [
        "class Vector : \n",
        "    \"\"\"This is a vector class v(x,y)\"\"\"\n",
        "    def __str__(self):\n",
        "        s  = f\"V({self.x},{self.y})\"\n",
        "        return s"
      ],
      "execution_count": 0,
      "outputs": []
    },
    {
      "cell_type": "code",
      "metadata": {
        "id": "AcxYpzXIyGX7",
        "colab_type": "code",
        "colab": {}
      },
      "source": [
        "v1 = Vector()\n",
        "v1.x = 5\n",
        "v1.y = 10 \n",
        "print(v1)"
      ],
      "execution_count": 0,
      "outputs": []
    },
    {
      "cell_type": "code",
      "metadata": {
        "id": "1577dTBByNKH",
        "colab_type": "code",
        "colab": {}
      },
      "source": [
        "#Note the error\n",
        "v1 = Vector(5,10)"
      ],
      "execution_count": 0,
      "outputs": []
    },
    {
      "cell_type": "code",
      "metadata": {
        "id": "6RcMoz5nyW8i",
        "colab_type": "code",
        "colab": {}
      },
      "source": [
        "class Vector : \n",
        "    def __init__(self,p=0,q=0) : \n",
        "        self.x = p\n",
        "        self.y = q\n",
        "    def __str__(self) : \n",
        "        return f\"V({self.x},{self.y})\"\n",
        "    def __repr__(self) : \n",
        "        return f\"V({self.x},{self.y})\"\n",
        "    def __add__(self,obj):\n",
        "        return f\"V({self.x+obj.x},{self.y+obj.y})\""
      ],
      "execution_count": 0,
      "outputs": []
    },
    {
      "cell_type": "code",
      "metadata": {
        "id": "63vE-IVjygF-",
        "colab_type": "code",
        "colab": {}
      },
      "source": [
        "v1 = Vector(5,2)\n",
        "v2 = Vector(3,6)\n",
        "v3 = v1 + v2\n",
        "\n",
        "print(v3)\n",
        "print(type(v3))"
      ],
      "execution_count": 0,
      "outputs": []
    },
    {
      "cell_type": "code",
      "metadata": {
        "id": "6rk9xJuvyrCb",
        "colab_type": "code",
        "colab": {}
      },
      "source": [
        "#Note the error\n",
        "v3 + v1"
      ],
      "execution_count": 0,
      "outputs": []
    },
    {
      "cell_type": "code",
      "metadata": {
        "id": "oTQiO4EEyxA0",
        "colab_type": "code",
        "colab": {}
      },
      "source": [
        "class Vector : \n",
        "    def __init__(self,p=0,q=0) : \n",
        "        self.x = p\n",
        "        self.y = q\n",
        "    def __str__(self) : \n",
        "        return f\"V({self.x},{self.y})\"\n",
        "    def __repr__(self) : \n",
        "        return f\"V({self.x},{self.y})\"\n",
        "    def __add__(self,other):\n",
        "        x = self.x+other.x\n",
        "        y = self.y+other.y\n",
        "        return Vector(x,y)\n",
        "    def __sub__(self,other):\n",
        "        x = self.x - other.x\n",
        "        y = self.y - other.y \n",
        "        return Vector(x,y)\n",
        "    def __len__(self):\n",
        "        return 2"
      ],
      "execution_count": 0,
      "outputs": []
    },
    {
      "cell_type": "code",
      "metadata": {
        "id": "lBH-MLdyy8Z3",
        "colab_type": "code",
        "colab": {}
      },
      "source": [
        "v1 = Vector(5,3)\n",
        "v2 = Vector(3,5)\n",
        "print(v1)\n",
        "print(v2)"
      ],
      "execution_count": 0,
      "outputs": []
    },
    {
      "cell_type": "code",
      "metadata": {
        "id": "WinFjpxnzF7z",
        "colab_type": "code",
        "colab": {}
      },
      "source": [
        "v3 = v1 + v2\n",
        "vx = v1 - v2\n",
        "print(vx)\n",
        "print(type(v3))\n",
        "print(v3)"
      ],
      "execution_count": 0,
      "outputs": []
    },
    {
      "cell_type": "code",
      "metadata": {
        "id": "E-eMfN0hzJ7N",
        "colab_type": "code",
        "colab": {}
      },
      "source": [
        "v4 = v1 + v2 + v3\n",
        "print(v4)"
      ],
      "execution_count": 0,
      "outputs": []
    },
    {
      "cell_type": "code",
      "metadata": {
        "id": "Fuu8HCQZzOv1",
        "colab_type": "code",
        "colab": {}
      },
      "source": [
        "class Parent :#parent\n",
        "    def __init__(self):\n",
        "        self.bike1 = 'Royal Enfield'\n",
        "    def Bike(self):\n",
        "        print(\"Parent: Company Name = \",self.bike1)\n",
        "        \n",
        "class Child(Parent) : #child \n",
        "    def __init__(self):\n",
        "        #super().__init__()\n",
        "        Parent.__init__(self)\n",
        "        self.bike2 = 'Classic 500 Stealth Black'\n",
        "    def Bike(self):\n",
        "        Parent.Bike(self)\n",
        "        print(\"Child: Bike Name = \",self.bike2)\n",
        "        \n",
        "child = Child()\n",
        "child.Bike()"
      ],
      "execution_count": 0,
      "outputs": []
    },
    {
      "cell_type": "code",
      "metadata": {
        "id": "k8FqeN1C0RSJ",
        "colab_type": "code",
        "colab": {}
      },
      "source": [
        "p = Parent()\n",
        "p.Bike()\n",
        "p.bike1 = 'Harley Davidson'\n",
        "c = Child()\n",
        "c.Bike()"
      ],
      "execution_count": 0,
      "outputs": []
    },
    {
      "cell_type": "code",
      "metadata": {
        "id": "JOaDLsNf08JR",
        "colab_type": "code",
        "colab": {}
      },
      "source": [
        "p.Bike()"
      ],
      "execution_count": 0,
      "outputs": []
    },
    {
      "cell_type": "code",
      "metadata": {
        "id": "zXTJW_e41cII",
        "colab_type": "code",
        "colab": {}
      },
      "source": [
        "class Vector : \n",
        "    def __init__(self,x=0,y=0):\n",
        "        self.x = x\n",
        "        self.y = y \n",
        "    def __str__(self):\n",
        "        return f\"V({self.x},{self.y})\"\n",
        "    def __len__(self):\n",
        "        from math import sqrt\n",
        "        d1 = sqrt(self.x**2+self.y**2)\n",
        "        return round(d1)\n",
        "    def __add__(self,other):\n",
        "        return Vector(self.x+other.x,self.y+other.y)\n",
        "    def distance(self,other):\n",
        "        import math\n",
        "        d1 = math.sqrt(self.x**2+self.y**2)\n",
        "        d2 = math.sqrt(other.x**2+other.y**2)\n",
        "        return round( d1 + d2, 3)\n",
        "    \n",
        "v1 = Vector(3,5)\n",
        "v2 = Vector(6,7)\n",
        "print(v1)\n",
        "print(v2)\n",
        "print(len(v1))\n",
        "print(len(v2))"
      ],
      "execution_count": 0,
      "outputs": []
    },
    {
      "cell_type": "markdown",
      "metadata": {
        "id": "2TmG1WB41tQk",
        "colab_type": "text"
      },
      "source": [
        "# Inheritance"
      ]
    },
    {
      "cell_type": "code",
      "metadata": {
        "id": "zo7yfvbk1nvh",
        "colab_type": "code",
        "colab": {}
      },
      "source": [
        "#single level inheritance\n",
        "\n",
        "class A : \n",
        "    def show(self):\n",
        "        print(\"hello i am show of A\")\n",
        "class B(A) : \n",
        "    def display(self):\n",
        "        print(\"You are in class B\")\n",
        "        \n",
        "b1 = B()\n",
        "b1.show()\n",
        "b1.display()"
      ],
      "execution_count": 0,
      "outputs": []
    },
    {
      "cell_type": "code",
      "metadata": {
        "id": "e4YIJOx319Fa",
        "colab_type": "code",
        "colab": {}
      },
      "source": [
        "#multi-level inheritance\n",
        "class A  : \n",
        "    def a(self):\n",
        "        print(\"Hello This is A.\")\n",
        "\n",
        "class B(A) : \n",
        "    def b(self):\n",
        "        print(\"Hello This is B\")\n",
        "        \n",
        "class C(B) : \n",
        "    def c(self) : \n",
        "        print(\"Hello This is C\")\n",
        "        \n",
        "c = C()\n",
        "c.a()\n",
        "c.b()\n",
        "c.c()"
      ],
      "execution_count": 0,
      "outputs": []
    },
    {
      "cell_type": "code",
      "metadata": {
        "id": "SAYr-ADC2NW1",
        "colab_type": "code",
        "colab": {}
      },
      "source": [
        "#hierarical inheritance\n",
        "class A : \n",
        "    def common(self):\n",
        "        print(\"This common between B and C\")\n",
        "        \n",
        "class B(A):\n",
        "    pass\n",
        "class C(A):\n",
        "    pass\n",
        "\n",
        "b = B()\n",
        "c = C()\n",
        "b.common()\n",
        "c.common()"
      ],
      "execution_count": 0,
      "outputs": []
    },
    {
      "cell_type": "code",
      "metadata": {
        "id": "lUamR2DQ2TVO",
        "colab_type": "code",
        "colab": {}
      },
      "source": [
        "#multiple-inheritance  ----> Ambiguity\n",
        "class A : \n",
        "    def show(self):\n",
        "        print(\"This is the Power of A.\")\n",
        "    def disp(self):\n",
        "        print(\"HI This is A\")\n",
        "        \n",
        "class B : \n",
        "    def show(self):\n",
        "        print(\"This is the Power of B\")\n",
        "    def hi(self):\n",
        "        print(\"HI This is B\")\n",
        "        \n",
        "class C(B,A) : \n",
        "    pass\n",
        "\n",
        "c = C()\n",
        "c.show()\n",
        "c.disp()\n",
        "c.hi()"
      ],
      "execution_count": 0,
      "outputs": []
    },
    {
      "cell_type": "code",
      "metadata": {
        "id": "Fh0l2RoD2e73",
        "colab_type": "code",
        "colab": {}
      },
      "source": [
        "class main : \n",
        "    pass\n",
        "class A(main) : \n",
        "    def show(self):\n",
        "        print(\"This is A.\")\n",
        "class B(main) : \n",
        "    def hi(self):\n",
        "        print(\"HI from B class\")\n",
        "class C(A):\n",
        "    def bye(self):\n",
        "        print(\"Bye bye form C\")\n",
        "class D(B) : \n",
        "    def show(self):\n",
        "        print(\"This is D.\")\n",
        "class E(D,C) : \n",
        "    pass\n",
        "e = E()\n",
        "e.show()"
      ],
      "execution_count": 0,
      "outputs": []
    },
    {
      "cell_type": "markdown",
      "metadata": {
        "id": "wr8nwZTnb4HS",
        "colab_type": "text"
      },
      "source": [
        "#Polymorphism ---> overloading"
      ]
    },
    {
      "cell_type": "code",
      "metadata": {
        "id": "QdpL7ntt2mXg",
        "colab_type": "code",
        "colab": {}
      },
      "source": [
        "\n",
        "#funcntion overloading\n",
        "def add(x):\n",
        "    return x*x\n",
        "def add(x,y):\n",
        "    return x + y\n",
        "\n",
        "# r1 = add(5) ---->Error: add() missing 1 required positional argument: 'y'\n",
        "r2 = add(5,5)\n",
        "print(r2)"
      ],
      "execution_count": 0,
      "outputs": []
    },
    {
      "cell_type": "code",
      "metadata": {
        "id": "9YDv-UjB2oFZ",
        "colab_type": "code",
        "colab": {}
      },
      "source": [
        "\n",
        "def add(x,y=None) : \n",
        "    if y : \n",
        "        return x + y\n",
        "    else : \n",
        "        return x ** 2\n"
      ],
      "execution_count": 0,
      "outputs": []
    },
    {
      "cell_type": "code",
      "metadata": {
        "id": "E-AG_2jn3Nh5",
        "colab_type": "code",
        "colab": {}
      },
      "source": [
        "print(add(5))\n",
        "print(add(5,5))"
      ],
      "execution_count": 0,
      "outputs": []
    },
    {
      "cell_type": "code",
      "metadata": {
        "id": "H29O5ch83X5P",
        "colab_type": "code",
        "colab": {}
      },
      "source": [
        "class Shape : \n",
        "    #def __init__(self,*args) : \n",
        "     #   self.no_of_sides = len(args)\n",
        "      #  self.sides = args\n",
        "    def show(self,x,y=None,z=None):\n",
        "        if  y and z : \n",
        "            print(\"Triangle\")\n",
        "        elif y or z : \n",
        "            if x == y or x == z  : \n",
        "                print(\"Squre\")\n",
        "            else : \n",
        "                print(\"Rectangle\")\n",
        "        else  : \n",
        "            print(\"This is just Point\")"
      ],
      "execution_count": 0,
      "outputs": []
    },
    {
      "cell_type": "code",
      "metadata": {
        "id": "DPAFpTS93eg1",
        "colab_type": "code",
        "colab": {}
      },
      "source": [
        "a = Shape()\n",
        "a.show(1)\n",
        "a.show(1,z=1)\n",
        "a.show(5,6)\n",
        "a.show(1,2,3)"
      ],
      "execution_count": 0,
      "outputs": []
    },
    {
      "cell_type": "markdown",
      "metadata": {
        "id": "GXTzR0KYbtUH",
        "colab_type": "text"
      },
      "source": [
        "# Overriding"
      ]
    },
    {
      "cell_type": "code",
      "metadata": {
        "id": "xmeZKXwr3vA9",
        "colab_type": "code",
        "colab": {}
      },
      "source": [
        "\n",
        "class A : \n",
        "    def add(self):\n",
        "        print(\"I am only for time pass.\")\n",
        "        \n",
        "class B(A) : \n",
        "    def add(self,x,y):\n",
        "        print(\"x = \",x)\n",
        "        print(\"y = \",y)\n",
        "        print(\"x + y = \",x + y )"
      ],
      "execution_count": 0,
      "outputs": []
    },
    {
      "cell_type": "code",
      "metadata": {
        "id": "YamwAoHa3zdl",
        "colab_type": "code",
        "colab": {}
      },
      "source": [
        "b = B()\n",
        "b.add(4,5) #this is overriding\n",
        "b.add()"
      ],
      "execution_count": 0,
      "outputs": []
    },
    {
      "cell_type": "markdown",
      "metadata": {
        "id": "7Tpz_gVA4JDH",
        "colab_type": "text"
      },
      "source": [
        "# DATA Hiding --> public, private, protected"
      ]
    },
    {
      "cell_type": "code",
      "metadata": {
        "id": "NQ0Ead784BaA",
        "colab_type": "code",
        "colab": {}
      },
      "source": [
        "class A : \n",
        "    x = 'public' #public variable\n",
        "    _x = 'protected'\n",
        "    __x = 'private'\n",
        "    def show(self):\n",
        "        print(\"X = \",A.x)\n",
        "        print(\"_X = \",A._x)\n",
        "        print(\"__X = \",A.__x)\n",
        "    def change(self,x='public',y='protected',z='private') : \n",
        "        A.x = x\n",
        "        A._x = y \n",
        "        A.__x = z\n",
        "    def Space(self):\n",
        "        print(\"You are inside the object space\")\n",
        "        print(\"X = \",self.x)\n",
        "        print(\"_X = \",self._x)\n",
        "        print(\"__X = \",self.__x)"
      ],
      "execution_count": 0,
      "outputs": []
    },
    {
      "cell_type": "code",
      "metadata": {
        "id": "bUcs8Au-4Nfb",
        "colab_type": "code",
        "colab": {}
      },
      "source": [
        "a = A()\n",
        "A.x"
      ],
      "execution_count": 0,
      "outputs": []
    },
    {
      "cell_type": "code",
      "metadata": {
        "id": "XLd34ANV42p8",
        "colab_type": "code",
        "colab": {}
      },
      "source": [
        "A._x\n",
        "#A.__x -----> Error: type object 'A' has no attribute '__x'"
      ],
      "execution_count": 0,
      "outputs": []
    },
    {
      "cell_type": "code",
      "metadata": {
        "id": "VKP3uQQj4jHP",
        "colab_type": "code",
        "colab": {}
      },
      "source": [
        "A.show()"
      ],
      "execution_count": 0,
      "outputs": []
    },
    {
      "cell_type": "code",
      "metadata": {
        "id": "MXPBkS0-4gwG",
        "colab_type": "code",
        "colab": {}
      },
      "source": [
        "a.show()"
      ],
      "execution_count": 0,
      "outputs": []
    },
    {
      "cell_type": "code",
      "metadata": {
        "id": "wMVHnkhD4_uL",
        "colab_type": "code",
        "colab": {}
      },
      "source": [
        "A.x = 'hi'\n",
        "A._x = 'bye'\n",
        "A.__x = 'bye bye '"
      ],
      "execution_count": 0,
      "outputs": []
    },
    {
      "cell_type": "code",
      "metadata": {
        "id": "RlHmQCVr5Fh4",
        "colab_type": "code",
        "colab": {}
      },
      "source": [
        "a.show()"
      ],
      "execution_count": 0,
      "outputs": []
    },
    {
      "cell_type": "code",
      "metadata": {
        "id": "NuyBY4l35aRM",
        "colab_type": "code",
        "colab": {}
      },
      "source": [
        "a.Space()"
      ],
      "execution_count": 0,
      "outputs": []
    },
    {
      "cell_type": "code",
      "metadata": {
        "id": "i3nEA1ov5rj6",
        "colab_type": "code",
        "colab": {}
      },
      "source": [
        "A.__dict__"
      ],
      "execution_count": 0,
      "outputs": []
    },
    {
      "cell_type": "code",
      "metadata": {
        "id": "03pjlPfy51NT",
        "colab_type": "code",
        "colab": {}
      },
      "source": [
        "A.__x"
      ],
      "execution_count": 0,
      "outputs": []
    },
    {
      "cell_type": "code",
      "metadata": {
        "id": "IvaJMNgW533u",
        "colab_type": "code",
        "colab": {}
      },
      "source": [
        "delattr(A,'__x')"
      ],
      "execution_count": 0,
      "outputs": []
    },
    {
      "cell_type": "code",
      "metadata": {
        "id": "gnjuCvh85_lO",
        "colab_type": "code",
        "colab": {}
      },
      "source": [
        "# __x --> _classname__x\n",
        "A._A__x"
      ],
      "execution_count": 0,
      "outputs": []
    },
    {
      "cell_type": "code",
      "metadata": {
        "id": "D50ZEMtG6Dal",
        "colab_type": "code",
        "colab": {}
      },
      "source": [
        "A._A__x = 'no privacy'\n",
        "a.show()"
      ],
      "execution_count": 0,
      "outputs": []
    },
    {
      "cell_type": "code",
      "metadata": {
        "id": "-tI6rCi16Lc0",
        "colab_type": "code",
        "colab": {}
      },
      "source": [
        "setattr\n",
        "getattr\n",
        "issubclass\n",
        "isinstance\n",
        "#getter and setter method of class\n",
        "setattr(A,'x','haha')"
      ],
      "execution_count": 0,
      "outputs": []
    },
    {
      "cell_type": "code",
      "metadata": {
        "id": "YqOEK0I26RIQ",
        "colab_type": "code",
        "colab": {}
      },
      "source": [
        "#without access specifier \n",
        "setattr(A,'hello',lambda name:f'hello {name}')"
      ],
      "execution_count": 0,
      "outputs": []
    },
    {
      "cell_type": "code",
      "metadata": {
        "id": "qgAUQj7_6YGM",
        "colab_type": "code",
        "colab": {}
      },
      "source": [
        "A.hello('learner')"
      ],
      "execution_count": 0,
      "outputs": []
    },
    {
      "cell_type": "markdown",
      "metadata": {
        "id": "0zvNKhQnjmw3",
        "colab_type": "text"
      },
      "source": [
        "##Methods\n",
        "\n",
        "There are three types of Methods:\n",
        "\n",
        "*  **Instance Methods:** Just like Instance Attribute these are bound to objects, eg: updateName\n",
        "\n",
        "*  **Class Methods:** A class method is bound to the class and not the object of the class, eg: changeClassTeacherName\n",
        "\n",
        "*  **Static Methods:** A static method can be called without an object for that class"
      ]
    },
    {
      "cell_type": "markdown",
      "metadata": {
        "id": "g98Cg2c_lTnP",
        "colab_type": "text"
      },
      "source": [
        "Look at the following code, have a try for yourself,so what are the output?"
      ]
    },
    {
      "cell_type": "code",
      "metadata": {
        "id": "jzgAFt16leDt",
        "colab_type": "code",
        "colab": {}
      },
      "source": [
        "class A(object):\n",
        "\n",
        "    variable = 1\n",
        "\n",
        "    def method(self, param):\n",
        "        print(\"run instance method (%s,%s)\" % (self, param))\n",
        "\n",
        "    @classmethod\n",
        "    def class_method1(cls, param):\n",
        "        print(\"run class method (%s,%s)\" % (cls, param))\n",
        "\n",
        "    @classmethod\n",
        "    def class_method2(cls):\n",
        "        print (cls.variable)\n",
        "\n",
        "    @staticmethod\n",
        "    def static_method1(param):\n",
        "        print(\"run static method (%s)\" % param)\n",
        "\n",
        "    @staticmethod\n",
        "    def static_method2():\n",
        "        print(variable)\n",
        "A = A()"
      ],
      "execution_count": 0,
      "outputs": []
    },
    {
      "cell_type": "code",
      "metadata": {
        "id": "XTtA-OBLl-89",
        "colab_type": "code",
        "colab": {}
      },
      "source": [
        "A.method(\" Instance method\")\n",
        "A.method(\" I am from instance method again\")\n",
        "\n",
        "A.class_method1(\" class method 1\")\n",
        "A.class_method2()\n",
        "A.class_method1(\" I am from class method 1 again\")\n",
        "A.class_method2()\n",
        "\n",
        "A.static_method1(\"static method 1\")\n",
        "A.static_method2()\n",
        "A.static_method1(\" I am from static method 1 again\")\n",
        "A.static_method2()"
      ],
      "execution_count": 0,
      "outputs": []
    },
    {
      "cell_type": "markdown",
      "metadata": {
        "id": "YbVgt0Qlmczr",
        "colab_type": "text"
      },
      "source": [
        "## Result\n",
        "1: A.method(“instance method”) — OK\n",
        "\n",
        "2: A.method(\"instance method again\") is wrong, as method is the instance method. To run an instance method, you have to use a class instance\n",
        "\n",
        "3: A.class_method1(\"class method 1\") outputs run class method (<class '__main__.A'>,class method 1)\n",
        "\n",
        "4: A.class_method2() outputs 1\n",
        "\n",
        "5: A.class_method1(\"class method 1 again\") outpus run class method (<class '__main__.A'>,class method 1 again)\n",
        "\n",
        "6: A.class_method2() outputs 1\n",
        "\n",
        "7: foo.static_method1(\"static method 1\") outputs run static method (static method 1)\n",
        "\n",
        "8: A.static_method2() is wrong, as static_method2 is static method, which cannot access the instance level variable\n",
        "\n",
        "9: A.static_method1(\"static method 1 again\") outputs run static method (static method 1 again)\n",
        "\n",
        "10: A.static_method2() is wrong, which cannot access the class level variable\n",
        "\n",
        "##Conclusion:\n",
        "* instance method (i.e. method()) must be called by a class instance\n",
        "\n",
        "* class method can be called either by a class instance or class itself\n",
        "\n",
        "* static method is quite special in Python, as it is also can be called by a class instance or class itself \n",
        "* the only difference between a static method and a class method, class method can access the class’s variable that static can’t\n"
      ]
    },
    {
      "cell_type": "markdown",
      "metadata": {
        "id": "_f6_wuU3S_nT",
        "colab_type": "text"
      },
      "source": [
        "## Learn more\n",
        "\n",
        "Strings:\n",
        "\n",
        "- [Text Sequence Type - str](https://docs.python.org/3.5/library/stdtypes.html#textseq): Strings are examples of *sequence types*, and support the common operations supported by such types.\n",
        "- [String Methods](https://docs.python.org/3.5/library/stdtypes.html#string-methods): Strings support a large number of methods for basic transformations and searching.\n",
        "- [Format String Syntax](https://docs.python.org/3.5/library/string.html#formatstrings): Information about string formatting with [`str.format()`](https://docs.python.org/3.5/library/string.html#formatstrings).\n",
        "- [`printf`-style String Formatting](https://docs.python.org/3.5/library/stdtypes.html#old-string-formatting): The old formatting operations invoked when strings and Unicode strings are the left operand of the `%` operator.\n",
        "\n",
        "Continue the tutorial on python.org (try pasting the code into a notebook!):\n",
        "\n",
        "- [More Control Flow Tools](https://docs.python.org/3.6/tutorial/controlflow.html)\n",
        "- [Data Structures](Data Structures)\n",
        "- [Modules](https://docs.python.org/3.6/tutorial/modules.html)\n",
        "- [Input and Output](https://docs.python.org/3.6/tutorial/inputoutput.html)"
      ]
    },
    {
      "cell_type": "markdown",
      "metadata": {
        "id": "-_26z91mSLuG",
        "colab_type": "text"
      },
      "source": [
        "#<b> DATA ANALYSIS </b>\n",
        "\n",
        "![alt text](https://www.edureka.co/blog/wp-content/uploads/2018/12/Data-Analytics-What-is-Data-Analytics-Edureka.png)\n",
        "\n",
        "\n",
        "<b> What is data analysis? </b><br>\n",
        "\n",
        "\n",
        "*  A process of inspecting, cleansing, transforming, and model the data to discover useful information\n",
        "*   Concluding from the collected information and make the decision accordingly\n",
        "\n",
        "# <b> Python is used for data analysis </b>\n",
        "![alt text](https://www.python.org/static/community_logos/python-logo.png)\n",
        "\n",
        "\n",
        "\n",
        "1.  <b> Numpy </b>\n",
        "2.  <b> Pandas </b>\n",
        "\n",
        "# 1. Numpy\n",
        "\n",
        "![alt text](https://upload.wikimedia.org/wikipedia/commons/1/1a/NumPy_logo.svg)\n",
        "\n",
        "<b>What is Numpy?</b>\n",
        "\n",
        "NumPy stands for ‘Numerical Python’ or ‘Numeric Python’ and an open source module of Python which provides fast mathematical computation on arrays and matrices.\n"
      ]
    },
    {
      "cell_type": "markdown",
      "metadata": {
        "id": "2KCB8bdb-dWr",
        "colab_type": "text"
      },
      "source": [
        "#Import Numpy"
      ]
    },
    {
      "cell_type": "code",
      "metadata": {
        "id": "CXDWmw5LVI78",
        "colab_type": "code",
        "colab": {}
      },
      "source": [
        "import numpy as np"
      ],
      "execution_count": 0,
      "outputs": []
    },
    {
      "cell_type": "markdown",
      "metadata": {
        "id": "zksRtI_3oWhb",
        "colab_type": "text"
      },
      "source": [
        "#Several ways to create an array"
      ]
    },
    {
      "cell_type": "code",
      "metadata": {
        "id": "lQp_Alx7oBzJ",
        "colab_type": "code",
        "outputId": "06554c56-6e24-4cc0-aeeb-b0de5e86962a",
        "colab": {
          "base_uri": "https://localhost:8080/",
          "height": 35
        }
      },
      "source": [
        "a = np.array([1, 2, 3])\n",
        "type(a)\n",
        "\n",
        " \n",
        "\n"
      ],
      "execution_count": 0,
      "outputs": [
        {
          "output_type": "execute_result",
          "data": {
            "text/plain": [
              "numpy.ndarray"
            ]
          },
          "metadata": {
            "tags": []
          },
          "execution_count": 2
        }
      ]
    },
    {
      "cell_type": "code",
      "metadata": {
        "id": "GYmFw_Fl_CS9",
        "colab_type": "code",
        "outputId": "666a2852-6f74-4697-a1d1-366590dc43a3",
        "colab": {
          "base_uri": "https://localhost:8080/",
          "height": 35
        }
      },
      "source": [
        "\n",
        "b = np.array((3, 4, 5))\n",
        "type(b)\n"
      ],
      "execution_count": 0,
      "outputs": [
        {
          "output_type": "execute_result",
          "data": {
            "text/plain": [
              "numpy.ndarray"
            ]
          },
          "metadata": {
            "tags": []
          },
          "execution_count": 3
        }
      ]
    },
    {
      "cell_type": "markdown",
      "metadata": {
        "id": "KpxuXV3DnjY1",
        "colab_type": "text"
      },
      "source": [
        "# Creating array with 1 values\n",
        "\n",
        "\n",
        "\n",
        "\n",
        "\n"
      ]
    },
    {
      "cell_type": "code",
      "metadata": {
        "id": "sWuV_fWF_NLG",
        "colab_type": "code",
        "outputId": "5cc647ec-f408-4a47-b048-0f631d963a3e",
        "colab": {
          "base_uri": "https://localhost:8080/",
          "height": 72
        }
      },
      "source": [
        "np.ones( (3,4), dtype=np.int16 )  "
      ],
      "execution_count": 0,
      "outputs": [
        {
          "output_type": "execute_result",
          "data": {
            "text/plain": [
              "array([[1, 1, 1, 1],\n",
              "       [1, 1, 1, 1],\n",
              "       [1, 1, 1, 1]], dtype=int16)"
            ]
          },
          "metadata": {
            "tags": []
          },
          "execution_count": 4
        }
      ]
    },
    {
      "cell_type": "markdown",
      "metadata": {
        "id": "gke55yVa_q2y",
        "colab_type": "text"
      },
      "source": [
        ""
      ]
    },
    {
      "cell_type": "code",
      "metadata": {
        "id": "LsqIyuM4_rQ1",
        "colab_type": "code",
        "outputId": "b1fc6c80-31e5-47e8-fbf5-824bd53a1a9a",
        "colab": {
          "base_uri": "https://localhost:8080/",
          "height": 72
        }
      },
      "source": [
        "np.full( (3,4), 0.11 ) "
      ],
      "execution_count": 0,
      "outputs": [
        {
          "output_type": "execute_result",
          "data": {
            "text/plain": [
              "array([[0.11, 0.11, 0.11, 0.11],\n",
              "       [0.11, 0.11, 0.11, 0.11],\n",
              "       [0.11, 0.11, 0.11, 0.11]])"
            ]
          },
          "metadata": {
            "tags": []
          },
          "execution_count": 5
        }
      ]
    },
    {
      "cell_type": "markdown",
      "metadata": {
        "id": "1dAO9IKI_vPP",
        "colab_type": "text"
      },
      "source": [
        ""
      ]
    },
    {
      "cell_type": "code",
      "metadata": {
        "id": "EF_FKqYH_y7Q",
        "colab_type": "code",
        "outputId": "cc12bed0-dcde-415f-d6b2-18aaacda3ebd",
        "colab": {
          "base_uri": "https://localhost:8080/",
          "height": 35
        }
      },
      "source": [
        "np.arange( 10, 30, 5 )"
      ],
      "execution_count": 0,
      "outputs": [
        {
          "output_type": "execute_result",
          "data": {
            "text/plain": [
              "array([10, 15, 20, 25])"
            ]
          },
          "metadata": {
            "tags": []
          },
          "execution_count": 6
        }
      ]
    },
    {
      "cell_type": "markdown",
      "metadata": {
        "id": "1O9mTv7R_418",
        "colab_type": "text"
      },
      "source": [
        ""
      ]
    },
    {
      "cell_type": "code",
      "metadata": {
        "id": "sA3fUjw0_vW5",
        "colab_type": "code",
        "outputId": "6ba91a4e-a0c7-49d6-bea5-4758cdefbeba",
        "colab": {
          "base_uri": "https://localhost:8080/",
          "height": 54
        }
      },
      "source": [
        "np.linspace(0, 5/3, 6)"
      ],
      "execution_count": 0,
      "outputs": [
        {
          "output_type": "execute_result",
          "data": {
            "text/plain": [
              "array([0.        , 0.33333333, 0.66666667, 1.        , 1.33333333,\n",
              "       1.66666667])"
            ]
          },
          "metadata": {
            "tags": []
          },
          "execution_count": 7
        }
      ]
    },
    {
      "cell_type": "markdown",
      "metadata": {
        "id": "V1L6Fnib_9yi",
        "colab_type": "text"
      },
      "source": [
        ""
      ]
    },
    {
      "cell_type": "code",
      "metadata": {
        "id": "C5W9ee1v_-Dp",
        "colab_type": "code",
        "outputId": "7e8202ec-0223-4791-dd77-0f6401d46f2b",
        "colab": {
          "base_uri": "https://localhost:8080/",
          "height": 54
        }
      },
      "source": [
        "np.random.rand(2,3)"
      ],
      "execution_count": 0,
      "outputs": [
        {
          "output_type": "execute_result",
          "data": {
            "text/plain": [
              "array([[0.80029193, 0.31679816, 0.54900367],\n",
              "       [0.46801131, 0.74230639, 0.04995891]])"
            ]
          },
          "metadata": {
            "tags": []
          },
          "execution_count": 8
        }
      ]
    },
    {
      "cell_type": "markdown",
      "metadata": {
        "id": "QSMDwMH8ACA-",
        "colab_type": "text"
      },
      "source": [
        ""
      ]
    },
    {
      "cell_type": "code",
      "metadata": {
        "id": "waTnwuM9ACOF",
        "colab_type": "code",
        "outputId": "e65fe13d-d098-4236-f41d-f82acc424190",
        "colab": {
          "base_uri": "https://localhost:8080/",
          "height": 54
        }
      },
      "source": [
        "np.empty((2,3))"
      ],
      "execution_count": 0,
      "outputs": [
        {
          "output_type": "execute_result",
          "data": {
            "text/plain": [
              "array([[0.80029193, 0.31679816, 0.54900367],\n",
              "       [0.46801131, 0.74230639, 0.04995891]])"
            ]
          },
          "metadata": {
            "tags": []
          },
          "execution_count": 9
        }
      ]
    },
    {
      "cell_type": "markdown",
      "metadata": {
        "id": "7jPocvg6AHqZ",
        "colab_type": "text"
      },
      "source": [
        "#<b> Important attributes of a NumPy object are:</b>\n",
        "\n",
        "**Ndim:** displays the dimension of the array<br>\n",
        "**Shape:** returns a tuple of integers indicating the size of the array<br>\n",
        "**Size:** returns the total number of elements in the NumPy array<br>\n",
        "**Dtype:** returns the type of elements in the array, i.e., int64, character<br>\n",
        "**Itemsize:** returns the size in bytes of each item<br>\n",
        "**Reshape:** Reshapes the NumPy array<br>"
      ]
    },
    {
      "cell_type": "markdown",
      "metadata": {
        "id": "yeXDA8zpA2Y0",
        "colab_type": "text"
      },
      "source": [
        "# <b>Indexing and slicing of numpy array</b>\n",
        "\n",
        "A[2:5] will print items 2 to 4. Index in NumPy arrays starts from 0<br>\n",
        "A[2::2] will print items 2 to end skipping 2 items<br>\n",
        "A[::-1] will print the array in the reverse order<br>\n",
        "A[1:] will print from row 1 to end<br>"
      ]
    },
    {
      "cell_type": "code",
      "metadata": {
        "id": "ytby3JzrBWEM",
        "colab_type": "code",
        "outputId": "bd2a6cee-757c-43a1-cbe0-6e347b3e3359",
        "colab": {
          "base_uri": "https://localhost:8080/",
          "height": 35
        }
      },
      "source": [
        "A = np.array([1, 2, 5, 7, 8])\n",
        "A[2:5]"
      ],
      "execution_count": 0,
      "outputs": [
        {
          "output_type": "execute_result",
          "data": {
            "text/plain": [
              "array([5, 7, 8])"
            ]
          },
          "metadata": {
            "tags": []
          },
          "execution_count": 11
        }
      ]
    },
    {
      "cell_type": "code",
      "metadata": {
        "id": "p_KRuWzDBlnO",
        "colab_type": "code",
        "outputId": "b2faabcb-5d90-4a81-c179-33591759a0a7",
        "colab": {
          "base_uri": "https://localhost:8080/",
          "height": 35
        }
      },
      "source": [
        "A[2::2]"
      ],
      "execution_count": 0,
      "outputs": [
        {
          "output_type": "execute_result",
          "data": {
            "text/plain": [
              "array([5, 8])"
            ]
          },
          "metadata": {
            "tags": []
          },
          "execution_count": 12
        }
      ]
    },
    {
      "cell_type": "code",
      "metadata": {
        "id": "2vbYvrfrBqI_",
        "colab_type": "code",
        "outputId": "cbb3408c-cf27-4b9a-dd69-ecc20c81c05d",
        "colab": {
          "base_uri": "https://localhost:8080/",
          "height": 35
        }
      },
      "source": [
        "A[::-1]"
      ],
      "execution_count": 0,
      "outputs": [
        {
          "output_type": "execute_result",
          "data": {
            "text/plain": [
              "array([8, 7, 5, 2, 1])"
            ]
          },
          "metadata": {
            "tags": []
          },
          "execution_count": 13
        }
      ]
    },
    {
      "cell_type": "code",
      "metadata": {
        "id": "fduyfFBYBoel",
        "colab_type": "code",
        "outputId": "3fd24dce-8f0a-4546-f96d-ee08482552af",
        "colab": {
          "base_uri": "https://localhost:8080/",
          "height": 35
        }
      },
      "source": [
        "A[1:]"
      ],
      "execution_count": 0,
      "outputs": [
        {
          "output_type": "execute_result",
          "data": {
            "text/plain": [
              "array([2, 5, 7, 8])"
            ]
          },
          "metadata": {
            "tags": []
          },
          "execution_count": 14
        }
      ]
    },
    {
      "cell_type": "markdown",
      "metadata": {
        "id": "tEN6F1d6Fwps",
        "colab_type": "text"
      },
      "source": [
        "#<b>Reading and writing from Text files</b>\n",
        "\n",
        "![alt text](https://www.ramapo.edu/crw/files/2012/07/books-300x200.jpg)"
      ]
    },
    {
      "cell_type": "code",
      "metadata": {
        "id": "YgZG0AD5Fvmt",
        "colab_type": "code",
        "outputId": "b77948d5-8ae5-43cd-fd55-a496dbf78446",
        "colab": {
          "base_uri": "https://localhost:8080/",
          "height": 35
        }
      },
      "source": [
        "a = np.loadtxt('/content/filex.txt')\n",
        "b=np.savetxt('newfilex.txt', a)\n"
      ],
      "execution_count": 0,
      "outputs": [
        {
          "output_type": "stream",
          "text": [
            "None\n"
          ],
          "name": "stdout"
        }
      ]
    },
    {
      "cell_type": "markdown",
      "metadata": {
        "id": "wKKCJCjKNvZZ",
        "colab_type": "text"
      },
      "source": [
        "#<b>Reading and writing from Text files csv</b>\n",
        "\n",
        "![alt text](https://image.flaticon.com/icons/png/512/29/29102.png)"
      ]
    },
    {
      "cell_type": "code",
      "metadata": {
        "id": "oxR0_zblF72s",
        "colab_type": "code",
        "colab": {}
      },
      "source": [
        "import numpy as np\n",
        "arr = np.genfromtxt('/content/filex.csv', delimiter=',')\n",
        "np.savetxt('newfilex.csv', arr, delimiter =',')\n"
      ],
      "execution_count": 0,
      "outputs": []
    },
    {
      "cell_type": "markdown",
      "metadata": {
        "id": "hpFum8tehyl_",
        "colab_type": "text"
      },
      "source": [
        "# 2. Pandas\n",
        "![alt text](https://lh3.googleusercontent.com/-t0P5U6iHykA/Xfdidw6crVI/AAAAAAAAArI/A3T6UYdU2VET-OtCQ82ml_rQtjSnybfRQCK8BGAsYHg/s0/2019-12-16.jpg)\n",
        "\n",
        "<b>What is Pandas?</b>\n",
        "\n",
        "Pandas is an open-source Python library providing efficient, easy-to-use data structures and data analysis tools. The name Pandas is derived from “Panel Data” – an Econometrics term for Multidimensional data.\n",
        "\n",
        "\n",
        "#Import the pandas package\n"
      ]
    },
    {
      "cell_type": "code",
      "metadata": {
        "id": "pXdN3clAixHI",
        "colab_type": "code",
        "colab": {}
      },
      "source": [
        "import pandas as pd"
      ],
      "execution_count": 0,
      "outputs": []
    },
    {
      "cell_type": "markdown",
      "metadata": {
        "id": "ZzD1oNhFiz9C",
        "colab_type": "text"
      },
      "source": [
        "#<b>Create a simple DataFrame</b>\n",
        "syntax: pd.DataFrame({column1 : value1, column2 : value2, column3 : value3})\n",
        "You can have anything as column names and anything as values.\n",
        "\n",
        "The only requirement is to have all value lists being of equal length (all are of length 3 in this example)\n",
        "\n",
        "\n",
        "![alt text](http://houseofbots.com/images/news/3361/0img.png)"
      ]
    },
    {
      "cell_type": "code",
      "metadata": {
        "id": "lY0SBqQ5jSTp",
        "colab_type": "code",
        "outputId": "d02857c7-647c-4933-a202-7d88a348bc24",
        "colab": {
          "base_uri": "https://localhost:8080/",
          "height": 138
        }
      },
      "source": [
        "df = pd.DataFrame({'name':['Bob','Jen','Tim'],\n",
        "                   'age':[20,30,40],\n",
        "                   'pet':['cat', 'dog', 'bird']})\n",
        "\n",
        "df"
      ],
      "execution_count": 0,
      "outputs": [
        {
          "output_type": "execute_result",
          "data": {
            "text/html": [
              "<div>\n",
              "<style scoped>\n",
              "    .dataframe tbody tr th:only-of-type {\n",
              "        vertical-align: middle;\n",
              "    }\n",
              "\n",
              "    .dataframe tbody tr th {\n",
              "        vertical-align: top;\n",
              "    }\n",
              "\n",
              "    .dataframe thead th {\n",
              "        text-align: right;\n",
              "    }\n",
              "</style>\n",
              "<table border=\"1\" class=\"dataframe\">\n",
              "  <thead>\n",
              "    <tr style=\"text-align: right;\">\n",
              "      <th></th>\n",
              "      <th>name</th>\n",
              "      <th>age</th>\n",
              "      <th>pet</th>\n",
              "    </tr>\n",
              "  </thead>\n",
              "  <tbody>\n",
              "    <tr>\n",
              "      <th>0</th>\n",
              "      <td>Bob</td>\n",
              "      <td>20</td>\n",
              "      <td>cat</td>\n",
              "    </tr>\n",
              "    <tr>\n",
              "      <th>1</th>\n",
              "      <td>Jen</td>\n",
              "      <td>30</td>\n",
              "      <td>dog</td>\n",
              "    </tr>\n",
              "    <tr>\n",
              "      <th>2</th>\n",
              "      <td>Tim</td>\n",
              "      <td>40</td>\n",
              "      <td>bird</td>\n",
              "    </tr>\n",
              "  </tbody>\n",
              "</table>\n",
              "</div>"
            ],
            "text/plain": [
              "  name  age   pet\n",
              "0  Bob   20   cat\n",
              "1  Jen   30   dog\n",
              "2  Tim   40  bird"
            ]
          },
          "metadata": {
            "tags": []
          },
          "execution_count": 23
        }
      ]
    },
    {
      "cell_type": "markdown",
      "metadata": {
        "id": "y-gFiKH8jb4C",
        "colab_type": "text"
      },
      "source": [
        "#View the column names and index values\n",
        "The index is one of the most important concepts in pandas.\n",
        "\n",
        "Each dataframe has only a single index which is always available as df.index and if you do not supply one (as we did not for this dataframe) a new one is made automatically.\n",
        "\n",
        "Indexes define how to access rows of the dataframe.\n",
        "\n",
        "The simplest index is the range index but there are more complex ones like interval index, datetime index and multi index."
      ]
    },
    {
      "cell_type": "code",
      "metadata": {
        "id": "cQcD70T3jhfc",
        "colab_type": "code",
        "outputId": "f2b9130c-5733-489c-f7b8-d1609d36f3aa",
        "colab": {
          "base_uri": "https://localhost:8080/",
          "height": 54
        }
      },
      "source": [
        "print(df.columns)\n",
        "print(df.index)"
      ],
      "execution_count": 0,
      "outputs": [
        {
          "output_type": "stream",
          "text": [
            "Index(['name', 'age', 'pet'], dtype='object')\n",
            "RangeIndex(start=0, stop=3, step=1)\n"
          ],
          "name": "stdout"
        }
      ]
    },
    {
      "cell_type": "markdown",
      "metadata": {
        "id": "B6EWAeyDjnDC",
        "colab_type": "text"
      },
      "source": [
        "<b>Select a column by name in 2 different ways</b>\n",
        "These two ways are equivalent and can be used interchangeably almost always.\n",
        "\n",
        "The primary exception is when the name of the column contains spaces. If for example we had a column called \"weekly sales\" we have to use df['weekly sales'] because df.weekly sales is a syntactic error."
      ]
    },
    {
      "cell_type": "code",
      "metadata": {
        "id": "ahTsUbRjjmLc",
        "colab_type": "code",
        "outputId": "0f2e0477-099a-42ac-bdb1-42f46b817874",
        "colab": {
          "base_uri": "https://localhost:8080/",
          "height": 163
        }
      },
      "source": [
        "print(df['name'])\n",
        "print(df.name)"
      ],
      "execution_count": 0,
      "outputs": [
        {
          "output_type": "stream",
          "text": [
            "0    Bob\n",
            "1    Jen\n",
            "2    Tim\n",
            "Name: name, dtype: object\n",
            "0    Bob\n",
            "1    Jen\n",
            "2    Tim\n",
            "Name: name, dtype: object\n"
          ],
          "name": "stdout"
        }
      ]
    },
    {
      "cell_type": "markdown",
      "metadata": {
        "id": "Fl9NIyaJjwIT",
        "colab_type": "text"
      },
      "source": [
        "<b>Select multiple columns</b>\n",
        "<br>\n",
        "To select multiple columns we use df[columns_to_select] where columns_to_select are the columns we are interested in given as a simple python list. As the result we will get another data frame.\n",
        "\n",
        "This is the equivalent of listing columns names in SELECT part of a sql query"
      ]
    },
    {
      "cell_type": "code",
      "metadata": {
        "id": "wQB5ZEFPj2M_",
        "colab_type": "code",
        "colab": {}
      },
      "source": [
        "df[['name','pet']]"
      ],
      "execution_count": 0,
      "outputs": []
    },
    {
      "cell_type": "markdown",
      "metadata": {
        "id": "KaRFUYD5luCR",
        "colab_type": "text"
      },
      "source": [
        "# Select a row by index\n",
        "Regular selection of rows goes via its index. When using range indices we can access rows using integer indices but this will not work when using datetime index for example.\n",
        "\n",
        "We can always access any row in the dataframe using .iloc[i] for some integer i.\n",
        "\n",
        "The result is a series object from which we can access values by using column indexing."
      ]
    },
    {
      "cell_type": "code",
      "metadata": {
        "id": "-P5-S9u7ltRm",
        "colab_type": "code",
        "outputId": "999ebd7f-22d8-4229-b348-16ba778d70ac",
        "colab": {
          "base_uri": "https://localhost:8080/",
          "height": 90
        }
      },
      "source": [
        "df.iloc[0]"
      ],
      "execution_count": 0,
      "outputs": [
        {
          "output_type": "execute_result",
          "data": {
            "text/plain": [
              "name    Bob\n",
              "age      20\n",
              "pet     cat\n",
              "Name: 0, dtype: object"
            ]
          },
          "metadata": {
            "tags": []
          },
          "execution_count": 26
        }
      ]
    },
    {
      "cell_type": "markdown",
      "metadata": {
        "id": "uuJPN7fJl5in",
        "colab_type": "text"
      },
      "source": [
        "# <b>Sort Function </b>\n",
        "\n",
        "\n",
        "1.   pandas.pydata.org\n",
        "\n",
        "2.   https://pandas.pydata.org/pandas-docs/stable/generated/pandas.DataFrame.sort_values.html\n",
        "\n",
        "\n",
        "<b>Sort the data by pet</b>\n",
        "<br>\n",
        "<br>\n",
        "There are two ways to sort.\n",
        "\n",
        "\n",
        "\n",
        "1.   **By index**\n",
        "\n",
        "2.   **By value**\n",
        "\n",
        "\n",
        "By value means sorting according to value in a column.\n",
        "\n",
        "In this example we sort the rows of the dataframe based on values in 'pet' column.\n",
        "\n",
        "The parameter ascending = True means that we want the rows sorted in ascending order. This is the same as sql 'ASC'. To get descending order use ascending = False.\n",
        "\n",
        "inplace is very important and you should always remember it. When inplace=True the dataframe is modified in place which means that no copies are made and your previous data stored in the dataframe is lost. By default inplace is always False. When it is false a copy is made of your data and that copy is sorted and returned as output.\n",
        "\n",
        "The output of sort_values is always a dataframe returned but the behaviour depends strongly on the inplace parameter.\n"
      ]
    },
    {
      "cell_type": "code",
      "metadata": {
        "id": "tCICMHpxmW-q",
        "colab_type": "code",
        "colab": {}
      },
      "source": [
        "df.sort_values('pet',inplace=True, ascending=True)"
      ],
      "execution_count": 0,
      "outputs": []
    },
    {
      "cell_type": "markdown",
      "metadata": {
        "id": "oKuM9Z4Tmv2e",
        "colab_type": "text"
      },
      "source": [
        "# Indexing with DataFrames\n",
        "Everything we discussed about indexing in numpy arrays applies to dataframes as well.\n",
        "\n",
        "DataFrames are very similar to 2d-arrays with the main exception being that in DataFrames you can index using strings (column names).\n",
        "\n",
        "View the index after the sort"
      ]
    },
    {
      "cell_type": "code",
      "metadata": {
        "id": "6-kyM2I2mzkB",
        "colab_type": "code",
        "outputId": "49d6cadd-8db6-4ada-f1cc-307e5e360849",
        "colab": {
          "base_uri": "https://localhost:8080/",
          "height": 138
        }
      },
      "source": [
        "df"
      ],
      "execution_count": 0,
      "outputs": [
        {
          "output_type": "execute_result",
          "data": {
            "text/html": [
              "<div>\n",
              "<style scoped>\n",
              "    .dataframe tbody tr th:only-of-type {\n",
              "        vertical-align: middle;\n",
              "    }\n",
              "\n",
              "    .dataframe tbody tr th {\n",
              "        vertical-align: top;\n",
              "    }\n",
              "\n",
              "    .dataframe thead th {\n",
              "        text-align: right;\n",
              "    }\n",
              "</style>\n",
              "<table border=\"1\" class=\"dataframe\">\n",
              "  <thead>\n",
              "    <tr style=\"text-align: right;\">\n",
              "      <th></th>\n",
              "      <th>name</th>\n",
              "      <th>age</th>\n",
              "      <th>pet</th>\n",
              "    </tr>\n",
              "  </thead>\n",
              "  <tbody>\n",
              "    <tr>\n",
              "      <th>2</th>\n",
              "      <td>Tim</td>\n",
              "      <td>40</td>\n",
              "      <td>bird</td>\n",
              "    </tr>\n",
              "    <tr>\n",
              "      <th>0</th>\n",
              "      <td>Bob</td>\n",
              "      <td>20</td>\n",
              "      <td>cat</td>\n",
              "    </tr>\n",
              "    <tr>\n",
              "      <th>1</th>\n",
              "      <td>Jen</td>\n",
              "      <td>30</td>\n",
              "      <td>dog</td>\n",
              "    </tr>\n",
              "  </tbody>\n",
              "</table>\n",
              "</div>"
            ],
            "text/plain": [
              "  name  age   pet\n",
              "2  Tim   40  bird\n",
              "0  Bob   20   cat\n",
              "1  Jen   30   dog"
            ]
          },
          "metadata": {
            "tags": []
          },
          "execution_count": 28
        }
      ]
    },
    {
      "cell_type": "markdown",
      "metadata": {
        "id": "iwvGk0PUm2iO",
        "colab_type": "text"
      },
      "source": [
        "#**Difference** between loc and iloc\n",
        ".loc selection is based on the value of the index. For example if the \n",
        "\n",
        "1.   .loc selection is based on the value of the index. For example if the index was categorical we could index via some category.\n",
        "\n",
        "2.  .iloc selection is always based on integer positions. When using iloc we are treating the dataframe as 2d-array with no special structure compared to the case of .loc\n",
        "\n"
      ]
    },
    {
      "cell_type": "code",
      "metadata": {
        "id": "x3hsU4vEnKs1",
        "colab_type": "code",
        "outputId": "0752348a-aeb0-4507-f3d5-fcd73d606b0c",
        "colab": {
          "base_uri": "https://localhost:8080/",
          "height": 90
        }
      },
      "source": [
        "df.loc[0] #index based"
      ],
      "execution_count": 0,
      "outputs": [
        {
          "output_type": "execute_result",
          "data": {
            "text/plain": [
              "name    Bob\n",
              "age      20\n",
              "pet     cat\n",
              "Name: 0, dtype: object"
            ]
          },
          "metadata": {
            "tags": []
          },
          "execution_count": 29
        }
      ]
    },
    {
      "cell_type": "code",
      "metadata": {
        "id": "1Nz2i9QWnMov",
        "colab_type": "code",
        "outputId": "56962c4a-82bd-46aa-9d75-035d5a37f627",
        "colab": {
          "base_uri": "https://localhost:8080/",
          "height": 90
        }
      },
      "source": [
        "df.iloc[0] #relative position based indexing"
      ],
      "execution_count": 0,
      "outputs": [
        {
          "output_type": "execute_result",
          "data": {
            "text/plain": [
              "name     Tim\n",
              "age       40\n",
              "pet     bird\n",
              "Name: 2, dtype: object"
            ]
          },
          "metadata": {
            "tags": []
          },
          "execution_count": 30
        }
      ]
    },
    {
      "cell_type": "markdown",
      "metadata": {
        "id": "-mXNGi4WnPMQ",
        "colab_type": "text"
      },
      "source": [
        "Use iloc to select all rows of a column\n",
        "This will select all rows of the second column.\n",
        "\n",
        "Remember : = ::1\n",
        "\n",
        "First index is always row and second is always column when dealing with dataframes."
      ]
    },
    {
      "cell_type": "code",
      "metadata": {
        "id": "BG3Nq7NhnR2i",
        "colab_type": "code",
        "outputId": "b6f50fdb-f1c8-4adc-d1ba-d105af41e48b",
        "colab": {
          "base_uri": "https://localhost:8080/",
          "height": 90
        }
      },
      "source": [
        "df.iloc[:,2]"
      ],
      "execution_count": 0,
      "outputs": [
        {
          "output_type": "execute_result",
          "data": {
            "text/plain": [
              "2    bird\n",
              "0     cat\n",
              "1     dog\n",
              "Name: pet, dtype: object"
            ]
          },
          "metadata": {
            "tags": []
          },
          "execution_count": 31
        }
      ]
    },
    {
      "cell_type": "markdown",
      "metadata": {
        "id": "MClu3m9XnUWS",
        "colab_type": "text"
      },
      "source": [
        "# **Use iloc to select the last row**\n"
      ]
    },
    {
      "cell_type": "code",
      "metadata": {
        "id": "ocTvq9Fnne0Z",
        "colab_type": "code",
        "colab": {}
      },
      "source": [
        "df.iloc[-1,:]"
      ],
      "execution_count": 0,
      "outputs": []
    },
    {
      "cell_type": "markdown",
      "metadata": {
        "id": "tsnMs_sonjez",
        "colab_type": "text"
      },
      "source": [
        "#**Basic Pandas Functionality**\n",
        "Before we learn about what Pandas can do, we need to first import some data\n",
        "\n",
        "**Importing Data**\n",
        "<br>\n",
        "![alt text](https://microbiz.com/wp-content/uploads/2019/01/data-export.png)\n",
        "\n",
        "Python allows you to connect to any type of database. To make this easy for newbies, we've create a notebook to help you connect to the Strata Scratch platform and pull data. Use the notebook below to pull data from our database."
      ]
    },
    {
      "cell_type": "markdown",
      "metadata": {
        "id": "6E7V_bgvohcx",
        "colab_type": "text"
      },
      "source": [
        "#**Loading CSV Data Into**"
      ]
    },
    {
      "cell_type": "code",
      "metadata": {
        "id": "6vBXQLoRo7A2",
        "colab_type": "code",
        "colab": {}
      },
      "source": [
        "table = pd.read_csv(\"/content/USArrests.csv\")"
      ],
      "execution_count": 0,
      "outputs": []
    },
    {
      "cell_type": "code",
      "metadata": {
        "id": "53Z7CGlYpM0O",
        "colab_type": "code",
        "outputId": "fe03c207-7016-4628-d6a2-0a039d60a9ae",
        "colab": {
          "base_uri": "https://localhost:8080/",
          "height": 1000
        }
      },
      "source": [
        "table"
      ],
      "execution_count": 0,
      "outputs": [
        {
          "output_type": "execute_result",
          "data": {
            "text/html": [
              "<div>\n",
              "<style scoped>\n",
              "    .dataframe tbody tr th:only-of-type {\n",
              "        vertical-align: middle;\n",
              "    }\n",
              "\n",
              "    .dataframe tbody tr th {\n",
              "        vertical-align: top;\n",
              "    }\n",
              "\n",
              "    .dataframe thead th {\n",
              "        text-align: right;\n",
              "    }\n",
              "</style>\n",
              "<table border=\"1\" class=\"dataframe\">\n",
              "  <thead>\n",
              "    <tr style=\"text-align: right;\">\n",
              "      <th></th>\n",
              "      <th>Unnamed: 0</th>\n",
              "      <th>Murder</th>\n",
              "      <th>Assault</th>\n",
              "      <th>UrbanPop</th>\n",
              "      <th>Rape</th>\n",
              "    </tr>\n",
              "  </thead>\n",
              "  <tbody>\n",
              "    <tr>\n",
              "      <th>0</th>\n",
              "      <td>Alabama</td>\n",
              "      <td>13.2</td>\n",
              "      <td>236</td>\n",
              "      <td>58</td>\n",
              "      <td>21.2</td>\n",
              "    </tr>\n",
              "    <tr>\n",
              "      <th>1</th>\n",
              "      <td>Alaska</td>\n",
              "      <td>10.0</td>\n",
              "      <td>263</td>\n",
              "      <td>48</td>\n",
              "      <td>44.5</td>\n",
              "    </tr>\n",
              "    <tr>\n",
              "      <th>2</th>\n",
              "      <td>Arizona</td>\n",
              "      <td>8.1</td>\n",
              "      <td>294</td>\n",
              "      <td>80</td>\n",
              "      <td>31.0</td>\n",
              "    </tr>\n",
              "    <tr>\n",
              "      <th>3</th>\n",
              "      <td>Arkansas</td>\n",
              "      <td>8.8</td>\n",
              "      <td>190</td>\n",
              "      <td>50</td>\n",
              "      <td>19.5</td>\n",
              "    </tr>\n",
              "    <tr>\n",
              "      <th>4</th>\n",
              "      <td>California</td>\n",
              "      <td>9.0</td>\n",
              "      <td>276</td>\n",
              "      <td>91</td>\n",
              "      <td>40.6</td>\n",
              "    </tr>\n",
              "    <tr>\n",
              "      <th>5</th>\n",
              "      <td>Colorado</td>\n",
              "      <td>7.9</td>\n",
              "      <td>204</td>\n",
              "      <td>78</td>\n",
              "      <td>38.7</td>\n",
              "    </tr>\n",
              "    <tr>\n",
              "      <th>6</th>\n",
              "      <td>Connecticut</td>\n",
              "      <td>3.3</td>\n",
              "      <td>110</td>\n",
              "      <td>77</td>\n",
              "      <td>11.1</td>\n",
              "    </tr>\n",
              "    <tr>\n",
              "      <th>7</th>\n",
              "      <td>Delaware</td>\n",
              "      <td>5.9</td>\n",
              "      <td>238</td>\n",
              "      <td>72</td>\n",
              "      <td>15.8</td>\n",
              "    </tr>\n",
              "    <tr>\n",
              "      <th>8</th>\n",
              "      <td>Florida</td>\n",
              "      <td>15.4</td>\n",
              "      <td>335</td>\n",
              "      <td>80</td>\n",
              "      <td>31.9</td>\n",
              "    </tr>\n",
              "    <tr>\n",
              "      <th>9</th>\n",
              "      <td>Georgia</td>\n",
              "      <td>17.4</td>\n",
              "      <td>211</td>\n",
              "      <td>60</td>\n",
              "      <td>25.8</td>\n",
              "    </tr>\n",
              "    <tr>\n",
              "      <th>10</th>\n",
              "      <td>Hawaii</td>\n",
              "      <td>5.3</td>\n",
              "      <td>46</td>\n",
              "      <td>83</td>\n",
              "      <td>20.2</td>\n",
              "    </tr>\n",
              "    <tr>\n",
              "      <th>11</th>\n",
              "      <td>Idaho</td>\n",
              "      <td>2.6</td>\n",
              "      <td>120</td>\n",
              "      <td>54</td>\n",
              "      <td>14.2</td>\n",
              "    </tr>\n",
              "    <tr>\n",
              "      <th>12</th>\n",
              "      <td>Illinois</td>\n",
              "      <td>10.4</td>\n",
              "      <td>249</td>\n",
              "      <td>83</td>\n",
              "      <td>24.0</td>\n",
              "    </tr>\n",
              "    <tr>\n",
              "      <th>13</th>\n",
              "      <td>Indiana</td>\n",
              "      <td>7.2</td>\n",
              "      <td>113</td>\n",
              "      <td>65</td>\n",
              "      <td>21.0</td>\n",
              "    </tr>\n",
              "    <tr>\n",
              "      <th>14</th>\n",
              "      <td>Iowa</td>\n",
              "      <td>2.2</td>\n",
              "      <td>56</td>\n",
              "      <td>57</td>\n",
              "      <td>11.3</td>\n",
              "    </tr>\n",
              "    <tr>\n",
              "      <th>15</th>\n",
              "      <td>Kansas</td>\n",
              "      <td>6.0</td>\n",
              "      <td>115</td>\n",
              "      <td>66</td>\n",
              "      <td>18.0</td>\n",
              "    </tr>\n",
              "    <tr>\n",
              "      <th>16</th>\n",
              "      <td>Kentucky</td>\n",
              "      <td>9.7</td>\n",
              "      <td>109</td>\n",
              "      <td>52</td>\n",
              "      <td>16.3</td>\n",
              "    </tr>\n",
              "    <tr>\n",
              "      <th>17</th>\n",
              "      <td>Louisiana</td>\n",
              "      <td>15.4</td>\n",
              "      <td>249</td>\n",
              "      <td>66</td>\n",
              "      <td>22.2</td>\n",
              "    </tr>\n",
              "    <tr>\n",
              "      <th>18</th>\n",
              "      <td>Maine</td>\n",
              "      <td>2.1</td>\n",
              "      <td>83</td>\n",
              "      <td>51</td>\n",
              "      <td>7.8</td>\n",
              "    </tr>\n",
              "    <tr>\n",
              "      <th>19</th>\n",
              "      <td>Maryland</td>\n",
              "      <td>11.3</td>\n",
              "      <td>300</td>\n",
              "      <td>67</td>\n",
              "      <td>27.8</td>\n",
              "    </tr>\n",
              "    <tr>\n",
              "      <th>20</th>\n",
              "      <td>Massachusetts</td>\n",
              "      <td>4.4</td>\n",
              "      <td>149</td>\n",
              "      <td>85</td>\n",
              "      <td>16.3</td>\n",
              "    </tr>\n",
              "    <tr>\n",
              "      <th>21</th>\n",
              "      <td>Michigan</td>\n",
              "      <td>12.1</td>\n",
              "      <td>255</td>\n",
              "      <td>74</td>\n",
              "      <td>35.1</td>\n",
              "    </tr>\n",
              "    <tr>\n",
              "      <th>22</th>\n",
              "      <td>Minnesota</td>\n",
              "      <td>2.7</td>\n",
              "      <td>72</td>\n",
              "      <td>66</td>\n",
              "      <td>14.9</td>\n",
              "    </tr>\n",
              "    <tr>\n",
              "      <th>23</th>\n",
              "      <td>Mississippi</td>\n",
              "      <td>16.1</td>\n",
              "      <td>259</td>\n",
              "      <td>44</td>\n",
              "      <td>17.1</td>\n",
              "    </tr>\n",
              "    <tr>\n",
              "      <th>24</th>\n",
              "      <td>Missouri</td>\n",
              "      <td>9.0</td>\n",
              "      <td>178</td>\n",
              "      <td>70</td>\n",
              "      <td>28.2</td>\n",
              "    </tr>\n",
              "    <tr>\n",
              "      <th>25</th>\n",
              "      <td>Montana</td>\n",
              "      <td>6.0</td>\n",
              "      <td>109</td>\n",
              "      <td>53</td>\n",
              "      <td>16.4</td>\n",
              "    </tr>\n",
              "    <tr>\n",
              "      <th>26</th>\n",
              "      <td>Nebraska</td>\n",
              "      <td>4.3</td>\n",
              "      <td>102</td>\n",
              "      <td>62</td>\n",
              "      <td>16.5</td>\n",
              "    </tr>\n",
              "    <tr>\n",
              "      <th>27</th>\n",
              "      <td>Nevada</td>\n",
              "      <td>12.2</td>\n",
              "      <td>252</td>\n",
              "      <td>81</td>\n",
              "      <td>46.0</td>\n",
              "    </tr>\n",
              "    <tr>\n",
              "      <th>28</th>\n",
              "      <td>New Hampshire</td>\n",
              "      <td>2.1</td>\n",
              "      <td>57</td>\n",
              "      <td>56</td>\n",
              "      <td>9.5</td>\n",
              "    </tr>\n",
              "    <tr>\n",
              "      <th>29</th>\n",
              "      <td>New Jersey</td>\n",
              "      <td>7.4</td>\n",
              "      <td>159</td>\n",
              "      <td>89</td>\n",
              "      <td>18.8</td>\n",
              "    </tr>\n",
              "    <tr>\n",
              "      <th>30</th>\n",
              "      <td>New Mexico</td>\n",
              "      <td>11.4</td>\n",
              "      <td>285</td>\n",
              "      <td>70</td>\n",
              "      <td>32.1</td>\n",
              "    </tr>\n",
              "    <tr>\n",
              "      <th>31</th>\n",
              "      <td>New York</td>\n",
              "      <td>11.1</td>\n",
              "      <td>254</td>\n",
              "      <td>86</td>\n",
              "      <td>26.1</td>\n",
              "    </tr>\n",
              "    <tr>\n",
              "      <th>32</th>\n",
              "      <td>North Carolina</td>\n",
              "      <td>13.0</td>\n",
              "      <td>337</td>\n",
              "      <td>45</td>\n",
              "      <td>16.1</td>\n",
              "    </tr>\n",
              "    <tr>\n",
              "      <th>33</th>\n",
              "      <td>North Dakota</td>\n",
              "      <td>0.8</td>\n",
              "      <td>45</td>\n",
              "      <td>44</td>\n",
              "      <td>7.3</td>\n",
              "    </tr>\n",
              "    <tr>\n",
              "      <th>34</th>\n",
              "      <td>Ohio</td>\n",
              "      <td>7.3</td>\n",
              "      <td>120</td>\n",
              "      <td>75</td>\n",
              "      <td>21.4</td>\n",
              "    </tr>\n",
              "    <tr>\n",
              "      <th>35</th>\n",
              "      <td>Oklahoma</td>\n",
              "      <td>6.6</td>\n",
              "      <td>151</td>\n",
              "      <td>68</td>\n",
              "      <td>20.0</td>\n",
              "    </tr>\n",
              "    <tr>\n",
              "      <th>36</th>\n",
              "      <td>Oregon</td>\n",
              "      <td>4.9</td>\n",
              "      <td>159</td>\n",
              "      <td>67</td>\n",
              "      <td>29.3</td>\n",
              "    </tr>\n",
              "    <tr>\n",
              "      <th>37</th>\n",
              "      <td>Pennsylvania</td>\n",
              "      <td>6.3</td>\n",
              "      <td>106</td>\n",
              "      <td>72</td>\n",
              "      <td>14.9</td>\n",
              "    </tr>\n",
              "    <tr>\n",
              "      <th>38</th>\n",
              "      <td>Rhode Island</td>\n",
              "      <td>3.4</td>\n",
              "      <td>174</td>\n",
              "      <td>87</td>\n",
              "      <td>8.3</td>\n",
              "    </tr>\n",
              "    <tr>\n",
              "      <th>39</th>\n",
              "      <td>South Carolina</td>\n",
              "      <td>14.4</td>\n",
              "      <td>279</td>\n",
              "      <td>48</td>\n",
              "      <td>22.5</td>\n",
              "    </tr>\n",
              "    <tr>\n",
              "      <th>40</th>\n",
              "      <td>South Dakota</td>\n",
              "      <td>3.8</td>\n",
              "      <td>86</td>\n",
              "      <td>45</td>\n",
              "      <td>12.8</td>\n",
              "    </tr>\n",
              "    <tr>\n",
              "      <th>41</th>\n",
              "      <td>Tennessee</td>\n",
              "      <td>13.2</td>\n",
              "      <td>188</td>\n",
              "      <td>59</td>\n",
              "      <td>26.9</td>\n",
              "    </tr>\n",
              "    <tr>\n",
              "      <th>42</th>\n",
              "      <td>Texas</td>\n",
              "      <td>12.7</td>\n",
              "      <td>201</td>\n",
              "      <td>80</td>\n",
              "      <td>25.5</td>\n",
              "    </tr>\n",
              "    <tr>\n",
              "      <th>43</th>\n",
              "      <td>Utah</td>\n",
              "      <td>3.2</td>\n",
              "      <td>120</td>\n",
              "      <td>80</td>\n",
              "      <td>22.9</td>\n",
              "    </tr>\n",
              "    <tr>\n",
              "      <th>44</th>\n",
              "      <td>Vermont</td>\n",
              "      <td>2.2</td>\n",
              "      <td>48</td>\n",
              "      <td>32</td>\n",
              "      <td>11.2</td>\n",
              "    </tr>\n",
              "    <tr>\n",
              "      <th>45</th>\n",
              "      <td>Virginia</td>\n",
              "      <td>8.5</td>\n",
              "      <td>156</td>\n",
              "      <td>63</td>\n",
              "      <td>20.7</td>\n",
              "    </tr>\n",
              "    <tr>\n",
              "      <th>46</th>\n",
              "      <td>Washington</td>\n",
              "      <td>4.0</td>\n",
              "      <td>145</td>\n",
              "      <td>73</td>\n",
              "      <td>26.2</td>\n",
              "    </tr>\n",
              "    <tr>\n",
              "      <th>47</th>\n",
              "      <td>West Virginia</td>\n",
              "      <td>5.7</td>\n",
              "      <td>81</td>\n",
              "      <td>39</td>\n",
              "      <td>9.3</td>\n",
              "    </tr>\n",
              "    <tr>\n",
              "      <th>48</th>\n",
              "      <td>Wisconsin</td>\n",
              "      <td>2.6</td>\n",
              "      <td>53</td>\n",
              "      <td>66</td>\n",
              "      <td>10.8</td>\n",
              "    </tr>\n",
              "    <tr>\n",
              "      <th>49</th>\n",
              "      <td>Wyoming</td>\n",
              "      <td>6.8</td>\n",
              "      <td>161</td>\n",
              "      <td>60</td>\n",
              "      <td>15.6</td>\n",
              "    </tr>\n",
              "  </tbody>\n",
              "</table>\n",
              "</div>"
            ],
            "text/plain": [
              "        Unnamed: 0  Murder  Assault  UrbanPop  Rape\n",
              "0          Alabama    13.2      236        58  21.2\n",
              "1           Alaska    10.0      263        48  44.5\n",
              "2          Arizona     8.1      294        80  31.0\n",
              "3         Arkansas     8.8      190        50  19.5\n",
              "4       California     9.0      276        91  40.6\n",
              "5         Colorado     7.9      204        78  38.7\n",
              "6      Connecticut     3.3      110        77  11.1\n",
              "7         Delaware     5.9      238        72  15.8\n",
              "8          Florida    15.4      335        80  31.9\n",
              "9          Georgia    17.4      211        60  25.8\n",
              "10          Hawaii     5.3       46        83  20.2\n",
              "11           Idaho     2.6      120        54  14.2\n",
              "12        Illinois    10.4      249        83  24.0\n",
              "13         Indiana     7.2      113        65  21.0\n",
              "14            Iowa     2.2       56        57  11.3\n",
              "15          Kansas     6.0      115        66  18.0\n",
              "16        Kentucky     9.7      109        52  16.3\n",
              "17       Louisiana    15.4      249        66  22.2\n",
              "18           Maine     2.1       83        51   7.8\n",
              "19        Maryland    11.3      300        67  27.8\n",
              "20   Massachusetts     4.4      149        85  16.3\n",
              "21        Michigan    12.1      255        74  35.1\n",
              "22       Minnesota     2.7       72        66  14.9\n",
              "23     Mississippi    16.1      259        44  17.1\n",
              "24        Missouri     9.0      178        70  28.2\n",
              "25         Montana     6.0      109        53  16.4\n",
              "26        Nebraska     4.3      102        62  16.5\n",
              "27          Nevada    12.2      252        81  46.0\n",
              "28   New Hampshire     2.1       57        56   9.5\n",
              "29      New Jersey     7.4      159        89  18.8\n",
              "30      New Mexico    11.4      285        70  32.1\n",
              "31        New York    11.1      254        86  26.1\n",
              "32  North Carolina    13.0      337        45  16.1\n",
              "33    North Dakota     0.8       45        44   7.3\n",
              "34            Ohio     7.3      120        75  21.4\n",
              "35        Oklahoma     6.6      151        68  20.0\n",
              "36          Oregon     4.9      159        67  29.3\n",
              "37    Pennsylvania     6.3      106        72  14.9\n",
              "38    Rhode Island     3.4      174        87   8.3\n",
              "39  South Carolina    14.4      279        48  22.5\n",
              "40    South Dakota     3.8       86        45  12.8\n",
              "41       Tennessee    13.2      188        59  26.9\n",
              "42           Texas    12.7      201        80  25.5\n",
              "43            Utah     3.2      120        80  22.9\n",
              "44         Vermont     2.2       48        32  11.2\n",
              "45        Virginia     8.5      156        63  20.7\n",
              "46      Washington     4.0      145        73  26.2\n",
              "47   West Virginia     5.7       81        39   9.3\n",
              "48       Wisconsin     2.6       53        66  10.8\n",
              "49         Wyoming     6.8      161        60  15.6"
            ]
          },
          "metadata": {
            "tags": []
          },
          "execution_count": 34
        }
      ]
    },
    {
      "cell_type": "markdown",
      "metadata": {
        "id": "P95cdZacpafT",
        "colab_type": "text"
      },
      "source": [
        "#**Storing Data In CSV**"
      ]
    },
    {
      "cell_type": "code",
      "metadata": {
        "id": "SLoxpHOmpOli",
        "colab_type": "code",
        "outputId": "cf9b1bc9-d426-4239-e106-db94e0d012dd",
        "colab": {
          "base_uri": "https://localhost:8080/",
          "height": 1000
        }
      },
      "source": [
        "table.to_csv(\"/content/newfilex.csv\")\n",
        "table"
      ],
      "execution_count": 0,
      "outputs": [
        {
          "output_type": "execute_result",
          "data": {
            "text/html": [
              "<div>\n",
              "<style scoped>\n",
              "    .dataframe tbody tr th:only-of-type {\n",
              "        vertical-align: middle;\n",
              "    }\n",
              "\n",
              "    .dataframe tbody tr th {\n",
              "        vertical-align: top;\n",
              "    }\n",
              "\n",
              "    .dataframe thead th {\n",
              "        text-align: right;\n",
              "    }\n",
              "</style>\n",
              "<table border=\"1\" class=\"dataframe\">\n",
              "  <thead>\n",
              "    <tr style=\"text-align: right;\">\n",
              "      <th></th>\n",
              "      <th>Unnamed: 0</th>\n",
              "      <th>Murder</th>\n",
              "      <th>Assault</th>\n",
              "      <th>UrbanPop</th>\n",
              "      <th>Rape</th>\n",
              "    </tr>\n",
              "  </thead>\n",
              "  <tbody>\n",
              "    <tr>\n",
              "      <th>0</th>\n",
              "      <td>Alabama</td>\n",
              "      <td>13.2</td>\n",
              "      <td>236</td>\n",
              "      <td>58</td>\n",
              "      <td>21.2</td>\n",
              "    </tr>\n",
              "    <tr>\n",
              "      <th>1</th>\n",
              "      <td>Alaska</td>\n",
              "      <td>10.0</td>\n",
              "      <td>263</td>\n",
              "      <td>48</td>\n",
              "      <td>44.5</td>\n",
              "    </tr>\n",
              "    <tr>\n",
              "      <th>2</th>\n",
              "      <td>Arizona</td>\n",
              "      <td>8.1</td>\n",
              "      <td>294</td>\n",
              "      <td>80</td>\n",
              "      <td>31.0</td>\n",
              "    </tr>\n",
              "    <tr>\n",
              "      <th>3</th>\n",
              "      <td>Arkansas</td>\n",
              "      <td>8.8</td>\n",
              "      <td>190</td>\n",
              "      <td>50</td>\n",
              "      <td>19.5</td>\n",
              "    </tr>\n",
              "    <tr>\n",
              "      <th>4</th>\n",
              "      <td>California</td>\n",
              "      <td>9.0</td>\n",
              "      <td>276</td>\n",
              "      <td>91</td>\n",
              "      <td>40.6</td>\n",
              "    </tr>\n",
              "    <tr>\n",
              "      <th>5</th>\n",
              "      <td>Colorado</td>\n",
              "      <td>7.9</td>\n",
              "      <td>204</td>\n",
              "      <td>78</td>\n",
              "      <td>38.7</td>\n",
              "    </tr>\n",
              "    <tr>\n",
              "      <th>6</th>\n",
              "      <td>Connecticut</td>\n",
              "      <td>3.3</td>\n",
              "      <td>110</td>\n",
              "      <td>77</td>\n",
              "      <td>11.1</td>\n",
              "    </tr>\n",
              "    <tr>\n",
              "      <th>7</th>\n",
              "      <td>Delaware</td>\n",
              "      <td>5.9</td>\n",
              "      <td>238</td>\n",
              "      <td>72</td>\n",
              "      <td>15.8</td>\n",
              "    </tr>\n",
              "    <tr>\n",
              "      <th>8</th>\n",
              "      <td>Florida</td>\n",
              "      <td>15.4</td>\n",
              "      <td>335</td>\n",
              "      <td>80</td>\n",
              "      <td>31.9</td>\n",
              "    </tr>\n",
              "    <tr>\n",
              "      <th>9</th>\n",
              "      <td>Georgia</td>\n",
              "      <td>17.4</td>\n",
              "      <td>211</td>\n",
              "      <td>60</td>\n",
              "      <td>25.8</td>\n",
              "    </tr>\n",
              "    <tr>\n",
              "      <th>10</th>\n",
              "      <td>Hawaii</td>\n",
              "      <td>5.3</td>\n",
              "      <td>46</td>\n",
              "      <td>83</td>\n",
              "      <td>20.2</td>\n",
              "    </tr>\n",
              "    <tr>\n",
              "      <th>11</th>\n",
              "      <td>Idaho</td>\n",
              "      <td>2.6</td>\n",
              "      <td>120</td>\n",
              "      <td>54</td>\n",
              "      <td>14.2</td>\n",
              "    </tr>\n",
              "    <tr>\n",
              "      <th>12</th>\n",
              "      <td>Illinois</td>\n",
              "      <td>10.4</td>\n",
              "      <td>249</td>\n",
              "      <td>83</td>\n",
              "      <td>24.0</td>\n",
              "    </tr>\n",
              "    <tr>\n",
              "      <th>13</th>\n",
              "      <td>Indiana</td>\n",
              "      <td>7.2</td>\n",
              "      <td>113</td>\n",
              "      <td>65</td>\n",
              "      <td>21.0</td>\n",
              "    </tr>\n",
              "    <tr>\n",
              "      <th>14</th>\n",
              "      <td>Iowa</td>\n",
              "      <td>2.2</td>\n",
              "      <td>56</td>\n",
              "      <td>57</td>\n",
              "      <td>11.3</td>\n",
              "    </tr>\n",
              "    <tr>\n",
              "      <th>15</th>\n",
              "      <td>Kansas</td>\n",
              "      <td>6.0</td>\n",
              "      <td>115</td>\n",
              "      <td>66</td>\n",
              "      <td>18.0</td>\n",
              "    </tr>\n",
              "    <tr>\n",
              "      <th>16</th>\n",
              "      <td>Kentucky</td>\n",
              "      <td>9.7</td>\n",
              "      <td>109</td>\n",
              "      <td>52</td>\n",
              "      <td>16.3</td>\n",
              "    </tr>\n",
              "    <tr>\n",
              "      <th>17</th>\n",
              "      <td>Louisiana</td>\n",
              "      <td>15.4</td>\n",
              "      <td>249</td>\n",
              "      <td>66</td>\n",
              "      <td>22.2</td>\n",
              "    </tr>\n",
              "    <tr>\n",
              "      <th>18</th>\n",
              "      <td>Maine</td>\n",
              "      <td>2.1</td>\n",
              "      <td>83</td>\n",
              "      <td>51</td>\n",
              "      <td>7.8</td>\n",
              "    </tr>\n",
              "    <tr>\n",
              "      <th>19</th>\n",
              "      <td>Maryland</td>\n",
              "      <td>11.3</td>\n",
              "      <td>300</td>\n",
              "      <td>67</td>\n",
              "      <td>27.8</td>\n",
              "    </tr>\n",
              "    <tr>\n",
              "      <th>20</th>\n",
              "      <td>Massachusetts</td>\n",
              "      <td>4.4</td>\n",
              "      <td>149</td>\n",
              "      <td>85</td>\n",
              "      <td>16.3</td>\n",
              "    </tr>\n",
              "    <tr>\n",
              "      <th>21</th>\n",
              "      <td>Michigan</td>\n",
              "      <td>12.1</td>\n",
              "      <td>255</td>\n",
              "      <td>74</td>\n",
              "      <td>35.1</td>\n",
              "    </tr>\n",
              "    <tr>\n",
              "      <th>22</th>\n",
              "      <td>Minnesota</td>\n",
              "      <td>2.7</td>\n",
              "      <td>72</td>\n",
              "      <td>66</td>\n",
              "      <td>14.9</td>\n",
              "    </tr>\n",
              "    <tr>\n",
              "      <th>23</th>\n",
              "      <td>Mississippi</td>\n",
              "      <td>16.1</td>\n",
              "      <td>259</td>\n",
              "      <td>44</td>\n",
              "      <td>17.1</td>\n",
              "    </tr>\n",
              "    <tr>\n",
              "      <th>24</th>\n",
              "      <td>Missouri</td>\n",
              "      <td>9.0</td>\n",
              "      <td>178</td>\n",
              "      <td>70</td>\n",
              "      <td>28.2</td>\n",
              "    </tr>\n",
              "    <tr>\n",
              "      <th>25</th>\n",
              "      <td>Montana</td>\n",
              "      <td>6.0</td>\n",
              "      <td>109</td>\n",
              "      <td>53</td>\n",
              "      <td>16.4</td>\n",
              "    </tr>\n",
              "    <tr>\n",
              "      <th>26</th>\n",
              "      <td>Nebraska</td>\n",
              "      <td>4.3</td>\n",
              "      <td>102</td>\n",
              "      <td>62</td>\n",
              "      <td>16.5</td>\n",
              "    </tr>\n",
              "    <tr>\n",
              "      <th>27</th>\n",
              "      <td>Nevada</td>\n",
              "      <td>12.2</td>\n",
              "      <td>252</td>\n",
              "      <td>81</td>\n",
              "      <td>46.0</td>\n",
              "    </tr>\n",
              "    <tr>\n",
              "      <th>28</th>\n",
              "      <td>New Hampshire</td>\n",
              "      <td>2.1</td>\n",
              "      <td>57</td>\n",
              "      <td>56</td>\n",
              "      <td>9.5</td>\n",
              "    </tr>\n",
              "    <tr>\n",
              "      <th>29</th>\n",
              "      <td>New Jersey</td>\n",
              "      <td>7.4</td>\n",
              "      <td>159</td>\n",
              "      <td>89</td>\n",
              "      <td>18.8</td>\n",
              "    </tr>\n",
              "    <tr>\n",
              "      <th>30</th>\n",
              "      <td>New Mexico</td>\n",
              "      <td>11.4</td>\n",
              "      <td>285</td>\n",
              "      <td>70</td>\n",
              "      <td>32.1</td>\n",
              "    </tr>\n",
              "    <tr>\n",
              "      <th>31</th>\n",
              "      <td>New York</td>\n",
              "      <td>11.1</td>\n",
              "      <td>254</td>\n",
              "      <td>86</td>\n",
              "      <td>26.1</td>\n",
              "    </tr>\n",
              "    <tr>\n",
              "      <th>32</th>\n",
              "      <td>North Carolina</td>\n",
              "      <td>13.0</td>\n",
              "      <td>337</td>\n",
              "      <td>45</td>\n",
              "      <td>16.1</td>\n",
              "    </tr>\n",
              "    <tr>\n",
              "      <th>33</th>\n",
              "      <td>North Dakota</td>\n",
              "      <td>0.8</td>\n",
              "      <td>45</td>\n",
              "      <td>44</td>\n",
              "      <td>7.3</td>\n",
              "    </tr>\n",
              "    <tr>\n",
              "      <th>34</th>\n",
              "      <td>Ohio</td>\n",
              "      <td>7.3</td>\n",
              "      <td>120</td>\n",
              "      <td>75</td>\n",
              "      <td>21.4</td>\n",
              "    </tr>\n",
              "    <tr>\n",
              "      <th>35</th>\n",
              "      <td>Oklahoma</td>\n",
              "      <td>6.6</td>\n",
              "      <td>151</td>\n",
              "      <td>68</td>\n",
              "      <td>20.0</td>\n",
              "    </tr>\n",
              "    <tr>\n",
              "      <th>36</th>\n",
              "      <td>Oregon</td>\n",
              "      <td>4.9</td>\n",
              "      <td>159</td>\n",
              "      <td>67</td>\n",
              "      <td>29.3</td>\n",
              "    </tr>\n",
              "    <tr>\n",
              "      <th>37</th>\n",
              "      <td>Pennsylvania</td>\n",
              "      <td>6.3</td>\n",
              "      <td>106</td>\n",
              "      <td>72</td>\n",
              "      <td>14.9</td>\n",
              "    </tr>\n",
              "    <tr>\n",
              "      <th>38</th>\n",
              "      <td>Rhode Island</td>\n",
              "      <td>3.4</td>\n",
              "      <td>174</td>\n",
              "      <td>87</td>\n",
              "      <td>8.3</td>\n",
              "    </tr>\n",
              "    <tr>\n",
              "      <th>39</th>\n",
              "      <td>South Carolina</td>\n",
              "      <td>14.4</td>\n",
              "      <td>279</td>\n",
              "      <td>48</td>\n",
              "      <td>22.5</td>\n",
              "    </tr>\n",
              "    <tr>\n",
              "      <th>40</th>\n",
              "      <td>South Dakota</td>\n",
              "      <td>3.8</td>\n",
              "      <td>86</td>\n",
              "      <td>45</td>\n",
              "      <td>12.8</td>\n",
              "    </tr>\n",
              "    <tr>\n",
              "      <th>41</th>\n",
              "      <td>Tennessee</td>\n",
              "      <td>13.2</td>\n",
              "      <td>188</td>\n",
              "      <td>59</td>\n",
              "      <td>26.9</td>\n",
              "    </tr>\n",
              "    <tr>\n",
              "      <th>42</th>\n",
              "      <td>Texas</td>\n",
              "      <td>12.7</td>\n",
              "      <td>201</td>\n",
              "      <td>80</td>\n",
              "      <td>25.5</td>\n",
              "    </tr>\n",
              "    <tr>\n",
              "      <th>43</th>\n",
              "      <td>Utah</td>\n",
              "      <td>3.2</td>\n",
              "      <td>120</td>\n",
              "      <td>80</td>\n",
              "      <td>22.9</td>\n",
              "    </tr>\n",
              "    <tr>\n",
              "      <th>44</th>\n",
              "      <td>Vermont</td>\n",
              "      <td>2.2</td>\n",
              "      <td>48</td>\n",
              "      <td>32</td>\n",
              "      <td>11.2</td>\n",
              "    </tr>\n",
              "    <tr>\n",
              "      <th>45</th>\n",
              "      <td>Virginia</td>\n",
              "      <td>8.5</td>\n",
              "      <td>156</td>\n",
              "      <td>63</td>\n",
              "      <td>20.7</td>\n",
              "    </tr>\n",
              "    <tr>\n",
              "      <th>46</th>\n",
              "      <td>Washington</td>\n",
              "      <td>4.0</td>\n",
              "      <td>145</td>\n",
              "      <td>73</td>\n",
              "      <td>26.2</td>\n",
              "    </tr>\n",
              "    <tr>\n",
              "      <th>47</th>\n",
              "      <td>West Virginia</td>\n",
              "      <td>5.7</td>\n",
              "      <td>81</td>\n",
              "      <td>39</td>\n",
              "      <td>9.3</td>\n",
              "    </tr>\n",
              "    <tr>\n",
              "      <th>48</th>\n",
              "      <td>Wisconsin</td>\n",
              "      <td>2.6</td>\n",
              "      <td>53</td>\n",
              "      <td>66</td>\n",
              "      <td>10.8</td>\n",
              "    </tr>\n",
              "    <tr>\n",
              "      <th>49</th>\n",
              "      <td>Wyoming</td>\n",
              "      <td>6.8</td>\n",
              "      <td>161</td>\n",
              "      <td>60</td>\n",
              "      <td>15.6</td>\n",
              "    </tr>\n",
              "  </tbody>\n",
              "</table>\n",
              "</div>"
            ],
            "text/plain": [
              "        Unnamed: 0  Murder  Assault  UrbanPop  Rape\n",
              "0          Alabama    13.2      236        58  21.2\n",
              "1           Alaska    10.0      263        48  44.5\n",
              "2          Arizona     8.1      294        80  31.0\n",
              "3         Arkansas     8.8      190        50  19.5\n",
              "4       California     9.0      276        91  40.6\n",
              "5         Colorado     7.9      204        78  38.7\n",
              "6      Connecticut     3.3      110        77  11.1\n",
              "7         Delaware     5.9      238        72  15.8\n",
              "8          Florida    15.4      335        80  31.9\n",
              "9          Georgia    17.4      211        60  25.8\n",
              "10          Hawaii     5.3       46        83  20.2\n",
              "11           Idaho     2.6      120        54  14.2\n",
              "12        Illinois    10.4      249        83  24.0\n",
              "13         Indiana     7.2      113        65  21.0\n",
              "14            Iowa     2.2       56        57  11.3\n",
              "15          Kansas     6.0      115        66  18.0\n",
              "16        Kentucky     9.7      109        52  16.3\n",
              "17       Louisiana    15.4      249        66  22.2\n",
              "18           Maine     2.1       83        51   7.8\n",
              "19        Maryland    11.3      300        67  27.8\n",
              "20   Massachusetts     4.4      149        85  16.3\n",
              "21        Michigan    12.1      255        74  35.1\n",
              "22       Minnesota     2.7       72        66  14.9\n",
              "23     Mississippi    16.1      259        44  17.1\n",
              "24        Missouri     9.0      178        70  28.2\n",
              "25         Montana     6.0      109        53  16.4\n",
              "26        Nebraska     4.3      102        62  16.5\n",
              "27          Nevada    12.2      252        81  46.0\n",
              "28   New Hampshire     2.1       57        56   9.5\n",
              "29      New Jersey     7.4      159        89  18.8\n",
              "30      New Mexico    11.4      285        70  32.1\n",
              "31        New York    11.1      254        86  26.1\n",
              "32  North Carolina    13.0      337        45  16.1\n",
              "33    North Dakota     0.8       45        44   7.3\n",
              "34            Ohio     7.3      120        75  21.4\n",
              "35        Oklahoma     6.6      151        68  20.0\n",
              "36          Oregon     4.9      159        67  29.3\n",
              "37    Pennsylvania     6.3      106        72  14.9\n",
              "38    Rhode Island     3.4      174        87   8.3\n",
              "39  South Carolina    14.4      279        48  22.5\n",
              "40    South Dakota     3.8       86        45  12.8\n",
              "41       Tennessee    13.2      188        59  26.9\n",
              "42           Texas    12.7      201        80  25.5\n",
              "43            Utah     3.2      120        80  22.9\n",
              "44         Vermont     2.2       48        32  11.2\n",
              "45        Virginia     8.5      156        63  20.7\n",
              "46      Washington     4.0      145        73  26.2\n",
              "47   West Virginia     5.7       81        39   9.3\n",
              "48       Wisconsin     2.6       53        66  10.8\n",
              "49         Wyoming     6.8      161        60  15.6"
            ]
          },
          "metadata": {
            "tags": []
          },
          "execution_count": 36
        }
      ]
    },
    {
      "cell_type": "markdown",
      "metadata": {
        "id": "VphF17Ogpzhr",
        "colab_type": "text"
      },
      "source": [
        "# **Loading Excelsheet Data Into Pandas**\n",
        "\n",
        "\n"
      ]
    },
    {
      "cell_type": "code",
      "metadata": {
        "id": "8bmmBijHp_FV",
        "colab_type": "code",
        "outputId": "d9e45734-833d-4129-a1b4-9f43e7f39abd",
        "colab": {
          "base_uri": "https://localhost:8080/",
          "height": 1000
        }
      },
      "source": [
        "sheet = pd.read_excel(\"/content/USArrests.xlsx\")\n",
        "sheet"
      ],
      "execution_count": 0,
      "outputs": [
        {
          "output_type": "execute_result",
          "data": {
            "text/html": [
              "<div>\n",
              "<style scoped>\n",
              "    .dataframe tbody tr th:only-of-type {\n",
              "        vertical-align: middle;\n",
              "    }\n",
              "\n",
              "    .dataframe tbody tr th {\n",
              "        vertical-align: top;\n",
              "    }\n",
              "\n",
              "    .dataframe thead th {\n",
              "        text-align: right;\n",
              "    }\n",
              "</style>\n",
              "<table border=\"1\" class=\"dataframe\">\n",
              "  <thead>\n",
              "    <tr style=\"text-align: right;\">\n",
              "      <th></th>\n",
              "      <th>Unnamed: 0</th>\n",
              "      <th>Murder</th>\n",
              "      <th>Assault</th>\n",
              "      <th>UrbanPop</th>\n",
              "      <th>Rape</th>\n",
              "    </tr>\n",
              "  </thead>\n",
              "  <tbody>\n",
              "    <tr>\n",
              "      <th>0</th>\n",
              "      <td>Alabama</td>\n",
              "      <td>13.2</td>\n",
              "      <td>236</td>\n",
              "      <td>58</td>\n",
              "      <td>21.2</td>\n",
              "    </tr>\n",
              "    <tr>\n",
              "      <th>1</th>\n",
              "      <td>Alaska</td>\n",
              "      <td>10.0</td>\n",
              "      <td>263</td>\n",
              "      <td>48</td>\n",
              "      <td>44.5</td>\n",
              "    </tr>\n",
              "    <tr>\n",
              "      <th>2</th>\n",
              "      <td>Arizona</td>\n",
              "      <td>8.1</td>\n",
              "      <td>294</td>\n",
              "      <td>80</td>\n",
              "      <td>31.0</td>\n",
              "    </tr>\n",
              "    <tr>\n",
              "      <th>3</th>\n",
              "      <td>Arkansas</td>\n",
              "      <td>8.8</td>\n",
              "      <td>190</td>\n",
              "      <td>50</td>\n",
              "      <td>19.5</td>\n",
              "    </tr>\n",
              "    <tr>\n",
              "      <th>4</th>\n",
              "      <td>California</td>\n",
              "      <td>9.0</td>\n",
              "      <td>276</td>\n",
              "      <td>91</td>\n",
              "      <td>40.6</td>\n",
              "    </tr>\n",
              "    <tr>\n",
              "      <th>5</th>\n",
              "      <td>Colorado</td>\n",
              "      <td>7.9</td>\n",
              "      <td>204</td>\n",
              "      <td>78</td>\n",
              "      <td>38.7</td>\n",
              "    </tr>\n",
              "    <tr>\n",
              "      <th>6</th>\n",
              "      <td>Connecticut</td>\n",
              "      <td>3.3</td>\n",
              "      <td>110</td>\n",
              "      <td>77</td>\n",
              "      <td>11.1</td>\n",
              "    </tr>\n",
              "    <tr>\n",
              "      <th>7</th>\n",
              "      <td>Delaware</td>\n",
              "      <td>5.9</td>\n",
              "      <td>238</td>\n",
              "      <td>72</td>\n",
              "      <td>15.8</td>\n",
              "    </tr>\n",
              "    <tr>\n",
              "      <th>8</th>\n",
              "      <td>Florida</td>\n",
              "      <td>15.4</td>\n",
              "      <td>335</td>\n",
              "      <td>80</td>\n",
              "      <td>31.9</td>\n",
              "    </tr>\n",
              "    <tr>\n",
              "      <th>9</th>\n",
              "      <td>Georgia</td>\n",
              "      <td>17.4</td>\n",
              "      <td>211</td>\n",
              "      <td>60</td>\n",
              "      <td>25.8</td>\n",
              "    </tr>\n",
              "    <tr>\n",
              "      <th>10</th>\n",
              "      <td>Hawaii</td>\n",
              "      <td>5.3</td>\n",
              "      <td>46</td>\n",
              "      <td>83</td>\n",
              "      <td>20.2</td>\n",
              "    </tr>\n",
              "    <tr>\n",
              "      <th>11</th>\n",
              "      <td>Idaho</td>\n",
              "      <td>2.6</td>\n",
              "      <td>120</td>\n",
              "      <td>54</td>\n",
              "      <td>14.2</td>\n",
              "    </tr>\n",
              "    <tr>\n",
              "      <th>12</th>\n",
              "      <td>Illinois</td>\n",
              "      <td>10.4</td>\n",
              "      <td>249</td>\n",
              "      <td>83</td>\n",
              "      <td>24.0</td>\n",
              "    </tr>\n",
              "    <tr>\n",
              "      <th>13</th>\n",
              "      <td>Indiana</td>\n",
              "      <td>7.2</td>\n",
              "      <td>113</td>\n",
              "      <td>65</td>\n",
              "      <td>21.0</td>\n",
              "    </tr>\n",
              "    <tr>\n",
              "      <th>14</th>\n",
              "      <td>Iowa</td>\n",
              "      <td>2.2</td>\n",
              "      <td>56</td>\n",
              "      <td>57</td>\n",
              "      <td>11.3</td>\n",
              "    </tr>\n",
              "    <tr>\n",
              "      <th>15</th>\n",
              "      <td>Kansas</td>\n",
              "      <td>6.0</td>\n",
              "      <td>115</td>\n",
              "      <td>66</td>\n",
              "      <td>18.0</td>\n",
              "    </tr>\n",
              "    <tr>\n",
              "      <th>16</th>\n",
              "      <td>Kentucky</td>\n",
              "      <td>9.7</td>\n",
              "      <td>109</td>\n",
              "      <td>52</td>\n",
              "      <td>16.3</td>\n",
              "    </tr>\n",
              "    <tr>\n",
              "      <th>17</th>\n",
              "      <td>Louisiana</td>\n",
              "      <td>15.4</td>\n",
              "      <td>249</td>\n",
              "      <td>66</td>\n",
              "      <td>22.2</td>\n",
              "    </tr>\n",
              "    <tr>\n",
              "      <th>18</th>\n",
              "      <td>Maine</td>\n",
              "      <td>2.1</td>\n",
              "      <td>83</td>\n",
              "      <td>51</td>\n",
              "      <td>7.8</td>\n",
              "    </tr>\n",
              "    <tr>\n",
              "      <th>19</th>\n",
              "      <td>Maryland</td>\n",
              "      <td>11.3</td>\n",
              "      <td>300</td>\n",
              "      <td>67</td>\n",
              "      <td>27.8</td>\n",
              "    </tr>\n",
              "    <tr>\n",
              "      <th>20</th>\n",
              "      <td>Massachusetts</td>\n",
              "      <td>4.4</td>\n",
              "      <td>149</td>\n",
              "      <td>85</td>\n",
              "      <td>16.3</td>\n",
              "    </tr>\n",
              "    <tr>\n",
              "      <th>21</th>\n",
              "      <td>Michigan</td>\n",
              "      <td>12.1</td>\n",
              "      <td>255</td>\n",
              "      <td>74</td>\n",
              "      <td>35.1</td>\n",
              "    </tr>\n",
              "    <tr>\n",
              "      <th>22</th>\n",
              "      <td>Minnesota</td>\n",
              "      <td>2.7</td>\n",
              "      <td>72</td>\n",
              "      <td>66</td>\n",
              "      <td>14.9</td>\n",
              "    </tr>\n",
              "    <tr>\n",
              "      <th>23</th>\n",
              "      <td>Mississippi</td>\n",
              "      <td>16.1</td>\n",
              "      <td>259</td>\n",
              "      <td>44</td>\n",
              "      <td>17.1</td>\n",
              "    </tr>\n",
              "    <tr>\n",
              "      <th>24</th>\n",
              "      <td>Missouri</td>\n",
              "      <td>9.0</td>\n",
              "      <td>178</td>\n",
              "      <td>70</td>\n",
              "      <td>28.2</td>\n",
              "    </tr>\n",
              "    <tr>\n",
              "      <th>25</th>\n",
              "      <td>Montana</td>\n",
              "      <td>6.0</td>\n",
              "      <td>109</td>\n",
              "      <td>53</td>\n",
              "      <td>16.4</td>\n",
              "    </tr>\n",
              "    <tr>\n",
              "      <th>26</th>\n",
              "      <td>Nebraska</td>\n",
              "      <td>4.3</td>\n",
              "      <td>102</td>\n",
              "      <td>62</td>\n",
              "      <td>16.5</td>\n",
              "    </tr>\n",
              "    <tr>\n",
              "      <th>27</th>\n",
              "      <td>Nevada</td>\n",
              "      <td>12.2</td>\n",
              "      <td>252</td>\n",
              "      <td>81</td>\n",
              "      <td>46.0</td>\n",
              "    </tr>\n",
              "    <tr>\n",
              "      <th>28</th>\n",
              "      <td>New Hampshire</td>\n",
              "      <td>2.1</td>\n",
              "      <td>57</td>\n",
              "      <td>56</td>\n",
              "      <td>9.5</td>\n",
              "    </tr>\n",
              "    <tr>\n",
              "      <th>29</th>\n",
              "      <td>New Jersey</td>\n",
              "      <td>7.4</td>\n",
              "      <td>159</td>\n",
              "      <td>89</td>\n",
              "      <td>18.8</td>\n",
              "    </tr>\n",
              "    <tr>\n",
              "      <th>30</th>\n",
              "      <td>New Mexico</td>\n",
              "      <td>11.4</td>\n",
              "      <td>285</td>\n",
              "      <td>70</td>\n",
              "      <td>32.1</td>\n",
              "    </tr>\n",
              "    <tr>\n",
              "      <th>31</th>\n",
              "      <td>New York</td>\n",
              "      <td>11.1</td>\n",
              "      <td>254</td>\n",
              "      <td>86</td>\n",
              "      <td>26.1</td>\n",
              "    </tr>\n",
              "    <tr>\n",
              "      <th>32</th>\n",
              "      <td>North Carolina</td>\n",
              "      <td>13.0</td>\n",
              "      <td>337</td>\n",
              "      <td>45</td>\n",
              "      <td>16.1</td>\n",
              "    </tr>\n",
              "    <tr>\n",
              "      <th>33</th>\n",
              "      <td>North Dakota</td>\n",
              "      <td>0.8</td>\n",
              "      <td>45</td>\n",
              "      <td>44</td>\n",
              "      <td>7.3</td>\n",
              "    </tr>\n",
              "    <tr>\n",
              "      <th>34</th>\n",
              "      <td>Ohio</td>\n",
              "      <td>7.3</td>\n",
              "      <td>120</td>\n",
              "      <td>75</td>\n",
              "      <td>21.4</td>\n",
              "    </tr>\n",
              "    <tr>\n",
              "      <th>35</th>\n",
              "      <td>Oklahoma</td>\n",
              "      <td>6.6</td>\n",
              "      <td>151</td>\n",
              "      <td>68</td>\n",
              "      <td>20.0</td>\n",
              "    </tr>\n",
              "    <tr>\n",
              "      <th>36</th>\n",
              "      <td>Oregon</td>\n",
              "      <td>4.9</td>\n",
              "      <td>159</td>\n",
              "      <td>67</td>\n",
              "      <td>29.3</td>\n",
              "    </tr>\n",
              "    <tr>\n",
              "      <th>37</th>\n",
              "      <td>Pennsylvania</td>\n",
              "      <td>6.3</td>\n",
              "      <td>106</td>\n",
              "      <td>72</td>\n",
              "      <td>14.9</td>\n",
              "    </tr>\n",
              "    <tr>\n",
              "      <th>38</th>\n",
              "      <td>Rhode Island</td>\n",
              "      <td>3.4</td>\n",
              "      <td>174</td>\n",
              "      <td>87</td>\n",
              "      <td>8.3</td>\n",
              "    </tr>\n",
              "    <tr>\n",
              "      <th>39</th>\n",
              "      <td>South Carolina</td>\n",
              "      <td>14.4</td>\n",
              "      <td>279</td>\n",
              "      <td>48</td>\n",
              "      <td>22.5</td>\n",
              "    </tr>\n",
              "    <tr>\n",
              "      <th>40</th>\n",
              "      <td>South Dakota</td>\n",
              "      <td>3.8</td>\n",
              "      <td>86</td>\n",
              "      <td>45</td>\n",
              "      <td>12.8</td>\n",
              "    </tr>\n",
              "    <tr>\n",
              "      <th>41</th>\n",
              "      <td>Tennessee</td>\n",
              "      <td>13.2</td>\n",
              "      <td>188</td>\n",
              "      <td>59</td>\n",
              "      <td>26.9</td>\n",
              "    </tr>\n",
              "    <tr>\n",
              "      <th>42</th>\n",
              "      <td>Texas</td>\n",
              "      <td>12.7</td>\n",
              "      <td>201</td>\n",
              "      <td>80</td>\n",
              "      <td>25.5</td>\n",
              "    </tr>\n",
              "    <tr>\n",
              "      <th>43</th>\n",
              "      <td>Utah</td>\n",
              "      <td>3.2</td>\n",
              "      <td>120</td>\n",
              "      <td>80</td>\n",
              "      <td>22.9</td>\n",
              "    </tr>\n",
              "    <tr>\n",
              "      <th>44</th>\n",
              "      <td>Vermont</td>\n",
              "      <td>2.2</td>\n",
              "      <td>48</td>\n",
              "      <td>32</td>\n",
              "      <td>11.2</td>\n",
              "    </tr>\n",
              "    <tr>\n",
              "      <th>45</th>\n",
              "      <td>Virginia</td>\n",
              "      <td>8.5</td>\n",
              "      <td>156</td>\n",
              "      <td>63</td>\n",
              "      <td>20.7</td>\n",
              "    </tr>\n",
              "    <tr>\n",
              "      <th>46</th>\n",
              "      <td>Washington</td>\n",
              "      <td>4.0</td>\n",
              "      <td>145</td>\n",
              "      <td>73</td>\n",
              "      <td>26.2</td>\n",
              "    </tr>\n",
              "    <tr>\n",
              "      <th>47</th>\n",
              "      <td>West Virginia</td>\n",
              "      <td>5.7</td>\n",
              "      <td>81</td>\n",
              "      <td>39</td>\n",
              "      <td>9.3</td>\n",
              "    </tr>\n",
              "    <tr>\n",
              "      <th>48</th>\n",
              "      <td>Wisconsin</td>\n",
              "      <td>2.6</td>\n",
              "      <td>53</td>\n",
              "      <td>66</td>\n",
              "      <td>10.8</td>\n",
              "    </tr>\n",
              "    <tr>\n",
              "      <th>49</th>\n",
              "      <td>Wyoming</td>\n",
              "      <td>6.8</td>\n",
              "      <td>161</td>\n",
              "      <td>60</td>\n",
              "      <td>15.6</td>\n",
              "    </tr>\n",
              "  </tbody>\n",
              "</table>\n",
              "</div>"
            ],
            "text/plain": [
              "        Unnamed: 0  Murder  Assault  UrbanPop  Rape\n",
              "0          Alabama    13.2      236        58  21.2\n",
              "1           Alaska    10.0      263        48  44.5\n",
              "2          Arizona     8.1      294        80  31.0\n",
              "3         Arkansas     8.8      190        50  19.5\n",
              "4       California     9.0      276        91  40.6\n",
              "5         Colorado     7.9      204        78  38.7\n",
              "6      Connecticut     3.3      110        77  11.1\n",
              "7         Delaware     5.9      238        72  15.8\n",
              "8          Florida    15.4      335        80  31.9\n",
              "9          Georgia    17.4      211        60  25.8\n",
              "10          Hawaii     5.3       46        83  20.2\n",
              "11           Idaho     2.6      120        54  14.2\n",
              "12        Illinois    10.4      249        83  24.0\n",
              "13         Indiana     7.2      113        65  21.0\n",
              "14            Iowa     2.2       56        57  11.3\n",
              "15          Kansas     6.0      115        66  18.0\n",
              "16        Kentucky     9.7      109        52  16.3\n",
              "17       Louisiana    15.4      249        66  22.2\n",
              "18           Maine     2.1       83        51   7.8\n",
              "19        Maryland    11.3      300        67  27.8\n",
              "20   Massachusetts     4.4      149        85  16.3\n",
              "21        Michigan    12.1      255        74  35.1\n",
              "22       Minnesota     2.7       72        66  14.9\n",
              "23     Mississippi    16.1      259        44  17.1\n",
              "24        Missouri     9.0      178        70  28.2\n",
              "25         Montana     6.0      109        53  16.4\n",
              "26        Nebraska     4.3      102        62  16.5\n",
              "27          Nevada    12.2      252        81  46.0\n",
              "28   New Hampshire     2.1       57        56   9.5\n",
              "29      New Jersey     7.4      159        89  18.8\n",
              "30      New Mexico    11.4      285        70  32.1\n",
              "31        New York    11.1      254        86  26.1\n",
              "32  North Carolina    13.0      337        45  16.1\n",
              "33    North Dakota     0.8       45        44   7.3\n",
              "34            Ohio     7.3      120        75  21.4\n",
              "35        Oklahoma     6.6      151        68  20.0\n",
              "36          Oregon     4.9      159        67  29.3\n",
              "37    Pennsylvania     6.3      106        72  14.9\n",
              "38    Rhode Island     3.4      174        87   8.3\n",
              "39  South Carolina    14.4      279        48  22.5\n",
              "40    South Dakota     3.8       86        45  12.8\n",
              "41       Tennessee    13.2      188        59  26.9\n",
              "42           Texas    12.7      201        80  25.5\n",
              "43            Utah     3.2      120        80  22.9\n",
              "44         Vermont     2.2       48        32  11.2\n",
              "45        Virginia     8.5      156        63  20.7\n",
              "46      Washington     4.0      145        73  26.2\n",
              "47   West Virginia     5.7       81        39   9.3\n",
              "48       Wisconsin     2.6       53        66  10.8\n",
              "49         Wyoming     6.8      161        60  15.6"
            ]
          },
          "metadata": {
            "tags": []
          },
          "execution_count": 38
        }
      ]
    },
    {
      "cell_type": "markdown",
      "metadata": {
        "id": "ahENWWcSqNKi",
        "colab_type": "text"
      },
      "source": [
        "**Storing Data In Excel Files**"
      ]
    },
    {
      "cell_type": "code",
      "metadata": {
        "id": "3GaYG6PCqNpz",
        "colab_type": "code",
        "colab": {}
      },
      "source": [
        "sheet.to_excel('newUSArrest.xlsx')"
      ],
      "execution_count": 0,
      "outputs": []
    },
    {
      "cell_type": "markdown",
      "metadata": {
        "id": "Le5oB7NWqof-",
        "colab_type": "text"
      },
      "source": [
        "# **Data information**\n",
        "![alt text](https://www.mtab.com/wp-content/uploads/2012/08/analyzing-collected-survey-data-resized-600.jpg.png)"
      ]
    },
    {
      "cell_type": "code",
      "metadata": {
        "id": "EdJUnI0iqm6R",
        "colab_type": "code",
        "outputId": "21343c88-ccd1-44e9-991f-c539c9789e5e",
        "colab": {
          "base_uri": "https://localhost:8080/",
          "height": 199
        }
      },
      "source": [
        "sheet.head()\n",
        "sheet.tail(10)\n",
        "sheet.info()"
      ],
      "execution_count": 0,
      "outputs": [
        {
          "output_type": "stream",
          "text": [
            "<class 'pandas.core.frame.DataFrame'>\n",
            "RangeIndex: 50 entries, 0 to 49\n",
            "Data columns (total 5 columns):\n",
            "Unnamed: 0    50 non-null object\n",
            "Murder        50 non-null float64\n",
            "Assault       50 non-null int64\n",
            "UrbanPop      50 non-null int64\n",
            "Rape          50 non-null float64\n",
            "dtypes: float64(2), int64(2), object(1)\n",
            "memory usage: 2.1+ KB\n"
          ],
          "name": "stdout"
        }
      ]
    },
    {
      "cell_type": "code",
      "metadata": {
        "id": "4uv68peaq4sy",
        "colab_type": "code",
        "outputId": "fbebf615-cfdb-4972-f010-28e9765c5554",
        "colab": {
          "base_uri": "https://localhost:8080/",
          "height": 168
        }
      },
      "source": [
        "sheet.describe().T"
      ],
      "execution_count": 0,
      "outputs": [
        {
          "output_type": "execute_result",
          "data": {
            "text/html": [
              "<div>\n",
              "<style scoped>\n",
              "    .dataframe tbody tr th:only-of-type {\n",
              "        vertical-align: middle;\n",
              "    }\n",
              "\n",
              "    .dataframe tbody tr th {\n",
              "        vertical-align: top;\n",
              "    }\n",
              "\n",
              "    .dataframe thead th {\n",
              "        text-align: right;\n",
              "    }\n",
              "</style>\n",
              "<table border=\"1\" class=\"dataframe\">\n",
              "  <thead>\n",
              "    <tr style=\"text-align: right;\">\n",
              "      <th></th>\n",
              "      <th>count</th>\n",
              "      <th>mean</th>\n",
              "      <th>std</th>\n",
              "      <th>min</th>\n",
              "      <th>25%</th>\n",
              "      <th>50%</th>\n",
              "      <th>75%</th>\n",
              "      <th>max</th>\n",
              "    </tr>\n",
              "  </thead>\n",
              "  <tbody>\n",
              "    <tr>\n",
              "      <th>Murder</th>\n",
              "      <td>50.0</td>\n",
              "      <td>7.788</td>\n",
              "      <td>4.355510</td>\n",
              "      <td>0.8</td>\n",
              "      <td>4.075</td>\n",
              "      <td>7.25</td>\n",
              "      <td>11.250</td>\n",
              "      <td>17.4</td>\n",
              "    </tr>\n",
              "    <tr>\n",
              "      <th>Assault</th>\n",
              "      <td>50.0</td>\n",
              "      <td>170.760</td>\n",
              "      <td>83.337661</td>\n",
              "      <td>45.0</td>\n",
              "      <td>109.000</td>\n",
              "      <td>159.00</td>\n",
              "      <td>249.000</td>\n",
              "      <td>337.0</td>\n",
              "    </tr>\n",
              "    <tr>\n",
              "      <th>UrbanPop</th>\n",
              "      <td>50.0</td>\n",
              "      <td>65.540</td>\n",
              "      <td>14.474763</td>\n",
              "      <td>32.0</td>\n",
              "      <td>54.500</td>\n",
              "      <td>66.00</td>\n",
              "      <td>77.750</td>\n",
              "      <td>91.0</td>\n",
              "    </tr>\n",
              "    <tr>\n",
              "      <th>Rape</th>\n",
              "      <td>50.0</td>\n",
              "      <td>21.232</td>\n",
              "      <td>9.366385</td>\n",
              "      <td>7.3</td>\n",
              "      <td>15.075</td>\n",
              "      <td>20.10</td>\n",
              "      <td>26.175</td>\n",
              "      <td>46.0</td>\n",
              "    </tr>\n",
              "  </tbody>\n",
              "</table>\n",
              "</div>"
            ],
            "text/plain": [
              "          count     mean        std   min      25%     50%      75%    max\n",
              "Murder     50.0    7.788   4.355510   0.8    4.075    7.25   11.250   17.4\n",
              "Assault    50.0  170.760  83.337661  45.0  109.000  159.00  249.000  337.0\n",
              "UrbanPop   50.0   65.540  14.474763  32.0   54.500   66.00   77.750   91.0\n",
              "Rape       50.0   21.232   9.366385   7.3   15.075   20.10   26.175   46.0"
            ]
          },
          "metadata": {
            "tags": []
          },
          "execution_count": 42
        }
      ]
    },
    {
      "cell_type": "markdown",
      "metadata": {
        "id": "HYPrUiAPtbUx",
        "colab_type": "text"
      },
      "source": [
        "#**Data Preprocessing**\n",
        "![alt text](https://miro.medium.com/max/849/1*-ABD6Gh46-qrFwKMbKWM9g.png)\n",
        "\n",
        "#**What is data preprocessing?**\n",
        "##Data preprocessing is a data mining technique that involves transforming raw data into an understandable format\n",
        "\n",
        "![alt text](https://i.pinimg.com/236x/27/a4/0c/27a40cb8623f7f100816f5209df61a2d.jpg)\n",
        "\n",
        "#<b>Stages of Data-preprocessing</b>\n",
        "\n",
        "1.  <b> Data Aquisition\n",
        "2.   Data cleaning<br>\n",
        "3.   Data Sampling</b>\n",
        "\n",
        "\n",
        "\n",
        "\n",
        "<b>Seven techniques for Data Preprocessing in Python </b>\n",
        "\n"
      ]
    },
    {
      "cell_type": "markdown",
      "metadata": {
        "id": "fGmUFKocVKed",
        "colab_type": "text"
      },
      "source": [
        "**1. Data Aquisition:** <br>\n",
        "Data Acquisition is the process of retrieving data from unstructured  data sources for further data processing or data storage. The retrieved data is considered as Raw Data\n",
        "\n",
        "**2. Data Cleaning:** <br>\n",
        "Data Cleaning is the process of cleaning and unifying messy and complex data sets\n",
        "Data Scientists spend 50-80% of their time stuck in the mundane labor of collecting, organizing and cleaning data before it can be utilized\n",
        "![alt text](https://st4.depositphotos.com/5532432/27839/v/1600/depositphotos_278397196-stock-illustration-icon-data-cleaning-isometric-design.jpg)\n",
        "\n"
      ]
    },
    {
      "cell_type": "markdown",
      "metadata": {
        "id": "NscNyCz_dIxe",
        "colab_type": "text"
      },
      "source": [
        "#<b>a.Rescaling Data</b><br>\n",
        "For data with attributes of varying scales, we can rescale attributes to possess the same scale. We rescale attributes into the range 0 to 1 and call it normalization. We use the MinMaxScaler class from scikit-learn. Let’s take an example"
      ]
    },
    {
      "cell_type": "code",
      "metadata": {
        "id": "iivgo5r1TPug",
        "colab_type": "code",
        "outputId": "303056a0-dca9-4a06-ccfb-c64ab9903431",
        "colab": {
          "base_uri": "https://localhost:8080/",
          "height": 425
        }
      },
      "source": [
        "import pandas, scipy, numpy\n",
        "from sklearn.preprocessing import MinMaxScaler\n",
        "df=pandas.read_csv( 'http://archive.ics.uci.edu/ml/machine-learning-databases/wine-quality/winequality-red.csv ',sep=';')\n",
        "df"
      ],
      "execution_count": 0,
      "outputs": [
        {
          "output_type": "execute_result",
          "data": {
            "text/html": [
              "<div>\n",
              "<style scoped>\n",
              "    .dataframe tbody tr th:only-of-type {\n",
              "        vertical-align: middle;\n",
              "    }\n",
              "\n",
              "    .dataframe tbody tr th {\n",
              "        vertical-align: top;\n",
              "    }\n",
              "\n",
              "    .dataframe thead th {\n",
              "        text-align: right;\n",
              "    }\n",
              "</style>\n",
              "<table border=\"1\" class=\"dataframe\">\n",
              "  <thead>\n",
              "    <tr style=\"text-align: right;\">\n",
              "      <th></th>\n",
              "      <th>fixed acidity</th>\n",
              "      <th>volatile acidity</th>\n",
              "      <th>citric acid</th>\n",
              "      <th>residual sugar</th>\n",
              "      <th>chlorides</th>\n",
              "      <th>free sulfur dioxide</th>\n",
              "      <th>total sulfur dioxide</th>\n",
              "      <th>density</th>\n",
              "      <th>pH</th>\n",
              "      <th>sulphates</th>\n",
              "      <th>alcohol</th>\n",
              "      <th>quality</th>\n",
              "    </tr>\n",
              "  </thead>\n",
              "  <tbody>\n",
              "    <tr>\n",
              "      <th>0</th>\n",
              "      <td>7.4</td>\n",
              "      <td>0.700</td>\n",
              "      <td>0.00</td>\n",
              "      <td>1.9</td>\n",
              "      <td>0.076</td>\n",
              "      <td>11.0</td>\n",
              "      <td>34.0</td>\n",
              "      <td>0.99780</td>\n",
              "      <td>3.51</td>\n",
              "      <td>0.56</td>\n",
              "      <td>9.4</td>\n",
              "      <td>5</td>\n",
              "    </tr>\n",
              "    <tr>\n",
              "      <th>1</th>\n",
              "      <td>7.8</td>\n",
              "      <td>0.880</td>\n",
              "      <td>0.00</td>\n",
              "      <td>2.6</td>\n",
              "      <td>0.098</td>\n",
              "      <td>25.0</td>\n",
              "      <td>67.0</td>\n",
              "      <td>0.99680</td>\n",
              "      <td>3.20</td>\n",
              "      <td>0.68</td>\n",
              "      <td>9.8</td>\n",
              "      <td>5</td>\n",
              "    </tr>\n",
              "    <tr>\n",
              "      <th>2</th>\n",
              "      <td>7.8</td>\n",
              "      <td>0.760</td>\n",
              "      <td>0.04</td>\n",
              "      <td>2.3</td>\n",
              "      <td>0.092</td>\n",
              "      <td>15.0</td>\n",
              "      <td>54.0</td>\n",
              "      <td>0.99700</td>\n",
              "      <td>3.26</td>\n",
              "      <td>0.65</td>\n",
              "      <td>9.8</td>\n",
              "      <td>5</td>\n",
              "    </tr>\n",
              "    <tr>\n",
              "      <th>3</th>\n",
              "      <td>11.2</td>\n",
              "      <td>0.280</td>\n",
              "      <td>0.56</td>\n",
              "      <td>1.9</td>\n",
              "      <td>0.075</td>\n",
              "      <td>17.0</td>\n",
              "      <td>60.0</td>\n",
              "      <td>0.99800</td>\n",
              "      <td>3.16</td>\n",
              "      <td>0.58</td>\n",
              "      <td>9.8</td>\n",
              "      <td>6</td>\n",
              "    </tr>\n",
              "    <tr>\n",
              "      <th>4</th>\n",
              "      <td>7.4</td>\n",
              "      <td>0.700</td>\n",
              "      <td>0.00</td>\n",
              "      <td>1.9</td>\n",
              "      <td>0.076</td>\n",
              "      <td>11.0</td>\n",
              "      <td>34.0</td>\n",
              "      <td>0.99780</td>\n",
              "      <td>3.51</td>\n",
              "      <td>0.56</td>\n",
              "      <td>9.4</td>\n",
              "      <td>5</td>\n",
              "    </tr>\n",
              "    <tr>\n",
              "      <th>...</th>\n",
              "      <td>...</td>\n",
              "      <td>...</td>\n",
              "      <td>...</td>\n",
              "      <td>...</td>\n",
              "      <td>...</td>\n",
              "      <td>...</td>\n",
              "      <td>...</td>\n",
              "      <td>...</td>\n",
              "      <td>...</td>\n",
              "      <td>...</td>\n",
              "      <td>...</td>\n",
              "      <td>...</td>\n",
              "    </tr>\n",
              "    <tr>\n",
              "      <th>1594</th>\n",
              "      <td>6.2</td>\n",
              "      <td>0.600</td>\n",
              "      <td>0.08</td>\n",
              "      <td>2.0</td>\n",
              "      <td>0.090</td>\n",
              "      <td>32.0</td>\n",
              "      <td>44.0</td>\n",
              "      <td>0.99490</td>\n",
              "      <td>3.45</td>\n",
              "      <td>0.58</td>\n",
              "      <td>10.5</td>\n",
              "      <td>5</td>\n",
              "    </tr>\n",
              "    <tr>\n",
              "      <th>1595</th>\n",
              "      <td>5.9</td>\n",
              "      <td>0.550</td>\n",
              "      <td>0.10</td>\n",
              "      <td>2.2</td>\n",
              "      <td>0.062</td>\n",
              "      <td>39.0</td>\n",
              "      <td>51.0</td>\n",
              "      <td>0.99512</td>\n",
              "      <td>3.52</td>\n",
              "      <td>0.76</td>\n",
              "      <td>11.2</td>\n",
              "      <td>6</td>\n",
              "    </tr>\n",
              "    <tr>\n",
              "      <th>1596</th>\n",
              "      <td>6.3</td>\n",
              "      <td>0.510</td>\n",
              "      <td>0.13</td>\n",
              "      <td>2.3</td>\n",
              "      <td>0.076</td>\n",
              "      <td>29.0</td>\n",
              "      <td>40.0</td>\n",
              "      <td>0.99574</td>\n",
              "      <td>3.42</td>\n",
              "      <td>0.75</td>\n",
              "      <td>11.0</td>\n",
              "      <td>6</td>\n",
              "    </tr>\n",
              "    <tr>\n",
              "      <th>1597</th>\n",
              "      <td>5.9</td>\n",
              "      <td>0.645</td>\n",
              "      <td>0.12</td>\n",
              "      <td>2.0</td>\n",
              "      <td>0.075</td>\n",
              "      <td>32.0</td>\n",
              "      <td>44.0</td>\n",
              "      <td>0.99547</td>\n",
              "      <td>3.57</td>\n",
              "      <td>0.71</td>\n",
              "      <td>10.2</td>\n",
              "      <td>5</td>\n",
              "    </tr>\n",
              "    <tr>\n",
              "      <th>1598</th>\n",
              "      <td>6.0</td>\n",
              "      <td>0.310</td>\n",
              "      <td>0.47</td>\n",
              "      <td>3.6</td>\n",
              "      <td>0.067</td>\n",
              "      <td>18.0</td>\n",
              "      <td>42.0</td>\n",
              "      <td>0.99549</td>\n",
              "      <td>3.39</td>\n",
              "      <td>0.66</td>\n",
              "      <td>11.0</td>\n",
              "      <td>6</td>\n",
              "    </tr>\n",
              "  </tbody>\n",
              "</table>\n",
              "<p>1599 rows × 12 columns</p>\n",
              "</div>"
            ],
            "text/plain": [
              "      fixed acidity  volatile acidity  citric acid  ...  sulphates  alcohol  quality\n",
              "0               7.4             0.700         0.00  ...       0.56      9.4        5\n",
              "1               7.8             0.880         0.00  ...       0.68      9.8        5\n",
              "2               7.8             0.760         0.04  ...       0.65      9.8        5\n",
              "3              11.2             0.280         0.56  ...       0.58      9.8        6\n",
              "4               7.4             0.700         0.00  ...       0.56      9.4        5\n",
              "...             ...               ...          ...  ...        ...      ...      ...\n",
              "1594            6.2             0.600         0.08  ...       0.58     10.5        5\n",
              "1595            5.9             0.550         0.10  ...       0.76     11.2        6\n",
              "1596            6.3             0.510         0.13  ...       0.75     11.0        6\n",
              "1597            5.9             0.645         0.12  ...       0.71     10.2        5\n",
              "1598            6.0             0.310         0.47  ...       0.66     11.0        6\n",
              "\n",
              "[1599 rows x 12 columns]"
            ]
          },
          "metadata": {
            "tags": []
          },
          "execution_count": 2
        }
      ]
    },
    {
      "cell_type": "code",
      "metadata": {
        "id": "QhjiNaJjZZU0",
        "colab_type": "code",
        "outputId": "1188c745-5b3d-4fd0-9fcb-9a022718d9b4",
        "colab": {
          "base_uri": "https://localhost:8080/",
          "height": 145
        }
      },
      "source": [
        "array=df.values\n",
        "array"
      ],
      "execution_count": 0,
      "outputs": [
        {
          "output_type": "execute_result",
          "data": {
            "text/plain": [
              "array([[ 7.4  ,  0.7  ,  0.   , ...,  0.56 ,  9.4  ,  5.   ],\n",
              "       [ 7.8  ,  0.88 ,  0.   , ...,  0.68 ,  9.8  ,  5.   ],\n",
              "       [ 7.8  ,  0.76 ,  0.04 , ...,  0.65 ,  9.8  ,  5.   ],\n",
              "       ...,\n",
              "       [ 6.3  ,  0.51 ,  0.13 , ...,  0.75 , 11.   ,  6.   ],\n",
              "       [ 5.9  ,  0.645,  0.12 , ...,  0.71 , 10.2  ,  5.   ],\n",
              "       [ 6.   ,  0.31 ,  0.47 , ...,  0.66 , 11.   ,  6.   ]])"
            ]
          },
          "metadata": {
            "tags": []
          },
          "execution_count": 4
        }
      ]
    },
    {
      "cell_type": "code",
      "metadata": {
        "id": "drzwwnqEZaSl",
        "colab_type": "code",
        "outputId": "4738b037-d3f4-4b82-82f2-63be280e6462",
        "colab": {
          "base_uri": "https://localhost:8080/",
          "height": 108
        }
      },
      "source": [
        "#Separating data into input and output components\n",
        "x=array[:,0:8]\n",
        "y=array[:,8]\n",
        "scaler=MinMaxScaler(feature_range=(0,1))\n",
        "rescaledX=scaler.fit_transform(x)\n",
        "numpy.set_printoptions(precision=3) #Setting precision for the output\n",
        "rescaledX[0:5,:]"
      ],
      "execution_count": 0,
      "outputs": [
        {
          "output_type": "execute_result",
          "data": {
            "text/plain": [
              "array([[0.248, 0.397, 0.   , 0.068, 0.107, 0.141, 0.099, 0.568],\n",
              "       [0.283, 0.521, 0.   , 0.116, 0.144, 0.338, 0.216, 0.494],\n",
              "       [0.283, 0.438, 0.04 , 0.096, 0.134, 0.197, 0.17 , 0.509],\n",
              "       [0.584, 0.11 , 0.56 , 0.068, 0.105, 0.225, 0.191, 0.582],\n",
              "       [0.248, 0.397, 0.   , 0.068, 0.107, 0.141, 0.099, 0.568]])"
            ]
          },
          "metadata": {
            "tags": []
          },
          "execution_count": 5
        }
      ]
    },
    {
      "cell_type": "markdown",
      "metadata": {
        "id": "eFbFs-UbZsHp",
        "colab_type": "text"
      },
      "source": [
        "# **b. Standardizing Data**\n",
        "\n",
        "With standardizing, we can take attributes with a Gaussian distribution and different means and standard deviations and transform them into a standard Gaussian distribution with a mean of 0 and a standard deviation of 1."
      ]
    },
    {
      "cell_type": "code",
      "metadata": {
        "id": "Uhbll2OKZ060",
        "colab_type": "code",
        "outputId": "7eb87d2c-81a6-4e00-a49b-555f46a9ff7d",
        "colab": {
          "base_uri": "https://localhost:8080/",
          "height": 108
        }
      },
      "source": [
        "from sklearn.preprocessing import StandardScaler\n",
        "scaler=StandardScaler().fit(x)\n",
        "rescaledX=scaler.transform(x)\n",
        "rescaledX[0:5,:]"
      ],
      "execution_count": 0,
      "outputs": [
        {
          "output_type": "execute_result",
          "data": {
            "text/plain": [
              "array([[-0.528,  0.962, -1.391, -0.453, -0.244, -0.466, -0.379,  0.558],\n",
              "       [-0.299,  1.967, -1.391,  0.043,  0.224,  0.873,  0.624,  0.028],\n",
              "       [-0.299,  1.297, -1.186, -0.169,  0.096, -0.084,  0.229,  0.134],\n",
              "       [ 1.655, -1.384,  1.484, -0.453, -0.265,  0.108,  0.412,  0.664],\n",
              "       [-0.528,  0.962, -1.391, -0.453, -0.244, -0.466, -0.379,  0.558]])"
            ]
          },
          "metadata": {
            "tags": []
          },
          "execution_count": 6
        }
      ]
    },
    {
      "cell_type": "markdown",
      "metadata": {
        "id": "L7yNbreFaQit",
        "colab_type": "text"
      },
      "source": [
        "# <b>c. Normalizing Data</b>\n",
        "In this task, we rescale each observation to a length of 1 (a unit norm). For this, we use the Normalizer class"
      ]
    },
    {
      "cell_type": "code",
      "metadata": {
        "id": "RjtdplrcaVDx",
        "colab_type": "code",
        "outputId": "9bf60129-0276-4847-d2c9-b1cacf9e1cb0",
        "colab": {
          "base_uri": "https://localhost:8080/",
          "height": 199
        }
      },
      "source": [
        "from sklearn.preprocessing import Normalizer\n",
        "scaler=Normalizer().fit(x)\n",
        "normalizedX=scaler.transform(x)\n",
        "normalizedX[0:5,:]"
      ],
      "execution_count": 0,
      "outputs": [
        {
          "output_type": "execute_result",
          "data": {
            "text/plain": [
              "array([[2.024e-01, 1.914e-02, 0.000e+00, 5.196e-02, 2.079e-03, 3.008e-01,\n",
              "        9.299e-01, 2.729e-02],\n",
              "       [1.083e-01, 1.222e-02, 0.000e+00, 3.611e-02, 1.361e-03, 3.472e-01,\n",
              "        9.306e-01, 1.385e-02],\n",
              "       [1.377e-01, 1.342e-02, 7.061e-04, 4.060e-02, 1.624e-03, 2.648e-01,\n",
              "        9.533e-01, 1.760e-02],\n",
              "       [1.767e-01, 4.416e-03, 8.833e-03, 2.997e-02, 1.183e-03, 2.681e-01,\n",
              "        9.464e-01, 1.574e-02],\n",
              "       [2.024e-01, 1.914e-02, 0.000e+00, 5.196e-02, 2.079e-03, 3.008e-01,\n",
              "        9.299e-01, 2.729e-02]])"
            ]
          },
          "metadata": {
            "tags": []
          },
          "execution_count": 7
        }
      ]
    },
    {
      "cell_type": "markdown",
      "metadata": {
        "id": "Jxk14wgVachG",
        "colab_type": "text"
      },
      "source": [
        "#<b>d. Binarizing Data</b>\n",
        "Using a binary threshold, it is possible to transform our data by marking the values above it 1 and those equal to or below it, 0. For this purpose, we use the Binarizer class"
      ]
    },
    {
      "cell_type": "code",
      "metadata": {
        "id": "aS8GN9i1aiXg",
        "colab_type": "code",
        "outputId": "4e365f00-0918-4e72-f0e2-8101dfbc83db",
        "colab": {
          "base_uri": "https://localhost:8080/",
          "height": 108
        }
      },
      "source": [
        " from sklearn.preprocessing import Binarizer\n",
        "binarizer=Binarizer(threshold=0.0).fit(x)\n",
        "binaryX=binarizer.transform(x)\n",
        "binaryX[0:5,:]"
      ],
      "execution_count": 0,
      "outputs": [
        {
          "output_type": "execute_result",
          "data": {
            "text/plain": [
              "array([[1., 1., 0., 1., 1., 1., 1., 1.],\n",
              "       [1., 1., 0., 1., 1., 1., 1., 1.],\n",
              "       [1., 1., 1., 1., 1., 1., 1., 1.],\n",
              "       [1., 1., 1., 1., 1., 1., 1., 1.],\n",
              "       [1., 1., 0., 1., 1., 1., 1., 1.]])"
            ]
          },
          "metadata": {
            "tags": []
          },
          "execution_count": 8
        }
      ]
    },
    {
      "cell_type": "markdown",
      "metadata": {
        "id": "iIOgQg8ranfT",
        "colab_type": "text"
      },
      "source": [
        "# <b>e. Mean Removal</b>\n",
        "We can remove the mean from each feature to center it on zero"
      ]
    },
    {
      "cell_type": "code",
      "metadata": {
        "id": "AH6XQ9reavvT",
        "colab_type": "code",
        "outputId": "1dcc4952-b268-4b7c-8f45-ede1518b3892",
        "colab": {
          "base_uri": "https://localhost:8080/",
          "height": 72
        }
      },
      "source": [
        " from sklearn.preprocessing import scale\n",
        "data_standardized=scale(df)\n",
        "data_standardized.mean(axis=0)"
      ],
      "execution_count": 0,
      "outputs": [
        {
          "output_type": "execute_result",
          "data": {
            "text/plain": [
              "array([ 3.555e-16,  1.733e-16, -8.887e-17, -1.244e-16,  3.910e-16,\n",
              "       -6.221e-17,  4.444e-17,  2.364e-14,  2.862e-15,  6.754e-16,\n",
              "        1.066e-16,  8.887e-17])"
            ]
          },
          "metadata": {
            "tags": []
          },
          "execution_count": 9
        }
      ]
    },
    {
      "cell_type": "code",
      "metadata": {
        "id": "Gqma203Ta95h",
        "colab_type": "code",
        "outputId": "360d01f5-9c44-47f9-987b-8e65d9b4e06b",
        "colab": {
          "base_uri": "https://localhost:8080/",
          "height": 35
        }
      },
      "source": [
        "data_standardized.std(axis=0)"
      ],
      "execution_count": 0,
      "outputs": [
        {
          "output_type": "execute_result",
          "data": {
            "text/plain": [
              "array([1., 1., 1., 1., 1., 1., 1., 1., 1., 1., 1., 1.])"
            ]
          },
          "metadata": {
            "tags": []
          },
          "execution_count": 10
        }
      ]
    },
    {
      "cell_type": "markdown",
      "metadata": {
        "id": "AGr2ZwBWbBE2",
        "colab_type": "text"
      },
      "source": [
        "#<b>f. One Hot Encoding</b>\n",
        "When dealing with few and scattered numerical values, we may not need to store these. Then, we can perform One Hot Encoding. For k distinct values, we can transform the feature into a k-dimensional vector with one value of 1 and 0 as the rest values."
      ]
    },
    {
      "cell_type": "code",
      "metadata": {
        "id": "cAD7ybJebI5M",
        "colab_type": "code",
        "outputId": "001eebf0-a79e-4175-e8c0-77024ddd96e5",
        "colab": {
          "base_uri": "https://localhost:8080/",
          "height": 165
        }
      },
      "source": [
        "from sklearn.preprocessing import OneHotEncoder\n",
        "encoder=OneHotEncoder()\n",
        "encoder.fit([[0,1,6,2],\n",
        "[1,5,3,5],\n",
        "[2,4,2,7],\n",
        "[1,0,4,2]\n",
        "])"
      ],
      "execution_count": 0,
      "outputs": [
        {
          "output_type": "stream",
          "text": [
            "/usr/local/lib/python3.6/dist-packages/sklearn/preprocessing/_encoders.py:415: FutureWarning: The handling of integer data will change in version 0.22. Currently, the categories are determined based on the range [0, max(values)], while in the future they will be determined based on the unique values.\n",
            "If you want the future behaviour and silence this warning, you can specify \"categories='auto'\".\n",
            "In case you used a LabelEncoder before this OneHotEncoder to convert the categories to integers, then you can now use the OneHotEncoder directly.\n",
            "  warnings.warn(msg, FutureWarning)\n"
          ],
          "name": "stderr"
        },
        {
          "output_type": "execute_result",
          "data": {
            "text/plain": [
              "OneHotEncoder(categorical_features=None, categories=None, drop=None,\n",
              "              dtype=<class 'numpy.float64'>, handle_unknown='error',\n",
              "              n_values=None, sparse=True)"
            ]
          },
          "metadata": {
            "tags": []
          },
          "execution_count": 11
        }
      ]
    },
    {
      "cell_type": "code",
      "metadata": {
        "id": "QMg1snErbQ1y",
        "colab_type": "code",
        "outputId": "82cf2537-8772-43ee-a2d9-4243ecf39262",
        "colab": {
          "base_uri": "https://localhost:8080/",
          "height": 35
        }
      },
      "source": [
        "encoder.transform([[2,4,3,4]]).toarray()"
      ],
      "execution_count": 0,
      "outputs": [
        {
          "output_type": "execute_result",
          "data": {
            "text/plain": [
              "array([[0., 0., 1., 0., 0., 1., 0., 0., 1., 0., 0., 0., 0., 0.]])"
            ]
          },
          "metadata": {
            "tags": []
          },
          "execution_count": 12
        }
      ]
    },
    {
      "cell_type": "markdown",
      "metadata": {
        "id": "vYt9rdsHbYAa",
        "colab_type": "text"
      },
      "source": [
        "#<b>g. Label Encoding</b>\n",
        "Some labels can be words or numbers. Usually, training data is labelled with words to make it readable. Label encoding converts word labels into numbers to let algorithms work on them. "
      ]
    },
    {
      "cell_type": "code",
      "metadata": {
        "id": "zWhPynHdbdpa",
        "colab_type": "code",
        "outputId": "9acc87bb-3b38-4a8b-800d-334619fbc3b3",
        "colab": {
          "base_uri": "https://localhost:8080/",
          "height": 35
        }
      },
      "source": [
        "from sklearn.preprocessing import LabelEncoder\n",
        "label_encoder=LabelEncoder()\n",
        "input_classes=['Havells','Philips','Syska','Eveready','Lloyd']\n",
        "label_encoder.fit(input_classes)"
      ],
      "execution_count": 0,
      "outputs": [
        {
          "output_type": "execute_result",
          "data": {
            "text/plain": [
              "LabelEncoder()"
            ]
          },
          "metadata": {
            "tags": []
          },
          "execution_count": 13
        }
      ]
    },
    {
      "cell_type": "code",
      "metadata": {
        "id": "t8sZtpBLblZu",
        "colab_type": "code",
        "outputId": "978b33b8-c7d2-4746-c7d4-ea6b5ca29e78",
        "colab": {
          "base_uri": "https://localhost:8080/",
          "height": 108
        }
      },
      "source": [
        "for i,item in enumerate(label_encoder.classes_):\n",
        "  print(item,'-->',i)\n"
      ],
      "execution_count": 0,
      "outputs": [
        {
          "output_type": "stream",
          "text": [
            "Eveready --> 0\n",
            "Havells --> 1\n",
            "Lloyd --> 2\n",
            "Philips --> 3\n",
            "Syska --> 4\n"
          ],
          "name": "stdout"
        }
      ]
    },
    {
      "cell_type": "code",
      "metadata": {
        "id": "gf6o3fpsbyZH",
        "colab_type": "code",
        "outputId": "2d253405-9223-481d-d313-2b8a4d0c3fe1",
        "colab": {
          "base_uri": "https://localhost:8080/",
          "height": 35
        }
      },
      "source": [
        "labels=['Lloyd','Syska','Philips']\n",
        "label_encoder.transform(labels)"
      ],
      "execution_count": 0,
      "outputs": [
        {
          "output_type": "execute_result",
          "data": {
            "text/plain": [
              "array([2, 4, 3])"
            ]
          },
          "metadata": {
            "tags": []
          },
          "execution_count": 16
        }
      ]
    },
    {
      "cell_type": "code",
      "metadata": {
        "id": "U2u8C9SPb16J",
        "colab_type": "code",
        "outputId": "4ae8dccf-f46d-42ab-8af3-f53c2abc6062",
        "colab": {
          "base_uri": "https://localhost:8080/",
          "height": 35
        }
      },
      "source": [
        "label_encoder.inverse_transform(label_encoder.transform(labels))"
      ],
      "execution_count": 0,
      "outputs": [
        {
          "output_type": "execute_result",
          "data": {
            "text/plain": [
              "array(['Lloyd', 'Syska', 'Philips'], dtype='<U8')"
            ]
          },
          "metadata": {
            "tags": []
          },
          "execution_count": 17
        }
      ]
    },
    {
      "cell_type": "markdown",
      "metadata": {
        "id": "9PprBw7wcDP1",
        "colab_type": "text"
      },
      "source": [
        ""
      ]
    },
    {
      "cell_type": "code",
      "metadata": {
        "id": "TVGI3rdZcDkU",
        "colab_type": "code",
        "outputId": "df36e4d5-5b2b-4085-b56d-7620a979b1a0",
        "colab": {
          "base_uri": "https://localhost:8080/",
          "height": 407
        }
      },
      "source": [
        "import pandas as pd\n",
        "df = pd.read_csv(\"/content/sample_data/california_housing_test.csv\")\n",
        "\n",
        "df"
      ],
      "execution_count": 0,
      "outputs": [
        {
          "output_type": "execute_result",
          "data": {
            "text/html": [
              "<div>\n",
              "<style scoped>\n",
              "    .dataframe tbody tr th:only-of-type {\n",
              "        vertical-align: middle;\n",
              "    }\n",
              "\n",
              "    .dataframe tbody tr th {\n",
              "        vertical-align: top;\n",
              "    }\n",
              "\n",
              "    .dataframe thead th {\n",
              "        text-align: right;\n",
              "    }\n",
              "</style>\n",
              "<table border=\"1\" class=\"dataframe\">\n",
              "  <thead>\n",
              "    <tr style=\"text-align: right;\">\n",
              "      <th></th>\n",
              "      <th>longitude</th>\n",
              "      <th>latitude</th>\n",
              "      <th>housing_median_age</th>\n",
              "      <th>total_rooms</th>\n",
              "      <th>total_bedrooms</th>\n",
              "      <th>population</th>\n",
              "      <th>households</th>\n",
              "      <th>median_income</th>\n",
              "      <th>median_house_value</th>\n",
              "    </tr>\n",
              "  </thead>\n",
              "  <tbody>\n",
              "    <tr>\n",
              "      <th>0</th>\n",
              "      <td>-122.05</td>\n",
              "      <td>37.37</td>\n",
              "      <td>27.0</td>\n",
              "      <td>3885.0</td>\n",
              "      <td>661.0</td>\n",
              "      <td>1537.0</td>\n",
              "      <td>606.0</td>\n",
              "      <td>6.6085</td>\n",
              "      <td>344700.0</td>\n",
              "    </tr>\n",
              "    <tr>\n",
              "      <th>1</th>\n",
              "      <td>-118.30</td>\n",
              "      <td>34.26</td>\n",
              "      <td>43.0</td>\n",
              "      <td>1510.0</td>\n",
              "      <td>310.0</td>\n",
              "      <td>809.0</td>\n",
              "      <td>277.0</td>\n",
              "      <td>3.5990</td>\n",
              "      <td>176500.0</td>\n",
              "    </tr>\n",
              "    <tr>\n",
              "      <th>2</th>\n",
              "      <td>-117.81</td>\n",
              "      <td>33.78</td>\n",
              "      <td>27.0</td>\n",
              "      <td>3589.0</td>\n",
              "      <td>507.0</td>\n",
              "      <td>1484.0</td>\n",
              "      <td>495.0</td>\n",
              "      <td>5.7934</td>\n",
              "      <td>270500.0</td>\n",
              "    </tr>\n",
              "    <tr>\n",
              "      <th>3</th>\n",
              "      <td>-118.36</td>\n",
              "      <td>33.82</td>\n",
              "      <td>28.0</td>\n",
              "      <td>67.0</td>\n",
              "      <td>15.0</td>\n",
              "      <td>49.0</td>\n",
              "      <td>11.0</td>\n",
              "      <td>6.1359</td>\n",
              "      <td>330000.0</td>\n",
              "    </tr>\n",
              "    <tr>\n",
              "      <th>4</th>\n",
              "      <td>-119.67</td>\n",
              "      <td>36.33</td>\n",
              "      <td>19.0</td>\n",
              "      <td>1241.0</td>\n",
              "      <td>244.0</td>\n",
              "      <td>850.0</td>\n",
              "      <td>237.0</td>\n",
              "      <td>2.9375</td>\n",
              "      <td>81700.0</td>\n",
              "    </tr>\n",
              "    <tr>\n",
              "      <th>...</th>\n",
              "      <td>...</td>\n",
              "      <td>...</td>\n",
              "      <td>...</td>\n",
              "      <td>...</td>\n",
              "      <td>...</td>\n",
              "      <td>...</td>\n",
              "      <td>...</td>\n",
              "      <td>...</td>\n",
              "      <td>...</td>\n",
              "    </tr>\n",
              "    <tr>\n",
              "      <th>2995</th>\n",
              "      <td>-119.86</td>\n",
              "      <td>34.42</td>\n",
              "      <td>23.0</td>\n",
              "      <td>1450.0</td>\n",
              "      <td>642.0</td>\n",
              "      <td>1258.0</td>\n",
              "      <td>607.0</td>\n",
              "      <td>1.1790</td>\n",
              "      <td>225000.0</td>\n",
              "    </tr>\n",
              "    <tr>\n",
              "      <th>2996</th>\n",
              "      <td>-118.14</td>\n",
              "      <td>34.06</td>\n",
              "      <td>27.0</td>\n",
              "      <td>5257.0</td>\n",
              "      <td>1082.0</td>\n",
              "      <td>3496.0</td>\n",
              "      <td>1036.0</td>\n",
              "      <td>3.3906</td>\n",
              "      <td>237200.0</td>\n",
              "    </tr>\n",
              "    <tr>\n",
              "      <th>2997</th>\n",
              "      <td>-119.70</td>\n",
              "      <td>36.30</td>\n",
              "      <td>10.0</td>\n",
              "      <td>956.0</td>\n",
              "      <td>201.0</td>\n",
              "      <td>693.0</td>\n",
              "      <td>220.0</td>\n",
              "      <td>2.2895</td>\n",
              "      <td>62000.0</td>\n",
              "    </tr>\n",
              "    <tr>\n",
              "      <th>2998</th>\n",
              "      <td>-117.12</td>\n",
              "      <td>34.10</td>\n",
              "      <td>40.0</td>\n",
              "      <td>96.0</td>\n",
              "      <td>14.0</td>\n",
              "      <td>46.0</td>\n",
              "      <td>14.0</td>\n",
              "      <td>3.2708</td>\n",
              "      <td>162500.0</td>\n",
              "    </tr>\n",
              "    <tr>\n",
              "      <th>2999</th>\n",
              "      <td>-119.63</td>\n",
              "      <td>34.42</td>\n",
              "      <td>42.0</td>\n",
              "      <td>1765.0</td>\n",
              "      <td>263.0</td>\n",
              "      <td>753.0</td>\n",
              "      <td>260.0</td>\n",
              "      <td>8.5608</td>\n",
              "      <td>500001.0</td>\n",
              "    </tr>\n",
              "  </tbody>\n",
              "</table>\n",
              "<p>3000 rows × 9 columns</p>\n",
              "</div>"
            ],
            "text/plain": [
              "      longitude  latitude  ...  median_income  median_house_value\n",
              "0       -122.05     37.37  ...         6.6085            344700.0\n",
              "1       -118.30     34.26  ...         3.5990            176500.0\n",
              "2       -117.81     33.78  ...         5.7934            270500.0\n",
              "3       -118.36     33.82  ...         6.1359            330000.0\n",
              "4       -119.67     36.33  ...         2.9375             81700.0\n",
              "...         ...       ...  ...            ...                 ...\n",
              "2995    -119.86     34.42  ...         1.1790            225000.0\n",
              "2996    -118.14     34.06  ...         3.3906            237200.0\n",
              "2997    -119.70     36.30  ...         2.2895             62000.0\n",
              "2998    -117.12     34.10  ...         3.2708            162500.0\n",
              "2999    -119.63     34.42  ...         8.5608            500001.0\n",
              "\n",
              "[3000 rows x 9 columns]"
            ]
          },
          "metadata": {
            "tags": []
          },
          "execution_count": 22
        }
      ]
    },
    {
      "cell_type": "code",
      "metadata": {
        "id": "VoMV57E2ds-t",
        "colab_type": "code",
        "outputId": "b3746672-a3ff-4641-c774-06b7935f48d5",
        "colab": {
          "base_uri": "https://localhost:8080/",
          "height": 35
        }
      },
      "source": [
        "#Check null values\n",
        "pd.isnull(df).any()\n",
        "print(df.shape)\n"
      ],
      "execution_count": 0,
      "outputs": [
        {
          "output_type": "stream",
          "text": [
            "(3000, 9)\n"
          ],
          "name": "stdout"
        }
      ]
    },
    {
      "cell_type": "code",
      "metadata": {
        "id": "GNrdOnbGdu6M",
        "colab_type": "code",
        "outputId": "c92ae5ad-948b-42b8-e46c-f655cf763858",
        "colab": {
          "base_uri": "https://localhost:8080/",
          "height": 35
        }
      },
      "source": [
        "#Remove Null values\n",
        "df = df.dropna(how='any',axis=0)\n",
        "pd.isnull(df).any()\n",
        "print(df.shape)"
      ],
      "execution_count": 0,
      "outputs": [
        {
          "output_type": "stream",
          "text": [
            "(3000, 9)\n"
          ],
          "name": "stdout"
        }
      ]
    },
    {
      "cell_type": "markdown",
      "metadata": {
        "id": "tXXv6WFYfTca",
        "colab_type": "text"
      },
      "source": [
        "# **Handling The Missing Values - fillna()**"
      ]
    },
    {
      "cell_type": "code",
      "metadata": {
        "id": "aYngvk31fWnL",
        "colab_type": "code",
        "outputId": "223e96e4-ef15-4b93-c8d1-d4e577825a3c",
        "colab": {
          "base_uri": "https://localhost:8080/",
          "height": 272
        }
      },
      "source": [
        "import pandas\n",
        "import numpy as np\n",
        "data = {'one': pandas.Series([1, 2, 5], \n",
        "\t\t     index=['a', 'b', 'e']),\n",
        "        'two': pandas.Series([1, 2, 3, 4], \n",
        "\t\t     index=['a', 'b', 'c', 'd'])}\n",
        "table = pandas.DataFrame(data)\n",
        "print(\"Before:\\n\",table)\n",
        "\n",
        "table['one'] = table['one'].replace(np.nan, -999)\n",
        "table['two'].fillna(-999,inplace = True)\n",
        "print(\"After:\\n\",table)\n"
      ],
      "execution_count": 0,
      "outputs": [
        {
          "output_type": "stream",
          "text": [
            "Before:\n",
            "    one  two\n",
            "a  1.0  1.0\n",
            "b  2.0  2.0\n",
            "c  NaN  3.0\n",
            "d  NaN  4.0\n",
            "e  5.0  NaN\n",
            "After:\n",
            "      one    two\n",
            "a    1.0    1.0\n",
            "b    2.0    2.0\n",
            "c -999.0    3.0\n",
            "d -999.0    4.0\n",
            "e    5.0 -999.0\n"
          ],
          "name": "stdout"
        }
      ]
    },
    {
      "cell_type": "markdown",
      "metadata": {
        "id": "JH_0xUmlf2bC",
        "colab_type": "text"
      },
      "source": [
        ""
      ]
    },
    {
      "cell_type": "code",
      "metadata": {
        "id": "CNMJ6qyhf27K",
        "colab_type": "code",
        "outputId": "5b488334-bdce-496f-ad01-ccab23714c04",
        "colab": {
          "base_uri": "https://localhost:8080/",
          "height": 108
        }
      },
      "source": [
        "import numpy as np\n",
        "from sklearn import preprocessing as p\n",
        "data1 = np.array([[-100.3],\n",
        "                  [27.5], \n",
        "                  [0],\n",
        "                  [-200.9],\n",
        "                  [1000]])\n",
        "minmax_scale = p.MinMaxScaler(feature_range=(1, 2))\n",
        "scaled = minmax_scale.fit_transform(data1)\n",
        "scaled\n"
      ],
      "execution_count": 0,
      "outputs": [
        {
          "output_type": "execute_result",
          "data": {
            "text/plain": [
              "array([[1.084],\n",
              "       [1.19 ],\n",
              "       [1.167],\n",
              "       [1.   ],\n",
              "       [2.   ]])"
            ]
          },
          "metadata": {
            "tags": []
          },
          "execution_count": 30
        }
      ]
    },
    {
      "cell_type": "markdown",
      "metadata": {
        "id": "__A22OmvunjO",
        "colab_type": "text"
      },
      "source": [
        "Pandas "
      ]
    },
    {
      "cell_type": "code",
      "metadata": {
        "id": "myV9gfthfTnP",
        "colab_type": "code",
        "colab": {}
      },
      "source": [
        "import pandas as pd\n",
        "user_usage = pd.read_csv(\"/content/user_usage.csv\")\n",
        "user_device = pd.read_csv(\"/content/user_device.csv\")\n",
        "devices = pd.read_csv(\"/content/android_devices.csv\")\n",
        "devices.rename(columns={\"Retail Branding\": \"manufacturer\"}, inplace=True)"
      ],
      "execution_count": 0,
      "outputs": []
    },
    {
      "cell_type": "code",
      "metadata": {
        "id": "-EpJ8TYX41dA",
        "colab_type": "code",
        "colab": {
          "base_uri": "https://localhost:8080/",
          "height": 198
        },
        "outputId": "5280cc6e-0dac-432c-9078-b9c513a1007f"
      },
      "source": [
        "user_usage.head()"
      ],
      "execution_count": 3,
      "outputs": [
        {
          "output_type": "execute_result",
          "data": {
            "text/html": [
              "<div>\n",
              "<style scoped>\n",
              "    .dataframe tbody tr th:only-of-type {\n",
              "        vertical-align: middle;\n",
              "    }\n",
              "\n",
              "    .dataframe tbody tr th {\n",
              "        vertical-align: top;\n",
              "    }\n",
              "\n",
              "    .dataframe thead th {\n",
              "        text-align: right;\n",
              "    }\n",
              "</style>\n",
              "<table border=\"1\" class=\"dataframe\">\n",
              "  <thead>\n",
              "    <tr style=\"text-align: right;\">\n",
              "      <th></th>\n",
              "      <th>outgoing_mins_per_month</th>\n",
              "      <th>outgoing_sms_per_month</th>\n",
              "      <th>monthly_mb</th>\n",
              "      <th>use_id</th>\n",
              "    </tr>\n",
              "  </thead>\n",
              "  <tbody>\n",
              "    <tr>\n",
              "      <th>0</th>\n",
              "      <td>21.97</td>\n",
              "      <td>4.82</td>\n",
              "      <td>1557.33</td>\n",
              "      <td>22787</td>\n",
              "    </tr>\n",
              "    <tr>\n",
              "      <th>1</th>\n",
              "      <td>1710.08</td>\n",
              "      <td>136.88</td>\n",
              "      <td>7267.55</td>\n",
              "      <td>22788</td>\n",
              "    </tr>\n",
              "    <tr>\n",
              "      <th>2</th>\n",
              "      <td>1710.08</td>\n",
              "      <td>136.88</td>\n",
              "      <td>7267.55</td>\n",
              "      <td>22789</td>\n",
              "    </tr>\n",
              "    <tr>\n",
              "      <th>3</th>\n",
              "      <td>94.46</td>\n",
              "      <td>35.17</td>\n",
              "      <td>519.12</td>\n",
              "      <td>22790</td>\n",
              "    </tr>\n",
              "    <tr>\n",
              "      <th>4</th>\n",
              "      <td>71.59</td>\n",
              "      <td>79.26</td>\n",
              "      <td>1557.33</td>\n",
              "      <td>22792</td>\n",
              "    </tr>\n",
              "  </tbody>\n",
              "</table>\n",
              "</div>"
            ],
            "text/plain": [
              "   outgoing_mins_per_month  outgoing_sms_per_month  monthly_mb  use_id\n",
              "0                    21.97                    4.82     1557.33   22787\n",
              "1                  1710.08                  136.88     7267.55   22788\n",
              "2                  1710.08                  136.88     7267.55   22789\n",
              "3                    94.46                   35.17      519.12   22790\n",
              "4                    71.59                   79.26     1557.33   22792"
            ]
          },
          "metadata": {
            "tags": []
          },
          "execution_count": 3
        }
      ]
    },
    {
      "cell_type": "code",
      "metadata": {
        "id": "YCVbXWWq43zc",
        "colab_type": "code",
        "colab": {
          "base_uri": "https://localhost:8080/",
          "height": 198
        },
        "outputId": "a0488ec0-b4ab-4b46-a15b-5298a91c5e28"
      },
      "source": [
        "user_device.head()"
      ],
      "execution_count": 4,
      "outputs": [
        {
          "output_type": "execute_result",
          "data": {
            "text/html": [
              "<div>\n",
              "<style scoped>\n",
              "    .dataframe tbody tr th:only-of-type {\n",
              "        vertical-align: middle;\n",
              "    }\n",
              "\n",
              "    .dataframe tbody tr th {\n",
              "        vertical-align: top;\n",
              "    }\n",
              "\n",
              "    .dataframe thead th {\n",
              "        text-align: right;\n",
              "    }\n",
              "</style>\n",
              "<table border=\"1\" class=\"dataframe\">\n",
              "  <thead>\n",
              "    <tr style=\"text-align: right;\">\n",
              "      <th></th>\n",
              "      <th>use_id</th>\n",
              "      <th>user_id</th>\n",
              "      <th>platform</th>\n",
              "      <th>platform_version</th>\n",
              "      <th>device</th>\n",
              "      <th>use_type_id</th>\n",
              "    </tr>\n",
              "  </thead>\n",
              "  <tbody>\n",
              "    <tr>\n",
              "      <th>0</th>\n",
              "      <td>22782</td>\n",
              "      <td>26980</td>\n",
              "      <td>ios</td>\n",
              "      <td>10.2</td>\n",
              "      <td>iPhone7,2</td>\n",
              "      <td>2</td>\n",
              "    </tr>\n",
              "    <tr>\n",
              "      <th>1</th>\n",
              "      <td>22783</td>\n",
              "      <td>29628</td>\n",
              "      <td>android</td>\n",
              "      <td>6.0</td>\n",
              "      <td>Nexus 5</td>\n",
              "      <td>3</td>\n",
              "    </tr>\n",
              "    <tr>\n",
              "      <th>2</th>\n",
              "      <td>22784</td>\n",
              "      <td>28473</td>\n",
              "      <td>android</td>\n",
              "      <td>5.1</td>\n",
              "      <td>SM-G903F</td>\n",
              "      <td>1</td>\n",
              "    </tr>\n",
              "    <tr>\n",
              "      <th>3</th>\n",
              "      <td>22785</td>\n",
              "      <td>15200</td>\n",
              "      <td>ios</td>\n",
              "      <td>10.2</td>\n",
              "      <td>iPhone7,2</td>\n",
              "      <td>3</td>\n",
              "    </tr>\n",
              "    <tr>\n",
              "      <th>4</th>\n",
              "      <td>22786</td>\n",
              "      <td>28239</td>\n",
              "      <td>android</td>\n",
              "      <td>6.0</td>\n",
              "      <td>ONE E1003</td>\n",
              "      <td>1</td>\n",
              "    </tr>\n",
              "  </tbody>\n",
              "</table>\n",
              "</div>"
            ],
            "text/plain": [
              "   use_id  user_id platform  platform_version     device  use_type_id\n",
              "0   22782    26980      ios              10.2  iPhone7,2            2\n",
              "1   22783    29628  android               6.0    Nexus 5            3\n",
              "2   22784    28473  android               5.1   SM-G903F            1\n",
              "3   22785    15200      ios              10.2  iPhone7,2            3\n",
              "4   22786    28239  android               6.0  ONE E1003            1"
            ]
          },
          "metadata": {
            "tags": []
          },
          "execution_count": 4
        }
      ]
    },
    {
      "cell_type": "code",
      "metadata": {
        "id": "awE_pXrM487S",
        "colab_type": "code",
        "colab": {
          "base_uri": "https://localhost:8080/",
          "height": 348
        },
        "outputId": "1bcffcaa-2660-4227-d583-6ba065f45060"
      },
      "source": [
        "devices.head(10)"
      ],
      "execution_count": 5,
      "outputs": [
        {
          "output_type": "execute_result",
          "data": {
            "text/html": [
              "<div>\n",
              "<style scoped>\n",
              "    .dataframe tbody tr th:only-of-type {\n",
              "        vertical-align: middle;\n",
              "    }\n",
              "\n",
              "    .dataframe tbody tr th {\n",
              "        vertical-align: top;\n",
              "    }\n",
              "\n",
              "    .dataframe thead th {\n",
              "        text-align: right;\n",
              "    }\n",
              "</style>\n",
              "<table border=\"1\" class=\"dataframe\">\n",
              "  <thead>\n",
              "    <tr style=\"text-align: right;\">\n",
              "      <th></th>\n",
              "      <th>manufacturer</th>\n",
              "      <th>Marketing Name</th>\n",
              "      <th>Device</th>\n",
              "      <th>Model</th>\n",
              "    </tr>\n",
              "  </thead>\n",
              "  <tbody>\n",
              "    <tr>\n",
              "      <th>0</th>\n",
              "      <td>NaN</td>\n",
              "      <td>NaN</td>\n",
              "      <td>AD681H</td>\n",
              "      <td>Smartfren Andromax AD681H</td>\n",
              "    </tr>\n",
              "    <tr>\n",
              "      <th>1</th>\n",
              "      <td>NaN</td>\n",
              "      <td>NaN</td>\n",
              "      <td>FJL21</td>\n",
              "      <td>FJL21</td>\n",
              "    </tr>\n",
              "    <tr>\n",
              "      <th>2</th>\n",
              "      <td>NaN</td>\n",
              "      <td>NaN</td>\n",
              "      <td>T31</td>\n",
              "      <td>Panasonic T31</td>\n",
              "    </tr>\n",
              "    <tr>\n",
              "      <th>3</th>\n",
              "      <td>NaN</td>\n",
              "      <td>NaN</td>\n",
              "      <td>hws7721g</td>\n",
              "      <td>MediaPad 7 Youth 2</td>\n",
              "    </tr>\n",
              "    <tr>\n",
              "      <th>4</th>\n",
              "      <td>3Q</td>\n",
              "      <td>OC1020A</td>\n",
              "      <td>OC1020A</td>\n",
              "      <td>OC1020A</td>\n",
              "    </tr>\n",
              "    <tr>\n",
              "      <th>5</th>\n",
              "      <td>7Eleven</td>\n",
              "      <td>IN265</td>\n",
              "      <td>IN265</td>\n",
              "      <td>IN265</td>\n",
              "    </tr>\n",
              "    <tr>\n",
              "      <th>6</th>\n",
              "      <td>A.O.I. ELECTRONICS FACTORY</td>\n",
              "      <td>A.O.I.</td>\n",
              "      <td>TR10CS1_11</td>\n",
              "      <td>TR10CS1</td>\n",
              "    </tr>\n",
              "    <tr>\n",
              "      <th>7</th>\n",
              "      <td>AG Mobile</td>\n",
              "      <td>AG BOOST 2</td>\n",
              "      <td>BOOST2</td>\n",
              "      <td>E4010</td>\n",
              "    </tr>\n",
              "    <tr>\n",
              "      <th>8</th>\n",
              "      <td>AG Mobile</td>\n",
              "      <td>AG Flair</td>\n",
              "      <td>AG_Flair</td>\n",
              "      <td>Flair</td>\n",
              "    </tr>\n",
              "    <tr>\n",
              "      <th>9</th>\n",
              "      <td>AG Mobile</td>\n",
              "      <td>AG Go Tab Access 2</td>\n",
              "      <td>AG_Go_Tab_Access_2</td>\n",
              "      <td>AG_Go_Tab_Access_2</td>\n",
              "    </tr>\n",
              "  </tbody>\n",
              "</table>\n",
              "</div>"
            ],
            "text/plain": [
              "                 manufacturer  ...                      Model\n",
              "0                         NaN  ...  Smartfren Andromax AD681H\n",
              "1                         NaN  ...                      FJL21\n",
              "2                         NaN  ...              Panasonic T31\n",
              "3                         NaN  ...         MediaPad 7 Youth 2\n",
              "4                          3Q  ...                    OC1020A\n",
              "5                     7Eleven  ...                      IN265\n",
              "6  A.O.I. ELECTRONICS FACTORY  ...                    TR10CS1\n",
              "7                   AG Mobile  ...                      E4010\n",
              "8                   AG Mobile  ...                      Flair\n",
              "9                   AG Mobile  ...         AG_Go_Tab_Access_2\n",
              "\n",
              "[10 rows x 4 columns]"
            ]
          },
          "metadata": {
            "tags": []
          },
          "execution_count": 5
        }
      ]
    },
    {
      "cell_type": "markdown",
      "metadata": {
        "id": "1f5fItQZ5CGx",
        "colab_type": "text"
      },
      "source": [
        "# **First merge**\n",
        "\n",
        "We're trying to get the average usage figures for different types of devices. So we need to get the user's device code from user_usage as a column on user_usage, and then get the device's manufacturer from devices as a column on the result.\n",
        "\n",
        "First, we merge user_usage with user_device with \"use_id\" as our common column\n",
        "![alt text](https://shanelynnwebsite-mid9n9g1q9y8tt.netdna-ssl.com/wp-content/uploads/2017/02/pd-merge_intro_image.png)"
      ]
    },
    {
      "cell_type": "code",
      "metadata": {
        "id": "KvFDMoP05H6I",
        "colab_type": "code",
        "colab": {
          "base_uri": "https://localhost:8080/",
          "height": 198
        },
        "outputId": "c91d4163-3049-42f4-8cd5-6b71a331854f"
      },
      "source": [
        "result = pd.merge(user_usage,\n",
        "                 user_device[['use_id', 'platform', 'device']],\n",
        "                 on='use_id')\n",
        "result.head()"
      ],
      "execution_count": 6,
      "outputs": [
        {
          "output_type": "execute_result",
          "data": {
            "text/html": [
              "<div>\n",
              "<style scoped>\n",
              "    .dataframe tbody tr th:only-of-type {\n",
              "        vertical-align: middle;\n",
              "    }\n",
              "\n",
              "    .dataframe tbody tr th {\n",
              "        vertical-align: top;\n",
              "    }\n",
              "\n",
              "    .dataframe thead th {\n",
              "        text-align: right;\n",
              "    }\n",
              "</style>\n",
              "<table border=\"1\" class=\"dataframe\">\n",
              "  <thead>\n",
              "    <tr style=\"text-align: right;\">\n",
              "      <th></th>\n",
              "      <th>outgoing_mins_per_month</th>\n",
              "      <th>outgoing_sms_per_month</th>\n",
              "      <th>monthly_mb</th>\n",
              "      <th>use_id</th>\n",
              "      <th>platform</th>\n",
              "      <th>device</th>\n",
              "    </tr>\n",
              "  </thead>\n",
              "  <tbody>\n",
              "    <tr>\n",
              "      <th>0</th>\n",
              "      <td>21.97</td>\n",
              "      <td>4.82</td>\n",
              "      <td>1557.33</td>\n",
              "      <td>22787</td>\n",
              "      <td>android</td>\n",
              "      <td>GT-I9505</td>\n",
              "    </tr>\n",
              "    <tr>\n",
              "      <th>1</th>\n",
              "      <td>1710.08</td>\n",
              "      <td>136.88</td>\n",
              "      <td>7267.55</td>\n",
              "      <td>22788</td>\n",
              "      <td>android</td>\n",
              "      <td>SM-G930F</td>\n",
              "    </tr>\n",
              "    <tr>\n",
              "      <th>2</th>\n",
              "      <td>1710.08</td>\n",
              "      <td>136.88</td>\n",
              "      <td>7267.55</td>\n",
              "      <td>22789</td>\n",
              "      <td>android</td>\n",
              "      <td>SM-G930F</td>\n",
              "    </tr>\n",
              "    <tr>\n",
              "      <th>3</th>\n",
              "      <td>94.46</td>\n",
              "      <td>35.17</td>\n",
              "      <td>519.12</td>\n",
              "      <td>22790</td>\n",
              "      <td>android</td>\n",
              "      <td>D2303</td>\n",
              "    </tr>\n",
              "    <tr>\n",
              "      <th>4</th>\n",
              "      <td>71.59</td>\n",
              "      <td>79.26</td>\n",
              "      <td>1557.33</td>\n",
              "      <td>22792</td>\n",
              "      <td>android</td>\n",
              "      <td>SM-G361F</td>\n",
              "    </tr>\n",
              "  </tbody>\n",
              "</table>\n",
              "</div>"
            ],
            "text/plain": [
              "   outgoing_mins_per_month  outgoing_sms_per_month  ...  platform    device\n",
              "0                    21.97                    4.82  ...   android  GT-I9505\n",
              "1                  1710.08                  136.88  ...   android  SM-G930F\n",
              "2                  1710.08                  136.88  ...   android  SM-G930F\n",
              "3                    94.46                   35.17  ...   android     D2303\n",
              "4                    71.59                   79.26  ...   android  SM-G361F\n",
              "\n",
              "[5 rows x 6 columns]"
            ]
          },
          "metadata": {
            "tags": []
          },
          "execution_count": 6
        }
      ]
    },
    {
      "cell_type": "code",
      "metadata": {
        "id": "bG_SljcA5K_O",
        "colab_type": "code",
        "colab": {
          "base_uri": "https://localhost:8080/",
          "height": 54
        },
        "outputId": "283d7e7b-67e6-4241-83a4-a0aafc7891a0"
      },
      "source": [
        "print(\"user_usage dimensions: {}\".format(user_usage.shape))\n",
        "print(\"user_device dimensions: {}\".format(user_device[['use_id', 'platform', 'device']].shape))\n"
      ],
      "execution_count": 7,
      "outputs": [
        {
          "output_type": "stream",
          "text": [
            "user_usage dimensions: (240, 4)\n",
            "user_device dimensions: (272, 3)\n"
          ],
          "name": "stdout"
        }
      ]
    },
    {
      "cell_type": "code",
      "metadata": {
        "id": "lxEdOTwu5NTP",
        "colab_type": "code",
        "colab": {
          "base_uri": "https://localhost:8080/",
          "height": 72
        },
        "outputId": "a3f58260-41fc-42bd-8c96-508bcf439963"
      },
      "source": [
        "user_usage['use_id'].isin(user_device['use_id']).value_counts()"
      ],
      "execution_count": 8,
      "outputs": [
        {
          "output_type": "execute_result",
          "data": {
            "text/plain": [
              "True     159\n",
              "False     81\n",
              "Name: use_id, dtype: int64"
            ]
          },
          "metadata": {
            "tags": []
          },
          "execution_count": 8
        }
      ]
    },
    {
      "cell_type": "markdown",
      "metadata": {
        "id": "UKkDWhJ5Mrcl",
        "colab_type": "text"
      },
      "source": [
        "#**Other Merge Types**\n",
        "\n",
        "There are three different types of merges available in Pandas. These merge types are common across most database and data-orientated languages (SQL, R, SAS) and are typically referred to as “joins”. If you don’t know them, learn them now.\n",
        "\n",
        "\n",
        "\n",
        "\n",
        "**Inner Merge / Inner join**– The default Pandas behaviour, only keep rows where the merge “on” value exists in both the left and right dataframes.<br>\n",
        "**Left Merge / Left outer join** – (aka left merge or left join) Keep every row in the left dataframe. Where there are missing values of the “on” variable in the right dataframe, add empty / NaN values in the result.<br>\n",
        "**Right Merge / Right outer join** – (aka right merge or right join) Keep every row in the right dataframe. Where there are missing values of the “on” variable in the left column, add empty / NaN values in the result.<br>\n",
        "**Outer Merge / Full outer join** – A full outer join returns all the rows from the left dataframe, all the rows from the right dataframe, and matches up rows where possible, with NaNs elsewhere.\n",
        "\n",
        "![alt text](https://shanelynnwebsite-mid9n9g1q9y8tt.netdna-ssl.com/wp-content/uploads/2017/03/join-types-merge-names.jpg)\n"
      ]
    },
    {
      "cell_type": "markdown",
      "metadata": {
        "id": "dCBK5xma5RXF",
        "colab_type": "text"
      },
      "source": [
        "# **Left merge example**\n",
        "\n",
        "A left merge, or left join, between two dataframes keeps all of the rows and values from the left dataframe, in this case \"user_usage\". Rows from the right dataframe will be kept in the result only where there is a match in the merge variable in the right dataframe, and NaN values will be in the result where not."
      ]
    },
    {
      "cell_type": "code",
      "metadata": {
        "id": "WbosQAJz5QZX",
        "colab_type": "code",
        "colab": {
          "base_uri": "https://localhost:8080/",
          "height": 72
        },
        "outputId": "8a33bd65-ddeb-4908-ba3c-3c7303c6f06d"
      },
      "source": [
        "result = pd.merge(user_usage,\n",
        "                 user_device[['use_id', 'platform', 'device']],\n",
        "                 on='use_id', how='left')\n",
        "print(\"user_usage dimensions: {}\".format(user_usage.shape))\n",
        "print(\"result dimensions: {}\".format(result.shape))\n",
        "print(\"There are {} missing values in the result.\".format(\n",
        "        result['device'].isnull().sum()))"
      ],
      "execution_count": 9,
      "outputs": [
        {
          "output_type": "stream",
          "text": [
            "user_usage dimensions: (240, 4)\n",
            "result dimensions: (240, 6)\n",
            "There are 81 missing values in the result.\n"
          ],
          "name": "stdout"
        }
      ]
    },
    {
      "cell_type": "code",
      "metadata": {
        "id": "fUcfj-EC5haF",
        "colab_type": "code",
        "colab": {
          "base_uri": "https://localhost:8080/",
          "height": 198
        },
        "outputId": "b8cbf6a8-25ca-4c88-ba58-dfc83d57fb56"
      },
      "source": [
        "result.head()"
      ],
      "execution_count": 10,
      "outputs": [
        {
          "output_type": "execute_result",
          "data": {
            "text/html": [
              "<div>\n",
              "<style scoped>\n",
              "    .dataframe tbody tr th:only-of-type {\n",
              "        vertical-align: middle;\n",
              "    }\n",
              "\n",
              "    .dataframe tbody tr th {\n",
              "        vertical-align: top;\n",
              "    }\n",
              "\n",
              "    .dataframe thead th {\n",
              "        text-align: right;\n",
              "    }\n",
              "</style>\n",
              "<table border=\"1\" class=\"dataframe\">\n",
              "  <thead>\n",
              "    <tr style=\"text-align: right;\">\n",
              "      <th></th>\n",
              "      <th>outgoing_mins_per_month</th>\n",
              "      <th>outgoing_sms_per_month</th>\n",
              "      <th>monthly_mb</th>\n",
              "      <th>use_id</th>\n",
              "      <th>platform</th>\n",
              "      <th>device</th>\n",
              "    </tr>\n",
              "  </thead>\n",
              "  <tbody>\n",
              "    <tr>\n",
              "      <th>0</th>\n",
              "      <td>21.97</td>\n",
              "      <td>4.82</td>\n",
              "      <td>1557.33</td>\n",
              "      <td>22787</td>\n",
              "      <td>android</td>\n",
              "      <td>GT-I9505</td>\n",
              "    </tr>\n",
              "    <tr>\n",
              "      <th>1</th>\n",
              "      <td>1710.08</td>\n",
              "      <td>136.88</td>\n",
              "      <td>7267.55</td>\n",
              "      <td>22788</td>\n",
              "      <td>android</td>\n",
              "      <td>SM-G930F</td>\n",
              "    </tr>\n",
              "    <tr>\n",
              "      <th>2</th>\n",
              "      <td>1710.08</td>\n",
              "      <td>136.88</td>\n",
              "      <td>7267.55</td>\n",
              "      <td>22789</td>\n",
              "      <td>android</td>\n",
              "      <td>SM-G930F</td>\n",
              "    </tr>\n",
              "    <tr>\n",
              "      <th>3</th>\n",
              "      <td>94.46</td>\n",
              "      <td>35.17</td>\n",
              "      <td>519.12</td>\n",
              "      <td>22790</td>\n",
              "      <td>android</td>\n",
              "      <td>D2303</td>\n",
              "    </tr>\n",
              "    <tr>\n",
              "      <th>4</th>\n",
              "      <td>71.59</td>\n",
              "      <td>79.26</td>\n",
              "      <td>1557.33</td>\n",
              "      <td>22792</td>\n",
              "      <td>android</td>\n",
              "      <td>SM-G361F</td>\n",
              "    </tr>\n",
              "  </tbody>\n",
              "</table>\n",
              "</div>"
            ],
            "text/plain": [
              "   outgoing_mins_per_month  outgoing_sms_per_month  ...  platform    device\n",
              "0                    21.97                    4.82  ...   android  GT-I9505\n",
              "1                  1710.08                  136.88  ...   android  SM-G930F\n",
              "2                  1710.08                  136.88  ...   android  SM-G930F\n",
              "3                    94.46                   35.17  ...   android     D2303\n",
              "4                    71.59                   79.26  ...   android  SM-G361F\n",
              "\n",
              "[5 rows x 6 columns]"
            ]
          },
          "metadata": {
            "tags": []
          },
          "execution_count": 10
        }
      ]
    },
    {
      "cell_type": "code",
      "metadata": {
        "id": "vTfWsouN5j3C",
        "colab_type": "code",
        "colab": {
          "base_uri": "https://localhost:8080/",
          "height": 198
        },
        "outputId": "ffd03340-a94d-4d53-a1d0-cf56b9ecb003"
      },
      "source": [
        "result.tail()"
      ],
      "execution_count": 11,
      "outputs": [
        {
          "output_type": "execute_result",
          "data": {
            "text/html": [
              "<div>\n",
              "<style scoped>\n",
              "    .dataframe tbody tr th:only-of-type {\n",
              "        vertical-align: middle;\n",
              "    }\n",
              "\n",
              "    .dataframe tbody tr th {\n",
              "        vertical-align: top;\n",
              "    }\n",
              "\n",
              "    .dataframe thead th {\n",
              "        text-align: right;\n",
              "    }\n",
              "</style>\n",
              "<table border=\"1\" class=\"dataframe\">\n",
              "  <thead>\n",
              "    <tr style=\"text-align: right;\">\n",
              "      <th></th>\n",
              "      <th>outgoing_mins_per_month</th>\n",
              "      <th>outgoing_sms_per_month</th>\n",
              "      <th>monthly_mb</th>\n",
              "      <th>use_id</th>\n",
              "      <th>platform</th>\n",
              "      <th>device</th>\n",
              "    </tr>\n",
              "  </thead>\n",
              "  <tbody>\n",
              "    <tr>\n",
              "      <th>235</th>\n",
              "      <td>260.66</td>\n",
              "      <td>68.44</td>\n",
              "      <td>896.96</td>\n",
              "      <td>25008</td>\n",
              "      <td>NaN</td>\n",
              "      <td>NaN</td>\n",
              "    </tr>\n",
              "    <tr>\n",
              "      <th>236</th>\n",
              "      <td>97.12</td>\n",
              "      <td>36.50</td>\n",
              "      <td>2815.00</td>\n",
              "      <td>25040</td>\n",
              "      <td>NaN</td>\n",
              "      <td>NaN</td>\n",
              "    </tr>\n",
              "    <tr>\n",
              "      <th>237</th>\n",
              "      <td>355.93</td>\n",
              "      <td>12.37</td>\n",
              "      <td>6828.09</td>\n",
              "      <td>25046</td>\n",
              "      <td>NaN</td>\n",
              "      <td>NaN</td>\n",
              "    </tr>\n",
              "    <tr>\n",
              "      <th>238</th>\n",
              "      <td>632.06</td>\n",
              "      <td>120.46</td>\n",
              "      <td>1453.16</td>\n",
              "      <td>25058</td>\n",
              "      <td>NaN</td>\n",
              "      <td>NaN</td>\n",
              "    </tr>\n",
              "    <tr>\n",
              "      <th>239</th>\n",
              "      <td>488.70</td>\n",
              "      <td>906.92</td>\n",
              "      <td>3089.85</td>\n",
              "      <td>25220</td>\n",
              "      <td>NaN</td>\n",
              "      <td>NaN</td>\n",
              "    </tr>\n",
              "  </tbody>\n",
              "</table>\n",
              "</div>"
            ],
            "text/plain": [
              "     outgoing_mins_per_month  outgoing_sms_per_month  ...  platform  device\n",
              "235                   260.66                   68.44  ...       NaN     NaN\n",
              "236                    97.12                   36.50  ...       NaN     NaN\n",
              "237                   355.93                   12.37  ...       NaN     NaN\n",
              "238                   632.06                  120.46  ...       NaN     NaN\n",
              "239                   488.70                  906.92  ...       NaN     NaN\n",
              "\n",
              "[5 rows x 6 columns]"
            ]
          },
          "metadata": {
            "tags": []
          },
          "execution_count": 11
        }
      ]
    },
    {
      "cell_type": "markdown",
      "metadata": {
        "id": "XcDJRV975m-1",
        "colab_type": "text"
      },
      "source": [
        "# <b>Right merge example</b>\n",
        "\n",
        "A right merge, or right join, between two dataframes keeps all of the rows and values from the right dataframe, in this case \"user_device\". Rows from the left dataframe will be kept where there is a match in the merge variable, and NaN values will be in the result where not."
      ]
    },
    {
      "cell_type": "code",
      "metadata": {
        "id": "XN6cbWeJ5sex",
        "colab_type": "code",
        "colab": {
          "base_uri": "https://localhost:8080/",
          "height": 90
        },
        "outputId": "6e628318-db8a-4f9d-ff8c-c22be98a01c4"
      },
      "source": [
        "result = pd.merge(user_usage,\n",
        "                 user_device[['use_id', 'platform', 'device']],\n",
        "                 on='use_id', how='right')\n",
        "print(\"user_device dimensions: {}\".format(user_device.shape))\n",
        "print(\"result dimensions: {}\".format(result.shape))\n",
        "print(\"There are {} missing values in the 'monthly_mb' column in the result.\".format(\n",
        "        result['monthly_mb'].isnull().sum()))\n",
        "print(\"There are {} missing values in the 'platform' column in the result.\".format(\n",
        "        result['platform'].isnull().sum()))"
      ],
      "execution_count": 12,
      "outputs": [
        {
          "output_type": "stream",
          "text": [
            "user_device dimensions: (272, 6)\n",
            "result dimensions: (272, 6)\n",
            "There are 113 missing values in the 'monthly_mb' column in the result.\n",
            "There are 0 missing values in the 'platform' column in the result.\n"
          ],
          "name": "stdout"
        }
      ]
    },
    {
      "cell_type": "markdown",
      "metadata": {
        "id": "qGS4J5xT5wtW",
        "colab_type": "text"
      },
      "source": [
        "#<b> Outer merge example</b>\n",
        "\n",
        "A full outer join, or outer merge, keeps all rows from the left and right dataframe in the result. Rows will be aligned where there is shared join values between the left and right, and rows with NaN values, in either the left-originating or right-originating columns will be, will be left in the result where there is no shared join value.\n",
        "\n",
        "In the final result, a subset of rows should have no missing values. These rows are the rows where there was a match between the merge column in the left and right dataframes. These rows are the same values as found by our inner merge result before."
      ]
    },
    {
      "cell_type": "code",
      "metadata": {
        "id": "WxL8uIcI515K",
        "colab_type": "code",
        "colab": {
          "base_uri": "https://localhost:8080/",
          "height": 72
        },
        "outputId": "a3b51ef2-f7ce-4223-b399-aca925b3a421"
      },
      "source": [
        "print(\"There are {} unique values of use_id in our dataframes.\".format(\n",
        "        pd.concat([user_usage['use_id'], user_device['use_id']]).unique().shape[0]))\n",
        "result = pd.merge(user_usage,\n",
        "                 user_device[['use_id', 'platform', 'device']],\n",
        "                 on='use_id', how='outer', indicator=True)\n",
        "\n",
        "print(\"Outer merge result has {} rows.\".format(result.shape))\n",
        "\n",
        "print(\"There are {} rows with no missing values.\".format(\n",
        "    (result.apply(lambda x: x.isnull().sum(), axis=1) == 0).sum()))"
      ],
      "execution_count": 13,
      "outputs": [
        {
          "output_type": "stream",
          "text": [
            "There are 353 unique values of use_id in our dataframes.\n",
            "Outer merge result has (353, 7) rows.\n",
            "There are 159 rows with no missing values.\n"
          ],
          "name": "stdout"
        }
      ]
    },
    {
      "cell_type": "code",
      "metadata": {
        "id": "wD8PXkhx54h4",
        "colab_type": "code",
        "colab": {
          "base_uri": "https://localhost:8080/",
          "height": 228
        },
        "outputId": "cf91afb1-0948-4f78-d44d-dec235ccf925"
      },
      "source": [
        "result.iloc[[0, 1, 200,201, 350,351]]"
      ],
      "execution_count": 14,
      "outputs": [
        {
          "output_type": "execute_result",
          "data": {
            "text/html": [
              "<div>\n",
              "<style scoped>\n",
              "    .dataframe tbody tr th:only-of-type {\n",
              "        vertical-align: middle;\n",
              "    }\n",
              "\n",
              "    .dataframe tbody tr th {\n",
              "        vertical-align: top;\n",
              "    }\n",
              "\n",
              "    .dataframe thead th {\n",
              "        text-align: right;\n",
              "    }\n",
              "</style>\n",
              "<table border=\"1\" class=\"dataframe\">\n",
              "  <thead>\n",
              "    <tr style=\"text-align: right;\">\n",
              "      <th></th>\n",
              "      <th>outgoing_mins_per_month</th>\n",
              "      <th>outgoing_sms_per_month</th>\n",
              "      <th>monthly_mb</th>\n",
              "      <th>use_id</th>\n",
              "      <th>platform</th>\n",
              "      <th>device</th>\n",
              "      <th>_merge</th>\n",
              "    </tr>\n",
              "  </thead>\n",
              "  <tbody>\n",
              "    <tr>\n",
              "      <th>0</th>\n",
              "      <td>21.97</td>\n",
              "      <td>4.82</td>\n",
              "      <td>1557.33</td>\n",
              "      <td>22787</td>\n",
              "      <td>android</td>\n",
              "      <td>GT-I9505</td>\n",
              "      <td>both</td>\n",
              "    </tr>\n",
              "    <tr>\n",
              "      <th>1</th>\n",
              "      <td>1710.08</td>\n",
              "      <td>136.88</td>\n",
              "      <td>7267.55</td>\n",
              "      <td>22788</td>\n",
              "      <td>android</td>\n",
              "      <td>SM-G930F</td>\n",
              "      <td>both</td>\n",
              "    </tr>\n",
              "    <tr>\n",
              "      <th>200</th>\n",
              "      <td>28.79</td>\n",
              "      <td>29.42</td>\n",
              "      <td>3114.67</td>\n",
              "      <td>23988</td>\n",
              "      <td>NaN</td>\n",
              "      <td>NaN</td>\n",
              "      <td>left_only</td>\n",
              "    </tr>\n",
              "    <tr>\n",
              "      <th>201</th>\n",
              "      <td>616.56</td>\n",
              "      <td>99.85</td>\n",
              "      <td>5414.14</td>\n",
              "      <td>24006</td>\n",
              "      <td>NaN</td>\n",
              "      <td>NaN</td>\n",
              "      <td>left_only</td>\n",
              "    </tr>\n",
              "    <tr>\n",
              "      <th>350</th>\n",
              "      <td>NaN</td>\n",
              "      <td>NaN</td>\n",
              "      <td>NaN</td>\n",
              "      <td>23050</td>\n",
              "      <td>ios</td>\n",
              "      <td>iPhone7,2</td>\n",
              "      <td>right_only</td>\n",
              "    </tr>\n",
              "    <tr>\n",
              "      <th>351</th>\n",
              "      <td>NaN</td>\n",
              "      <td>NaN</td>\n",
              "      <td>NaN</td>\n",
              "      <td>23051</td>\n",
              "      <td>ios</td>\n",
              "      <td>iPhone7,2</td>\n",
              "      <td>right_only</td>\n",
              "    </tr>\n",
              "  </tbody>\n",
              "</table>\n",
              "</div>"
            ],
            "text/plain": [
              "     outgoing_mins_per_month  outgoing_sms_per_month  ...     device      _merge\n",
              "0                      21.97                    4.82  ...   GT-I9505        both\n",
              "1                    1710.08                  136.88  ...   SM-G930F        both\n",
              "200                    28.79                   29.42  ...        NaN   left_only\n",
              "201                   616.56                   99.85  ...        NaN   left_only\n",
              "350                      NaN                     NaN  ...  iPhone7,2  right_only\n",
              "351                      NaN                     NaN  ...  iPhone7,2  right_only\n",
              "\n",
              "[6 rows x 7 columns]"
            ]
          },
          "metadata": {
            "tags": []
          },
          "execution_count": 14
        }
      ]
    },
    {
      "cell_type": "markdown",
      "metadata": {
        "id": "iX0j3ha757q1",
        "colab_type": "text"
      },
      "source": [
        "#**Final merge - adding device manufacturer**\n"
      ]
    },
    {
      "cell_type": "code",
      "metadata": {
        "id": "5dXEzwHg6CIl",
        "colab_type": "code",
        "colab": {
          "base_uri": "https://localhost:8080/",
          "height": 198
        },
        "outputId": "d96d80e2-59aa-4094-8849-6e650124e5a2"
      },
      "source": [
        "# First, add the platform and device to the user usage.\n",
        "result = pd.merge(user_usage,\n",
        "                 user_device[['use_id', 'platform', 'device']],\n",
        "                 on='use_id',\n",
        "                 how='left')\n",
        "\n",
        "# Now, based on the \"device\" column in result, match the \"Model\" column in devices.\n",
        "devices.rename(columns={\"Retail Branding\": \"manufacturer\"}, inplace=True)\n",
        "result = pd.merge(result, \n",
        "                  devices[['manufacturer', 'Model']],\n",
        "                  left_on='device',\n",
        "                  right_on='Model',\n",
        "                  how='left')\n",
        "\n",
        "result.head()\n",
        "                  \n",
        "                               "
      ],
      "execution_count": 15,
      "outputs": [
        {
          "output_type": "execute_result",
          "data": {
            "text/html": [
              "<div>\n",
              "<style scoped>\n",
              "    .dataframe tbody tr th:only-of-type {\n",
              "        vertical-align: middle;\n",
              "    }\n",
              "\n",
              "    .dataframe tbody tr th {\n",
              "        vertical-align: top;\n",
              "    }\n",
              "\n",
              "    .dataframe thead th {\n",
              "        text-align: right;\n",
              "    }\n",
              "</style>\n",
              "<table border=\"1\" class=\"dataframe\">\n",
              "  <thead>\n",
              "    <tr style=\"text-align: right;\">\n",
              "      <th></th>\n",
              "      <th>outgoing_mins_per_month</th>\n",
              "      <th>outgoing_sms_per_month</th>\n",
              "      <th>monthly_mb</th>\n",
              "      <th>use_id</th>\n",
              "      <th>platform</th>\n",
              "      <th>device</th>\n",
              "      <th>manufacturer</th>\n",
              "      <th>Model</th>\n",
              "    </tr>\n",
              "  </thead>\n",
              "  <tbody>\n",
              "    <tr>\n",
              "      <th>0</th>\n",
              "      <td>21.97</td>\n",
              "      <td>4.82</td>\n",
              "      <td>1557.33</td>\n",
              "      <td>22787</td>\n",
              "      <td>android</td>\n",
              "      <td>GT-I9505</td>\n",
              "      <td>Samsung</td>\n",
              "      <td>GT-I9505</td>\n",
              "    </tr>\n",
              "    <tr>\n",
              "      <th>1</th>\n",
              "      <td>1710.08</td>\n",
              "      <td>136.88</td>\n",
              "      <td>7267.55</td>\n",
              "      <td>22788</td>\n",
              "      <td>android</td>\n",
              "      <td>SM-G930F</td>\n",
              "      <td>Samsung</td>\n",
              "      <td>SM-G930F</td>\n",
              "    </tr>\n",
              "    <tr>\n",
              "      <th>2</th>\n",
              "      <td>1710.08</td>\n",
              "      <td>136.88</td>\n",
              "      <td>7267.55</td>\n",
              "      <td>22789</td>\n",
              "      <td>android</td>\n",
              "      <td>SM-G930F</td>\n",
              "      <td>Samsung</td>\n",
              "      <td>SM-G930F</td>\n",
              "    </tr>\n",
              "    <tr>\n",
              "      <th>3</th>\n",
              "      <td>94.46</td>\n",
              "      <td>35.17</td>\n",
              "      <td>519.12</td>\n",
              "      <td>22790</td>\n",
              "      <td>android</td>\n",
              "      <td>D2303</td>\n",
              "      <td>Sony</td>\n",
              "      <td>D2303</td>\n",
              "    </tr>\n",
              "    <tr>\n",
              "      <th>4</th>\n",
              "      <td>71.59</td>\n",
              "      <td>79.26</td>\n",
              "      <td>1557.33</td>\n",
              "      <td>22792</td>\n",
              "      <td>android</td>\n",
              "      <td>SM-G361F</td>\n",
              "      <td>Samsung</td>\n",
              "      <td>SM-G361F</td>\n",
              "    </tr>\n",
              "  </tbody>\n",
              "</table>\n",
              "</div>"
            ],
            "text/plain": [
              "   outgoing_mins_per_month  outgoing_sms_per_month  ...  manufacturer     Model\n",
              "0                    21.97                    4.82  ...       Samsung  GT-I9505\n",
              "1                  1710.08                  136.88  ...       Samsung  SM-G930F\n",
              "2                  1710.08                  136.88  ...       Samsung  SM-G930F\n",
              "3                    94.46                   35.17  ...          Sony     D2303\n",
              "4                    71.59                   79.26  ...       Samsung  SM-G361F\n",
              "\n",
              "[5 rows x 8 columns]"
            ]
          },
          "metadata": {
            "tags": []
          },
          "execution_count": 15
        }
      ]
    },
    {
      "cell_type": "code",
      "metadata": {
        "id": "DUGSjhrw6K8s",
        "colab_type": "code",
        "colab": {
          "base_uri": "https://localhost:8080/",
          "height": 78
        },
        "outputId": "db5019a5-6f79-4aba-9cf5-7ce00d16108e"
      },
      "source": [
        "devices[devices.Model == 'SM-G930F']"
      ],
      "execution_count": 16,
      "outputs": [
        {
          "output_type": "execute_result",
          "data": {
            "text/html": [
              "<div>\n",
              "<style scoped>\n",
              "    .dataframe tbody tr th:only-of-type {\n",
              "        vertical-align: middle;\n",
              "    }\n",
              "\n",
              "    .dataframe tbody tr th {\n",
              "        vertical-align: top;\n",
              "    }\n",
              "\n",
              "    .dataframe thead th {\n",
              "        text-align: right;\n",
              "    }\n",
              "</style>\n",
              "<table border=\"1\" class=\"dataframe\">\n",
              "  <thead>\n",
              "    <tr style=\"text-align: right;\">\n",
              "      <th></th>\n",
              "      <th>manufacturer</th>\n",
              "      <th>Marketing Name</th>\n",
              "      <th>Device</th>\n",
              "      <th>Model</th>\n",
              "    </tr>\n",
              "  </thead>\n",
              "  <tbody>\n",
              "    <tr>\n",
              "      <th>10381</th>\n",
              "      <td>Samsung</td>\n",
              "      <td>Galaxy S7</td>\n",
              "      <td>herolte</td>\n",
              "      <td>SM-G930F</td>\n",
              "    </tr>\n",
              "  </tbody>\n",
              "</table>\n",
              "</div>"
            ],
            "text/plain": [
              "      manufacturer Marketing Name   Device     Model\n",
              "10381      Samsung      Galaxy S7  herolte  SM-G930F"
            ]
          },
          "metadata": {
            "tags": []
          },
          "execution_count": 16
        }
      ]
    },
    {
      "cell_type": "code",
      "metadata": {
        "id": "9ohjl8Wo6RCD",
        "colab_type": "code",
        "colab": {
          "base_uri": "https://localhost:8080/",
          "height": 407
        },
        "outputId": "5c6a1a8a-5f61-4413-c9ad-39d340a8f5c0"
      },
      "source": [
        "devices[devices.Device.str.startswith('GT')]"
      ],
      "execution_count": 17,
      "outputs": [
        {
          "output_type": "execute_result",
          "data": {
            "text/html": [
              "<div>\n",
              "<style scoped>\n",
              "    .dataframe tbody tr th:only-of-type {\n",
              "        vertical-align: middle;\n",
              "    }\n",
              "\n",
              "    .dataframe tbody tr th {\n",
              "        vertical-align: top;\n",
              "    }\n",
              "\n",
              "    .dataframe thead th {\n",
              "        text-align: right;\n",
              "    }\n",
              "</style>\n",
              "<table border=\"1\" class=\"dataframe\">\n",
              "  <thead>\n",
              "    <tr style=\"text-align: right;\">\n",
              "      <th></th>\n",
              "      <th>manufacturer</th>\n",
              "      <th>Marketing Name</th>\n",
              "      <th>Device</th>\n",
              "      <th>Model</th>\n",
              "    </tr>\n",
              "  </thead>\n",
              "  <tbody>\n",
              "    <tr>\n",
              "      <th>1095</th>\n",
              "      <td>Bitmore</td>\n",
              "      <td>GTAB700</td>\n",
              "      <td>GTAB700</td>\n",
              "      <td>NID_7010</td>\n",
              "    </tr>\n",
              "    <tr>\n",
              "      <th>1096</th>\n",
              "      <td>Bitmore</td>\n",
              "      <td>GTAB900</td>\n",
              "      <td>GTAB900</td>\n",
              "      <td>S952</td>\n",
              "    </tr>\n",
              "    <tr>\n",
              "      <th>2402</th>\n",
              "      <td>Grundig</td>\n",
              "      <td>GTB1050</td>\n",
              "      <td>GTB1050</td>\n",
              "      <td>GTB 1050</td>\n",
              "    </tr>\n",
              "    <tr>\n",
              "      <th>2403</th>\n",
              "      <td>Grundig</td>\n",
              "      <td>GTB850</td>\n",
              "      <td>GTB850</td>\n",
              "      <td>GTB 850</td>\n",
              "    </tr>\n",
              "    <tr>\n",
              "      <th>2404</th>\n",
              "      <td>Grundig</td>\n",
              "      <td>TC69CA2</td>\n",
              "      <td>GTB801</td>\n",
              "      <td>GTB 801</td>\n",
              "    </tr>\n",
              "    <tr>\n",
              "      <th>...</th>\n",
              "      <td>...</td>\n",
              "      <td>...</td>\n",
              "      <td>...</td>\n",
              "      <td>...</td>\n",
              "    </tr>\n",
              "    <tr>\n",
              "      <th>10821</th>\n",
              "      <td>Samsung</td>\n",
              "      <td>Galaxy Y Pro</td>\n",
              "      <td>GT-B5510L</td>\n",
              "      <td>GT-B5510L</td>\n",
              "    </tr>\n",
              "    <tr>\n",
              "      <th>10822</th>\n",
              "      <td>Samsung</td>\n",
              "      <td>Galaxy Y Pro Duos</td>\n",
              "      <td>GT-B5512</td>\n",
              "      <td>GT-B5512</td>\n",
              "    </tr>\n",
              "    <tr>\n",
              "      <th>10823</th>\n",
              "      <td>Samsung</td>\n",
              "      <td>Galaxy Y Pro Duos</td>\n",
              "      <td>GT-B5512B</td>\n",
              "      <td>GT-B5512B</td>\n",
              "    </tr>\n",
              "    <tr>\n",
              "      <th>10824</th>\n",
              "      <td>Samsung</td>\n",
              "      <td>Galaxy Y TV</td>\n",
              "      <td>GT-S5367</td>\n",
              "      <td>GT-S5367</td>\n",
              "    </tr>\n",
              "    <tr>\n",
              "      <th>10979</th>\n",
              "      <td>Sharp</td>\n",
              "      <td>AQUOS SERIE mini SHV38</td>\n",
              "      <td>GTQ</td>\n",
              "      <td>SHV38</td>\n",
              "    </tr>\n",
              "  </tbody>\n",
              "</table>\n",
              "<p>164 rows × 4 columns</p>\n",
              "</div>"
            ],
            "text/plain": [
              "      manufacturer          Marketing Name     Device      Model\n",
              "1095       Bitmore                 GTAB700    GTAB700   NID_7010\n",
              "1096       Bitmore                 GTAB900    GTAB900       S952\n",
              "2402       Grundig                 GTB1050    GTB1050   GTB 1050\n",
              "2403       Grundig                  GTB850     GTB850    GTB 850\n",
              "2404       Grundig                 TC69CA2     GTB801    GTB 801\n",
              "...            ...                     ...        ...        ...\n",
              "10821      Samsung            Galaxy Y Pro  GT-B5510L  GT-B5510L\n",
              "10822      Samsung       Galaxy Y Pro Duos   GT-B5512   GT-B5512\n",
              "10823      Samsung       Galaxy Y Pro Duos  GT-B5512B  GT-B5512B\n",
              "10824      Samsung             Galaxy Y TV   GT-S5367   GT-S5367\n",
              "10979        Sharp  AQUOS SERIE mini SHV38        GTQ      SHV38\n",
              "\n",
              "[164 rows x 4 columns]"
            ]
          },
          "metadata": {
            "tags": []
          },
          "execution_count": 17
        }
      ]
    },
    {
      "cell_type": "markdown",
      "metadata": {
        "id": "jI_izl9v6XxS",
        "colab_type": "text"
      },
      "source": [
        "#<b> Calculating statistics on final result</b>\n",
        "\n",
        "With merges complete, we can simply calculate statistics for users grouped by the manufacturer of their device."
      ]
    },
    {
      "cell_type": "code",
      "metadata": {
        "id": "PFN_y5bt6dhm",
        "colab_type": "code",
        "colab": {
          "base_uri": "https://localhost:8080/",
          "height": 198
        },
        "outputId": "d4200a9c-8e06-4a51-904c-388457215e9c"
      },
      "source": [
        "result.head()"
      ],
      "execution_count": 18,
      "outputs": [
        {
          "output_type": "execute_result",
          "data": {
            "text/html": [
              "<div>\n",
              "<style scoped>\n",
              "    .dataframe tbody tr th:only-of-type {\n",
              "        vertical-align: middle;\n",
              "    }\n",
              "\n",
              "    .dataframe tbody tr th {\n",
              "        vertical-align: top;\n",
              "    }\n",
              "\n",
              "    .dataframe thead th {\n",
              "        text-align: right;\n",
              "    }\n",
              "</style>\n",
              "<table border=\"1\" class=\"dataframe\">\n",
              "  <thead>\n",
              "    <tr style=\"text-align: right;\">\n",
              "      <th></th>\n",
              "      <th>outgoing_mins_per_month</th>\n",
              "      <th>outgoing_sms_per_month</th>\n",
              "      <th>monthly_mb</th>\n",
              "      <th>use_id</th>\n",
              "      <th>platform</th>\n",
              "      <th>device</th>\n",
              "      <th>manufacturer</th>\n",
              "      <th>Model</th>\n",
              "    </tr>\n",
              "  </thead>\n",
              "  <tbody>\n",
              "    <tr>\n",
              "      <th>0</th>\n",
              "      <td>21.97</td>\n",
              "      <td>4.82</td>\n",
              "      <td>1557.33</td>\n",
              "      <td>22787</td>\n",
              "      <td>android</td>\n",
              "      <td>GT-I9505</td>\n",
              "      <td>Samsung</td>\n",
              "      <td>GT-I9505</td>\n",
              "    </tr>\n",
              "    <tr>\n",
              "      <th>1</th>\n",
              "      <td>1710.08</td>\n",
              "      <td>136.88</td>\n",
              "      <td>7267.55</td>\n",
              "      <td>22788</td>\n",
              "      <td>android</td>\n",
              "      <td>SM-G930F</td>\n",
              "      <td>Samsung</td>\n",
              "      <td>SM-G930F</td>\n",
              "    </tr>\n",
              "    <tr>\n",
              "      <th>2</th>\n",
              "      <td>1710.08</td>\n",
              "      <td>136.88</td>\n",
              "      <td>7267.55</td>\n",
              "      <td>22789</td>\n",
              "      <td>android</td>\n",
              "      <td>SM-G930F</td>\n",
              "      <td>Samsung</td>\n",
              "      <td>SM-G930F</td>\n",
              "    </tr>\n",
              "    <tr>\n",
              "      <th>3</th>\n",
              "      <td>94.46</td>\n",
              "      <td>35.17</td>\n",
              "      <td>519.12</td>\n",
              "      <td>22790</td>\n",
              "      <td>android</td>\n",
              "      <td>D2303</td>\n",
              "      <td>Sony</td>\n",
              "      <td>D2303</td>\n",
              "    </tr>\n",
              "    <tr>\n",
              "      <th>4</th>\n",
              "      <td>71.59</td>\n",
              "      <td>79.26</td>\n",
              "      <td>1557.33</td>\n",
              "      <td>22792</td>\n",
              "      <td>android</td>\n",
              "      <td>SM-G361F</td>\n",
              "      <td>Samsung</td>\n",
              "      <td>SM-G361F</td>\n",
              "    </tr>\n",
              "  </tbody>\n",
              "</table>\n",
              "</div>"
            ],
            "text/plain": [
              "   outgoing_mins_per_month  outgoing_sms_per_month  ...  manufacturer     Model\n",
              "0                    21.97                    4.82  ...       Samsung  GT-I9505\n",
              "1                  1710.08                  136.88  ...       Samsung  SM-G930F\n",
              "2                  1710.08                  136.88  ...       Samsung  SM-G930F\n",
              "3                    94.46                   35.17  ...          Sony     D2303\n",
              "4                    71.59                   79.26  ...       Samsung  SM-G361F\n",
              "\n",
              "[5 rows x 8 columns]"
            ]
          },
          "metadata": {
            "tags": []
          },
          "execution_count": 18
        }
      ]
    },
    {
      "cell_type": "markdown",
      "metadata": {
        "id": "JnK8ewySMAAM",
        "colab_type": "text"
      },
      "source": [
        "# **Group by**\n",
        "![alt text](https://icon-library.net/images/group-icon-png/group-icon-png-7.jpg)"
      ]
    },
    {
      "cell_type": "code",
      "metadata": {
        "id": "N1jGDfp-L-fA",
        "colab_type": "code",
        "colab": {
          "base_uri": "https://localhost:8080/",
          "height": 408
        },
        "outputId": "f0ef12d2-a60c-4e90-aa06-e3cfe15a4969"
      },
      "source": [
        "result.groupby(\"manufacturer\").agg({\n",
        "        \"outgoing_mins_per_month\": \"mean\",\n",
        "        \"outgoing_sms_per_month\": \"mean\",\n",
        "        \"monthly_mb\": \"mean\",\n",
        "        \"use_id\": \"count\"\n",
        "    })"
      ],
      "execution_count": 19,
      "outputs": [
        {
          "output_type": "execute_result",
          "data": {
            "text/html": [
              "<div>\n",
              "<style scoped>\n",
              "    .dataframe tbody tr th:only-of-type {\n",
              "        vertical-align: middle;\n",
              "    }\n",
              "\n",
              "    .dataframe tbody tr th {\n",
              "        vertical-align: top;\n",
              "    }\n",
              "\n",
              "    .dataframe thead th {\n",
              "        text-align: right;\n",
              "    }\n",
              "</style>\n",
              "<table border=\"1\" class=\"dataframe\">\n",
              "  <thead>\n",
              "    <tr style=\"text-align: right;\">\n",
              "      <th></th>\n",
              "      <th>outgoing_mins_per_month</th>\n",
              "      <th>outgoing_sms_per_month</th>\n",
              "      <th>monthly_mb</th>\n",
              "      <th>use_id</th>\n",
              "    </tr>\n",
              "    <tr>\n",
              "      <th>manufacturer</th>\n",
              "      <th></th>\n",
              "      <th></th>\n",
              "      <th></th>\n",
              "      <th></th>\n",
              "    </tr>\n",
              "  </thead>\n",
              "  <tbody>\n",
              "    <tr>\n",
              "      <th>HTC</th>\n",
              "      <td>299.842955</td>\n",
              "      <td>93.059318</td>\n",
              "      <td>5144.077955</td>\n",
              "      <td>44</td>\n",
              "    </tr>\n",
              "    <tr>\n",
              "      <th>Huawei</th>\n",
              "      <td>81.526667</td>\n",
              "      <td>9.500000</td>\n",
              "      <td>1561.226667</td>\n",
              "      <td>3</td>\n",
              "    </tr>\n",
              "    <tr>\n",
              "      <th>LGE</th>\n",
              "      <td>111.530000</td>\n",
              "      <td>12.760000</td>\n",
              "      <td>1557.330000</td>\n",
              "      <td>2</td>\n",
              "    </tr>\n",
              "    <tr>\n",
              "      <th>Lava</th>\n",
              "      <td>60.650000</td>\n",
              "      <td>261.900000</td>\n",
              "      <td>12458.670000</td>\n",
              "      <td>2</td>\n",
              "    </tr>\n",
              "    <tr>\n",
              "      <th>Lenovo</th>\n",
              "      <td>215.920000</td>\n",
              "      <td>12.930000</td>\n",
              "      <td>1557.330000</td>\n",
              "      <td>2</td>\n",
              "    </tr>\n",
              "    <tr>\n",
              "      <th>Motorola</th>\n",
              "      <td>95.127500</td>\n",
              "      <td>65.666250</td>\n",
              "      <td>3946.500000</td>\n",
              "      <td>16</td>\n",
              "    </tr>\n",
              "    <tr>\n",
              "      <th>OnePlus</th>\n",
              "      <td>354.855000</td>\n",
              "      <td>48.330000</td>\n",
              "      <td>6575.410000</td>\n",
              "      <td>6</td>\n",
              "    </tr>\n",
              "    <tr>\n",
              "      <th>Samsung</th>\n",
              "      <td>191.010093</td>\n",
              "      <td>92.390463</td>\n",
              "      <td>4017.318889</td>\n",
              "      <td>108</td>\n",
              "    </tr>\n",
              "    <tr>\n",
              "      <th>Sony</th>\n",
              "      <td>177.315625</td>\n",
              "      <td>40.176250</td>\n",
              "      <td>3212.000625</td>\n",
              "      <td>16</td>\n",
              "    </tr>\n",
              "    <tr>\n",
              "      <th>Vodafone</th>\n",
              "      <td>42.750000</td>\n",
              "      <td>46.830000</td>\n",
              "      <td>5191.120000</td>\n",
              "      <td>1</td>\n",
              "    </tr>\n",
              "    <tr>\n",
              "      <th>ZTE</th>\n",
              "      <td>42.750000</td>\n",
              "      <td>46.830000</td>\n",
              "      <td>5191.120000</td>\n",
              "      <td>1</td>\n",
              "    </tr>\n",
              "  </tbody>\n",
              "</table>\n",
              "</div>"
            ],
            "text/plain": [
              "              outgoing_mins_per_month  ...  use_id\n",
              "manufacturer                           ...        \n",
              "HTC                        299.842955  ...      44\n",
              "Huawei                      81.526667  ...       3\n",
              "LGE                        111.530000  ...       2\n",
              "Lava                        60.650000  ...       2\n",
              "Lenovo                     215.920000  ...       2\n",
              "Motorola                    95.127500  ...      16\n",
              "OnePlus                    354.855000  ...       6\n",
              "Samsung                    191.010093  ...     108\n",
              "Sony                       177.315625  ...      16\n",
              "Vodafone                    42.750000  ...       1\n",
              "ZTE                         42.750000  ...       1\n",
              "\n",
              "[11 rows x 4 columns]"
            ]
          },
          "metadata": {
            "tags": []
          },
          "execution_count": 19
        }
      ]
    },
    {
      "cell_type": "markdown",
      "metadata": {
        "id": "KguU7GFMR7tb",
        "colab_type": "text"
      },
      "source": [
        "#**Data Visualization**\n",
        "![alt text](https://dv-website.s3.amazonaws.com/uploads/2017/02/mk_datavis_022217.png)\n",
        "\n",
        "#what is data visualization?\n",
        "\n",
        "\tData Visualization is the presentation of data in a pictorial or graphical format<br>\n",
        "\tIt enables decision makers to see patterns, trends and correlations that might go undetected in text-based data\n",
        "\n",
        "#<b> Matplotlib</b>\n",
        "![alt text](https://matplotlib.org/_static/logo2_compressed.svg)\n",
        "\n",
        "\n",
        "![alt text](https://2.bp.blogspot.com/-ZCnG08W6zSY/W-qgJ-XKRYI/AAAAAAAALdY/pgbhuYEFAVo37cOBZPkX98K0j9bzeO0hACLcBGAs/s400/plot_surface_animation_funcanimation_r.gif)\n",
        "\n",
        "\n",
        "![alt text](https://1.bp.blogspot.com/-AksziHOlzM0/WloUyg_kFkI/AAAAAAAAKD4/p4Jwu9IwDOcPZXcTF3uILdDYmwuwBXdeACLcBGAs/s400/rotate_elevation_angle_3d_surf.gif)\n",
        "\n",
        "Perhaps the simplest of all plots is the visualization of a single function  y=f(x) . Here we will take a first look at creating a simple plot of this type. As with all the following sections, we'll start by setting up the notebook for plotting and importing the packages we will use:\n",
        "\n"
      ]
    },
    {
      "cell_type": "code",
      "metadata": {
        "id": "bZAQnkj3SeoT",
        "colab_type": "code",
        "colab": {}
      },
      "source": [
        "%matplotlib inline\n",
        "import matplotlib.pyplot as plt\n",
        "plt.style.use('seaborn-whitegrid')\n",
        "import numpy as np"
      ],
      "execution_count": 0,
      "outputs": []
    },
    {
      "cell_type": "markdown",
      "metadata": {
        "id": "SHbNm7mhZhd6",
        "colab_type": "text"
      },
      "source": [
        "For all Matplotlib plots, we start by creating a figure and an axes.\n",
        "In their simplest form, a figure and axes can be created as follows:"
      ]
    },
    {
      "cell_type": "code",
      "metadata": {
        "id": "1gq59UMhZimK",
        "colab_type": "code",
        "colab": {
          "base_uri": "https://localhost:8080/",
          "height": 266
        },
        "outputId": "2ff1ad8b-69ff-49bd-c72b-4aff5f4f812e"
      },
      "source": [
        "fig = plt.figure()\n",
        "ax = plt.axes()"
      ],
      "execution_count": 21,
      "outputs": [
        {
          "output_type": "display_data",
          "data": {
            "image/png": "[encoded data removed]",
            "text/plain": [
              "<Figure size 432x288 with 1 Axes>"
            ]
          },
          "metadata": {
            "tags": []
          }
        }
      ]
    },
    {
      "cell_type": "markdown",
      "metadata": {
        "id": "NUorcOz6Zn4z",
        "colab_type": "text"
      },
      "source": [
        "In Matplotlib, the figure (an instance of the class plt.Figure) can be thought of as a single container that contains all the objects representing axes, graphics, text, and labels. The axes (an instance of the class plt.Axes) is what we see above: a bounding box with ticks and labels, which will eventually contain the plot elements that make up our visualization. Throughout this book, we'll commonly use the variable name fig to refer to a figure instance, and ax to refer to an axes instance or group of axes instances.\n",
        "\n",
        "Once we have created an axes, we can use the ax.plot function to plot some data. Let's start with a simple sinusoid:"
      ]
    },
    {
      "cell_type": "code",
      "metadata": {
        "id": "7LK-pjTfZsIp",
        "colab_type": "code",
        "colab": {
          "base_uri": "https://localhost:8080/",
          "height": 262
        },
        "outputId": "4c9af8a7-0f05-4c32-cc00-f74649532bc6"
      },
      "source": [
        "fig = plt.figure()\n",
        "ax = plt.axes()\n",
        "\n",
        "x = np.linspace(0, 10, 1000)\n",
        "ax.plot(x, np.sin(x));"
      ],
      "execution_count": 22,
      "outputs": [
        {
          "output_type": "display_data",
          "data": {
            "image/png": "[encoded data removed]",
            "text/plain": [
              "<Figure size 432x288 with 1 Axes>"
            ]
          },
          "metadata": {
            "tags": []
          }
        }
      ]
    },
    {
      "cell_type": "markdown",
      "metadata": {
        "id": "_Po1VyyiZvLb",
        "colab_type": "text"
      },
      "source": [
        "Alternatively, we can use the pylab interface and let the figure and axes be created for us in the background (see Two Interfaces for the Price of One for a discussion of these two interfaces):"
      ]
    },
    {
      "cell_type": "code",
      "metadata": {
        "id": "VSDqXm34Zxvn",
        "colab_type": "code",
        "colab": {
          "base_uri": "https://localhost:8080/",
          "height": 262
        },
        "outputId": "ab251fc1-ebf4-4244-c6c3-fb88a3806482"
      },
      "source": [
        "plt.plot(x, np.sin(x));"
      ],
      "execution_count": 23,
      "outputs": [
        {
          "output_type": "display_data",
          "data": {
            "image/png": "[encoded data removed]",
            "text/plain": [
              "<Figure size 432x288 with 1 Axes>"
            ]
          },
          "metadata": {
            "tags": []
          }
        }
      ]
    },
    {
      "cell_type": "markdown",
      "metadata": {
        "id": "tA_xPShiZ1Xu",
        "colab_type": "text"
      },
      "source": [
        "If we want to create a single figure with multiple lines, we can simply call the ``plot`` function multiple times:"
      ]
    },
    {
      "cell_type": "code",
      "metadata": {
        "id": "eQl1V1bSZ4cD",
        "colab_type": "code",
        "colab": {
          "base_uri": "https://localhost:8080/",
          "height": 262
        },
        "outputId": "4bf206e2-2104-463b-8f27-aa44fa151149"
      },
      "source": [
        "plt.plot(x, np.sin(x))\n",
        "plt.plot(x, np.cos(x));"
      ],
      "execution_count": 24,
      "outputs": [
        {
          "output_type": "display_data",
          "data": {
            "image/png": "[encoded data removed]",
            "text/plain": [
              "<Figure size 432x288 with 1 Axes>"
            ]
          },
          "metadata": {
            "tags": []
          }
        }
      ]
    },
    {
      "cell_type": "markdown",
      "metadata": {
        "id": "Tn7n4ieoZ_Z2",
        "colab_type": "text"
      },
      "source": [
        "#<b>Adjusting the Plot: Line Colors and Styles</b>\n",
        "\n",
        "The first adjustment you might wish to make to a plot is to control the line colors and styles. The plt.plot() function takes additional arguments that can be used to specify these. To adjust the color, you can use the color keyword, which accepts a string argument representing virtually any imaginable color. The color can be specified in a variety of ways:"
      ]
    },
    {
      "cell_type": "code",
      "metadata": {
        "id": "EyFmmOc9aIii",
        "colab_type": "code",
        "colab": {
          "base_uri": "https://localhost:8080/",
          "height": 262
        },
        "outputId": "a02636ca-ee46-41d3-fc54-48ad7339a2a8"
      },
      "source": [
        "plt.plot(x, np.sin(x - 0), color='blue')        # specify color by name\n",
        "plt.plot(x, np.sin(x - 1), color='g')           # short color code (rgbcmyk)\n",
        "plt.plot(x, np.sin(x - 2), color='0.75')        # Grayscale between 0 and 1\n",
        "plt.plot(x, np.sin(x - 3), color='#FFDD44')     # Hex code (RRGGBB from 00 to FF)\n",
        "plt.plot(x, np.sin(x - 4), color=(1.0,0.2,0.3)) # RGB tuple, values 0 to 1\n",
        "plt.plot(x, np.sin(x - 5), color='chartreuse'); # all HTML color names supported"
      ],
      "execution_count": 25,
      "outputs": [
        {
          "output_type": "display_data",
          "data": {
            "image/png": "[encoded data removed]",
            "text/plain": [
              "<Figure size 432x288 with 1 Axes>"
            ]
          },
          "metadata": {
            "tags": []
          }
        }
      ]
    },
    {
      "cell_type": "markdown",
      "metadata": {
        "id": "lVZ0J_Z1aW3p",
        "colab_type": "text"
      },
      "source": [
        "If no color is specified, Matplotlib will automatically cycle through a set of default colors for multiple lines.\n",
        "\n",
        "Similarly, the line style can be adjusted using the linestyle keyword:"
      ]
    },
    {
      "cell_type": "code",
      "metadata": {
        "id": "gGplU2mvaZSi",
        "colab_type": "code",
        "colab": {
          "base_uri": "https://localhost:8080/",
          "height": 262
        },
        "outputId": "413be3df-0f0a-4f8c-cd75-42ee28069615"
      },
      "source": [
        "plt.plot(x, x + 0, linestyle='solid')\n",
        "plt.plot(x, x + 1, linestyle='dashed')\n",
        "plt.plot(x, x + 2, linestyle='dashdot')\n",
        "plt.plot(x, x + 3, linestyle='dotted');\n",
        "\n",
        "# For short, you can use the following codes:\n",
        "plt.plot(x, x + 4, linestyle='-')  # solid\n",
        "plt.plot(x, x + 5, linestyle='--') # dashed\n",
        "plt.plot(x, x + 6, linestyle='-.') # dashdot\n",
        "plt.plot(x, x + 7, linestyle=':');  # dotted"
      ],
      "execution_count": 26,
      "outputs": [
        {
          "output_type": "display_data",
          "data": {
            "image/png": "[encoded data removed]",
            "text/plain": [
              "<Figure size 432x288 with 1 Axes>"
            ]
          },
          "metadata": {
            "tags": []
          }
        }
      ]
    },
    {
      "cell_type": "markdown",
      "metadata": {
        "id": "MdP_YbWUZc6r",
        "colab_type": "text"
      },
      "source": [
        "If you would like to be extremely terse, these ``linestyle`` and ``color`` codes can be combined into a single non-keyword argument to the ``plt.plot()`` function:"
      ]
    },
    {
      "cell_type": "code",
      "metadata": {
        "id": "eh4zNZbFZc6s",
        "colab_type": "code",
        "outputId": "163cf670-ab30-4952-bcaa-7262f385d1d8",
        "colab": {}
      },
      "source": [
        "plt.plot(x, x + 0, '-g')  # solid green\n",
        "plt.plot(x, x + 1, '--c') # dashed cyan\n",
        "plt.plot(x, x + 2, '-.k') # dashdot black\n",
        "plt.plot(x, x + 3, ':r');  # dotted red"
      ],
      "execution_count": 0,
      "outputs": [
        {
          "output_type": "display_data",
          "data": {
            "image/png": "[encoded data removed]",
            "text/plain": [
              "<matplotlib.figure.Figure at 0x1077be9e8>"
            ]
          },
          "metadata": {
            "tags": []
          }
        }
      ]
    },
    {
      "cell_type": "markdown",
      "metadata": {
        "id": "2k_qbxu_Zc7h",
        "colab_type": "text"
      },
      "source": [
        "## Labeling Plots\n",
        "\n",
        "As the last piece of this section, we'll briefly look at the labeling of plots: titles, axis labels, and simple legends.\n",
        "\n",
        "Titles and axis labels are the simplest such labels—there are methods that can be used to quickly set them:"
      ]
    },
    {
      "cell_type": "code",
      "metadata": {
        "id": "7qYKNRsKZc7i",
        "colab_type": "code",
        "outputId": "2e8c091a-456d-4202-90d8-cf6ba3e3047c",
        "colab": {}
      },
      "source": [
        "plt.plot(x, np.sin(x))\n",
        "plt.title(\"A Sine Curve\")\n",
        "plt.xlabel(\"x\")\n",
        "plt.ylabel(\"sin(x)\");"
      ],
      "execution_count": 0,
      "outputs": [
        {
          "output_type": "display_data",
          "data": {
            "image/png": "[encoded data removed]",
            "text/plain": [
              "<matplotlib.figure.Figure at 0x107d57438>"
            ]
          },
          "metadata": {
            "tags": []
          }
        }
      ]
    },
    {
      "cell_type": "markdown",
      "metadata": {
        "id": "ntvqSCqiZc7o",
        "colab_type": "text"
      },
      "source": [
        "The position, size, and style of these labels can be adjusted using optional arguments to the function.\n",
        "For more information, see the Matplotlib documentation and the docstrings of each of these functions."
      ]
    },
    {
      "cell_type": "markdown",
      "metadata": {
        "id": "BwZthbXCZc7s",
        "colab_type": "text"
      },
      "source": [
        "When multiple lines are being shown within a single axes, it can be useful to create a plot legend that labels each line type.\n",
        "Again, Matplotlib has a built-in way of quickly creating such a legend.\n",
        "It is done via the (you guessed it) ``plt.legend()`` method.\n",
        "Though there are several valid ways of using this, I find it easiest to specify the label of each line using the ``label`` keyword of the plot function:"
      ]
    },
    {
      "cell_type": "code",
      "metadata": {
        "id": "PF7vvj0nZc7u",
        "colab_type": "code",
        "outputId": "e0546b45-5bfa-4a51-d4d6-768dde4ec7f8",
        "colab": {}
      },
      "source": [
        "plt.plot(x, np.sin(x), '-g', label='sin(x)')\n",
        "plt.plot(x, np.cos(x), ':b', label='cos(x)')\n",
        "plt.axis('equal')\n",
        "\n",
        "plt.legend();"
      ],
      "execution_count": 0,
      "outputs": [
        {
          "output_type": "display_data",
          "data": {
            "image/png": "[encoded data removed]",
            "text/plain": [
              "<matplotlib.figure.Figure at 0x107d7ca90>"
            ]
          },
          "metadata": {
            "tags": []
          }
        }
      ]
    },
    {
      "cell_type": "markdown",
      "metadata": {
        "id": "wlGVpECnZc78",
        "colab_type": "text"
      },
      "source": [
        "## Aside: Matplotlib Gotchas\n",
        "\n",
        "While most ``plt`` functions translate directly to ``ax`` methods (such as ``plt.plot()`` → ``ax.plot()``, ``plt.legend()`` → ``ax.legend()``, etc.), this is not the case for all commands.\n",
        "In particular, functions to set limits, labels, and titles are slightly modified.\n",
        "For transitioning between MATLAB-style functions and object-oriented methods, make the following changes:\n",
        "\n",
        "- ``plt.xlabel()``  → ``ax.set_xlabel()``\n",
        "- ``plt.ylabel()`` → ``ax.set_ylabel()``\n",
        "- ``plt.xlim()``  → ``ax.set_xlim()``\n",
        "- ``plt.ylim()`` → ``ax.set_ylim()``\n",
        "- ``plt.title()`` → ``ax.set_title()``\n",
        "\n",
        "In the object-oriented interface to plotting, rather than calling these functions individually, it is often more convenient to use the ``ax.set()`` method to set all these properties at once:"
      ]
    },
    {
      "cell_type": "code",
      "metadata": {
        "id": "QkGJKQ-JZc79",
        "colab_type": "code",
        "outputId": "ef33f4f7-f3c1-4bf7-c45a-b377cef5a771",
        "colab": {}
      },
      "source": [
        "ax = plt.axes()\n",
        "ax.plot(x, np.sin(x))\n",
        "ax.set(xlim=(0, 10), ylim=(-2, 2),\n",
        "       xlabel='x', ylabel='sin(x)',\n",
        "       title='A Simple Plot');"
      ],
      "execution_count": 0,
      "outputs": [
        {
          "output_type": "display_data",
          "data": {
            "image/png": "[encoded data removed]",
            "text/plain": [
              "<matplotlib.figure.Figure at 0x107f67cc0>"
            ]
          },
          "metadata": {
            "tags": []
          }
        }
      ]
    },
    {
      "cell_type": "markdown",
      "metadata": {
        "id": "pKnWBHewbsYs",
        "colab_type": "text"
      },
      "source": [
        "#<b>Adding A Grid</b>"
      ]
    },
    {
      "cell_type": "code",
      "metadata": {
        "id": "3R5RbXtwbswE",
        "colab_type": "code",
        "colab": {
          "base_uri": "https://localhost:8080/",
          "height": 263
        },
        "outputId": "9e86838e-b0eb-4b3d-b293-aeb174ad5448"
      },
      "source": [
        "import matplotlib.pyplot as plt\n",
        "x =range(5)\n",
        "plt.figure()\n",
        "plt.plot(x, [x1 for x1 in x], \n",
        "         x, [x1*2 for x1 in x],\n",
        "         x, [x1*4 for x1 in x])\n",
        "plt.grid(True)\n",
        "plt.show()\n"
      ],
      "execution_count": 28,
      "outputs": [
        {
          "output_type": "display_data",
          "data": {
            "image/png": "[encoded data removed]",
            "text/plain": [
              "<Figure size 432x288 with 1 Axes>"
            ]
          },
          "metadata": {
            "tags": []
          }
        }
      ]
    },
    {
      "cell_type": "code",
      "metadata": {
        "id": "v0v2_X5VbyDl",
        "colab_type": "code",
        "colab": {
          "base_uri": "https://localhost:8080/",
          "height": 262
        },
        "outputId": "6f994511-7909-4b42-a385-2e47b26d3b5e"
      },
      "source": [
        "import matplotlib.pyplot as plt, numpy\n",
        "y = numpy.random.randn(100, 100)\n",
        "plt.hist(y)\n",
        "plt.show()"
      ],
      "execution_count": 29,
      "outputs": [
        {
          "output_type": "display_data",
          "data": {
            "image/png": "[encoded data removed]",
            "text/plain": [
              "<Figure size 432x288 with 1 Axes>"
            ]
          },
          "metadata": {
            "tags": []
          }
        }
      ]
    },
    {
      "cell_type": "code",
      "metadata": {
        "id": "WPRpfSyQiNwy",
        "colab_type": "code",
        "colab": {
          "base_uri": "https://localhost:8080/",
          "height": 295
        },
        "outputId": "0151a557-1357-4e0a-93a0-82f20f47835b"
      },
      "source": [
        "import seaborn as sns\n",
        "iris = sns.load_dataset('iris')\n",
        "sns.distplot(iris['petal_length'], \n",
        "             label='Petal Length', \n",
        "             hist=True,\n",
        "             kde=False)"
      ],
      "execution_count": 30,
      "outputs": [
        {
          "output_type": "execute_result",
          "data": {
            "text/plain": [
              "<matplotlib.axes._subplots.AxesSubplot at 0x7f29135a38d0>"
            ]
          },
          "metadata": {
            "tags": []
          },
          "execution_count": 30
        },
        {
          "output_type": "display_data",
          "data": {
            "image/png": "[encoded data removed]",
            "text/plain": [
              "<Figure size 432x288 with 1 Axes>"
            ]
          },
          "metadata": {
            "tags": []
          }
        }
      ]
    },
    {
      "cell_type": "code",
      "metadata": {
        "id": "HvKSmVaSiQeE",
        "colab_type": "code",
        "colab": {
          "base_uri": "https://localhost:8080/",
          "height": 262
        },
        "outputId": "be1f2c1d-72ef-49a3-f9ef-ebe9c5cb4497"
      },
      "source": [
        "import matplotlib.pyplot as plt\n",
        "plt.bar([1, 2, 3], [1, 4, 9])\n",
        "plt.show()"
      ],
      "execution_count": 31,
      "outputs": [
        {
          "output_type": "display_data",
          "data": {
            "image/png": "[encoded data removed]",
            "text/plain": [
              "<Figure size 432x288 with 1 Axes>"
            ]
          },
          "metadata": {
            "tags": []
          }
        }
      ]
    },
    {
      "cell_type": "code",
      "metadata": {
        "id": "HwCHyaA3iTNh",
        "colab_type": "code",
        "colab": {
          "base_uri": "https://localhost:8080/",
          "height": 295
        },
        "outputId": "658470db-3a5f-4820-a453-1bf404fd2a85"
      },
      "source": [
        "from numpy import mean\n",
        "import seaborn as sns\n",
        "iris = sns.load_dataset('iris')\n",
        "sns.barplot( x = 'species', \n",
        "            y='sepal_width', \n",
        "            data=iris, \n",
        "            estimator=mean, \n",
        "            palette=\"spring\")"
      ],
      "execution_count": 32,
      "outputs": [
        {
          "output_type": "execute_result",
          "data": {
            "text/plain": [
              "<matplotlib.axes._subplots.AxesSubplot at 0x7f291318d828>"
            ]
          },
          "metadata": {
            "tags": []
          },
          "execution_count": 32
        },
        {
          "output_type": "display_data",
          "data": {
            "image/png": "[encoded data removed]",
            "text/plain": [
              "<Figure size 432x288 with 1 Axes>"
            ]
          },
          "metadata": {
            "tags": []
          }
        }
      ]
    },
    {
      "cell_type": "code",
      "metadata": {
        "id": "t8vVIYAdiVtr",
        "colab_type": "code",
        "colab": {
          "base_uri": "https://localhost:8080/",
          "height": 997
        },
        "outputId": "189bed89-ca60-47a2-8c4f-1f8491b46229"
      },
      "source": [
        "import matplotlib.pyplot as plt, numpy\n",
        "dictionary = {'A':25,'B':70,'C':55,'D': 90}\n",
        "for i, key in enumerate(dictionary):\n",
        "    plt.bar(i, dictionary[key])\n",
        "    plt.xticks(numpy.arange(len(dictionary)), \n",
        "               dictionary.keys())\n",
        "    plt.show()"
      ],
      "execution_count": 33,
      "outputs": [
        {
          "output_type": "display_data",
          "data": {
            "image/png": "[encoded data removed]",
            "text/plain": [
              "<Figure size 432x288 with 1 Axes>"
            ]
          },
          "metadata": {
            "tags": []
          }
        },
        {
          "output_type": "display_data",
          "data": {
            "image/png": "[encoded data removed]",
            "text/plain": [
              "<Figure size 432x288 with 1 Axes>"
            ]
          },
          "metadata": {
            "tags": []
          }
        },
        {
          "output_type": "display_data",
          "data": {
            "image/png": "[encoded data removed]",
            "text/plain": [
              "<Figure size 432x288 with 1 Axes>"
            ]
          },
          "metadata": {
            "tags": []
          }
        },
        {
          "output_type": "display_data",
          "data": {
            "image/png": "[encoded data removed]",
            "text/plain": [
              "<Figure size 432x288 with 1 Axes>"
            ]
          },
          "metadata": {
            "tags": []
          }
        }
      ]
    },
    {
      "cell_type": "code",
      "metadata": {
        "id": "vfsgrkYFiY4w",
        "colab_type": "code",
        "colab": {
          "base_uri": "https://localhost:8080/",
          "height": 262
        },
        "outputId": "38681c87-0a9e-4015-9711-f0d630ba0e34"
      },
      "source": [
        "import matplotlib.pyplot as plt\n",
        "import numpy as np\n",
        "x = np.random.rand(1000)\n",
        "y = np.random.rand(1000)\n",
        "plt.scatter(x, y)\n",
        "plt.show()"
      ],
      "execution_count": 34,
      "outputs": [
        {
          "output_type": "display_data",
          "data": {
            "image/png": "[encoded data removed]",
            "text/plain": [
              "<Figure size 432x288 with 1 Axes>"
            ]
          },
          "metadata": {
            "tags": []
          }
        }
      ]
    },
    {
      "cell_type": "code",
      "metadata": {
        "id": "-TE6jlnFicHV",
        "colab_type": "code",
        "colab": {
          "base_uri": "https://localhost:8080/",
          "height": 262
        },
        "outputId": "9a890849-f257-4f47-a3d8-306c55d4cff4"
      },
      "source": [
        "import matplotlib.pyplot as plt\n",
        "import numpy as np\n",
        "a = np.random.random((16, 16))\n",
        "plt.imshow(a, cmap='hot', interpolation='nearest')\n",
        "plt.show()"
      ],
      "execution_count": 35,
      "outputs": [
        {
          "output_type": "display_data",
          "data": {
            "image/png": "[encoded data removed]",
            "text/plain": [
              "<Figure size 432x288 with 1 Axes>"
            ]
          },
          "metadata": {
            "tags": []
          }
        }
      ]
    },
    {
      "cell_type": "code",
      "metadata": {
        "id": "g-Bxy7iPie6u",
        "colab_type": "code",
        "colab": {
          "base_uri": "https://localhost:8080/",
          "height": 306
        },
        "outputId": "76f9ac2a-fa19-41ae-f44c-6e647831f1d3"
      },
      "source": [
        "import seaborn as sns\n",
        "flights = sns.load_dataset(\"flights\")\n",
        "flights = flights.pivot(\"month\", \"year\", \"passengers\")\n",
        "sns.heatmap(flights, \n",
        "            cmap=\"YlGnBu\",\n",
        "            linewidths=2, \n",
        "            xticklabels=True, \n",
        "            yticklabels=False )"
      ],
      "execution_count": 36,
      "outputs": [
        {
          "output_type": "execute_result",
          "data": {
            "text/plain": [
              "<matplotlib.axes._subplots.AxesSubplot at 0x7f291357c6a0>"
            ]
          },
          "metadata": {
            "tags": []
          },
          "execution_count": 36
        },
        {
          "output_type": "display_data",
          "data": {
            "image/png": "[encoded data removed]",
            "text/plain": [
              "<Figure size 432x288 with 2 Axes>"
            ]
          },
          "metadata": {
            "tags": []
          }
        }
      ]
    },
    {
      "cell_type": "code",
      "metadata": {
        "id": "LtWmenxkii_9",
        "colab_type": "code",
        "colab": {
          "base_uri": "https://localhost:8080/",
          "height": 295
        },
        "outputId": "0460cac7-2089-4a81-add1-19eb0e04b021"
      },
      "source": [
        "import seaborn as sns\n",
        "tips = sns.load_dataset(\"tips\")\n",
        "sns.boxplot(x=\"day\", \n",
        "            y=\"size\", \n",
        "            hue=\"sex\",\n",
        "            data=tips,\n",
        "            palette = 'coolwarm')"
      ],
      "execution_count": 37,
      "outputs": [
        {
          "output_type": "execute_result",
          "data": {
            "text/plain": [
              "<matplotlib.axes._subplots.AxesSubplot at 0x7f29133f8400>"
            ]
          },
          "metadata": {
            "tags": []
          },
          "execution_count": 37
        },
        {
          "output_type": "display_data",
          "data": {
            "image/png": "[encoded data removed]",
            "text/plain": [
              "<Figure size 432x288 with 1 Axes>"
            ]
          },
          "metadata": {
            "tags": []
          }
        }
      ]
    },
    {
      "cell_type": "code",
      "metadata": {
        "id": "tBMyhGhjilpl",
        "colab_type": "code",
        "colab": {
          "base_uri": "https://localhost:8080/",
          "height": 194
        },
        "outputId": "4959687a-44f4-4c20-a557-0ef1443e6b41"
      },
      "source": [
        "import matplotlib.pyplot as plt\n",
        "plt.figure(figsize=(3,3))\n",
        "x = [40, 20, 5]\n",
        "labels = ['Bikes', 'Cars', 'Buses']\n",
        "plt.pie(x, labels=labels)\n",
        "plt.show()"
      ],
      "execution_count": 38,
      "outputs": [
        {
          "output_type": "display_data",
          "data": {
            "image/png": "[encoded data removed]",
            "text/plain": [
              "<Figure size 216x216 with 1 Axes>"
            ]
          },
          "metadata": {
            "tags": []
          }
        }
      ]
    },
    {
      "cell_type": "code",
      "metadata": {
        "id": "5DG9ZAyJioWs",
        "colab_type": "code",
        "colab": {
          "base_uri": "https://localhost:8080/",
          "height": 295
        },
        "outputId": "f11cb019-430b-4e1b-e525-214b8f3e6d75"
      },
      "source": [
        "import seaborn as sns\n",
        "tips = sns.load_dataset(\"tips\")\n",
        "sns.countplot(x='day', \n",
        "              hue='sex',\n",
        "              data=tips,\n",
        "              palette =\"YlGnBu\")"
      ],
      "execution_count": 40,
      "outputs": [
        {
          "output_type": "execute_result",
          "data": {
            "text/plain": [
              "<matplotlib.axes._subplots.AxesSubplot at 0x7f2913627e10>"
            ]
          },
          "metadata": {
            "tags": []
          },
          "execution_count": 40
        },
        {
          "output_type": "display_data",
          "data": {
            "image/png": "[encoded data removed]",
            "text/plain": [
              "<Figure size 432x288 with 1 Axes>"
            ]
          },
          "metadata": {
            "tags": []
          }
        }
      ]
    }
  ]
}