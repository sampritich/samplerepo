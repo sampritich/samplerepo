{
  "nbformat": 4,
  "nbformat_minor": 0,
  "metadata": {
    "colab": {
      "name": "Untitled2.ipynb",
      "provenance": [],
      "include_colab_link": true
    },
    "kernelspec": {
      "name": "python3",
      "display_name": "Python 3"
    },
    "accelerator": "GPU"
  },
  "cells": [
    {
      "cell_type": "markdown",
      "metadata": {
        "id": "view-in-github",
        "colab_type": "text"
      },
      "source": [
        "<a href=\"https://colab.research.google.com/github/sampritich/samplerepo/blob/master/Basic_Neural_network.ipynb\" target=\"_parent\"><img src=\"https://colab.research.google.com/assets/colab-badge.svg\" alt=\"Open In Colab\"/></a>"
      ]
    },
    {
      "cell_type": "code",
      "metadata": {
        "id": "0d30ZvNuM0VF",
        "colab_type": "code",
        "colab": {}
      },
      "source": [
        "import tensorflow as tf\n",
        "from tensorflow import keras\n",
        "import numpy as np\n",
        "import matplotlib.pyplot as plt\n",
        "\n",
        "\n",
        "dataset= keras.datasets.fashion_mnist"
      ],
      "execution_count": 0,
      "outputs": []
    },
    {
      "cell_type": "code",
      "metadata": {
        "id": "ETrIAGi2NZf7",
        "colab_type": "code",
        "outputId": "a2fcdf6d-2a4e-43ef-85ab-beac4cf5ca18",
        "colab": {
          "base_uri": "https://localhost:8080/",
          "height": 54
        }
      },
      "source": [
        "print(dataset)"
      ],
      "execution_count": 0,
      "outputs": [
        {
          "output_type": "stream",
          "text": [
            "<module 'tensorflow.python.keras.api._v1.keras.datasets.fashion_mnist' from '/usr/local/lib/python3.6/dist-packages/tensorflow_core/python/keras/api/_v1/keras/datasets/fashion_mnist/__init__.py'>\n"
          ],
          "name": "stdout"
        }
      ]
    },
    {
      "cell_type": "code",
      "metadata": {
        "id": "IpAIF3CaN4zt",
        "colab_type": "code",
        "colab": {}
      },
      "source": [
        "(train_img,train_lbl),(test_img,test_lbl) = dataset.load_data() #10 labels"
      ],
      "execution_count": 0,
      "outputs": []
    },
    {
      "cell_type": "code",
      "metadata": {
        "id": "vxTvEnKIOyGL",
        "colab_type": "code",
        "outputId": "c6441d0d-e6f6-4fb6-84d2-2c85a239831c",
        "colab": {
          "base_uri": "https://localhost:8080/",
          "height": 51
        }
      },
      "source": [
        "\n",
        "print(train_lbl)\n",
        "print(train_lbl[1])"
      ],
      "execution_count": 0,
      "outputs": [
        {
          "output_type": "stream",
          "text": [
            "[9 0 0 ... 3 0 5]\n",
            "0\n"
          ],
          "name": "stdout"
        }
      ]
    },
    {
      "cell_type": "code",
      "metadata": {
        "id": "DpkY_LQRPJrn",
        "colab_type": "code",
        "colab": {}
      },
      "source": [
        "class_names = ['T-shirt/top', 'Trouser', 'Pullover', 'Dress', 'Coat',\n",
        "               'Sandal', 'Shirt', 'Sneaker', 'Bag', 'Ankle boot']"
      ],
      "execution_count": 0,
      "outputs": []
    },
    {
      "cell_type": "code",
      "metadata": {
        "id": "iKqA4goTPKgL",
        "colab_type": "code",
        "outputId": "147cfe83-5cb3-4b3c-ecbf-93f74bf03dcd",
        "colab": {
          "base_uri": "https://localhost:8080/",
          "height": 1000
        }
      },
      "source": [
        "plt.imshow(train_img[0])\n",
        "plt.show()\n",
        "print(train_img[0])"
      ],
      "execution_count": 0,
      "outputs": [
        {
          "output_type": "display_data",
          "data": {
            "image/png": "[encoded data removed]",
            "text/plain": [
              "<Figure size 432x288 with 1 Axes>"
            ]
          },
          "metadata": {
            "tags": []
          }
        },
        {
          "output_type": "stream",
          "text": [
            "[[  0   0   0   0   0   0   0   0   0   0   0   0   0   0   0   0   0   0\n",
            "    0   0   0   0   0   0   0   0   0   0]\n",
            " [  0   0   0   0   0   0   0   0   0   0   0   0   0   0   0   0   0   0\n",
            "    0   0   0   0   0   0   0   0   0   0]\n",
            " [  0   0   0   0   0   0   0   0   0   0   0   0   0   0   0   0   0   0\n",
            "    0   0   0   0   0   0   0   0   0   0]\n",
            " [  0   0   0   0   0   0   0   0   0   0   0   0   1   0   0  13  73   0\n",
            "    0   1   4   0   0   0   0   1   1   0]\n",
            " [  0   0   0   0   0   0   0   0   0   0   0   0   3   0  36 136 127  62\n",
            "   54   0   0   0   1   3   4   0   0   3]\n",
            " [  0   0   0   0   0   0   0   0   0   0   0   0   6   0 102 204 176 134\n",
            "  144 123  23   0   0   0   0  12  10   0]\n",
            " [  0   0   0   0   0   0   0   0   0   0   0   0   0   0 155 236 207 178\n",
            "  107 156 161 109  64  23  77 130  72  15]\n",
            " [  0   0   0   0   0   0   0   0   0   0   0   1   0  69 207 223 218 216\n",
            "  216 163 127 121 122 146 141  88 172  66]\n",
            " [  0   0   0   0   0   0   0   0   0   1   1   1   0 200 232 232 233 229\n",
            "  223 223 215 213 164 127 123 196 229   0]\n",
            " [  0   0   0   0   0   0   0   0   0   0   0   0   0 183 225 216 223 228\n",
            "  235 227 224 222 224 221 223 245 173   0]\n",
            " [  0   0   0   0   0   0   0   0   0   0   0   0   0 193 228 218 213 198\n",
            "  180 212 210 211 213 223 220 243 202   0]\n",
            " [  0   0   0   0   0   0   0   0   0   1   3   0  12 219 220 212 218 192\n",
            "  169 227 208 218 224 212 226 197 209  52]\n",
            " [  0   0   0   0   0   0   0   0   0   0   6   0  99 244 222 220 218 203\n",
            "  198 221 215 213 222 220 245 119 167  56]\n",
            " [  0   0   0   0   0   0   0   0   0   4   0   0  55 236 228 230 228 240\n",
            "  232 213 218 223 234 217 217 209  92   0]\n",
            " [  0   0   1   4   6   7   2   0   0   0   0   0 237 226 217 223 222 219\n",
            "  222 221 216 223 229 215 218 255  77   0]\n",
            " [  0   3   0   0   0   0   0   0   0  62 145 204 228 207 213 221 218 208\n",
            "  211 218 224 223 219 215 224 244 159   0]\n",
            " [  0   0   0   0  18  44  82 107 189 228 220 222 217 226 200 205 211 230\n",
            "  224 234 176 188 250 248 233 238 215   0]\n",
            " [  0  57 187 208 224 221 224 208 204 214 208 209 200 159 245 193 206 223\n",
            "  255 255 221 234 221 211 220 232 246   0]\n",
            " [  3 202 228 224 221 211 211 214 205 205 205 220 240  80 150 255 229 221\n",
            "  188 154 191 210 204 209 222 228 225   0]\n",
            " [ 98 233 198 210 222 229 229 234 249 220 194 215 217 241  65  73 106 117\n",
            "  168 219 221 215 217 223 223 224 229  29]\n",
            " [ 75 204 212 204 193 205 211 225 216 185 197 206 198 213 240 195 227 245\n",
            "  239 223 218 212 209 222 220 221 230  67]\n",
            " [ 48 203 183 194 213 197 185 190 194 192 202 214 219 221 220 236 225 216\n",
            "  199 206 186 181 177 172 181 205 206 115]\n",
            " [  0 122 219 193 179 171 183 196 204 210 213 207 211 210 200 196 194 191\n",
            "  195 191 198 192 176 156 167 177 210  92]\n",
            " [  0   0  74 189 212 191 175 172 175 181 185 188 189 188 193 198 204 209\n",
            "  210 210 211 188 188 194 192 216 170   0]\n",
            " [  2   0   0   0  66 200 222 237 239 242 246 243 244 221 220 193 191 179\n",
            "  182 182 181 176 166 168  99  58   0   0]\n",
            " [  0   0   0   0   0   0   0  40  61  44  72  41  35   0   0   0   0   0\n",
            "    0   0   0   0   0   0   0   0   0   0]\n",
            " [  0   0   0   0   0   0   0   0   0   0   0   0   0   0   0   0   0   0\n",
            "    0   0   0   0   0   0   0   0   0   0]\n",
            " [  0   0   0   0   0   0   0   0   0   0   0   0   0   0   0   0   0   0\n",
            "    0   0   0   0   0   0   0   0   0   0]]\n"
          ],
          "name": "stdout"
        }
      ]
    },
    {
      "cell_type": "code",
      "metadata": {
        "id": "yp-7WDp_PK4Y",
        "colab_type": "code",
        "outputId": "a13dc26f-c697-47f5-c06b-85194a294da5",
        "colab": {
          "base_uri": "https://localhost:8080/",
          "height": 1000
        }
      },
      "source": [
        "#shrink these image array values, divide every single pixel value by 255\n",
        "train_img=train_img/255\n",
        "test_img=test_img/255\n",
        "plt.imshow(train_img[0])\n",
        "plt.show()\n",
        "print(train_img[0])"
      ],
      "execution_count": 0,
      "outputs": [
        {
          "output_type": "display_data",
          "data": {
            "image/png": "[encoded data removed]",
            "text/plain": [
              "<Figure size 432x288 with 1 Axes>"
            ]
          },
          "metadata": {
            "tags": []
          }
        },
        {
          "output_type": "stream",
          "text": [
            "[[0.         0.         0.         0.         0.         0.\n",
            "  0.         0.         0.         0.         0.         0.\n",
            "  0.         0.         0.         0.         0.         0.\n",
            "  0.         0.         0.         0.         0.         0.\n",
            "  0.         0.         0.         0.        ]\n",
            " [0.         0.         0.         0.         0.         0.\n",
            "  0.         0.         0.         0.         0.         0.\n",
            "  0.         0.         0.         0.         0.         0.\n",
            "  0.         0.         0.         0.         0.         0.\n",
            "  0.         0.         0.         0.        ]\n",
            " [0.         0.         0.         0.         0.         0.\n",
            "  0.         0.         0.         0.         0.         0.\n",
            "  0.         0.         0.         0.         0.         0.\n",
            "  0.         0.         0.         0.         0.         0.\n",
            "  0.         0.         0.         0.        ]\n",
            " [0.         0.         0.         0.         0.         0.\n",
            "  0.         0.         0.         0.         0.         0.\n",
            "  0.00392157 0.         0.         0.05098039 0.28627451 0.\n",
            "  0.         0.00392157 0.01568627 0.         0.         0.\n",
            "  0.         0.00392157 0.00392157 0.        ]\n",
            " [0.         0.         0.         0.         0.         0.\n",
            "  0.         0.         0.         0.         0.         0.\n",
            "  0.01176471 0.         0.14117647 0.53333333 0.49803922 0.24313725\n",
            "  0.21176471 0.         0.         0.         0.00392157 0.01176471\n",
            "  0.01568627 0.         0.         0.01176471]\n",
            " [0.         0.         0.         0.         0.         0.\n",
            "  0.         0.         0.         0.         0.         0.\n",
            "  0.02352941 0.         0.4        0.8        0.69019608 0.5254902\n",
            "  0.56470588 0.48235294 0.09019608 0.         0.         0.\n",
            "  0.         0.04705882 0.03921569 0.        ]\n",
            " [0.         0.         0.         0.         0.         0.\n",
            "  0.         0.         0.         0.         0.         0.\n",
            "  0.         0.         0.60784314 0.9254902  0.81176471 0.69803922\n",
            "  0.41960784 0.61176471 0.63137255 0.42745098 0.25098039 0.09019608\n",
            "  0.30196078 0.50980392 0.28235294 0.05882353]\n",
            " [0.         0.         0.         0.         0.         0.\n",
            "  0.         0.         0.         0.         0.         0.00392157\n",
            "  0.         0.27058824 0.81176471 0.8745098  0.85490196 0.84705882\n",
            "  0.84705882 0.63921569 0.49803922 0.4745098  0.47843137 0.57254902\n",
            "  0.55294118 0.34509804 0.6745098  0.25882353]\n",
            " [0.         0.         0.         0.         0.         0.\n",
            "  0.         0.         0.         0.00392157 0.00392157 0.00392157\n",
            "  0.         0.78431373 0.90980392 0.90980392 0.91372549 0.89803922\n",
            "  0.8745098  0.8745098  0.84313725 0.83529412 0.64313725 0.49803922\n",
            "  0.48235294 0.76862745 0.89803922 0.        ]\n",
            " [0.         0.         0.         0.         0.         0.\n",
            "  0.         0.         0.         0.         0.         0.\n",
            "  0.         0.71764706 0.88235294 0.84705882 0.8745098  0.89411765\n",
            "  0.92156863 0.89019608 0.87843137 0.87058824 0.87843137 0.86666667\n",
            "  0.8745098  0.96078431 0.67843137 0.        ]\n",
            " [0.         0.         0.         0.         0.         0.\n",
            "  0.         0.         0.         0.         0.         0.\n",
            "  0.         0.75686275 0.89411765 0.85490196 0.83529412 0.77647059\n",
            "  0.70588235 0.83137255 0.82352941 0.82745098 0.83529412 0.8745098\n",
            "  0.8627451  0.95294118 0.79215686 0.        ]\n",
            " [0.         0.         0.         0.         0.         0.\n",
            "  0.         0.         0.         0.00392157 0.01176471 0.\n",
            "  0.04705882 0.85882353 0.8627451  0.83137255 0.85490196 0.75294118\n",
            "  0.6627451  0.89019608 0.81568627 0.85490196 0.87843137 0.83137255\n",
            "  0.88627451 0.77254902 0.81960784 0.20392157]\n",
            " [0.         0.         0.         0.         0.         0.\n",
            "  0.         0.         0.         0.         0.02352941 0.\n",
            "  0.38823529 0.95686275 0.87058824 0.8627451  0.85490196 0.79607843\n",
            "  0.77647059 0.86666667 0.84313725 0.83529412 0.87058824 0.8627451\n",
            "  0.96078431 0.46666667 0.65490196 0.21960784]\n",
            " [0.         0.         0.         0.         0.         0.\n",
            "  0.         0.         0.         0.01568627 0.         0.\n",
            "  0.21568627 0.9254902  0.89411765 0.90196078 0.89411765 0.94117647\n",
            "  0.90980392 0.83529412 0.85490196 0.8745098  0.91764706 0.85098039\n",
            "  0.85098039 0.81960784 0.36078431 0.        ]\n",
            " [0.         0.         0.00392157 0.01568627 0.02352941 0.02745098\n",
            "  0.00784314 0.         0.         0.         0.         0.\n",
            "  0.92941176 0.88627451 0.85098039 0.8745098  0.87058824 0.85882353\n",
            "  0.87058824 0.86666667 0.84705882 0.8745098  0.89803922 0.84313725\n",
            "  0.85490196 1.         0.30196078 0.        ]\n",
            " [0.         0.01176471 0.         0.         0.         0.\n",
            "  0.         0.         0.         0.24313725 0.56862745 0.8\n",
            "  0.89411765 0.81176471 0.83529412 0.86666667 0.85490196 0.81568627\n",
            "  0.82745098 0.85490196 0.87843137 0.8745098  0.85882353 0.84313725\n",
            "  0.87843137 0.95686275 0.62352941 0.        ]\n",
            " [0.         0.         0.         0.         0.07058824 0.17254902\n",
            "  0.32156863 0.41960784 0.74117647 0.89411765 0.8627451  0.87058824\n",
            "  0.85098039 0.88627451 0.78431373 0.80392157 0.82745098 0.90196078\n",
            "  0.87843137 0.91764706 0.69019608 0.7372549  0.98039216 0.97254902\n",
            "  0.91372549 0.93333333 0.84313725 0.        ]\n",
            " [0.         0.22352941 0.73333333 0.81568627 0.87843137 0.86666667\n",
            "  0.87843137 0.81568627 0.8        0.83921569 0.81568627 0.81960784\n",
            "  0.78431373 0.62352941 0.96078431 0.75686275 0.80784314 0.8745098\n",
            "  1.         1.         0.86666667 0.91764706 0.86666667 0.82745098\n",
            "  0.8627451  0.90980392 0.96470588 0.        ]\n",
            " [0.01176471 0.79215686 0.89411765 0.87843137 0.86666667 0.82745098\n",
            "  0.82745098 0.83921569 0.80392157 0.80392157 0.80392157 0.8627451\n",
            "  0.94117647 0.31372549 0.58823529 1.         0.89803922 0.86666667\n",
            "  0.7372549  0.60392157 0.74901961 0.82352941 0.8        0.81960784\n",
            "  0.87058824 0.89411765 0.88235294 0.        ]\n",
            " [0.38431373 0.91372549 0.77647059 0.82352941 0.87058824 0.89803922\n",
            "  0.89803922 0.91764706 0.97647059 0.8627451  0.76078431 0.84313725\n",
            "  0.85098039 0.94509804 0.25490196 0.28627451 0.41568627 0.45882353\n",
            "  0.65882353 0.85882353 0.86666667 0.84313725 0.85098039 0.8745098\n",
            "  0.8745098  0.87843137 0.89803922 0.11372549]\n",
            " [0.29411765 0.8        0.83137255 0.8        0.75686275 0.80392157\n",
            "  0.82745098 0.88235294 0.84705882 0.7254902  0.77254902 0.80784314\n",
            "  0.77647059 0.83529412 0.94117647 0.76470588 0.89019608 0.96078431\n",
            "  0.9372549  0.8745098  0.85490196 0.83137255 0.81960784 0.87058824\n",
            "  0.8627451  0.86666667 0.90196078 0.2627451 ]\n",
            " [0.18823529 0.79607843 0.71764706 0.76078431 0.83529412 0.77254902\n",
            "  0.7254902  0.74509804 0.76078431 0.75294118 0.79215686 0.83921569\n",
            "  0.85882353 0.86666667 0.8627451  0.9254902  0.88235294 0.84705882\n",
            "  0.78039216 0.80784314 0.72941176 0.70980392 0.69411765 0.6745098\n",
            "  0.70980392 0.80392157 0.80784314 0.45098039]\n",
            " [0.         0.47843137 0.85882353 0.75686275 0.70196078 0.67058824\n",
            "  0.71764706 0.76862745 0.8        0.82352941 0.83529412 0.81176471\n",
            "  0.82745098 0.82352941 0.78431373 0.76862745 0.76078431 0.74901961\n",
            "  0.76470588 0.74901961 0.77647059 0.75294118 0.69019608 0.61176471\n",
            "  0.65490196 0.69411765 0.82352941 0.36078431]\n",
            " [0.         0.         0.29019608 0.74117647 0.83137255 0.74901961\n",
            "  0.68627451 0.6745098  0.68627451 0.70980392 0.7254902  0.7372549\n",
            "  0.74117647 0.7372549  0.75686275 0.77647059 0.8        0.81960784\n",
            "  0.82352941 0.82352941 0.82745098 0.7372549  0.7372549  0.76078431\n",
            "  0.75294118 0.84705882 0.66666667 0.        ]\n",
            " [0.00784314 0.         0.         0.         0.25882353 0.78431373\n",
            "  0.87058824 0.92941176 0.9372549  0.94901961 0.96470588 0.95294118\n",
            "  0.95686275 0.86666667 0.8627451  0.75686275 0.74901961 0.70196078\n",
            "  0.71372549 0.71372549 0.70980392 0.69019608 0.65098039 0.65882353\n",
            "  0.38823529 0.22745098 0.         0.        ]\n",
            " [0.         0.         0.         0.         0.         0.\n",
            "  0.         0.15686275 0.23921569 0.17254902 0.28235294 0.16078431\n",
            "  0.1372549  0.         0.         0.         0.         0.\n",
            "  0.         0.         0.         0.         0.         0.\n",
            "  0.         0.         0.         0.        ]\n",
            " [0.         0.         0.         0.         0.         0.\n",
            "  0.         0.         0.         0.         0.         0.\n",
            "  0.         0.         0.         0.         0.         0.\n",
            "  0.         0.         0.         0.         0.         0.\n",
            "  0.         0.         0.         0.        ]\n",
            " [0.         0.         0.         0.         0.         0.\n",
            "  0.         0.         0.         0.         0.         0.\n",
            "  0.         0.         0.         0.         0.         0.\n",
            "  0.         0.         0.         0.         0.         0.\n",
            "  0.         0.         0.         0.        ]]\n"
          ],
          "name": "stdout"
        }
      ]
    },
    {
      "cell_type": "code",
      "metadata": {
        "id": "QNQ659g9PLWy",
        "colab_type": "code",
        "outputId": "b0f0e822-57d4-4b4a-fcf8-ffacffc69695",
        "colab": {
          "base_uri": "https://localhost:8080/",
          "height": 1000
        }
      },
      "source": [
        "train_img=train_img/255.0\n",
        "test_img=test_img/255.0\n",
        "plt.imshow(train_img[0])\n",
        "plt.show()\n",
        "print(train_img[0])"
      ],
      "execution_count": 0,
      "outputs": [
        {
          "output_type": "display_data",
          "data": {
            "image/png": "[encoded data removed]",
            "text/plain": [
              "<Figure size 432x288 with 1 Axes>"
            ]
          },
          "metadata": {
            "tags": []
          }
        },
        {
          "output_type": "stream",
          "text": [
            "[[0.00000000e+00 0.00000000e+00 0.00000000e+00 0.00000000e+00\n",
            "  0.00000000e+00 0.00000000e+00 0.00000000e+00 0.00000000e+00\n",
            "  0.00000000e+00 0.00000000e+00 0.00000000e+00 0.00000000e+00\n",
            "  0.00000000e+00 0.00000000e+00 0.00000000e+00 0.00000000e+00\n",
            "  0.00000000e+00 0.00000000e+00 0.00000000e+00 0.00000000e+00\n",
            "  0.00000000e+00 0.00000000e+00 0.00000000e+00 0.00000000e+00\n",
            "  0.00000000e+00 0.00000000e+00 0.00000000e+00 0.00000000e+00]\n",
            " [0.00000000e+00 0.00000000e+00 0.00000000e+00 0.00000000e+00\n",
            "  0.00000000e+00 0.00000000e+00 0.00000000e+00 0.00000000e+00\n",
            "  0.00000000e+00 0.00000000e+00 0.00000000e+00 0.00000000e+00\n",
            "  0.00000000e+00 0.00000000e+00 0.00000000e+00 0.00000000e+00\n",
            "  0.00000000e+00 0.00000000e+00 0.00000000e+00 0.00000000e+00\n",
            "  0.00000000e+00 0.00000000e+00 0.00000000e+00 0.00000000e+00\n",
            "  0.00000000e+00 0.00000000e+00 0.00000000e+00 0.00000000e+00]\n",
            " [0.00000000e+00 0.00000000e+00 0.00000000e+00 0.00000000e+00\n",
            "  0.00000000e+00 0.00000000e+00 0.00000000e+00 0.00000000e+00\n",
            "  0.00000000e+00 0.00000000e+00 0.00000000e+00 0.00000000e+00\n",
            "  0.00000000e+00 0.00000000e+00 0.00000000e+00 0.00000000e+00\n",
            "  0.00000000e+00 0.00000000e+00 0.00000000e+00 0.00000000e+00\n",
            "  0.00000000e+00 0.00000000e+00 0.00000000e+00 0.00000000e+00\n",
            "  0.00000000e+00 0.00000000e+00 0.00000000e+00 0.00000000e+00]\n",
            " [0.00000000e+00 0.00000000e+00 0.00000000e+00 0.00000000e+00\n",
            "  0.00000000e+00 0.00000000e+00 0.00000000e+00 0.00000000e+00\n",
            "  0.00000000e+00 0.00000000e+00 0.00000000e+00 0.00000000e+00\n",
            "  1.53787005e-05 0.00000000e+00 0.00000000e+00 1.99923106e-04\n",
            "  1.12264514e-03 0.00000000e+00 0.00000000e+00 1.53787005e-05\n",
            "  6.15148020e-05 0.00000000e+00 0.00000000e+00 0.00000000e+00\n",
            "  0.00000000e+00 1.53787005e-05 1.53787005e-05 0.00000000e+00]\n",
            " [0.00000000e+00 0.00000000e+00 0.00000000e+00 0.00000000e+00\n",
            "  0.00000000e+00 0.00000000e+00 0.00000000e+00 0.00000000e+00\n",
            "  0.00000000e+00 0.00000000e+00 0.00000000e+00 0.00000000e+00\n",
            "  4.61361015e-05 0.00000000e+00 5.53633218e-04 2.09150327e-03\n",
            "  1.95309496e-03 9.53479431e-04 8.30449827e-04 0.00000000e+00\n",
            "  0.00000000e+00 0.00000000e+00 1.53787005e-05 4.61361015e-05\n",
            "  6.15148020e-05 0.00000000e+00 0.00000000e+00 4.61361015e-05]\n",
            " [0.00000000e+00 0.00000000e+00 0.00000000e+00 0.00000000e+00\n",
            "  0.00000000e+00 0.00000000e+00 0.00000000e+00 0.00000000e+00\n",
            "  0.00000000e+00 0.00000000e+00 0.00000000e+00 0.00000000e+00\n",
            "  9.22722030e-05 0.00000000e+00 1.56862745e-03 3.13725490e-03\n",
            "  2.70665129e-03 2.06074587e-03 2.21453287e-03 1.89158016e-03\n",
            "  3.53710111e-04 0.00000000e+00 0.00000000e+00 0.00000000e+00\n",
            "  0.00000000e+00 1.84544406e-04 1.53787005e-04 0.00000000e+00]\n",
            " [0.00000000e+00 0.00000000e+00 0.00000000e+00 0.00000000e+00\n",
            "  0.00000000e+00 0.00000000e+00 0.00000000e+00 0.00000000e+00\n",
            "  0.00000000e+00 0.00000000e+00 0.00000000e+00 0.00000000e+00\n",
            "  0.00000000e+00 0.00000000e+00 2.38369858e-03 3.62937332e-03\n",
            "  3.18339100e-03 2.73740869e-03 1.64552095e-03 2.39907728e-03\n",
            "  2.47597078e-03 1.67627835e-03 9.84236832e-04 3.53710111e-04\n",
            "  1.18415994e-03 1.99923106e-03 1.10726644e-03 2.30680507e-04]\n",
            " [0.00000000e+00 0.00000000e+00 0.00000000e+00 0.00000000e+00\n",
            "  0.00000000e+00 0.00000000e+00 0.00000000e+00 0.00000000e+00\n",
            "  0.00000000e+00 0.00000000e+00 0.00000000e+00 1.53787005e-05\n",
            "  0.00000000e+00 1.06113033e-03 3.18339100e-03 3.42945021e-03\n",
            "  3.35255671e-03 3.32179931e-03 3.32179931e-03 2.50672818e-03\n",
            "  1.95309496e-03 1.86082276e-03 1.87620146e-03 2.24529027e-03\n",
            "  2.16839677e-03 1.35332564e-03 2.64513649e-03 1.01499423e-03]\n",
            " [0.00000000e+00 0.00000000e+00 0.00000000e+00 0.00000000e+00\n",
            "  0.00000000e+00 0.00000000e+00 0.00000000e+00 0.00000000e+00\n",
            "  0.00000000e+00 1.53787005e-05 1.53787005e-05 1.53787005e-05\n",
            "  0.00000000e+00 3.07574010e-03 3.56785852e-03 3.56785852e-03\n",
            "  3.58323722e-03 3.52172241e-03 3.42945021e-03 3.42945021e-03\n",
            "  3.30642061e-03 3.27566321e-03 2.52210688e-03 1.95309496e-03\n",
            "  1.89158016e-03 3.01422530e-03 3.52172241e-03 0.00000000e+00]\n",
            " [0.00000000e+00 0.00000000e+00 0.00000000e+00 0.00000000e+00\n",
            "  0.00000000e+00 0.00000000e+00 0.00000000e+00 0.00000000e+00\n",
            "  0.00000000e+00 0.00000000e+00 0.00000000e+00 0.00000000e+00\n",
            "  0.00000000e+00 2.81430219e-03 3.46020761e-03 3.32179931e-03\n",
            "  3.42945021e-03 3.50634371e-03 3.61399462e-03 3.49096501e-03\n",
            "  3.44482891e-03 3.41407151e-03 3.44482891e-03 3.39869281e-03\n",
            "  3.42945021e-03 3.76778162e-03 2.66051519e-03 0.00000000e+00]\n",
            " [0.00000000e+00 0.00000000e+00 0.00000000e+00 0.00000000e+00\n",
            "  0.00000000e+00 0.00000000e+00 0.00000000e+00 0.00000000e+00\n",
            "  0.00000000e+00 0.00000000e+00 0.00000000e+00 0.00000000e+00\n",
            "  0.00000000e+00 2.96808920e-03 3.50634371e-03 3.35255671e-03\n",
            "  3.27566321e-03 3.04498270e-03 2.76816609e-03 3.26028451e-03\n",
            "  3.22952710e-03 3.24490581e-03 3.27566321e-03 3.42945021e-03\n",
            "  3.38331411e-03 3.73702422e-03 3.10649750e-03 0.00000000e+00]\n",
            " [0.00000000e+00 0.00000000e+00 0.00000000e+00 0.00000000e+00\n",
            "  0.00000000e+00 0.00000000e+00 0.00000000e+00 0.00000000e+00\n",
            "  0.00000000e+00 1.53787005e-05 4.61361015e-05 0.00000000e+00\n",
            "  1.84544406e-04 3.36793541e-03 3.38331411e-03 3.26028451e-03\n",
            "  3.35255671e-03 2.95271050e-03 2.59900038e-03 3.49096501e-03\n",
            "  3.19876970e-03 3.35255671e-03 3.44482891e-03 3.26028451e-03\n",
            "  3.47558631e-03 3.02960400e-03 3.21414840e-03 7.99692426e-04]\n",
            " [0.00000000e+00 0.00000000e+00 0.00000000e+00 0.00000000e+00\n",
            "  0.00000000e+00 0.00000000e+00 0.00000000e+00 0.00000000e+00\n",
            "  0.00000000e+00 0.00000000e+00 9.22722030e-05 0.00000000e+00\n",
            "  1.52249135e-03 3.75240292e-03 3.41407151e-03 3.38331411e-03\n",
            "  3.35255671e-03 3.12187620e-03 3.04498270e-03 3.39869281e-03\n",
            "  3.30642061e-03 3.27566321e-03 3.41407151e-03 3.38331411e-03\n",
            "  3.76778162e-03 1.83006536e-03 2.56824298e-03 8.61207228e-04]\n",
            " [0.00000000e+00 0.00000000e+00 0.00000000e+00 0.00000000e+00\n",
            "  0.00000000e+00 0.00000000e+00 0.00000000e+00 0.00000000e+00\n",
            "  0.00000000e+00 6.15148020e-05 0.00000000e+00 0.00000000e+00\n",
            "  8.45828527e-04 3.62937332e-03 3.50634371e-03 3.53710111e-03\n",
            "  3.50634371e-03 3.69088812e-03 3.56785852e-03 3.27566321e-03\n",
            "  3.35255671e-03 3.42945021e-03 3.59861592e-03 3.33717801e-03\n",
            "  3.33717801e-03 3.21414840e-03 1.41484045e-03 0.00000000e+00]\n",
            " [0.00000000e+00 0.00000000e+00 1.53787005e-05 6.15148020e-05\n",
            "  9.22722030e-05 1.07650903e-04 3.07574010e-05 0.00000000e+00\n",
            "  0.00000000e+00 0.00000000e+00 0.00000000e+00 0.00000000e+00\n",
            "  3.64475202e-03 3.47558631e-03 3.33717801e-03 3.42945021e-03\n",
            "  3.41407151e-03 3.36793541e-03 3.41407151e-03 3.39869281e-03\n",
            "  3.32179931e-03 3.42945021e-03 3.52172241e-03 3.30642061e-03\n",
            "  3.35255671e-03 3.92156863e-03 1.18415994e-03 0.00000000e+00]\n",
            " [0.00000000e+00 4.61361015e-05 0.00000000e+00 0.00000000e+00\n",
            "  0.00000000e+00 0.00000000e+00 0.00000000e+00 0.00000000e+00\n",
            "  0.00000000e+00 9.53479431e-04 2.22991157e-03 3.13725490e-03\n",
            "  3.50634371e-03 3.18339100e-03 3.27566321e-03 3.39869281e-03\n",
            "  3.35255671e-03 3.19876970e-03 3.24490581e-03 3.35255671e-03\n",
            "  3.44482891e-03 3.42945021e-03 3.36793541e-03 3.30642061e-03\n",
            "  3.44482891e-03 3.75240292e-03 2.44521338e-03 0.00000000e+00]\n",
            " [0.00000000e+00 0.00000000e+00 0.00000000e+00 0.00000000e+00\n",
            "  2.76816609e-04 6.76662822e-04 1.26105344e-03 1.64552095e-03\n",
            "  2.90657439e-03 3.50634371e-03 3.38331411e-03 3.41407151e-03\n",
            "  3.33717801e-03 3.47558631e-03 3.07574010e-03 3.15263360e-03\n",
            "  3.24490581e-03 3.53710111e-03 3.44482891e-03 3.59861592e-03\n",
            "  2.70665129e-03 2.89119569e-03 3.84467512e-03 3.81391772e-03\n",
            "  3.58323722e-03 3.66013072e-03 3.30642061e-03 0.00000000e+00]\n",
            " [0.00000000e+00 8.76585928e-04 2.87581699e-03 3.19876970e-03\n",
            "  3.44482891e-03 3.39869281e-03 3.44482891e-03 3.19876970e-03\n",
            "  3.13725490e-03 3.29104191e-03 3.19876970e-03 3.21414840e-03\n",
            "  3.07574010e-03 2.44521338e-03 3.76778162e-03 2.96808920e-03\n",
            "  3.16801230e-03 3.42945021e-03 3.92156863e-03 3.92156863e-03\n",
            "  3.39869281e-03 3.59861592e-03 3.39869281e-03 3.24490581e-03\n",
            "  3.38331411e-03 3.56785852e-03 3.78316032e-03 0.00000000e+00]\n",
            " [4.61361015e-05 3.10649750e-03 3.50634371e-03 3.44482891e-03\n",
            "  3.39869281e-03 3.24490581e-03 3.24490581e-03 3.29104191e-03\n",
            "  3.15263360e-03 3.15263360e-03 3.15263360e-03 3.38331411e-03\n",
            "  3.69088812e-03 1.23029604e-03 2.30680507e-03 3.92156863e-03\n",
            "  3.52172241e-03 3.39869281e-03 2.89119569e-03 2.36831988e-03\n",
            "  2.93733180e-03 3.22952710e-03 3.13725490e-03 3.21414840e-03\n",
            "  3.41407151e-03 3.50634371e-03 3.46020761e-03 0.00000000e+00]\n",
            " [1.50711265e-03 3.58323722e-03 3.04498270e-03 3.22952710e-03\n",
            "  3.41407151e-03 3.52172241e-03 3.52172241e-03 3.59861592e-03\n",
            "  3.82929642e-03 3.38331411e-03 2.98346790e-03 3.30642061e-03\n",
            "  3.33717801e-03 3.70626682e-03 9.99615532e-04 1.12264514e-03\n",
            "  1.63014225e-03 1.79930796e-03 2.58362168e-03 3.36793541e-03\n",
            "  3.39869281e-03 3.30642061e-03 3.33717801e-03 3.42945021e-03\n",
            "  3.42945021e-03 3.44482891e-03 3.52172241e-03 4.45982314e-04]\n",
            " [1.15340254e-03 3.13725490e-03 3.26028451e-03 3.13725490e-03\n",
            "  2.96808920e-03 3.15263360e-03 3.24490581e-03 3.46020761e-03\n",
            "  3.32179931e-03 2.84505959e-03 3.02960400e-03 3.16801230e-03\n",
            "  3.04498270e-03 3.27566321e-03 3.69088812e-03 2.99884660e-03\n",
            "  3.49096501e-03 3.76778162e-03 3.67550942e-03 3.42945021e-03\n",
            "  3.35255671e-03 3.26028451e-03 3.21414840e-03 3.41407151e-03\n",
            "  3.38331411e-03 3.39869281e-03 3.53710111e-03 1.03037293e-03]\n",
            " [7.38177624e-04 3.12187620e-03 2.81430219e-03 2.98346790e-03\n",
            "  3.27566321e-03 3.02960400e-03 2.84505959e-03 2.92195309e-03\n",
            "  2.98346790e-03 2.95271050e-03 3.10649750e-03 3.29104191e-03\n",
            "  3.36793541e-03 3.39869281e-03 3.38331411e-03 3.62937332e-03\n",
            "  3.46020761e-03 3.32179931e-03 3.06036140e-03 3.16801230e-03\n",
            "  2.86043829e-03 2.78354479e-03 2.72202999e-03 2.64513649e-03\n",
            "  2.78354479e-03 3.15263360e-03 3.16801230e-03 1.76855056e-03]\n",
            " [0.00000000e+00 1.87620146e-03 3.36793541e-03 2.96808920e-03\n",
            "  2.75278739e-03 2.62975779e-03 2.81430219e-03 3.01422530e-03\n",
            "  3.13725490e-03 3.22952710e-03 3.27566321e-03 3.18339100e-03\n",
            "  3.24490581e-03 3.22952710e-03 3.07574010e-03 3.01422530e-03\n",
            "  2.98346790e-03 2.93733180e-03 2.99884660e-03 2.93733180e-03\n",
            "  3.04498270e-03 2.95271050e-03 2.70665129e-03 2.39907728e-03\n",
            "  2.56824298e-03 2.72202999e-03 3.22952710e-03 1.41484045e-03]\n",
            " [0.00000000e+00 0.00000000e+00 1.13802384e-03 2.90657439e-03\n",
            "  3.26028451e-03 2.93733180e-03 2.69127259e-03 2.64513649e-03\n",
            "  2.69127259e-03 2.78354479e-03 2.84505959e-03 2.89119569e-03\n",
            "  2.90657439e-03 2.89119569e-03 2.96808920e-03 3.04498270e-03\n",
            "  3.13725490e-03 3.21414840e-03 3.22952710e-03 3.22952710e-03\n",
            "  3.24490581e-03 2.89119569e-03 2.89119569e-03 2.98346790e-03\n",
            "  2.95271050e-03 3.32179931e-03 2.61437908e-03 0.00000000e+00]\n",
            " [3.07574010e-05 0.00000000e+00 0.00000000e+00 0.00000000e+00\n",
            "  1.01499423e-03 3.07574010e-03 3.41407151e-03 3.64475202e-03\n",
            "  3.67550942e-03 3.72164552e-03 3.78316032e-03 3.73702422e-03\n",
            "  3.75240292e-03 3.39869281e-03 3.38331411e-03 2.96808920e-03\n",
            "  2.93733180e-03 2.75278739e-03 2.79892349e-03 2.79892349e-03\n",
            "  2.78354479e-03 2.70665129e-03 2.55286428e-03 2.58362168e-03\n",
            "  1.52249135e-03 8.91964629e-04 0.00000000e+00 0.00000000e+00]\n",
            " [0.00000000e+00 0.00000000e+00 0.00000000e+00 0.00000000e+00\n",
            "  0.00000000e+00 0.00000000e+00 0.00000000e+00 6.15148020e-04\n",
            "  9.38100730e-04 6.76662822e-04 1.10726644e-03 6.30526720e-04\n",
            "  5.38254517e-04 0.00000000e+00 0.00000000e+00 0.00000000e+00\n",
            "  0.00000000e+00 0.00000000e+00 0.00000000e+00 0.00000000e+00\n",
            "  0.00000000e+00 0.00000000e+00 0.00000000e+00 0.00000000e+00\n",
            "  0.00000000e+00 0.00000000e+00 0.00000000e+00 0.00000000e+00]\n",
            " [0.00000000e+00 0.00000000e+00 0.00000000e+00 0.00000000e+00\n",
            "  0.00000000e+00 0.00000000e+00 0.00000000e+00 0.00000000e+00\n",
            "  0.00000000e+00 0.00000000e+00 0.00000000e+00 0.00000000e+00\n",
            "  0.00000000e+00 0.00000000e+00 0.00000000e+00 0.00000000e+00\n",
            "  0.00000000e+00 0.00000000e+00 0.00000000e+00 0.00000000e+00\n",
            "  0.00000000e+00 0.00000000e+00 0.00000000e+00 0.00000000e+00\n",
            "  0.00000000e+00 0.00000000e+00 0.00000000e+00 0.00000000e+00]\n",
            " [0.00000000e+00 0.00000000e+00 0.00000000e+00 0.00000000e+00\n",
            "  0.00000000e+00 0.00000000e+00 0.00000000e+00 0.00000000e+00\n",
            "  0.00000000e+00 0.00000000e+00 0.00000000e+00 0.00000000e+00\n",
            "  0.00000000e+00 0.00000000e+00 0.00000000e+00 0.00000000e+00\n",
            "  0.00000000e+00 0.00000000e+00 0.00000000e+00 0.00000000e+00\n",
            "  0.00000000e+00 0.00000000e+00 0.00000000e+00 0.00000000e+00\n",
            "  0.00000000e+00 0.00000000e+00 0.00000000e+00 0.00000000e+00]]\n"
          ],
          "name": "stdout"
        }
      ]
    },
    {
      "cell_type": "code",
      "metadata": {
        "id": "w5qKz4giPL1L",
        "colab_type": "code",
        "outputId": "8aed14c5-31c3-4afb-d950-3b46670866a0",
        "colab": {
          "base_uri": "https://localhost:8080/",
          "height": 88
        }
      },
      "source": [
        "model = keras.Sequential([\n",
        "    keras.layers.Flatten(input_shape=(28, 28)),\n",
        "    keras.layers.Dense(128, activation='relu'),\n",
        "    keras.layers.Dense(10, activation='softmax')\n",
        "])"
      ],
      "execution_count": 0,
      "outputs": [
        {
          "output_type": "stream",
          "text": [
            "WARNING:tensorflow:From /usr/local/lib/python3.6/dist-packages/tensorflow_core/python/ops/resource_variable_ops.py:1630: calling BaseResourceVariable.__init__ (from tensorflow.python.ops.resource_variable_ops) with constraint is deprecated and will be removed in a future version.\n",
            "Instructions for updating:\n",
            "If using Keras pass *_constraint arguments to layers.\n"
          ],
          "name": "stdout"
        }
      ]
    },
    {
      "cell_type": "code",
      "metadata": {
        "id": "1ZDiIQIAUW_8",
        "colab_type": "code",
        "colab": {}
      },
      "source": [
        "model.compile(optimizer='adam',\n",
        "              loss='sparse_categorical_crossentropy',\n",
        "              metrics=['accuracy'])"
      ],
      "execution_count": 0,
      "outputs": []
    },
    {
      "cell_type": "code",
      "metadata": {
        "id": "zEpBDNRwUbjJ",
        "colab_type": "code",
        "outputId": "9afcf511-b6c8-49fc-aca0-bd2dc87fc5a3",
        "colab": {
          "base_uri": "https://localhost:8080/",
          "height": 1000
        }
      },
      "source": [
        "model.fit(train_img, train_lbl, epochs=100)\n"
      ],
      "execution_count": 0,
      "outputs": [
        {
          "output_type": "stream",
          "text": [
            "Train on 60000 samples\n",
            "Epoch 1/100\n",
            "60000/60000 [==============================] - 6s 99us/sample - loss: 1.1055 - acc: 0.6614\n",
            "Epoch 2/100\n",
            "60000/60000 [==============================] - 5s 88us/sample - loss: 0.6427 - acc: 0.7689\n",
            "Epoch 3/100\n",
            "60000/60000 [==============================] - 5s 88us/sample - loss: 0.5669 - acc: 0.7963\n",
            "Epoch 4/100\n",
            "60000/60000 [==============================] - 5s 86us/sample - loss: 0.5246 - acc: 0.8144\n",
            "Epoch 5/100\n",
            "60000/60000 [==============================] - 5s 87us/sample - loss: 0.4968 - acc: 0.8238\n",
            "Epoch 6/100\n",
            "60000/60000 [==============================] - 5s 89us/sample - loss: 0.4771 - acc: 0.8314\n",
            "Epoch 7/100\n",
            "60000/60000 [==============================] - 5s 87us/sample - loss: 0.4620 - acc: 0.8368\n",
            "Epoch 8/100\n",
            "60000/60000 [==============================] - 5s 88us/sample - loss: 0.4500 - acc: 0.8417\n",
            "Epoch 9/100\n",
            "60000/60000 [==============================] - 5s 87us/sample - loss: 0.4394 - acc: 0.8460\n",
            "Epoch 10/100\n",
            "60000/60000 [==============================] - 5s 86us/sample - loss: 0.4317 - acc: 0.8484\n",
            "Epoch 11/100\n",
            "60000/60000 [==============================] - 5s 86us/sample - loss: 0.4236 - acc: 0.8513\n",
            "Epoch 12/100\n",
            "60000/60000 [==============================] - 5s 86us/sample - loss: 0.4175 - acc: 0.8529\n",
            "Epoch 13/100\n",
            "60000/60000 [==============================] - 5s 88us/sample - loss: 0.4114 - acc: 0.8554\n",
            "Epoch 14/100\n",
            "60000/60000 [==============================] - 5s 87us/sample - loss: 0.4063 - acc: 0.8576\n",
            "Epoch 15/100\n",
            "60000/60000 [==============================] - 5s 87us/sample - loss: 0.4013 - acc: 0.8595\n",
            "Epoch 16/100\n",
            "60000/60000 [==============================] - 5s 88us/sample - loss: 0.3971 - acc: 0.8602\n",
            "Epoch 17/100\n",
            "60000/60000 [==============================] - 5s 87us/sample - loss: 0.3924 - acc: 0.8620\n",
            "Epoch 18/100\n",
            "60000/60000 [==============================] - 5s 88us/sample - loss: 0.3886 - acc: 0.8636\n",
            "Epoch 19/100\n",
            "60000/60000 [==============================] - 5s 87us/sample - loss: 0.3848 - acc: 0.8646\n",
            "Epoch 20/100\n",
            "60000/60000 [==============================] - 5s 88us/sample - loss: 0.3809 - acc: 0.8661\n",
            "Epoch 21/100\n",
            "60000/60000 [==============================] - 5s 88us/sample - loss: 0.3782 - acc: 0.8667\n",
            "Epoch 22/100\n",
            "60000/60000 [==============================] - 5s 87us/sample - loss: 0.3748 - acc: 0.8676\n",
            "Epoch 23/100\n",
            "60000/60000 [==============================] - 5s 88us/sample - loss: 0.3713 - acc: 0.8688\n",
            "Epoch 24/100\n",
            "60000/60000 [==============================] - 5s 88us/sample - loss: 0.3681 - acc: 0.8701\n",
            "Epoch 25/100\n",
            "60000/60000 [==============================] - 5s 91us/sample - loss: 0.3656 - acc: 0.8701\n",
            "Epoch 26/100\n",
            "60000/60000 [==============================] - 5s 88us/sample - loss: 0.3625 - acc: 0.8720\n",
            "Epoch 27/100\n",
            "60000/60000 [==============================] - 5s 88us/sample - loss: 0.3599 - acc: 0.8729\n",
            "Epoch 28/100\n",
            "60000/60000 [==============================] - 5s 87us/sample - loss: 0.3574 - acc: 0.8731\n",
            "Epoch 29/100\n",
            "60000/60000 [==============================] - 5s 88us/sample - loss: 0.3543 - acc: 0.8746\n",
            "Epoch 30/100\n",
            "60000/60000 [==============================] - 5s 88us/sample - loss: 0.3523 - acc: 0.8748\n",
            "Epoch 31/100\n",
            "60000/60000 [==============================] - 5s 86us/sample - loss: 0.3498 - acc: 0.8765\n",
            "Epoch 32/100\n",
            "60000/60000 [==============================] - 5s 86us/sample - loss: 0.3473 - acc: 0.8778\n",
            "Epoch 33/100\n",
            "60000/60000 [==============================] - 5s 86us/sample - loss: 0.3450 - acc: 0.8770\n",
            "Epoch 34/100\n",
            "60000/60000 [==============================] - 5s 87us/sample - loss: 0.3428 - acc: 0.8785\n",
            "Epoch 35/100\n",
            "60000/60000 [==============================] - 5s 86us/sample - loss: 0.3406 - acc: 0.8794\n",
            "Epoch 36/100\n",
            "60000/60000 [==============================] - 5s 87us/sample - loss: 0.3384 - acc: 0.8796\n",
            "Epoch 37/100\n",
            "60000/60000 [==============================] - 5s 88us/sample - loss: 0.3363 - acc: 0.8806\n",
            "Epoch 38/100\n",
            "60000/60000 [==============================] - 5s 87us/sample - loss: 0.3345 - acc: 0.8803\n",
            "Epoch 39/100\n",
            "60000/60000 [==============================] - 5s 86us/sample - loss: 0.3320 - acc: 0.8820\n",
            "Epoch 40/100\n",
            "60000/60000 [==============================] - 5s 86us/sample - loss: 0.3304 - acc: 0.8830\n",
            "Epoch 41/100\n",
            "60000/60000 [==============================] - 5s 87us/sample - loss: 0.3286 - acc: 0.8831\n",
            "Epoch 42/100\n",
            "60000/60000 [==============================] - 5s 87us/sample - loss: 0.3260 - acc: 0.8842\n",
            "Epoch 43/100\n",
            "60000/60000 [==============================] - 5s 88us/sample - loss: 0.3241 - acc: 0.8852\n",
            "Epoch 44/100\n",
            "60000/60000 [==============================] - 5s 87us/sample - loss: 0.3224 - acc: 0.8850\n",
            "Epoch 45/100\n",
            "60000/60000 [==============================] - 5s 86us/sample - loss: 0.3205 - acc: 0.8859\n",
            "Epoch 46/100\n",
            "60000/60000 [==============================] - 5s 86us/sample - loss: 0.3187 - acc: 0.8868\n",
            "Epoch 47/100\n",
            "60000/60000 [==============================] - 5s 86us/sample - loss: 0.3168 - acc: 0.8873\n",
            "Epoch 48/100\n",
            "60000/60000 [==============================] - 5s 88us/sample - loss: 0.3150 - acc: 0.8875\n",
            "Epoch 49/100\n",
            "60000/60000 [==============================] - 5s 87us/sample - loss: 0.3132 - acc: 0.8878\n",
            "Epoch 50/100\n",
            "60000/60000 [==============================] - 5s 91us/sample - loss: 0.3114 - acc: 0.8886\n",
            "Epoch 51/100\n",
            "60000/60000 [==============================] - 6s 92us/sample - loss: 0.3099 - acc: 0.8887\n",
            "Epoch 52/100\n",
            "60000/60000 [==============================] - 5s 86us/sample - loss: 0.3086 - acc: 0.8895\n",
            "Epoch 53/100\n",
            "60000/60000 [==============================] - 5s 87us/sample - loss: 0.3067 - acc: 0.8911\n",
            "Epoch 54/100\n",
            "60000/60000 [==============================] - 5s 86us/sample - loss: 0.3050 - acc: 0.8906\n",
            "Epoch 55/100\n",
            "60000/60000 [==============================] - 5s 87us/sample - loss: 0.3037 - acc: 0.8920\n",
            "Epoch 56/100\n",
            "60000/60000 [==============================] - 5s 87us/sample - loss: 0.3020 - acc: 0.8918\n",
            "Epoch 57/100\n",
            "60000/60000 [==============================] - 5s 87us/sample - loss: 0.3004 - acc: 0.8926\n",
            "Epoch 58/100\n",
            "60000/60000 [==============================] - 5s 88us/sample - loss: 0.2997 - acc: 0.8927\n",
            "Epoch 59/100\n",
            "60000/60000 [==============================] - 5s 85us/sample - loss: 0.2976 - acc: 0.8938\n",
            "Epoch 60/100\n",
            "60000/60000 [==============================] - 5s 87us/sample - loss: 0.2962 - acc: 0.8940\n",
            "Epoch 61/100\n",
            "60000/60000 [==============================] - 5s 86us/sample - loss: 0.2955 - acc: 0.8936\n",
            "Epoch 62/100\n",
            "60000/60000 [==============================] - 5s 86us/sample - loss: 0.2930 - acc: 0.8952\n",
            "Epoch 63/100\n",
            "60000/60000 [==============================] - 5s 86us/sample - loss: 0.2924 - acc: 0.8956\n",
            "Epoch 64/100\n",
            "60000/60000 [==============================] - 5s 87us/sample - loss: 0.2906 - acc: 0.8959\n",
            "Epoch 65/100\n",
            "60000/60000 [==============================] - 5s 86us/sample - loss: 0.2898 - acc: 0.8970\n",
            "Epoch 66/100\n",
            "60000/60000 [==============================] - 5s 86us/sample - loss: 0.2881 - acc: 0.8963\n",
            "Epoch 67/100\n",
            "60000/60000 [==============================] - 5s 86us/sample - loss: 0.2869 - acc: 0.8981\n",
            "Epoch 68/100\n",
            "60000/60000 [==============================] - 5s 86us/sample - loss: 0.2853 - acc: 0.8982\n",
            "Epoch 69/100\n",
            "60000/60000 [==============================] - 5s 86us/sample - loss: 0.2846 - acc: 0.8988\n",
            "Epoch 70/100\n",
            "60000/60000 [==============================] - 5s 86us/sample - loss: 0.2830 - acc: 0.8994\n",
            "Epoch 71/100\n",
            "60000/60000 [==============================] - 5s 87us/sample - loss: 0.2823 - acc: 0.8988\n",
            "Epoch 72/100\n",
            "60000/60000 [==============================] - 5s 87us/sample - loss: 0.2810 - acc: 0.9000\n",
            "Epoch 73/100\n",
            "60000/60000 [==============================] - 5s 87us/sample - loss: 0.2797 - acc: 0.8996\n",
            "Epoch 74/100\n",
            "60000/60000 [==============================] - 5s 87us/sample - loss: 0.2786 - acc: 0.9011\n",
            "Epoch 75/100\n",
            "60000/60000 [==============================] - 5s 88us/sample - loss: 0.2778 - acc: 0.9007\n",
            "Epoch 76/100\n",
            "60000/60000 [==============================] - 5s 87us/sample - loss: 0.2765 - acc: 0.9020\n",
            "Epoch 77/100\n",
            "60000/60000 [==============================] - 5s 86us/sample - loss: 0.2749 - acc: 0.9017\n",
            "Epoch 78/100\n",
            "60000/60000 [==============================] - 5s 88us/sample - loss: 0.2744 - acc: 0.9021\n",
            "Epoch 79/100\n",
            "60000/60000 [==============================] - 5s 87us/sample - loss: 0.2737 - acc: 0.9020\n",
            "Epoch 80/100\n",
            "60000/60000 [==============================] - 5s 87us/sample - loss: 0.2723 - acc: 0.9029\n",
            "Epoch 81/100\n",
            "60000/60000 [==============================] - 5s 87us/sample - loss: 0.2714 - acc: 0.9025\n",
            "Epoch 82/100\n",
            "60000/60000 [==============================] - 5s 87us/sample - loss: 0.2699 - acc: 0.9033\n",
            "Epoch 83/100\n",
            "60000/60000 [==============================] - 5s 88us/sample - loss: 0.2690 - acc: 0.9037\n",
            "Epoch 84/100\n",
            "60000/60000 [==============================] - 5s 89us/sample - loss: 0.2683 - acc: 0.9046\n",
            "Epoch 85/100\n",
            "60000/60000 [==============================] - 5s 87us/sample - loss: 0.2670 - acc: 0.9045\n",
            "Epoch 86/100\n",
            "60000/60000 [==============================] - 5s 87us/sample - loss: 0.2658 - acc: 0.9047\n",
            "Epoch 87/100\n",
            "60000/60000 [==============================] - 5s 87us/sample - loss: 0.2649 - acc: 0.9055\n",
            "Epoch 88/100\n",
            "60000/60000 [==============================] - 5s 86us/sample - loss: 0.2644 - acc: 0.9054\n",
            "Epoch 89/100\n",
            "60000/60000 [==============================] - 5s 87us/sample - loss: 0.2631 - acc: 0.9064\n",
            "Epoch 90/100\n",
            "60000/60000 [==============================] - 5s 87us/sample - loss: 0.2621 - acc: 0.9058\n",
            "Epoch 91/100\n",
            "60000/60000 [==============================] - 5s 86us/sample - loss: 0.2611 - acc: 0.9060\n",
            "Epoch 92/100\n",
            "60000/60000 [==============================] - 5s 87us/sample - loss: 0.2602 - acc: 0.9065\n",
            "Epoch 93/100\n",
            "60000/60000 [==============================] - 5s 86us/sample - loss: 0.2597 - acc: 0.9069\n",
            "Epoch 94/100\n",
            "60000/60000 [==============================] - 5s 87us/sample - loss: 0.2583 - acc: 0.9079\n",
            "Epoch 95/100\n",
            "60000/60000 [==============================] - 5s 88us/sample - loss: 0.2577 - acc: 0.9079\n",
            "Epoch 96/100\n",
            "60000/60000 [==============================] - 5s 87us/sample - loss: 0.2565 - acc: 0.9083\n",
            "Epoch 97/100\n",
            "60000/60000 [==============================] - 5s 87us/sample - loss: 0.2555 - acc: 0.9086\n",
            "Epoch 98/100\n",
            "60000/60000 [==============================] - 5s 86us/sample - loss: 0.2542 - acc: 0.9091\n",
            "Epoch 99/100\n",
            "60000/60000 [==============================] - 5s 87us/sample - loss: 0.2539 - acc: 0.9093\n",
            "Epoch 100/100\n",
            "60000/60000 [==============================] - 5s 87us/sample - loss: 0.2529 - acc: 0.9087\n"
          ],
          "name": "stdout"
        },
        {
          "output_type": "execute_result",
          "data": {
            "text/plain": [
              "<tensorflow.python.keras.callbacks.History at 0x7f0778a9b748>"
            ]
          },
          "metadata": {
            "tags": []
          },
          "execution_count": 35
        }
      ]
    },
    {
      "cell_type": "code",
      "metadata": {
        "id": "C97IQoIwUcJH",
        "colab_type": "code",
        "outputId": "b5af4b5c-bc49-496d-93ee-3049bc859899",
        "colab": {
          "base_uri": "https://localhost:8080/",
          "height": 85
        }
      },
      "source": [
        "test_loss, test_acc = model.evaluate(test_img,  test_lbl, verbose=2)\n",
        "\n",
        "print('\\nTest accuracy:', test_acc)\n",
        "\n",
        "import json\n",
        "\n",
        "model_json = model.to_json()\n",
        "with open(\"model.json\", \"w\") as json_file:\n",
        "    json_file.write(model_json)\n",
        "# serialize weights to HDF5\n",
        "model.save_weights(\"model.h5\")\n",
        "print(\"Saved model to disk\")"
      ],
      "execution_count": 0,
      "outputs": [
        {
          "output_type": "stream",
          "text": [
            "10000/10000 - 1s - loss: 0.3449 - acc: 0.8778\n",
            "\n",
            "Test accuracy: 0.8778\n",
            "Saved model to disk\n"
          ],
          "name": "stdout"
        }
      ]
    },
    {
      "cell_type": "markdown",
      "metadata": {
        "id": "XkVi69OhY6lj",
        "colab_type": "text"
      },
      "source": [
        "# New Section"
      ]
    },
    {
      "cell_type": "code",
      "metadata": {
        "id": "__vmThRMY9Ml",
        "colab_type": "code",
        "colab": {}
      },
      "source": [
        "from google.colab import drive\n",
        "drive.mount('/content/drive')"
      ],
      "execution_count": 0,
      "outputs": []
    },
    {
      "cell_type": "code",
      "metadata": {
        "id": "wJUS7RN8Ucvv",
        "colab_type": "code",
        "outputId": "7cecba9f-c8d6-4d71-dbc3-5e1c6ffadfff",
        "colab": {
          "base_uri": "https://localhost:8080/",
          "height": 520
        }
      },
      "source": [
        "predict = model.predict(test_img)#test is a bunch so for index 1 prediction is ankle boot\n",
        "print(predict)# different probabilities which our model is  doing\n",
        "print(class_names[np.argmax(predict[1])])\n",
        "plt.imshow(test_img[1])\n"
      ],
      "execution_count": 0,
      "outputs": [
        {
          "output_type": "stream",
          "text": [
            "[[1.27073250e-08 3.82071935e-12 2.45426833e-07 ... 1.22648776e-02\n",
            "  1.02398684e-04 9.83663321e-01]\n",
            " [1.29954482e-04 2.38588660e-09 9.95778322e-01 ... 3.61124917e-30\n",
            "  5.81438599e-07 2.55965088e-26]\n",
            " [1.39322219e-04 9.99840736e-01 1.76373567e-06 ... 4.26855952e-14\n",
            "  2.37825160e-09 1.40326046e-17]\n",
            " ...\n",
            " [4.90821525e-03 4.23187778e-08 1.84920453e-03 ... 1.06970890e-06\n",
            "  9.69871283e-01 2.93372965e-12]\n",
            " [5.91303688e-05 9.99404669e-01 2.91567594e-05 ... 1.72858047e-10\n",
            "  2.63924420e-08 7.71231357e-10]\n",
            " [7.20361754e-07 6.38584012e-08 1.33441736e-05 ... 5.40418201e-04\n",
            "  6.51081864e-05 2.16664353e-06]]\n",
            "Pullover\n"
          ],
          "name": "stdout"
        },
        {
          "output_type": "execute_result",
          "data": {
            "text/plain": [
              "<matplotlib.image.AxesImage at 0x7f0786e82860>"
            ]
          },
          "metadata": {
            "tags": []
          },
          "execution_count": 47
        },
        {
          "output_type": "display_data",
          "data": {
            "image/png": "[encoded data removed]",
            "text/plain": [
              "<Figure size 432x288 with 1 Axes>"
            ]
          },
          "metadata": {
            "tags": []
          }
        }
      ]
    },
    {
      "cell_type": "code",
      "metadata": {
        "id": "zGJj9bBrUdPk",
        "colab_type": "code",
        "outputId": "7732243b-42c8-4e13-fca1-258486888218",
        "colab": {
          "base_uri": "https://localhost:8080/",
          "height": 537
        }
      },
      "source": [
        "# later...\n",
        "from keras.models import model_from_json\n",
        "import keras\n",
        "\n",
        "import tensorflow as tf \n",
        "\n",
        "from tensorflow.keras.initializers import glorot_uniform\n",
        "json_file = open('model.json', 'r')\n",
        "loaded_model_json = json_file.read()\n",
        "json_file.close()\n",
        "loaded_model = tf.keras.models.model_from_json(loaded_model_json)\n",
        "\n",
        "\n",
        "# load weights into new model\n",
        "loaded_model.load_weights(\"model.h5\")\n",
        "print(\"Loaded model from disk\")\n",
        "\n",
        "\n",
        "\n",
        "# evaluate loaded model on test data\n",
        "loaded_model.compile(loss='sparse_categorical_crossentropy', optimizer='adam', metrics=['accuracy'])\n",
        "predict = model.predict(test_img)#test is a bunch so for index 1 prediction is ankle boot\n",
        "print(predict)# different probabilities which our model is  doing\n",
        "print(class_names[np.argmax(predict[1])])\n",
        "plt.imshow(test_img[1])"
      ],
      "execution_count": 0,
      "outputs": [
        {
          "output_type": "stream",
          "text": [
            "Loaded model from disk\n",
            "[[1.27073250e-08 3.82071935e-12 2.45426833e-07 ... 1.22648776e-02\n",
            "  1.02398684e-04 9.83663321e-01]\n",
            " [1.29954482e-04 2.38588660e-09 9.95778322e-01 ... 3.61124917e-30\n",
            "  5.81438599e-07 2.55965088e-26]\n",
            " [1.39322219e-04 9.99840736e-01 1.76373567e-06 ... 4.26855952e-14\n",
            "  2.37825160e-09 1.40326046e-17]\n",
            " ...\n",
            " [4.90821525e-03 4.23187778e-08 1.84920453e-03 ... 1.06970890e-06\n",
            "  9.69871283e-01 2.93372965e-12]\n",
            " [5.91303688e-05 9.99404669e-01 2.91567594e-05 ... 1.72858047e-10\n",
            "  2.63924420e-08 7.71231357e-10]\n",
            " [7.20361754e-07 6.38584012e-08 1.33441736e-05 ... 5.40418201e-04\n",
            "  6.51081864e-05 2.16664353e-06]]\n",
            "Pullover\n"
          ],
          "name": "stdout"
        },
        {
          "output_type": "execute_result",
          "data": {
            "text/plain": [
              "<matplotlib.image.AxesImage at 0x7f0728f15b00>"
            ]
          },
          "metadata": {
            "tags": []
          },
          "execution_count": 71
        },
        {
          "output_type": "display_data",
          "data": {
            "image/png": "[encoded data removed]",
            "text/plain": [
              "<Figure size 432x288 with 1 Axes>"
            ]
          },
          "metadata": {
            "tags": []
          }
        }
      ]
    },
    {
      "cell_type": "code",
      "metadata": {
        "id": "ciP9CTDRUdtx",
        "colab_type": "code",
        "colab": {}
      },
      "source": [
        ""
      ],
      "execution_count": 0,
      "outputs": []
    }
  ]
}