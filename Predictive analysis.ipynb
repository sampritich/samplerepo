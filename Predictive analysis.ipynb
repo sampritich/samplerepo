{
  "nbformat": 4,
  "nbformat_minor": 0,
  "metadata": {
    "colab": {
      "name": "Untitled46.ipynb",
      "provenance": [],
      "collapsed_sections": [],
      "include_colab_link": true
    },
    "kernelspec": {
      "name": "python3",
      "display_name": "Python 3"
    }
  },
  "cells": [
    {
      "cell_type": "markdown",
      "metadata": {
        "id": "view-in-github",
        "colab_type": "text"
      },
      "source": [
        "<a href=\"https://colab.research.google.com/github/sampritich/samplerepo/blob/master/Predictive%20analysis.ipynb\" target=\"_parent\"><img src=\"https://colab.research.google.com/assets/colab-badge.svg\" alt=\"Open In Colab\"/></a>"
      ]
    },
    {
      "cell_type": "markdown",
      "metadata": {
        "id": "epzTtAL7iUnx",
        "colab_type": "text"
      },
      "source": [
        "# <b> Predictive Analysis</b>\n",
        "\n",
        "<img src=\"https://i0.wp.com/soulpageit.com/wp-content/uploads/2019/07/Predictive-Analytics-Software.png?fit=849%2C823&ssl=1\" width=\"320\" height=\"300\" >\n",
        "\n",
        "# <b>Statistical Leraning</b>\n",
        "Statistical learning refers to a set of tools for modelling and understanding complex data<br>\n",
        "Statistical algorithms help analyse input data and obtain useful insights from it<br>\n",
        "These insights are obtained in two ways – Inference & Predictions\n",
        "\n",
        "# <b>Data</b>\n",
        "\n",
        "What is data?\n",
        "data are individual pieces of factual information recorded and the raw information from which statistics are created. Statistics are the results of data analysis \n",
        "\n",
        "<img src=\"https://cdn4.iconfinder.com/data/icons/STROKE/business/png/400/group_data.png\" width=\"200\" height=\"200\" >\n",
        "\n"
      ]
    },
    {
      "cell_type": "code",
      "metadata": {
        "id": "cMyNU41JoGSF",
        "colab_type": "code",
        "outputId": "9e989489-c5c4-49b8-fc44-c99ae744ef03",
        "colab": {
          "base_uri": "https://localhost:8080/",
          "height": 445
        }
      },
      "source": [
        "!wget https://www.dropbox.com/s/m49xi2l7zm2ppqk/InputDataFiles.zip\n"
      ],
      "execution_count": 1,
      "outputs": [
        {
          "output_type": "stream",
          "text": [
            "--2019-12-22 09:21:01--  https://www.dropbox.com/s/m49xi2l7zm2ppqk/InputDataFiles.zip\n",
            "Resolving www.dropbox.com (www.dropbox.com)... 162.125.1.1, 2620:100:601b:1::a27d:801\n",
            "Connecting to www.dropbox.com (www.dropbox.com)|162.125.1.1|:443... connected.\n",
            "HTTP request sent, awaiting response... 301 Moved Permanently\n",
            "Location: /s/raw/m49xi2l7zm2ppqk/InputDataFiles.zip [following]\n",
            "--2019-12-22 09:21:01--  https://www.dropbox.com/s/raw/m49xi2l7zm2ppqk/InputDataFiles.zip\n",
            "Reusing existing connection to www.dropbox.com:443.\n",
            "HTTP request sent, awaiting response... 302 Found\n",
            "Location: https://ucd53a7feec82be787044f74b175.dl.dropboxusercontent.com/cd/0/inline/Auu-uPgOBsrpheKgDCk8sOvhkhKNYMjV7QUJ5sKMwxJM5hRYqg1l5Xu37vg5rtZWFzyQyOF_1LyEXScKlfE1ClEZc0-aGv_wyKdXptzhXvHMN1CN0bFfWT66wYg5aCSnI5c/file# [following]\n",
            "--2019-12-22 09:21:02--  https://ucd53a7feec82be787044f74b175.dl.dropboxusercontent.com/cd/0/inline/Auu-uPgOBsrpheKgDCk8sOvhkhKNYMjV7QUJ5sKMwxJM5hRYqg1l5Xu37vg5rtZWFzyQyOF_1LyEXScKlfE1ClEZc0-aGv_wyKdXptzhXvHMN1CN0bFfWT66wYg5aCSnI5c/file\n",
            "Resolving ucd53a7feec82be787044f74b175.dl.dropboxusercontent.com (ucd53a7feec82be787044f74b175.dl.dropboxusercontent.com)... 162.125.8.6, 2620:100:601b:6::a27d:806\n",
            "Connecting to ucd53a7feec82be787044f74b175.dl.dropboxusercontent.com (ucd53a7feec82be787044f74b175.dl.dropboxusercontent.com)|162.125.8.6|:443... connected.\n",
            "HTTP request sent, awaiting response... 302 FOUND\n",
            "Location: /cd/0/inline2/Aut7yhFwE1Ytdp0EwYiW5lSKY4oAMi3tR8ffaY2kjIKayoNdGOKm7aHjCtl0N-Z6pZyDfjM8dAtvjAyg_ydfjlwdGNZH89nPTLgOsOtX-8Bi858jhPkIxEKkIxybO3nK6IpHPwSPNassPn7lsvBqYjpkQXpfOgjzqsSQtSGR0eZpAKYSm1zm5vPllYFHXPnsJsxUZikpk2PhhtUlNf97KrRY71eLpaWiz3zpldF3sJ9xlbGECqogqfEI_R5FC7DrK8mAKMfa1Tc22UzOXW6XLvOqh_eOtcbN3p-0R4jNtqFPSjdSZm6SsXVTNFQJ7CyG6TQNRVX7ct-L-ssZM8MMd-K3Z6O3dilXNkAjMvhvT6BZTg/file [following]\n",
            "--2019-12-22 09:21:02--  https://ucd53a7feec82be787044f74b175.dl.dropboxusercontent.com/cd/0/inline2/Aut7yhFwE1Ytdp0EwYiW5lSKY4oAMi3tR8ffaY2kjIKayoNdGOKm7aHjCtl0N-Z6pZyDfjM8dAtvjAyg_ydfjlwdGNZH89nPTLgOsOtX-8Bi858jhPkIxEKkIxybO3nK6IpHPwSPNassPn7lsvBqYjpkQXpfOgjzqsSQtSGR0eZpAKYSm1zm5vPllYFHXPnsJsxUZikpk2PhhtUlNf97KrRY71eLpaWiz3zpldF3sJ9xlbGECqogqfEI_R5FC7DrK8mAKMfa1Tc22UzOXW6XLvOqh_eOtcbN3p-0R4jNtqFPSjdSZm6SsXVTNFQJ7CyG6TQNRVX7ct-L-ssZM8MMd-K3Z6O3dilXNkAjMvhvT6BZTg/file\n",
            "Reusing existing connection to ucd53a7feec82be787044f74b175.dl.dropboxusercontent.com:443.\n",
            "HTTP request sent, awaiting response... 200 OK\n",
            "Length: 5048351 (4.8M) [application/zip]\n",
            "Saving to: ‘InputDataFiles.zip’\n",
            "\n",
            "InputDataFiles.zip  100%[===================>]   4.81M  15.3MB/s    in 0.3s    \n",
            "\n",
            "2019-12-22 09:21:03 (15.3 MB/s) - ‘InputDataFiles.zip’ saved [5048351/5048351]\n",
            "\n"
          ],
          "name": "stdout"
        }
      ]
    },
    {
      "cell_type": "code",
      "metadata": {
        "id": "LSzUq60BoRXX",
        "colab_type": "code",
        "outputId": "0434b517-1514-4029-e176-ab10cf16fd10",
        "colab": {
          "base_uri": "https://localhost:8080/",
          "height": 136
        }
      },
      "source": [
        "!unzip InputDataFiles.zip\n"
      ],
      "execution_count": 2,
      "outputs": [
        {
          "output_type": "stream",
          "text": [
            "Archive:  InputDataFiles.zip\n",
            "   creating: InputDataFiles/\n",
            "  inflating: InputDataFiles/items.csv  \n",
            "  inflating: InputDataFiles/item_categories.csv  \n",
            "  inflating: InputDataFiles/sales_train.csv  \n",
            "  inflating: InputDataFiles/shops.csv  \n",
            "  inflating: InputDataFiles/Supermarket.csv  \n"
          ],
          "name": "stdout"
        }
      ]
    },
    {
      "cell_type": "markdown",
      "metadata": {
        "id": "KYp4Pw2SnLfR",
        "colab_type": "text"
      },
      "source": [
        "### Load Data"
      ]
    },
    {
      "cell_type": "code",
      "metadata": {
        "id": "fBuuEoVynLfS",
        "colab_type": "code",
        "colab": {}
      },
      "source": [
        "import pandas as pd"
      ],
      "execution_count": 0,
      "outputs": []
    },
    {
      "cell_type": "code",
      "metadata": {
        "id": "7PGLuB6QnLfX",
        "colab_type": "code",
        "colab": {}
      },
      "source": [
        "items = pd.read_csv(\"/content/InputDataFiles/items.csv\")\n",
        "shops = pd.read_csv(\"/content/InputDataFiles/shops.csv\")\n",
        "cats = pd.read_csv(\"/content/InputDataFiles/item_categories.csv\")\n",
        "train = pd.read_csv(\"/content/InputDataFiles/sales_train.csv\")"
      ],
      "execution_count": 0,
      "outputs": []
    },
    {
      "cell_type": "markdown",
      "metadata": {
        "colab_type": "text",
        "id": "oU3l04eGo0WM"
      },
      "source": [
        "### Look at the first five rows"
      ]
    },
    {
      "cell_type": "code",
      "metadata": {
        "id": "M9hoU8lGnLfc",
        "colab_type": "code",
        "outputId": "f58f5ea1-eabe-4f40-cdda-592148e68322",
        "colab": {
          "base_uri": "https://localhost:8080/",
          "height": 204
        }
      },
      "source": [
        "train.head()"
      ],
      "execution_count": 5,
      "outputs": [
        {
          "output_type": "execute_result",
          "data": {
            "text/html": [
              "<div>\n",
              "<style scoped>\n",
              "    .dataframe tbody tr th:only-of-type {\n",
              "        vertical-align: middle;\n",
              "    }\n",
              "\n",
              "    .dataframe tbody tr th {\n",
              "        vertical-align: top;\n",
              "    }\n",
              "\n",
              "    .dataframe thead th {\n",
              "        text-align: right;\n",
              "    }\n",
              "</style>\n",
              "<table border=\"1\" class=\"dataframe\">\n",
              "  <thead>\n",
              "    <tr style=\"text-align: right;\">\n",
              "      <th></th>\n",
              "      <th>date</th>\n",
              "      <th>date_block_num</th>\n",
              "      <th>shop_id</th>\n",
              "      <th>item_id</th>\n",
              "      <th>item_price</th>\n",
              "      <th>item_cnt_day</th>\n",
              "    </tr>\n",
              "  </thead>\n",
              "  <tbody>\n",
              "    <tr>\n",
              "      <th>0</th>\n",
              "      <td>02.01.2013</td>\n",
              "      <td>0</td>\n",
              "      <td>59</td>\n",
              "      <td>22154</td>\n",
              "      <td>999.00</td>\n",
              "      <td>1</td>\n",
              "    </tr>\n",
              "    <tr>\n",
              "      <th>1</th>\n",
              "      <td>03.01.2013</td>\n",
              "      <td>0</td>\n",
              "      <td>25</td>\n",
              "      <td>2552</td>\n",
              "      <td>899.00</td>\n",
              "      <td>1</td>\n",
              "    </tr>\n",
              "    <tr>\n",
              "      <th>2</th>\n",
              "      <td>05.01.2013</td>\n",
              "      <td>0</td>\n",
              "      <td>25</td>\n",
              "      <td>2552</td>\n",
              "      <td>899.00</td>\n",
              "      <td>-1</td>\n",
              "    </tr>\n",
              "    <tr>\n",
              "      <th>3</th>\n",
              "      <td>06.01.2013</td>\n",
              "      <td>0</td>\n",
              "      <td>25</td>\n",
              "      <td>2554</td>\n",
              "      <td>1709.05</td>\n",
              "      <td>1</td>\n",
              "    </tr>\n",
              "    <tr>\n",
              "      <th>4</th>\n",
              "      <td>15.01.2013</td>\n",
              "      <td>0</td>\n",
              "      <td>25</td>\n",
              "      <td>2555</td>\n",
              "      <td>1099.00</td>\n",
              "      <td>1</td>\n",
              "    </tr>\n",
              "  </tbody>\n",
              "</table>\n",
              "</div>"
            ],
            "text/plain": [
              "         date  date_block_num  shop_id  item_id  item_price  item_cnt_day\n",
              "0  02.01.2013               0       59    22154      999.00             1\n",
              "1  03.01.2013               0       25     2552      899.00             1\n",
              "2  05.01.2013               0       25     2552      899.00            -1\n",
              "3  06.01.2013               0       25     2554     1709.05             1\n",
              "4  15.01.2013               0       25     2555     1099.00             1"
            ]
          },
          "metadata": {
            "tags": []
          },
          "execution_count": 5
        }
      ]
    },
    {
      "cell_type": "markdown",
      "metadata": {
        "id": "G0aGLFR2nLfg",
        "colab_type": "text"
      },
      "source": [
        "### Dimensions of Data"
      ]
    },
    {
      "cell_type": "code",
      "metadata": {
        "id": "ank4vTyJnLfh",
        "colab_type": "code",
        "outputId": "3310c7b8-b7dd-454f-ea72-1a986329228f",
        "colab": {
          "base_uri": "https://localhost:8080/",
          "height": 34
        }
      },
      "source": [
        "train.shape"
      ],
      "execution_count": 6,
      "outputs": [
        {
          "output_type": "execute_result",
          "data": {
            "text/plain": [
              "(1043246, 6)"
            ]
          },
          "metadata": {
            "tags": []
          },
          "execution_count": 6
        }
      ]
    },
    {
      "cell_type": "code",
      "metadata": {
        "id": "W3R9AgoJnLfn",
        "colab_type": "code",
        "outputId": "b61f09dd-f66c-4941-9ee1-a677e3432ea5",
        "colab": {
          "base_uri": "https://localhost:8080/",
          "height": 85
        }
      },
      "source": [
        "print(\"Categories:\",cats.shape)\n",
        "print(\"Items:\",items.shape)\n",
        "print(\"Shops:\",shops.shape)\n",
        "print(\"Train:\",train.shape)"
      ],
      "execution_count": 7,
      "outputs": [
        {
          "output_type": "stream",
          "text": [
            "Categories: (84, 2)\n",
            "Items: (22170, 3)\n",
            "Shops: (60, 2)\n",
            "Train: (1043246, 6)\n"
          ],
          "name": "stdout"
        }
      ]
    },
    {
      "cell_type": "markdown",
      "metadata": {
        "id": "3kTUEORanLfq",
        "colab_type": "text"
      },
      "source": [
        "### Data type for each attribute"
      ]
    },
    {
      "cell_type": "code",
      "metadata": {
        "id": "igU42XnInLfr",
        "colab_type": "code",
        "outputId": "fe244e1b-6219-4c7a-bb35-cfe49265f089",
        "colab": {
          "base_uri": "https://localhost:8080/",
          "height": 136
        }
      },
      "source": [
        "train.dtypes"
      ],
      "execution_count": 8,
      "outputs": [
        {
          "output_type": "execute_result",
          "data": {
            "text/plain": [
              "date               object\n",
              "date_block_num      int64\n",
              "shop_id             int64\n",
              "item_id             int64\n",
              "item_price        float64\n",
              "item_cnt_day        int64\n",
              "dtype: object"
            ]
          },
          "metadata": {
            "tags": []
          },
          "execution_count": 8
        }
      ]
    },
    {
      "cell_type": "markdown",
      "metadata": {
        "id": "U5BvE9UhoGnQ",
        "colab_type": "text"
      },
      "source": [
        "<b> Introduction to datatypes </b>\n",
        "\n",
        "<img src=\"https://miro.medium.com/max/2924/1*dvvxoZTdewLFs3RyZTJreA.png\n",
        "\" width=\"400\" height=\"300\" >\n",
        "\n",
        "# Descriptive Statistics\n",
        "Descriptive Statistics is a data analysis strategy\n",
        "It deals with the presentation of numerical facts,or data, in either tables or graph form, and with the methodology of analysing the data\n",
        "\n",
        "![image.png](data:image/png;base64,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)"
      ]
    },
    {
      "cell_type": "markdown",
      "metadata": {
        "id": "lYhZpyLhbxaN",
        "colab_type": "text"
      },
      "source": [
        "#Calculating Measures of Central Tendency"
      ]
    },
    {
      "cell_type": "markdown",
      "metadata": {
        "id": "W68nXNVXbxaP",
        "colab_type": "text"
      },
      "source": [
        "# Mean: Represents average values"
      ]
    },
    {
      "cell_type": "code",
      "metadata": {
        "id": "MRzJZpUxbxaR",
        "colab_type": "code",
        "outputId": "0f04dd97-790f-4ac6-8a25-3adfe4500a8a",
        "colab": {
          "base_uri": "https://localhost:8080/",
          "height": 297
        }
      },
      "source": [
        "train.describe()"
      ],
      "execution_count": 9,
      "outputs": [
        {
          "output_type": "execute_result",
          "data": {
            "text/html": [
              "<div>\n",
              "<style scoped>\n",
              "    .dataframe tbody tr th:only-of-type {\n",
              "        vertical-align: middle;\n",
              "    }\n",
              "\n",
              "    .dataframe tbody tr th {\n",
              "        vertical-align: top;\n",
              "    }\n",
              "\n",
              "    .dataframe thead th {\n",
              "        text-align: right;\n",
              "    }\n",
              "</style>\n",
              "<table border=\"1\" class=\"dataframe\">\n",
              "  <thead>\n",
              "    <tr style=\"text-align: right;\">\n",
              "      <th></th>\n",
              "      <th>date_block_num</th>\n",
              "      <th>shop_id</th>\n",
              "      <th>item_id</th>\n",
              "      <th>item_price</th>\n",
              "      <th>item_cnt_day</th>\n",
              "    </tr>\n",
              "  </thead>\n",
              "  <tbody>\n",
              "    <tr>\n",
              "      <th>count</th>\n",
              "      <td>1.043246e+06</td>\n",
              "      <td>1.043246e+06</td>\n",
              "      <td>1.043246e+06</td>\n",
              "      <td>1.043246e+06</td>\n",
              "      <td>1.043246e+06</td>\n",
              "    </tr>\n",
              "    <tr>\n",
              "      <th>mean</th>\n",
              "      <td>4.472810e+00</td>\n",
              "      <td>3.245368e+01</td>\n",
              "      <td>1.024260e+04</td>\n",
              "      <td>6.823654e+02</td>\n",
              "      <td>1.220174e+00</td>\n",
              "    </tr>\n",
              "    <tr>\n",
              "      <th>std</th>\n",
              "      <td>2.967065e+00</td>\n",
              "      <td>1.625856e+01</td>\n",
              "      <td>6.305360e+03</td>\n",
              "      <td>1.124829e+03</td>\n",
              "      <td>1.600203e+00</td>\n",
              "    </tr>\n",
              "    <tr>\n",
              "      <th>min</th>\n",
              "      <td>0.000000e+00</td>\n",
              "      <td>0.000000e+00</td>\n",
              "      <td>1.200000e+01</td>\n",
              "      <td>-1.000000e+00</td>\n",
              "      <td>-6.000000e+00</td>\n",
              "    </tr>\n",
              "    <tr>\n",
              "      <th>25%</th>\n",
              "      <td>2.000000e+00</td>\n",
              "      <td>2.200000e+01</td>\n",
              "      <td>4.548000e+03</td>\n",
              "      <td>1.990000e+02</td>\n",
              "      <td>1.000000e+00</td>\n",
              "    </tr>\n",
              "    <tr>\n",
              "      <th>50%</th>\n",
              "      <td>4.000000e+00</td>\n",
              "      <td>3.000000e+01</td>\n",
              "      <td>9.691000e+03</td>\n",
              "      <td>3.990000e+02</td>\n",
              "      <td>1.000000e+00</td>\n",
              "    </tr>\n",
              "    <tr>\n",
              "      <th>75%</th>\n",
              "      <td>7.000000e+00</td>\n",
              "      <td>4.700000e+01</td>\n",
              "      <td>1.561875e+04</td>\n",
              "      <td>6.993000e+02</td>\n",
              "      <td>1.000000e+00</td>\n",
              "    </tr>\n",
              "    <tr>\n",
              "      <th>max</th>\n",
              "      <td>1.000000e+01</td>\n",
              "      <td>5.900000e+01</td>\n",
              "      <td>2.216800e+04</td>\n",
              "      <td>5.920000e+04</td>\n",
              "      <td>2.880000e+02</td>\n",
              "    </tr>\n",
              "  </tbody>\n",
              "</table>\n",
              "</div>"
            ],
            "text/plain": [
              "       date_block_num       shop_id       item_id    item_price  item_cnt_day\n",
              "count    1.043246e+06  1.043246e+06  1.043246e+06  1.043246e+06  1.043246e+06\n",
              "mean     4.472810e+00  3.245368e+01  1.024260e+04  6.823654e+02  1.220174e+00\n",
              "std      2.967065e+00  1.625856e+01  6.305360e+03  1.124829e+03  1.600203e+00\n",
              "min      0.000000e+00  0.000000e+00  1.200000e+01 -1.000000e+00 -6.000000e+00\n",
              "25%      2.000000e+00  2.200000e+01  4.548000e+03  1.990000e+02  1.000000e+00\n",
              "50%      4.000000e+00  3.000000e+01  9.691000e+03  3.990000e+02  1.000000e+00\n",
              "75%      7.000000e+00  4.700000e+01  1.561875e+04  6.993000e+02  1.000000e+00\n",
              "max      1.000000e+01  5.900000e+01  2.216800e+04  5.920000e+04  2.880000e+02"
            ]
          },
          "metadata": {
            "tags": []
          },
          "execution_count": 9
        }
      ]
    },
    {
      "cell_type": "code",
      "metadata": {
        "id": "lxW6Xh8OqIHh",
        "colab_type": "code",
        "colab": {}
      },
      "source": [
        "train.mean()"
      ],
      "execution_count": 0,
      "outputs": []
    },
    {
      "cell_type": "markdown",
      "metadata": {
        "id": "Gp5UIBKCbxaY",
        "colab_type": "text"
      },
      "source": [
        "# Median: Middle value of dataset\n",
        "\n",
        "\n",
        "<img src=\"https://www.mathsisfun.com/data/images/median.svg\n",
        "\" width=\"400\" height=\"200\" >\n"
      ]
    },
    {
      "cell_type": "code",
      "metadata": {
        "id": "F_8zapOpbxaZ",
        "colab_type": "code",
        "colab": {}
      },
      "source": [
        "train.median()\n"
      ],
      "execution_count": 0,
      "outputs": []
    },
    {
      "cell_type": "markdown",
      "metadata": {
        "id": "iOnP_1hjqanf",
        "colab_type": "text"
      },
      "source": [
        "<b>(1043246, 6)</b>\n",
        "\n",
        "\n",
        "1.   1043246 --> number of rows in the dataset\n",
        "2.   6 --> number of columns in the dataset\n",
        "\n"
      ]
    },
    {
      "cell_type": "code",
      "metadata": {
        "id": "wDb671mr0YAW",
        "colab_type": "code",
        "colab": {}
      },
      "source": [
        "train.shape\n"
      ],
      "execution_count": 0,
      "outputs": []
    },
    {
      "cell_type": "markdown",
      "metadata": {
        "id": "4BiL_KQjraUy",
        "colab_type": "text"
      },
      "source": [
        "# Mode: number which is repeated most of the time in the list\n",
        "\n",
        "<img src=\"https://www.mathsisfun.com/data/images/mode.svg\n",
        "\" width=\"300\" height=\"200\" >\n",
        "\n"
      ]
    },
    {
      "cell_type": "code",
      "metadata": {
        "id": "Z35FryKu0eHq",
        "colab_type": "code",
        "colab": {}
      },
      "source": [
        "#train.iloc[0]## first row of data frame\n",
        "#train.iloc[169:171,0:3]#First column\n",
        "train.mode()\n"
      ],
      "execution_count": 0,
      "outputs": []
    },
    {
      "cell_type": "markdown",
      "metadata": {
        "id": "_EHohZo52lrT",
        "colab_type": "text"
      },
      "source": [
        "# Range: \n",
        "The range gives a measure of how spread apart the values are\n",
        "The range is simply calculated as the maximum value – minimum value <br>\n",
        "                        <b>  Max(xi)–Min(xi) </b>\n",
        "                          <br>\n",
        "                          <br>\n",
        "                          <br>\n",
        "<img src=\"https://www.mathsisfun.com/data/images/range.svg\" width=\"350\" height=\"150\" >\n",
        "\n"
      ]
    },
    {
      "cell_type": "code",
      "metadata": {
        "id": "v28ZxZo03vvI",
        "colab_type": "code",
        "colab": {}
      },
      "source": [
        "import numpy as np\n",
        "print(\"Range for item_price:\",np.ptp(train.item_price, axis=0))\n",
        "print(\"Range for item_cnt_day:\",np.ptp(train.item_cnt_day, axis=0))"
      ],
      "execution_count": 0,
      "outputs": []
    },
    {
      "cell_type": "markdown",
      "metadata": {
        "id": "k6IlwZDEbxad",
        "colab_type": "text"
      },
      "source": [
        "#Outliers: Anything which is not following the normal range of the data\n",
        "\n",
        "<img src=\"https://www.stevesjogren.com/wp-content/uploads/2011/06/1_TbUF_HTQ6jOhO8EoPnmekQ.jpg\" width=\"300\" height=\"200\" >\n"
      ]
    },
    {
      "cell_type": "markdown",
      "metadata": {
        "id": "6ANPXO7Ebxae",
        "colab_type": "text"
      },
      "source": [
        "# <b>Z-Score</b>\n",
        "Z-score is a numerical measurement used in statistics of a value's relationship to the mean (average) of a group of values, measured in terms of standard deviations from the mean\n",
        "\n",
        "(Measuring the distance of your point from the mean)\n",
        "# To handle the outliers\n",
        "\n",
        "<img src=\"https://www.animatedsoftware.com/pics/stats/sgzscor2.gif\" width=\"450\" height=\"200\" >\n",
        "\n",
        "\n"
      ]
    },
    {
      "cell_type": "code",
      "metadata": {
        "id": "ayiar7mbbxaf",
        "colab_type": "code",
        "colab": {}
      },
      "source": [
        "from scipy import stats\n",
        "import numpy as np"
      ],
      "execution_count": 0,
      "outputs": []
    },
    {
      "cell_type": "code",
      "metadata": {
        "id": "d8IVYC4ybxai",
        "colab_type": "code",
        "colab": {}
      },
      "source": [
        "# Using Z-score function defined in scipy library to detect the outliers\n",
        "z = np.abs(stats.zscore(train[['item_price','item_cnt_day']]))\n",
        "print(z)"
      ],
      "execution_count": 0,
      "outputs": []
    },
    {
      "cell_type": "code",
      "metadata": {
        "id": "attRvATHbxam",
        "colab_type": "code",
        "colab": {}
      },
      "source": [
        "# Define a threshold to identify an outlier\n",
        "threshold = 5\n",
        "print(np.where(z > threshold))"
      ],
      "execution_count": 0,
      "outputs": []
    },
    {
      "cell_type": "code",
      "metadata": {
        "id": "xYDLMsJRbxar",
        "colab_type": "code",
        "colab": {}
      },
      "source": [
        "# The first array contains the list of row numbers and second array respective column numbers, \n",
        "# which mean z[352][1] have a Z-score higher than 5.\n",
        "print(z[117][1])"
      ],
      "execution_count": 0,
      "outputs": []
    },
    {
      "cell_type": "code",
      "metadata": {
        "id": "GP0z24eObxav",
        "colab_type": "code",
        "colab": {}
      },
      "source": [
        "# Printing the sample values for the same\n",
        "train.iloc[169:171]\n",
        "z[169][1]"
      ],
      "execution_count": 0,
      "outputs": []
    },
    {
      "cell_type": "markdown",
      "metadata": {
        "id": "xd-boATbbxaz",
        "colab_type": "text"
      },
      "source": [
        "# What is Quatile?\n",
        "Breaking the dataset into quaters\n",
        "\n",
        "\n",
        "<img src=\"https://www.mathsisfun.com/data/images/quartiles-c.svg\" width=\"450\" height=\"150\" >\n",
        "\n",
        "# What is interquatile range?\n",
        "\n",
        "Difference between the quatile 1 and quatile 3\n",
        "\n",
        "\n",
        "\n",
        "<img src=\"https://www.mathsisfun.com/data/images/interquartile-range.svg\n",
        "\" width=\"450\" height=\"250\" >\n",
        "\n",
        "\n",
        "\n",
        "\n"
      ]
    },
    {
      "cell_type": "code",
      "metadata": {
        "id": "XkCztR6Ybxa1",
        "colab_type": "code",
        "colab": {}
      },
      "source": [
        "def remove_outlier(df_in, col_name):\n",
        "    q1 = df_in[col_name].quantile(0.25)\n",
        "    q3 = df_in[col_name].quantile(0.75)\n",
        "    iqr = q3-q1 #Interquartile range\n",
        "    print(iqr)\n",
        "    fence_low  = q1-1.5*iqr\n",
        "    print(fence_low)\n",
        "    fence_high = q3+1.5*iqr\n",
        "    print(fence_high)\n",
        "    df_out = df_in.loc[(df_in[col_name] > fence_low) & (df_in[col_name] < fence_high)]\n",
        "    print(df_out)\n",
        "    return df_out"
      ],
      "execution_count": 0,
      "outputs": []
    },
    {
      "cell_type": "code",
      "metadata": {
        "id": "2s_YeDnQbxa5",
        "colab_type": "code",
        "colab": {}
      },
      "source": [
        "remove_outlier(train,\"item_price\").head()"
      ],
      "execution_count": 0,
      "outputs": []
    },
    {
      "cell_type": "markdown",
      "metadata": {
        "id": "JT28ZsD_4kti",
        "colab_type": "text"
      },
      "source": [
        "# Standard deviation :\n",
        "Standard deviation is a number used to tell<b> how measurements for a group are spread out from the average (mean)</b>, or expected value. A low standard deviation means that most of the numbers are close to the average. A high standard deviation means that the numbers are more spread out.\n",
        "<br>\n",
        "<br>\n",
        "<br>\n",
        "![image.png](data:image/png;base64,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)"
      ]
    },
    {
      "cell_type": "markdown",
      "metadata": {
        "id": "LyZMbSFP6U6l",
        "colab_type": "text"
      },
      "source": [
        "# <b> Variance </b>\n",
        "\n",
        "Variance measures how far a set of data is spread out. A variance of zero indicates that all of the data values are identical. All non-zero variances are positive. Variance is the average of the squared distances from each point to the mean.\n",
        "\n",
        "<img src=\"http://zerodha.com/varsity/wp-content/uploads/2017/03/Formula-variance.png\" width=\"350\" height=\"150\" >\n",
        "\n",
        "<br>\n",
        "<b>\n",
        "1.   x = Particular value<br>\n",
        "2.   meu = mean value<br>\n",
        "3.   N = numbers of observation</b>\n",
        "\n",
        "\n",
        "\n",
        "\n",
        "\n",
        "\n",
        "\n",
        "\n"
      ]
    },
    {
      "cell_type": "code",
      "metadata": {
        "id": "s41ouNty8Fre",
        "colab_type": "code",
        "colab": {
          "base_uri": "https://localhost:8080/",
          "height": 163
        },
        "outputId": "3f8b8f4f-8f0a-4bad-f419-c1a4ede2e96b"
      },
      "source": [
        "np.var(train[['item_price','item_cnt_day']], axis=0)"
      ],
      "execution_count": 1,
      "outputs": [
        {
          "output_type": "error",
          "ename": "NameError",
          "evalue": "ignored",
          "traceback": [
            "\u001b[0;31m---------------------------------------------------------------------------\u001b[0m",
            "\u001b[0;31mNameError\u001b[0m                                 Traceback (most recent call last)",
            "\u001b[0;32m<ipython-input-1-04e2db00540b>\u001b[0m in \u001b[0;36m<module>\u001b[0;34m()\u001b[0m\n\u001b[0;32m----> 1\u001b[0;31m \u001b[0mnp\u001b[0m\u001b[0;34m.\u001b[0m\u001b[0mvar\u001b[0m\u001b[0;34m(\u001b[0m\u001b[0mtrain\u001b[0m\u001b[0;34m[\u001b[0m\u001b[0;34m[\u001b[0m\u001b[0;34m'item_price'\u001b[0m\u001b[0;34m,\u001b[0m\u001b[0;34m'item_cnt_day'\u001b[0m\u001b[0;34m]\u001b[0m\u001b[0;34m]\u001b[0m\u001b[0;34m,\u001b[0m \u001b[0maxis\u001b[0m\u001b[0;34m=\u001b[0m\u001b[0;36m0\u001b[0m\u001b[0;34m)\u001b[0m\u001b[0;34m\u001b[0m\u001b[0;34m\u001b[0m\u001b[0m\n\u001b[0m",
            "\u001b[0;31mNameError\u001b[0m: name 'np' is not defined"
          ]
        }
      ]
    },
    {
      "cell_type": "markdown",
      "metadata": {
        "id": "n-x1Ly6tbxa8",
        "colab_type": "text"
      },
      "source": [
        "#  Using box plots"
      ]
    },
    {
      "cell_type": "code",
      "metadata": {
        "id": "kYq7oXeMbxa9",
        "colab_type": "code",
        "colab": {}
      },
      "source": [
        "%matplotlib inline\n",
        "import seaborn as sns"
      ],
      "execution_count": 0,
      "outputs": []
    },
    {
      "cell_type": "code",
      "metadata": {
        "id": "4NLwsiipbxbA",
        "colab_type": "code",
        "colab": {}
      },
      "source": [
        "sns.boxplot(x=train['item_price'])"
      ],
      "execution_count": 0,
      "outputs": []
    },
    {
      "cell_type": "code",
      "metadata": {
        "id": "6v4gw0IwbxbD",
        "colab_type": "code",
        "colab": {}
      },
      "source": [
        "sns.boxplot(x=train['item_cnt_day'])"
      ],
      "execution_count": 0,
      "outputs": []
    },
    {
      "cell_type": "markdown",
      "metadata": {
        "id": "bgnlrZ9qbxbH",
        "colab_type": "text"
      },
      "source": [
        "#### Using scatter plots"
      ]
    },
    {
      "cell_type": "code",
      "metadata": {
        "id": "rvIOL6qybxbI",
        "colab_type": "code",
        "colab": {}
      },
      "source": [
        "sns.scatterplot(x=\"item_cnt_day\", y=\"item_price\", data=train)"
      ],
      "execution_count": 0,
      "outputs": []
    },
    {
      "cell_type": "markdown",
      "metadata": {
        "id": "9Td67Rk2bxbM",
        "colab_type": "text"
      },
      "source": [
        "### Mode"
      ]
    },
    {
      "cell_type": "code",
      "metadata": {
        "id": "EXAx-rpsbxbN",
        "colab_type": "code",
        "colab": {}
      },
      "source": [
        "train.mode()"
      ],
      "execution_count": 0,
      "outputs": []
    }
  ]
}