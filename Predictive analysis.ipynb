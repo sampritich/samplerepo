{
  "nbformat": 4,
  "nbformat_minor": 0,
  "metadata": {
    "colab": {
      "name": "Untitled46.ipynb",
      "provenance": [],
      "collapsed_sections": [],
      "include_colab_link": true
    },
    "kernelspec": {
      "name": "python3",
      "display_name": "Python 3"
    }
  },
  "cells": [
    {
      "cell_type": "markdown",
      "metadata": {
        "id": "view-in-github",
        "colab_type": "text"
      },
      "source": [
        "<a href=\"https://colab.research.google.com/github/sampritich/samplerepo/blob/master/Predictive%20analysis.ipynb\" target=\"_parent\"><img src=\"https://colab.research.google.com/assets/colab-badge.svg\" alt=\"Open In Colab\"/></a>"
      ]
    },
    {
      "cell_type": "markdown",
      "metadata": {
        "id": "epzTtAL7iUnx",
        "colab_type": "text"
      },
      "source": [
        "# <b> Predictive Analysis</b>\n",
        "\n",
        "<img src=\"https://i0.wp.com/soulpageit.com/wp-content/uploads/2019/07/Predictive-Analytics-Software.png?fit=849%2C823&ssl=1\" width=\"320\" height=\"300\" >\n",
        "\n",
        "# <b>Statistical Leraning</b>\n",
        "Statistical learning refers to a set of tools for modelling and understanding complex data<br>\n",
        "Statistical algorithms help analyse input data and obtain useful insights from it<br>\n",
        "These insights are obtained in two ways – Inference & Predictions\n",
        "\n",
        "# <b>Data</b>\n",
        "\n",
        "What is data?\n",
        "data are individual pieces of factual information recorded and the raw information from which statistics are created. Statistics are the results of data analysis \n",
        "\n",
        "<img src=\"https://cdn4.iconfinder.com/data/icons/STROKE/business/png/400/group_data.png\" width=\"200\" height=\"200\" >\n",
        "\n"
      ]
    },
    {
      "cell_type": "code",
      "metadata": {
        "id": "cMyNU41JoGSF",
        "colab_type": "code",
        "outputId": "1ff00800-f5b2-405e-c01a-dfded7855f6b",
        "colab": {
          "base_uri": "https://localhost:8080/",
          "height": 463
        }
      },
      "source": [
        "!wget https://www.dropbox.com/s/m49xi2l7zm2ppqk/InputDataFiles.zip\n"
      ],
      "execution_count": 1,
      "outputs": [
        {
          "output_type": "stream",
          "text": [
            "--2020-01-02 04:58:09--  https://www.dropbox.com/s/m49xi2l7zm2ppqk/InputDataFiles.zip\n",
            "Resolving www.dropbox.com (www.dropbox.com)... 162.125.9.1, 2620:100:601f:1::a27d:901\n",
            "Connecting to www.dropbox.com (www.dropbox.com)|162.125.9.1|:443... connected.\n",
            "HTTP request sent, awaiting response... 301 Moved Permanently\n",
            "Location: /s/raw/m49xi2l7zm2ppqk/InputDataFiles.zip [following]\n",
            "--2020-01-02 04:58:09--  https://www.dropbox.com/s/raw/m49xi2l7zm2ppqk/InputDataFiles.zip\n",
            "Reusing existing connection to www.dropbox.com:443.\n",
            "HTTP request sent, awaiting response... 302 Found\n",
            "Location: https://uce63d976e3f1885a95c0b3e999b.dl.dropboxusercontent.com/cd/0/inline/AvZ7jNeGXwDrO663-WUkXR4ut8teWmfrZY5YWvdOwjDTlcDPmVNq9cK8HDGatcXtGC7GL_zFLhYDuJV1rjvFPr64vqRcFYvlQLiSgGqlv6qo0_kp9vtolJ1MDGsgfjYFfw4/file# [following]\n",
            "--2020-01-02 04:58:10--  https://uce63d976e3f1885a95c0b3e999b.dl.dropboxusercontent.com/cd/0/inline/AvZ7jNeGXwDrO663-WUkXR4ut8teWmfrZY5YWvdOwjDTlcDPmVNq9cK8HDGatcXtGC7GL_zFLhYDuJV1rjvFPr64vqRcFYvlQLiSgGqlv6qo0_kp9vtolJ1MDGsgfjYFfw4/file\n",
            "Resolving uce63d976e3f1885a95c0b3e999b.dl.dropboxusercontent.com (uce63d976e3f1885a95c0b3e999b.dl.dropboxusercontent.com)... 162.125.9.6, 2620:100:601f:6::a27d:906\n",
            "Connecting to uce63d976e3f1885a95c0b3e999b.dl.dropboxusercontent.com (uce63d976e3f1885a95c0b3e999b.dl.dropboxusercontent.com)|162.125.9.6|:443... connected.\n",
            "HTTP request sent, awaiting response... 302 FOUND\n",
            "Location: /cd/0/inline2/AvZtWxMtZ5bQHqrYihT5PCzn0olzw7puFw5dWG7WZvvSeygNZbzNb5j7Zdn8cvrACP0rWPj8voCs5HTBl-hG1TijTOrp7mCmObFB5msUZuwYAjVccB1bTTQdTpuYiy3oqV3g41SOTW0IM5AG9VYQF5EoENmOleZb8nbcoThg9xdAVoGTkHPXtzAbPXADj9Fh6s6FWYfO2d05vMxDvTuzD34-A9M50fwrp-K7HHvmTzfLir7nqhqhD_jtQWjOepMHzaqkwFU-C7lx0MchxA9_s6I0cQiPEnve0K3xYQUCkdSxNRnHvWuKf5ftm5ZGiQKTpfGkYmtEyktPRLmIHnuPZ-myZ9z8S9yhRKIwEGKYn2qysw/file [following]\n",
            "--2020-01-02 04:58:10--  https://uce63d976e3f1885a95c0b3e999b.dl.dropboxusercontent.com/cd/0/inline2/AvZtWxMtZ5bQHqrYihT5PCzn0olzw7puFw5dWG7WZvvSeygNZbzNb5j7Zdn8cvrACP0rWPj8voCs5HTBl-hG1TijTOrp7mCmObFB5msUZuwYAjVccB1bTTQdTpuYiy3oqV3g41SOTW0IM5AG9VYQF5EoENmOleZb8nbcoThg9xdAVoGTkHPXtzAbPXADj9Fh6s6FWYfO2d05vMxDvTuzD34-A9M50fwrp-K7HHvmTzfLir7nqhqhD_jtQWjOepMHzaqkwFU-C7lx0MchxA9_s6I0cQiPEnve0K3xYQUCkdSxNRnHvWuKf5ftm5ZGiQKTpfGkYmtEyktPRLmIHnuPZ-myZ9z8S9yhRKIwEGKYn2qysw/file\n",
            "Reusing existing connection to uce63d976e3f1885a95c0b3e999b.dl.dropboxusercontent.com:443.\n",
            "HTTP request sent, awaiting response... 200 OK\n",
            "Length: 5048351 (4.8M) [application/zip]\n",
            "Saving to: ‘InputDataFiles.zip’\n",
            "\n",
            "\rInputDataFiles.zip    0%[                    ]       0  --.-KB/s               \rInputDataFiles.zip  100%[===================>]   4.81M  27.7MB/s    in 0.2s    \n",
            "\n",
            "2020-01-02 04:58:11 (27.7 MB/s) - ‘InputDataFiles.zip’ saved [5048351/5048351]\n",
            "\n"
          ],
          "name": "stdout"
        }
      ]
    },
    {
      "cell_type": "code",
      "metadata": {
        "id": "LSzUq60BoRXX",
        "colab_type": "code",
        "outputId": "d7958ec9-3e13-4b8e-a706-73b960eca3e3",
        "colab": {
          "base_uri": "https://localhost:8080/",
          "height": 141
        }
      },
      "source": [
        "!unzip InputDataFiles.zip\n"
      ],
      "execution_count": 2,
      "outputs": [
        {
          "output_type": "stream",
          "text": [
            "Archive:  InputDataFiles.zip\n",
            "   creating: InputDataFiles/\n",
            "  inflating: InputDataFiles/items.csv  \n",
            "  inflating: InputDataFiles/item_categories.csv  \n",
            "  inflating: InputDataFiles/sales_train.csv  \n",
            "  inflating: InputDataFiles/shops.csv  \n",
            "  inflating: InputDataFiles/Supermarket.csv  \n"
          ],
          "name": "stdout"
        }
      ]
    },
    {
      "cell_type": "markdown",
      "metadata": {
        "id": "KYp4Pw2SnLfR",
        "colab_type": "text"
      },
      "source": [
        "### Load Data"
      ]
    },
    {
      "cell_type": "code",
      "metadata": {
        "id": "fBuuEoVynLfS",
        "colab_type": "code",
        "colab": {}
      },
      "source": [
        "import pandas as pd"
      ],
      "execution_count": 0,
      "outputs": []
    },
    {
      "cell_type": "code",
      "metadata": {
        "id": "7PGLuB6QnLfX",
        "colab_type": "code",
        "colab": {}
      },
      "source": [
        "items = pd.read_csv(\"/content/InputDataFiles/items.csv\")\n",
        "shops = pd.read_csv(\"/content/InputDataFiles/shops.csv\")\n",
        "cats = pd.read_csv(\"/content/InputDataFiles/item_categories.csv\")\n",
        "train = pd.read_csv(\"/content/InputDataFiles/sales_train.csv\")"
      ],
      "execution_count": 0,
      "outputs": []
    },
    {
      "cell_type": "markdown",
      "metadata": {
        "colab_type": "text",
        "id": "oU3l04eGo0WM"
      },
      "source": [
        "### Look at the first five rows"
      ]
    },
    {
      "cell_type": "code",
      "metadata": {
        "id": "M9hoU8lGnLfc",
        "colab_type": "code",
        "outputId": "5dad1e8c-b480-43e4-b7d5-b2a819cbf0fb",
        "colab": {
          "base_uri": "https://localhost:8080/",
          "height": 197
        }
      },
      "source": [
        "train.head()"
      ],
      "execution_count": 5,
      "outputs": [
        {
          "output_type": "execute_result",
          "data": {
            "text/html": [
              "<div>\n",
              "<style scoped>\n",
              "    .dataframe tbody tr th:only-of-type {\n",
              "        vertical-align: middle;\n",
              "    }\n",
              "\n",
              "    .dataframe tbody tr th {\n",
              "        vertical-align: top;\n",
              "    }\n",
              "\n",
              "    .dataframe thead th {\n",
              "        text-align: right;\n",
              "    }\n",
              "</style>\n",
              "<table border=\"1\" class=\"dataframe\">\n",
              "  <thead>\n",
              "    <tr style=\"text-align: right;\">\n",
              "      <th></th>\n",
              "      <th>date</th>\n",
              "      <th>date_block_num</th>\n",
              "      <th>shop_id</th>\n",
              "      <th>item_id</th>\n",
              "      <th>item_price</th>\n",
              "      <th>item_cnt_day</th>\n",
              "    </tr>\n",
              "  </thead>\n",
              "  <tbody>\n",
              "    <tr>\n",
              "      <th>0</th>\n",
              "      <td>02.01.2013</td>\n",
              "      <td>0</td>\n",
              "      <td>59</td>\n",
              "      <td>22154</td>\n",
              "      <td>999.00</td>\n",
              "      <td>1</td>\n",
              "    </tr>\n",
              "    <tr>\n",
              "      <th>1</th>\n",
              "      <td>03.01.2013</td>\n",
              "      <td>0</td>\n",
              "      <td>25</td>\n",
              "      <td>2552</td>\n",
              "      <td>899.00</td>\n",
              "      <td>1</td>\n",
              "    </tr>\n",
              "    <tr>\n",
              "      <th>2</th>\n",
              "      <td>05.01.2013</td>\n",
              "      <td>0</td>\n",
              "      <td>25</td>\n",
              "      <td>2552</td>\n",
              "      <td>899.00</td>\n",
              "      <td>-1</td>\n",
              "    </tr>\n",
              "    <tr>\n",
              "      <th>3</th>\n",
              "      <td>06.01.2013</td>\n",
              "      <td>0</td>\n",
              "      <td>25</td>\n",
              "      <td>2554</td>\n",
              "      <td>1709.05</td>\n",
              "      <td>1</td>\n",
              "    </tr>\n",
              "    <tr>\n",
              "      <th>4</th>\n",
              "      <td>15.01.2013</td>\n",
              "      <td>0</td>\n",
              "      <td>25</td>\n",
              "      <td>2555</td>\n",
              "      <td>1099.00</td>\n",
              "      <td>1</td>\n",
              "    </tr>\n",
              "  </tbody>\n",
              "</table>\n",
              "</div>"
            ],
            "text/plain": [
              "         date  date_block_num  shop_id  item_id  item_price  item_cnt_day\n",
              "0  02.01.2013               0       59    22154      999.00             1\n",
              "1  03.01.2013               0       25     2552      899.00             1\n",
              "2  05.01.2013               0       25     2552      899.00            -1\n",
              "3  06.01.2013               0       25     2554     1709.05             1\n",
              "4  15.01.2013               0       25     2555     1099.00             1"
            ]
          },
          "metadata": {
            "tags": []
          },
          "execution_count": 5
        }
      ]
    },
    {
      "cell_type": "markdown",
      "metadata": {
        "id": "G0aGLFR2nLfg",
        "colab_type": "text"
      },
      "source": [
        "### Dimensions of Data"
      ]
    },
    {
      "cell_type": "code",
      "metadata": {
        "id": "ank4vTyJnLfh",
        "colab_type": "code",
        "outputId": "3ae186ad-7d36-4f83-bc63-38ab17c55cd8",
        "colab": {
          "base_uri": "https://localhost:8080/",
          "height": 34
        }
      },
      "source": [
        "train.shape"
      ],
      "execution_count": 6,
      "outputs": [
        {
          "output_type": "execute_result",
          "data": {
            "text/plain": [
              "(1043246, 6)"
            ]
          },
          "metadata": {
            "tags": []
          },
          "execution_count": 6
        }
      ]
    },
    {
      "cell_type": "code",
      "metadata": {
        "id": "W3R9AgoJnLfn",
        "colab_type": "code",
        "outputId": "bc574068-e918-4b86-b859-04ee7e54130c",
        "colab": {
          "base_uri": "https://localhost:8080/",
          "height": 87
        }
      },
      "source": [
        "print(\"Categories:\",cats.shape)\n",
        "print(\"Items:\",items.shape)\n",
        "print(\"Shops:\",shops.shape)\n",
        "print(\"Train:\",train.shape)"
      ],
      "execution_count": 7,
      "outputs": [
        {
          "output_type": "stream",
          "text": [
            "Categories: (84, 2)\n",
            "Items: (22170, 3)\n",
            "Shops: (60, 2)\n",
            "Train: (1043246, 6)\n"
          ],
          "name": "stdout"
        }
      ]
    },
    {
      "cell_type": "markdown",
      "metadata": {
        "id": "3kTUEORanLfq",
        "colab_type": "text"
      },
      "source": [
        "### Data type for each attribute"
      ]
    },
    {
      "cell_type": "code",
      "metadata": {
        "id": "igU42XnInLfr",
        "colab_type": "code",
        "outputId": "c5a1ac2b-4fef-4261-da75-8a9e03d2da5f",
        "colab": {
          "base_uri": "https://localhost:8080/",
          "height": 141
        }
      },
      "source": [
        "train.dtypes"
      ],
      "execution_count": 8,
      "outputs": [
        {
          "output_type": "execute_result",
          "data": {
            "text/plain": [
              "date               object\n",
              "date_block_num      int64\n",
              "shop_id             int64\n",
              "item_id             int64\n",
              "item_price        float64\n",
              "item_cnt_day        int64\n",
              "dtype: object"
            ]
          },
          "metadata": {
            "tags": []
          },
          "execution_count": 8
        }
      ]
    },
    {
      "cell_type": "markdown",
      "metadata": {
        "id": "U5BvE9UhoGnQ",
        "colab_type": "text"
      },
      "source": [
        "<b> Introduction to datatypes </b>\n",
        "\n",
        "<img src=\"https://miro.medium.com/max/2924/1*dvvxoZTdewLFs3RyZTJreA.png\n",
        "\" width=\"400\" height=\"300\" >\n",
        "\n",
        "# Descriptive Statistics\n",
        "Descriptive Statistics is a data analysis strategy\n",
        "It deals with the presentation of numerical facts,or data, in either tables or graph form, and with the methodology of analysing the data\n",
        "\n",
        "![image.png](data:image/png;base64,iVBORw0KGgoAAAANSUhEUgAAAzgAAACZCAYAAADjJJ9UAAAgAElEQVR4Ae3df2yU933A8c+BMcY4CekMzGkLWXEVhzAyrXakjl/K2tVSpJI5VkQ3toWuG1JcyRNVJoWqVOuQ6m5iRUKaI6GlCn9QCSFI426RvB8lCbAowW0TRMGoZkloqEtx2yQNBhvsmz7P3ff8PPfLz909v+990nF3zz33/fH6Pvfh+fj7PM+l0ul0WrghgAACCCCAAAIIIIAAAgkQWJCAPtAFBBBAAAEEEEAAAQQQQMASaMABAQQQiLvAaz/9mfzHj34qr/30XTl54Z24d4f2IxCowKb7V8uD9/6ufHbdJ+Rzf9AeaN1UhgACCPghkOIQNT9YKRMBBIIQeO/6DfmX7/+vdQ+iPupAIOkCf7FpvfzzX35Oli1dkvSu0j8EEEiwAAlOggeXriGQVAE9dVDv/d95Ub5z4sdJ7Sb9QiAUgc+u/4R87+//TFKplHUPpRFUigACCNQgwDk4NeDxUQQQCF7AJDcv/eQtkpvg+amxDgT+++z/yaGXfmz9EYHrENXBgNNFBBIoQIKTwEGlSwgkWUB3uGZmZuT7I6NJ7iZ9QyBUgX//4UW5ffs2SU6oo0DlCCBQrQAJTrVyfA4BBAIX0ORmdnZWbt26JScvXA68fipEoF4ETl981/qe6feNWZx6GXX6iUByBEhwkjOW9ASBxAuY2Zvp6Wk5f2Ui8f2lgwiEJfDBjSnR75nO4uiNJCeskaBeBBCoRoAEpxo1PoMAAoELmNkbPTxNd7y4IYCAvwJTU1PW4aA6i8MNAQQQiJMACU6cRou2IlDHAprg6F3/okyCU8cbAl0PTEC/Z/oHBfPdC6xiKkIAAQRqFCDBqRGQjyOAQHACZhZHz8HhhgAC/gro98wkOP7WROkIIICAtwIkON56UhoCCPgoYBIc3enihgAC/grooWlcZMBfY0pHAAF/BBr8KZZSEUAAAX8ETJLjT+mUGmWB1IbH5c2+DmnXRo6PSt9TR+W5KDc45m0zyY1+57ghgAACcRIgwYnTaNFWBOpcQHe0zD1siq5tT8rLW1uzzZiQ4cFnpOd0YatSqx6WNwc2ZnbKRWRs6KCsP3K1cEWWlBWwHE1yo2u2tUrHKhEpcrXwrg0Py1d7OqS7bW58xkZOypf2n5MzZWvhTQQQQACBJAiQ4CRhFOkDAnUmEIW/KD9wj9l5VvxW6e55WLpOnyjYgX6idy650TXb71kuIiQ4FW+yH2/NJomj0re99MzNjl1PymCnfWwy49Pe2SPPbrvmS3KpM0vX+zpEpHzbKu5zyB+IwvcsZAKqRwCBmApwDk5MB45mI4BARATGJ2RMm9LWIb06o2C7pWSdPNqpCyZkbNz2Bk99EdBEI5fcjDwvW7bvlebte2Xp7oPSN8LvJvmCTqEIIIBABAWYwYngoNAkBBCIkcCVk/LtKz3WjnV/7zp5ev+5XOM7t22Sbn01clK+LT0y2JZ7K/dED7063r9RunPvTcjw0HHpsR3GVnjIlcjYyCn50v65GaPUqnVyvH/T3GFZ46Ny4MBRefqyiCZaxw/3WG0ZHtybO5Qud5jd+CnZ8lSmrB279shgp8jw4EG52LNT+tuch9W5aW+5tuQ6bnuS6V++wUn55pHMIWWmTZmPdMjg4T0yaGuzLk/JShno0VkUPT/nlGyxHY6WvnxVntv/jON8nfn6YZW3T/s/IQd2HxfpfUz6szNDdvuibRP9zDOWvdU2F2NsyinlnukY/yKAAAIIuBFgBseNEusggAACZQQOvT6aebfzftmRXU93kHu7ModKDb8+l/TYi7EObRqw79jru63SvXWnnN220lpVk5Ov9uk6zsOu2js3ysu71uXWOT7Q41ynrUP6+x+WLnuFFTzv7sskN/qRzGF1Im7bW0lbrCTL6p+9cWrQk+uf/Z2Sz1etlUeySeLYmfMFhwraP+emH3Prt0r/wM5ccqPL7fZz6xV/VlldIsXci5fMUgQQQACBUgIkOKVkWI4AAgi4FTh9QYatdTvk0Q3ZD+V2uEflhWIXH7DNOAwPHbQOpdLDqbYMjlqHvLVv3ZxNlq7JC0OnpG+3bZ2hvIRq1XJZY1Wr54BkDsvaMngqc+ic2z4UWU9nE7RNzfvPOWZIyra3grZYyZu5UEP2kLKl2w9K31D2cLLOTfKtVSLP7d8rSwezfbbOc9krzdkZpyLNlkvvlj7HyT7TU7YfjoIn5MDgQbHaNpJ946PLreSxaNu2Z2ZvqqsrM3tm3B3N4AUCCCCAgCsBDlFzxcRKCCCAQGmBtJyTF0Z6pLtTchcbeMBcXGDkgnVolJnZyZWSS4DEmrGZ3Jp7J/skc5UwPbzq0KvLZaD3MTnbaU60z1/XvO6QwX1PyqNn9PCuE7I+m1ilzNuVPI48Lz2nbYmCy/bOVVG8LXPvi8iG+zOH8OkhXcfMFc6uyqEjJ+XRrXpIXavc9/HiV0pzlKMvchchKHjHucBtP2xXZxsbOi5PZy10tm6ws8O6itsDImVniqSKuiTf3dl6XiGAAAIIuBBgBscFEqsggAAC8wnkDlOzLjYwd3EB3XGv5WadPzPQYx0iZf3+S5HC0pdPyIPZmR+9fLJ1eNfhPbnD3Ip8xLdF1bVlQkZtCUVVjftZ9mIPIrLmY5nD+6oqhw8hgAACCMRegBmc2A8hHUAAgUgI6GFqfR3WrEP/QE+mSeOjcmzeHXfnCen5fUnZZzmyJ65b53VYlyWeWzt9+qg1Y9O1ap309m7KJERbH5NvvfqM7J63DXPlzP+sfHv18+Xaohc9KLzl/aZN7jC3wjVLLrl8TS7p+TF671orXUeulp9dybsQQH65Vc165ReSez2/WW5VniCAAAII1CzADE7NhBSAAAIIiOhhat80545kQcqe7J7dIdeLCujV18zFAPS8jR3bHpez+/IvEDAhehaKvv/EQ9mrhWXr0YRH19+xSuTM5XOye//J7DlB2UO85JpczF6muvuhTF16FbFnzfkvbgbQZXvnb4utstysy5yB1T9zeJ8UP3/JVkLuqcO/baM8uyvPdNeTclYvyuCyH7mCK3qSTdTMZ3yty1TCIwIIIIBAvgAzOPkivEYAAQSqFBh5dVTGtpof9pyQF1+1ncOSV2Zmh3yTdGuS0dkjLx/OzvqY9cZPZZ5lk4B26ZDBgT0yaN7Pe2xv2yiDAxvz3s8kCGm5KsfOTEh/qbryyir20nV7dQalTFvsZevhbN8e2WhdlrqYwdjQK45LO9s/W+z5yJHjcqArc/U3/WHPAtMRk4i6cC9WQalljtm7PdKfmx3SpNfjukq1geUIIIAAAjkBZnByFDxBAAEEahS4fF5eND/oOXIy9zsopUo9c+SZzFXTzGesFSdkTK8olr1KmOOcluz7w4OnsjM02ZJPvyJ9Q5mrr5m6xsZHpW/30VyCoDv/9h+71N9y2bK7siutuWmvuGiLaaM+6lXItuS1XcYnrN/hWW/7LSD7Z0o910Ru91N6FbbRvB9WzZpmf6PIVT9KVVJkuZX8mXOgrPczs2361Ou6ilTPIgQQQACBPIFUOp1O5y3jJQIIIBA5gdnZWZmenpYPP/xQJiYm5A/3Ho1cG2kQAkkS+NGex6W1tVVaWlqksbFRFizgb6JJGl/6gkCSBYhWSR5d+oYAAggggAACCCCAQJ0JkODU2YDTXQQQQAABBBBAAAEEkixAgpPk0aVvCCCAAAIIIIAAAgjUmQAJTp0NON1FAAEEEEAAAQQQQCDJAiQ4SR5d+oYAAggggAACCCCAQJ0JkODU2YDTXQSSIrDyjqakdIV+IBA5gcaF7B5EblBoEAIIuBYggrmmYkUEEIiKQCqVkgfvWRaV5tAOBBIn0LHyzsT1iQ4hgED9CJDg1M9Y01MEYi+giY25/z4JTuzHkw5EV2B9213Wdy26LaRlCCCAQGkBEpzSNryDAAIRFDAJTndHm6xd0RLBFtIkBOItcM8di+ULn7o398cE/c5xQwABBOIkQIITp9GirQjUuYBJbhYuXCgNDQ3yt10fl08s41ycOt8s6L6HAm0tjfJ3f7RamhY1yIIFC5jF8dCWohBAIDiBhuCqoiYEEECgNgFNcExy09jYKPf+zh3y9S2r5Xvnr8obVyfl7Q+ma6uATyNQpwIfbVkk65Yvkd4HVkrr3XeJfr/0jwj6fWMGp043CrqNQIwFSHBiPHg0HYF6ErDP3ujOV1NTkyxZskSmpqbk8/e1SvfvTcvMzIyk02nrXk82Ue/rl38wbjXxX/+4LepNrbv2me+Vztbo96p5SZP13dLvl77WBIeZnLrbLOgwArEXIMGJ/RDSAQTqR8DM4Fg7Ys3N0tLSIrdv37YSGt0J0+ezs7MkOBHdJHTcuEVLQL9T+t3RREaTGv1O6b25uVkWL15szeLoOtwQQACBOAmQ4MRptGgrAnUsYP7SrDtiuuOlO2AmudFlN27ckOnpaSvB0SSHW/QEdMeZW7QENLnR+6JFi6wZUR2jO++8M5fg6HfLfPei1XJagwACCJQWIMEpbcM7CCAQMQHd0dIdLrMzps3TnTNNeG7evEmCE7Hxym9Oa2tr/iJehyxg/07pDI7+4WDp0qXWo37P9Pul63BDAAEE4iRAghOn0aKtCNS5gNnRMrM4+lpPhNYdM529yT9ETc/H4RYdgRUrVkSnMbQkNzOjSYx+j/QQQv1jgd41udFlJDhsKAggEEcBEpw4jhptRqCOBTSpMTtdJsHRHTO9wAAXGYj2hsEMTvTGR79D5jtlrppmEhvzPYteq2kRAgggUF6ABKe8D+8igEAEBXSHTG86k2P++my/uAAzNxEcNBHr5PVotqx+W2W+SybJ0Uf7vX5l6DkCCMRZgAQnzqNH2xGoYwGzE2aSGU10uEVbgKuoRXt89DulN/MY7dbSOgQQQKC0AAlOaRveQQCBGAiYnTHzGIMm120TSULrdujpOAIIIBCoAH/yDJSbyhBAAAEEEEAAAQQQQMBPARIcP3UpGwEEEEAAAQQQQAABBAIVIMEJlJvKEEAAAQQQQAABBBBAwE8BEhw/dSkbAQQQQAABBBBAAAEEAhUgwQmUm8oQQAABBBBAAAEEEEDATwESHD91KRsBBBBAAAEEEEAAAQQCFSDBCZSbyhBAAAEEEEAAAQQQQMBPARIcP3UpGwEEEEAAAQQQQAABBAIVIMEJlJvKEEAAAQQQQAABBBBAwE8BEhw/dSkbAQQQQAABBBBAAAEEAhUgwQmUm8oQQAABBBBAAAEEEEDATwESHD91KRsBBBBAAAEEEEAAAQQCFSDBCZSbyhBAAAEEEEAAAQQQQMBPARIcP3UpGwEEEEAAAQQQQAABBAIVIMEJlJvKEEAAAQQQQAABBBBAwE8BEhw/dSkbAQQQQAABBBBAAAEEAhUgwQmUm8oQQAABBBBAAAEEEEDATwESHD91KRsBBBBAAAEEEEAAAQQCFSDBCZSbyhBAAAEEEEAAAQQQQMBPARIcP3UpGwEEEEAAAQQQQAABBAIVIMEJlJvKEEAAAQQQQAABBBBAwE8BEhw/dSkbAQQQQAABBBBAAAEEAhUgwQmUm8oQQAABBBBAAAEEEEDAT4FUOp1O+1kBZZcXWPzne8uvwLsIIIBAzAVSkrJ6kBb+u4n5UNJ8BBCoQOC/vvZXsnnt6go+wapeCTR4VRDlVC5AclO5GZ9AAIH4CZDYxG/MaDECCCAQZwESnAiM3tR390SgFTQBAQQQ8E/A/EGHeOefMSUjgEA0BEy8Y/YmvPHgHJzw7KkZAQQQQAABBBBAAAEEPBYgwfEYlOIQQAABBBBAAAEEEEAgPAESnPDsqRkBBBBAAAEEEEAAAQQ8FiDB8RiU4hBAAAEEEEAAAQQQQCA8ARKc8OypGQEEEEAAAQQQQAABBDwWIMHxGJTiEEAAAQQQQAABBBBAIDwBEpzw7KkZAQQQQAABBBBAAAEEPBYgwfEYlOIQQAABBBBAAAEEEEAgPAESnPDsqRkBBBBAAAEEEEAAAQQ8FiDB8RiU4hBAAAEEEEAAAQQQQCA8ARKc8OypGQEEEEAAAQQQQAABBDwWIMHxGJTiEEAAAQQQQAABBBBAIDwBEpzw7KkZAQQQQAABBBBAAAEEPBYgwfEYlOIQQAABBBBAAAEEEEAgPAESnPDsqRkBBBBAAAEEEEAAAQQ8FiDB8RiU4hBAAAEEEEAAAQQQQCA8ARKc8OypGQEEEEAAAQQQQAABBDwWIMHxGJTiEEAAAQQQQAABBBBAIDwBEpzw7KkZAQQQQAABBBBAAAEEPBYgwfEYlOIQQAABBBBAAAEEEEAgPAESnPDsqRkBBBBAAAEEEEAAAQQ8FiDB8RiU4hBAAAEEEEAAAQQQQCA8ARKc8OypGQEEEEAAAQQQQAABBDwWIMHxGJTiEEAAAQQQQAABBBBAIDwBEpzw7KkZAQQQQAABBBBAAAEEPBYgwfEYlOIQQAABBBBAAAEEEEAgPAESnPDsqRkBBBBAAAEEEEAAAQQ8FiDB8RiU4hBAAAEEEEAAAQQQQCA8ARKc8OypGQEEEEAAAQQQQAABBDwWIMHxGJTiEEAAAQQQQAABBBBAIDyBBjdVp9NpazXzqC/sz92UwTqlBWZmZkq/yTvzCqRSqdw65rl5zL3BEwRcCpjYZh71Y/bnLothtRICxLsSMC4X22ObeW4eXRbBagg4BEx8M4/6pv25Y2VeVCRAvKuIq+jK9vhmnpvHoh/ILiyb4OgGbu6mEC10wQImfoyHF48LFy70opi6LmN2dtbaVvVRt1H7va5h6LxrARPr7P+xE+9c87lekXjnmqrkisS7kjS8UYEAMa8CrCpXJd5VCZf3sWpiXskERzd8LVDvOkAkNXnavIyUgH371G1X/2pikhz7e5FqNI2JjADxLjJDQUNcCNhjGvHOBRirFAgQ8wpIWBBhgWpiXtEER5MaM622aNGiCHc53k3bvHZ1vDsQ0dZrYtPQ0CC3b9+2EnRtpv3LEdFm06yQBIh3wcB/rXdzMBXVWS3EuzobcA+6S8zzAHGeIti/mweohrfdxrxUWtN4201f6o6h3pcsWWJ7h6cIxE9gamrKmsnRhIckJ37j53eLiXd+C1N+kALEuyC141kXMS+e40ariwuUi3mOGRzd8DWzn56elqampoLS/u1/fignL7wjr49dkXeuvVfwPgsQCENg5bIWWb96pfzJ+jXyN5/5lDQtmtusGxsb5fr167nD1TTz54aAChDv2A7iKEC8i+OoRaPNxLxojAOtqEyg2pjnmMHR5ObWrVvWvaWlJdeCm7duy5/+03fllQvv5JbxBIEoCqxevkxe+ocvin4hzE0THJ290WSHE/6MCo/EO7aBuAsQ7+I+gsG2n5gXrDe1eS9QSczLXQ7NntnnN0lnbkhu8lV4HUUBnVn8+pEfOJqm55HpNKYGd93OuSFAvGMbSIIA8S4JoxhMH4h5wThTi78ClcS8XIKjTdIdQD08Tc9XsN/0sDRuCMRF4D/PXnI0VRMc3a71whkkOA6aun5BvKvr4U9M54l3iRlK3ztCzPOdmAoCEHAb83IJju746Q6gHqKWf/7NK+dJcAIYM6rwSODqex86StLzbjTB0eDODQEVIN6xHSRFgHiXlJH0tx/EPH99KT04Abcxz5Hg6A6gJjj5t/cnb+Yv4jUCsRIwl4xmBidWw+ZbY3U7IN75xkvBIQsQ70IegAhWT8yL4KDQJM8EisW8XIKjtZgM37MaKQiBiAjotq13bggYAeKdkeAxaQLEu6SNqDf9IeZ540gp0RMoFvMKEhwO44newNGi2gV04+eGgF1AtwninV2E50kRIN4lZSS97Qcxz1tPSouOQLGY50hwotNUWoKAtwLFNn5va6A0BBBAIBoCxLtojAOtQACBYASKxbyCBKfYSsE0j1oQQACBYAWId8F6m9pSsk6eP7xHzm5baS1KyUr51r49MrnvYekyK/GIAAKeCxDzPCetucD8eFhzgRRgCTivBw1KWYHUhsflel+Htc7w4F7pOV189dSqh+XNgY3SLiJjQwdl/ZGrxVdkKQIIIBCiADEtRHyqRgCByAgQCyMzFJ41pGAGx7OSE15Qd0/pvzQ+0ZtJbhJOQPcQQCBBAmHGtLRclaef2ivNT52QMwkypSsIIBA/gTBjYfy0ottiEpyKx2ZCDgyNirR1SO+qwg/rVOOjnSLDQ6dkrPBtliCAAAIREyCmRWxAaA4CCIQiQCwMhd2nSjlErRrYVy/I8NYe6e9dJ0/vP+cooXPbJumWUel7VeQrWx1vWS/s06DWgpHnpTmvjB279shg59xn8w9z69r2pLzcNSpbnromXz3cI93ZVfPXmyuBZwgggEAZAZ9jmjPuTciB3ScdjdFzcAb27ZR+OSVbbLM4xEIHEy8QQMBvgVpioe30BNPMYqczzBcPzWed64lIkf1Fsy6PhQLM4BSauFhyTl4YEZHO+2WHbW39T7q3q1Vk5IIcsi03T83Gqht88/a9snT3KRnr7MmdaKvr6X/oX/n5Qet9a53BUWnfulOe32BKyT62bZSXD98vL2zPlLVlaKL4enkf4yUCCCBQKOBfTCuMe6PyyMDcH2YK25JZQiwsJcNyBBDwT6CGWDiwUWTIuf/W3bfHsf/mNh4Wrle4v+ifQTJKJsGpchwPHdND0DrkUXvisWGz9LdNyIFjzlkdrcL6C2VPh5WBm4sTpC+fkC9ZicnmXKL03P69zosSnL4gwyLS/dC6vJbqX0GPynPZpSNHTlrrrflY5qpEeSvzEgEEECgr4EdMKxX3HtQ/7pRtjQixcB4g3kYAAV8EaomF9otKpU8flb4REXNOj9t4WGq9/P1FXzqfoEJJcKodzMvn5cXxuQ1Xi3nioQ6R8VE5drlIoavWyiNtIsOvO5OfkXcnRKRVOoqcz5Mp5ZpcHC9SnkzIqKOezHrt9ywvtjLLEEAAgfICvsS05XJfm8jYz6856758TS45l7h4RSx0gcQqCCBQq0CVsbAgzonIT34+YTtn22U8rHp/sdaOJ+vznINT5XjqVX+OnZmQ/q16sYETMnI5c3GBsaHz1lWAUiXK1enKyb78NzXJydyszF2PRW8zS7KPV/Je8xIBBBDwUMCXmLZquaypso3Ewirh+BgCCNQkUG0svPRu4U+CmD9iWw2qMB7Ot79YUyfr4MMkODUMsnVY2NYeeeTTK+XYp7MXF5jnN2+KnXBmmpD7D11PtN2euVzq3DKzFo8IIICAPwLex7TMTE2lSc5c3CMW+jPSlIoAAuUEqomFmVMEnElO58da56rJzly7jYfl9hfnCuVZKQEOUSsl42J5WjIno7VvfUyezV5cwJwTU/Bxs2GXO0cmOy05diYzC1RQBgsQQAABHwU8j2lS4tDZ+f6SSSz0cZQpGgEE5hOoLBZmTlkodorAA/e02k5dcBkP3ewvztcB3hcSnBo3gkOvj1rn0LSXuLiAKV6/LN8scqUzvVLG5L7sj4ZmN2r7l+SJXUUOVzOF8ogAAgh4LOBlTDOHekhnT+5KQqkil1It6AKxsICEBQggEKyA+1iYOWXBHue0pfqTHvqTH8PPZ47IcRsPXe0vBksRy9o4RK3WYTv9ihzo6ZB+KXFxAVv5Z448I0vffVyu28/DGbf/7sM5eWz3cnlzoEcmD/dYn9Tftukb2SmDtnJ4igACCPgm4GlME9G4t0WelJdzcW9U+rYflI59O+WREp3Q/+CJhSVwWIwAAsEI1BoLRa92u1eetl0Qym08nH9/MRiCONeSSqfTae3AzMyMTE5Oyi9/+UtZs8Z5hKD+Hgs3BOIkMHl4j6O5ly5dkhUrVkhzc7MsXLjQ8R4v6k+AeFd/Y57kHhPvkjy63vSNmOeNI6VEQ8BNzOMQtWiMFa1AAAEEEEAAAQQQQAABDwRIcDxApAgEEEAAAQQQQAABBBCIhgAJTjTGgVYggAACCCCAAAIIIICABwIkOB4gUgQCCCCAAAIIIIAAAghEQ8BVgtO0iIutRWO4aAUCCPgtQLzzW5jyEUAgSgLEvCiNBm3xSqAgwUmlUnLz5k1H+etXr3S85gUCURa4q7kpys2jbRESIN5FaDBoSlUCxLuq2Or2Q8S8uh36xHTcbcwrmuBcv37dAbF57b2O17xAIMoCD+Yl5Jqwa1DnhkC+gG4XxLt8FV7HSYB4F6fRCr+txLzwx4AW1CbgNuY5EpwFCxaI3n/72986av9y90PiNmNyfJAXCIQg8I9f+Iyj1vfff58ExyHCCxUg3rEdJEGAeJeEUQymD8S8YJypxV8BtzEvl+BoVq/3hoYG0R3C2dnZXAtXLmuRl77xRfl85325ZTxBIGoCm+9fLS9946/lofaPOpr2m9/8xvpxTw3u3BBQAeId20HcBYh3cR/BYNtPzAvWm9q8F6g05qXS6XRam6EJzfT0tHzwwQfyi1/8QpYsWSKf/OQnvW8hJSIQoMD4+Ljova2tTZYtWyaLFy+2/nIfYBOoKoICxLsIDgpNqlmAeFczYWILIOYldmjrumPlYl7uT9qa3S9cuFAaGxut5Obq1avy61//uq7h6Hy8BSYnJ+Wtt96S5uZma7vW7ZsbAipAvGM7SJoA8S5pI+ptf4h53npSWvgC88W8XIKjTdVDeDTBWbp0qbS0tMgbb7whFy9eDL8XtACBCgWuXLkir732mjVjo9uzmbnRIM8NARUg3rEdJEWAeJeUkfS3H8Q8f30pPTgBNzEvd4iaNkuPVrt9+7Z1VaH33ntPJiYmrFkcPS+nvb1dPvKRj1iJT3BdoCYE3AvcuHFDfvWrX8nbb78tH374oXVIWmtra2671e2Y83DceyZ9TeJd0kc42f0j3iV7fP3oHTHPD1XKDEqg0pjnSHC0keY4TZ360YsN6Anael6Ovp6ampKZmRnHBQiC6hj1IFBOQBMXPQRt0aJF1iFpd9xxh9x9991y1113WUm5zkzqOszglFOsv/eId/U35knoMfEuCaMYTh+IeeG4U2ttAtXEvD54sBYAAAG+SURBVIb8KnUH0Owkmud6wQFNcPT3RG7dumUlOfq57PUJ8ovgNQKBCuh2qhu/brd6KJqec6OHWOpdn+tykptAhyQ2lZkYp9uJeU68i83w1WVDiXd1OeyeddrEOWKeZ6QU5LNAtTGvYAZH26mJi2b5OlujV1bTmRtNbvS5Jjj6HsmNzyNK8RUJ6OyNHoKmyUxTU5OV6GiyYw5L0y8INwSKCRDviqmwLMoCxLsoj07020bMi/4Y0UKnQDUxr2iCo8XqF8B8CTSh0XNzNOHRu3lPH7khEKaASVx0hsZMYWpSo18GM2tj1gmzndQdbQET0zTWEe+iPVb13DoTy4h39bwVeNN3Yp43jpTir0AtMa9kgmOabL4EJpnR//z1Zl6b9XhEICwB8wXQx/x7WG2i3ngKEO/iOW711GriXT2Ntv99Jeb5b0wNtQlUG/PmTXDszSKpsWvwPIoC5osQxbbRpngJEO/iNV712FriXT2Oun99Jub5Z0vJ3ghUEvMqSnC8aR6lIIAAAggggAACCCCAAAL+CDh+6NOfKigVAQQQQAABBBBAAAEEEAhGgAQnGGdqQQABBBBAAAEEEEAAgQAE/h8R0HMmTij3sAAAAABJRU5ErkJggg==)"
      ]
    },
    {
      "cell_type": "markdown",
      "metadata": {
        "id": "lYhZpyLhbxaN",
        "colab_type": "text"
      },
      "source": [
        "#Calculating Measures of Central Tendency"
      ]
    },
    {
      "cell_type": "markdown",
      "metadata": {
        "id": "W68nXNVXbxaP",
        "colab_type": "text"
      },
      "source": [
        "# Mean: Represents average values"
      ]
    },
    {
      "cell_type": "code",
      "metadata": {
        "id": "MRzJZpUxbxaR",
        "colab_type": "code",
        "outputId": "14149451-7aca-40ba-c32d-6b8eb58b04bd",
        "colab": {
          "base_uri": "https://localhost:8080/",
          "height": 287
        }
      },
      "source": [
        "train.describe()"
      ],
      "execution_count": 9,
      "outputs": [
        {
          "output_type": "execute_result",
          "data": {
            "text/html": [
              "<div>\n",
              "<style scoped>\n",
              "    .dataframe tbody tr th:only-of-type {\n",
              "        vertical-align: middle;\n",
              "    }\n",
              "\n",
              "    .dataframe tbody tr th {\n",
              "        vertical-align: top;\n",
              "    }\n",
              "\n",
              "    .dataframe thead th {\n",
              "        text-align: right;\n",
              "    }\n",
              "</style>\n",
              "<table border=\"1\" class=\"dataframe\">\n",
              "  <thead>\n",
              "    <tr style=\"text-align: right;\">\n",
              "      <th></th>\n",
              "      <th>date_block_num</th>\n",
              "      <th>shop_id</th>\n",
              "      <th>item_id</th>\n",
              "      <th>item_price</th>\n",
              "      <th>item_cnt_day</th>\n",
              "    </tr>\n",
              "  </thead>\n",
              "  <tbody>\n",
              "    <tr>\n",
              "      <th>count</th>\n",
              "      <td>1.043246e+06</td>\n",
              "      <td>1.043246e+06</td>\n",
              "      <td>1.043246e+06</td>\n",
              "      <td>1.043246e+06</td>\n",
              "      <td>1.043246e+06</td>\n",
              "    </tr>\n",
              "    <tr>\n",
              "      <th>mean</th>\n",
              "      <td>4.472810e+00</td>\n",
              "      <td>3.245368e+01</td>\n",
              "      <td>1.024260e+04</td>\n",
              "      <td>6.823654e+02</td>\n",
              "      <td>1.220174e+00</td>\n",
              "    </tr>\n",
              "    <tr>\n",
              "      <th>std</th>\n",
              "      <td>2.967065e+00</td>\n",
              "      <td>1.625856e+01</td>\n",
              "      <td>6.305360e+03</td>\n",
              "      <td>1.124829e+03</td>\n",
              "      <td>1.600203e+00</td>\n",
              "    </tr>\n",
              "    <tr>\n",
              "      <th>min</th>\n",
              "      <td>0.000000e+00</td>\n",
              "      <td>0.000000e+00</td>\n",
              "      <td>1.200000e+01</td>\n",
              "      <td>-1.000000e+00</td>\n",
              "      <td>-6.000000e+00</td>\n",
              "    </tr>\n",
              "    <tr>\n",
              "      <th>25%</th>\n",
              "      <td>2.000000e+00</td>\n",
              "      <td>2.200000e+01</td>\n",
              "      <td>4.548000e+03</td>\n",
              "      <td>1.990000e+02</td>\n",
              "      <td>1.000000e+00</td>\n",
              "    </tr>\n",
              "    <tr>\n",
              "      <th>50%</th>\n",
              "      <td>4.000000e+00</td>\n",
              "      <td>3.000000e+01</td>\n",
              "      <td>9.691000e+03</td>\n",
              "      <td>3.990000e+02</td>\n",
              "      <td>1.000000e+00</td>\n",
              "    </tr>\n",
              "    <tr>\n",
              "      <th>75%</th>\n",
              "      <td>7.000000e+00</td>\n",
              "      <td>4.700000e+01</td>\n",
              "      <td>1.561875e+04</td>\n",
              "      <td>6.993000e+02</td>\n",
              "      <td>1.000000e+00</td>\n",
              "    </tr>\n",
              "    <tr>\n",
              "      <th>max</th>\n",
              "      <td>1.000000e+01</td>\n",
              "      <td>5.900000e+01</td>\n",
              "      <td>2.216800e+04</td>\n",
              "      <td>5.920000e+04</td>\n",
              "      <td>2.880000e+02</td>\n",
              "    </tr>\n",
              "  </tbody>\n",
              "</table>\n",
              "</div>"
            ],
            "text/plain": [
              "       date_block_num       shop_id       item_id    item_price  item_cnt_day\n",
              "count    1.043246e+06  1.043246e+06  1.043246e+06  1.043246e+06  1.043246e+06\n",
              "mean     4.472810e+00  3.245368e+01  1.024260e+04  6.823654e+02  1.220174e+00\n",
              "std      2.967065e+00  1.625856e+01  6.305360e+03  1.124829e+03  1.600203e+00\n",
              "min      0.000000e+00  0.000000e+00  1.200000e+01 -1.000000e+00 -6.000000e+00\n",
              "25%      2.000000e+00  2.200000e+01  4.548000e+03  1.990000e+02  1.000000e+00\n",
              "50%      4.000000e+00  3.000000e+01  9.691000e+03  3.990000e+02  1.000000e+00\n",
              "75%      7.000000e+00  4.700000e+01  1.561875e+04  6.993000e+02  1.000000e+00\n",
              "max      1.000000e+01  5.900000e+01  2.216800e+04  5.920000e+04  2.880000e+02"
            ]
          },
          "metadata": {
            "tags": []
          },
          "execution_count": 9
        }
      ]
    },
    {
      "cell_type": "code",
      "metadata": {
        "id": "lxW6Xh8OqIHh",
        "colab_type": "code",
        "colab": {}
      },
      "source": [
        "#train.mean()"
      ],
      "execution_count": 0,
      "outputs": []
    },
    {
      "cell_type": "markdown",
      "metadata": {
        "id": "Gp5UIBKCbxaY",
        "colab_type": "text"
      },
      "source": [
        "# Median: Middle value of dataset\n",
        "\n",
        "\n",
        "<img src=\"https://www.mathsisfun.com/data/images/median.svg\n",
        "\" width=\"400\" height=\"200\" >\n"
      ]
    },
    {
      "cell_type": "code",
      "metadata": {
        "id": "F_8zapOpbxaZ",
        "colab_type": "code",
        "outputId": "ab449ff7-8f0a-4a25-e2c7-8be0ef75d5e5",
        "colab": {
          "base_uri": "https://localhost:8080/",
          "height": 123
        }
      },
      "source": [
        "train.median()\n"
      ],
      "execution_count": 11,
      "outputs": [
        {
          "output_type": "execute_result",
          "data": {
            "text/plain": [
              "date_block_num       4.0\n",
              "shop_id             30.0\n",
              "item_id           9691.0\n",
              "item_price         399.0\n",
              "item_cnt_day         1.0\n",
              "dtype: float64"
            ]
          },
          "metadata": {
            "tags": []
          },
          "execution_count": 11
        }
      ]
    },
    {
      "cell_type": "markdown",
      "metadata": {
        "id": "iOnP_1hjqanf",
        "colab_type": "text"
      },
      "source": [
        "<b>(1043246, 6)</b>\n",
        "\n",
        "\n",
        "1.   1043246 --> number of rows in the dataset\n",
        "2.   6 --> number of columns in the dataset\n",
        "\n"
      ]
    },
    {
      "cell_type": "code",
      "metadata": {
        "id": "wDb671mr0YAW",
        "colab_type": "code",
        "outputId": "c43892fb-9a2d-4057-c789-df23e638e0ae",
        "colab": {
          "base_uri": "https://localhost:8080/",
          "height": 34
        }
      },
      "source": [
        "train.shape\n"
      ],
      "execution_count": 12,
      "outputs": [
        {
          "output_type": "execute_result",
          "data": {
            "text/plain": [
              "(1043246, 6)"
            ]
          },
          "metadata": {
            "tags": []
          },
          "execution_count": 12
        }
      ]
    },
    {
      "cell_type": "markdown",
      "metadata": {
        "id": "4BiL_KQjraUy",
        "colab_type": "text"
      },
      "source": [
        "# Mode: number which is repeated most of the time in the list\n",
        "\n",
        "<img src=\"https://www.mathsisfun.com/data/images/mode.svg\n",
        "\" width=\"300\" height=\"200\" >\n",
        "\n"
      ]
    },
    {
      "cell_type": "code",
      "metadata": {
        "id": "Z35FryKu0eHq",
        "colab_type": "code",
        "outputId": "2e0a620c-65bb-46b2-a269-34a62cf39417",
        "colab": {
          "base_uri": "https://localhost:8080/",
          "height": 77
        }
      },
      "source": [
        "#train.iloc[0]## first row of data frame\n",
        "#train.iloc[169:171,0:3]#First column\n",
        "train.mode()\n"
      ],
      "execution_count": 13,
      "outputs": [
        {
          "output_type": "execute_result",
          "data": {
            "text/html": [
              "<div>\n",
              "<style scoped>\n",
              "    .dataframe tbody tr th:only-of-type {\n",
              "        vertical-align: middle;\n",
              "    }\n",
              "\n",
              "    .dataframe tbody tr th {\n",
              "        vertical-align: top;\n",
              "    }\n",
              "\n",
              "    .dataframe thead th {\n",
              "        text-align: right;\n",
              "    }\n",
              "</style>\n",
              "<table border=\"1\" class=\"dataframe\">\n",
              "  <thead>\n",
              "    <tr style=\"text-align: right;\">\n",
              "      <th></th>\n",
              "      <th>date</th>\n",
              "      <th>date_block_num</th>\n",
              "      <th>shop_id</th>\n",
              "      <th>item_id</th>\n",
              "      <th>item_price</th>\n",
              "      <th>item_cnt_day</th>\n",
              "    </tr>\n",
              "  </thead>\n",
              "  <tbody>\n",
              "    <tr>\n",
              "      <th>0</th>\n",
              "      <td>23.02.2013</td>\n",
              "      <td>2</td>\n",
              "      <td>31</td>\n",
              "      <td>20949</td>\n",
              "      <td>299.0</td>\n",
              "      <td>1</td>\n",
              "    </tr>\n",
              "  </tbody>\n",
              "</table>\n",
              "</div>"
            ],
            "text/plain": [
              "         date  date_block_num  shop_id  item_id  item_price  item_cnt_day\n",
              "0  23.02.2013               2       31    20949       299.0             1"
            ]
          },
          "metadata": {
            "tags": []
          },
          "execution_count": 13
        }
      ]
    },
    {
      "cell_type": "markdown",
      "metadata": {
        "id": "_EHohZo52lrT",
        "colab_type": "text"
      },
      "source": [
        "# Range: \n",
        "The range gives a measure of how spread apart the values are\n",
        "The range is simply calculated as the maximum value – minimum value <br>\n",
        "                        <b>  Max(xi)–Min(xi) </b>\n",
        "                          <br>\n",
        "                          <br>\n",
        "                          <br>\n",
        "<img src=\"https://www.mathsisfun.com/data/images/range.svg\" width=\"350\" height=\"150\" >\n",
        "\n"
      ]
    },
    {
      "cell_type": "code",
      "metadata": {
        "id": "v28ZxZo03vvI",
        "colab_type": "code",
        "outputId": "327048d4-8b67-4b7c-de92-363a76decc7e",
        "colab": {
          "base_uri": "https://localhost:8080/",
          "height": 87
        }
      },
      "source": [
        "import numpy as np\n",
        "print(\"Range for item_price:\",np.ptp(train.item_price, axis=0))\n",
        "print(\"Range for item_cnt_day:\",np.ptp(train.item_cnt_day, axis=0))"
      ],
      "execution_count": 14,
      "outputs": [
        {
          "output_type": "stream",
          "text": [
            "Range for item_price: 59201.0\n",
            "Range for item_cnt_day: 294\n"
          ],
          "name": "stdout"
        },
        {
          "output_type": "stream",
          "text": [
            "/usr/local/lib/python3.6/dist-packages/numpy/core/fromnumeric.py:2495: FutureWarning: Method .ptp is deprecated and will be removed in a future version. Use numpy.ptp instead.\n",
            "  return ptp(axis=axis, out=out, **kwargs)\n"
          ],
          "name": "stderr"
        }
      ]
    },
    {
      "cell_type": "markdown",
      "metadata": {
        "id": "k6IlwZDEbxad",
        "colab_type": "text"
      },
      "source": [
        "#Outliers: Anything which is not following the normal range of the data\n",
        "\n",
        "<img src=\"https://www.stevesjogren.com/wp-content/uploads/2011/06/1_TbUF_HTQ6jOhO8EoPnmekQ.jpg\" width=\"300\" height=\"200\" >\n"
      ]
    },
    {
      "cell_type": "markdown",
      "metadata": {
        "id": "6ANPXO7Ebxae",
        "colab_type": "text"
      },
      "source": [
        "# <b>Z-Score</b>\n",
        "Z-score is a numerical measurement used in statistics of a value's relationship to the mean (average) of a group of values, measured in terms of standard deviations from the mean\n",
        "\n",
        "(Measuring the distance of your point from the mean)\n",
        "# To handle the outliers\n",
        "\n",
        "<img src=\"https://www.animatedsoftware.com/pics/stats/sgzscor2.gif\" width=\"450\" height=\"200\" >\n",
        "\n",
        "\n"
      ]
    },
    {
      "cell_type": "code",
      "metadata": {
        "id": "ayiar7mbbxaf",
        "colab_type": "code",
        "colab": {}
      },
      "source": [
        "from scipy import stats\n",
        "import numpy as np"
      ],
      "execution_count": 0,
      "outputs": []
    },
    {
      "cell_type": "code",
      "metadata": {
        "id": "d8IVYC4ybxai",
        "colab_type": "code",
        "outputId": "2784bcd3-9b4b-4d6c-a7ed-a20417d51e41",
        "colab": {
          "base_uri": "https://localhost:8080/",
          "height": 141
        }
      },
      "source": [
        "# Using Z-score function defined in scipy library to detect the outliers\n",
        "z = np.abs(stats.zscore(train[['item_price','item_cnt_day']]))\n",
        "print(z)"
      ],
      "execution_count": 16,
      "outputs": [
        {
          "output_type": "stream",
          "text": [
            "[[0.28149591 0.13759157]\n",
            " [0.19259347 0.13759157]\n",
            " [0.19259347 1.38743362]\n",
            " ...\n",
            " [0.42972364 0.13759157]\n",
            " [0.51862608 0.13759157]\n",
            " [0.42972364 0.13759157]]\n"
          ],
          "name": "stdout"
        }
      ]
    },
    {
      "cell_type": "code",
      "metadata": {
        "id": "attRvATHbxam",
        "colab_type": "code",
        "outputId": "d7e23c9e-27b1-4ae9-b258-719491184384",
        "colab": {
          "base_uri": "https://localhost:8080/",
          "height": 34
        }
      },
      "source": [
        "# Define a threshold to identify an outlier\n",
        "threshold = 5\n",
        "print(np.where(z > threshold))"
      ],
      "execution_count": 17,
      "outputs": [
        {
          "output_type": "stream",
          "text": [
            "(array([    117,     169,     457, ..., 1042982, 1043154, 1043198]), array([1, 1, 0, ..., 0, 1, 1]))\n"
          ],
          "name": "stdout"
        }
      ]
    },
    {
      "cell_type": "code",
      "metadata": {
        "id": "xYDLMsJRbxar",
        "colab_type": "code",
        "outputId": "b31fa4f1-02e7-4370-f0b9-20e1eb1c0e78",
        "colab": {
          "base_uri": "https://localhost:8080/",
          "height": 34
        }
      },
      "source": [
        "# The first array contains the list of row numbers and second array respective column numbers, \n",
        "# which mean z[352][1] have a Z-score higher than 5.\n",
        "print(z[117][1])"
      ],
      "execution_count": 18,
      "outputs": [
        {
          "output_type": "stream",
          "text": [
            "7.36146071862519\n"
          ],
          "name": "stdout"
        }
      ]
    },
    {
      "cell_type": "code",
      "metadata": {
        "id": "GP0z24eObxav",
        "colab_type": "code",
        "outputId": "38b55f83-be97-4503-82d3-1bbab97253ae",
        "colab": {
          "base_uri": "https://localhost:8080/",
          "height": 34
        }
      },
      "source": [
        "# Printing the sample values for the same\n",
        "train.iloc[169:171]\n",
        "z[169][1]"
      ],
      "execution_count": 19,
      "outputs": [
        {
          "output_type": "execute_result",
          "data": {
            "text/plain": [
              "7.36146071862519"
            ]
          },
          "metadata": {
            "tags": []
          },
          "execution_count": 19
        }
      ]
    },
    {
      "cell_type": "markdown",
      "metadata": {
        "id": "xd-boATbbxaz",
        "colab_type": "text"
      },
      "source": [
        "\n",
        "\n",
        "\n",
        "\n",
        "# What is Quartile?\n",
        "Breaking the dataset into quaters\n",
        "\n",
        "\n",
        "<img src=\"https://www.mathsisfun.com/data/images/quartiles-c.svg\" width=\"450\" height=\"150\" >\n",
        "\n",
        "# What is interquartile range?\n",
        "\n",
        "Difference between the quartile 1 and quartile 3\n",
        "\n",
        "\n",
        "\n",
        "<img src=\"https://www.mathsisfun.com/data/images/interquartile-range.svg\n",
        "\" width=\"450\" height=\"250\" >\n",
        "\n",
        "\n",
        "\n",
        "\n"
      ]
    },
    {
      "cell_type": "code",
      "metadata": {
        "id": "XkCztR6Ybxa1",
        "colab_type": "code",
        "colab": {}
      },
      "source": [
        "def remove_outlier(df_in, col_name):\n",
        "    q1 = df_in[col_name].quantile(0.25)\n",
        "    q3 = df_in[col_name].quantile(0.75)\n",
        "    iqr = q3-q1 #Interquartile range\n",
        "    print(iqr)\n",
        "    fence_low  = q1-1.5*iqr\n",
        "    print(fence_low)\n",
        "    fence_high = q3+1.5*iqr\n",
        "    print(fence_high)\n",
        "    df_out = df_in.loc[(df_in[col_name] > fence_low) & (df_in[col_name] < fence_high)]\n",
        "    print(df_out)\n",
        "    return df_out"
      ],
      "execution_count": 0,
      "outputs": []
    },
    {
      "cell_type": "code",
      "metadata": {
        "id": "2s_YeDnQbxa5",
        "colab_type": "code",
        "outputId": "88542545-878e-4918-d12a-8f0423a16bd4",
        "colab": {
          "base_uri": "https://localhost:8080/",
          "height": 500
        }
      },
      "source": [
        "remove_outlier(train,\"item_price\").head()"
      ],
      "execution_count": 21,
      "outputs": [
        {
          "output_type": "stream",
          "text": [
            "500.29999999999995\n",
            "-551.4499999999999\n",
            "1449.75\n",
            "               date  date_block_num  shop_id  item_id  item_price  item_cnt_day\n",
            "0        02.01.2013               0       59    22154       999.0             1\n",
            "1        03.01.2013               0       25     2552       899.0             1\n",
            "2        05.01.2013               0       25     2552       899.0            -1\n",
            "4        15.01.2013               0       25     2555      1099.0             1\n",
            "5        12.01.2013               0       25     3253       899.0             1\n",
            "...             ...             ...      ...      ...         ...           ...\n",
            "1043241  07.11.2013              10       37    18474       199.0             1\n",
            "1043242  18.11.2013              10       37    18474       199.0             1\n",
            "1043243  24.11.2013              10       37    18484       199.0             1\n",
            "1043244  11.11.2013              10       37    19751        99.0             1\n",
            "1043245  26.11.2013              10       37    18498       199.0             1\n",
            "\n",
            "[928110 rows x 6 columns]\n"
          ],
          "name": "stdout"
        },
        {
          "output_type": "execute_result",
          "data": {
            "text/html": [
              "<div>\n",
              "<style scoped>\n",
              "    .dataframe tbody tr th:only-of-type {\n",
              "        vertical-align: middle;\n",
              "    }\n",
              "\n",
              "    .dataframe tbody tr th {\n",
              "        vertical-align: top;\n",
              "    }\n",
              "\n",
              "    .dataframe thead th {\n",
              "        text-align: right;\n",
              "    }\n",
              "</style>\n",
              "<table border=\"1\" class=\"dataframe\">\n",
              "  <thead>\n",
              "    <tr style=\"text-align: right;\">\n",
              "      <th></th>\n",
              "      <th>date</th>\n",
              "      <th>date_block_num</th>\n",
              "      <th>shop_id</th>\n",
              "      <th>item_id</th>\n",
              "      <th>item_price</th>\n",
              "      <th>item_cnt_day</th>\n",
              "    </tr>\n",
              "  </thead>\n",
              "  <tbody>\n",
              "    <tr>\n",
              "      <th>0</th>\n",
              "      <td>02.01.2013</td>\n",
              "      <td>0</td>\n",
              "      <td>59</td>\n",
              "      <td>22154</td>\n",
              "      <td>999.0</td>\n",
              "      <td>1</td>\n",
              "    </tr>\n",
              "    <tr>\n",
              "      <th>1</th>\n",
              "      <td>03.01.2013</td>\n",
              "      <td>0</td>\n",
              "      <td>25</td>\n",
              "      <td>2552</td>\n",
              "      <td>899.0</td>\n",
              "      <td>1</td>\n",
              "    </tr>\n",
              "    <tr>\n",
              "      <th>2</th>\n",
              "      <td>05.01.2013</td>\n",
              "      <td>0</td>\n",
              "      <td>25</td>\n",
              "      <td>2552</td>\n",
              "      <td>899.0</td>\n",
              "      <td>-1</td>\n",
              "    </tr>\n",
              "    <tr>\n",
              "      <th>4</th>\n",
              "      <td>15.01.2013</td>\n",
              "      <td>0</td>\n",
              "      <td>25</td>\n",
              "      <td>2555</td>\n",
              "      <td>1099.0</td>\n",
              "      <td>1</td>\n",
              "    </tr>\n",
              "    <tr>\n",
              "      <th>5</th>\n",
              "      <td>12.01.2013</td>\n",
              "      <td>0</td>\n",
              "      <td>25</td>\n",
              "      <td>3253</td>\n",
              "      <td>899.0</td>\n",
              "      <td>1</td>\n",
              "    </tr>\n",
              "  </tbody>\n",
              "</table>\n",
              "</div>"
            ],
            "text/plain": [
              "         date  date_block_num  shop_id  item_id  item_price  item_cnt_day\n",
              "0  02.01.2013               0       59    22154       999.0             1\n",
              "1  03.01.2013               0       25     2552       899.0             1\n",
              "2  05.01.2013               0       25     2552       899.0            -1\n",
              "4  15.01.2013               0       25     2555      1099.0             1\n",
              "5  12.01.2013               0       25     3253       899.0             1"
            ]
          },
          "metadata": {
            "tags": []
          },
          "execution_count": 21
        }
      ]
    },
    {
      "cell_type": "markdown",
      "metadata": {
        "id": "JT28ZsD_4kti",
        "colab_type": "text"
      },
      "source": [
        "# Standard deviation :\n",
        "Standard deviation is a number used to tell<b> how measurements for a group are spread out from the average (mean)</b>, or expected value. A low standard deviation means that most of the numbers are close to the average. A high standard deviation means that the numbers are more spread out.\n",
        "<br>\n",
        "<br>\n",
        "<br>\n",
        "![image.png](data:image/png;base64,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)"
      ]
    },
    {
      "cell_type": "code",
      "metadata": {
        "id": "gZjvw601O7Ns",
        "colab_type": "code",
        "outputId": "9114e732-beed-4d59-9579-eaa905a71725",
        "colab": {
          "base_uri": "https://localhost:8080/",
          "height": 70
        }
      },
      "source": [
        "np.std(train[['item_price','item_cnt_day']], axis=0)"
      ],
      "execution_count": 22,
      "outputs": [
        {
          "output_type": "execute_result",
          "data": {
            "text/plain": [
              "item_price      1124.828469\n",
              "item_cnt_day       1.600202\n",
              "dtype: float64"
            ]
          },
          "metadata": {
            "tags": []
          },
          "execution_count": 22
        }
      ]
    },
    {
      "cell_type": "markdown",
      "metadata": {
        "id": "LyZMbSFP6U6l",
        "colab_type": "text"
      },
      "source": [
        "# <b> Variance </b>\n",
        "\n",
        "Variance measures how far a set of data is spread out. A variance of zero indicates that all of the data values are identical. All non-zero variances are positive. Variance is the average of the squared distances from each point to the mean.\n",
        "\n",
        "<img src=\"http://zerodha.com/varsity/wp-content/uploads/2017/03/Formula-variance.png\" width=\"350\" height=\"150\" >\n",
        "\n",
        "<br>\n",
        "<b>\n",
        "1.   x = Particular value<br>\n",
        "2.   meu = mean value<br>\n",
        "3.   N = numbers of observation</b>\n",
        "\n",
        "\n",
        "\n",
        "\n",
        "\n",
        "\n",
        "\n",
        "\n"
      ]
    },
    {
      "cell_type": "code",
      "metadata": {
        "id": "s41ouNty8Fre",
        "colab_type": "code",
        "outputId": "3651e6fe-817f-40d6-e7dc-9d8bcdb1aa1c",
        "colab": {
          "base_uri": "https://localhost:8080/",
          "height": 70
        }
      },
      "source": [
        "np.var(train[['item_price','item_cnt_day']], axis=0)"
      ],
      "execution_count": 23,
      "outputs": [
        {
          "output_type": "execute_result",
          "data": {
            "text/plain": [
              "item_price      1.265239e+06\n",
              "item_cnt_day    2.560647e+00\n",
              "dtype: float64"
            ]
          },
          "metadata": {
            "tags": []
          },
          "execution_count": 23
        }
      ]
    },
    {
      "cell_type": "markdown",
      "metadata": {
        "id": "uxPI8bJrNdx9",
        "colab_type": "text"
      },
      "source": [
        "#<b>What is Kurtosis?</b>\n",
        "\n",
        "Kurtosis is a statistical measure that defines how heavily the tails of a distribution differ from the tails of a normal distribution. In other words, kurtosis identifies whether the tails of a given distribution contain extreme values.\n",
        "\n",
        "<img src=\" https://corporatefinanceinstitute.com/assets/kurtosis.png\" width=\"300\" height=\"250\" >\n",
        "\n",
        " It is the the fourth central moment divided by the square of the variance. It is a measure of the “tailedness” i.e. descriptor of shape of probability distribution of a real-valued random variable. In simple terms, one can say it is a measure of how heavy tail is compared to a normal distribution.\n",
        "\n",
        "<img src=\" https://media.geeksforgeeks.org/wp-content/uploads/kurtosis.jpg\" width=\"500\" height=\"150\" >\n",
        "\n",
        "<b>Parameters :\n",
        "array : Input array or object having the elements.<br>\n",
        "axis : Axis along which the kurtosis value is to be measured. By default axis = 0.<br>\n",
        "fisher : Bool; Fisher’s definition is used (normal 0.0) if True; else Pearson’s definition is used (normal 3.0) if set to False.<br>\n",
        "bias : Bool; calculations are corrected for statistical bias, if set to False.\n",
        "<br></b>\n",
        "\n"
      ]
    },
    {
      "cell_type": "code",
      "metadata": {
        "id": "sdH_eSTeOjXr",
        "colab_type": "code",
        "outputId": "50621db6-0690-4dc4-98ce-d5ef9437938f",
        "colab": {
          "base_uri": "https://localhost:8080/",
          "height": 52
        }
      },
      "source": [
        "from scipy.stats import kurtosis\n",
        "print(\"Pearson kurtosis:\", kurtosis(train[['item_price','item_cnt_day']], fisher=False))\n",
        "print(\"Fisher's kurtosis:\", kurtosis(train[['item_price','item_cnt_day']], fisher=True))"
      ],
      "execution_count": 24,
      "outputs": [
        {
          "output_type": "stream",
          "text": [
            "Pearson kurtosis: [  92.66216202 3713.29719682]\n",
            "Fisher's kurtosis: [  89.66216202 3710.29719682]\n"
          ],
          "name": "stdout"
        }
      ]
    },
    {
      "cell_type": "markdown",
      "metadata": {
        "id": "mi2wW9v6PO-H",
        "colab_type": "text"
      },
      "source": [
        "# <b> Skewness</b>:\n",
        "Skewness is a measure of the asymmetry of a data distribution. Skewness is asymmetry in a statistical distribution, in which the curve appears distorted or skewed either to the left or to the right. Skewness can be quantified to define the extent to which a distribution differs from a normal distribution.\n",
        "<br>\n",
        "<br>\n",
        "<img src=\"https://media.geeksforgeeks.org/wp-content/uploads/Skewness-1.png\" width=\"450\" height=\"150\" >\n",
        "\n",
        "<b>Where gamma is called skewness\n",
        "      sigma is called standard deviation and sigma square can be calculated as\n",
        "      \n",
        "      N is number of population and\n",
        "      mu is called mean of data.  \n",
        "</b>\n"
      ]
    },
    {
      "cell_type": "code",
      "metadata": {
        "id": "yIMqEinIPo-Q",
        "colab_type": "code",
        "outputId": "cba5e104-f4b3-4f26-fff1-bb4d1dee319d",
        "colab": {
          "base_uri": "https://localhost:8080/",
          "height": 34
        }
      },
      "source": [
        "from scipy.stats import skew\n",
        "skew(train[['item_price','item_cnt_day']], axis=0)"
      ],
      "execution_count": 25,
      "outputs": [
        {
          "output_type": "execute_result",
          "data": {
            "text/plain": [
              "array([ 7.7545186, 40.2899548])"
            ]
          },
          "metadata": {
            "tags": []
          },
          "execution_count": 25
        }
      ]
    },
    {
      "cell_type": "markdown",
      "metadata": {
        "id": "n-x1Ly6tbxa8",
        "colab_type": "text"
      },
      "source": [
        "#<b>  Using box plots</b>"
      ]
    },
    {
      "cell_type": "code",
      "metadata": {
        "id": "kYq7oXeMbxa9",
        "colab_type": "code",
        "colab": {}
      },
      "source": [
        "%matplotlib inline\n",
        "import seaborn as sns"
      ],
      "execution_count": 0,
      "outputs": []
    },
    {
      "cell_type": "code",
      "metadata": {
        "id": "4NLwsiipbxbA",
        "colab_type": "code",
        "outputId": "00528777-b569-45c4-de23-1e33c81e7a47",
        "colab": {
          "base_uri": "https://localhost:8080/",
          "height": 297
        }
      },
      "source": [
        "sns.boxplot(x=train['item_price'])"
      ],
      "execution_count": 27,
      "outputs": [
        {
          "output_type": "execute_result",
          "data": {
            "text/plain": [
              "<matplotlib.axes._subplots.AxesSubplot at 0x7f69df3ea978>"
            ]
          },
          "metadata": {
            "tags": []
          },
          "execution_count": 27
        },
        {
          "output_type": "display_data",
          "data": {
            "image/png": "[encoded data removed]",
            "text/plain": [
              "<Figure size 432x288 with 1 Axes>"
            ]
          },
          "metadata": {
            "tags": []
          }
        }
      ]
    },
    {
      "cell_type": "code",
      "metadata": {
        "id": "6v4gw0IwbxbD",
        "colab_type": "code",
        "outputId": "61a2745e-7e38-4c5d-891f-adc4c29b5493",
        "colab": {
          "base_uri": "https://localhost:8080/",
          "height": 297
        }
      },
      "source": [
        "sns.boxplot(x=train['item_cnt_day'])"
      ],
      "execution_count": 28,
      "outputs": [
        {
          "output_type": "execute_result",
          "data": {
            "text/plain": [
              "<matplotlib.axes._subplots.AxesSubplot at 0x7f69deeb9780>"
            ]
          },
          "metadata": {
            "tags": []
          },
          "execution_count": 28
        },
        {
          "output_type": "display_data",
          "data": {
            "image/png": "[encoded data removed]",
            "text/plain": [
              "<Figure size 432x288 with 1 Axes>"
            ]
          },
          "metadata": {
            "tags": []
          }
        }
      ]
    },
    {
      "cell_type": "markdown",
      "metadata": {
        "id": "bgnlrZ9qbxbH",
        "colab_type": "text"
      },
      "source": [
        "# <b>Using scatter plots</b>"
      ]
    },
    {
      "cell_type": "code",
      "metadata": {
        "id": "rvIOL6qybxbI",
        "colab_type": "code",
        "outputId": "8d9483c7-8e26-4dc9-8289-3b413c830ee1",
        "colab": {
          "base_uri": "https://localhost:8080/",
          "height": 297
        }
      },
      "source": [
        "sns.scatterplot(x=\"item_cnt_day\", y=\"item_price\", data=train)"
      ],
      "execution_count": 29,
      "outputs": [
        {
          "output_type": "execute_result",
          "data": {
            "text/plain": [
              "<matplotlib.axes._subplots.AxesSubplot at 0x7f69dee46278>"
            ]
          },
          "metadata": {
            "tags": []
          },
          "execution_count": 29
        },
        {
          "output_type": "display_data",
          "data": {
            "image/png": "[encoded data removed]",
            "text/plain": [
              "<Figure size 432x288 with 1 Axes>"
            ]
          },
          "metadata": {
            "tags": []
          }
        }
      ]
    },
    {
      "cell_type": "markdown",
      "metadata": {
        "id": "9Td67Rk2bxbM",
        "colab_type": "text"
      },
      "source": [
        "# Mode"
      ]
    },
    {
      "cell_type": "code",
      "metadata": {
        "id": "EXAx-rpsbxbN",
        "colab_type": "code",
        "outputId": "726b2a28-4e08-45b8-e27d-9dac3366fba8",
        "colab": {
          "base_uri": "https://localhost:8080/",
          "height": 77
        }
      },
      "source": [
        "train.mode()"
      ],
      "execution_count": 30,
      "outputs": [
        {
          "output_type": "execute_result",
          "data": {
            "text/html": [
              "<div>\n",
              "<style scoped>\n",
              "    .dataframe tbody tr th:only-of-type {\n",
              "        vertical-align: middle;\n",
              "    }\n",
              "\n",
              "    .dataframe tbody tr th {\n",
              "        vertical-align: top;\n",
              "    }\n",
              "\n",
              "    .dataframe thead th {\n",
              "        text-align: right;\n",
              "    }\n",
              "</style>\n",
              "<table border=\"1\" class=\"dataframe\">\n",
              "  <thead>\n",
              "    <tr style=\"text-align: right;\">\n",
              "      <th></th>\n",
              "      <th>date</th>\n",
              "      <th>date_block_num</th>\n",
              "      <th>shop_id</th>\n",
              "      <th>item_id</th>\n",
              "      <th>item_price</th>\n",
              "      <th>item_cnt_day</th>\n",
              "    </tr>\n",
              "  </thead>\n",
              "  <tbody>\n",
              "    <tr>\n",
              "      <th>0</th>\n",
              "      <td>23.02.2013</td>\n",
              "      <td>2</td>\n",
              "      <td>31</td>\n",
              "      <td>20949</td>\n",
              "      <td>299.0</td>\n",
              "      <td>1</td>\n",
              "    </tr>\n",
              "  </tbody>\n",
              "</table>\n",
              "</div>"
            ],
            "text/plain": [
              "         date  date_block_num  shop_id  item_id  item_price  item_cnt_day\n",
              "0  23.02.2013               2       31    20949       299.0             1"
            ]
          },
          "metadata": {
            "tags": []
          },
          "execution_count": 30
        }
      ]
    },
    {
      "cell_type": "markdown",
      "metadata": {
        "id": "GmdbxuV7Q3b6",
        "colab_type": "text"
      },
      "source": [
        "#<b> Covariance and Correlation</b>\n",
        "\n",
        "These two terms measure the relationship and the dependency between two variables\n",
        "\n",
        "1.   Covariance\n",
        "2.   Correlation\n",
        "\n",
        "\n",
        "<b> 1. Covariance:</b><br>\n",
        "Covariance” indicates the direction of the linear relationship between variables\n",
        "\n"
      ]
    },
    {
      "cell_type": "code",
      "metadata": {
        "id": "2gh9RF67UFHr",
        "colab_type": "code",
        "outputId": "33c35075-83d4-49f2-8030-e132fefab35d",
        "colab": {
          "base_uri": "https://localhost:8080/",
          "height": 123
        }
      },
      "source": [
        "import numpy as np \n",
        "  \n",
        "x = np.array([[0, 3, 4], [1, 2, 4], [3, 4, 5]]) \n",
        "  \n",
        "print(\"Shape of array:\\n\", np.shape(x)) \n",
        "  \n",
        "print(\"Covarinace matrix of x:\\n\", np.cov(x)) "
      ],
      "execution_count": 31,
      "outputs": [
        {
          "output_type": "stream",
          "text": [
            "Shape of array:\n",
            " (3, 3)\n",
            "Covarinace matrix of x:\n",
            " [[4.33333333 2.83333333 2.        ]\n",
            " [2.83333333 2.33333333 1.5       ]\n",
            " [2.         1.5        1.        ]]\n"
          ],
          "name": "stdout"
        }
      ]
    },
    {
      "cell_type": "markdown",
      "metadata": {
        "id": "g6iLfWFRUJ-L",
        "colab_type": "text"
      },
      "source": [
        "<b> 2.Correlation:</b><br>\n",
        "Correlation measures both the strength and direction of the linear relationship between two variables\n"
      ]
    },
    {
      "cell_type": "code",
      "metadata": {
        "id": "7aTWdDv8UeiU",
        "colab_type": "code",
        "outputId": "21a4e5f9-58a7-4ccc-91e9-b8ccb9a911ee",
        "colab": {
          "base_uri": "https://localhost:8080/",
          "height": 301
        }
      },
      "source": [
        "# Step 0 - Read the dataset, calculate column correlations and make a seaborn heatmap\n",
        "\n",
        "data = pd.read_csv('https://raw.githubusercontent.com/drazenz/heatmap/master/autos.clean.csv')\n",
        "\n",
        "data.head()"
      ],
      "execution_count": 32,
      "outputs": [
        {
          "output_type": "execute_result",
          "data": {
            "text/html": [
              "<div>\n",
              "<style scoped>\n",
              "    .dataframe tbody tr th:only-of-type {\n",
              "        vertical-align: middle;\n",
              "    }\n",
              "\n",
              "    .dataframe tbody tr th {\n",
              "        vertical-align: top;\n",
              "    }\n",
              "\n",
              "    .dataframe thead th {\n",
              "        text-align: right;\n",
              "    }\n",
              "</style>\n",
              "<table border=\"1\" class=\"dataframe\">\n",
              "  <thead>\n",
              "    <tr style=\"text-align: right;\">\n",
              "      <th></th>\n",
              "      <th>symboling</th>\n",
              "      <th>normalized-losses</th>\n",
              "      <th>make</th>\n",
              "      <th>fuel-type</th>\n",
              "      <th>aspiration</th>\n",
              "      <th>num-of-doors</th>\n",
              "      <th>body-style</th>\n",
              "      <th>drive-wheels</th>\n",
              "      <th>engine-location</th>\n",
              "      <th>wheel-base</th>\n",
              "      <th>length</th>\n",
              "      <th>width</th>\n",
              "      <th>height</th>\n",
              "      <th>curb-weight</th>\n",
              "      <th>engine-type</th>\n",
              "      <th>num-of-cylinders</th>\n",
              "      <th>engine-size</th>\n",
              "      <th>fuel-system</th>\n",
              "      <th>bore</th>\n",
              "      <th>stroke</th>\n",
              "      <th>compression-ratio</th>\n",
              "      <th>horsepower</th>\n",
              "      <th>peak-rpm</th>\n",
              "      <th>city-mpg</th>\n",
              "      <th>highway-mpg</th>\n",
              "      <th>price</th>\n",
              "    </tr>\n",
              "  </thead>\n",
              "  <tbody>\n",
              "    <tr>\n",
              "      <th>0</th>\n",
              "      <td>3</td>\n",
              "      <td>122</td>\n",
              "      <td>alfa-romero</td>\n",
              "      <td>gas</td>\n",
              "      <td>std</td>\n",
              "      <td>two</td>\n",
              "      <td>convertible</td>\n",
              "      <td>rwd</td>\n",
              "      <td>front</td>\n",
              "      <td>88.6</td>\n",
              "      <td>168.8</td>\n",
              "      <td>64.1</td>\n",
              "      <td>48.8</td>\n",
              "      <td>2548</td>\n",
              "      <td>dohc</td>\n",
              "      <td>four</td>\n",
              "      <td>130</td>\n",
              "      <td>mpfi</td>\n",
              "      <td>3.47</td>\n",
              "      <td>2.68</td>\n",
              "      <td>9.0</td>\n",
              "      <td>111.0</td>\n",
              "      <td>5000.0</td>\n",
              "      <td>21</td>\n",
              "      <td>27</td>\n",
              "      <td>13495.0</td>\n",
              "    </tr>\n",
              "    <tr>\n",
              "      <th>1</th>\n",
              "      <td>3</td>\n",
              "      <td>122</td>\n",
              "      <td>alfa-romero</td>\n",
              "      <td>gas</td>\n",
              "      <td>std</td>\n",
              "      <td>two</td>\n",
              "      <td>convertible</td>\n",
              "      <td>rwd</td>\n",
              "      <td>front</td>\n",
              "      <td>88.6</td>\n",
              "      <td>168.8</td>\n",
              "      <td>64.1</td>\n",
              "      <td>48.8</td>\n",
              "      <td>2548</td>\n",
              "      <td>dohc</td>\n",
              "      <td>four</td>\n",
              "      <td>130</td>\n",
              "      <td>mpfi</td>\n",
              "      <td>3.47</td>\n",
              "      <td>2.68</td>\n",
              "      <td>9.0</td>\n",
              "      <td>111.0</td>\n",
              "      <td>5000.0</td>\n",
              "      <td>21</td>\n",
              "      <td>27</td>\n",
              "      <td>16500.0</td>\n",
              "    </tr>\n",
              "    <tr>\n",
              "      <th>2</th>\n",
              "      <td>1</td>\n",
              "      <td>122</td>\n",
              "      <td>alfa-romero</td>\n",
              "      <td>gas</td>\n",
              "      <td>std</td>\n",
              "      <td>two</td>\n",
              "      <td>hatchback</td>\n",
              "      <td>rwd</td>\n",
              "      <td>front</td>\n",
              "      <td>94.5</td>\n",
              "      <td>171.2</td>\n",
              "      <td>65.5</td>\n",
              "      <td>52.4</td>\n",
              "      <td>2823</td>\n",
              "      <td>ohcv</td>\n",
              "      <td>six</td>\n",
              "      <td>152</td>\n",
              "      <td>mpfi</td>\n",
              "      <td>2.68</td>\n",
              "      <td>3.47</td>\n",
              "      <td>9.0</td>\n",
              "      <td>154.0</td>\n",
              "      <td>5000.0</td>\n",
              "      <td>19</td>\n",
              "      <td>26</td>\n",
              "      <td>16500.0</td>\n",
              "    </tr>\n",
              "    <tr>\n",
              "      <th>3</th>\n",
              "      <td>2</td>\n",
              "      <td>164</td>\n",
              "      <td>audi</td>\n",
              "      <td>gas</td>\n",
              "      <td>std</td>\n",
              "      <td>four</td>\n",
              "      <td>sedan</td>\n",
              "      <td>fwd</td>\n",
              "      <td>front</td>\n",
              "      <td>99.8</td>\n",
              "      <td>176.6</td>\n",
              "      <td>66.2</td>\n",
              "      <td>54.3</td>\n",
              "      <td>2337</td>\n",
              "      <td>ohc</td>\n",
              "      <td>four</td>\n",
              "      <td>109</td>\n",
              "      <td>mpfi</td>\n",
              "      <td>3.19</td>\n",
              "      <td>3.40</td>\n",
              "      <td>10.0</td>\n",
              "      <td>102.0</td>\n",
              "      <td>5500.0</td>\n",
              "      <td>24</td>\n",
              "      <td>30</td>\n",
              "      <td>13950.0</td>\n",
              "    </tr>\n",
              "    <tr>\n",
              "      <th>4</th>\n",
              "      <td>2</td>\n",
              "      <td>164</td>\n",
              "      <td>audi</td>\n",
              "      <td>gas</td>\n",
              "      <td>std</td>\n",
              "      <td>four</td>\n",
              "      <td>sedan</td>\n",
              "      <td>4wd</td>\n",
              "      <td>front</td>\n",
              "      <td>99.4</td>\n",
              "      <td>176.6</td>\n",
              "      <td>66.4</td>\n",
              "      <td>54.3</td>\n",
              "      <td>2824</td>\n",
              "      <td>ohc</td>\n",
              "      <td>five</td>\n",
              "      <td>136</td>\n",
              "      <td>mpfi</td>\n",
              "      <td>3.19</td>\n",
              "      <td>3.40</td>\n",
              "      <td>8.0</td>\n",
              "      <td>115.0</td>\n",
              "      <td>5500.0</td>\n",
              "      <td>18</td>\n",
              "      <td>22</td>\n",
              "      <td>17450.0</td>\n",
              "    </tr>\n",
              "  </tbody>\n",
              "</table>\n",
              "</div>"
            ],
            "text/plain": [
              "    symboling  normalized-losses         make  ... city-mpg highway-mpg    price\n",
              "0           3                122  alfa-romero  ...       21          27  13495.0\n",
              "1           3                122  alfa-romero  ...       21          27  16500.0\n",
              "2           1                122  alfa-romero  ...       19          26  16500.0\n",
              "3           2                164         audi  ...       24          30  13950.0\n",
              "4           2                164         audi  ...       18          22  17450.0\n",
              "\n",
              "[5 rows x 26 columns]"
            ]
          },
          "metadata": {
            "tags": []
          },
          "execution_count": 32
        }
      ]
    },
    {
      "cell_type": "code",
      "metadata": {
        "id": "2RiPDmRRUp0k",
        "colab_type": "code",
        "outputId": "f2e99b6a-7e89-4a1d-da12-9d57d36657a0",
        "colab": {
          "base_uri": "https://localhost:8080/",
          "height": 325
        }
      },
      "source": [
        "corr = data.corr()\n",
        "ax = sns.heatmap(\n",
        "    corr, \n",
        "    vmin=-1, vmax=1, center=0,\n",
        "    cmap=sns.diverging_palette(20, 220, n=200),\n",
        "    square=True\n",
        ")\n",
        "ax.set_xticklabels(\n",
        "    ax.get_xticklabels(),\n",
        "    rotation=45,\n",
        "    horizontalalignment='right'\n",
        ");\n"
      ],
      "execution_count": 33,
      "outputs": [
        {
          "output_type": "display_data",
          "data": {
            "image/png": "[encoded data removed]",
            "text/plain": [
              "<Figure size 432x288 with 2 Axes>"
            ]
          },
          "metadata": {
            "tags": []
          }
        }
      ]
    },
    {
      "cell_type": "code",
      "metadata": {
        "id": "k9tDI1G-UqP-",
        "colab_type": "code",
        "outputId": "040ac763-33b3-4c98-97ce-89ca13e21a3f",
        "colab": {
          "base_uri": "https://localhost:8080/",
          "height": 463
        }
      },
      "source": [
        "!wget https://www.dropbox.com/s/otahux7jejxe3yo/InputDModule2_data.zip"
      ],
      "execution_count": 34,
      "outputs": [
        {
          "output_type": "stream",
          "text": [
            "--2020-01-02 04:58:36--  https://www.dropbox.com/s/otahux7jejxe3yo/InputDModule2_data.zip\n",
            "Resolving www.dropbox.com (www.dropbox.com)... 162.125.9.1, 2620:100:601f:1::a27d:901\n",
            "Connecting to www.dropbox.com (www.dropbox.com)|162.125.9.1|:443... connected.\n",
            "HTTP request sent, awaiting response... 301 Moved Permanently\n",
            "Location: /s/raw/otahux7jejxe3yo/InputDModule2_data.zip [following]\n",
            "--2020-01-02 04:58:36--  https://www.dropbox.com/s/raw/otahux7jejxe3yo/InputDModule2_data.zip\n",
            "Reusing existing connection to www.dropbox.com:443.\n",
            "HTTP request sent, awaiting response... 302 Found\n",
            "Location: https://uc2b53a9ff136a29b4c6b3d42451.dl.dropboxusercontent.com/cd/0/inline/AvYwQOuF0OJ388Sc733eYT2Mrb4Gl4okPNEEfSjSLS3p8zyZWXqH04MK9afVakzPLukYixC49OgPAqc7NM8czQemiUNrxERzB0DbQDAkCbj-jzOVCH1g_TLxoKK4ukxE5Pg/file# [following]\n",
            "--2020-01-02 04:58:37--  https://uc2b53a9ff136a29b4c6b3d42451.dl.dropboxusercontent.com/cd/0/inline/AvYwQOuF0OJ388Sc733eYT2Mrb4Gl4okPNEEfSjSLS3p8zyZWXqH04MK9afVakzPLukYixC49OgPAqc7NM8czQemiUNrxERzB0DbQDAkCbj-jzOVCH1g_TLxoKK4ukxE5Pg/file\n",
            "Resolving uc2b53a9ff136a29b4c6b3d42451.dl.dropboxusercontent.com (uc2b53a9ff136a29b4c6b3d42451.dl.dropboxusercontent.com)... 162.125.9.6, 2620:100:601f:6::a27d:906\n",
            "Connecting to uc2b53a9ff136a29b4c6b3d42451.dl.dropboxusercontent.com (uc2b53a9ff136a29b4c6b3d42451.dl.dropboxusercontent.com)|162.125.9.6|:443... connected.\n",
            "HTTP request sent, awaiting response... 302 FOUND\n",
            "Location: /cd/0/inline2/AvY06KNv2K4oRnnNnDHYl7ZANEJkz1lzpSngqOZKTdUevuQ6oyWxLZZ_OmnH_0yjHSLIzYpA7jmzPYwOk70PCLVIy_K0tUZ7FkMYXwTmi1hBge5zZvdGT_GeJa5KcTNfum19oPwd4oU-KXs6daJFraG3LWMNXa_YyS0i7F4PoFug2TWucb_HlrfQm0c4tYFk3aUR5M5Neuj_itPd3PEOI5OAkr_d3Ks90nuNUtQ8zdZo-MnRCLtfXNstlZlRjw1bhu5zy566FFBOQDDnoOEVRD45hKTw4HtGTRSmvOw4X-CqdzYqpgbWUxCeByJzRb2a3qbHV-NENqpG3xmveVMkJ0VGdigr8SQRoM_Q52FpCXXoAw/file [following]\n",
            "--2020-01-02 04:58:37--  https://uc2b53a9ff136a29b4c6b3d42451.dl.dropboxusercontent.com/cd/0/inline2/AvY06KNv2K4oRnnNnDHYl7ZANEJkz1lzpSngqOZKTdUevuQ6oyWxLZZ_OmnH_0yjHSLIzYpA7jmzPYwOk70PCLVIy_K0tUZ7FkMYXwTmi1hBge5zZvdGT_GeJa5KcTNfum19oPwd4oU-KXs6daJFraG3LWMNXa_YyS0i7F4PoFug2TWucb_HlrfQm0c4tYFk3aUR5M5Neuj_itPd3PEOI5OAkr_d3Ks90nuNUtQ8zdZo-MnRCLtfXNstlZlRjw1bhu5zy566FFBOQDDnoOEVRD45hKTw4HtGTRSmvOw4X-CqdzYqpgbWUxCeByJzRb2a3qbHV-NENqpG3xmveVMkJ0VGdigr8SQRoM_Q52FpCXXoAw/file\n",
            "Reusing existing connection to uc2b53a9ff136a29b4c6b3d42451.dl.dropboxusercontent.com:443.\n",
            "HTTP request sent, awaiting response... 200 OK\n",
            "Length: 706288 (690K) [application/zip]\n",
            "Saving to: ‘InputDModule2_data.zip’\n",
            "\n",
            "\rInputDModule2_data.   0%[                    ]       0  --.-KB/s               \rInputDModule2_data. 100%[===================>] 689.73K  --.-KB/s    in 0.09s   \n",
            "\n",
            "2020-01-02 04:58:37 (7.29 MB/s) - ‘InputDModule2_data.zip’ saved [706288/706288]\n",
            "\n"
          ],
          "name": "stdout"
        }
      ]
    },
    {
      "cell_type": "code",
      "metadata": {
        "id": "jgHNpXmLhucw",
        "colab_type": "code",
        "outputId": "dad6eba2-06d2-45a2-eb85-792da1c0f827",
        "colab": {
          "base_uri": "https://localhost:8080/",
          "height": 87
        }
      },
      "source": [
        "!unzip InputDModule2_data.zip"
      ],
      "execution_count": 35,
      "outputs": [
        {
          "output_type": "stream",
          "text": [
            "Archive:  InputDModule2_data.zip\n",
            "  inflating: bayestheorem.csv        \n",
            "  inflating: marvel-wikia-data.csv   \n",
            "  inflating: matches.csv             \n"
          ],
          "name": "stdout"
        }
      ]
    },
    {
      "cell_type": "code",
      "metadata": {
        "id": "Bb12fA5_h5ZF",
        "colab_type": "code",
        "colab": {}
      },
      "source": [
        "# Import libarries\n",
        "import numpy as np\n",
        "import pandas as pd"
      ],
      "execution_count": 0,
      "outputs": []
    },
    {
      "cell_type": "code",
      "metadata": {
        "id": "SWchh0SSh90V",
        "colab_type": "code",
        "outputId": "1ef737b9-736a-4ee1-9dfb-8fd0b43f373d",
        "colab": {
          "base_uri": "https://localhost:8080/",
          "height": 297
        }
      },
      "source": [
        "# Read input data file and print top five rows from the dataset\n",
        "df = pd.read_csv('/content/marvel-wikia-data.csv')\n",
        "df.head()"
      ],
      "execution_count": 37,
      "outputs": [
        {
          "output_type": "execute_result",
          "data": {
            "text/html": [
              "<div>\n",
              "<style scoped>\n",
              "    .dataframe tbody tr th:only-of-type {\n",
              "        vertical-align: middle;\n",
              "    }\n",
              "\n",
              "    .dataframe tbody tr th {\n",
              "        vertical-align: top;\n",
              "    }\n",
              "\n",
              "    .dataframe thead th {\n",
              "        text-align: right;\n",
              "    }\n",
              "</style>\n",
              "<table border=\"1\" class=\"dataframe\">\n",
              "  <thead>\n",
              "    <tr style=\"text-align: right;\">\n",
              "      <th></th>\n",
              "      <th>page_id</th>\n",
              "      <th>name</th>\n",
              "      <th>urlslug</th>\n",
              "      <th>ID</th>\n",
              "      <th>ALIGN</th>\n",
              "      <th>EYE</th>\n",
              "      <th>HAIR</th>\n",
              "      <th>SEX</th>\n",
              "      <th>GSM</th>\n",
              "      <th>ALIVE</th>\n",
              "      <th>APPEARANCES</th>\n",
              "      <th>FIRST APPEARANCE</th>\n",
              "      <th>Year</th>\n",
              "    </tr>\n",
              "  </thead>\n",
              "  <tbody>\n",
              "    <tr>\n",
              "      <th>0</th>\n",
              "      <td>1678</td>\n",
              "      <td>Spider-Man (Peter Parker)</td>\n",
              "      <td>\\/Spider-Man_(Peter_Parker)</td>\n",
              "      <td>Secret Identity</td>\n",
              "      <td>Good Characters</td>\n",
              "      <td>Hazel Eyes</td>\n",
              "      <td>Brown Hair</td>\n",
              "      <td>Male Characters</td>\n",
              "      <td>NaN</td>\n",
              "      <td>Living Characters</td>\n",
              "      <td>4043.0</td>\n",
              "      <td>Aug-62</td>\n",
              "      <td>1962.0</td>\n",
              "    </tr>\n",
              "    <tr>\n",
              "      <th>1</th>\n",
              "      <td>7139</td>\n",
              "      <td>Captain America (Steven Rogers)</td>\n",
              "      <td>\\/Captain_America_(Steven_Rogers)</td>\n",
              "      <td>Public Identity</td>\n",
              "      <td>Good Characters</td>\n",
              "      <td>Blue Eyes</td>\n",
              "      <td>White Hair</td>\n",
              "      <td>Male Characters</td>\n",
              "      <td>NaN</td>\n",
              "      <td>Living Characters</td>\n",
              "      <td>3360.0</td>\n",
              "      <td>Mar-41</td>\n",
              "      <td>1941.0</td>\n",
              "    </tr>\n",
              "    <tr>\n",
              "      <th>2</th>\n",
              "      <td>64786</td>\n",
              "      <td>Wolverine (James \\\"Logan\\\" Howlett)</td>\n",
              "      <td>\\/Wolverine_(James_%22Logan%22_Howlett)</td>\n",
              "      <td>Public Identity</td>\n",
              "      <td>Neutral Characters</td>\n",
              "      <td>Blue Eyes</td>\n",
              "      <td>Black Hair</td>\n",
              "      <td>Male Characters</td>\n",
              "      <td>NaN</td>\n",
              "      <td>Living Characters</td>\n",
              "      <td>3061.0</td>\n",
              "      <td>Oct-74</td>\n",
              "      <td>1974.0</td>\n",
              "    </tr>\n",
              "    <tr>\n",
              "      <th>3</th>\n",
              "      <td>1868</td>\n",
              "      <td>Iron Man (Anthony \\\"Tony\\\" Stark)</td>\n",
              "      <td>\\/Iron_Man_(Anthony_%22Tony%22_Stark)</td>\n",
              "      <td>Public Identity</td>\n",
              "      <td>Good Characters</td>\n",
              "      <td>Blue Eyes</td>\n",
              "      <td>Black Hair</td>\n",
              "      <td>Male Characters</td>\n",
              "      <td>NaN</td>\n",
              "      <td>Living Characters</td>\n",
              "      <td>2961.0</td>\n",
              "      <td>Mar-63</td>\n",
              "      <td>1963.0</td>\n",
              "    </tr>\n",
              "    <tr>\n",
              "      <th>4</th>\n",
              "      <td>2460</td>\n",
              "      <td>Thor (Thor Odinson)</td>\n",
              "      <td>\\/Thor_(Thor_Odinson)</td>\n",
              "      <td>No Dual Identity</td>\n",
              "      <td>Good Characters</td>\n",
              "      <td>Blue Eyes</td>\n",
              "      <td>Blond Hair</td>\n",
              "      <td>Male Characters</td>\n",
              "      <td>NaN</td>\n",
              "      <td>Living Characters</td>\n",
              "      <td>2258.0</td>\n",
              "      <td>Nov-50</td>\n",
              "      <td>1950.0</td>\n",
              "    </tr>\n",
              "  </tbody>\n",
              "</table>\n",
              "</div>"
            ],
            "text/plain": [
              "   page_id                                 name  ... FIRST APPEARANCE    Year\n",
              "0     1678            Spider-Man (Peter Parker)  ...           Aug-62  1962.0\n",
              "1     7139      Captain America (Steven Rogers)  ...           Mar-41  1941.0\n",
              "2    64786  Wolverine (James \\\"Logan\\\" Howlett)  ...           Oct-74  1974.0\n",
              "3     1868    Iron Man (Anthony \\\"Tony\\\" Stark)  ...           Mar-63  1963.0\n",
              "4     2460                  Thor (Thor Odinson)  ...           Nov-50  1950.0\n",
              "\n",
              "[5 rows x 13 columns]"
            ]
          },
          "metadata": {
            "tags": []
          },
          "execution_count": 37
        }
      ]
    },
    {
      "cell_type": "code",
      "metadata": {
        "id": "AAelfAc-izCi",
        "colab_type": "code",
        "outputId": "9c4f6055-a962-4462-abd2-a3ee036a0766",
        "colab": {
          "base_uri": "https://localhost:8080/",
          "height": 34
        }
      },
      "source": [
        "# Calculate total number of character counts\n",
        "x = len(df['name'])\n",
        "x\n",
        "#x = df['name'].count()\n",
        "#x"
      ],
      "execution_count": 38,
      "outputs": [
        {
          "output_type": "execute_result",
          "data": {
            "text/plain": [
              "16376"
            ]
          },
          "metadata": {
            "tags": []
          },
          "execution_count": 38
        }
      ]
    },
    {
      "cell_type": "code",
      "metadata": {
        "id": "zVBdIS6Zi6hC",
        "colab_type": "code",
        "outputId": "2d8e65a8-b937-481d-a377-52bad2e696bc",
        "colab": {
          "base_uri": "https://localhost:8080/",
          "height": 406
        }
      },
      "source": [
        "# Display columns SEX, EYE, HAIR\n",
        "marvel = df[['SEX','EYE','HAIR']]\n",
        "marvel"
      ],
      "execution_count": 39,
      "outputs": [
        {
          "output_type": "execute_result",
          "data": {
            "text/html": [
              "<div>\n",
              "<style scoped>\n",
              "    .dataframe tbody tr th:only-of-type {\n",
              "        vertical-align: middle;\n",
              "    }\n",
              "\n",
              "    .dataframe tbody tr th {\n",
              "        vertical-align: top;\n",
              "    }\n",
              "\n",
              "    .dataframe thead th {\n",
              "        text-align: right;\n",
              "    }\n",
              "</style>\n",
              "<table border=\"1\" class=\"dataframe\">\n",
              "  <thead>\n",
              "    <tr style=\"text-align: right;\">\n",
              "      <th></th>\n",
              "      <th>SEX</th>\n",
              "      <th>EYE</th>\n",
              "      <th>HAIR</th>\n",
              "    </tr>\n",
              "  </thead>\n",
              "  <tbody>\n",
              "    <tr>\n",
              "      <th>0</th>\n",
              "      <td>Male Characters</td>\n",
              "      <td>Hazel Eyes</td>\n",
              "      <td>Brown Hair</td>\n",
              "    </tr>\n",
              "    <tr>\n",
              "      <th>1</th>\n",
              "      <td>Male Characters</td>\n",
              "      <td>Blue Eyes</td>\n",
              "      <td>White Hair</td>\n",
              "    </tr>\n",
              "    <tr>\n",
              "      <th>2</th>\n",
              "      <td>Male Characters</td>\n",
              "      <td>Blue Eyes</td>\n",
              "      <td>Black Hair</td>\n",
              "    </tr>\n",
              "    <tr>\n",
              "      <th>3</th>\n",
              "      <td>Male Characters</td>\n",
              "      <td>Blue Eyes</td>\n",
              "      <td>Black Hair</td>\n",
              "    </tr>\n",
              "    <tr>\n",
              "      <th>4</th>\n",
              "      <td>Male Characters</td>\n",
              "      <td>Blue Eyes</td>\n",
              "      <td>Blond Hair</td>\n",
              "    </tr>\n",
              "    <tr>\n",
              "      <th>...</th>\n",
              "      <td>...</td>\n",
              "      <td>...</td>\n",
              "      <td>...</td>\n",
              "    </tr>\n",
              "    <tr>\n",
              "      <th>16371</th>\n",
              "      <td>Male Characters</td>\n",
              "      <td>Green Eyes</td>\n",
              "      <td>No Hair</td>\n",
              "    </tr>\n",
              "    <tr>\n",
              "      <th>16372</th>\n",
              "      <td>Male Characters</td>\n",
              "      <td>Blue Eyes</td>\n",
              "      <td>Bald</td>\n",
              "    </tr>\n",
              "    <tr>\n",
              "      <th>16373</th>\n",
              "      <td>Male Characters</td>\n",
              "      <td>Black Eyes</td>\n",
              "      <td>Bald</td>\n",
              "    </tr>\n",
              "    <tr>\n",
              "      <th>16374</th>\n",
              "      <td>Male Characters</td>\n",
              "      <td>NaN</td>\n",
              "      <td>NaN</td>\n",
              "    </tr>\n",
              "    <tr>\n",
              "      <th>16375</th>\n",
              "      <td>NaN</td>\n",
              "      <td>NaN</td>\n",
              "      <td>NaN</td>\n",
              "    </tr>\n",
              "  </tbody>\n",
              "</table>\n",
              "<p>16376 rows × 3 columns</p>\n",
              "</div>"
            ],
            "text/plain": [
              "                   SEX         EYE        HAIR\n",
              "0      Male Characters  Hazel Eyes  Brown Hair\n",
              "1      Male Characters   Blue Eyes  White Hair\n",
              "2      Male Characters   Blue Eyes  Black Hair\n",
              "3      Male Characters   Blue Eyes  Black Hair\n",
              "4      Male Characters   Blue Eyes  Blond Hair\n",
              "...                ...         ...         ...\n",
              "16371  Male Characters  Green Eyes     No Hair\n",
              "16372  Male Characters   Blue Eyes        Bald\n",
              "16373  Male Characters  Black Eyes        Bald\n",
              "16374  Male Characters         NaN         NaN\n",
              "16375              NaN         NaN         NaN\n",
              "\n",
              "[16376 rows x 3 columns]"
            ]
          },
          "metadata": {
            "tags": []
          },
          "execution_count": 39
        }
      ]
    },
    {
      "cell_type": "code",
      "metadata": {
        "id": "sMN3LIWDjP_y",
        "colab_type": "code",
        "outputId": "f0494bb2-5c69-4756-9e4c-2d05c0d692dc",
        "colab": {
          "base_uri": "https://localhost:8080/",
          "height": 123
        }
      },
      "source": [
        "# Calculate total number of characters according to gender\n",
        "char = df.groupby(['SEX']).count()['name']\n",
        "#print(char)\n",
        "char"
      ],
      "execution_count": 40,
      "outputs": [
        {
          "output_type": "execute_result",
          "data": {
            "text/plain": [
              "SEX\n",
              "Agender Characters           45\n",
              "Female Characters          3837\n",
              "Genderfluid Characters        2\n",
              "Male Characters           11638\n",
              "Name: name, dtype: int64"
            ]
          },
          "metadata": {
            "tags": []
          },
          "execution_count": 40
        }
      ]
    },
    {
      "cell_type": "markdown",
      "metadata": {
        "id": "ze051q6djinp",
        "colab_type": "text"
      },
      "source": [
        "# <B> Marginal Probability (Unconditional)</b> \n",
        "The probability of an event occuring p(A). It may be consider as an unconditional probability\n",
        "\n",
        "<b>example: the probability that a card drawn is 4 = 4/52 = 1/13</b>\n",
        "\n",
        "<img src=\"https://i.guim.co.uk/img/static/sys-images/Guardian/Pix/pictures/2013/12/3/1386076321394/4-cards-009.jpg?width=300&quality=85&auto=format&fit=max&s=61fe6ac2669bc19fb14cd0b845e9ad89\" width=\"450\" height=\"250\" >\n"
      ]
    },
    {
      "cell_type": "markdown",
      "metadata": {
        "id": "MDzahNeAnJnP",
        "colab_type": "text"
      },
      "source": [
        "#<b> Calculate the probability of a character being male</b>\n",
        "\n",
        "<img src=\"https://cdn0.iconfinder.com/data/icons/user-pictures/100/malecostume-512.png\" width=\"250\" height=\"250\" >\n"
      ]
    },
    {
      "cell_type": "code",
      "metadata": {
        "id": "YTjhKAJEnF9F",
        "colab_type": "code",
        "colab": {}
      },
      "source": [
        "z=char.reset_index()\n",
        "no_of=z[z['SEX']=='Male Characters']\n",
        "no_of_male=no_of['name']\n"
      ],
      "execution_count": 0,
      "outputs": []
    },
    {
      "cell_type": "code",
      "metadata": {
        "id": "7o_souQRkxSs",
        "colab_type": "code",
        "colab": {}
      },
      "source": [
        "#z = pd.read_csv(\"/content/marvel-wikia-data.csv\", index_col =\"SEX\") \n",
        "  \n",
        "# retrieving rows by loc method \n",
        "#rows = z.loc[[\"Male Characters\"]] \n",
        "#no_of_male=rows.count()['name']\n",
        "#no_of_male\n",
        "#p=z.reset_index()"
      ],
      "execution_count": 0,
      "outputs": []
    },
    {
      "cell_type": "code",
      "metadata": {
        "id": "4SAixgFTocRT",
        "colab_type": "code",
        "outputId": "5a82eeb3-b60d-4e7d-c706-cee0f7048619",
        "colab": {
          "base_uri": "https://localhost:8080/",
          "height": 52
        }
      },
      "source": [
        "probability_of_being_male=no_of_male/x\n",
        "probability_of_being_male"
      ],
      "execution_count": 43,
      "outputs": [
        {
          "output_type": "execute_result",
          "data": {
            "text/plain": [
              "3    0.710674\n",
              "Name: name, dtype: float64"
            ]
          },
          "metadata": {
            "tags": []
          },
          "execution_count": 43
        }
      ]
    },
    {
      "cell_type": "markdown",
      "metadata": {
        "id": "y7pjM4QepcHW",
        "colab_type": "text"
      },
      "source": [
        "# <b>Conditional Probability</b>\n",
        "p(A|B) is the probability of event A occurring, given that event B occurs\n",
        "\n",
        "<b>Example: Given that character is female, calculate the probability of having green eyes</b>\n",
        "\n",
        "<img src=\"https://thumbs.dreamstime.com/b/cartoon-girl-character-portrait-vector-avatar-blonde-happy-green-eyes-isolated-white-background-icon-143155889.jpg\" width=\"250\" height=\"250\" >\n",
        "\n"
      ]
    },
    {
      "cell_type": "code",
      "metadata": {
        "id": "KAfviuRoon60",
        "colab_type": "code",
        "colab": {}
      },
      "source": [
        "b=df.groupby(['SEX']).count()\n"
      ],
      "execution_count": 0,
      "outputs": []
    },
    {
      "cell_type": "code",
      "metadata": {
        "id": "UVW-xPLqqWBJ",
        "colab_type": "code",
        "outputId": "66f34bcb-1a20-4e0b-cf63-08d47f78aeaa",
        "colab": {
          "base_uri": "https://localhost:8080/",
          "height": 197
        }
      },
      "source": [
        "df.groupby(['SEX']).count()"
      ],
      "execution_count": 45,
      "outputs": [
        {
          "output_type": "execute_result",
          "data": {
            "text/html": [
              "<div>\n",
              "<style scoped>\n",
              "    .dataframe tbody tr th:only-of-type {\n",
              "        vertical-align: middle;\n",
              "    }\n",
              "\n",
              "    .dataframe tbody tr th {\n",
              "        vertical-align: top;\n",
              "    }\n",
              "\n",
              "    .dataframe thead th {\n",
              "        text-align: right;\n",
              "    }\n",
              "</style>\n",
              "<table border=\"1\" class=\"dataframe\">\n",
              "  <thead>\n",
              "    <tr style=\"text-align: right;\">\n",
              "      <th></th>\n",
              "      <th>page_id</th>\n",
              "      <th>name</th>\n",
              "      <th>urlslug</th>\n",
              "      <th>ID</th>\n",
              "      <th>ALIGN</th>\n",
              "      <th>EYE</th>\n",
              "      <th>HAIR</th>\n",
              "      <th>GSM</th>\n",
              "      <th>ALIVE</th>\n",
              "      <th>APPEARANCES</th>\n",
              "      <th>FIRST APPEARANCE</th>\n",
              "      <th>Year</th>\n",
              "    </tr>\n",
              "    <tr>\n",
              "      <th>SEX</th>\n",
              "      <th></th>\n",
              "      <th></th>\n",
              "      <th></th>\n",
              "      <th></th>\n",
              "      <th></th>\n",
              "      <th></th>\n",
              "      <th></th>\n",
              "      <th></th>\n",
              "      <th></th>\n",
              "      <th></th>\n",
              "      <th></th>\n",
              "      <th></th>\n",
              "    </tr>\n",
              "  </thead>\n",
              "  <tbody>\n",
              "    <tr>\n",
              "      <th>Agender Characters</th>\n",
              "      <td>45</td>\n",
              "      <td>45</td>\n",
              "      <td>45</td>\n",
              "      <td>31</td>\n",
              "      <td>43</td>\n",
              "      <td>33</td>\n",
              "      <td>38</td>\n",
              "      <td>0</td>\n",
              "      <td>45</td>\n",
              "      <td>42</td>\n",
              "      <td>36</td>\n",
              "      <td>36</td>\n",
              "    </tr>\n",
              "    <tr>\n",
              "      <th>Female Characters</th>\n",
              "      <td>3837</td>\n",
              "      <td>3837</td>\n",
              "      <td>3837</td>\n",
              "      <td>3047</td>\n",
              "      <td>3153</td>\n",
              "      <td>1928</td>\n",
              "      <td>3184</td>\n",
              "      <td>40</td>\n",
              "      <td>3837</td>\n",
              "      <td>3599</td>\n",
              "      <td>3628</td>\n",
              "      <td>3628</td>\n",
              "    </tr>\n",
              "    <tr>\n",
              "      <th>Genderfluid Characters</th>\n",
              "      <td>2</td>\n",
              "      <td>2</td>\n",
              "      <td>2</td>\n",
              "      <td>2</td>\n",
              "      <td>2</td>\n",
              "      <td>2</td>\n",
              "      <td>2</td>\n",
              "      <td>2</td>\n",
              "      <td>2</td>\n",
              "      <td>2</td>\n",
              "      <td>2</td>\n",
              "      <td>2</td>\n",
              "    </tr>\n",
              "    <tr>\n",
              "      <th>Male Characters</th>\n",
              "      <td>11638</td>\n",
              "      <td>11638</td>\n",
              "      <td>11638</td>\n",
              "      <td>9128</td>\n",
              "      <td>9744</td>\n",
              "      <td>4492</td>\n",
              "      <td>8580</td>\n",
              "      <td>48</td>\n",
              "      <td>11638</td>\n",
              "      <td>10899</td>\n",
              "      <td>11100</td>\n",
              "      <td>11100</td>\n",
              "    </tr>\n",
              "  </tbody>\n",
              "</table>\n",
              "</div>"
            ],
            "text/plain": [
              "                        page_id   name  ...  FIRST APPEARANCE   Year\n",
              "SEX                                     ...                         \n",
              "Agender Characters           45     45  ...                36     36\n",
              "Female Characters          3837   3837  ...              3628   3628\n",
              "Genderfluid Characters        2      2  ...                 2      2\n",
              "Male Characters           11638  11638  ...             11100  11100\n",
              "\n",
              "[4 rows x 12 columns]"
            ]
          },
          "metadata": {
            "tags": []
          },
          "execution_count": 45
        }
      ]
    },
    {
      "cell_type": "code",
      "metadata": {
        "id": "_Zt7gJqBqjuU",
        "colab_type": "code",
        "outputId": "1a624244-24f9-48fa-b1f6-61cc634965a8",
        "colab": {
          "base_uri": "https://localhost:8080/",
          "height": 90
        }
      },
      "source": [
        "green_eyes = df[df =='Green Eyes'].EYE.count()\n",
        "green_eyes"
      ],
      "execution_count": 46,
      "outputs": [
        {
          "output_type": "stream",
          "text": [
            "/usr/local/lib/python3.6/dist-packages/pandas/core/ops/__init__.py:1115: FutureWarning: elementwise comparison failed; returning scalar instead, but in the future will perform elementwise comparison\n",
            "  result = method(y)\n"
          ],
          "name": "stderr"
        },
        {
          "output_type": "execute_result",
          "data": {
            "text/plain": [
              "613"
            ]
          },
          "metadata": {
            "tags": []
          },
          "execution_count": 46
        }
      ]
    },
    {
      "cell_type": "code",
      "metadata": {
        "id": "RCh_hNIvsVbG",
        "colab_type": "code",
        "outputId": "3ad77f20-5c2a-41ad-f91a-db5cc30e4475",
        "colab": {
          "base_uri": "https://localhost:8080/",
          "height": 107
        }
      },
      "source": [
        "female=df[df=='Female Characters'].SEX.count()\n",
        "print('female in the dataset',female)\n",
        "probability_of_female=female/x\n",
        "print('probability of female',probability_of_female)"
      ],
      "execution_count": 47,
      "outputs": [
        {
          "output_type": "stream",
          "text": [
            "female in the dataset 3837\n",
            "probability of female 0.23430630190522717\n"
          ],
          "name": "stdout"
        },
        {
          "output_type": "stream",
          "text": [
            "/usr/local/lib/python3.6/dist-packages/pandas/core/ops/__init__.py:1115: FutureWarning: elementwise comparison failed; returning scalar instead, but in the future will perform elementwise comparison\n",
            "  result = method(y)\n"
          ],
          "name": "stderr"
        }
      ]
    },
    {
      "cell_type": "code",
      "metadata": {
        "id": "iQEJHwaUtAvx",
        "colab_type": "code",
        "outputId": "08baece2-7be1-4cc4-c047-99406dd8c034",
        "colab": {
          "base_uri": "https://localhost:8080/",
          "height": 34
        }
      },
      "source": [
        "# Calculate count of female characters with green eyes\n",
        "female_green_count = df[(df.SEX=='Female Characters') & (df.EYE=='Green Eyes')].SEX.count()\n",
        "print('female with green eye:',female_green_count)"
      ],
      "execution_count": 48,
      "outputs": [
        {
          "output_type": "stream",
          "text": [
            "female with green eye: 268\n"
          ],
          "name": "stdout"
        }
      ]
    },
    {
      "cell_type": "code",
      "metadata": {
        "id": "qr3Jw4xLskWm",
        "colab_type": "code",
        "outputId": "78bb8ec8-db85-4cf8-b546-d903120bf635",
        "colab": {
          "base_uri": "https://localhost:8080/",
          "height": 34
        }
      },
      "source": [
        "probability_of_green_eye_as_a_female=female_green_count/x\n",
        "probability_of_green_eye_as_a_female"
      ],
      "execution_count": 49,
      "outputs": [
        {
          "output_type": "execute_result",
          "data": {
            "text/plain": [
              "0.016365412799218368"
            ]
          },
          "metadata": {
            "tags": []
          },
          "execution_count": 49
        }
      ]
    },
    {
      "cell_type": "code",
      "metadata": {
        "id": "zgP5Z2ftsv1c",
        "colab_type": "code",
        "outputId": "9af2341c-c9a8-4c58-d615-10a0a41f2137",
        "colab": {
          "base_uri": "https://localhost:8080/",
          "height": 34
        }
      },
      "source": [
        "# Calculate conditional probability of female with green eyes\n",
        "probability_of_green_eye_as_a_female/probability_of_female"
      ],
      "execution_count": 50,
      "outputs": [
        {
          "output_type": "execute_result",
          "data": {
            "text/plain": [
              "0.06984623403700807"
            ]
          },
          "metadata": {
            "tags": []
          },
          "execution_count": 50
        }
      ]
    },
    {
      "cell_type": "code",
      "metadata": {
        "id": "nA45_SF8rFD9",
        "colab_type": "code",
        "colab": {}
      },
      "source": [
        "#probability that a character has blue eyes provided that he is a Male\n",
        "w=df[df['SEX']=='Male Characters']\n",
        "#male_count=w.count()['name']\n",
        "#probability_of_being_male\n",
        "#male and blue eyes probability\n",
        "#male_with_blue_eyes=w[w[\"EYE\"]=='Blue Eyes'] \n",
        "#male_with_blue_eyes.count()['name']/x\n"
      ],
      "execution_count": 0,
      "outputs": []
    },
    {
      "cell_type": "code",
      "metadata": {
        "id": "uoASvsjorezT",
        "colab_type": "code",
        "outputId": "c2800c55-5178-4cd4-f99c-6bc3957de0c1",
        "colab": {
          "base_uri": "https://localhost:8080/",
          "height": 590
        }
      },
      "source": [
        "male=df[df['SEX']=='Male Charactes']\n",
        "df"
      ],
      "execution_count": 52,
      "outputs": [
        {
          "output_type": "execute_result",
          "data": {
            "text/html": [
              "<div>\n",
              "<style scoped>\n",
              "    .dataframe tbody tr th:only-of-type {\n",
              "        vertical-align: middle;\n",
              "    }\n",
              "\n",
              "    .dataframe tbody tr th {\n",
              "        vertical-align: top;\n",
              "    }\n",
              "\n",
              "    .dataframe thead th {\n",
              "        text-align: right;\n",
              "    }\n",
              "</style>\n",
              "<table border=\"1\" class=\"dataframe\">\n",
              "  <thead>\n",
              "    <tr style=\"text-align: right;\">\n",
              "      <th></th>\n",
              "      <th>page_id</th>\n",
              "      <th>name</th>\n",
              "      <th>urlslug</th>\n",
              "      <th>ID</th>\n",
              "      <th>ALIGN</th>\n",
              "      <th>EYE</th>\n",
              "      <th>HAIR</th>\n",
              "      <th>SEX</th>\n",
              "      <th>GSM</th>\n",
              "      <th>ALIVE</th>\n",
              "      <th>APPEARANCES</th>\n",
              "      <th>FIRST APPEARANCE</th>\n",
              "      <th>Year</th>\n",
              "    </tr>\n",
              "  </thead>\n",
              "  <tbody>\n",
              "    <tr>\n",
              "      <th>0</th>\n",
              "      <td>1678</td>\n",
              "      <td>Spider-Man (Peter Parker)</td>\n",
              "      <td>\\/Spider-Man_(Peter_Parker)</td>\n",
              "      <td>Secret Identity</td>\n",
              "      <td>Good Characters</td>\n",
              "      <td>Hazel Eyes</td>\n",
              "      <td>Brown Hair</td>\n",
              "      <td>Male Characters</td>\n",
              "      <td>NaN</td>\n",
              "      <td>Living Characters</td>\n",
              "      <td>4043.0</td>\n",
              "      <td>Aug-62</td>\n",
              "      <td>1962.0</td>\n",
              "    </tr>\n",
              "    <tr>\n",
              "      <th>1</th>\n",
              "      <td>7139</td>\n",
              "      <td>Captain America (Steven Rogers)</td>\n",
              "      <td>\\/Captain_America_(Steven_Rogers)</td>\n",
              "      <td>Public Identity</td>\n",
              "      <td>Good Characters</td>\n",
              "      <td>Blue Eyes</td>\n",
              "      <td>White Hair</td>\n",
              "      <td>Male Characters</td>\n",
              "      <td>NaN</td>\n",
              "      <td>Living Characters</td>\n",
              "      <td>3360.0</td>\n",
              "      <td>Mar-41</td>\n",
              "      <td>1941.0</td>\n",
              "    </tr>\n",
              "    <tr>\n",
              "      <th>2</th>\n",
              "      <td>64786</td>\n",
              "      <td>Wolverine (James \\\"Logan\\\" Howlett)</td>\n",
              "      <td>\\/Wolverine_(James_%22Logan%22_Howlett)</td>\n",
              "      <td>Public Identity</td>\n",
              "      <td>Neutral Characters</td>\n",
              "      <td>Blue Eyes</td>\n",
              "      <td>Black Hair</td>\n",
              "      <td>Male Characters</td>\n",
              "      <td>NaN</td>\n",
              "      <td>Living Characters</td>\n",
              "      <td>3061.0</td>\n",
              "      <td>Oct-74</td>\n",
              "      <td>1974.0</td>\n",
              "    </tr>\n",
              "    <tr>\n",
              "      <th>3</th>\n",
              "      <td>1868</td>\n",
              "      <td>Iron Man (Anthony \\\"Tony\\\" Stark)</td>\n",
              "      <td>\\/Iron_Man_(Anthony_%22Tony%22_Stark)</td>\n",
              "      <td>Public Identity</td>\n",
              "      <td>Good Characters</td>\n",
              "      <td>Blue Eyes</td>\n",
              "      <td>Black Hair</td>\n",
              "      <td>Male Characters</td>\n",
              "      <td>NaN</td>\n",
              "      <td>Living Characters</td>\n",
              "      <td>2961.0</td>\n",
              "      <td>Mar-63</td>\n",
              "      <td>1963.0</td>\n",
              "    </tr>\n",
              "    <tr>\n",
              "      <th>4</th>\n",
              "      <td>2460</td>\n",
              "      <td>Thor (Thor Odinson)</td>\n",
              "      <td>\\/Thor_(Thor_Odinson)</td>\n",
              "      <td>No Dual Identity</td>\n",
              "      <td>Good Characters</td>\n",
              "      <td>Blue Eyes</td>\n",
              "      <td>Blond Hair</td>\n",
              "      <td>Male Characters</td>\n",
              "      <td>NaN</td>\n",
              "      <td>Living Characters</td>\n",
              "      <td>2258.0</td>\n",
              "      <td>Nov-50</td>\n",
              "      <td>1950.0</td>\n",
              "    </tr>\n",
              "    <tr>\n",
              "      <th>...</th>\n",
              "      <td>...</td>\n",
              "      <td>...</td>\n",
              "      <td>...</td>\n",
              "      <td>...</td>\n",
              "      <td>...</td>\n",
              "      <td>...</td>\n",
              "      <td>...</td>\n",
              "      <td>...</td>\n",
              "      <td>...</td>\n",
              "      <td>...</td>\n",
              "      <td>...</td>\n",
              "      <td>...</td>\n",
              "      <td>...</td>\n",
              "    </tr>\n",
              "    <tr>\n",
              "      <th>16371</th>\n",
              "      <td>657508</td>\n",
              "      <td>Ru'ach (Earth-616)</td>\n",
              "      <td>\\/Ru%27ach_(Earth-616)</td>\n",
              "      <td>No Dual Identity</td>\n",
              "      <td>Bad Characters</td>\n",
              "      <td>Green Eyes</td>\n",
              "      <td>No Hair</td>\n",
              "      <td>Male Characters</td>\n",
              "      <td>NaN</td>\n",
              "      <td>Living Characters</td>\n",
              "      <td>NaN</td>\n",
              "      <td>NaN</td>\n",
              "      <td>NaN</td>\n",
              "    </tr>\n",
              "    <tr>\n",
              "      <th>16372</th>\n",
              "      <td>665474</td>\n",
              "      <td>Thane (Thanos' son) (Earth-616)</td>\n",
              "      <td>\\/Thane_(Thanos%27_son)_(Earth-616)</td>\n",
              "      <td>No Dual Identity</td>\n",
              "      <td>Good Characters</td>\n",
              "      <td>Blue Eyes</td>\n",
              "      <td>Bald</td>\n",
              "      <td>Male Characters</td>\n",
              "      <td>NaN</td>\n",
              "      <td>Living Characters</td>\n",
              "      <td>NaN</td>\n",
              "      <td>NaN</td>\n",
              "      <td>NaN</td>\n",
              "    </tr>\n",
              "    <tr>\n",
              "      <th>16373</th>\n",
              "      <td>695217</td>\n",
              "      <td>Tinkerer (Skrull) (Earth-616)</td>\n",
              "      <td>\\/Tinkerer_(Skrull)_(Earth-616)</td>\n",
              "      <td>Secret Identity</td>\n",
              "      <td>Bad Characters</td>\n",
              "      <td>Black Eyes</td>\n",
              "      <td>Bald</td>\n",
              "      <td>Male Characters</td>\n",
              "      <td>NaN</td>\n",
              "      <td>Living Characters</td>\n",
              "      <td>NaN</td>\n",
              "      <td>NaN</td>\n",
              "      <td>NaN</td>\n",
              "    </tr>\n",
              "    <tr>\n",
              "      <th>16374</th>\n",
              "      <td>708811</td>\n",
              "      <td>TK421 (Spiderling) (Earth-616)</td>\n",
              "      <td>\\/TK421_(Spiderling)_(Earth-616)</td>\n",
              "      <td>Secret Identity</td>\n",
              "      <td>Neutral Characters</td>\n",
              "      <td>NaN</td>\n",
              "      <td>NaN</td>\n",
              "      <td>Male Characters</td>\n",
              "      <td>NaN</td>\n",
              "      <td>Living Characters</td>\n",
              "      <td>NaN</td>\n",
              "      <td>NaN</td>\n",
              "      <td>NaN</td>\n",
              "    </tr>\n",
              "    <tr>\n",
              "      <th>16375</th>\n",
              "      <td>673702</td>\n",
              "      <td>Yologarch (Earth-616)</td>\n",
              "      <td>\\/Yologarch_(Earth-616)</td>\n",
              "      <td>NaN</td>\n",
              "      <td>Bad Characters</td>\n",
              "      <td>NaN</td>\n",
              "      <td>NaN</td>\n",
              "      <td>NaN</td>\n",
              "      <td>NaN</td>\n",
              "      <td>Living Characters</td>\n",
              "      <td>NaN</td>\n",
              "      <td>NaN</td>\n",
              "      <td>NaN</td>\n",
              "    </tr>\n",
              "  </tbody>\n",
              "</table>\n",
              "<p>16376 rows × 13 columns</p>\n",
              "</div>"
            ],
            "text/plain": [
              "       page_id                                 name  ... FIRST APPEARANCE    Year\n",
              "0         1678            Spider-Man (Peter Parker)  ...           Aug-62  1962.0\n",
              "1         7139      Captain America (Steven Rogers)  ...           Mar-41  1941.0\n",
              "2        64786  Wolverine (James \\\"Logan\\\" Howlett)  ...           Oct-74  1974.0\n",
              "3         1868    Iron Man (Anthony \\\"Tony\\\" Stark)  ...           Mar-63  1963.0\n",
              "4         2460                  Thor (Thor Odinson)  ...           Nov-50  1950.0\n",
              "...        ...                                  ...  ...              ...     ...\n",
              "16371   657508                   Ru'ach (Earth-616)  ...              NaN     NaN\n",
              "16372   665474      Thane (Thanos' son) (Earth-616)  ...              NaN     NaN\n",
              "16373   695217        Tinkerer (Skrull) (Earth-616)  ...              NaN     NaN\n",
              "16374   708811       TK421 (Spiderling) (Earth-616)  ...              NaN     NaN\n",
              "16375   673702                Yologarch (Earth-616)  ...              NaN     NaN\n",
              "\n",
              "[16376 rows x 13 columns]"
            ]
          },
          "metadata": {
            "tags": []
          },
          "execution_count": 52
        }
      ]
    },
    {
      "cell_type": "code",
      "metadata": {
        "id": "EFQFe2pAq4kM",
        "colab_type": "code",
        "outputId": "d7d420af-54e6-41b9-d049-fee0b58fa3da",
        "colab": {
          "base_uri": "https://localhost:8080/",
          "height": 34
        }
      },
      "source": [
        "#probability that a character has blue eyes provided that he is a Male\n",
        "All_Blue_Eyes=df[df.EYE=='Blue Eyes']\n",
        "\n",
        "probability_blue_eye_male=len(All_Blue_Eyes[All_Blue_Eyes.SEX=='Male Characters'])/w.count()['name']\n",
        "print('The probability that a character has blue eyes provided that he is a Male:',round(probability_blue_eye_male,2))"
      ],
      "execution_count": 53,
      "outputs": [
        {
          "output_type": "stream",
          "text": [
            "The probability that a character has blue eyes provided that he is a Male: 0.11\n"
          ],
          "name": "stdout"
        }
      ]
    },
    {
      "cell_type": "code",
      "metadata": {
        "id": "t_4FQm7jvtEL",
        "colab_type": "code",
        "colab": {}
      },
      "source": [
        "female=df[df['SEX']=='Female Characters']\n",
        "only_female=female.count()['name']"
      ],
      "execution_count": 0,
      "outputs": []
    },
    {
      "cell_type": "code",
      "metadata": {
        "id": "okyxBVfguy_M",
        "colab_type": "code",
        "outputId": "1fa1651c-1563-4291-b17c-ee8466c859b0",
        "colab": {
          "base_uri": "https://localhost:8080/",
          "height": 34
        }
      },
      "source": [
        "#probability that a character has blue eyes provided that she is Female\n",
        "All_Blue_Eyes_female=df[df.EYE=='Blue Eyes']\n",
        "\n",
        "probability_blue_eye_female=len(All_Blue_Eyes_female[All_Blue_Eyes_female.SEX=='Female Characters'])/(only_female)\n",
        "\n",
        "print('The probability that a character has blue eyes provided that she is a Female:',round(probability_blue_eye_female,2))"
      ],
      "execution_count": 55,
      "outputs": [
        {
          "output_type": "stream",
          "text": [
            "The probability that a character has blue eyes provided that she is a Female: 0.18\n"
          ],
          "name": "stdout"
        }
      ]
    },
    {
      "cell_type": "markdown",
      "metadata": {
        "id": "fiYuLklTh1s-",
        "colab_type": "text"
      },
      "source": [
        "#<b>Probability Distribution</b>\n",
        "<img src=\"https://images-na.ssl-images-amazon.com/images/I/61b-7%2BcowML._SY355_.png\" width=\"250\" height=\"250\" > \n",
        "\n",
        "\n",
        "<img src=\"https://previews.123rf.com/images/ontsunan/ontsunan1908/ontsunan190800021/128509597-business-report-financial-management-teamwork-statistics-pie-chart-create-idea-to-success-vector-ill.jpg\" width=\"350\" height=\"250\" > \n",
        "\n",
        "Probability distribution is used to describe random variable<br>\n",
        "<b>A probability distribution is a list of all of the possible outcomes of a random variable along with their corresponding probability values.</b>\n",
        "\n",
        "<b>Discrete: </b><br>\n",
        "This means that if I pick any two consecutive outcomes. I can’t get an outcome that’s in between.\n",
        "\n",
        "example:  if we consider 1 and 2 as outcomes of rolling a six-sided die, then I can’t have an outcome in between that (e.g. I can have an outcome of 1.5)\n",
        "\n",
        "<b>Univariate </b> <br>\n",
        " Means that we only have one (random) variable. In this case, we only have the outcome of the die roll. In contrast, if we have more than one variable then we say that we have a multivariate distribution. In the specific case where we have 2 variables, we often say that it’s a bivariate distribution\n",
        "\n",
        "<b> Finite support:</b><br>\n",
        "This means that there is a limited number of outcomes. The support is essentially the outcomes for which the probability distribution is defined. So the support in our example is. 1, 2, 3, 4, 5 and 6. And since this is not an infinite number of values, it means that the support is finite."
      ]
    },
    {
      "cell_type": "markdown",
      "metadata": {
        "id": "g4afkq4A76qi",
        "colab_type": "text"
      },
      "source": [
        "#<b> Generate random number with seed \n",
        "<img src=\"https://www.netclipart.com/pp/m/93-935905_random-numbers-cloud-3-no-background-random-numbers.png\" width=\"250\" height=\"250\" > \n",
        "\n",
        "\n",
        "<b>SEED:</b><br> \n",
        "It initializes the pseudorandom number generator\n",
        "\n"
      ]
    },
    {
      "cell_type": "code",
      "metadata": {
        "id": "iPsG1xEG9FP0",
        "colab_type": "code",
        "outputId": "c5b9eff3-085a-4afc-cbfd-5ec07bfb785f",
        "colab": {
          "base_uri": "https://localhost:8080/",
          "height": 34
        }
      },
      "source": [
        "from random import seed\n",
        "from random import random\n",
        "seed(1)\n",
        "random_nums = [random(), random()]\n",
        "print(random_nums)"
      ],
      "execution_count": 56,
      "outputs": [
        {
          "output_type": "stream",
          "text": [
            "[0.13436424411240122, 0.8474337369372327]\n"
          ],
          "name": "stdout"
        }
      ]
    },
    {
      "cell_type": "code",
      "metadata": {
        "id": "R883bcQ09ITb",
        "colab_type": "code",
        "outputId": "e64ea2b5-b676-4b8e-e8c0-85e0bffb10b3",
        "colab": {
          "base_uri": "https://localhost:8080/",
          "height": 34
        }
      },
      "source": [
        "seed(1)\n",
        "print(random(), random())"
      ],
      "execution_count": 57,
      "outputs": [
        {
          "output_type": "stream",
          "text": [
            "0.13436424411240122 0.8474337369372327\n"
          ],
          "name": "stdout"
        }
      ]
    },
    {
      "cell_type": "markdown",
      "metadata": {
        "id": "VhAD3ALA9LRQ",
        "colab_type": "text"
      },
      "source": [
        "# Generate random integer value between 40 and 60"
      ]
    },
    {
      "cell_type": "code",
      "metadata": {
        "id": "JOPsSiVk9OXk",
        "colab_type": "code",
        "outputId": "11124399-7dde-4492-8b88-1280a450e31c",
        "colab": {
          "base_uri": "https://localhost:8080/",
          "height": 34
        }
      },
      "source": [
        "from random import randint\n",
        "seed(1)\n",
        "[randint(40,60) for _ in range(4)]"
      ],
      "execution_count": 58,
      "outputs": [
        {
          "output_type": "execute_result",
          "data": {
            "text/plain": [
              "[44, 58, 42, 48]"
            ]
          },
          "metadata": {
            "tags": []
          },
          "execution_count": 58
        }
      ]
    },
    {
      "cell_type": "markdown",
      "metadata": {
        "id": "jqRmZmKu9akN",
        "colab_type": "text"
      },
      "source": [
        "# Probability Distribution Functions"
      ]
    },
    {
      "cell_type": "code",
      "metadata": {
        "id": "4MdcX1DM9dqW",
        "colab_type": "code",
        "colab": {}
      },
      "source": [
        "# for inline plots\n",
        "%matplotlib inline\n",
        "import matplotlib.pyplot as plt\n",
        "\n",
        "# import seaborn\n",
        "import seaborn as sns\n",
        "# settings for seaborn plot sizes\n",
        "sns.set(rc={'figure.figsize':(4.5,3)})"
      ],
      "execution_count": 0,
      "outputs": []
    },
    {
      "cell_type": "markdown",
      "metadata": {
        "id": "Wmh9ux2M9pCO",
        "colab_type": "text"
      },
      "source": [
        "#<b> Generate random numbers following Bernoulli distribution</b>\n",
        "This distribution applies when an experiment or random variable has only two possible outcomes, namely “success” or “failure[link text](https://)\n"
      ]
    },
    {
      "cell_type": "code",
      "metadata": {
        "id": "KNrIbnSn9kUU",
        "colab_type": "code",
        "outputId": "574402e8-daae-4b4b-a796-a936edbf5d80",
        "colab": {
          "base_uri": "https://localhost:8080/",
          "height": 250
        }
      },
      "source": [
        "from scipy.stats import bernoulli\n",
        "\n",
        "# generate bernoulli\n",
        "data_bern = bernoulli.rvs(size=10000,p=0.3)\n",
        "ax= sns.distplot(data_bern)\n",
        "ax.set(xlabel='Bernoulli', ylabel='Frequency')"
      ],
      "execution_count": 60,
      "outputs": [
        {
          "output_type": "execute_result",
          "data": {
            "text/plain": [
              "[Text(0, 0.5, 'Frequency'), Text(0.5, 0, 'Bernoulli')]"
            ]
          },
          "metadata": {
            "tags": []
          },
          "execution_count": 60
        },
        {
          "output_type": "display_data",
          "data": {
            "image/png": "[encoded data removed]",
            "text/plain": [
              "<Figure size 324x216 with 1 Axes>"
            ]
          },
          "metadata": {
            "tags": []
          }
        }
      ]
    },
    {
      "cell_type": "markdown",
      "metadata": {
        "id": "8Ph2Zwjw-MY5",
        "colab_type": "text"
      },
      "source": [
        "#<b> Generate random numbers following Binomial distribution</b>\n",
        "\n",
        "This distribution applies when N independent Bernoulli trials are carried out each with the same probability p of success\n"
      ]
    },
    {
      "cell_type": "code",
      "metadata": {
        "id": "9t-xaNBZ-JcI",
        "colab_type": "code",
        "outputId": "73dc375b-763c-4074-c7b4-b5b40efc4a0d",
        "colab": {
          "base_uri": "https://localhost:8080/",
          "height": 247
        }
      },
      "source": [
        "from scipy.stats import binom\n",
        "\n",
        "data_binom = binom.rvs(n=10,p=0.5,size=10000)\n",
        "ax = sns.distplot(data_binom)\n",
        "ax.set(xlabel='Binomial', ylabel='Frequency')"
      ],
      "execution_count": 61,
      "outputs": [
        {
          "output_type": "execute_result",
          "data": {
            "text/plain": [
              "[Text(0, 0.5, 'Frequency'), Text(0.5, 0, 'Binomial')]"
            ]
          },
          "metadata": {
            "tags": []
          },
          "execution_count": 61
        },
        {
          "output_type": "display_data",
          "data": {
            "image/png": "[encoded data removed]",
            "text/plain": [
              "<Figure size 324x216 with 1 Axes>"
            ]
          },
          "metadata": {
            "tags": []
          }
        }
      ]
    },
    {
      "cell_type": "markdown",
      "metadata": {
        "id": "xaSC9f0u-mgB",
        "colab_type": "text"
      },
      "source": [
        "# Generate random numbers following Geometric distribution"
      ]
    },
    {
      "cell_type": "code",
      "metadata": {
        "id": "NoiXFs8E-qKq",
        "colab_type": "code",
        "outputId": "a38f118d-b3bb-436e-f06e-c08a18851729",
        "colab": {
          "base_uri": "https://localhost:8080/",
          "height": 247
        }
      },
      "source": [
        "from scipy.stats import geom\n",
        "data_geom = geom.rvs(p=0.5,size=10000)\n",
        "ax = sns.distplot(data_geom)\n",
        "ax.set(xlabel='Geometric', ylabel='Frequency')"
      ],
      "execution_count": 62,
      "outputs": [
        {
          "output_type": "execute_result",
          "data": {
            "text/plain": [
              "[Text(0, 0.5, 'Frequency'), Text(0.5, 0, 'Geometric')]"
            ]
          },
          "metadata": {
            "tags": []
          },
          "execution_count": 62
        },
        {
          "output_type": "display_data",
          "data": {
            "image/png": "[encoded data removed]",
            "text/plain": [
              "<Figure size 324x216 with 1 Axes>"
            ]
          },
          "metadata": {
            "tags": []
          }
        }
      ]
    },
    {
      "cell_type": "markdown",
      "metadata": {
        "id": "hAIlTRSe7xNw",
        "colab_type": "text"
      },
      "source": [
        "#<b> Use case: Using IPL league data\n",
        "![alt text](http://www.teluguone.com/teluguoneUserFiles/Indian%20IPL(1).png)"
      ]
    },
    {
      "cell_type": "code",
      "metadata": {
        "id": "P7qm021U7xuG",
        "colab_type": "code",
        "outputId": "bc5f7f6a-7bbd-45dc-97c8-b657ab5f35f5",
        "colab": {
          "base_uri": "https://localhost:8080/",
          "height": 434
        }
      },
      "source": [
        "# Import required libraries\n",
        "\n",
        "import pandas as pd\n",
        "import numpy as np\n",
        "from matplotlib import pyplot\n",
        "from scipy import stats\n",
        "\n",
        "# Read the input file into a Dataframe\n",
        "df=pd.read_csv(\"/content/matches.csv\")\n",
        "\n",
        "# Display the first five rows of the Dataframe\n",
        "df.head()"
      ],
      "execution_count": 63,
      "outputs": [
        {
          "output_type": "execute_result",
          "data": {
            "text/html": [
              "<div>\n",
              "<style scoped>\n",
              "    .dataframe tbody tr th:only-of-type {\n",
              "        vertical-align: middle;\n",
              "    }\n",
              "\n",
              "    .dataframe tbody tr th {\n",
              "        vertical-align: top;\n",
              "    }\n",
              "\n",
              "    .dataframe thead th {\n",
              "        text-align: right;\n",
              "    }\n",
              "</style>\n",
              "<table border=\"1\" class=\"dataframe\">\n",
              "  <thead>\n",
              "    <tr style=\"text-align: right;\">\n",
              "      <th></th>\n",
              "      <th>id</th>\n",
              "      <th>season</th>\n",
              "      <th>city</th>\n",
              "      <th>date</th>\n",
              "      <th>team1</th>\n",
              "      <th>team2</th>\n",
              "      <th>toss_winner</th>\n",
              "      <th>toss_decision</th>\n",
              "      <th>result</th>\n",
              "      <th>dl_applied</th>\n",
              "      <th>winner</th>\n",
              "      <th>win_by_runs</th>\n",
              "      <th>win_by_wickets</th>\n",
              "      <th>player_of_match</th>\n",
              "      <th>venue</th>\n",
              "      <th>umpire1</th>\n",
              "      <th>umpire2</th>\n",
              "      <th>umpire3</th>\n",
              "    </tr>\n",
              "  </thead>\n",
              "  <tbody>\n",
              "    <tr>\n",
              "      <th>0</th>\n",
              "      <td>1</td>\n",
              "      <td>2017</td>\n",
              "      <td>Hyderabad</td>\n",
              "      <td>2017-04-05</td>\n",
              "      <td>Sunrisers Hyderabad</td>\n",
              "      <td>Royal Challengers Bangalore</td>\n",
              "      <td>Royal Challengers Bangalore</td>\n",
              "      <td>field</td>\n",
              "      <td>normal</td>\n",
              "      <td>0</td>\n",
              "      <td>Sunrisers Hyderabad</td>\n",
              "      <td>35</td>\n",
              "      <td>0</td>\n",
              "      <td>Yuvraj Singh</td>\n",
              "      <td>Rajiv Gandhi International Stadium, Uppal</td>\n",
              "      <td>AY Dandekar</td>\n",
              "      <td>NJ Llong</td>\n",
              "      <td>NaN</td>\n",
              "    </tr>\n",
              "    <tr>\n",
              "      <th>1</th>\n",
              "      <td>2</td>\n",
              "      <td>2017</td>\n",
              "      <td>Pune</td>\n",
              "      <td>2017-04-06</td>\n",
              "      <td>Mumbai Indians</td>\n",
              "      <td>Rising Pune Supergiant</td>\n",
              "      <td>Rising Pune Supergiant</td>\n",
              "      <td>field</td>\n",
              "      <td>normal</td>\n",
              "      <td>0</td>\n",
              "      <td>Rising Pune Supergiant</td>\n",
              "      <td>0</td>\n",
              "      <td>7</td>\n",
              "      <td>SPD Smith</td>\n",
              "      <td>Maharashtra Cricket Association Stadium</td>\n",
              "      <td>A Nand Kishore</td>\n",
              "      <td>S Ravi</td>\n",
              "      <td>NaN</td>\n",
              "    </tr>\n",
              "    <tr>\n",
              "      <th>2</th>\n",
              "      <td>3</td>\n",
              "      <td>2017</td>\n",
              "      <td>Rajkot</td>\n",
              "      <td>2017-04-07</td>\n",
              "      <td>Gujarat Lions</td>\n",
              "      <td>Kolkata Knight Riders</td>\n",
              "      <td>Kolkata Knight Riders</td>\n",
              "      <td>field</td>\n",
              "      <td>normal</td>\n",
              "      <td>0</td>\n",
              "      <td>Kolkata Knight Riders</td>\n",
              "      <td>0</td>\n",
              "      <td>10</td>\n",
              "      <td>CA Lynn</td>\n",
              "      <td>Saurashtra Cricket Association Stadium</td>\n",
              "      <td>Nitin Menon</td>\n",
              "      <td>CK Nandan</td>\n",
              "      <td>NaN</td>\n",
              "    </tr>\n",
              "    <tr>\n",
              "      <th>3</th>\n",
              "      <td>4</td>\n",
              "      <td>2017</td>\n",
              "      <td>Indore</td>\n",
              "      <td>2017-04-08</td>\n",
              "      <td>Rising Pune Supergiant</td>\n",
              "      <td>Kings XI Punjab</td>\n",
              "      <td>Kings XI Punjab</td>\n",
              "      <td>field</td>\n",
              "      <td>normal</td>\n",
              "      <td>0</td>\n",
              "      <td>Kings XI Punjab</td>\n",
              "      <td>0</td>\n",
              "      <td>6</td>\n",
              "      <td>GJ Maxwell</td>\n",
              "      <td>Holkar Cricket Stadium</td>\n",
              "      <td>AK Chaudhary</td>\n",
              "      <td>C Shamshuddin</td>\n",
              "      <td>NaN</td>\n",
              "    </tr>\n",
              "    <tr>\n",
              "      <th>4</th>\n",
              "      <td>5</td>\n",
              "      <td>2017</td>\n",
              "      <td>Bangalore</td>\n",
              "      <td>2017-04-08</td>\n",
              "      <td>Royal Challengers Bangalore</td>\n",
              "      <td>Delhi Daredevils</td>\n",
              "      <td>Royal Challengers Bangalore</td>\n",
              "      <td>bat</td>\n",
              "      <td>normal</td>\n",
              "      <td>0</td>\n",
              "      <td>Royal Challengers Bangalore</td>\n",
              "      <td>15</td>\n",
              "      <td>0</td>\n",
              "      <td>KM Jadhav</td>\n",
              "      <td>M Chinnaswamy Stadium</td>\n",
              "      <td>NaN</td>\n",
              "      <td>NaN</td>\n",
              "      <td>NaN</td>\n",
              "    </tr>\n",
              "  </tbody>\n",
              "</table>\n",
              "</div>"
            ],
            "text/plain": [
              "   id  season       city  ...         umpire1        umpire2 umpire3\n",
              "0   1    2017  Hyderabad  ...     AY Dandekar       NJ Llong     NaN\n",
              "1   2    2017       Pune  ...  A Nand Kishore         S Ravi     NaN\n",
              "2   3    2017     Rajkot  ...     Nitin Menon      CK Nandan     NaN\n",
              "3   4    2017     Indore  ...    AK Chaudhary  C Shamshuddin     NaN\n",
              "4   5    2017  Bangalore  ...             NaN            NaN     NaN\n",
              "\n",
              "[5 rows x 18 columns]"
            ]
          },
          "metadata": {
            "tags": []
          },
          "execution_count": 63
        }
      ]
    },
    {
      "cell_type": "code",
      "metadata": {
        "id": "PqehLgCp727w",
        "colab_type": "code",
        "outputId": "719e4ca0-ceb0-4db4-e93a-e0fce58f289c",
        "colab": {
          "base_uri": "https://localhost:8080/",
          "height": 230
        }
      },
      "source": [
        "# Create a separate dataframe containing only win_by_wickets column data\n",
        "win_by_wickets_data = df[df.win_by_wickets > 0].win_by_wickets\n",
        "win_by_wickets_data"
      ],
      "execution_count": 64,
      "outputs": [
        {
          "output_type": "execute_result",
          "data": {
            "text/plain": [
              "1       7\n",
              "2      10\n",
              "3       6\n",
              "5       9\n",
              "6       4\n",
              "       ..\n",
              "684     6\n",
              "689     5\n",
              "691     5\n",
              "692     2\n",
              "695     8\n",
              "Name: win_by_wickets, Length: 371, dtype: int64"
            ]
          },
          "metadata": {
            "tags": []
          },
          "execution_count": 64
        }
      ]
    },
    {
      "cell_type": "code",
      "metadata": {
        "id": "4S7FSptw75yi",
        "colab_type": "code",
        "colab": {}
      },
      "source": [
        "# Calculate mean & standard deviation of win_by_wickets data\n",
        "mean = win_by_wickets_data.mean()\n",
        "std = win_by_wickets_data.std()"
      ],
      "execution_count": 0,
      "outputs": []
    },
    {
      "cell_type": "code",
      "metadata": {
        "id": "XwHRjm9J8K22",
        "colab_type": "code",
        "outputId": "b1abe128-4d2b-48ca-c809-1676c62e6660",
        "colab": {
          "base_uri": "https://localhost:8080/",
          "height": 1000
        }
      },
      "source": [
        "# Calculate weights to be applied in plotting histogram of win_by_wickets data\n",
        "weights =np.zeros_like(win_by_wickets_data)+  1.0 / win_by_wickets_data.count()\n",
        "weights"
      ],
      "execution_count": 66,
      "outputs": [
        {
          "output_type": "execute_result",
          "data": {
            "text/plain": [
              "array([0.00269542, 0.00269542, 0.00269542, 0.00269542, 0.00269542,\n",
              "       0.00269542, 0.00269542, 0.00269542, 0.00269542, 0.00269542,\n",
              "       0.00269542, 0.00269542, 0.00269542, 0.00269542, 0.00269542,\n",
              "       0.00269542, 0.00269542, 0.00269542, 0.00269542, 0.00269542,\n",
              "       0.00269542, 0.00269542, 0.00269542, 0.00269542, 0.00269542,\n",
              "       0.00269542, 0.00269542, 0.00269542, 0.00269542, 0.00269542,\n",
              "       0.00269542, 0.00269542, 0.00269542, 0.00269542, 0.00269542,\n",
              "       0.00269542, 0.00269542, 0.00269542, 0.00269542, 0.00269542,\n",
              "       0.00269542, 0.00269542, 0.00269542, 0.00269542, 0.00269542,\n",
              "       0.00269542, 0.00269542, 0.00269542, 0.00269542, 0.00269542,\n",
              "       0.00269542, 0.00269542, 0.00269542, 0.00269542, 0.00269542,\n",
              "       0.00269542, 0.00269542, 0.00269542, 0.00269542, 0.00269542,\n",
              "       0.00269542, 0.00269542, 0.00269542, 0.00269542, 0.00269542,\n",
              "       0.00269542, 0.00269542, 0.00269542, 0.00269542, 0.00269542,\n",
              "       0.00269542, 0.00269542, 0.00269542, 0.00269542, 0.00269542,\n",
              "       0.00269542, 0.00269542, 0.00269542, 0.00269542, 0.00269542,\n",
              "       0.00269542, 0.00269542, 0.00269542, 0.00269542, 0.00269542,\n",
              "       0.00269542, 0.00269542, 0.00269542, 0.00269542, 0.00269542,\n",
              "       0.00269542, 0.00269542, 0.00269542, 0.00269542, 0.00269542,\n",
              "       0.00269542, 0.00269542, 0.00269542, 0.00269542, 0.00269542,\n",
              "       0.00269542, 0.00269542, 0.00269542, 0.00269542, 0.00269542,\n",
              "       0.00269542, 0.00269542, 0.00269542, 0.00269542, 0.00269542,\n",
              "       0.00269542, 0.00269542, 0.00269542, 0.00269542, 0.00269542,\n",
              "       0.00269542, 0.00269542, 0.00269542, 0.00269542, 0.00269542,\n",
              "       0.00269542, 0.00269542, 0.00269542, 0.00269542, 0.00269542,\n",
              "       0.00269542, 0.00269542, 0.00269542, 0.00269542, 0.00269542,\n",
              "       0.00269542, 0.00269542, 0.00269542, 0.00269542, 0.00269542,\n",
              "       0.00269542, 0.00269542, 0.00269542, 0.00269542, 0.00269542,\n",
              "       0.00269542, 0.00269542, 0.00269542, 0.00269542, 0.00269542,\n",
              "       0.00269542, 0.00269542, 0.00269542, 0.00269542, 0.00269542,\n",
              "       0.00269542, 0.00269542, 0.00269542, 0.00269542, 0.00269542,\n",
              "       0.00269542, 0.00269542, 0.00269542, 0.00269542, 0.00269542,\n",
              "       0.00269542, 0.00269542, 0.00269542, 0.00269542, 0.00269542,\n",
              "       0.00269542, 0.00269542, 0.00269542, 0.00269542, 0.00269542,\n",
              "       0.00269542, 0.00269542, 0.00269542, 0.00269542, 0.00269542,\n",
              "       0.00269542, 0.00269542, 0.00269542, 0.00269542, 0.00269542,\n",
              "       0.00269542, 0.00269542, 0.00269542, 0.00269542, 0.00269542,\n",
              "       0.00269542, 0.00269542, 0.00269542, 0.00269542, 0.00269542,\n",
              "       0.00269542, 0.00269542, 0.00269542, 0.00269542, 0.00269542,\n",
              "       0.00269542, 0.00269542, 0.00269542, 0.00269542, 0.00269542,\n",
              "       0.00269542, 0.00269542, 0.00269542, 0.00269542, 0.00269542,\n",
              "       0.00269542, 0.00269542, 0.00269542, 0.00269542, 0.00269542,\n",
              "       0.00269542, 0.00269542, 0.00269542, 0.00269542, 0.00269542,\n",
              "       0.00269542, 0.00269542, 0.00269542, 0.00269542, 0.00269542,\n",
              "       0.00269542, 0.00269542, 0.00269542, 0.00269542, 0.00269542,\n",
              "       0.00269542, 0.00269542, 0.00269542, 0.00269542, 0.00269542,\n",
              "       0.00269542, 0.00269542, 0.00269542, 0.00269542, 0.00269542,\n",
              "       0.00269542, 0.00269542, 0.00269542, 0.00269542, 0.00269542,\n",
              "       0.00269542, 0.00269542, 0.00269542, 0.00269542, 0.00269542,\n",
              "       0.00269542, 0.00269542, 0.00269542, 0.00269542, 0.00269542,\n",
              "       0.00269542, 0.00269542, 0.00269542, 0.00269542, 0.00269542,\n",
              "       0.00269542, 0.00269542, 0.00269542, 0.00269542, 0.00269542,\n",
              "       0.00269542, 0.00269542, 0.00269542, 0.00269542, 0.00269542,\n",
              "       0.00269542, 0.00269542, 0.00269542, 0.00269542, 0.00269542,\n",
              "       0.00269542, 0.00269542, 0.00269542, 0.00269542, 0.00269542,\n",
              "       0.00269542, 0.00269542, 0.00269542, 0.00269542, 0.00269542,\n",
              "       0.00269542, 0.00269542, 0.00269542, 0.00269542, 0.00269542,\n",
              "       0.00269542, 0.00269542, 0.00269542, 0.00269542, 0.00269542,\n",
              "       0.00269542, 0.00269542, 0.00269542, 0.00269542, 0.00269542,\n",
              "       0.00269542, 0.00269542, 0.00269542, 0.00269542, 0.00269542,\n",
              "       0.00269542, 0.00269542, 0.00269542, 0.00269542, 0.00269542,\n",
              "       0.00269542, 0.00269542, 0.00269542, 0.00269542, 0.00269542,\n",
              "       0.00269542, 0.00269542, 0.00269542, 0.00269542, 0.00269542,\n",
              "       0.00269542, 0.00269542, 0.00269542, 0.00269542, 0.00269542,\n",
              "       0.00269542, 0.00269542, 0.00269542, 0.00269542, 0.00269542,\n",
              "       0.00269542, 0.00269542, 0.00269542, 0.00269542, 0.00269542,\n",
              "       0.00269542, 0.00269542, 0.00269542, 0.00269542, 0.00269542,\n",
              "       0.00269542, 0.00269542, 0.00269542, 0.00269542, 0.00269542,\n",
              "       0.00269542, 0.00269542, 0.00269542, 0.00269542, 0.00269542,\n",
              "       0.00269542, 0.00269542, 0.00269542, 0.00269542, 0.00269542,\n",
              "       0.00269542, 0.00269542, 0.00269542, 0.00269542, 0.00269542,\n",
              "       0.00269542, 0.00269542, 0.00269542, 0.00269542, 0.00269542,\n",
              "       0.00269542, 0.00269542, 0.00269542, 0.00269542, 0.00269542,\n",
              "       0.00269542, 0.00269542, 0.00269542, 0.00269542, 0.00269542,\n",
              "       0.00269542])"
            ]
          },
          "metadata": {
            "tags": []
          },
          "execution_count": 66
        }
      ]
    },
    {
      "cell_type": "code",
      "metadata": {
        "id": "4NKvnjaq8987",
        "colab_type": "code",
        "outputId": "82553c1a-3b6b-4e45-a32e-a20857883cce",
        "colab": {
          "base_uri": "https://localhost:8080/",
          "height": 230
        }
      },
      "source": [
        "# Plot a histogram of win_by_wickets data\n",
        "win_by_wickets_data.hist(weights = weights)"
      ],
      "execution_count": 67,
      "outputs": [
        {
          "output_type": "execute_result",
          "data": {
            "text/plain": [
              "<matplotlib.axes._subplots.AxesSubplot at 0x7f69da941668>"
            ]
          },
          "metadata": {
            "tags": []
          },
          "execution_count": 67
        },
        {
          "output_type": "display_data",
          "data": {
            "image/png": "[encoded data removed]",
            "text/plain": [
              "<Figure size 324x216 with 1 Axes>"
            ]
          },
          "metadata": {
            "tags": []
          }
        }
      ]
    },
    {
      "cell_type": "code",
      "metadata": {
        "id": "wgH_-lrZ8L5k",
        "colab_type": "code",
        "outputId": "02cb2cdf-8975-4ddd-f4d2-9cb4fcb858f2",
        "colab": {
          "base_uri": "https://localhost:8080/",
          "height": 34
        }
      },
      "source": [
        "# Generate equally distributed random numbers for the same range as that of win_by_wickets data\n",
        "random_data = np.arange(win_by_wickets_data.min(), win_by_wickets_data.max(), 0.001)\n",
        "random_data"
      ],
      "execution_count": 68,
      "outputs": [
        {
          "output_type": "execute_result",
          "data": {
            "text/plain": [
              "array([1.   , 1.001, 1.002, ..., 9.997, 9.998, 9.999])"
            ]
          },
          "metadata": {
            "tags": []
          },
          "execution_count": 68
        }
      ]
    },
    {
      "cell_type": "code",
      "metadata": {
        "id": "EOxgESf59L-o",
        "colab_type": "code",
        "outputId": "b74114bf-cfa3-4eaf-e5ce-e25552399bd3",
        "colab": {
          "base_uri": "https://localhost:8080/",
          "height": 230
        }
      },
      "source": [
        "# Plot a histogram of win_by_wickets data\n",
        "win_by_wickets_data.hist(weights = weights)\n",
        "# Plot a normal probability distribution curve on top of the above histogram using the random number array\n",
        "pyplot.plot(random_data, stats.norm.pdf(random_data, mean, std), color='green')"
      ],
      "execution_count": 69,
      "outputs": [
        {
          "output_type": "execute_result",
          "data": {
            "text/plain": [
              "[<matplotlib.lines.Line2D at 0x7f69da87c630>]"
            ]
          },
          "metadata": {
            "tags": []
          },
          "execution_count": 69
        },
        {
          "output_type": "display_data",
          "data": {
            "image/png": "[encoded data removed]",
            "text/plain": [
              "<Figure size 324x216 with 1 Axes>"
            ]
          },
          "metadata": {
            "tags": []
          }
        }
      ]
    },
    {
      "cell_type": "code",
      "metadata": {
        "id": "rEpp4U6y9V7T",
        "colab_type": "code",
        "outputId": "a0ea5655-0608-4cb4-a837-a9852975fb7b",
        "colab": {
          "base_uri": "https://localhost:8080/",
          "height": 34
        }
      },
      "source": [
        "# Compute probability that a match is won with wickets greater than 3 and less than or equal to 6\n",
        "\n",
        "# Compute Z-scores\n",
        "\n",
        "z1 = (3 - mean)/std\n",
        "z2 = (6 - mean)/std\n",
        "\n",
        "prob = stats.norm.cdf(z2) - stats.norm.cdf(z1)\n",
        "prob\n",
        "#print(\"Probability that a match is won by number of wickets greater than 3 and less than or equal to 6 is: \", np.round(prob,3))"
      ],
      "execution_count": 70,
      "outputs": [
        {
          "output_type": "execute_result",
          "data": {
            "text/plain": [
              "0.40180017041824395"
            ]
          },
          "metadata": {
            "tags": []
          },
          "execution_count": 70
        }
      ]
    },
    {
      "cell_type": "code",
      "metadata": {
        "id": "V_BcCxnl9fID",
        "colab_type": "code",
        "outputId": "83df00b5-10af-4b0e-f23c-5f35f82f4409",
        "colab": {
          "base_uri": "https://localhost:8080/",
          "height": 34
        }
      },
      "source": [
        " # Compute the probability that the winner is Mumbai Indians when the match was played at Mumbai\n",
        "\n",
        "df2 = pd.DataFrame({'count' : df.groupby( [ 'city','winner'] ).size()}).reset_index()\n",
        "\n",
        "city_count=df.groupby(['city']).count()['id']\n",
        "\n",
        "prob2=df2['count'][(df2['city']=='Mumbai') & (df2['winner']=='Mumbai Indians')].tolist()[0]/city_count['Mumbai']\n",
        "print(\"Probability that the winner is Mumbai Indians when the match was played at Mumbai: \", np.round(prob2,3))"
      ],
      "execution_count": 71,
      "outputs": [
        {
          "output_type": "stream",
          "text": [
            "Probability that the winner is Mumbai Indians when the match was played at Mumbai:  0.511\n"
          ],
          "name": "stdout"
        }
      ]
    },
    {
      "cell_type": "markdown",
      "metadata": {
        "id": "9fRe_f5VN_Q6",
        "colab_type": "text"
      },
      "source": [
        ""
      ]
    },
    {
      "cell_type": "code",
      "metadata": {
        "id": "4ErarSwkN_dh",
        "colab_type": "code",
        "outputId": "9c1b5603-eda3-4c61-a13d-18d1ad13b7ad",
        "colab": {
          "base_uri": "https://localhost:8080/",
          "height": 392
        }
      },
      "source": [
        "!wget https://www.dropbox.com/s/kxzzp26lst8ivaj/pima-indians-diabetes.csv"
      ],
      "execution_count": 72,
      "outputs": [
        {
          "output_type": "stream",
          "text": [
            "--2020-01-02 04:58:52--  https://www.dropbox.com/s/kxzzp26lst8ivaj/pima-indians-diabetes.csv\n",
            "Resolving www.dropbox.com (www.dropbox.com)... 162.125.9.1, 2620:100:601f:1::a27d:901\n",
            "Connecting to www.dropbox.com (www.dropbox.com)|162.125.9.1|:443... connected.\n",
            "HTTP request sent, awaiting response... 301 Moved Permanently\n",
            "Location: /s/raw/kxzzp26lst8ivaj/pima-indians-diabetes.csv [following]\n",
            "--2020-01-02 04:58:52--  https://www.dropbox.com/s/raw/kxzzp26lst8ivaj/pima-indians-diabetes.csv\n",
            "Reusing existing connection to www.dropbox.com:443.\n",
            "HTTP request sent, awaiting response... 302 Found\n",
            "Location: https://uc69e0890a5dc988629cdb600aaa.dl.dropboxusercontent.com/cd/0/inline/AvaDqnEJ5PFn7DDpS01HRN0dVDFwPMAIriU_IKjk_fWi5jqYgFfCDsUfl7lclg8OT_Q37O-XdiweqABY_IKteR6W2q1DI9GgbRV0h3yZnl8uHPliCJgDbxPkleihi9a_mMg/file# [following]\n",
            "--2020-01-02 04:58:52--  https://uc69e0890a5dc988629cdb600aaa.dl.dropboxusercontent.com/cd/0/inline/AvaDqnEJ5PFn7DDpS01HRN0dVDFwPMAIriU_IKjk_fWi5jqYgFfCDsUfl7lclg8OT_Q37O-XdiweqABY_IKteR6W2q1DI9GgbRV0h3yZnl8uHPliCJgDbxPkleihi9a_mMg/file\n",
            "Resolving uc69e0890a5dc988629cdb600aaa.dl.dropboxusercontent.com (uc69e0890a5dc988629cdb600aaa.dl.dropboxusercontent.com)... 162.125.9.6, 2620:100:601f:6::a27d:906\n",
            "Connecting to uc69e0890a5dc988629cdb600aaa.dl.dropboxusercontent.com (uc69e0890a5dc988629cdb600aaa.dl.dropboxusercontent.com)|162.125.9.6|:443... connected.\n",
            "HTTP request sent, awaiting response... 200 OK\n",
            "Length: 24045 (23K) [text/plain]\n",
            "Saving to: ‘pima-indians-diabetes.csv’\n",
            "\n",
            "pima-indians-diabet 100%[===================>]  23.48K  --.-KB/s    in 0.02s   \n",
            "\n",
            "2020-01-02 04:58:53 (1.22 MB/s) - ‘pima-indians-diabetes.csv’ saved [24045/24045]\n",
            "\n"
          ],
          "name": "stdout"
        }
      ]
    },
    {
      "cell_type": "markdown",
      "metadata": {
        "id": "OrS-ir0LQ_Cm",
        "colab_type": "text"
      },
      "source": [
        "#<b>Dataset Description</b>\n",
        " 1. Number of times pregnant\t\t\t\t\t\t\t\n",
        " 2. Plasma glucose concentration a 2 hours in an oral glucose tolerance test\t\t\t\t\t\t\t\n",
        " 3. Diastolic blood pressure (mm Hg)\t\t\t\t\t\t\t\n",
        " 4. Triceps skin fold thickness (mm)\t\t\t\t\t\t\t\n",
        " 5. 2-Hour serum insulin (mu U/ml)\t\t\t\t\t\t\t\n",
        " 6. Body mass index (weight in kg/(height in m)^2)\t\t\t\t\t\t\t\n",
        " 7. Diabetes pedigree function\t\t\t\t\t\t\t\n",
        " 8. Age (years)\t\t\t\t\t\t\t\n",
        " 9. Class variable (0 or 1)\t\t"
      ]
    },
    {
      "cell_type": "code",
      "metadata": {
        "id": "IcR1nNM8CXHh",
        "colab_type": "code",
        "outputId": "7fa00c65-18bb-4d4a-88a0-652fbe9b9453",
        "colab": {
          "base_uri": "https://localhost:8080/",
          "height": 1000
        }
      },
      "source": [
        "# View first 20 rows\n",
        "from pandas import read_csv\n",
        "filename = \"/content/pima-indians-diabetes.csv\"\n",
        "\n",
        "names = ['preg', 'plas', 'pres', 'skin', 'test', 'mass', 'pedi', 'age', 'class']\n",
        "data = read_csv(filename,names=names)\n",
        "peek = data.head(40)\n",
        "peek"
      ],
      "execution_count": 73,
      "outputs": [
        {
          "output_type": "execute_result",
          "data": {
            "text/html": [
              "<div>\n",
              "<style scoped>\n",
              "    .dataframe tbody tr th:only-of-type {\n",
              "        vertical-align: middle;\n",
              "    }\n",
              "\n",
              "    .dataframe tbody tr th {\n",
              "        vertical-align: top;\n",
              "    }\n",
              "\n",
              "    .dataframe thead th {\n",
              "        text-align: right;\n",
              "    }\n",
              "</style>\n",
              "<table border=\"1\" class=\"dataframe\">\n",
              "  <thead>\n",
              "    <tr style=\"text-align: right;\">\n",
              "      <th></th>\n",
              "      <th>preg</th>\n",
              "      <th>plas</th>\n",
              "      <th>pres</th>\n",
              "      <th>skin</th>\n",
              "      <th>test</th>\n",
              "      <th>mass</th>\n",
              "      <th>pedi</th>\n",
              "      <th>age</th>\n",
              "      <th>class</th>\n",
              "    </tr>\n",
              "  </thead>\n",
              "  <tbody>\n",
              "    <tr>\n",
              "      <th>0</th>\n",
              "      <td>6</td>\n",
              "      <td>148</td>\n",
              "      <td>72</td>\n",
              "      <td>35</td>\n",
              "      <td>0</td>\n",
              "      <td>33.6</td>\n",
              "      <td>0.627</td>\n",
              "      <td>50</td>\n",
              "      <td>1</td>\n",
              "    </tr>\n",
              "    <tr>\n",
              "      <th>1</th>\n",
              "      <td>1</td>\n",
              "      <td>85</td>\n",
              "      <td>66</td>\n",
              "      <td>29</td>\n",
              "      <td>0</td>\n",
              "      <td>26.6</td>\n",
              "      <td>0.351</td>\n",
              "      <td>31</td>\n",
              "      <td>0</td>\n",
              "    </tr>\n",
              "    <tr>\n",
              "      <th>2</th>\n",
              "      <td>8</td>\n",
              "      <td>183</td>\n",
              "      <td>64</td>\n",
              "      <td>0</td>\n",
              "      <td>0</td>\n",
              "      <td>23.3</td>\n",
              "      <td>0.672</td>\n",
              "      <td>32</td>\n",
              "      <td>1</td>\n",
              "    </tr>\n",
              "    <tr>\n",
              "      <th>3</th>\n",
              "      <td>1</td>\n",
              "      <td>89</td>\n",
              "      <td>66</td>\n",
              "      <td>23</td>\n",
              "      <td>94</td>\n",
              "      <td>28.1</td>\n",
              "      <td>0.167</td>\n",
              "      <td>21</td>\n",
              "      <td>0</td>\n",
              "    </tr>\n",
              "    <tr>\n",
              "      <th>4</th>\n",
              "      <td>0</td>\n",
              "      <td>137</td>\n",
              "      <td>40</td>\n",
              "      <td>35</td>\n",
              "      <td>168</td>\n",
              "      <td>43.1</td>\n",
              "      <td>2.288</td>\n",
              "      <td>33</td>\n",
              "      <td>1</td>\n",
              "    </tr>\n",
              "    <tr>\n",
              "      <th>5</th>\n",
              "      <td>5</td>\n",
              "      <td>116</td>\n",
              "      <td>74</td>\n",
              "      <td>0</td>\n",
              "      <td>0</td>\n",
              "      <td>25.6</td>\n",
              "      <td>0.201</td>\n",
              "      <td>30</td>\n",
              "      <td>0</td>\n",
              "    </tr>\n",
              "    <tr>\n",
              "      <th>6</th>\n",
              "      <td>3</td>\n",
              "      <td>78</td>\n",
              "      <td>50</td>\n",
              "      <td>32</td>\n",
              "      <td>88</td>\n",
              "      <td>31.0</td>\n",
              "      <td>0.248</td>\n",
              "      <td>26</td>\n",
              "      <td>1</td>\n",
              "    </tr>\n",
              "    <tr>\n",
              "      <th>7</th>\n",
              "      <td>10</td>\n",
              "      <td>115</td>\n",
              "      <td>0</td>\n",
              "      <td>0</td>\n",
              "      <td>0</td>\n",
              "      <td>35.3</td>\n",
              "      <td>0.134</td>\n",
              "      <td>29</td>\n",
              "      <td>0</td>\n",
              "    </tr>\n",
              "    <tr>\n",
              "      <th>8</th>\n",
              "      <td>2</td>\n",
              "      <td>197</td>\n",
              "      <td>70</td>\n",
              "      <td>45</td>\n",
              "      <td>543</td>\n",
              "      <td>30.5</td>\n",
              "      <td>0.158</td>\n",
              "      <td>53</td>\n",
              "      <td>1</td>\n",
              "    </tr>\n",
              "    <tr>\n",
              "      <th>9</th>\n",
              "      <td>8</td>\n",
              "      <td>125</td>\n",
              "      <td>96</td>\n",
              "      <td>0</td>\n",
              "      <td>0</td>\n",
              "      <td>0.0</td>\n",
              "      <td>0.232</td>\n",
              "      <td>54</td>\n",
              "      <td>1</td>\n",
              "    </tr>\n",
              "    <tr>\n",
              "      <th>10</th>\n",
              "      <td>4</td>\n",
              "      <td>110</td>\n",
              "      <td>92</td>\n",
              "      <td>0</td>\n",
              "      <td>0</td>\n",
              "      <td>37.6</td>\n",
              "      <td>0.191</td>\n",
              "      <td>30</td>\n",
              "      <td>0</td>\n",
              "    </tr>\n",
              "    <tr>\n",
              "      <th>11</th>\n",
              "      <td>10</td>\n",
              "      <td>168</td>\n",
              "      <td>74</td>\n",
              "      <td>0</td>\n",
              "      <td>0</td>\n",
              "      <td>38.0</td>\n",
              "      <td>0.537</td>\n",
              "      <td>34</td>\n",
              "      <td>1</td>\n",
              "    </tr>\n",
              "    <tr>\n",
              "      <th>12</th>\n",
              "      <td>10</td>\n",
              "      <td>139</td>\n",
              "      <td>80</td>\n",
              "      <td>0</td>\n",
              "      <td>0</td>\n",
              "      <td>27.1</td>\n",
              "      <td>1.441</td>\n",
              "      <td>57</td>\n",
              "      <td>0</td>\n",
              "    </tr>\n",
              "    <tr>\n",
              "      <th>13</th>\n",
              "      <td>1</td>\n",
              "      <td>189</td>\n",
              "      <td>60</td>\n",
              "      <td>23</td>\n",
              "      <td>846</td>\n",
              "      <td>30.1</td>\n",
              "      <td>0.398</td>\n",
              "      <td>59</td>\n",
              "      <td>1</td>\n",
              "    </tr>\n",
              "    <tr>\n",
              "      <th>14</th>\n",
              "      <td>5</td>\n",
              "      <td>166</td>\n",
              "      <td>72</td>\n",
              "      <td>19</td>\n",
              "      <td>175</td>\n",
              "      <td>25.8</td>\n",
              "      <td>0.587</td>\n",
              "      <td>51</td>\n",
              "      <td>1</td>\n",
              "    </tr>\n",
              "    <tr>\n",
              "      <th>15</th>\n",
              "      <td>7</td>\n",
              "      <td>100</td>\n",
              "      <td>0</td>\n",
              "      <td>0</td>\n",
              "      <td>0</td>\n",
              "      <td>30.0</td>\n",
              "      <td>0.484</td>\n",
              "      <td>32</td>\n",
              "      <td>1</td>\n",
              "    </tr>\n",
              "    <tr>\n",
              "      <th>16</th>\n",
              "      <td>0</td>\n",
              "      <td>118</td>\n",
              "      <td>84</td>\n",
              "      <td>47</td>\n",
              "      <td>230</td>\n",
              "      <td>45.8</td>\n",
              "      <td>0.551</td>\n",
              "      <td>31</td>\n",
              "      <td>1</td>\n",
              "    </tr>\n",
              "    <tr>\n",
              "      <th>17</th>\n",
              "      <td>7</td>\n",
              "      <td>107</td>\n",
              "      <td>74</td>\n",
              "      <td>0</td>\n",
              "      <td>0</td>\n",
              "      <td>29.6</td>\n",
              "      <td>0.254</td>\n",
              "      <td>31</td>\n",
              "      <td>1</td>\n",
              "    </tr>\n",
              "    <tr>\n",
              "      <th>18</th>\n",
              "      <td>1</td>\n",
              "      <td>103</td>\n",
              "      <td>30</td>\n",
              "      <td>38</td>\n",
              "      <td>83</td>\n",
              "      <td>43.3</td>\n",
              "      <td>0.183</td>\n",
              "      <td>33</td>\n",
              "      <td>0</td>\n",
              "    </tr>\n",
              "    <tr>\n",
              "      <th>19</th>\n",
              "      <td>1</td>\n",
              "      <td>115</td>\n",
              "      <td>70</td>\n",
              "      <td>30</td>\n",
              "      <td>96</td>\n",
              "      <td>34.6</td>\n",
              "      <td>0.529</td>\n",
              "      <td>32</td>\n",
              "      <td>1</td>\n",
              "    </tr>\n",
              "    <tr>\n",
              "      <th>20</th>\n",
              "      <td>3</td>\n",
              "      <td>126</td>\n",
              "      <td>88</td>\n",
              "      <td>41</td>\n",
              "      <td>235</td>\n",
              "      <td>39.3</td>\n",
              "      <td>0.704</td>\n",
              "      <td>27</td>\n",
              "      <td>0</td>\n",
              "    </tr>\n",
              "    <tr>\n",
              "      <th>21</th>\n",
              "      <td>8</td>\n",
              "      <td>99</td>\n",
              "      <td>84</td>\n",
              "      <td>0</td>\n",
              "      <td>0</td>\n",
              "      <td>35.4</td>\n",
              "      <td>0.388</td>\n",
              "      <td>50</td>\n",
              "      <td>0</td>\n",
              "    </tr>\n",
              "    <tr>\n",
              "      <th>22</th>\n",
              "      <td>7</td>\n",
              "      <td>196</td>\n",
              "      <td>90</td>\n",
              "      <td>0</td>\n",
              "      <td>0</td>\n",
              "      <td>39.8</td>\n",
              "      <td>0.451</td>\n",
              "      <td>41</td>\n",
              "      <td>1</td>\n",
              "    </tr>\n",
              "    <tr>\n",
              "      <th>23</th>\n",
              "      <td>9</td>\n",
              "      <td>119</td>\n",
              "      <td>80</td>\n",
              "      <td>35</td>\n",
              "      <td>0</td>\n",
              "      <td>29.0</td>\n",
              "      <td>0.263</td>\n",
              "      <td>29</td>\n",
              "      <td>1</td>\n",
              "    </tr>\n",
              "    <tr>\n",
              "      <th>24</th>\n",
              "      <td>11</td>\n",
              "      <td>143</td>\n",
              "      <td>94</td>\n",
              "      <td>33</td>\n",
              "      <td>146</td>\n",
              "      <td>36.6</td>\n",
              "      <td>0.254</td>\n",
              "      <td>51</td>\n",
              "      <td>1</td>\n",
              "    </tr>\n",
              "    <tr>\n",
              "      <th>25</th>\n",
              "      <td>10</td>\n",
              "      <td>125</td>\n",
              "      <td>70</td>\n",
              "      <td>26</td>\n",
              "      <td>115</td>\n",
              "      <td>31.1</td>\n",
              "      <td>0.205</td>\n",
              "      <td>41</td>\n",
              "      <td>1</td>\n",
              "    </tr>\n",
              "    <tr>\n",
              "      <th>26</th>\n",
              "      <td>7</td>\n",
              "      <td>147</td>\n",
              "      <td>76</td>\n",
              "      <td>0</td>\n",
              "      <td>0</td>\n",
              "      <td>39.4</td>\n",
              "      <td>0.257</td>\n",
              "      <td>43</td>\n",
              "      <td>1</td>\n",
              "    </tr>\n",
              "    <tr>\n",
              "      <th>27</th>\n",
              "      <td>1</td>\n",
              "      <td>97</td>\n",
              "      <td>66</td>\n",
              "      <td>15</td>\n",
              "      <td>140</td>\n",
              "      <td>23.2</td>\n",
              "      <td>0.487</td>\n",
              "      <td>22</td>\n",
              "      <td>0</td>\n",
              "    </tr>\n",
              "    <tr>\n",
              "      <th>28</th>\n",
              "      <td>13</td>\n",
              "      <td>145</td>\n",
              "      <td>82</td>\n",
              "      <td>19</td>\n",
              "      <td>110</td>\n",
              "      <td>22.2</td>\n",
              "      <td>0.245</td>\n",
              "      <td>57</td>\n",
              "      <td>0</td>\n",
              "    </tr>\n",
              "    <tr>\n",
              "      <th>29</th>\n",
              "      <td>5</td>\n",
              "      <td>117</td>\n",
              "      <td>92</td>\n",
              "      <td>0</td>\n",
              "      <td>0</td>\n",
              "      <td>34.1</td>\n",
              "      <td>0.337</td>\n",
              "      <td>38</td>\n",
              "      <td>0</td>\n",
              "    </tr>\n",
              "    <tr>\n",
              "      <th>30</th>\n",
              "      <td>5</td>\n",
              "      <td>109</td>\n",
              "      <td>75</td>\n",
              "      <td>26</td>\n",
              "      <td>0</td>\n",
              "      <td>36.0</td>\n",
              "      <td>0.546</td>\n",
              "      <td>60</td>\n",
              "      <td>0</td>\n",
              "    </tr>\n",
              "    <tr>\n",
              "      <th>31</th>\n",
              "      <td>3</td>\n",
              "      <td>158</td>\n",
              "      <td>76</td>\n",
              "      <td>36</td>\n",
              "      <td>245</td>\n",
              "      <td>31.6</td>\n",
              "      <td>0.851</td>\n",
              "      <td>28</td>\n",
              "      <td>1</td>\n",
              "    </tr>\n",
              "    <tr>\n",
              "      <th>32</th>\n",
              "      <td>3</td>\n",
              "      <td>88</td>\n",
              "      <td>58</td>\n",
              "      <td>11</td>\n",
              "      <td>54</td>\n",
              "      <td>24.8</td>\n",
              "      <td>0.267</td>\n",
              "      <td>22</td>\n",
              "      <td>0</td>\n",
              "    </tr>\n",
              "    <tr>\n",
              "      <th>33</th>\n",
              "      <td>6</td>\n",
              "      <td>92</td>\n",
              "      <td>92</td>\n",
              "      <td>0</td>\n",
              "      <td>0</td>\n",
              "      <td>19.9</td>\n",
              "      <td>0.188</td>\n",
              "      <td>28</td>\n",
              "      <td>0</td>\n",
              "    </tr>\n",
              "    <tr>\n",
              "      <th>34</th>\n",
              "      <td>10</td>\n",
              "      <td>122</td>\n",
              "      <td>78</td>\n",
              "      <td>31</td>\n",
              "      <td>0</td>\n",
              "      <td>27.6</td>\n",
              "      <td>0.512</td>\n",
              "      <td>45</td>\n",
              "      <td>0</td>\n",
              "    </tr>\n",
              "    <tr>\n",
              "      <th>35</th>\n",
              "      <td>4</td>\n",
              "      <td>103</td>\n",
              "      <td>60</td>\n",
              "      <td>33</td>\n",
              "      <td>192</td>\n",
              "      <td>24.0</td>\n",
              "      <td>0.966</td>\n",
              "      <td>33</td>\n",
              "      <td>0</td>\n",
              "    </tr>\n",
              "    <tr>\n",
              "      <th>36</th>\n",
              "      <td>11</td>\n",
              "      <td>138</td>\n",
              "      <td>76</td>\n",
              "      <td>0</td>\n",
              "      <td>0</td>\n",
              "      <td>33.2</td>\n",
              "      <td>0.420</td>\n",
              "      <td>35</td>\n",
              "      <td>0</td>\n",
              "    </tr>\n",
              "    <tr>\n",
              "      <th>37</th>\n",
              "      <td>9</td>\n",
              "      <td>102</td>\n",
              "      <td>76</td>\n",
              "      <td>37</td>\n",
              "      <td>0</td>\n",
              "      <td>32.9</td>\n",
              "      <td>0.665</td>\n",
              "      <td>46</td>\n",
              "      <td>1</td>\n",
              "    </tr>\n",
              "    <tr>\n",
              "      <th>38</th>\n",
              "      <td>2</td>\n",
              "      <td>90</td>\n",
              "      <td>68</td>\n",
              "      <td>42</td>\n",
              "      <td>0</td>\n",
              "      <td>38.2</td>\n",
              "      <td>0.503</td>\n",
              "      <td>27</td>\n",
              "      <td>1</td>\n",
              "    </tr>\n",
              "    <tr>\n",
              "      <th>39</th>\n",
              "      <td>4</td>\n",
              "      <td>111</td>\n",
              "      <td>72</td>\n",
              "      <td>47</td>\n",
              "      <td>207</td>\n",
              "      <td>37.1</td>\n",
              "      <td>1.390</td>\n",
              "      <td>56</td>\n",
              "      <td>1</td>\n",
              "    </tr>\n",
              "  </tbody>\n",
              "</table>\n",
              "</div>"
            ],
            "text/plain": [
              "    preg  plas  pres  skin  test  mass   pedi  age  class\n",
              "0      6   148    72    35     0  33.6  0.627   50      1\n",
              "1      1    85    66    29     0  26.6  0.351   31      0\n",
              "2      8   183    64     0     0  23.3  0.672   32      1\n",
              "3      1    89    66    23    94  28.1  0.167   21      0\n",
              "4      0   137    40    35   168  43.1  2.288   33      1\n",
              "5      5   116    74     0     0  25.6  0.201   30      0\n",
              "6      3    78    50    32    88  31.0  0.248   26      1\n",
              "7     10   115     0     0     0  35.3  0.134   29      0\n",
              "8      2   197    70    45   543  30.5  0.158   53      1\n",
              "9      8   125    96     0     0   0.0  0.232   54      1\n",
              "10     4   110    92     0     0  37.6  0.191   30      0\n",
              "11    10   168    74     0     0  38.0  0.537   34      1\n",
              "12    10   139    80     0     0  27.1  1.441   57      0\n",
              "13     1   189    60    23   846  30.1  0.398   59      1\n",
              "14     5   166    72    19   175  25.8  0.587   51      1\n",
              "15     7   100     0     0     0  30.0  0.484   32      1\n",
              "16     0   118    84    47   230  45.8  0.551   31      1\n",
              "17     7   107    74     0     0  29.6  0.254   31      1\n",
              "18     1   103    30    38    83  43.3  0.183   33      0\n",
              "19     1   115    70    30    96  34.6  0.529   32      1\n",
              "20     3   126    88    41   235  39.3  0.704   27      0\n",
              "21     8    99    84     0     0  35.4  0.388   50      0\n",
              "22     7   196    90     0     0  39.8  0.451   41      1\n",
              "23     9   119    80    35     0  29.0  0.263   29      1\n",
              "24    11   143    94    33   146  36.6  0.254   51      1\n",
              "25    10   125    70    26   115  31.1  0.205   41      1\n",
              "26     7   147    76     0     0  39.4  0.257   43      1\n",
              "27     1    97    66    15   140  23.2  0.487   22      0\n",
              "28    13   145    82    19   110  22.2  0.245   57      0\n",
              "29     5   117    92     0     0  34.1  0.337   38      0\n",
              "30     5   109    75    26     0  36.0  0.546   60      0\n",
              "31     3   158    76    36   245  31.6  0.851   28      1\n",
              "32     3    88    58    11    54  24.8  0.267   22      0\n",
              "33     6    92    92     0     0  19.9  0.188   28      0\n",
              "34    10   122    78    31     0  27.6  0.512   45      0\n",
              "35     4   103    60    33   192  24.0  0.966   33      0\n",
              "36    11   138    76     0     0  33.2  0.420   35      0\n",
              "37     9   102    76    37     0  32.9  0.665   46      1\n",
              "38     2    90    68    42     0  38.2  0.503   27      1\n",
              "39     4   111    72    47   207  37.1  1.390   56      1"
            ]
          },
          "metadata": {
            "tags": []
          },
          "execution_count": 73
        }
      ]
    },
    {
      "cell_type": "code",
      "metadata": {
        "id": "4qHrGRT-OSr_",
        "colab_type": "code",
        "outputId": "e3104dbd-e6f3-467c-a6c9-11f4fd27b68c",
        "colab": {
          "base_uri": "https://localhost:8080/",
          "height": 647
        }
      },
      "source": [
        "# View first 20 rows\n",
        "from pandas import read_csv\n",
        "filename = \"/content/pima-indians-diabetes.csv\"\n",
        "names = ['preg', 'plas', 'pres', 'skin', 'test', 'mass', 'pedi', 'age', 'class']\n",
        "data = read_csv(filename, names=names)\n",
        "peek = data.head(20)\n",
        "peek"
      ],
      "execution_count": 74,
      "outputs": [
        {
          "output_type": "execute_result",
          "data": {
            "text/html": [
              "<div>\n",
              "<style scoped>\n",
              "    .dataframe tbody tr th:only-of-type {\n",
              "        vertical-align: middle;\n",
              "    }\n",
              "\n",
              "    .dataframe tbody tr th {\n",
              "        vertical-align: top;\n",
              "    }\n",
              "\n",
              "    .dataframe thead th {\n",
              "        text-align: right;\n",
              "    }\n",
              "</style>\n",
              "<table border=\"1\" class=\"dataframe\">\n",
              "  <thead>\n",
              "    <tr style=\"text-align: right;\">\n",
              "      <th></th>\n",
              "      <th>preg</th>\n",
              "      <th>plas</th>\n",
              "      <th>pres</th>\n",
              "      <th>skin</th>\n",
              "      <th>test</th>\n",
              "      <th>mass</th>\n",
              "      <th>pedi</th>\n",
              "      <th>age</th>\n",
              "      <th>class</th>\n",
              "    </tr>\n",
              "  </thead>\n",
              "  <tbody>\n",
              "    <tr>\n",
              "      <th>0</th>\n",
              "      <td>6</td>\n",
              "      <td>148</td>\n",
              "      <td>72</td>\n",
              "      <td>35</td>\n",
              "      <td>0</td>\n",
              "      <td>33.6</td>\n",
              "      <td>0.627</td>\n",
              "      <td>50</td>\n",
              "      <td>1</td>\n",
              "    </tr>\n",
              "    <tr>\n",
              "      <th>1</th>\n",
              "      <td>1</td>\n",
              "      <td>85</td>\n",
              "      <td>66</td>\n",
              "      <td>29</td>\n",
              "      <td>0</td>\n",
              "      <td>26.6</td>\n",
              "      <td>0.351</td>\n",
              "      <td>31</td>\n",
              "      <td>0</td>\n",
              "    </tr>\n",
              "    <tr>\n",
              "      <th>2</th>\n",
              "      <td>8</td>\n",
              "      <td>183</td>\n",
              "      <td>64</td>\n",
              "      <td>0</td>\n",
              "      <td>0</td>\n",
              "      <td>23.3</td>\n",
              "      <td>0.672</td>\n",
              "      <td>32</td>\n",
              "      <td>1</td>\n",
              "    </tr>\n",
              "    <tr>\n",
              "      <th>3</th>\n",
              "      <td>1</td>\n",
              "      <td>89</td>\n",
              "      <td>66</td>\n",
              "      <td>23</td>\n",
              "      <td>94</td>\n",
              "      <td>28.1</td>\n",
              "      <td>0.167</td>\n",
              "      <td>21</td>\n",
              "      <td>0</td>\n",
              "    </tr>\n",
              "    <tr>\n",
              "      <th>4</th>\n",
              "      <td>0</td>\n",
              "      <td>137</td>\n",
              "      <td>40</td>\n",
              "      <td>35</td>\n",
              "      <td>168</td>\n",
              "      <td>43.1</td>\n",
              "      <td>2.288</td>\n",
              "      <td>33</td>\n",
              "      <td>1</td>\n",
              "    </tr>\n",
              "    <tr>\n",
              "      <th>5</th>\n",
              "      <td>5</td>\n",
              "      <td>116</td>\n",
              "      <td>74</td>\n",
              "      <td>0</td>\n",
              "      <td>0</td>\n",
              "      <td>25.6</td>\n",
              "      <td>0.201</td>\n",
              "      <td>30</td>\n",
              "      <td>0</td>\n",
              "    </tr>\n",
              "    <tr>\n",
              "      <th>6</th>\n",
              "      <td>3</td>\n",
              "      <td>78</td>\n",
              "      <td>50</td>\n",
              "      <td>32</td>\n",
              "      <td>88</td>\n",
              "      <td>31.0</td>\n",
              "      <td>0.248</td>\n",
              "      <td>26</td>\n",
              "      <td>1</td>\n",
              "    </tr>\n",
              "    <tr>\n",
              "      <th>7</th>\n",
              "      <td>10</td>\n",
              "      <td>115</td>\n",
              "      <td>0</td>\n",
              "      <td>0</td>\n",
              "      <td>0</td>\n",
              "      <td>35.3</td>\n",
              "      <td>0.134</td>\n",
              "      <td>29</td>\n",
              "      <td>0</td>\n",
              "    </tr>\n",
              "    <tr>\n",
              "      <th>8</th>\n",
              "      <td>2</td>\n",
              "      <td>197</td>\n",
              "      <td>70</td>\n",
              "      <td>45</td>\n",
              "      <td>543</td>\n",
              "      <td>30.5</td>\n",
              "      <td>0.158</td>\n",
              "      <td>53</td>\n",
              "      <td>1</td>\n",
              "    </tr>\n",
              "    <tr>\n",
              "      <th>9</th>\n",
              "      <td>8</td>\n",
              "      <td>125</td>\n",
              "      <td>96</td>\n",
              "      <td>0</td>\n",
              "      <td>0</td>\n",
              "      <td>0.0</td>\n",
              "      <td>0.232</td>\n",
              "      <td>54</td>\n",
              "      <td>1</td>\n",
              "    </tr>\n",
              "    <tr>\n",
              "      <th>10</th>\n",
              "      <td>4</td>\n",
              "      <td>110</td>\n",
              "      <td>92</td>\n",
              "      <td>0</td>\n",
              "      <td>0</td>\n",
              "      <td>37.6</td>\n",
              "      <td>0.191</td>\n",
              "      <td>30</td>\n",
              "      <td>0</td>\n",
              "    </tr>\n",
              "    <tr>\n",
              "      <th>11</th>\n",
              "      <td>10</td>\n",
              "      <td>168</td>\n",
              "      <td>74</td>\n",
              "      <td>0</td>\n",
              "      <td>0</td>\n",
              "      <td>38.0</td>\n",
              "      <td>0.537</td>\n",
              "      <td>34</td>\n",
              "      <td>1</td>\n",
              "    </tr>\n",
              "    <tr>\n",
              "      <th>12</th>\n",
              "      <td>10</td>\n",
              "      <td>139</td>\n",
              "      <td>80</td>\n",
              "      <td>0</td>\n",
              "      <td>0</td>\n",
              "      <td>27.1</td>\n",
              "      <td>1.441</td>\n",
              "      <td>57</td>\n",
              "      <td>0</td>\n",
              "    </tr>\n",
              "    <tr>\n",
              "      <th>13</th>\n",
              "      <td>1</td>\n",
              "      <td>189</td>\n",
              "      <td>60</td>\n",
              "      <td>23</td>\n",
              "      <td>846</td>\n",
              "      <td>30.1</td>\n",
              "      <td>0.398</td>\n",
              "      <td>59</td>\n",
              "      <td>1</td>\n",
              "    </tr>\n",
              "    <tr>\n",
              "      <th>14</th>\n",
              "      <td>5</td>\n",
              "      <td>166</td>\n",
              "      <td>72</td>\n",
              "      <td>19</td>\n",
              "      <td>175</td>\n",
              "      <td>25.8</td>\n",
              "      <td>0.587</td>\n",
              "      <td>51</td>\n",
              "      <td>1</td>\n",
              "    </tr>\n",
              "    <tr>\n",
              "      <th>15</th>\n",
              "      <td>7</td>\n",
              "      <td>100</td>\n",
              "      <td>0</td>\n",
              "      <td>0</td>\n",
              "      <td>0</td>\n",
              "      <td>30.0</td>\n",
              "      <td>0.484</td>\n",
              "      <td>32</td>\n",
              "      <td>1</td>\n",
              "    </tr>\n",
              "    <tr>\n",
              "      <th>16</th>\n",
              "      <td>0</td>\n",
              "      <td>118</td>\n",
              "      <td>84</td>\n",
              "      <td>47</td>\n",
              "      <td>230</td>\n",
              "      <td>45.8</td>\n",
              "      <td>0.551</td>\n",
              "      <td>31</td>\n",
              "      <td>1</td>\n",
              "    </tr>\n",
              "    <tr>\n",
              "      <th>17</th>\n",
              "      <td>7</td>\n",
              "      <td>107</td>\n",
              "      <td>74</td>\n",
              "      <td>0</td>\n",
              "      <td>0</td>\n",
              "      <td>29.6</td>\n",
              "      <td>0.254</td>\n",
              "      <td>31</td>\n",
              "      <td>1</td>\n",
              "    </tr>\n",
              "    <tr>\n",
              "      <th>18</th>\n",
              "      <td>1</td>\n",
              "      <td>103</td>\n",
              "      <td>30</td>\n",
              "      <td>38</td>\n",
              "      <td>83</td>\n",
              "      <td>43.3</td>\n",
              "      <td>0.183</td>\n",
              "      <td>33</td>\n",
              "      <td>0</td>\n",
              "    </tr>\n",
              "    <tr>\n",
              "      <th>19</th>\n",
              "      <td>1</td>\n",
              "      <td>115</td>\n",
              "      <td>70</td>\n",
              "      <td>30</td>\n",
              "      <td>96</td>\n",
              "      <td>34.6</td>\n",
              "      <td>0.529</td>\n",
              "      <td>32</td>\n",
              "      <td>1</td>\n",
              "    </tr>\n",
              "  </tbody>\n",
              "</table>\n",
              "</div>"
            ],
            "text/plain": [
              "    preg  plas  pres  skin  test  mass   pedi  age  class\n",
              "0      6   148    72    35     0  33.6  0.627   50      1\n",
              "1      1    85    66    29     0  26.6  0.351   31      0\n",
              "2      8   183    64     0     0  23.3  0.672   32      1\n",
              "3      1    89    66    23    94  28.1  0.167   21      0\n",
              "4      0   137    40    35   168  43.1  2.288   33      1\n",
              "5      5   116    74     0     0  25.6  0.201   30      0\n",
              "6      3    78    50    32    88  31.0  0.248   26      1\n",
              "7     10   115     0     0     0  35.3  0.134   29      0\n",
              "8      2   197    70    45   543  30.5  0.158   53      1\n",
              "9      8   125    96     0     0   0.0  0.232   54      1\n",
              "10     4   110    92     0     0  37.6  0.191   30      0\n",
              "11    10   168    74     0     0  38.0  0.537   34      1\n",
              "12    10   139    80     0     0  27.1  1.441   57      0\n",
              "13     1   189    60    23   846  30.1  0.398   59      1\n",
              "14     5   166    72    19   175  25.8  0.587   51      1\n",
              "15     7   100     0     0     0  30.0  0.484   32      1\n",
              "16     0   118    84    47   230  45.8  0.551   31      1\n",
              "17     7   107    74     0     0  29.6  0.254   31      1\n",
              "18     1   103    30    38    83  43.3  0.183   33      0\n",
              "19     1   115    70    30    96  34.6  0.529   32      1"
            ]
          },
          "metadata": {
            "tags": []
          },
          "execution_count": 74
        }
      ]
    },
    {
      "cell_type": "markdown",
      "metadata": {
        "id": "9U8ZdNrVhkcr",
        "colab_type": "text"
      },
      "source": [
        "#<b>Dimensions of Your Data"
      ]
    },
    {
      "cell_type": "code",
      "metadata": {
        "id": "ZpEsHc3ZOlpx",
        "colab_type": "code",
        "outputId": "13d89743-7219-449a-e9e8-023fc17aa446",
        "colab": {
          "base_uri": "https://localhost:8080/",
          "height": 34
        }
      },
      "source": [
        "data.shape"
      ],
      "execution_count": 75,
      "outputs": [
        {
          "output_type": "execute_result",
          "data": {
            "text/plain": [
              "(768, 9)"
            ]
          },
          "metadata": {
            "tags": []
          },
          "execution_count": 75
        }
      ]
    },
    {
      "cell_type": "markdown",
      "metadata": {
        "id": "U3D8unKThsRP",
        "colab_type": "text"
      },
      "source": [
        "#<b>Data Type For Each Attribute"
      ]
    },
    {
      "cell_type": "code",
      "metadata": {
        "id": "hDK1rkgMhpLX",
        "colab_type": "code",
        "outputId": "7937c881-686d-4a86-862a-7271cd828627",
        "colab": {
          "base_uri": "https://localhost:8080/",
          "height": 194
        }
      },
      "source": [
        "types = data.dtypes\n",
        "print(types)\n"
      ],
      "execution_count": 76,
      "outputs": [
        {
          "output_type": "stream",
          "text": [
            "preg       int64\n",
            "plas       int64\n",
            "pres       int64\n",
            "skin       int64\n",
            "test       int64\n",
            "mass     float64\n",
            "pedi     float64\n",
            "age        int64\n",
            "class      int64\n",
            "dtype: object\n"
          ],
          "name": "stdout"
        }
      ]
    },
    {
      "cell_type": "markdown",
      "metadata": {
        "id": "54SvCJQJh3L1",
        "colab_type": "text"
      },
      "source": [
        "#<b>Descriptive Statistics</b>\n",
        "Descriptive statistics can give you great insight into the shape of each attribute. Often you can\n",
        "create more summaries than you have time to review. The describe() function on the Pandas\n",
        "DataFrame lists 8 statistical properties of each attribute.<br>\n",
        " They are:<br>\n",
        " Count.<br>\n",
        " Mean.<br>\n",
        " Standard Deviation.<br>\n",
        " Minimum Value.<br>\n",
        " 25th Percentile.<br>\n",
        " 50th Percentile (Median).<br>\n",
        " 75th Percentile.<br>\n",
        " Maximum Value.<br>\n"
      ]
    },
    {
      "cell_type": "code",
      "metadata": {
        "id": "R3QKydSliOP9",
        "colab_type": "code",
        "outputId": "896eca4c-f932-4ba1-9ec6-5d27711fc96b",
        "colab": {
          "base_uri": "https://localhost:8080/",
          "height": 212
        }
      },
      "source": [
        "from pandas import set_option\n",
        "\n",
        "set_option('display.width', 100)\n",
        "set_option('precision', 3)\n",
        "description = data.describe()\n",
        "print(description)\n"
      ],
      "execution_count": 77,
      "outputs": [
        {
          "output_type": "stream",
          "text": [
            "          preg     plas     pres     skin  ...     mass     pedi      age    class\n",
            "count  768.000  768.000  768.000  768.000  ...  768.000  768.000  768.000  768.000\n",
            "mean     3.845  120.895   69.105   20.536  ...   31.993    0.472   33.241    0.349\n",
            "std      3.370   31.973   19.356   15.952  ...    7.884    0.331   11.760    0.477\n",
            "min      0.000    0.000    0.000    0.000  ...    0.000    0.078   21.000    0.000\n",
            "25%      1.000   99.000   62.000    0.000  ...   27.300    0.244   24.000    0.000\n",
            "50%      3.000  117.000   72.000   23.000  ...   32.000    0.372   29.000    0.000\n",
            "75%      6.000  140.250   80.000   32.000  ...   36.600    0.626   41.000    1.000\n",
            "max     17.000  199.000  122.000   99.000  ...   67.100    2.420   81.000    1.000\n",
            "\n",
            "[8 rows x 9 columns]\n"
          ],
          "name": "stdout"
        }
      ]
    },
    {
      "cell_type": "markdown",
      "metadata": {
        "id": "FO5I9FwbilRC",
        "colab_type": "text"
      },
      "source": [
        "#<b>Class Distribution (Classification Only)</b>\n",
        "On classification problems you need to know how balanced the class values are. Highly imbalanced\n",
        "problems (a lot more observations for one class than another) are common and may need special\n",
        "handling in the data preparation stage of your project. You can quickly get an idea of the\n",
        "distribution of the class attribute in Pandas.\n"
      ]
    },
    {
      "cell_type": "code",
      "metadata": {
        "id": "wIrPFrGLipZo",
        "colab_type": "code",
        "outputId": "73cd028f-5772-4f2a-eb11-e9745878216d",
        "colab": {
          "base_uri": "https://localhost:8080/",
          "height": 87
        }
      },
      "source": [
        "class_counts = data.groupby('class').size()\n",
        "print(class_counts)\n"
      ],
      "execution_count": 78,
      "outputs": [
        {
          "output_type": "stream",
          "text": [
            "class\n",
            "0    500\n",
            "1    268\n",
            "dtype: int64\n"
          ],
          "name": "stdout"
        }
      ]
    },
    {
      "cell_type": "markdown",
      "metadata": {
        "id": "lcJMpSiDiyl_",
        "colab_type": "text"
      },
      "source": [
        "# <b>Observation:</b><br>\n",
        "You can see that there are nearly double the number of observations with class 0 (no onset\n",
        "of diabetes) than there are with class 1 (onset of diabetes)."
      ]
    },
    {
      "cell_type": "markdown",
      "metadata": {
        "id": "2qUm4TH1jVKk",
        "colab_type": "text"
      },
      "source": [
        "#<b>Correlations Between Attributes</b>\n",
        "Correlation refers to the relationship between two variables and how they may or may not\n",
        "change together. The most common method for calculating correlation is Pearson’s Correlation\n",
        "Coefficient, that assumes a normal distribution of the attributes involved. A correlation of -1\n",
        "or 1 shows a full negative or positive correlation respectively. Whereas a value of 0 shows no\n",
        "correlation at all. Some machine learning algorithms like linear and logistic regression can suffer\n",
        "poor performance if there are highly correlated attributes in your dataset. As such, it is a good\n",
        "idea to review all of the pairwise correlations of the attributes in your dataset. You can use the\n",
        "corr() function on the Pandas DataFrame to calculate a correlation matrix"
      ]
    },
    {
      "cell_type": "code",
      "metadata": {
        "id": "BTWru5i7i8wy",
        "colab_type": "code",
        "outputId": "8f730cff-013d-4eae-ed95-34ca6ff19e46",
        "colab": {
          "base_uri": "https://localhost:8080/",
          "height": 194
        }
      },
      "source": [
        "correlations = data.corr(method='pearson')\n",
        "print(correlations)"
      ],
      "execution_count": 79,
      "outputs": [
        {
          "output_type": "stream",
          "text": [
            "        preg   plas   pres   skin   test   mass   pedi    age  class\n",
            "preg   1.000  0.129  0.141 -0.082 -0.074  0.018 -0.034  0.544  0.222\n",
            "plas   0.129  1.000  0.153  0.057  0.331  0.221  0.137  0.264  0.467\n",
            "pres   0.141  0.153  1.000  0.207  0.089  0.282  0.041  0.240  0.065\n",
            "skin  -0.082  0.057  0.207  1.000  0.437  0.393  0.184 -0.114  0.075\n",
            "test  -0.074  0.331  0.089  0.437  1.000  0.198  0.185 -0.042  0.131\n",
            "mass   0.018  0.221  0.282  0.393  0.198  1.000  0.141  0.036  0.293\n",
            "pedi  -0.034  0.137  0.041  0.184  0.185  0.141  1.000  0.034  0.174\n",
            "age    0.544  0.264  0.240 -0.114 -0.042  0.036  0.034  1.000  0.238\n",
            "class  0.222  0.467  0.065  0.075  0.131  0.293  0.174  0.238  1.000\n"
          ],
          "name": "stdout"
        }
      ]
    },
    {
      "cell_type": "markdown",
      "metadata": {
        "id": "zo2xGhEejhQm",
        "colab_type": "text"
      },
      "source": [
        "#<b> observation:</b>\n",
        "The matrix lists all attributes across the top and down the side, to give correlation between\n",
        "all pairs of attributes (twice, because the matrix is symmetrical). You can see the diagonal\n",
        "line through the matrix from the top left to bottom right corners of the matrix shows perfect\n",
        "correlation of each attribute with itself.\n"
      ]
    },
    {
      "cell_type": "markdown",
      "metadata": {
        "id": "SMUajZmfjrKl",
        "colab_type": "text"
      },
      "source": [
        "#<b>Skew of Univariate Distributions</b>\n",
        "Skew refers to a distribution that is assumed Gaussian (normal or bell curve) that is shifted or\n",
        "squashed in one direction or another. Many machine learning algorithms assume a Gaussian\n",
        "distribution. Knowing that an attribute has a skew may allow you to perform data preparation\n",
        "to correct the skew and later improve the accuracy of your models. You can calculate the skew\n",
        "of each attribute using the skew() function on the Pandas DataFrame.\n"
      ]
    },
    {
      "cell_type": "code",
      "metadata": {
        "id": "13BnHfOQjwqv",
        "colab_type": "code",
        "outputId": "276d452b-a003-4a66-bbdc-6cab07453b23",
        "colab": {
          "base_uri": "https://localhost:8080/",
          "height": 194
        }
      },
      "source": [
        "skew = data.skew()\n",
        "print(skew)"
      ],
      "execution_count": 80,
      "outputs": [
        {
          "output_type": "stream",
          "text": [
            "preg     0.902\n",
            "plas     0.174\n",
            "pres    -1.844\n",
            "skin     0.109\n",
            "test     2.272\n",
            "mass    -0.429\n",
            "pedi     1.920\n",
            "age      1.130\n",
            "class    0.635\n",
            "dtype: float64\n"
          ],
          "name": "stdout"
        }
      ]
    },
    {
      "cell_type": "markdown",
      "metadata": {
        "id": "1dQWxjCqkFYj",
        "colab_type": "text"
      },
      "source": [
        "# <b>Understand Your Data With Visualization</b>\n",
        "Univariate Plots\n",
        "Three techniques that you can use to understand each attribute of<br>\n",
        "your dataset independently.<br>\n",
        " Histograms.<br>\n",
        " Density Plots.<br>\n",
        " Box and Whisker Plots.<br>\n"
      ]
    },
    {
      "cell_type": "markdown",
      "metadata": {
        "id": "1aSsb3j5kjDc",
        "colab_type": "text"
      },
      "source": [
        "#<b>Histograms</b>\n",
        "A fast way to get an idea of the distribution of each attribute is to look at histograms. Histograms\n",
        "group data into bins and provide you a count of the number of observations in each bin. From\n",
        "the shape of the bins you can quickly get a feeling for whether an attribute is Gaussian, skewed\n",
        "or even has an exponential distribution. It can also help you see possible outliers."
      ]
    },
    {
      "cell_type": "code",
      "metadata": {
        "id": "0brS6D39kaWo",
        "colab_type": "code",
        "outputId": "e6a10a40-807a-4951-a7b9-05f54b11e8cc",
        "colab": {
          "base_uri": "https://localhost:8080/",
          "height": 228
        }
      },
      "source": [
        "data.hist()\n",
        "pyplot.show()"
      ],
      "execution_count": 81,
      "outputs": [
        {
          "output_type": "display_data",
          "data": {
            "image/png": "[encoded data removed]",
            "text/plain": [
              "<Figure size 324x216 with 9 Axes>"
            ]
          },
          "metadata": {
            "tags": []
          }
        }
      ]
    },
    {
      "cell_type": "markdown",
      "metadata": {
        "id": "RZ8Bl7yykFUD",
        "colab_type": "text"
      },
      "source": [
        "#<b>Observation</b>\n",
        "We can see that perhaps the attributes age, pedi and test may have an exponential\n",
        "distribution. We can also see that perhaps the mass and pres and plas attributes may have a\n",
        "Gaussian or nearly Gaussian distribution. This is interesting because many machine learning\n",
        "techniques assume a Gaussian univariate distribution on the input variables"
      ]
    },
    {
      "cell_type": "markdown",
      "metadata": {
        "id": "mIJTqFg9k1XS",
        "colab_type": "text"
      },
      "source": [
        "#<b> Density Plots</b>\n",
        "Density plots are another way of getting a quick idea of the distribution of each attribute. The\n",
        "plots look like an abstracted histogram with a smooth curve drawn through the top of each bin,\n",
        "much like your eye tried to do with the histograms."
      ]
    },
    {
      "cell_type": "code",
      "metadata": {
        "id": "PfSUj9n3k7Y9",
        "colab_type": "code",
        "outputId": "8a521256-88d1-484c-f798-771f2df251e8",
        "colab": {
          "base_uri": "https://localhost:8080/",
          "height": 212
        }
      },
      "source": [
        "data.plot(kind='density', subplots=True, layout=(3,3), sharex=False)\n",
        "pyplot.show()"
      ],
      "execution_count": 82,
      "outputs": [
        {
          "output_type": "display_data",
          "data": {
            "image/png": "[encoded data removed]",
            "text/plain": [
              "<Figure size 324x216 with 9 Axes>"
            ]
          },
          "metadata": {
            "tags": []
          }
        }
      ]
    },
    {
      "cell_type": "markdown",
      "metadata": {
        "id": "gc0nduBtruQ1",
        "colab_type": "text"
      },
      "source": [
        "#<b>Box and Whisker Plots</b>\n",
        "Another useful way to review the distribution of each attribute is to use Box and Whisker Plots\n",
        "or boxplots for short. Boxplots summarize the distribution of each attribute, drawing a line for\n",
        "the median (middle value) and a box around the 25th and 75th percentiles (the middle 50% of\n",
        "the data). The whiskers give an idea of the spread of the data and dots outside of the whiskers\n",
        "show candidate outlier values (values that are 1.5 times greater than the size of spread of the\n",
        "middle 50% of the data)."
      ]
    },
    {
      "cell_type": "code",
      "metadata": {
        "id": "RH7-JhE6rz79",
        "colab_type": "code",
        "outputId": "5813ff0f-b98c-440f-85c3-1ace15002fa1",
        "colab": {
          "base_uri": "https://localhost:8080/",
          "height": 215
        }
      },
      "source": [
        "data.plot(kind='box', subplots=True, layout=(3,3), sharex=False, sharey=False)\n",
        "pyplot.show()"
      ],
      "execution_count": 83,
      "outputs": [
        {
          "output_type": "display_data",
          "data": {
            "image/png": "[encoded data removed]",
            "text/plain": [
              "<Figure size 324x216 with 9 Axes>"
            ]
          },
          "metadata": {
            "tags": []
          }
        }
      ]
    },
    {
      "cell_type": "markdown",
      "metadata": {
        "id": "XWzKJRh2tHnM",
        "colab_type": "text"
      },
      "source": [
        "#<b>Multivariate Plots</b>\n",
        "This section provides examples of two plots that show the interactions between multiple variables<br>\n",
        "in your dataset.<br>\n",
        " Correlation Matrix Plot.<br>\n",
        " Scatter Plot Matrix."
      ]
    },
    {
      "cell_type": "markdown",
      "metadata": {
        "id": "8veG8PE1tVyi",
        "colab_type": "text"
      },
      "source": [
        "#<b>Correlation Matrix Plot</b>\n",
        "Correlation gives an indication of how related the changes are between two variables. If two\n",
        "variables change in the same direction they are positively correlated. If they change in opposite\n",
        "directions together (one goes up, one goes down), then they are negatively correlated. You can\n",
        "calculate the correlation between each pair of attributes. This is called a correlation matrix. You\n",
        "can then plot the correlation matrix and get an idea of which variables have a high correlation"
      ]
    },
    {
      "cell_type": "code",
      "metadata": {
        "id": "duXsR3gbtgwa",
        "colab_type": "code",
        "outputId": "31d29785-f5bc-449d-98be-b1892e616a6a",
        "colab": {
          "base_uri": "https://localhost:8080/",
          "height": 218
        }
      },
      "source": [
        "from matplotlib import pyplot\n",
        "from pandas import read_csv\n",
        "import numpy\n",
        "\n",
        "correlations = data.corr()\n",
        "# plot correlation matrix\n",
        "fig = pyplot.figure()\n",
        "ax = fig.add_subplot(111)\n",
        "cax = ax.matshow(correlations, vmin=-1, vmax=1)\n",
        "fig.colorbar(cax)\n",
        "ticks = numpy.arange(0,9,1)\n",
        "ax.set_xticks(ticks)\n",
        "ax.set_yticks(ticks)\n",
        "ax.set_xticklabels(names)\n",
        "ax.set_yticklabels(names)\n",
        "pyplot.show()"
      ],
      "execution_count": 84,
      "outputs": [
        {
          "output_type": "display_data",
          "data": {
            "image/png": "[encoded data removed]",
            "text/plain": [
              "<Figure size 324x216 with 2 Axes>"
            ]
          },
          "metadata": {
            "tags": []
          }
        }
      ]
    },
    {
      "cell_type": "markdown",
      "metadata": {
        "id": "Gluwkniltx32",
        "colab_type": "text"
      },
      "source": [
        "#<b> Scatter Plot Matrix</b>\n",
        "A scatter plot shows the relationship between two variables as dots in two dimensions, one\n",
        "axis for each attribute. You can create a scatter plot for each pair of attributes in your data.\n",
        "Drawing all these scatter plots together is called a scatter plot matrix. Scatter plots are useful\n",
        "for spotting structured relationships between variables, like whether you could summarize the\n",
        "relationship between two variables with a line. Attributes with structured relationships may\n",
        "also be correlated and good candidates for removal from your dataset."
      ]
    },
    {
      "cell_type": "code",
      "metadata": {
        "id": "LtBUlJFUt3d1",
        "colab_type": "code",
        "outputId": "a2a34d65-f0ae-4747-d88e-8f80da7bb8b5",
        "colab": {
          "base_uri": "https://localhost:8080/",
          "height": 240
        }
      },
      "source": [
        "from matplotlib import pyplot\n",
        "from pandas import read_csv\n",
        "from pandas.plotting import scatter_matrix\n",
        "scatter_matrix(data)\n",
        "pyplot.show()"
      ],
      "execution_count": 85,
      "outputs": [
        {
          "output_type": "display_data",
          "data": {
            "image/png": "[encoded data removed]",
            "text/plain": [
              "<Figure size 324x216 with 81 Axes>"
            ]
          },
          "metadata": {
            "tags": []
          }
        }
      ]
    },
    {
      "cell_type": "markdown",
      "metadata": {
        "id": "cQ_MTrjJy48z",
        "colab_type": "text"
      },
      "source": [
        "# <b>Inferential Statistics</b>\n",
        "Working with Sample & Population<br>\n",
        "<br>\n",
        "<br>\n",
        "<br>\n",
        "<img src=\"https://www.cliffsnotes.com/assets/267169.png\" width=\"450\" height=\"250\" > \n",
        "<br>\n",
        "<br>\n",
        "<b> What is population?</b><br>\n",
        " population refers to the total set of observations that can be made<br>\n",
        "<b> What is sample? </b><br>\n",
        "A sample refers to a set of observations drawn from a population<br>"
      ]
    },
    {
      "cell_type": "code",
      "metadata": {
        "id": "TzeLvxfj0ebR",
        "colab_type": "code",
        "colab": {}
      },
      "source": [
        "import pandas as pd\n",
        "import numpy as np"
      ],
      "execution_count": 0,
      "outputs": []
    },
    {
      "cell_type": "markdown",
      "metadata": {
        "id": "TegsNklE0vgH",
        "colab_type": "text"
      },
      "source": [
        "# Generate random dataset"
      ]
    },
    {
      "cell_type": "code",
      "metadata": {
        "id": "d0eS5wnZ0ubi",
        "colab_type": "code",
        "outputId": "627c194e-0dfc-40e3-9e03-3e0c79d7f147",
        "colab": {
          "base_uri": "https://localhost:8080/",
          "height": 34
        }
      },
      "source": [
        "# Generate random data for regression problem\n",
        "from sklearn.datasets import make_regression\n",
        "\n",
        "X, y = make_regression(n_samples=1000, n_features=5)\n",
        "print(X.shape, y.shape)"
      ],
      "execution_count": 87,
      "outputs": [
        {
          "output_type": "stream",
          "text": [
            "(1000, 5) (1000,)\n"
          ],
          "name": "stdout"
        }
      ]
    },
    {
      "cell_type": "code",
      "metadata": {
        "id": "rj00POPG05OO",
        "colab_type": "code",
        "outputId": "e8fd465d-d2cb-470b-c109-0e86493e0a2b",
        "colab": {
          "base_uri": "https://localhost:8080/",
          "height": 287
        }
      },
      "source": [
        "df = pd.DataFrame(X, columns=[\"x1\",\"x2\",\"x3\",\"x4\",\"x5\"])\n",
        "df['y'] = y\n",
        "df.describe()"
      ],
      "execution_count": 88,
      "outputs": [
        {
          "output_type": "execute_result",
          "data": {
            "text/html": [
              "<div>\n",
              "<style scoped>\n",
              "    .dataframe tbody tr th:only-of-type {\n",
              "        vertical-align: middle;\n",
              "    }\n",
              "\n",
              "    .dataframe tbody tr th {\n",
              "        vertical-align: top;\n",
              "    }\n",
              "\n",
              "    .dataframe thead th {\n",
              "        text-align: right;\n",
              "    }\n",
              "</style>\n",
              "<table border=\"1\" class=\"dataframe\">\n",
              "  <thead>\n",
              "    <tr style=\"text-align: right;\">\n",
              "      <th></th>\n",
              "      <th>x1</th>\n",
              "      <th>x2</th>\n",
              "      <th>x3</th>\n",
              "      <th>x4</th>\n",
              "      <th>x5</th>\n",
              "      <th>y</th>\n",
              "    </tr>\n",
              "  </thead>\n",
              "  <tbody>\n",
              "    <tr>\n",
              "      <th>count</th>\n",
              "      <td>1000.000</td>\n",
              "      <td>1000.000</td>\n",
              "      <td>1000.000</td>\n",
              "      <td>1000.000</td>\n",
              "      <td>1000.000</td>\n",
              "      <td>1000.000</td>\n",
              "    </tr>\n",
              "    <tr>\n",
              "      <th>mean</th>\n",
              "      <td>0.005</td>\n",
              "      <td>0.017</td>\n",
              "      <td>-0.008</td>\n",
              "      <td>0.048</td>\n",
              "      <td>-0.045</td>\n",
              "      <td>1.876</td>\n",
              "    </tr>\n",
              "    <tr>\n",
              "      <th>std</th>\n",
              "      <td>1.020</td>\n",
              "      <td>0.959</td>\n",
              "      <td>1.007</td>\n",
              "      <td>1.004</td>\n",
              "      <td>0.995</td>\n",
              "      <td>120.346</td>\n",
              "    </tr>\n",
              "    <tr>\n",
              "      <th>min</th>\n",
              "      <td>-4.225</td>\n",
              "      <td>-3.308</td>\n",
              "      <td>-2.901</td>\n",
              "      <td>-3.203</td>\n",
              "      <td>-3.418</td>\n",
              "      <td>-418.926</td>\n",
              "    </tr>\n",
              "    <tr>\n",
              "      <th>25%</th>\n",
              "      <td>-0.660</td>\n",
              "      <td>-0.605</td>\n",
              "      <td>-0.713</td>\n",
              "      <td>-0.624</td>\n",
              "      <td>-0.694</td>\n",
              "      <td>-79.236</td>\n",
              "    </tr>\n",
              "    <tr>\n",
              "      <th>50%</th>\n",
              "      <td>0.022</td>\n",
              "      <td>0.032</td>\n",
              "      <td>-0.010</td>\n",
              "      <td>0.073</td>\n",
              "      <td>-0.032</td>\n",
              "      <td>4.594</td>\n",
              "    </tr>\n",
              "    <tr>\n",
              "      <th>75%</th>\n",
              "      <td>0.656</td>\n",
              "      <td>0.638</td>\n",
              "      <td>0.697</td>\n",
              "      <td>0.723</td>\n",
              "      <td>0.648</td>\n",
              "      <td>79.955</td>\n",
              "    </tr>\n",
              "    <tr>\n",
              "      <th>max</th>\n",
              "      <td>3.162</td>\n",
              "      <td>3.122</td>\n",
              "      <td>3.213</td>\n",
              "      <td>3.089</td>\n",
              "      <td>2.818</td>\n",
              "      <td>390.121</td>\n",
              "    </tr>\n",
              "  </tbody>\n",
              "</table>\n",
              "</div>"
            ],
            "text/plain": [
              "             x1        x2        x3        x4        x5         y\n",
              "count  1000.000  1000.000  1000.000  1000.000  1000.000  1000.000\n",
              "mean      0.005     0.017    -0.008     0.048    -0.045     1.876\n",
              "std       1.020     0.959     1.007     1.004     0.995   120.346\n",
              "min      -4.225    -3.308    -2.901    -3.203    -3.418  -418.926\n",
              "25%      -0.660    -0.605    -0.713    -0.624    -0.694   -79.236\n",
              "50%       0.022     0.032    -0.010     0.073    -0.032     4.594\n",
              "75%       0.656     0.638     0.697     0.723     0.648    79.955\n",
              "max       3.162     3.122     3.213     3.089     2.818   390.121"
            ]
          },
          "metadata": {
            "tags": []
          },
          "execution_count": 88
        }
      ]
    },
    {
      "cell_type": "code",
      "metadata": {
        "id": "CCLq9xry0_IL",
        "colab_type": "code",
        "outputId": "f5979797-9f97-414c-d3b2-a28d3acc9d71",
        "colab": {
          "base_uri": "https://localhost:8080/",
          "height": 52
        }
      },
      "source": [
        "print(\"Mean of target \\\"y\\\":\", y.mean())\n",
        "print(\"Variance in data:\", y.var())"
      ],
      "execution_count": 89,
      "outputs": [
        {
          "output_type": "stream",
          "text": [
            "Mean of target \"y\": 1.8764145978018913\n",
            "Variance in data: 14468.678905577377\n"
          ],
          "name": "stdout"
        }
      ]
    },
    {
      "cell_type": "markdown",
      "metadata": {
        "id": "Wf5sKQy21DuL",
        "colab_type": "text"
      },
      "source": [
        "# Draw samples from the population and calculate their mean values"
      ]
    },
    {
      "cell_type": "code",
      "metadata": {
        "id": "0rSfw5KV1Hrx",
        "colab_type": "code",
        "colab": {}
      },
      "source": [
        "sample_size = 500\n",
        "sample = df.sample(n=sample_size, random_state=1)"
      ],
      "execution_count": 0,
      "outputs": []
    },
    {
      "cell_type": "code",
      "metadata": {
        "id": "7B1FsS-D1K0V",
        "colab_type": "code",
        "outputId": "02088808-122a-432d-cba5-30574d7b2a36",
        "colab": {
          "base_uri": "https://localhost:8080/",
          "height": 52
        }
      },
      "source": [
        "print(\"Sample mean is %.2f compared with population mean of %.2f\" %(sample.y.mean(), df.y.mean()))\n",
        "print(\"Diff betweeen sample and population mean:\", sample.y.mean() - df.y.mean())"
      ],
      "execution_count": 91,
      "outputs": [
        {
          "output_type": "stream",
          "text": [
            "Sample mean is 11.03 compared with population mean of 1.88\n",
            "Diff betweeen sample and population mean: 9.158454578271293\n"
          ],
          "name": "stdout"
        }
      ]
    },
    {
      "cell_type": "code",
      "metadata": {
        "id": "BBDGzbmg1PKM",
        "colab_type": "code",
        "outputId": "0b91aadc-6a41-4141-872c-25b20fb1ea90",
        "colab": {
          "base_uri": "https://localhost:8080/",
          "height": 52
        }
      },
      "source": [
        "np.random.seed(1)\n",
        "sample_y = np.random.choice(a = df[\"y\"], size = sample_size)\n",
        "\n",
        "print(\"Sample mean is %.2f compared with population mean of %.2f\" %(sample_y.mean(), df.y.mean()))\n",
        "print(\"Diff betweeen sample and population mean:\", sample_y.mean() - df.y.mean())"
      ],
      "execution_count": 92,
      "outputs": [
        {
          "output_type": "stream",
          "text": [
            "Sample mean is -5.60 compared with population mean of 1.88\n",
            "Diff betweeen sample and population mean: -7.474890624790555\n"
          ],
          "name": "stdout"
        }
      ]
    },
    {
      "cell_type": "markdown",
      "metadata": {
        "id": "Mc2SJZ3g6DQm",
        "colab_type": "text"
      },
      "source": [
        "# <b>Prepare Your Data For Machine Learning</b>\n",
        "<b>Rescale the data</b><br>\n",
        "When your data is comprised of attributes with varying scales, many machine learning algorithms\n",
        "can benefit from rescaling the attributes to all have the same scale. Often this is referred to\n",
        "as normalization and attributes are often rescaled into the range between 0 and 1. This is\n",
        "useful for optimization algorithms used in the core of machine learning algorithms like gradient\n",
        "descent. It is also useful for algorithms that weight inputs like regression and neural networks\n",
        "and algorithms that use distance measures like k-Nearest Neighbors. You can rescale your data\n",
        "using scikit-learn using the MinMaxScaler class2"
      ]
    },
    {
      "cell_type": "code",
      "metadata": {
        "id": "jr-fHaaF1P26",
        "colab_type": "code",
        "colab": {
          "base_uri": "https://localhost:8080/",
          "height": 105
        },
        "outputId": "3373e1cd-000f-462f-a37d-48e6e973d21a"
      },
      "source": [
        "# Rescale data (between 0 and 1)\n",
        "from pandas import read_csv\n",
        "from numpy import set_printoptions\n",
        "from sklearn.preprocessing import MinMaxScaler\n",
        "filename = '/content/pima-indians-diabetes.csv'\n",
        "names = ['preg', 'plas', 'pres', 'skin', 'test', 'mass', 'pedi', 'age', 'class']\n",
        "dataframe = read_csv(filename, names=names)\n",
        "array = dataframe.values\n",
        "# separate array into input and output components\n",
        "X = array[:,0:8]\n",
        "Y = array[:,8]\n",
        "scaler = MinMaxScaler(feature_range=(0, 1))\n",
        "rescaledX = scaler.fit_transform(X)\n",
        "# summarize transformed data\n",
        "set_printoptions(precision=3)\n",
        "print(rescaledX[0:5,:])\n"
      ],
      "execution_count": 93,
      "outputs": [
        {
          "output_type": "stream",
          "text": [
            "[[0.353 0.744 0.59  0.354 0.    0.501 0.234 0.483]\n",
            " [0.059 0.427 0.541 0.293 0.    0.396 0.117 0.167]\n",
            " [0.471 0.92  0.525 0.    0.    0.347 0.254 0.183]\n",
            " [0.059 0.447 0.541 0.232 0.111 0.419 0.038 0.   ]\n",
            " [0.    0.688 0.328 0.354 0.199 0.642 0.944 0.2  ]]\n"
          ],
          "name": "stdout"
        }
      ]
    },
    {
      "cell_type": "markdown",
      "metadata": {
        "id": "81L7JJTR8C-x",
        "colab_type": "text"
      },
      "source": [
        "#<b>Standardize Data</b>\n",
        "Standardization is a useful technique to transform attributes with a Gaussian distribution and\n",
        "differing means and standard deviations to a standard Gaussian distribution with a mean of\n",
        "0 and a standard deviation of 1. It is most suitable for techniques that assume a Gaussian\n",
        "distribution in the input variables and work better with rescaled data, such as linear regression,\n",
        "logistic regression and linear discriminate analysis. You can standardize data using scikit-learn\n",
        "with the StandardScaler class3\n",
        "."
      ]
    },
    {
      "cell_type": "code",
      "metadata": {
        "id": "hpxAh-zu8Jbu",
        "colab_type": "code",
        "colab": {
          "base_uri": "https://localhost:8080/",
          "height": 105
        },
        "outputId": "08090f68-b864-4b37-ee5f-7654bb217668"
      },
      "source": [
        "# Standardize data (0 mean, 1 stdev)\n",
        "from sklearn.preprocessing import StandardScaler\n",
        "from pandas import read_csv\n",
        "from numpy import set_printoptions\n",
        "filename = '/content/pima-indians-diabetes.csv'\n",
        "names = ['preg', 'plas', 'pres', 'skin', 'test', 'mass', 'pedi', 'age', 'class']\n",
        "dataframe = read_csv(filename, names=names)\n",
        "array = dataframe.values\n",
        "# separate array into input and output components\n",
        "X = array[:,0:8]\n",
        "Y = array[:,8]\n",
        "scaler = StandardScaler().fit(X)\n",
        "rescaledX = scaler.transform(X)\n",
        "# summarize transformed data\n",
        "set_printoptions(precision=3)\n",
        "print(rescaledX[0:5,:])\n"
      ],
      "execution_count": 94,
      "outputs": [
        {
          "output_type": "stream",
          "text": [
            "[[ 0.64   0.848  0.15   0.907 -0.693  0.204  0.468  1.426]\n",
            " [-0.845 -1.123 -0.161  0.531 -0.693 -0.684 -0.365 -0.191]\n",
            " [ 1.234  1.944 -0.264 -1.288 -0.693 -1.103  0.604 -0.106]\n",
            " [-0.845 -0.998 -0.161  0.155  0.123 -0.494 -0.921 -1.042]\n",
            " [-1.142  0.504 -1.505  0.907  0.766  1.41   5.485 -0.02 ]]\n"
          ],
          "name": "stdout"
        }
      ]
    },
    {
      "cell_type": "markdown",
      "metadata": {
        "id": "3Bc0j5FI8Nxz",
        "colab_type": "text"
      },
      "source": [
        "#<b>Normalize Data</b>\n",
        "Normalizing in scikit-learn refers to rescaling each observation (row) to have a length of 1 (called\n",
        "a unit norm or a vector with the length of 1 in linear algebra). This pre-processing method\n",
        "can be useful for sparse datasets (lots of zeros) with attributes of varying scales when using\n",
        "algorithms that weight input values such as neural networks and algorithms that use distance\n",
        "measures such as k-Nearest Neighbors. You can normalize data in Python with scikit-learn\n",
        "using the Normalizer class4\n",
        "."
      ]
    },
    {
      "cell_type": "code",
      "metadata": {
        "id": "CHZa4lIS8adb",
        "colab_type": "code",
        "colab": {
          "base_uri": "https://localhost:8080/",
          "height": 105
        },
        "outputId": "c4f01357-2446-4c3a-e08d-1f72c1b8b4d6"
      },
      "source": [
        "# Normalize data (length of 1)\n",
        "from sklearn.preprocessing import Normalizer\n",
        "from pandas import read_csv\n",
        "from numpy import set_printoptions\n",
        "filename = '/content/pima-indians-diabetes.csv'\n",
        "names = ['preg', 'plas', 'pres', 'skin', 'test', 'mass', 'pedi', 'age', 'class']\n",
        "dataframe = read_csv(filename, names=names)\n",
        "array = dataframe.values\n",
        "# separate array into input and output components\n",
        "X = array[:,0:8]\n",
        "Y = array[:,8]\n",
        "scaler = Normalizer().fit(X)\n",
        "normalizedX = scaler.transform(X)\n",
        "# summarize transformed data\n",
        "set_printoptions(precision=3)\n",
        "print(normalizedX[0:5,:])\n"
      ],
      "execution_count": 95,
      "outputs": [
        {
          "output_type": "stream",
          "text": [
            "[[0.034 0.828 0.403 0.196 0.    0.188 0.004 0.28 ]\n",
            " [0.008 0.716 0.556 0.244 0.    0.224 0.003 0.261]\n",
            " [0.04  0.924 0.323 0.    0.    0.118 0.003 0.162]\n",
            " [0.007 0.588 0.436 0.152 0.622 0.186 0.001 0.139]\n",
            " [0.    0.596 0.174 0.152 0.731 0.188 0.01  0.144]]\n"
          ],
          "name": "stdout"
        }
      ]
    },
    {
      "cell_type": "markdown",
      "metadata": {
        "id": "_gXh0hky8nMT",
        "colab_type": "text"
      },
      "source": [
        "#<b>Binarize Data (Make Binary)</b>\n",
        "You can transform your data using a binary threshold. All values above the threshold are\n",
        "marked 1 and all equal to or below are marked as 0. This is called binarizing your data or\n",
        "thresholding your data. It can be useful when you have probabilities that you want to make crisp\n",
        "values. It is also useful when feature engineering and you want to add new features that indicate\n",
        "something meaningful. You can create new binary attributes in Python using scikit-learn with\n",
        "the Binarizer class5\n",
        ".\n"
      ]
    },
    {
      "cell_type": "code",
      "metadata": {
        "id": "vEdxbmze8mQQ",
        "colab_type": "code",
        "colab": {
          "base_uri": "https://localhost:8080/",
          "height": 105
        },
        "outputId": "a0215afc-2d0a-4047-a9f9-e2243c254348"
      },
      "source": [
        "# binarization\n",
        "from sklearn.preprocessing import Binarizer\n",
        "from pandas import read_csv\n",
        "from numpy import set_printoptions\n",
        "filename = '/content/pima-indians-diabetes.csv'\n",
        "names = ['preg', 'plas', 'pres', 'skin', 'test', 'mass', 'pedi', 'age', 'class']\n",
        "dataframe = read_csv(filename, names=names)\n",
        "array = dataframe.values\n",
        "# separate array into input and output components\n",
        "X = array[:,0:8]\n",
        "Y = array[:,8]\n",
        "binarizer = Binarizer(threshold=0.0).fit(X)\n",
        "binaryX = binarizer.transform(X)\n",
        "# summarize transformed data\n",
        "set_printoptions(precision=3)\n",
        "print(binaryX[0:5,:])\n"
      ],
      "execution_count": 96,
      "outputs": [
        {
          "output_type": "stream",
          "text": [
            "[[1. 1. 1. 1. 0. 1. 1. 1.]\n",
            " [1. 1. 1. 1. 0. 1. 1. 1.]\n",
            " [1. 1. 1. 0. 0. 1. 1. 1.]\n",
            " [1. 1. 1. 1. 1. 1. 1. 1.]\n",
            " [0. 1. 1. 1. 1. 1. 1. 1.]]\n"
          ],
          "name": "stdout"
        }
      ]
    },
    {
      "cell_type": "markdown",
      "metadata": {
        "id": "YSmMHygzONmO",
        "colab_type": "text"
      },
      "source": [
        "# <b> Linear Regression using diabetes dataset</b>\n",
        "\n",
        " <img src=\"https://cdn4.iconfinder.com/data/icons/medical-14/512/13-512.png\" width=\"250\" height=\"250\" > \n",
        " <br>\n",
        " <br>\n",
        "<b>Import dataset\n"
      ]
    },
    {
      "cell_type": "code",
      "metadata": {
        "id": "EOfYlhdqOSKg",
        "colab_type": "code",
        "colab": {
          "base_uri": "https://localhost:8080/",
          "height": 406
        },
        "outputId": "7135b012-8a20-4da2-cad7-53183da8ce58"
      },
      "source": [
        "from sklearn.preprocessing import Binarizer\n",
        "from pandas import read_csv\n",
        "from numpy import set_printoptions\n",
        "filename = '/content/pima-indians-diabetes.csv'\n",
        "names = ['preg', 'plas', 'pres', 'skin', 'test', 'mass', 'pedi', 'age', 'class']\n",
        "diabetes = read_csv(filename, names=names)\n",
        "diabetes"
      ],
      "execution_count": 97,
      "outputs": [
        {
          "output_type": "execute_result",
          "data": {
            "text/html": [
              "<div>\n",
              "<style scoped>\n",
              "    .dataframe tbody tr th:only-of-type {\n",
              "        vertical-align: middle;\n",
              "    }\n",
              "\n",
              "    .dataframe tbody tr th {\n",
              "        vertical-align: top;\n",
              "    }\n",
              "\n",
              "    .dataframe thead th {\n",
              "        text-align: right;\n",
              "    }\n",
              "</style>\n",
              "<table border=\"1\" class=\"dataframe\">\n",
              "  <thead>\n",
              "    <tr style=\"text-align: right;\">\n",
              "      <th></th>\n",
              "      <th>preg</th>\n",
              "      <th>plas</th>\n",
              "      <th>pres</th>\n",
              "      <th>skin</th>\n",
              "      <th>test</th>\n",
              "      <th>mass</th>\n",
              "      <th>pedi</th>\n",
              "      <th>age</th>\n",
              "      <th>class</th>\n",
              "    </tr>\n",
              "  </thead>\n",
              "  <tbody>\n",
              "    <tr>\n",
              "      <th>0</th>\n",
              "      <td>6</td>\n",
              "      <td>148</td>\n",
              "      <td>72</td>\n",
              "      <td>35</td>\n",
              "      <td>0</td>\n",
              "      <td>33.6</td>\n",
              "      <td>0.627</td>\n",
              "      <td>50</td>\n",
              "      <td>1</td>\n",
              "    </tr>\n",
              "    <tr>\n",
              "      <th>1</th>\n",
              "      <td>1</td>\n",
              "      <td>85</td>\n",
              "      <td>66</td>\n",
              "      <td>29</td>\n",
              "      <td>0</td>\n",
              "      <td>26.6</td>\n",
              "      <td>0.351</td>\n",
              "      <td>31</td>\n",
              "      <td>0</td>\n",
              "    </tr>\n",
              "    <tr>\n",
              "      <th>2</th>\n",
              "      <td>8</td>\n",
              "      <td>183</td>\n",
              "      <td>64</td>\n",
              "      <td>0</td>\n",
              "      <td>0</td>\n",
              "      <td>23.3</td>\n",
              "      <td>0.672</td>\n",
              "      <td>32</td>\n",
              "      <td>1</td>\n",
              "    </tr>\n",
              "    <tr>\n",
              "      <th>3</th>\n",
              "      <td>1</td>\n",
              "      <td>89</td>\n",
              "      <td>66</td>\n",
              "      <td>23</td>\n",
              "      <td>94</td>\n",
              "      <td>28.1</td>\n",
              "      <td>0.167</td>\n",
              "      <td>21</td>\n",
              "      <td>0</td>\n",
              "    </tr>\n",
              "    <tr>\n",
              "      <th>4</th>\n",
              "      <td>0</td>\n",
              "      <td>137</td>\n",
              "      <td>40</td>\n",
              "      <td>35</td>\n",
              "      <td>168</td>\n",
              "      <td>43.1</td>\n",
              "      <td>2.288</td>\n",
              "      <td>33</td>\n",
              "      <td>1</td>\n",
              "    </tr>\n",
              "    <tr>\n",
              "      <th>...</th>\n",
              "      <td>...</td>\n",
              "      <td>...</td>\n",
              "      <td>...</td>\n",
              "      <td>...</td>\n",
              "      <td>...</td>\n",
              "      <td>...</td>\n",
              "      <td>...</td>\n",
              "      <td>...</td>\n",
              "      <td>...</td>\n",
              "    </tr>\n",
              "    <tr>\n",
              "      <th>763</th>\n",
              "      <td>10</td>\n",
              "      <td>101</td>\n",
              "      <td>76</td>\n",
              "      <td>48</td>\n",
              "      <td>180</td>\n",
              "      <td>32.9</td>\n",
              "      <td>0.171</td>\n",
              "      <td>63</td>\n",
              "      <td>0</td>\n",
              "    </tr>\n",
              "    <tr>\n",
              "      <th>764</th>\n",
              "      <td>2</td>\n",
              "      <td>122</td>\n",
              "      <td>70</td>\n",
              "      <td>27</td>\n",
              "      <td>0</td>\n",
              "      <td>36.8</td>\n",
              "      <td>0.340</td>\n",
              "      <td>27</td>\n",
              "      <td>0</td>\n",
              "    </tr>\n",
              "    <tr>\n",
              "      <th>765</th>\n",
              "      <td>5</td>\n",
              "      <td>121</td>\n",
              "      <td>72</td>\n",
              "      <td>23</td>\n",
              "      <td>112</td>\n",
              "      <td>26.2</td>\n",
              "      <td>0.245</td>\n",
              "      <td>30</td>\n",
              "      <td>0</td>\n",
              "    </tr>\n",
              "    <tr>\n",
              "      <th>766</th>\n",
              "      <td>1</td>\n",
              "      <td>126</td>\n",
              "      <td>60</td>\n",
              "      <td>0</td>\n",
              "      <td>0</td>\n",
              "      <td>30.1</td>\n",
              "      <td>0.349</td>\n",
              "      <td>47</td>\n",
              "      <td>1</td>\n",
              "    </tr>\n",
              "    <tr>\n",
              "      <th>767</th>\n",
              "      <td>1</td>\n",
              "      <td>93</td>\n",
              "      <td>70</td>\n",
              "      <td>31</td>\n",
              "      <td>0</td>\n",
              "      <td>30.4</td>\n",
              "      <td>0.315</td>\n",
              "      <td>23</td>\n",
              "      <td>0</td>\n",
              "    </tr>\n",
              "  </tbody>\n",
              "</table>\n",
              "<p>768 rows × 9 columns</p>\n",
              "</div>"
            ],
            "text/plain": [
              "     preg  plas  pres  skin  test  mass   pedi  age  class\n",
              "0       6   148    72    35     0  33.6  0.627   50      1\n",
              "1       1    85    66    29     0  26.6  0.351   31      0\n",
              "2       8   183    64     0     0  23.3  0.672   32      1\n",
              "3       1    89    66    23    94  28.1  0.167   21      0\n",
              "4       0   137    40    35   168  43.1  2.288   33      1\n",
              "..    ...   ...   ...   ...   ...   ...    ...  ...    ...\n",
              "763    10   101    76    48   180  32.9  0.171   63      0\n",
              "764     2   122    70    27     0  36.8  0.340   27      0\n",
              "765     5   121    72    23   112  26.2  0.245   30      0\n",
              "766     1   126    60     0     0  30.1  0.349   47      1\n",
              "767     1    93    70    31     0  30.4  0.315   23      0\n",
              "\n",
              "[768 rows x 9 columns]"
            ]
          },
          "metadata": {
            "tags": []
          },
          "execution_count": 97
        }
      ]
    },
    {
      "cell_type": "markdown",
      "metadata": {
        "id": "mDg3ytubddc2",
        "colab_type": "text"
      },
      "source": [
        "#Information about the dataset\n",
        "<b>datatype of each column"
      ]
    },
    {
      "cell_type": "code",
      "metadata": {
        "id": "-4_MZ0s6OcuS",
        "colab_type": "code",
        "colab": {
          "base_uri": "https://localhost:8080/",
          "height": 265
        },
        "outputId": "c0d15521-47ad-473c-ae38-472e8d3a5784"
      },
      "source": [
        "diabetes.info()"
      ],
      "execution_count": 98,
      "outputs": [
        {
          "output_type": "stream",
          "text": [
            "<class 'pandas.core.frame.DataFrame'>\n",
            "RangeIndex: 768 entries, 0 to 767\n",
            "Data columns (total 9 columns):\n",
            "preg     768 non-null int64\n",
            "plas     768 non-null int64\n",
            "pres     768 non-null int64\n",
            "skin     768 non-null int64\n",
            "test     768 non-null int64\n",
            "mass     768 non-null float64\n",
            "pedi     768 non-null float64\n",
            "age      768 non-null int64\n",
            "class    768 non-null int64\n",
            "dtypes: float64(2), int64(7)\n",
            "memory usage: 54.1 KB\n"
          ],
          "name": "stdout"
        }
      ]
    },
    {
      "cell_type": "markdown",
      "metadata": {
        "id": "W4UPwSBvdo1o",
        "colab_type": "text"
      },
      "source": [
        "#Correlation between all the columns in the dataset"
      ]
    },
    {
      "cell_type": "code",
      "metadata": {
        "id": "VXpNtI0hOrt8",
        "colab_type": "code",
        "colab": {
          "base_uri": "https://localhost:8080/",
          "height": 431
        },
        "outputId": "7e0f216b-170b-4ed7-e5f2-a20586038957"
      },
      "source": [
        "corr=diabetes.corr()\n",
        "print(corr)\n",
        "sns.heatmap(corr, \n",
        "         xticklabels=corr.columns, \n",
        "         yticklabels=corr.columns)"
      ],
      "execution_count": 99,
      "outputs": [
        {
          "output_type": "stream",
          "text": [
            "        preg   plas   pres   skin   test   mass   pedi    age  class\n",
            "preg   1.000  0.129  0.141 -0.082 -0.074  0.018 -0.034  0.544  0.222\n",
            "plas   0.129  1.000  0.153  0.057  0.331  0.221  0.137  0.264  0.467\n",
            "pres   0.141  0.153  1.000  0.207  0.089  0.282  0.041  0.240  0.065\n",
            "skin  -0.082  0.057  0.207  1.000  0.437  0.393  0.184 -0.114  0.075\n",
            "test  -0.074  0.331  0.089  0.437  1.000  0.198  0.185 -0.042  0.131\n",
            "mass   0.018  0.221  0.282  0.393  0.198  1.000  0.141  0.036  0.293\n",
            "pedi  -0.034  0.137  0.041  0.184  0.185  0.141  1.000  0.034  0.174\n",
            "age    0.544  0.264  0.240 -0.114 -0.042  0.036  0.034  1.000  0.238\n",
            "class  0.222  0.467  0.065  0.075  0.131  0.293  0.174  0.238  1.000\n"
          ],
          "name": "stdout"
        },
        {
          "output_type": "execute_result",
          "data": {
            "text/plain": [
              "<matplotlib.axes._subplots.AxesSubplot at 0x7f69d925a240>"
            ]
          },
          "metadata": {
            "tags": []
          },
          "execution_count": 99
        },
        {
          "output_type": "display_data",
          "data": {
            "image/png": "[encoded data removed]",
            "text/plain": [
              "<Figure size 324x216 with 2 Axes>"
            ]
          },
          "metadata": {
            "tags": []
          }
        }
      ]
    },
    {
      "cell_type": "markdown",
      "metadata": {
        "id": "IdQGuQtEPbzl",
        "colab_type": "text"
      },
      "source": [
        "# Shape of the data\n",
        "The data set consists of record of 767 patients in total. To train our model we will be using 650 records. We will be using 100 records for testing, and the last 17 records to cross check our model"
      ]
    },
    {
      "cell_type": "code",
      "metadata": {
        "id": "ufXYl0eBOwOc",
        "colab_type": "code",
        "colab": {
          "base_uri": "https://localhost:8080/",
          "height": 34
        },
        "outputId": "e44e91c0-d142-44eb-b01d-540a96217e70"
      },
      "source": [
        "  diabetes.shape"
      ],
      "execution_count": 100,
      "outputs": [
        {
          "output_type": "execute_result",
          "data": {
            "text/plain": [
              "(768, 9)"
            ]
          },
          "metadata": {
            "tags": []
          },
          "execution_count": 100
        }
      ]
    },
    {
      "cell_type": "markdown",
      "metadata": {
        "id": "EjAQvrn9j4Xt",
        "colab_type": "text"
      },
      "source": [
        "#<b>Full dataset</b>"
      ]
    },
    {
      "cell_type": "code",
      "metadata": {
        "id": "0R3j3LsUP4vU",
        "colab_type": "code",
        "colab": {
          "base_uri": "https://localhost:8080/",
          "height": 406
        },
        "outputId": "d52d336d-676f-4f1c-f32f-f23ee52165b1"
      },
      "source": [
        "diabetes"
      ],
      "execution_count": 101,
      "outputs": [
        {
          "output_type": "execute_result",
          "data": {
            "text/html": [
              "<div>\n",
              "<style scoped>\n",
              "    .dataframe tbody tr th:only-of-type {\n",
              "        vertical-align: middle;\n",
              "    }\n",
              "\n",
              "    .dataframe tbody tr th {\n",
              "        vertical-align: top;\n",
              "    }\n",
              "\n",
              "    .dataframe thead th {\n",
              "        text-align: right;\n",
              "    }\n",
              "</style>\n",
              "<table border=\"1\" class=\"dataframe\">\n",
              "  <thead>\n",
              "    <tr style=\"text-align: right;\">\n",
              "      <th></th>\n",
              "      <th>preg</th>\n",
              "      <th>plas</th>\n",
              "      <th>pres</th>\n",
              "      <th>skin</th>\n",
              "      <th>test</th>\n",
              "      <th>mass</th>\n",
              "      <th>pedi</th>\n",
              "      <th>age</th>\n",
              "      <th>class</th>\n",
              "    </tr>\n",
              "  </thead>\n",
              "  <tbody>\n",
              "    <tr>\n",
              "      <th>0</th>\n",
              "      <td>6</td>\n",
              "      <td>148</td>\n",
              "      <td>72</td>\n",
              "      <td>35</td>\n",
              "      <td>0</td>\n",
              "      <td>33.6</td>\n",
              "      <td>0.627</td>\n",
              "      <td>50</td>\n",
              "      <td>1</td>\n",
              "    </tr>\n",
              "    <tr>\n",
              "      <th>1</th>\n",
              "      <td>1</td>\n",
              "      <td>85</td>\n",
              "      <td>66</td>\n",
              "      <td>29</td>\n",
              "      <td>0</td>\n",
              "      <td>26.6</td>\n",
              "      <td>0.351</td>\n",
              "      <td>31</td>\n",
              "      <td>0</td>\n",
              "    </tr>\n",
              "    <tr>\n",
              "      <th>2</th>\n",
              "      <td>8</td>\n",
              "      <td>183</td>\n",
              "      <td>64</td>\n",
              "      <td>0</td>\n",
              "      <td>0</td>\n",
              "      <td>23.3</td>\n",
              "      <td>0.672</td>\n",
              "      <td>32</td>\n",
              "      <td>1</td>\n",
              "    </tr>\n",
              "    <tr>\n",
              "      <th>3</th>\n",
              "      <td>1</td>\n",
              "      <td>89</td>\n",
              "      <td>66</td>\n",
              "      <td>23</td>\n",
              "      <td>94</td>\n",
              "      <td>28.1</td>\n",
              "      <td>0.167</td>\n",
              "      <td>21</td>\n",
              "      <td>0</td>\n",
              "    </tr>\n",
              "    <tr>\n",
              "      <th>4</th>\n",
              "      <td>0</td>\n",
              "      <td>137</td>\n",
              "      <td>40</td>\n",
              "      <td>35</td>\n",
              "      <td>168</td>\n",
              "      <td>43.1</td>\n",
              "      <td>2.288</td>\n",
              "      <td>33</td>\n",
              "      <td>1</td>\n",
              "    </tr>\n",
              "    <tr>\n",
              "      <th>...</th>\n",
              "      <td>...</td>\n",
              "      <td>...</td>\n",
              "      <td>...</td>\n",
              "      <td>...</td>\n",
              "      <td>...</td>\n",
              "      <td>...</td>\n",
              "      <td>...</td>\n",
              "      <td>...</td>\n",
              "      <td>...</td>\n",
              "    </tr>\n",
              "    <tr>\n",
              "      <th>763</th>\n",
              "      <td>10</td>\n",
              "      <td>101</td>\n",
              "      <td>76</td>\n",
              "      <td>48</td>\n",
              "      <td>180</td>\n",
              "      <td>32.9</td>\n",
              "      <td>0.171</td>\n",
              "      <td>63</td>\n",
              "      <td>0</td>\n",
              "    </tr>\n",
              "    <tr>\n",
              "      <th>764</th>\n",
              "      <td>2</td>\n",
              "      <td>122</td>\n",
              "      <td>70</td>\n",
              "      <td>27</td>\n",
              "      <td>0</td>\n",
              "      <td>36.8</td>\n",
              "      <td>0.340</td>\n",
              "      <td>27</td>\n",
              "      <td>0</td>\n",
              "    </tr>\n",
              "    <tr>\n",
              "      <th>765</th>\n",
              "      <td>5</td>\n",
              "      <td>121</td>\n",
              "      <td>72</td>\n",
              "      <td>23</td>\n",
              "      <td>112</td>\n",
              "      <td>26.2</td>\n",
              "      <td>0.245</td>\n",
              "      <td>30</td>\n",
              "      <td>0</td>\n",
              "    </tr>\n",
              "    <tr>\n",
              "      <th>766</th>\n",
              "      <td>1</td>\n",
              "      <td>126</td>\n",
              "      <td>60</td>\n",
              "      <td>0</td>\n",
              "      <td>0</td>\n",
              "      <td>30.1</td>\n",
              "      <td>0.349</td>\n",
              "      <td>47</td>\n",
              "      <td>1</td>\n",
              "    </tr>\n",
              "    <tr>\n",
              "      <th>767</th>\n",
              "      <td>1</td>\n",
              "      <td>93</td>\n",
              "      <td>70</td>\n",
              "      <td>31</td>\n",
              "      <td>0</td>\n",
              "      <td>30.4</td>\n",
              "      <td>0.315</td>\n",
              "      <td>23</td>\n",
              "      <td>0</td>\n",
              "    </tr>\n",
              "  </tbody>\n",
              "</table>\n",
              "<p>768 rows × 9 columns</p>\n",
              "</div>"
            ],
            "text/plain": [
              "     preg  plas  pres  skin  test  mass   pedi  age  class\n",
              "0       6   148    72    35     0  33.6  0.627   50      1\n",
              "1       1    85    66    29     0  26.6  0.351   31      0\n",
              "2       8   183    64     0     0  23.3  0.672   32      1\n",
              "3       1    89    66    23    94  28.1  0.167   21      0\n",
              "4       0   137    40    35   168  43.1  2.288   33      1\n",
              "..    ...   ...   ...   ...   ...   ...    ...  ...    ...\n",
              "763    10   101    76    48   180  32.9  0.171   63      0\n",
              "764     2   122    70    27     0  36.8  0.340   27      0\n",
              "765     5   121    72    23   112  26.2  0.245   30      0\n",
              "766     1   126    60     0     0  30.1  0.349   47      1\n",
              "767     1    93    70    31     0  30.4  0.315   23      0\n",
              "\n",
              "[768 rows x 9 columns]"
            ]
          },
          "metadata": {
            "tags": []
          },
          "execution_count": 101
        }
      ]
    },
    {
      "cell_type": "markdown",
      "metadata": {
        "id": "xB3YdQ0Le1Nf",
        "colab_type": "text"
      },
      "source": [
        "#Spliting the dataset into two parts:\n",
        "<b>1.Train<br>\n",
        "2.Test</b>\n",
        "<br>\n",
        "<br>\n",
        "\n",
        "![alt text](https://www.researchgate.net/profile/Brian_Mwandau/publication/325870973/figure/fig6/AS:639531594285060@1529487622235/Train-Test-Data-Split.png)"
      ]
    },
    {
      "cell_type": "markdown",
      "metadata": {
        "id": "7gIcOEXIYthg",
        "colab_type": "text"
      },
      "source": [
        "<b> Training part of the data</b>"
      ]
    },
    {
      "cell_type": "code",
      "metadata": {
        "id": "vMVwpgm1Pewl",
        "colab_type": "code",
        "colab": {
          "base_uri": "https://localhost:8080/",
          "height": 406
        },
        "outputId": "2d287f05-edf2-4738-803b-8d823123eeb1"
      },
      "source": [
        "Train_diabetes = diabetes.iloc[:650]\n",
        "Train_diabetes"
      ],
      "execution_count": 102,
      "outputs": [
        {
          "output_type": "execute_result",
          "data": {
            "text/html": [
              "<div>\n",
              "<style scoped>\n",
              "    .dataframe tbody tr th:only-of-type {\n",
              "        vertical-align: middle;\n",
              "    }\n",
              "\n",
              "    .dataframe tbody tr th {\n",
              "        vertical-align: top;\n",
              "    }\n",
              "\n",
              "    .dataframe thead th {\n",
              "        text-align: right;\n",
              "    }\n",
              "</style>\n",
              "<table border=\"1\" class=\"dataframe\">\n",
              "  <thead>\n",
              "    <tr style=\"text-align: right;\">\n",
              "      <th></th>\n",
              "      <th>preg</th>\n",
              "      <th>plas</th>\n",
              "      <th>pres</th>\n",
              "      <th>skin</th>\n",
              "      <th>test</th>\n",
              "      <th>mass</th>\n",
              "      <th>pedi</th>\n",
              "      <th>age</th>\n",
              "      <th>class</th>\n",
              "    </tr>\n",
              "  </thead>\n",
              "  <tbody>\n",
              "    <tr>\n",
              "      <th>0</th>\n",
              "      <td>6</td>\n",
              "      <td>148</td>\n",
              "      <td>72</td>\n",
              "      <td>35</td>\n",
              "      <td>0</td>\n",
              "      <td>33.6</td>\n",
              "      <td>0.627</td>\n",
              "      <td>50</td>\n",
              "      <td>1</td>\n",
              "    </tr>\n",
              "    <tr>\n",
              "      <th>1</th>\n",
              "      <td>1</td>\n",
              "      <td>85</td>\n",
              "      <td>66</td>\n",
              "      <td>29</td>\n",
              "      <td>0</td>\n",
              "      <td>26.6</td>\n",
              "      <td>0.351</td>\n",
              "      <td>31</td>\n",
              "      <td>0</td>\n",
              "    </tr>\n",
              "    <tr>\n",
              "      <th>2</th>\n",
              "      <td>8</td>\n",
              "      <td>183</td>\n",
              "      <td>64</td>\n",
              "      <td>0</td>\n",
              "      <td>0</td>\n",
              "      <td>23.3</td>\n",
              "      <td>0.672</td>\n",
              "      <td>32</td>\n",
              "      <td>1</td>\n",
              "    </tr>\n",
              "    <tr>\n",
              "      <th>3</th>\n",
              "      <td>1</td>\n",
              "      <td>89</td>\n",
              "      <td>66</td>\n",
              "      <td>23</td>\n",
              "      <td>94</td>\n",
              "      <td>28.1</td>\n",
              "      <td>0.167</td>\n",
              "      <td>21</td>\n",
              "      <td>0</td>\n",
              "    </tr>\n",
              "    <tr>\n",
              "      <th>4</th>\n",
              "      <td>0</td>\n",
              "      <td>137</td>\n",
              "      <td>40</td>\n",
              "      <td>35</td>\n",
              "      <td>168</td>\n",
              "      <td>43.1</td>\n",
              "      <td>2.288</td>\n",
              "      <td>33</td>\n",
              "      <td>1</td>\n",
              "    </tr>\n",
              "    <tr>\n",
              "      <th>...</th>\n",
              "      <td>...</td>\n",
              "      <td>...</td>\n",
              "      <td>...</td>\n",
              "      <td>...</td>\n",
              "      <td>...</td>\n",
              "      <td>...</td>\n",
              "      <td>...</td>\n",
              "      <td>...</td>\n",
              "      <td>...</td>\n",
              "    </tr>\n",
              "    <tr>\n",
              "      <th>645</th>\n",
              "      <td>2</td>\n",
              "      <td>157</td>\n",
              "      <td>74</td>\n",
              "      <td>35</td>\n",
              "      <td>440</td>\n",
              "      <td>39.4</td>\n",
              "      <td>0.134</td>\n",
              "      <td>30</td>\n",
              "      <td>0</td>\n",
              "    </tr>\n",
              "    <tr>\n",
              "      <th>646</th>\n",
              "      <td>1</td>\n",
              "      <td>167</td>\n",
              "      <td>74</td>\n",
              "      <td>17</td>\n",
              "      <td>144</td>\n",
              "      <td>23.4</td>\n",
              "      <td>0.447</td>\n",
              "      <td>33</td>\n",
              "      <td>1</td>\n",
              "    </tr>\n",
              "    <tr>\n",
              "      <th>647</th>\n",
              "      <td>0</td>\n",
              "      <td>179</td>\n",
              "      <td>50</td>\n",
              "      <td>36</td>\n",
              "      <td>159</td>\n",
              "      <td>37.8</td>\n",
              "      <td>0.455</td>\n",
              "      <td>22</td>\n",
              "      <td>1</td>\n",
              "    </tr>\n",
              "    <tr>\n",
              "      <th>648</th>\n",
              "      <td>11</td>\n",
              "      <td>136</td>\n",
              "      <td>84</td>\n",
              "      <td>35</td>\n",
              "      <td>130</td>\n",
              "      <td>28.3</td>\n",
              "      <td>0.260</td>\n",
              "      <td>42</td>\n",
              "      <td>1</td>\n",
              "    </tr>\n",
              "    <tr>\n",
              "      <th>649</th>\n",
              "      <td>0</td>\n",
              "      <td>107</td>\n",
              "      <td>60</td>\n",
              "      <td>25</td>\n",
              "      <td>0</td>\n",
              "      <td>26.4</td>\n",
              "      <td>0.133</td>\n",
              "      <td>23</td>\n",
              "      <td>0</td>\n",
              "    </tr>\n",
              "  </tbody>\n",
              "</table>\n",
              "<p>650 rows × 9 columns</p>\n",
              "</div>"
            ],
            "text/plain": [
              "     preg  plas  pres  skin  test  mass   pedi  age  class\n",
              "0       6   148    72    35     0  33.6  0.627   50      1\n",
              "1       1    85    66    29     0  26.6  0.351   31      0\n",
              "2       8   183    64     0     0  23.3  0.672   32      1\n",
              "3       1    89    66    23    94  28.1  0.167   21      0\n",
              "4       0   137    40    35   168  43.1  2.288   33      1\n",
              "..    ...   ...   ...   ...   ...   ...    ...  ...    ...\n",
              "645     2   157    74    35   440  39.4  0.134   30      0\n",
              "646     1   167    74    17   144  23.4  0.447   33      1\n",
              "647     0   179    50    36   159  37.8  0.455   22      1\n",
              "648    11   136    84    35   130  28.3  0.260   42      1\n",
              "649     0   107    60    25     0  26.4  0.133   23      0\n",
              "\n",
              "[650 rows x 9 columns]"
            ]
          },
          "metadata": {
            "tags": []
          },
          "execution_count": 102
        }
      ]
    },
    {
      "cell_type": "markdown",
      "metadata": {
        "id": "A_KEy7BaYzZM",
        "colab_type": "text"
      },
      "source": [
        "<b>Testing part of the data"
      ]
    },
    {
      "cell_type": "code",
      "metadata": {
        "id": "gwXj0Q3aPjl5",
        "colab_type": "code",
        "colab": {
          "base_uri": "https://localhost:8080/",
          "height": 406
        },
        "outputId": "d855c45d-5c83-41c2-d9d4-8d2dab687cc8"
      },
      "source": [
        "Test_diabetes = diabetes[650:750]\n",
        "Test_diabetes"
      ],
      "execution_count": 103,
      "outputs": [
        {
          "output_type": "execute_result",
          "data": {
            "text/html": [
              "<div>\n",
              "<style scoped>\n",
              "    .dataframe tbody tr th:only-of-type {\n",
              "        vertical-align: middle;\n",
              "    }\n",
              "\n",
              "    .dataframe tbody tr th {\n",
              "        vertical-align: top;\n",
              "    }\n",
              "\n",
              "    .dataframe thead th {\n",
              "        text-align: right;\n",
              "    }\n",
              "</style>\n",
              "<table border=\"1\" class=\"dataframe\">\n",
              "  <thead>\n",
              "    <tr style=\"text-align: right;\">\n",
              "      <th></th>\n",
              "      <th>preg</th>\n",
              "      <th>plas</th>\n",
              "      <th>pres</th>\n",
              "      <th>skin</th>\n",
              "      <th>test</th>\n",
              "      <th>mass</th>\n",
              "      <th>pedi</th>\n",
              "      <th>age</th>\n",
              "      <th>class</th>\n",
              "    </tr>\n",
              "  </thead>\n",
              "  <tbody>\n",
              "    <tr>\n",
              "      <th>650</th>\n",
              "      <td>1</td>\n",
              "      <td>91</td>\n",
              "      <td>54</td>\n",
              "      <td>25</td>\n",
              "      <td>100</td>\n",
              "      <td>25.2</td>\n",
              "      <td>0.234</td>\n",
              "      <td>23</td>\n",
              "      <td>0</td>\n",
              "    </tr>\n",
              "    <tr>\n",
              "      <th>651</th>\n",
              "      <td>1</td>\n",
              "      <td>117</td>\n",
              "      <td>60</td>\n",
              "      <td>23</td>\n",
              "      <td>106</td>\n",
              "      <td>33.8</td>\n",
              "      <td>0.466</td>\n",
              "      <td>27</td>\n",
              "      <td>0</td>\n",
              "    </tr>\n",
              "    <tr>\n",
              "      <th>652</th>\n",
              "      <td>5</td>\n",
              "      <td>123</td>\n",
              "      <td>74</td>\n",
              "      <td>40</td>\n",
              "      <td>77</td>\n",
              "      <td>34.1</td>\n",
              "      <td>0.269</td>\n",
              "      <td>28</td>\n",
              "      <td>0</td>\n",
              "    </tr>\n",
              "    <tr>\n",
              "      <th>653</th>\n",
              "      <td>2</td>\n",
              "      <td>120</td>\n",
              "      <td>54</td>\n",
              "      <td>0</td>\n",
              "      <td>0</td>\n",
              "      <td>26.8</td>\n",
              "      <td>0.455</td>\n",
              "      <td>27</td>\n",
              "      <td>0</td>\n",
              "    </tr>\n",
              "    <tr>\n",
              "      <th>654</th>\n",
              "      <td>1</td>\n",
              "      <td>106</td>\n",
              "      <td>70</td>\n",
              "      <td>28</td>\n",
              "      <td>135</td>\n",
              "      <td>34.2</td>\n",
              "      <td>0.142</td>\n",
              "      <td>22</td>\n",
              "      <td>0</td>\n",
              "    </tr>\n",
              "    <tr>\n",
              "      <th>...</th>\n",
              "      <td>...</td>\n",
              "      <td>...</td>\n",
              "      <td>...</td>\n",
              "      <td>...</td>\n",
              "      <td>...</td>\n",
              "      <td>...</td>\n",
              "      <td>...</td>\n",
              "      <td>...</td>\n",
              "      <td>...</td>\n",
              "    </tr>\n",
              "    <tr>\n",
              "      <th>745</th>\n",
              "      <td>12</td>\n",
              "      <td>100</td>\n",
              "      <td>84</td>\n",
              "      <td>33</td>\n",
              "      <td>105</td>\n",
              "      <td>30.0</td>\n",
              "      <td>0.488</td>\n",
              "      <td>46</td>\n",
              "      <td>0</td>\n",
              "    </tr>\n",
              "    <tr>\n",
              "      <th>746</th>\n",
              "      <td>1</td>\n",
              "      <td>147</td>\n",
              "      <td>94</td>\n",
              "      <td>41</td>\n",
              "      <td>0</td>\n",
              "      <td>49.3</td>\n",
              "      <td>0.358</td>\n",
              "      <td>27</td>\n",
              "      <td>1</td>\n",
              "    </tr>\n",
              "    <tr>\n",
              "      <th>747</th>\n",
              "      <td>1</td>\n",
              "      <td>81</td>\n",
              "      <td>74</td>\n",
              "      <td>41</td>\n",
              "      <td>57</td>\n",
              "      <td>46.3</td>\n",
              "      <td>1.096</td>\n",
              "      <td>32</td>\n",
              "      <td>0</td>\n",
              "    </tr>\n",
              "    <tr>\n",
              "      <th>748</th>\n",
              "      <td>3</td>\n",
              "      <td>187</td>\n",
              "      <td>70</td>\n",
              "      <td>22</td>\n",
              "      <td>200</td>\n",
              "      <td>36.4</td>\n",
              "      <td>0.408</td>\n",
              "      <td>36</td>\n",
              "      <td>1</td>\n",
              "    </tr>\n",
              "    <tr>\n",
              "      <th>749</th>\n",
              "      <td>6</td>\n",
              "      <td>162</td>\n",
              "      <td>62</td>\n",
              "      <td>0</td>\n",
              "      <td>0</td>\n",
              "      <td>24.3</td>\n",
              "      <td>0.178</td>\n",
              "      <td>50</td>\n",
              "      <td>1</td>\n",
              "    </tr>\n",
              "  </tbody>\n",
              "</table>\n",
              "<p>100 rows × 9 columns</p>\n",
              "</div>"
            ],
            "text/plain": [
              "     preg  plas  pres  skin  test  mass   pedi  age  class\n",
              "650     1    91    54    25   100  25.2  0.234   23      0\n",
              "651     1   117    60    23   106  33.8  0.466   27      0\n",
              "652     5   123    74    40    77  34.1  0.269   28      0\n",
              "653     2   120    54     0     0  26.8  0.455   27      0\n",
              "654     1   106    70    28   135  34.2  0.142   22      0\n",
              "..    ...   ...   ...   ...   ...   ...    ...  ...    ...\n",
              "745    12   100    84    33   105  30.0  0.488   46      0\n",
              "746     1   147    94    41     0  49.3  0.358   27      1\n",
              "747     1    81    74    41    57  46.3  1.096   32      0\n",
              "748     3   187    70    22   200  36.4  0.408   36      1\n",
              "749     6   162    62     0     0  24.3  0.178   50      1\n",
              "\n",
              "[100 rows x 9 columns]"
            ]
          },
          "metadata": {
            "tags": []
          },
          "execution_count": 103
        }
      ]
    },
    {
      "cell_type": "code",
      "metadata": {
        "id": "TpDefJscQ4xw",
        "colab_type": "code",
        "colab": {
          "base_uri": "https://localhost:8080/",
          "height": 587
        },
        "outputId": "a34f3f7f-7f59-4b2b-b754-c25accd03fd2"
      },
      "source": [
        "Check = diabetes[750:]\n",
        "Check"
      ],
      "execution_count": 104,
      "outputs": [
        {
          "output_type": "execute_result",
          "data": {
            "text/html": [
              "<div>\n",
              "<style scoped>\n",
              "    .dataframe tbody tr th:only-of-type {\n",
              "        vertical-align: middle;\n",
              "    }\n",
              "\n",
              "    .dataframe tbody tr th {\n",
              "        vertical-align: top;\n",
              "    }\n",
              "\n",
              "    .dataframe thead th {\n",
              "        text-align: right;\n",
              "    }\n",
              "</style>\n",
              "<table border=\"1\" class=\"dataframe\">\n",
              "  <thead>\n",
              "    <tr style=\"text-align: right;\">\n",
              "      <th></th>\n",
              "      <th>preg</th>\n",
              "      <th>plas</th>\n",
              "      <th>pres</th>\n",
              "      <th>skin</th>\n",
              "      <th>test</th>\n",
              "      <th>mass</th>\n",
              "      <th>pedi</th>\n",
              "      <th>age</th>\n",
              "      <th>class</th>\n",
              "    </tr>\n",
              "  </thead>\n",
              "  <tbody>\n",
              "    <tr>\n",
              "      <th>750</th>\n",
              "      <td>4</td>\n",
              "      <td>136</td>\n",
              "      <td>70</td>\n",
              "      <td>0</td>\n",
              "      <td>0</td>\n",
              "      <td>31.2</td>\n",
              "      <td>1.182</td>\n",
              "      <td>22</td>\n",
              "      <td>1</td>\n",
              "    </tr>\n",
              "    <tr>\n",
              "      <th>751</th>\n",
              "      <td>1</td>\n",
              "      <td>121</td>\n",
              "      <td>78</td>\n",
              "      <td>39</td>\n",
              "      <td>74</td>\n",
              "      <td>39.0</td>\n",
              "      <td>0.261</td>\n",
              "      <td>28</td>\n",
              "      <td>0</td>\n",
              "    </tr>\n",
              "    <tr>\n",
              "      <th>752</th>\n",
              "      <td>3</td>\n",
              "      <td>108</td>\n",
              "      <td>62</td>\n",
              "      <td>24</td>\n",
              "      <td>0</td>\n",
              "      <td>26.0</td>\n",
              "      <td>0.223</td>\n",
              "      <td>25</td>\n",
              "      <td>0</td>\n",
              "    </tr>\n",
              "    <tr>\n",
              "      <th>753</th>\n",
              "      <td>0</td>\n",
              "      <td>181</td>\n",
              "      <td>88</td>\n",
              "      <td>44</td>\n",
              "      <td>510</td>\n",
              "      <td>43.3</td>\n",
              "      <td>0.222</td>\n",
              "      <td>26</td>\n",
              "      <td>1</td>\n",
              "    </tr>\n",
              "    <tr>\n",
              "      <th>754</th>\n",
              "      <td>8</td>\n",
              "      <td>154</td>\n",
              "      <td>78</td>\n",
              "      <td>32</td>\n",
              "      <td>0</td>\n",
              "      <td>32.4</td>\n",
              "      <td>0.443</td>\n",
              "      <td>45</td>\n",
              "      <td>1</td>\n",
              "    </tr>\n",
              "    <tr>\n",
              "      <th>755</th>\n",
              "      <td>1</td>\n",
              "      <td>128</td>\n",
              "      <td>88</td>\n",
              "      <td>39</td>\n",
              "      <td>110</td>\n",
              "      <td>36.5</td>\n",
              "      <td>1.057</td>\n",
              "      <td>37</td>\n",
              "      <td>1</td>\n",
              "    </tr>\n",
              "    <tr>\n",
              "      <th>756</th>\n",
              "      <td>7</td>\n",
              "      <td>137</td>\n",
              "      <td>90</td>\n",
              "      <td>41</td>\n",
              "      <td>0</td>\n",
              "      <td>32.0</td>\n",
              "      <td>0.391</td>\n",
              "      <td>39</td>\n",
              "      <td>0</td>\n",
              "    </tr>\n",
              "    <tr>\n",
              "      <th>757</th>\n",
              "      <td>0</td>\n",
              "      <td>123</td>\n",
              "      <td>72</td>\n",
              "      <td>0</td>\n",
              "      <td>0</td>\n",
              "      <td>36.3</td>\n",
              "      <td>0.258</td>\n",
              "      <td>52</td>\n",
              "      <td>1</td>\n",
              "    </tr>\n",
              "    <tr>\n",
              "      <th>758</th>\n",
              "      <td>1</td>\n",
              "      <td>106</td>\n",
              "      <td>76</td>\n",
              "      <td>0</td>\n",
              "      <td>0</td>\n",
              "      <td>37.5</td>\n",
              "      <td>0.197</td>\n",
              "      <td>26</td>\n",
              "      <td>0</td>\n",
              "    </tr>\n",
              "    <tr>\n",
              "      <th>759</th>\n",
              "      <td>6</td>\n",
              "      <td>190</td>\n",
              "      <td>92</td>\n",
              "      <td>0</td>\n",
              "      <td>0</td>\n",
              "      <td>35.5</td>\n",
              "      <td>0.278</td>\n",
              "      <td>66</td>\n",
              "      <td>1</td>\n",
              "    </tr>\n",
              "    <tr>\n",
              "      <th>760</th>\n",
              "      <td>2</td>\n",
              "      <td>88</td>\n",
              "      <td>58</td>\n",
              "      <td>26</td>\n",
              "      <td>16</td>\n",
              "      <td>28.4</td>\n",
              "      <td>0.766</td>\n",
              "      <td>22</td>\n",
              "      <td>0</td>\n",
              "    </tr>\n",
              "    <tr>\n",
              "      <th>761</th>\n",
              "      <td>9</td>\n",
              "      <td>170</td>\n",
              "      <td>74</td>\n",
              "      <td>31</td>\n",
              "      <td>0</td>\n",
              "      <td>44.0</td>\n",
              "      <td>0.403</td>\n",
              "      <td>43</td>\n",
              "      <td>1</td>\n",
              "    </tr>\n",
              "    <tr>\n",
              "      <th>762</th>\n",
              "      <td>9</td>\n",
              "      <td>89</td>\n",
              "      <td>62</td>\n",
              "      <td>0</td>\n",
              "      <td>0</td>\n",
              "      <td>22.5</td>\n",
              "      <td>0.142</td>\n",
              "      <td>33</td>\n",
              "      <td>0</td>\n",
              "    </tr>\n",
              "    <tr>\n",
              "      <th>763</th>\n",
              "      <td>10</td>\n",
              "      <td>101</td>\n",
              "      <td>76</td>\n",
              "      <td>48</td>\n",
              "      <td>180</td>\n",
              "      <td>32.9</td>\n",
              "      <td>0.171</td>\n",
              "      <td>63</td>\n",
              "      <td>0</td>\n",
              "    </tr>\n",
              "    <tr>\n",
              "      <th>764</th>\n",
              "      <td>2</td>\n",
              "      <td>122</td>\n",
              "      <td>70</td>\n",
              "      <td>27</td>\n",
              "      <td>0</td>\n",
              "      <td>36.8</td>\n",
              "      <td>0.340</td>\n",
              "      <td>27</td>\n",
              "      <td>0</td>\n",
              "    </tr>\n",
              "    <tr>\n",
              "      <th>765</th>\n",
              "      <td>5</td>\n",
              "      <td>121</td>\n",
              "      <td>72</td>\n",
              "      <td>23</td>\n",
              "      <td>112</td>\n",
              "      <td>26.2</td>\n",
              "      <td>0.245</td>\n",
              "      <td>30</td>\n",
              "      <td>0</td>\n",
              "    </tr>\n",
              "    <tr>\n",
              "      <th>766</th>\n",
              "      <td>1</td>\n",
              "      <td>126</td>\n",
              "      <td>60</td>\n",
              "      <td>0</td>\n",
              "      <td>0</td>\n",
              "      <td>30.1</td>\n",
              "      <td>0.349</td>\n",
              "      <td>47</td>\n",
              "      <td>1</td>\n",
              "    </tr>\n",
              "    <tr>\n",
              "      <th>767</th>\n",
              "      <td>1</td>\n",
              "      <td>93</td>\n",
              "      <td>70</td>\n",
              "      <td>31</td>\n",
              "      <td>0</td>\n",
              "      <td>30.4</td>\n",
              "      <td>0.315</td>\n",
              "      <td>23</td>\n",
              "      <td>0</td>\n",
              "    </tr>\n",
              "  </tbody>\n",
              "</table>\n",
              "</div>"
            ],
            "text/plain": [
              "     preg  plas  pres  skin  test  mass   pedi  age  class\n",
              "750     4   136    70     0     0  31.2  1.182   22      1\n",
              "751     1   121    78    39    74  39.0  0.261   28      0\n",
              "752     3   108    62    24     0  26.0  0.223   25      0\n",
              "753     0   181    88    44   510  43.3  0.222   26      1\n",
              "754     8   154    78    32     0  32.4  0.443   45      1\n",
              "755     1   128    88    39   110  36.5  1.057   37      1\n",
              "756     7   137    90    41     0  32.0  0.391   39      0\n",
              "757     0   123    72     0     0  36.3  0.258   52      1\n",
              "758     1   106    76     0     0  37.5  0.197   26      0\n",
              "759     6   190    92     0     0  35.5  0.278   66      1\n",
              "760     2    88    58    26    16  28.4  0.766   22      0\n",
              "761     9   170    74    31     0  44.0  0.403   43      1\n",
              "762     9    89    62     0     0  22.5  0.142   33      0\n",
              "763    10   101    76    48   180  32.9  0.171   63      0\n",
              "764     2   122    70    27     0  36.8  0.340   27      0\n",
              "765     5   121    72    23   112  26.2  0.245   30      0\n",
              "766     1   126    60     0     0  30.1  0.349   47      1\n",
              "767     1    93    70    31     0  30.4  0.315   23      0"
            ]
          },
          "metadata": {
            "tags": []
          },
          "execution_count": 104
        }
      ]
    },
    {
      "cell_type": "code",
      "metadata": {
        "id": "pYo7GHhVR12H",
        "colab_type": "code",
        "colab": {
          "base_uri": "https://localhost:8080/",
          "height": 406
        },
        "outputId": "937c411e-633e-49f6-814d-29569daf435d"
      },
      "source": [
        "Train_diabetes"
      ],
      "execution_count": 105,
      "outputs": [
        {
          "output_type": "execute_result",
          "data": {
            "text/html": [
              "<div>\n",
              "<style scoped>\n",
              "    .dataframe tbody tr th:only-of-type {\n",
              "        vertical-align: middle;\n",
              "    }\n",
              "\n",
              "    .dataframe tbody tr th {\n",
              "        vertical-align: top;\n",
              "    }\n",
              "\n",
              "    .dataframe thead th {\n",
              "        text-align: right;\n",
              "    }\n",
              "</style>\n",
              "<table border=\"1\" class=\"dataframe\">\n",
              "  <thead>\n",
              "    <tr style=\"text-align: right;\">\n",
              "      <th></th>\n",
              "      <th>preg</th>\n",
              "      <th>plas</th>\n",
              "      <th>pres</th>\n",
              "      <th>skin</th>\n",
              "      <th>test</th>\n",
              "      <th>mass</th>\n",
              "      <th>pedi</th>\n",
              "      <th>age</th>\n",
              "      <th>class</th>\n",
              "    </tr>\n",
              "  </thead>\n",
              "  <tbody>\n",
              "    <tr>\n",
              "      <th>0</th>\n",
              "      <td>6</td>\n",
              "      <td>148</td>\n",
              "      <td>72</td>\n",
              "      <td>35</td>\n",
              "      <td>0</td>\n",
              "      <td>33.6</td>\n",
              "      <td>0.627</td>\n",
              "      <td>50</td>\n",
              "      <td>1</td>\n",
              "    </tr>\n",
              "    <tr>\n",
              "      <th>1</th>\n",
              "      <td>1</td>\n",
              "      <td>85</td>\n",
              "      <td>66</td>\n",
              "      <td>29</td>\n",
              "      <td>0</td>\n",
              "      <td>26.6</td>\n",
              "      <td>0.351</td>\n",
              "      <td>31</td>\n",
              "      <td>0</td>\n",
              "    </tr>\n",
              "    <tr>\n",
              "      <th>2</th>\n",
              "      <td>8</td>\n",
              "      <td>183</td>\n",
              "      <td>64</td>\n",
              "      <td>0</td>\n",
              "      <td>0</td>\n",
              "      <td>23.3</td>\n",
              "      <td>0.672</td>\n",
              "      <td>32</td>\n",
              "      <td>1</td>\n",
              "    </tr>\n",
              "    <tr>\n",
              "      <th>3</th>\n",
              "      <td>1</td>\n",
              "      <td>89</td>\n",
              "      <td>66</td>\n",
              "      <td>23</td>\n",
              "      <td>94</td>\n",
              "      <td>28.1</td>\n",
              "      <td>0.167</td>\n",
              "      <td>21</td>\n",
              "      <td>0</td>\n",
              "    </tr>\n",
              "    <tr>\n",
              "      <th>4</th>\n",
              "      <td>0</td>\n",
              "      <td>137</td>\n",
              "      <td>40</td>\n",
              "      <td>35</td>\n",
              "      <td>168</td>\n",
              "      <td>43.1</td>\n",
              "      <td>2.288</td>\n",
              "      <td>33</td>\n",
              "      <td>1</td>\n",
              "    </tr>\n",
              "    <tr>\n",
              "      <th>...</th>\n",
              "      <td>...</td>\n",
              "      <td>...</td>\n",
              "      <td>...</td>\n",
              "      <td>...</td>\n",
              "      <td>...</td>\n",
              "      <td>...</td>\n",
              "      <td>...</td>\n",
              "      <td>...</td>\n",
              "      <td>...</td>\n",
              "    </tr>\n",
              "    <tr>\n",
              "      <th>645</th>\n",
              "      <td>2</td>\n",
              "      <td>157</td>\n",
              "      <td>74</td>\n",
              "      <td>35</td>\n",
              "      <td>440</td>\n",
              "      <td>39.4</td>\n",
              "      <td>0.134</td>\n",
              "      <td>30</td>\n",
              "      <td>0</td>\n",
              "    </tr>\n",
              "    <tr>\n",
              "      <th>646</th>\n",
              "      <td>1</td>\n",
              "      <td>167</td>\n",
              "      <td>74</td>\n",
              "      <td>17</td>\n",
              "      <td>144</td>\n",
              "      <td>23.4</td>\n",
              "      <td>0.447</td>\n",
              "      <td>33</td>\n",
              "      <td>1</td>\n",
              "    </tr>\n",
              "    <tr>\n",
              "      <th>647</th>\n",
              "      <td>0</td>\n",
              "      <td>179</td>\n",
              "      <td>50</td>\n",
              "      <td>36</td>\n",
              "      <td>159</td>\n",
              "      <td>37.8</td>\n",
              "      <td>0.455</td>\n",
              "      <td>22</td>\n",
              "      <td>1</td>\n",
              "    </tr>\n",
              "    <tr>\n",
              "      <th>648</th>\n",
              "      <td>11</td>\n",
              "      <td>136</td>\n",
              "      <td>84</td>\n",
              "      <td>35</td>\n",
              "      <td>130</td>\n",
              "      <td>28.3</td>\n",
              "      <td>0.260</td>\n",
              "      <td>42</td>\n",
              "      <td>1</td>\n",
              "    </tr>\n",
              "    <tr>\n",
              "      <th>649</th>\n",
              "      <td>0</td>\n",
              "      <td>107</td>\n",
              "      <td>60</td>\n",
              "      <td>25</td>\n",
              "      <td>0</td>\n",
              "      <td>26.4</td>\n",
              "      <td>0.133</td>\n",
              "      <td>23</td>\n",
              "      <td>0</td>\n",
              "    </tr>\n",
              "  </tbody>\n",
              "</table>\n",
              "<p>650 rows × 9 columns</p>\n",
              "</div>"
            ],
            "text/plain": [
              "     preg  plas  pres  skin  test  mass   pedi  age  class\n",
              "0       6   148    72    35     0  33.6  0.627   50      1\n",
              "1       1    85    66    29     0  26.6  0.351   31      0\n",
              "2       8   183    64     0     0  23.3  0.672   32      1\n",
              "3       1    89    66    23    94  28.1  0.167   21      0\n",
              "4       0   137    40    35   168  43.1  2.288   33      1\n",
              "..    ...   ...   ...   ...   ...   ...    ...  ...    ...\n",
              "645     2   157    74    35   440  39.4  0.134   30      0\n",
              "646     1   167    74    17   144  23.4  0.447   33      1\n",
              "647     0   179    50    36   159  37.8  0.455   22      1\n",
              "648    11   136    84    35   130  28.3  0.260   42      1\n",
              "649     0   107    60    25     0  26.4  0.133   23      0\n",
              "\n",
              "[650 rows x 9 columns]"
            ]
          },
          "metadata": {
            "tags": []
          },
          "execution_count": 105
        }
      ]
    },
    {
      "cell_type": "markdown",
      "metadata": {
        "id": "uqL7ECDbZCjX",
        "colab_type": "text"
      },
      "source": [
        "<b>Class for train data"
      ]
    },
    {
      "cell_type": "code",
      "metadata": {
        "id": "pShdHnS5RHFd",
        "colab_type": "code",
        "colab": {
          "base_uri": "https://localhost:8080/",
          "height": 230
        },
        "outputId": "97a891a8-48ff-4cb9-b0f8-1ac639dcbbbd"
      },
      "source": [
        "label_train = Train_diabetes['class']\n",
        "label_train"
      ],
      "execution_count": 106,
      "outputs": [
        {
          "output_type": "execute_result",
          "data": {
            "text/plain": [
              "0      1\n",
              "1      0\n",
              "2      1\n",
              "3      0\n",
              "4      1\n",
              "      ..\n",
              "645    0\n",
              "646    1\n",
              "647    1\n",
              "648    1\n",
              "649    0\n",
              "Name: class, Length: 650, dtype: int64"
            ]
          },
          "metadata": {
            "tags": []
          },
          "execution_count": 106
        }
      ]
    },
    {
      "cell_type": "markdown",
      "metadata": {
        "id": "jhzeW_XOZHu-",
        "colab_type": "text"
      },
      "source": [
        "<b>Drop the class from the training dataset</b>"
      ]
    },
    {
      "cell_type": "code",
      "metadata": {
        "id": "_kjSWZ6qRU0l",
        "colab_type": "code",
        "colab": {
          "base_uri": "https://localhost:8080/",
          "height": 406
        },
        "outputId": "6afa8880-5c49-40a3-a0f9-c8298108162a"
      },
      "source": [
        "#trainData = np.asarray(Train_diabetes.drop('class'))\n",
        "Train_diabetes=Train_diabetes.drop('class',axis=1)#axis =1 to drop the column\n",
        "Train_diabetes"
      ],
      "execution_count": 107,
      "outputs": [
        {
          "output_type": "execute_result",
          "data": {
            "text/html": [
              "<div>\n",
              "<style scoped>\n",
              "    .dataframe tbody tr th:only-of-type {\n",
              "        vertical-align: middle;\n",
              "    }\n",
              "\n",
              "    .dataframe tbody tr th {\n",
              "        vertical-align: top;\n",
              "    }\n",
              "\n",
              "    .dataframe thead th {\n",
              "        text-align: right;\n",
              "    }\n",
              "</style>\n",
              "<table border=\"1\" class=\"dataframe\">\n",
              "  <thead>\n",
              "    <tr style=\"text-align: right;\">\n",
              "      <th></th>\n",
              "      <th>preg</th>\n",
              "      <th>plas</th>\n",
              "      <th>pres</th>\n",
              "      <th>skin</th>\n",
              "      <th>test</th>\n",
              "      <th>mass</th>\n",
              "      <th>pedi</th>\n",
              "      <th>age</th>\n",
              "    </tr>\n",
              "  </thead>\n",
              "  <tbody>\n",
              "    <tr>\n",
              "      <th>0</th>\n",
              "      <td>6</td>\n",
              "      <td>148</td>\n",
              "      <td>72</td>\n",
              "      <td>35</td>\n",
              "      <td>0</td>\n",
              "      <td>33.6</td>\n",
              "      <td>0.627</td>\n",
              "      <td>50</td>\n",
              "    </tr>\n",
              "    <tr>\n",
              "      <th>1</th>\n",
              "      <td>1</td>\n",
              "      <td>85</td>\n",
              "      <td>66</td>\n",
              "      <td>29</td>\n",
              "      <td>0</td>\n",
              "      <td>26.6</td>\n",
              "      <td>0.351</td>\n",
              "      <td>31</td>\n",
              "    </tr>\n",
              "    <tr>\n",
              "      <th>2</th>\n",
              "      <td>8</td>\n",
              "      <td>183</td>\n",
              "      <td>64</td>\n",
              "      <td>0</td>\n",
              "      <td>0</td>\n",
              "      <td>23.3</td>\n",
              "      <td>0.672</td>\n",
              "      <td>32</td>\n",
              "    </tr>\n",
              "    <tr>\n",
              "      <th>3</th>\n",
              "      <td>1</td>\n",
              "      <td>89</td>\n",
              "      <td>66</td>\n",
              "      <td>23</td>\n",
              "      <td>94</td>\n",
              "      <td>28.1</td>\n",
              "      <td>0.167</td>\n",
              "      <td>21</td>\n",
              "    </tr>\n",
              "    <tr>\n",
              "      <th>4</th>\n",
              "      <td>0</td>\n",
              "      <td>137</td>\n",
              "      <td>40</td>\n",
              "      <td>35</td>\n",
              "      <td>168</td>\n",
              "      <td>43.1</td>\n",
              "      <td>2.288</td>\n",
              "      <td>33</td>\n",
              "    </tr>\n",
              "    <tr>\n",
              "      <th>...</th>\n",
              "      <td>...</td>\n",
              "      <td>...</td>\n",
              "      <td>...</td>\n",
              "      <td>...</td>\n",
              "      <td>...</td>\n",
              "      <td>...</td>\n",
              "      <td>...</td>\n",
              "      <td>...</td>\n",
              "    </tr>\n",
              "    <tr>\n",
              "      <th>645</th>\n",
              "      <td>2</td>\n",
              "      <td>157</td>\n",
              "      <td>74</td>\n",
              "      <td>35</td>\n",
              "      <td>440</td>\n",
              "      <td>39.4</td>\n",
              "      <td>0.134</td>\n",
              "      <td>30</td>\n",
              "    </tr>\n",
              "    <tr>\n",
              "      <th>646</th>\n",
              "      <td>1</td>\n",
              "      <td>167</td>\n",
              "      <td>74</td>\n",
              "      <td>17</td>\n",
              "      <td>144</td>\n",
              "      <td>23.4</td>\n",
              "      <td>0.447</td>\n",
              "      <td>33</td>\n",
              "    </tr>\n",
              "    <tr>\n",
              "      <th>647</th>\n",
              "      <td>0</td>\n",
              "      <td>179</td>\n",
              "      <td>50</td>\n",
              "      <td>36</td>\n",
              "      <td>159</td>\n",
              "      <td>37.8</td>\n",
              "      <td>0.455</td>\n",
              "      <td>22</td>\n",
              "    </tr>\n",
              "    <tr>\n",
              "      <th>648</th>\n",
              "      <td>11</td>\n",
              "      <td>136</td>\n",
              "      <td>84</td>\n",
              "      <td>35</td>\n",
              "      <td>130</td>\n",
              "      <td>28.3</td>\n",
              "      <td>0.260</td>\n",
              "      <td>42</td>\n",
              "    </tr>\n",
              "    <tr>\n",
              "      <th>649</th>\n",
              "      <td>0</td>\n",
              "      <td>107</td>\n",
              "      <td>60</td>\n",
              "      <td>25</td>\n",
              "      <td>0</td>\n",
              "      <td>26.4</td>\n",
              "      <td>0.133</td>\n",
              "      <td>23</td>\n",
              "    </tr>\n",
              "  </tbody>\n",
              "</table>\n",
              "<p>650 rows × 8 columns</p>\n",
              "</div>"
            ],
            "text/plain": [
              "     preg  plas  pres  skin  test  mass   pedi  age\n",
              "0       6   148    72    35     0  33.6  0.627   50\n",
              "1       1    85    66    29     0  26.6  0.351   31\n",
              "2       8   183    64     0     0  23.3  0.672   32\n",
              "3       1    89    66    23    94  28.1  0.167   21\n",
              "4       0   137    40    35   168  43.1  2.288   33\n",
              "..    ...   ...   ...   ...   ...   ...    ...  ...\n",
              "645     2   157    74    35   440  39.4  0.134   30\n",
              "646     1   167    74    17   144  23.4  0.447   33\n",
              "647     0   179    50    36   159  37.8  0.455   22\n",
              "648    11   136    84    35   130  28.3  0.260   42\n",
              "649     0   107    60    25     0  26.4  0.133   23\n",
              "\n",
              "[650 rows x 8 columns]"
            ]
          },
          "metadata": {
            "tags": []
          },
          "execution_count": 107
        }
      ]
    },
    {
      "cell_type": "code",
      "metadata": {
        "id": "f13_W7AXUn7B",
        "colab_type": "code",
        "colab": {
          "base_uri": "https://localhost:8080/",
          "height": 406
        },
        "outputId": "54e006ef-766d-448d-8640-ec1ff95d896f"
      },
      "source": [
        "Test_diabetes"
      ],
      "execution_count": 108,
      "outputs": [
        {
          "output_type": "execute_result",
          "data": {
            "text/html": [
              "<div>\n",
              "<style scoped>\n",
              "    .dataframe tbody tr th:only-of-type {\n",
              "        vertical-align: middle;\n",
              "    }\n",
              "\n",
              "    .dataframe tbody tr th {\n",
              "        vertical-align: top;\n",
              "    }\n",
              "\n",
              "    .dataframe thead th {\n",
              "        text-align: right;\n",
              "    }\n",
              "</style>\n",
              "<table border=\"1\" class=\"dataframe\">\n",
              "  <thead>\n",
              "    <tr style=\"text-align: right;\">\n",
              "      <th></th>\n",
              "      <th>preg</th>\n",
              "      <th>plas</th>\n",
              "      <th>pres</th>\n",
              "      <th>skin</th>\n",
              "      <th>test</th>\n",
              "      <th>mass</th>\n",
              "      <th>pedi</th>\n",
              "      <th>age</th>\n",
              "      <th>class</th>\n",
              "    </tr>\n",
              "  </thead>\n",
              "  <tbody>\n",
              "    <tr>\n",
              "      <th>650</th>\n",
              "      <td>1</td>\n",
              "      <td>91</td>\n",
              "      <td>54</td>\n",
              "      <td>25</td>\n",
              "      <td>100</td>\n",
              "      <td>25.2</td>\n",
              "      <td>0.234</td>\n",
              "      <td>23</td>\n",
              "      <td>0</td>\n",
              "    </tr>\n",
              "    <tr>\n",
              "      <th>651</th>\n",
              "      <td>1</td>\n",
              "      <td>117</td>\n",
              "      <td>60</td>\n",
              "      <td>23</td>\n",
              "      <td>106</td>\n",
              "      <td>33.8</td>\n",
              "      <td>0.466</td>\n",
              "      <td>27</td>\n",
              "      <td>0</td>\n",
              "    </tr>\n",
              "    <tr>\n",
              "      <th>652</th>\n",
              "      <td>5</td>\n",
              "      <td>123</td>\n",
              "      <td>74</td>\n",
              "      <td>40</td>\n",
              "      <td>77</td>\n",
              "      <td>34.1</td>\n",
              "      <td>0.269</td>\n",
              "      <td>28</td>\n",
              "      <td>0</td>\n",
              "    </tr>\n",
              "    <tr>\n",
              "      <th>653</th>\n",
              "      <td>2</td>\n",
              "      <td>120</td>\n",
              "      <td>54</td>\n",
              "      <td>0</td>\n",
              "      <td>0</td>\n",
              "      <td>26.8</td>\n",
              "      <td>0.455</td>\n",
              "      <td>27</td>\n",
              "      <td>0</td>\n",
              "    </tr>\n",
              "    <tr>\n",
              "      <th>654</th>\n",
              "      <td>1</td>\n",
              "      <td>106</td>\n",
              "      <td>70</td>\n",
              "      <td>28</td>\n",
              "      <td>135</td>\n",
              "      <td>34.2</td>\n",
              "      <td>0.142</td>\n",
              "      <td>22</td>\n",
              "      <td>0</td>\n",
              "    </tr>\n",
              "    <tr>\n",
              "      <th>...</th>\n",
              "      <td>...</td>\n",
              "      <td>...</td>\n",
              "      <td>...</td>\n",
              "      <td>...</td>\n",
              "      <td>...</td>\n",
              "      <td>...</td>\n",
              "      <td>...</td>\n",
              "      <td>...</td>\n",
              "      <td>...</td>\n",
              "    </tr>\n",
              "    <tr>\n",
              "      <th>745</th>\n",
              "      <td>12</td>\n",
              "      <td>100</td>\n",
              "      <td>84</td>\n",
              "      <td>33</td>\n",
              "      <td>105</td>\n",
              "      <td>30.0</td>\n",
              "      <td>0.488</td>\n",
              "      <td>46</td>\n",
              "      <td>0</td>\n",
              "    </tr>\n",
              "    <tr>\n",
              "      <th>746</th>\n",
              "      <td>1</td>\n",
              "      <td>147</td>\n",
              "      <td>94</td>\n",
              "      <td>41</td>\n",
              "      <td>0</td>\n",
              "      <td>49.3</td>\n",
              "      <td>0.358</td>\n",
              "      <td>27</td>\n",
              "      <td>1</td>\n",
              "    </tr>\n",
              "    <tr>\n",
              "      <th>747</th>\n",
              "      <td>1</td>\n",
              "      <td>81</td>\n",
              "      <td>74</td>\n",
              "      <td>41</td>\n",
              "      <td>57</td>\n",
              "      <td>46.3</td>\n",
              "      <td>1.096</td>\n",
              "      <td>32</td>\n",
              "      <td>0</td>\n",
              "    </tr>\n",
              "    <tr>\n",
              "      <th>748</th>\n",
              "      <td>3</td>\n",
              "      <td>187</td>\n",
              "      <td>70</td>\n",
              "      <td>22</td>\n",
              "      <td>200</td>\n",
              "      <td>36.4</td>\n",
              "      <td>0.408</td>\n",
              "      <td>36</td>\n",
              "      <td>1</td>\n",
              "    </tr>\n",
              "    <tr>\n",
              "      <th>749</th>\n",
              "      <td>6</td>\n",
              "      <td>162</td>\n",
              "      <td>62</td>\n",
              "      <td>0</td>\n",
              "      <td>0</td>\n",
              "      <td>24.3</td>\n",
              "      <td>0.178</td>\n",
              "      <td>50</td>\n",
              "      <td>1</td>\n",
              "    </tr>\n",
              "  </tbody>\n",
              "</table>\n",
              "<p>100 rows × 9 columns</p>\n",
              "</div>"
            ],
            "text/plain": [
              "     preg  plas  pres  skin  test  mass   pedi  age  class\n",
              "650     1    91    54    25   100  25.2  0.234   23      0\n",
              "651     1   117    60    23   106  33.8  0.466   27      0\n",
              "652     5   123    74    40    77  34.1  0.269   28      0\n",
              "653     2   120    54     0     0  26.8  0.455   27      0\n",
              "654     1   106    70    28   135  34.2  0.142   22      0\n",
              "..    ...   ...   ...   ...   ...   ...    ...  ...    ...\n",
              "745    12   100    84    33   105  30.0  0.488   46      0\n",
              "746     1   147    94    41     0  49.3  0.358   27      1\n",
              "747     1    81    74    41    57  46.3  1.096   32      0\n",
              "748     3   187    70    22   200  36.4  0.408   36      1\n",
              "749     6   162    62     0     0  24.3  0.178   50      1\n",
              "\n",
              "[100 rows x 9 columns]"
            ]
          },
          "metadata": {
            "tags": []
          },
          "execution_count": 108
        }
      ]
    },
    {
      "cell_type": "code",
      "metadata": {
        "id": "7eQFukEbSHYU",
        "colab_type": "code",
        "colab": {
          "base_uri": "https://localhost:8080/",
          "height": 230
        },
        "outputId": "4f4bac0a-ff96-458c-b1aa-ab484b63077d"
      },
      "source": [
        "label_test=Test_diabetes['class']\n",
        "label_test"
      ],
      "execution_count": 109,
      "outputs": [
        {
          "output_type": "execute_result",
          "data": {
            "text/plain": [
              "650    0\n",
              "651    0\n",
              "652    0\n",
              "653    0\n",
              "654    0\n",
              "      ..\n",
              "745    0\n",
              "746    1\n",
              "747    0\n",
              "748    1\n",
              "749    1\n",
              "Name: class, Length: 100, dtype: int64"
            ]
          },
          "metadata": {
            "tags": []
          },
          "execution_count": 109
        }
      ]
    },
    {
      "cell_type": "code",
      "metadata": {
        "id": "t2VlZd_KUXp_",
        "colab_type": "code",
        "colab": {
          "base_uri": "https://localhost:8080/",
          "height": 406
        },
        "outputId": "2f7f72d3-316f-475a-ee17-d7c7ada314e8"
      },
      "source": [
        "Test_diabetes=Test_diabetes.drop('class',axis=1) \n",
        "Test_diabetes"
      ],
      "execution_count": 110,
      "outputs": [
        {
          "output_type": "execute_result",
          "data": {
            "text/html": [
              "<div>\n",
              "<style scoped>\n",
              "    .dataframe tbody tr th:only-of-type {\n",
              "        vertical-align: middle;\n",
              "    }\n",
              "\n",
              "    .dataframe tbody tr th {\n",
              "        vertical-align: top;\n",
              "    }\n",
              "\n",
              "    .dataframe thead th {\n",
              "        text-align: right;\n",
              "    }\n",
              "</style>\n",
              "<table border=\"1\" class=\"dataframe\">\n",
              "  <thead>\n",
              "    <tr style=\"text-align: right;\">\n",
              "      <th></th>\n",
              "      <th>preg</th>\n",
              "      <th>plas</th>\n",
              "      <th>pres</th>\n",
              "      <th>skin</th>\n",
              "      <th>test</th>\n",
              "      <th>mass</th>\n",
              "      <th>pedi</th>\n",
              "      <th>age</th>\n",
              "    </tr>\n",
              "  </thead>\n",
              "  <tbody>\n",
              "    <tr>\n",
              "      <th>650</th>\n",
              "      <td>1</td>\n",
              "      <td>91</td>\n",
              "      <td>54</td>\n",
              "      <td>25</td>\n",
              "      <td>100</td>\n",
              "      <td>25.2</td>\n",
              "      <td>0.234</td>\n",
              "      <td>23</td>\n",
              "    </tr>\n",
              "    <tr>\n",
              "      <th>651</th>\n",
              "      <td>1</td>\n",
              "      <td>117</td>\n",
              "      <td>60</td>\n",
              "      <td>23</td>\n",
              "      <td>106</td>\n",
              "      <td>33.8</td>\n",
              "      <td>0.466</td>\n",
              "      <td>27</td>\n",
              "    </tr>\n",
              "    <tr>\n",
              "      <th>652</th>\n",
              "      <td>5</td>\n",
              "      <td>123</td>\n",
              "      <td>74</td>\n",
              "      <td>40</td>\n",
              "      <td>77</td>\n",
              "      <td>34.1</td>\n",
              "      <td>0.269</td>\n",
              "      <td>28</td>\n",
              "    </tr>\n",
              "    <tr>\n",
              "      <th>653</th>\n",
              "      <td>2</td>\n",
              "      <td>120</td>\n",
              "      <td>54</td>\n",
              "      <td>0</td>\n",
              "      <td>0</td>\n",
              "      <td>26.8</td>\n",
              "      <td>0.455</td>\n",
              "      <td>27</td>\n",
              "    </tr>\n",
              "    <tr>\n",
              "      <th>654</th>\n",
              "      <td>1</td>\n",
              "      <td>106</td>\n",
              "      <td>70</td>\n",
              "      <td>28</td>\n",
              "      <td>135</td>\n",
              "      <td>34.2</td>\n",
              "      <td>0.142</td>\n",
              "      <td>22</td>\n",
              "    </tr>\n",
              "    <tr>\n",
              "      <th>...</th>\n",
              "      <td>...</td>\n",
              "      <td>...</td>\n",
              "      <td>...</td>\n",
              "      <td>...</td>\n",
              "      <td>...</td>\n",
              "      <td>...</td>\n",
              "      <td>...</td>\n",
              "      <td>...</td>\n",
              "    </tr>\n",
              "    <tr>\n",
              "      <th>745</th>\n",
              "      <td>12</td>\n",
              "      <td>100</td>\n",
              "      <td>84</td>\n",
              "      <td>33</td>\n",
              "      <td>105</td>\n",
              "      <td>30.0</td>\n",
              "      <td>0.488</td>\n",
              "      <td>46</td>\n",
              "    </tr>\n",
              "    <tr>\n",
              "      <th>746</th>\n",
              "      <td>1</td>\n",
              "      <td>147</td>\n",
              "      <td>94</td>\n",
              "      <td>41</td>\n",
              "      <td>0</td>\n",
              "      <td>49.3</td>\n",
              "      <td>0.358</td>\n",
              "      <td>27</td>\n",
              "    </tr>\n",
              "    <tr>\n",
              "      <th>747</th>\n",
              "      <td>1</td>\n",
              "      <td>81</td>\n",
              "      <td>74</td>\n",
              "      <td>41</td>\n",
              "      <td>57</td>\n",
              "      <td>46.3</td>\n",
              "      <td>1.096</td>\n",
              "      <td>32</td>\n",
              "    </tr>\n",
              "    <tr>\n",
              "      <th>748</th>\n",
              "      <td>3</td>\n",
              "      <td>187</td>\n",
              "      <td>70</td>\n",
              "      <td>22</td>\n",
              "      <td>200</td>\n",
              "      <td>36.4</td>\n",
              "      <td>0.408</td>\n",
              "      <td>36</td>\n",
              "    </tr>\n",
              "    <tr>\n",
              "      <th>749</th>\n",
              "      <td>6</td>\n",
              "      <td>162</td>\n",
              "      <td>62</td>\n",
              "      <td>0</td>\n",
              "      <td>0</td>\n",
              "      <td>24.3</td>\n",
              "      <td>0.178</td>\n",
              "      <td>50</td>\n",
              "    </tr>\n",
              "  </tbody>\n",
              "</table>\n",
              "<p>100 rows × 8 columns</p>\n",
              "</div>"
            ],
            "text/plain": [
              "     preg  plas  pres  skin  test  mass   pedi  age\n",
              "650     1    91    54    25   100  25.2  0.234   23\n",
              "651     1   117    60    23   106  33.8  0.466   27\n",
              "652     5   123    74    40    77  34.1  0.269   28\n",
              "653     2   120    54     0     0  26.8  0.455   27\n",
              "654     1   106    70    28   135  34.2  0.142   22\n",
              "..    ...   ...   ...   ...   ...   ...    ...  ...\n",
              "745    12   100    84    33   105  30.0  0.488   46\n",
              "746     1   147    94    41     0  49.3  0.358   27\n",
              "747     1    81    74    41    57  46.3  1.096   32\n",
              "748     3   187    70    22   200  36.4  0.408   36\n",
              "749     6   162    62     0     0  24.3  0.178   50\n",
              "\n",
              "[100 rows x 8 columns]"
            ]
          },
          "metadata": {
            "tags": []
          },
          "execution_count": 110
        }
      ]
    },
    {
      "cell_type": "markdown",
      "metadata": {
        "id": "22bpojf1myio",
        "colab_type": "text"
      },
      "source": [
        "#<b>Linear Regression</b>"
      ]
    },
    {
      "cell_type": "code",
      "metadata": {
        "id": "O71bsJp9U36n",
        "colab_type": "code",
        "colab": {
          "base_uri": "https://localhost:8080/",
          "height": 34
        },
        "outputId": "1a0a7d1d-dd07-4d8f-d51b-40eb08ba7be7"
      },
      "source": [
        "from sklearn.linear_model import LinearRegression\n",
        "diabetesCheck = LinearRegression()\n",
        "diabetesCheck.fit(Train_diabetes,label_train)"
      ],
      "execution_count": 111,
      "outputs": [
        {
          "output_type": "execute_result",
          "data": {
            "text/plain": [
              "LinearRegression(copy_X=True, fit_intercept=True, n_jobs=None, normalize=False)"
            ]
          },
          "metadata": {
            "tags": []
          },
          "execution_count": 111
        }
      ]
    },
    {
      "cell_type": "markdown",
      "metadata": {
        "id": "jSD4tiJpm4Ut",
        "colab_type": "text"
      },
      "source": [
        "#<b> Accuracy of the model using linear regression"
      ]
    },
    {
      "cell_type": "code",
      "metadata": {
        "id": "NnMwWNg3Vt4L",
        "colab_type": "code",
        "colab": {
          "base_uri": "https://localhost:8080/",
          "height": 34
        },
        "outputId": "228c19c1-306e-4ba5-bd59-3235223ac09b"
      },
      "source": [
        "accuracy = diabetesCheck.score(Test_diabetes,label_test)\n",
        "print(\"accuracy = \", accuracy * 100, \"%\")"
      ],
      "execution_count": 112,
      "outputs": [
        {
          "output_type": "stream",
          "text": [
            "accuracy =  27.161449806450953 %\n"
          ],
          "name": "stdout"
        }
      ]
    },
    {
      "cell_type": "markdown",
      "metadata": {
        "id": "ic1rb7tLnf3g",
        "colab_type": "text"
      },
      "source": [
        "#<b>K-Fold cross validation</b>\n",
        "<br>\n",
        "<br>\n",
        "\n",
        "<b> what is cross validation?</b>\n",
        "\n",
        "K-fold cross validation is a procedure to estimate the skill of the model on new data\n",
        "\n",
        "The general procedure is as follows:<br>\n",
        "\n",
        "1.Shuffle the dataset randomly.<br>\n",
        "<br>\n",
        "2.Split the dataset into k groups<br><br>\n",
        "For each unique group:<br>\n",
        "a.Take the group as a hold out or test data set<br>\n",
        "b.Take the remaining groups as a training data set<br>\n",
        "c.Fit a model on the training set and evaluate it on the test set<br>\n",
        "d.Retain the evaluation score and discard the model<br>\n",
        "e.Summarize the skill of the model using the sample of model evaluation scores<br>\n",
        "<img src=\"https://upload.wikimedia.org/wikipedia/commons/thumb/b/b5/K-fold_cross_validation_EN.svg/1200px-K-fold_cross_validation_EN.svg.png\" width=\"450\" height=\"250\" >\n",
        "\n",
        "\n",
        "\n",
        "\n",
        "\n",
        "\n",
        "\n",
        "\n",
        "\n",
        "\n"
      ]
    },
    {
      "cell_type": "markdown",
      "metadata": {
        "id": "gi5u3fpLnAXr",
        "colab_type": "text"
      },
      "source": [
        "#<b> Linear regression using K-Fold cross validation"
      ]
    },
    {
      "cell_type": "code",
      "metadata": {
        "id": "UWrVyG2FWUa_",
        "colab_type": "code",
        "colab": {
          "base_uri": "https://localhost:8080/",
          "height": 34
        },
        "outputId": "ddae96c0-abde-4d4b-eb8e-d907e0e4559e"
      },
      "source": [
        "# Linear Regression with K-Fold cross validation\n",
        "from pandas import read_csv\n",
        "from sklearn.model_selection import KFold\n",
        "from sklearn.model_selection import cross_val_score\n",
        "from sklearn.linear_model import LinearRegression,LogisticRegression\n",
        "from sklearn.preprocessing import StandardScaler\n",
        "from sklearn.discriminant_analysis import LinearDiscriminantAnalysis\n",
        "filename = '/content/pima-indians-diabetes.csv'\n",
        "names = ['preg', 'plas', 'pres', 'skin', 'test', 'mass', 'pedi', 'age', 'class']\n",
        "dataframe = read_csv(filename, names=names)\n",
        "array = dataframe.values\n",
        "X = array[:,0:8]\n",
        "Y = array[:,8]\n",
        "scaler = StandardScaler()\n",
        "rescaledX = scaler.fit_transform(X)\n",
        "num_folds = 10\n",
        "kfold = KFold(n_splits=5, random_state=2)\n",
        "model = LinearRegression()\n",
        "results = cross_val_score(model, rescaledX, Y, cv=kfold)\n",
        "print(results.mean())"
      ],
      "execution_count": 113,
      "outputs": [
        {
          "output_type": "stream",
          "text": [
            "0.276064800525974\n"
          ],
          "name": "stdout"
        }
      ]
    },
    {
      "cell_type": "markdown",
      "metadata": {
        "id": "FEBQJIbVbAn-",
        "colab_type": "text"
      },
      "source": [
        "#<b> Logistic Regression</b>"
      ]
    },
    {
      "cell_type": "code",
      "metadata": {
        "id": "-KjYmMwUWhiL",
        "colab_type": "code",
        "colab": {
          "base_uri": "https://localhost:8080/",
          "height": 161
        },
        "outputId": "e430b91c-7d33-4ec9-aab4-1f7c4eda7af6"
      },
      "source": [
        "from sklearn.linear_model import LinearRegression,LogisticRegression\n",
        "diabetesCheck = LogisticRegression()\n",
        "diabetesCheck.fit(Train_diabetes,label_train)"
      ],
      "execution_count": 114,
      "outputs": [
        {
          "output_type": "stream",
          "text": [
            "/usr/local/lib/python3.6/dist-packages/sklearn/linear_model/logistic.py:432: FutureWarning: Default solver will be changed to 'lbfgs' in 0.22. Specify a solver to silence this warning.\n",
            "  FutureWarning)\n"
          ],
          "name": "stderr"
        },
        {
          "output_type": "execute_result",
          "data": {
            "text/plain": [
              "LogisticRegression(C=1.0, class_weight=None, dual=False, fit_intercept=True,\n",
              "                   intercept_scaling=1, l1_ratio=None, max_iter=100,\n",
              "                   multi_class='warn', n_jobs=None, penalty='l2',\n",
              "                   random_state=None, solver='warn', tol=0.0001, verbose=0,\n",
              "                   warm_start=False)"
            ]
          },
          "metadata": {
            "tags": []
          },
          "execution_count": 114
        }
      ]
    },
    {
      "cell_type": "markdown",
      "metadata": {
        "id": "DUiA3Rroa9EY",
        "colab_type": "text"
      },
      "source": [
        "<b>Accuracy of the model using linear regression</b>"
      ]
    },
    {
      "cell_type": "code",
      "metadata": {
        "id": "FVQonvEZa9Qx",
        "colab_type": "code",
        "colab": {
          "base_uri": "https://localhost:8080/",
          "height": 34
        },
        "outputId": "a30a183c-8065-4b95-fce1-a3dd57b581f1"
      },
      "source": [
        "accuracy = diabetesCheck.score(Test_diabetes,label_test)\n",
        "print(\"accuracy = \", accuracy * 100, \"%\")"
      ],
      "execution_count": 115,
      "outputs": [
        {
          "output_type": "stream",
          "text": [
            "accuracy =  76.0 %\n"
          ],
          "name": "stdout"
        }
      ]
    },
    {
      "cell_type": "markdown",
      "metadata": {
        "id": "Q9V6ptufbEg6",
        "colab_type": "text"
      },
      "source": [
        "#<b>Logistic Regression using K-Fold cross validation"
      ]
    },
    {
      "cell_type": "code",
      "metadata": {
        "id": "DO-Ih5VibAzw",
        "colab_type": "code",
        "colab": {
          "base_uri": "https://localhost:8080/",
          "height": 232
        },
        "outputId": "9a415931-b3d8-4ead-a007-6dfeb486106e"
      },
      "source": [
        "# Logistic Regression with K-Fold cross validation\n",
        "from pandas import read_csv\n",
        "from sklearn.model_selection import KFold\n",
        "from sklearn.model_selection import cross_val_score\n",
        "from sklearn.linear_model import LinearRegression,LogisticRegression\n",
        "from sklearn.preprocessing import StandardScaler\n",
        "from sklearn.discriminant_analysis import LinearDiscriminantAnalysis\n",
        "filename = '/content/pima-indians-diabetes.csv'\n",
        "names = ['preg', 'plas', 'pres', 'skin', 'test', 'mass', 'pedi', 'age', 'class']\n",
        "dataframe = read_csv(filename, names=names)\n",
        "array = dataframe.values\n",
        "X = array[:,0:8]\n",
        "Y = array[:,8]\n",
        "scaler = StandardScaler()\n",
        "rescaledX = scaler.fit_transform(X)\n",
        "num_folds = 10\n",
        "kfold = KFold(n_splits=5, random_state=2)\n",
        "model = LogisticRegression()\n",
        "results = cross_val_score(model, rescaledX, Y, cv=kfold)\n",
        "print(results.mean())"
      ],
      "execution_count": 116,
      "outputs": [
        {
          "output_type": "stream",
          "text": [
            "0.7709107885578474\n"
          ],
          "name": "stdout"
        },
        {
          "output_type": "stream",
          "text": [
            "/usr/local/lib/python3.6/dist-packages/sklearn/linear_model/logistic.py:432: FutureWarning: Default solver will be changed to 'lbfgs' in 0.22. Specify a solver to silence this warning.\n",
            "  FutureWarning)\n",
            "/usr/local/lib/python3.6/dist-packages/sklearn/linear_model/logistic.py:432: FutureWarning: Default solver will be changed to 'lbfgs' in 0.22. Specify a solver to silence this warning.\n",
            "  FutureWarning)\n",
            "/usr/local/lib/python3.6/dist-packages/sklearn/linear_model/logistic.py:432: FutureWarning: Default solver will be changed to 'lbfgs' in 0.22. Specify a solver to silence this warning.\n",
            "  FutureWarning)\n",
            "/usr/local/lib/python3.6/dist-packages/sklearn/linear_model/logistic.py:432: FutureWarning: Default solver will be changed to 'lbfgs' in 0.22. Specify a solver to silence this warning.\n",
            "  FutureWarning)\n",
            "/usr/local/lib/python3.6/dist-packages/sklearn/linear_model/logistic.py:432: FutureWarning: Default solver will be changed to 'lbfgs' in 0.22. Specify a solver to silence this warning.\n",
            "  FutureWarning)\n"
          ],
          "name": "stderr"
        }
      ]
    }
  ]
}