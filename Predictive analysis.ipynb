{
  "nbformat": 4,
  "nbformat_minor": 0,
  "metadata": {
    "colab": {
      "name": "Untitled46.ipynb",
      "provenance": [],
      "collapsed_sections": [],
      "include_colab_link": true
    },
    "kernelspec": {
      "name": "python3",
      "display_name": "Python 3"
    }
  },
  "cells": [
    {
      "cell_type": "markdown",
      "metadata": {
        "id": "view-in-github",
        "colab_type": "text"
      },
      "source": [
        "<a href=\"https://colab.research.google.com/github/sampritich/samplerepo/blob/master/Predictive%20analysis.ipynb\" target=\"_parent\"><img src=\"https://colab.research.google.com/assets/colab-badge.svg\" alt=\"Open In Colab\"/></a>"
      ]
    },
    {
      "cell_type": "markdown",
      "metadata": {
        "id": "epzTtAL7iUnx",
        "colab_type": "text"
      },
      "source": [
        "# <b> Predictive Analysis</b>\n",
        "\n",
        "<img src=\"https://i0.wp.com/soulpageit.com/wp-content/uploads/2019/07/Predictive-Analytics-Software.png?fit=849%2C823&ssl=1\" width=\"320\" height=\"300\" >\n",
        "\n",
        "# <b>Statistical Leraning</b>\n",
        "Statistical learning refers to a set of tools for modelling and understanding complex data<br>\n",
        "Statistical algorithms help analyse input data and obtain useful insights from it<br>\n",
        "These insights are obtained in two ways – Inference & Predictions\n",
        "\n",
        "# <b>Data</b>\n",
        "\n",
        "What is data?\n",
        "data are individual pieces of factual information recorded and the raw information from which statistics are created. Statistics are the results of data analysis \n",
        "\n",
        "<img src=\"https://cdn4.iconfinder.com/data/icons/STROKE/business/png/400/group_data.png\" width=\"200\" height=\"200\" >\n",
        "\n"
      ]
    },
    {
      "cell_type": "code",
      "metadata": {
        "id": "cMyNU41JoGSF",
        "colab_type": "code",
        "outputId": "ef1a3478-8f21-44a7-a9d5-f55e48821a87",
        "colab": {
          "base_uri": "https://localhost:8080/",
          "height": 445
        }
      },
      "source": [
        "!wget https://www.dropbox.com/s/m49xi2l7zm2ppqk/InputDataFiles.zip\n"
      ],
      "execution_count": 1,
      "outputs": [
        {
          "output_type": "stream",
          "text": [
            "--2019-12-27 05:52:03--  https://www.dropbox.com/s/m49xi2l7zm2ppqk/InputDataFiles.zip\n",
            "Resolving www.dropbox.com (www.dropbox.com)... 162.125.8.1, 2620:100:6016:1::a27d:101\n",
            "Connecting to www.dropbox.com (www.dropbox.com)|162.125.8.1|:443... connected.\n",
            "HTTP request sent, awaiting response... 301 Moved Permanently\n",
            "Location: /s/raw/m49xi2l7zm2ppqk/InputDataFiles.zip [following]\n",
            "--2019-12-27 05:52:04--  https://www.dropbox.com/s/raw/m49xi2l7zm2ppqk/InputDataFiles.zip\n",
            "Reusing existing connection to www.dropbox.com:443.\n",
            "HTTP request sent, awaiting response... 302 Found\n",
            "Location: https://uc7d58cfd4d37cb91b703c185c0b.dl.dropboxusercontent.com/cd/0/inline/AvDg6ToNxY7Mv9EMUju0yMOnGooCN2S-c5bbP7EtA8QlW6_qiqxDrXT7W_nW5_gHsgkq_U_hOuH21qqf-qnmB3nWhVy5hxaqp5rYIZMSUSFNlnRWl63Nmws9RAt2aJ4ESZs/file# [following]\n",
            "--2019-12-27 05:52:04--  https://uc7d58cfd4d37cb91b703c185c0b.dl.dropboxusercontent.com/cd/0/inline/AvDg6ToNxY7Mv9EMUju0yMOnGooCN2S-c5bbP7EtA8QlW6_qiqxDrXT7W_nW5_gHsgkq_U_hOuH21qqf-qnmB3nWhVy5hxaqp5rYIZMSUSFNlnRWl63Nmws9RAt2aJ4ESZs/file\n",
            "Resolving uc7d58cfd4d37cb91b703c185c0b.dl.dropboxusercontent.com (uc7d58cfd4d37cb91b703c185c0b.dl.dropboxusercontent.com)... 162.125.8.6, 2620:100:6016:6::a27d:106\n",
            "Connecting to uc7d58cfd4d37cb91b703c185c0b.dl.dropboxusercontent.com (uc7d58cfd4d37cb91b703c185c0b.dl.dropboxusercontent.com)|162.125.8.6|:443... connected.\n",
            "HTTP request sent, awaiting response... 302 FOUND\n",
            "Location: /cd/0/inline2/AvDnso_tKVwd8yPhd2240KdRWmhN6bNDuSpS6D0AgOsno1Ovm-KJScZ3-rYngTPLNUAzEo3kGD0M5OX1zIFKg7RdoHp8yY6qwDq0LsTwBUK7UqVstLRisgctJNqWmrLRXoWSqKe9YPf9hI3ZU-lQHRwQS4qEgEJIDz-jfpbvQuomNwO3pYMVNLYShWTMa4Jj_q0yshhhZpOz2DxCpWYBSHrdbNSZ-7n_M2sQhvD9qd6y-iQzVWVIqzNHdrbDPSgsGYkC5Hz5zrb0R0U48i-PsnXZDjVKDU8nuuLEatl-xNLdPtqCoP6nD3Wqey6xUa-EYand-xaOyPU4QS5OoX6rtKyYVWj7C24QM4KvV1OQOqgWvQ/file [following]\n",
            "--2019-12-27 05:52:05--  https://uc7d58cfd4d37cb91b703c185c0b.dl.dropboxusercontent.com/cd/0/inline2/AvDnso_tKVwd8yPhd2240KdRWmhN6bNDuSpS6D0AgOsno1Ovm-KJScZ3-rYngTPLNUAzEo3kGD0M5OX1zIFKg7RdoHp8yY6qwDq0LsTwBUK7UqVstLRisgctJNqWmrLRXoWSqKe9YPf9hI3ZU-lQHRwQS4qEgEJIDz-jfpbvQuomNwO3pYMVNLYShWTMa4Jj_q0yshhhZpOz2DxCpWYBSHrdbNSZ-7n_M2sQhvD9qd6y-iQzVWVIqzNHdrbDPSgsGYkC5Hz5zrb0R0U48i-PsnXZDjVKDU8nuuLEatl-xNLdPtqCoP6nD3Wqey6xUa-EYand-xaOyPU4QS5OoX6rtKyYVWj7C24QM4KvV1OQOqgWvQ/file\n",
            "Reusing existing connection to uc7d58cfd4d37cb91b703c185c0b.dl.dropboxusercontent.com:443.\n",
            "HTTP request sent, awaiting response... 200 OK\n",
            "Length: 5048351 (4.8M) [application/zip]\n",
            "Saving to: ‘InputDataFiles.zip’\n",
            "\n",
            "InputDataFiles.zip  100%[===================>]   4.81M  15.6MB/s    in 0.3s    \n",
            "\n",
            "2019-12-27 05:52:05 (15.6 MB/s) - ‘InputDataFiles.zip’ saved [5048351/5048351]\n",
            "\n"
          ],
          "name": "stdout"
        }
      ]
    },
    {
      "cell_type": "code",
      "metadata": {
        "id": "LSzUq60BoRXX",
        "colab_type": "code",
        "outputId": "527623da-ac08-42af-de1a-b29ebd051dab",
        "colab": {
          "base_uri": "https://localhost:8080/",
          "height": 136
        }
      },
      "source": [
        "!unzip InputDataFiles.zip\n"
      ],
      "execution_count": 2,
      "outputs": [
        {
          "output_type": "stream",
          "text": [
            "Archive:  InputDataFiles.zip\n",
            "   creating: InputDataFiles/\n",
            "  inflating: InputDataFiles/items.csv  \n",
            "  inflating: InputDataFiles/item_categories.csv  \n",
            "  inflating: InputDataFiles/sales_train.csv  \n",
            "  inflating: InputDataFiles/shops.csv  \n",
            "  inflating: InputDataFiles/Supermarket.csv  \n"
          ],
          "name": "stdout"
        }
      ]
    },
    {
      "cell_type": "markdown",
      "metadata": {
        "id": "KYp4Pw2SnLfR",
        "colab_type": "text"
      },
      "source": [
        "### Load Data"
      ]
    },
    {
      "cell_type": "code",
      "metadata": {
        "id": "fBuuEoVynLfS",
        "colab_type": "code",
        "colab": {}
      },
      "source": [
        "import pandas as pd"
      ],
      "execution_count": 0,
      "outputs": []
    },
    {
      "cell_type": "code",
      "metadata": {
        "id": "7PGLuB6QnLfX",
        "colab_type": "code",
        "colab": {}
      },
      "source": [
        "items = pd.read_csv(\"/content/InputDataFiles/items.csv\")\n",
        "shops = pd.read_csv(\"/content/InputDataFiles/shops.csv\")\n",
        "cats = pd.read_csv(\"/content/InputDataFiles/item_categories.csv\")\n",
        "train = pd.read_csv(\"/content/InputDataFiles/sales_train.csv\")"
      ],
      "execution_count": 0,
      "outputs": []
    },
    {
      "cell_type": "markdown",
      "metadata": {
        "colab_type": "text",
        "id": "oU3l04eGo0WM"
      },
      "source": [
        "### Look at the first five rows"
      ]
    },
    {
      "cell_type": "code",
      "metadata": {
        "id": "M9hoU8lGnLfc",
        "colab_type": "code",
        "outputId": "8e5eeaa5-fae2-4a40-9edc-c13d0cd840f9",
        "colab": {
          "base_uri": "https://localhost:8080/",
          "height": 204
        }
      },
      "source": [
        "train.head()"
      ],
      "execution_count": 5,
      "outputs": [
        {
          "output_type": "execute_result",
          "data": {
            "text/html": [
              "<div>\n",
              "<style scoped>\n",
              "    .dataframe tbody tr th:only-of-type {\n",
              "        vertical-align: middle;\n",
              "    }\n",
              "\n",
              "    .dataframe tbody tr th {\n",
              "        vertical-align: top;\n",
              "    }\n",
              "\n",
              "    .dataframe thead th {\n",
              "        text-align: right;\n",
              "    }\n",
              "</style>\n",
              "<table border=\"1\" class=\"dataframe\">\n",
              "  <thead>\n",
              "    <tr style=\"text-align: right;\">\n",
              "      <th></th>\n",
              "      <th>date</th>\n",
              "      <th>date_block_num</th>\n",
              "      <th>shop_id</th>\n",
              "      <th>item_id</th>\n",
              "      <th>item_price</th>\n",
              "      <th>item_cnt_day</th>\n",
              "    </tr>\n",
              "  </thead>\n",
              "  <tbody>\n",
              "    <tr>\n",
              "      <th>0</th>\n",
              "      <td>02.01.2013</td>\n",
              "      <td>0</td>\n",
              "      <td>59</td>\n",
              "      <td>22154</td>\n",
              "      <td>999.00</td>\n",
              "      <td>1</td>\n",
              "    </tr>\n",
              "    <tr>\n",
              "      <th>1</th>\n",
              "      <td>03.01.2013</td>\n",
              "      <td>0</td>\n",
              "      <td>25</td>\n",
              "      <td>2552</td>\n",
              "      <td>899.00</td>\n",
              "      <td>1</td>\n",
              "    </tr>\n",
              "    <tr>\n",
              "      <th>2</th>\n",
              "      <td>05.01.2013</td>\n",
              "      <td>0</td>\n",
              "      <td>25</td>\n",
              "      <td>2552</td>\n",
              "      <td>899.00</td>\n",
              "      <td>-1</td>\n",
              "    </tr>\n",
              "    <tr>\n",
              "      <th>3</th>\n",
              "      <td>06.01.2013</td>\n",
              "      <td>0</td>\n",
              "      <td>25</td>\n",
              "      <td>2554</td>\n",
              "      <td>1709.05</td>\n",
              "      <td>1</td>\n",
              "    </tr>\n",
              "    <tr>\n",
              "      <th>4</th>\n",
              "      <td>15.01.2013</td>\n",
              "      <td>0</td>\n",
              "      <td>25</td>\n",
              "      <td>2555</td>\n",
              "      <td>1099.00</td>\n",
              "      <td>1</td>\n",
              "    </tr>\n",
              "  </tbody>\n",
              "</table>\n",
              "</div>"
            ],
            "text/plain": [
              "         date  date_block_num  shop_id  item_id  item_price  item_cnt_day\n",
              "0  02.01.2013               0       59    22154      999.00             1\n",
              "1  03.01.2013               0       25     2552      899.00             1\n",
              "2  05.01.2013               0       25     2552      899.00            -1\n",
              "3  06.01.2013               0       25     2554     1709.05             1\n",
              "4  15.01.2013               0       25     2555     1099.00             1"
            ]
          },
          "metadata": {
            "tags": []
          },
          "execution_count": 5
        }
      ]
    },
    {
      "cell_type": "markdown",
      "metadata": {
        "id": "G0aGLFR2nLfg",
        "colab_type": "text"
      },
      "source": [
        "### Dimensions of Data"
      ]
    },
    {
      "cell_type": "code",
      "metadata": {
        "id": "ank4vTyJnLfh",
        "colab_type": "code",
        "outputId": "8be9f2f4-d142-469f-e9a3-5b9c389855ae",
        "colab": {
          "base_uri": "https://localhost:8080/",
          "height": 34
        }
      },
      "source": [
        "train.shape"
      ],
      "execution_count": 6,
      "outputs": [
        {
          "output_type": "execute_result",
          "data": {
            "text/plain": [
              "(1043246, 6)"
            ]
          },
          "metadata": {
            "tags": []
          },
          "execution_count": 6
        }
      ]
    },
    {
      "cell_type": "code",
      "metadata": {
        "id": "W3R9AgoJnLfn",
        "colab_type": "code",
        "outputId": "2ebb7aa1-91fe-4682-8825-1a7b480f33bb",
        "colab": {
          "base_uri": "https://localhost:8080/",
          "height": 85
        }
      },
      "source": [
        "print(\"Categories:\",cats.shape)\n",
        "print(\"Items:\",items.shape)\n",
        "print(\"Shops:\",shops.shape)\n",
        "print(\"Train:\",train.shape)"
      ],
      "execution_count": 7,
      "outputs": [
        {
          "output_type": "stream",
          "text": [
            "Categories: (84, 2)\n",
            "Items: (22170, 3)\n",
            "Shops: (60, 2)\n",
            "Train: (1043246, 6)\n"
          ],
          "name": "stdout"
        }
      ]
    },
    {
      "cell_type": "markdown",
      "metadata": {
        "id": "3kTUEORanLfq",
        "colab_type": "text"
      },
      "source": [
        "### Data type for each attribute"
      ]
    },
    {
      "cell_type": "code",
      "metadata": {
        "id": "igU42XnInLfr",
        "colab_type": "code",
        "outputId": "8585f588-5ccc-4d80-d133-cf999b077493",
        "colab": {
          "base_uri": "https://localhost:8080/",
          "height": 136
        }
      },
      "source": [
        "train.dtypes"
      ],
      "execution_count": 8,
      "outputs": [
        {
          "output_type": "execute_result",
          "data": {
            "text/plain": [
              "date               object\n",
              "date_block_num      int64\n",
              "shop_id             int64\n",
              "item_id             int64\n",
              "item_price        float64\n",
              "item_cnt_day        int64\n",
              "dtype: object"
            ]
          },
          "metadata": {
            "tags": []
          },
          "execution_count": 8
        }
      ]
    },
    {
      "cell_type": "markdown",
      "metadata": {
        "id": "U5BvE9UhoGnQ",
        "colab_type": "text"
      },
      "source": [
        "<b> Introduction to datatypes </b>\n",
        "\n",
        "<img src=\"https://miro.medium.com/max/2924/1*dvvxoZTdewLFs3RyZTJreA.png\n",
        "\" width=\"400\" height=\"300\" >\n",
        "\n",
        "# Descriptive Statistics\n",
        "Descriptive Statistics is a data analysis strategy\n",
        "It deals with the presentation of numerical facts,or data, in either tables or graph form, and with the methodology of analysing the data\n",
        "\n",
        "![image.png](data:image/png;base64,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)"
      ]
    },
    {
      "cell_type": "markdown",
      "metadata": {
        "id": "lYhZpyLhbxaN",
        "colab_type": "text"
      },
      "source": [
        "#Calculating Measures of Central Tendency"
      ]
    },
    {
      "cell_type": "markdown",
      "metadata": {
        "id": "W68nXNVXbxaP",
        "colab_type": "text"
      },
      "source": [
        "# Mean: Represents average values"
      ]
    },
    {
      "cell_type": "code",
      "metadata": {
        "id": "MRzJZpUxbxaR",
        "colab_type": "code",
        "outputId": "b14be10d-dfd8-4525-96ce-8f62d61c2730",
        "colab": {
          "base_uri": "https://localhost:8080/",
          "height": 297
        }
      },
      "source": [
        "train.describe()"
      ],
      "execution_count": 9,
      "outputs": [
        {
          "output_type": "execute_result",
          "data": {
            "text/html": [
              "<div>\n",
              "<style scoped>\n",
              "    .dataframe tbody tr th:only-of-type {\n",
              "        vertical-align: middle;\n",
              "    }\n",
              "\n",
              "    .dataframe tbody tr th {\n",
              "        vertical-align: top;\n",
              "    }\n",
              "\n",
              "    .dataframe thead th {\n",
              "        text-align: right;\n",
              "    }\n",
              "</style>\n",
              "<table border=\"1\" class=\"dataframe\">\n",
              "  <thead>\n",
              "    <tr style=\"text-align: right;\">\n",
              "      <th></th>\n",
              "      <th>date_block_num</th>\n",
              "      <th>shop_id</th>\n",
              "      <th>item_id</th>\n",
              "      <th>item_price</th>\n",
              "      <th>item_cnt_day</th>\n",
              "    </tr>\n",
              "  </thead>\n",
              "  <tbody>\n",
              "    <tr>\n",
              "      <th>count</th>\n",
              "      <td>1.043246e+06</td>\n",
              "      <td>1.043246e+06</td>\n",
              "      <td>1.043246e+06</td>\n",
              "      <td>1.043246e+06</td>\n",
              "      <td>1.043246e+06</td>\n",
              "    </tr>\n",
              "    <tr>\n",
              "      <th>mean</th>\n",
              "      <td>4.472810e+00</td>\n",
              "      <td>3.245368e+01</td>\n",
              "      <td>1.024260e+04</td>\n",
              "      <td>6.823654e+02</td>\n",
              "      <td>1.220174e+00</td>\n",
              "    </tr>\n",
              "    <tr>\n",
              "      <th>std</th>\n",
              "      <td>2.967065e+00</td>\n",
              "      <td>1.625856e+01</td>\n",
              "      <td>6.305360e+03</td>\n",
              "      <td>1.124829e+03</td>\n",
              "      <td>1.600203e+00</td>\n",
              "    </tr>\n",
              "    <tr>\n",
              "      <th>min</th>\n",
              "      <td>0.000000e+00</td>\n",
              "      <td>0.000000e+00</td>\n",
              "      <td>1.200000e+01</td>\n",
              "      <td>-1.000000e+00</td>\n",
              "      <td>-6.000000e+00</td>\n",
              "    </tr>\n",
              "    <tr>\n",
              "      <th>25%</th>\n",
              "      <td>2.000000e+00</td>\n",
              "      <td>2.200000e+01</td>\n",
              "      <td>4.548000e+03</td>\n",
              "      <td>1.990000e+02</td>\n",
              "      <td>1.000000e+00</td>\n",
              "    </tr>\n",
              "    <tr>\n",
              "      <th>50%</th>\n",
              "      <td>4.000000e+00</td>\n",
              "      <td>3.000000e+01</td>\n",
              "      <td>9.691000e+03</td>\n",
              "      <td>3.990000e+02</td>\n",
              "      <td>1.000000e+00</td>\n",
              "    </tr>\n",
              "    <tr>\n",
              "      <th>75%</th>\n",
              "      <td>7.000000e+00</td>\n",
              "      <td>4.700000e+01</td>\n",
              "      <td>1.561875e+04</td>\n",
              "      <td>6.993000e+02</td>\n",
              "      <td>1.000000e+00</td>\n",
              "    </tr>\n",
              "    <tr>\n",
              "      <th>max</th>\n",
              "      <td>1.000000e+01</td>\n",
              "      <td>5.900000e+01</td>\n",
              "      <td>2.216800e+04</td>\n",
              "      <td>5.920000e+04</td>\n",
              "      <td>2.880000e+02</td>\n",
              "    </tr>\n",
              "  </tbody>\n",
              "</table>\n",
              "</div>"
            ],
            "text/plain": [
              "       date_block_num       shop_id       item_id    item_price  item_cnt_day\n",
              "count    1.043246e+06  1.043246e+06  1.043246e+06  1.043246e+06  1.043246e+06\n",
              "mean     4.472810e+00  3.245368e+01  1.024260e+04  6.823654e+02  1.220174e+00\n",
              "std      2.967065e+00  1.625856e+01  6.305360e+03  1.124829e+03  1.600203e+00\n",
              "min      0.000000e+00  0.000000e+00  1.200000e+01 -1.000000e+00 -6.000000e+00\n",
              "25%      2.000000e+00  2.200000e+01  4.548000e+03  1.990000e+02  1.000000e+00\n",
              "50%      4.000000e+00  3.000000e+01  9.691000e+03  3.990000e+02  1.000000e+00\n",
              "75%      7.000000e+00  4.700000e+01  1.561875e+04  6.993000e+02  1.000000e+00\n",
              "max      1.000000e+01  5.900000e+01  2.216800e+04  5.920000e+04  2.880000e+02"
            ]
          },
          "metadata": {
            "tags": []
          },
          "execution_count": 9
        }
      ]
    },
    {
      "cell_type": "code",
      "metadata": {
        "id": "lxW6Xh8OqIHh",
        "colab_type": "code",
        "colab": {}
      },
      "source": [
        "#train.mean()"
      ],
      "execution_count": 0,
      "outputs": []
    },
    {
      "cell_type": "markdown",
      "metadata": {
        "id": "Gp5UIBKCbxaY",
        "colab_type": "text"
      },
      "source": [
        "# Median: Middle value of dataset\n",
        "\n",
        "\n",
        "<img src=\"https://www.mathsisfun.com/data/images/median.svg\n",
        "\" width=\"400\" height=\"200\" >\n"
      ]
    },
    {
      "cell_type": "code",
      "metadata": {
        "id": "F_8zapOpbxaZ",
        "colab_type": "code",
        "colab": {
          "base_uri": "https://localhost:8080/",
          "height": 119
        },
        "outputId": "6d5ca98f-9577-4c6a-f1df-242bb0bdbb9a"
      },
      "source": [
        "train.median()\n"
      ],
      "execution_count": 11,
      "outputs": [
        {
          "output_type": "execute_result",
          "data": {
            "text/plain": [
              "date_block_num       4.0\n",
              "shop_id             30.0\n",
              "item_id           9691.0\n",
              "item_price         399.0\n",
              "item_cnt_day         1.0\n",
              "dtype: float64"
            ]
          },
          "metadata": {
            "tags": []
          },
          "execution_count": 11
        }
      ]
    },
    {
      "cell_type": "markdown",
      "metadata": {
        "id": "iOnP_1hjqanf",
        "colab_type": "text"
      },
      "source": [
        "<b>(1043246, 6)</b>\n",
        "\n",
        "\n",
        "1.   1043246 --> number of rows in the dataset\n",
        "2.   6 --> number of columns in the dataset\n",
        "\n"
      ]
    },
    {
      "cell_type": "code",
      "metadata": {
        "id": "wDb671mr0YAW",
        "colab_type": "code",
        "outputId": "f9c79d88-34be-4698-ddf7-573a226856e0",
        "colab": {
          "base_uri": "https://localhost:8080/",
          "height": 34
        }
      },
      "source": [
        "train.shape\n"
      ],
      "execution_count": 12,
      "outputs": [
        {
          "output_type": "execute_result",
          "data": {
            "text/plain": [
              "(1043246, 6)"
            ]
          },
          "metadata": {
            "tags": []
          },
          "execution_count": 12
        }
      ]
    },
    {
      "cell_type": "markdown",
      "metadata": {
        "id": "4BiL_KQjraUy",
        "colab_type": "text"
      },
      "source": [
        "# Mode: number which is repeated most of the time in the list\n",
        "\n",
        "<img src=\"https://www.mathsisfun.com/data/images/mode.svg\n",
        "\" width=\"300\" height=\"200\" >\n",
        "\n"
      ]
    },
    {
      "cell_type": "code",
      "metadata": {
        "id": "Z35FryKu0eHq",
        "colab_type": "code",
        "outputId": "518adf31-643e-4875-b6a0-aefe9bf239a5",
        "colab": {
          "base_uri": "https://localhost:8080/",
          "height": 80
        }
      },
      "source": [
        "#train.iloc[0]## first row of data frame\n",
        "#train.iloc[169:171,0:3]#First column\n",
        "train.mode()\n"
      ],
      "execution_count": 13,
      "outputs": [
        {
          "output_type": "execute_result",
          "data": {
            "text/html": [
              "<div>\n",
              "<style scoped>\n",
              "    .dataframe tbody tr th:only-of-type {\n",
              "        vertical-align: middle;\n",
              "    }\n",
              "\n",
              "    .dataframe tbody tr th {\n",
              "        vertical-align: top;\n",
              "    }\n",
              "\n",
              "    .dataframe thead th {\n",
              "        text-align: right;\n",
              "    }\n",
              "</style>\n",
              "<table border=\"1\" class=\"dataframe\">\n",
              "  <thead>\n",
              "    <tr style=\"text-align: right;\">\n",
              "      <th></th>\n",
              "      <th>date</th>\n",
              "      <th>date_block_num</th>\n",
              "      <th>shop_id</th>\n",
              "      <th>item_id</th>\n",
              "      <th>item_price</th>\n",
              "      <th>item_cnt_day</th>\n",
              "    </tr>\n",
              "  </thead>\n",
              "  <tbody>\n",
              "    <tr>\n",
              "      <th>0</th>\n",
              "      <td>23.02.2013</td>\n",
              "      <td>2</td>\n",
              "      <td>31</td>\n",
              "      <td>20949</td>\n",
              "      <td>299.0</td>\n",
              "      <td>1</td>\n",
              "    </tr>\n",
              "  </tbody>\n",
              "</table>\n",
              "</div>"
            ],
            "text/plain": [
              "         date  date_block_num  shop_id  item_id  item_price  item_cnt_day\n",
              "0  23.02.2013               2       31    20949       299.0             1"
            ]
          },
          "metadata": {
            "tags": []
          },
          "execution_count": 13
        }
      ]
    },
    {
      "cell_type": "markdown",
      "metadata": {
        "id": "_EHohZo52lrT",
        "colab_type": "text"
      },
      "source": [
        "# Range: \n",
        "The range gives a measure of how spread apart the values are\n",
        "The range is simply calculated as the maximum value – minimum value <br>\n",
        "                        <b>  Max(xi)–Min(xi) </b>\n",
        "                          <br>\n",
        "                          <br>\n",
        "                          <br>\n",
        "<img src=\"https://www.mathsisfun.com/data/images/range.svg\" width=\"350\" height=\"150\" >\n",
        "\n"
      ]
    },
    {
      "cell_type": "code",
      "metadata": {
        "id": "v28ZxZo03vvI",
        "colab_type": "code",
        "outputId": "e0c5a1e3-bc2f-4bce-da37-2b880d544e5a",
        "colab": {
          "base_uri": "https://localhost:8080/",
          "height": 105
        }
      },
      "source": [
        "import numpy as np\n",
        "print(\"Range for item_price:\",np.ptp(train.item_price, axis=0))\n",
        "print(\"Range for item_cnt_day:\",np.ptp(train.item_cnt_day, axis=0))"
      ],
      "execution_count": 14,
      "outputs": [
        {
          "output_type": "stream",
          "text": [
            "Range for item_price: 59201.0\n",
            "Range for item_cnt_day: 294\n"
          ],
          "name": "stdout"
        },
        {
          "output_type": "stream",
          "text": [
            "/usr/local/lib/python3.6/dist-packages/numpy/core/fromnumeric.py:2495: FutureWarning: Method .ptp is deprecated and will be removed in a future version. Use numpy.ptp instead.\n",
            "  return ptp(axis=axis, out=out, **kwargs)\n"
          ],
          "name": "stderr"
        }
      ]
    },
    {
      "cell_type": "markdown",
      "metadata": {
        "id": "k6IlwZDEbxad",
        "colab_type": "text"
      },
      "source": [
        "#Outliers: Anything which is not following the normal range of the data\n",
        "\n",
        "<img src=\"https://www.stevesjogren.com/wp-content/uploads/2011/06/1_TbUF_HTQ6jOhO8EoPnmekQ.jpg\" width=\"300\" height=\"200\" >\n"
      ]
    },
    {
      "cell_type": "markdown",
      "metadata": {
        "id": "6ANPXO7Ebxae",
        "colab_type": "text"
      },
      "source": [
        "# <b>Z-Score</b>\n",
        "Z-score is a numerical measurement used in statistics of a value's relationship to the mean (average) of a group of values, measured in terms of standard deviations from the mean\n",
        "\n",
        "(Measuring the distance of your point from the mean)\n",
        "# To handle the outliers\n",
        "\n",
        "<img src=\"https://www.animatedsoftware.com/pics/stats/sgzscor2.gif\" width=\"450\" height=\"200\" >\n",
        "\n",
        "\n"
      ]
    },
    {
      "cell_type": "code",
      "metadata": {
        "id": "ayiar7mbbxaf",
        "colab_type": "code",
        "colab": {}
      },
      "source": [
        "from scipy import stats\n",
        "import numpy as np"
      ],
      "execution_count": 0,
      "outputs": []
    },
    {
      "cell_type": "code",
      "metadata": {
        "id": "d8IVYC4ybxai",
        "colab_type": "code",
        "outputId": "e7e61cb8-471d-42cf-f70c-4fbdbd1424d8",
        "colab": {
          "base_uri": "https://localhost:8080/",
          "height": 136
        }
      },
      "source": [
        "# Using Z-score function defined in scipy library to detect the outliers\n",
        "z = np.abs(stats.zscore(train[['item_price','item_cnt_day']]))\n",
        "print(z)"
      ],
      "execution_count": 16,
      "outputs": [
        {
          "output_type": "stream",
          "text": [
            "[[0.28149591 0.13759157]\n",
            " [0.19259347 0.13759157]\n",
            " [0.19259347 1.38743362]\n",
            " ...\n",
            " [0.42972364 0.13759157]\n",
            " [0.51862608 0.13759157]\n",
            " [0.42972364 0.13759157]]\n"
          ],
          "name": "stdout"
        }
      ]
    },
    {
      "cell_type": "code",
      "metadata": {
        "id": "attRvATHbxam",
        "colab_type": "code",
        "outputId": "a45a02e4-7bc9-42ba-d856-1b288de9f9b7",
        "colab": {
          "base_uri": "https://localhost:8080/",
          "height": 34
        }
      },
      "source": [
        "# Define a threshold to identify an outlier\n",
        "threshold = 5\n",
        "print(np.where(z > threshold))"
      ],
      "execution_count": 17,
      "outputs": [
        {
          "output_type": "stream",
          "text": [
            "(array([    117,     169,     457, ..., 1042982, 1043154, 1043198]), array([1, 1, 0, ..., 0, 1, 1]))\n"
          ],
          "name": "stdout"
        }
      ]
    },
    {
      "cell_type": "code",
      "metadata": {
        "id": "xYDLMsJRbxar",
        "colab_type": "code",
        "outputId": "96e20f95-55f1-4b99-9792-9ed344ad44dc",
        "colab": {
          "base_uri": "https://localhost:8080/",
          "height": 34
        }
      },
      "source": [
        "# The first array contains the list of row numbers and second array respective column numbers, \n",
        "# which mean z[352][1] have a Z-score higher than 5.\n",
        "print(z[117][1])"
      ],
      "execution_count": 18,
      "outputs": [
        {
          "output_type": "stream",
          "text": [
            "7.36146071862519\n"
          ],
          "name": "stdout"
        }
      ]
    },
    {
      "cell_type": "code",
      "metadata": {
        "id": "GP0z24eObxav",
        "colab_type": "code",
        "outputId": "85c409ef-d84e-46e0-c733-37b1f626092f",
        "colab": {
          "base_uri": "https://localhost:8080/",
          "height": 34
        }
      },
      "source": [
        "# Printing the sample values for the same\n",
        "train.iloc[169:171]\n",
        "z[169][1]"
      ],
      "execution_count": 19,
      "outputs": [
        {
          "output_type": "execute_result",
          "data": {
            "text/plain": [
              "7.36146071862519"
            ]
          },
          "metadata": {
            "tags": []
          },
          "execution_count": 19
        }
      ]
    },
    {
      "cell_type": "markdown",
      "metadata": {
        "id": "xd-boATbbxaz",
        "colab_type": "text"
      },
      "source": [
        "\n",
        "\n",
        "\n",
        "\n",
        "# What is Quartile?\n",
        "Breaking the dataset into quaters\n",
        "\n",
        "\n",
        "<img src=\"https://www.mathsisfun.com/data/images/quartiles-c.svg\" width=\"450\" height=\"150\" >\n",
        "\n",
        "# What is interquartile range?\n",
        "\n",
        "Difference between the quartile 1 and quartile 3\n",
        "\n",
        "\n",
        "\n",
        "<img src=\"https://www.mathsisfun.com/data/images/interquartile-range.svg\n",
        "\" width=\"450\" height=\"250\" >\n",
        "\n",
        "\n",
        "\n",
        "\n"
      ]
    },
    {
      "cell_type": "code",
      "metadata": {
        "id": "XkCztR6Ybxa1",
        "colab_type": "code",
        "colab": {}
      },
      "source": [
        "def remove_outlier(df_in, col_name):\n",
        "    q1 = df_in[col_name].quantile(0.25)\n",
        "    q3 = df_in[col_name].quantile(0.75)\n",
        "    iqr = q3-q1 #Interquartile range\n",
        "    print(iqr)\n",
        "    fence_low  = q1-1.5*iqr\n",
        "    print(fence_low)\n",
        "    fence_high = q3+1.5*iqr\n",
        "    print(fence_high)\n",
        "    df_out = df_in.loc[(df_in[col_name] > fence_low) & (df_in[col_name] < fence_high)]\n",
        "    print(df_out)\n",
        "    return df_out"
      ],
      "execution_count": 0,
      "outputs": []
    },
    {
      "cell_type": "code",
      "metadata": {
        "id": "2s_YeDnQbxa5",
        "colab_type": "code",
        "outputId": "2c45e0b6-cf56-4357-c944-94f789fccb2f",
        "colab": {
          "base_uri": "https://localhost:8080/",
          "height": 493
        }
      },
      "source": [
        "remove_outlier(train,\"item_price\").head()"
      ],
      "execution_count": 21,
      "outputs": [
        {
          "output_type": "stream",
          "text": [
            "500.29999999999995\n",
            "-551.4499999999999\n",
            "1449.75\n",
            "               date  date_block_num  shop_id  item_id  item_price  item_cnt_day\n",
            "0        02.01.2013               0       59    22154       999.0             1\n",
            "1        03.01.2013               0       25     2552       899.0             1\n",
            "2        05.01.2013               0       25     2552       899.0            -1\n",
            "4        15.01.2013               0       25     2555      1099.0             1\n",
            "5        12.01.2013               0       25     3253       899.0             1\n",
            "...             ...             ...      ...      ...         ...           ...\n",
            "1043241  07.11.2013              10       37    18474       199.0             1\n",
            "1043242  18.11.2013              10       37    18474       199.0             1\n",
            "1043243  24.11.2013              10       37    18484       199.0             1\n",
            "1043244  11.11.2013              10       37    19751        99.0             1\n",
            "1043245  26.11.2013              10       37    18498       199.0             1\n",
            "\n",
            "[928110 rows x 6 columns]\n"
          ],
          "name": "stdout"
        },
        {
          "output_type": "execute_result",
          "data": {
            "text/html": [
              "<div>\n",
              "<style scoped>\n",
              "    .dataframe tbody tr th:only-of-type {\n",
              "        vertical-align: middle;\n",
              "    }\n",
              "\n",
              "    .dataframe tbody tr th {\n",
              "        vertical-align: top;\n",
              "    }\n",
              "\n",
              "    .dataframe thead th {\n",
              "        text-align: right;\n",
              "    }\n",
              "</style>\n",
              "<table border=\"1\" class=\"dataframe\">\n",
              "  <thead>\n",
              "    <tr style=\"text-align: right;\">\n",
              "      <th></th>\n",
              "      <th>date</th>\n",
              "      <th>date_block_num</th>\n",
              "      <th>shop_id</th>\n",
              "      <th>item_id</th>\n",
              "      <th>item_price</th>\n",
              "      <th>item_cnt_day</th>\n",
              "    </tr>\n",
              "  </thead>\n",
              "  <tbody>\n",
              "    <tr>\n",
              "      <th>0</th>\n",
              "      <td>02.01.2013</td>\n",
              "      <td>0</td>\n",
              "      <td>59</td>\n",
              "      <td>22154</td>\n",
              "      <td>999.0</td>\n",
              "      <td>1</td>\n",
              "    </tr>\n",
              "    <tr>\n",
              "      <th>1</th>\n",
              "      <td>03.01.2013</td>\n",
              "      <td>0</td>\n",
              "      <td>25</td>\n",
              "      <td>2552</td>\n",
              "      <td>899.0</td>\n",
              "      <td>1</td>\n",
              "    </tr>\n",
              "    <tr>\n",
              "      <th>2</th>\n",
              "      <td>05.01.2013</td>\n",
              "      <td>0</td>\n",
              "      <td>25</td>\n",
              "      <td>2552</td>\n",
              "      <td>899.0</td>\n",
              "      <td>-1</td>\n",
              "    </tr>\n",
              "    <tr>\n",
              "      <th>4</th>\n",
              "      <td>15.01.2013</td>\n",
              "      <td>0</td>\n",
              "      <td>25</td>\n",
              "      <td>2555</td>\n",
              "      <td>1099.0</td>\n",
              "      <td>1</td>\n",
              "    </tr>\n",
              "    <tr>\n",
              "      <th>5</th>\n",
              "      <td>12.01.2013</td>\n",
              "      <td>0</td>\n",
              "      <td>25</td>\n",
              "      <td>3253</td>\n",
              "      <td>899.0</td>\n",
              "      <td>1</td>\n",
              "    </tr>\n",
              "  </tbody>\n",
              "</table>\n",
              "</div>"
            ],
            "text/plain": [
              "         date  date_block_num  shop_id  item_id  item_price  item_cnt_day\n",
              "0  02.01.2013               0       59    22154       999.0             1\n",
              "1  03.01.2013               0       25     2552       899.0             1\n",
              "2  05.01.2013               0       25     2552       899.0            -1\n",
              "4  15.01.2013               0       25     2555      1099.0             1\n",
              "5  12.01.2013               0       25     3253       899.0             1"
            ]
          },
          "metadata": {
            "tags": []
          },
          "execution_count": 21
        }
      ]
    },
    {
      "cell_type": "markdown",
      "metadata": {
        "id": "JT28ZsD_4kti",
        "colab_type": "text"
      },
      "source": [
        "# Standard deviation :\n",
        "Standard deviation is a number used to tell<b> how measurements for a group are spread out from the average (mean)</b>, or expected value. A low standard deviation means that most of the numbers are close to the average. A high standard deviation means that the numbers are more spread out.\n",
        "<br>\n",
        "<br>\n",
        "<br>\n",
        "![image.png](data:image/png;base64,iVBORw0KGgoAAAANSUhEUgAAATAAAACVCAYAAADfXaYaAAAUHUlEQVR4Ae2dz4sbRxbHG9/2P3CT47C3uQ32QiCgkw7xwbn44kMfhgEffAgYItDBISwJgRUMGBsCA1omAS8LQy8DwYttUHzxIbMI2xCMEIRg7EEQjDFCYDMY+S2v1SWVWtU/Va3u6v42mJGqW9WvPq/76/rxqsr6W/uA/nL17/gHBngG8AwY9QywdlksXjhAAARAwDQCrF0QMNO8BntBAAQ8AhAwPAggAALGEoCAGes6GA4CIAABwzMAAiBgLAEImLGug+EgAAIQMDwDIAACxhKAgBnrOhgOAiAAAcMzAAIgYCwBCJixroPhIAACEDA8AyAAAsYSgIAZ6zoYDgIgAAHDMwACIGAsAQiYsa6D4SAAAhAwPAMgAALGEoCAGes6GA4CIAABwzMAAiBgLAEImLGug+EgAAIQMDwDIAACxhKAgBnrOhgOAiAAAcMzAAIgYCwBCJixroPhIAACEDA8AyAAAsYSgIAZ6zoYDgIgAAHDM6CFgGVZhH/VZ/Dx40ctz4uuTCBgukjWPJ+vvvqKhsNhzSmg+JsmAAHbNPGK3m9vbw8CVlHflrlYELAye8cg27j5+O7dO4MshqlVIAABq4IXS1AGFjAcILBpAhCwTROv6P0gYBV1bMmLBQEruYNMMI+bjhAwEzxVPRshYNXz6cZLxKOPPAqZ6zEZUu+oQ47doE5/kuutkLk5BCBg5viqtJbmL2AT6ncafpwZBKy0D0IBhkHACoBetVvmL2AzYh/6HdqyIGBVe37WKQ8EbB16+K1H4OnTp5FNyJnwcJT6NXJHb2jotqlh2dTonFCaxiAEDA9ckAAELEgE31MTcF2X+F/UMR12qdm8Qw+PWrTbfUJD9xpZjkujqB8FzkHAAkDwlSBgeAjWJhAvYO9p2L1KjRs3qXP4G03oNfVaO2S3ejSmDzRiMQudS7lFjvvSsxECtrarKpcBBKxyLt18gWIFbDqgbtMme9el0ykRjXvUsneo1XudylgIWCpctbgYAlYLN+dbyNu3b9ODBw/CbzJyybGuUHf4noimNO61ybbb1BuzmqEGFg4OZ+IIQMDiCOF8LIHolShmgrUlal80C4mwb3Sp92RELGFJD9TAkpKqz3UQsPr4OreSRgsY93d9Ss3uwBerl+Q6W2Q1vqHe6CyhTcFa2qJfLGEGuKyiBCBgFXXsJosVLWCbtAT3qhsBCFjdPJ5DeS9fvkyvXr3KIWdkCQLRBCBg0XxwNgEBTOROAAmX5EIAApYL1nplCgGrl7/LVFoIWJm8YagtEDATHXdGo/5P1GrYsyDiRosO++lGhctQaghYGbxgsA3c93XhwoXVEnjBqvnt0rPV6dOH1bsiJSmB8S/U3r1DJzwSPPmNus42WfZ1ck/PqFz7DkUXCAIWzQdnYwiEr0QxpUl/nxryFCH/BYnJMuQ01xh+pm6rOasxpJxHGZJpTZM5Nu+ADofv52I1Hf6Tmudm4Skl2zkt0kcQsEg8OBlHIFzA+JdndOpeJ1sWscY+9SdpwlcDFkxPqdduUtqJ4IFc8DVIYPQfcs5doe5gIWrBS8r4HQJWRq8YZFO0gHFB3lK/c2lpsvZ8TmTGck5PXdrdTbeSBU2G9LDzrVfryHhbI342Hf6L2p37NEz1n8RstsRf57MljCiqZyQEzBxfldJSngPJcyEjj+kLcne3JRFLvxbYUv48OfyLfeon6gSb0mToUqu5S/sn5nVSL5U70ZczGvW+oUajTe5wPG8iRv508j/qNL80rv+LywQBi/QsTsYRiF2JQmQwOaGOGPHympTbtOu+SDUXUmRFPJ/yVjeBgE1pMjgkp5lm2tLiLkV/Cl9iKHxw5KPXgeX3P9q71B3EiRjXkL+kTv8tmdT3JXwDARMk8DcTgcQCxutQcNPPll++S96Lk+nGSX7kieYX+d4jiR2FXOP3P/pzTtUji2MadG/Szd5pxv9ICinY0k0hYEs48CUtgTQCxkvp6B2ZjLJ21ve2bn9b1B1Kf85bh20rZOlubmr+QPuyeHE4RfsuDdcYY9k0EwjYpolX7H7fffcdPX78OEWpchiZVNx9VttLv2iiIiuDk3gl3Ct0jtdiWxpd5JrX7vLosNest6VVQ8woNgTMDD+V1spsK1HoH5lcBjR7ca35oonLZ+v0bRbfZXnLd7+tYMEhYBV06iaLlE3AuENM88ikXGh/CWur2Y1pDvEI5SNyvQ1zA/1xkwG5XtDsOoMNslEZP/OGvu5d6jg7gabg2N/dyVos1a26xfgXan1ikSfmb6fJRiVV+ZQ0DQJWUseYYlZmAeMCah2ZXBDzdkCyZrWO8SI58Mlf2loOshWCt2RXgQK2Mh1r1hQMxtZF9vMJMV9pRgZwGPoVAmao48piNg/1v3v3LrM5+kcmF8I02/UozjQ/1MIbHWWBGJB77Xq5YsbEXEWL+6ie0Uu3Rbv7j2mUpLN9LmDm9W/FeY7PQ8CSUMI1oQTWX4lC98ik3//lvexiGetQ8/0T4jfbdNW5Qfv98vUWzfuyru7Sjf00GwLPtrCzUvGI41We8xCw8vjCSEvWFzAu9vLIpO0c0iDVVBgZnRCjdDUO0eyM7zeT77X6eZ6P3DSN+ZyopjivSQVHFFdtWE4RAlbNjnwI2LK38S0lAT0Cxrur9amzZaXc7ENlbDYBIyEQpR25nJXrnDULDUkeNS8ELJ2gq8iWMQ0CVkavGGITT+Te29vTYK0fl+RPfVkvw7R9YLO7TYcutZ0GWfP9K9ezQvuvp0Ny2w410jYFhTCn/Z32AuSTIQQsH661yDV+JYokGPzJx1aT2nJUeJKfhlwjmnGJmmacx/QFHd+6Ry8HXWqW8kU/o9PjLh2/fObtcM7N3EGSDnyvbLNd0a3UNbcQuCVLhoCVzCEmmbO+gIkRwG1yur/RRFfhRa1DhEVE5uuLw+kZkR+2MBe+yXM67v0hzRP097Tc8GKK09P/0q1jnvjuNwe5mfuWFWxMg+NH9HuUmCEOLNL7OFljAk+fPiWOA8t6TEcPqd3Yokb7YbKQgMQ3Ev1gV6g7fL/6K0/gdmjX/YPGg3vkPhGjjkIgHOocHdFh9+c1BhNWb5s8ZWa/F981fk6u+8wX91nz+BNrm5zOXXIPD8mNWW1iPnrZ6pEoZXI7yn8lamDl91FpLeSJ3D/++GM2+/zYpvVGHMNvHTkXUswCsJ1AvJcI6bCp0XKlRQHlncE3Mb9SjMpukxOM9+K1u3hZokTrfYmO/7Qjl+Fcy3YGAlY2jxhkT7qVKKSCiWWh/aVepDMaP+pfjcLrWyvtKKUCnd+U5iZxFWtfXGIImMLvSEpGIJuA6RxxjLHTmxLETcWsCyfK+fvNulaPwqcnydcX/TnJemBF27j+/SFg6zOsbQ7cfGQRS37oHHHkidjPpGae2gqvKbk1W5lUfUXCVE8MP6VW73XCHxR5mT844pdbvZhhkfbpuzcETB/L2uWUbiK37hHH19Rrf0+9cdQQHLvEXxO/cYla7iDjSKcfW2ZE8/GMRid3yKmBeLF3IWC1kx19BU4jYLpHHL2a1aW45XKksq61K9FsdNJuHdHJoyeaR0wlGzV8nO1K5FJ/ZNYGtVmLDgHLSg6/80IoOBYs9vBH/bSNOIpRxE3FY4nO8MY1OijhRO9Y/hW+AAIW41x+QXm+X5H/Ykws7DRPI4oXMH/1VR0jjt7ifgfU8nc32ur0KdHOaoURwo3zJgABiyG8VqxTTN6mn46fyC3imfL4D2CLHPel6Qhh/5oEIGAxANNvWhGTYYVORwuYCArNQ7w4zwZ1+tomH1XIK/UqCgQsxt8XLlygV69exVxVz9ORArayHLJuIQuZJlRPV9S21BCwCNe/efOGWMBwrBIAm1UmSNk8AQhYBPN1JytHZG38qfVXojAeAQpQAgIQsAgnpI80j8gscGo6OqFDb9sublo1qXV4Uur4ooD53ujjOitRBPPDdxDIQgACFkEtTaBmRDaKUxxF/qW/EoLYJbnA7bsUFsYloQYWRwjnN0EAAhZBmTup19kyLDTr8SPaP5R2zBEL8G0qMDPUsOQnHj9+TDxCq+cY07D3b+o424TYLj1E65ILBCzE01zDuHz5cshZ3cm80uc2NbuSqOm+heb8sq1EoTbiQ79DW36wMARMzQipagIQMDUXevDgAd2+fTvkrOZkDjnYuk4uL2tsyKFTwLwi+7sSQcAMeQBKYiYELMQRLF4sYvkfPNXmqqY1q/RYy81mFihuJoYdELAwMkjfJAEIWAhtbj7Gz/ML+XHiZI5Wv0VOJ81Oy4kzz3QhixbHvl28eNGb/8lCpTq4/0urwKMGpsKMtBgCEDAFIK6BREaZK36TPonXx/qJWjd1b2iR3hLxCw5OFcLNI7DMICxUQvsILQRMuAF/UxCAgClgbSJEYDrq0f5+T4r94nCK7+lQtYuOwsa8kzgGDgKWN2Xkvy4BCJiCIDebMu+2o8hvOUmsTKqYG5hoH8Pl3PL6xgxYwMJqoqiB5UUe+aYhkJuATUd9Oj7qkGMrXtTA+lrzjUTTWJ7jtfxyRnVgL259RqP+PTrqOGQHyiRe/sXfTWzHtbBs3U88jUrYroqF434ybnJqO9CE1IayThnlIGBjGrptasS+0ELYyvdiJ3o5JwNy51OBRFki/hqxnvri0edmtBAw1WAGn9N2jFxy5OfFoIBebQyQUSYCmgVMTIuxyGq0qHvcl/p4OFzgOrV7p9JW7WE2i52VIwRBfuC9z8mEkF9GHkH79ddflTdPtMqCvymrZfEGqAd03B8tysS71zjfUm+Uf0yXt0/hCodoZklru2Igg4WKa2PBQ6uABTPHdxBISECjgInVN+3QreJnL9wl6hSwrjgLE8d27ezszEMEVM1ETgsbefOYivXYrWaIGPvi29in/iRux5yEXiroMlEDU4VSQMAKcgpuu0RAn4CJBeyiXlz/mqS1gCVL1/zCLyELGNcsOFSAX0DVVKHoFSj87bW45hUauyWuSVYjXLNYuf6chZw5BQc0eIFHFbtcjUHmIKAgoEnAxEtrR8/nE5OWC+4P4lqWqF0Ea2HRo2uz7bUsK3o1UNG0K0KoFT7OnCQELFgjjQozEVzxN7opbxqfjx/LuT2uJgFL9mKTqKWVIFwgrBbGD5Zq1M1TgUT2JxTzzLKyuR+KUArefUg+ogRMvg6fQSBvAnoELFHNKs2LnV8nvgAq18LEKBv/jWoaJatZJRRzYcgaf4U9af43T1MrFALG+csHBEymgc9FEticgPHoHO/nV3DzUYbN4RL8coomUtwKFEIwwkVgsRNP+DWyBeX+zEIlxFGulbKwBfvFyl0SWFdVAnoEjESNKaTjenpKvXaTLKuYEcgw58k1DH5ZY1egiKlpTkcPqc0iHTWQEWZMCdNlAePP4mBu/A8HCBRNQJOAEZGIjbIdf6lkLtqUJsP73kqbVqNN7nBcdHmX7s+1CrkWxs1H+UVdutj7spgGZDt36GQe6zWm4cN9cmyOC3NpaHj4hFxuUQOTY8EgYDIhfC6SgD4B41Lw1u/d1lIUvu106GgpoLXI4q7eW66FBft6Vq/mFBblHnWXovC3yencXQ5oVf/YuFQhYHKNCwJmnBsra7BeATMQk1wL+/zzzw0sQb4mi1AKbl6Lg9PkGplIx18Q2DSB2gsYA+fOe55ahB24Vx8/IWBioIOv4M/RTe3VfJACAnkQgIDlQbVCeYomthxeAgGrkIMNLwoEzHAH5m0+105FP5i4Fwe2ogYmaOBvkQQgYEXSN+DeLFRCwMT6X/xdjgszoBgwsaIEIGAVdayuYnG/oBAwUevi7zhAoAwEIGBl8ELJbRACJia+Q8BK7rAamQcBq5GzsxZVBPtyhz43HSFgWUnid7oJQMB0E61gfiKUgmPBuBkph1RUsLjqInGQNk+h4n0eLnVp6K1VKc00sbZLtTmxuhDVS4WAVc+n2kvES3BzrUuET9ROwMQySt7y3WLNuzMa9X6gjjugiZgjW4JlorQ7v+QZQsBK7qAymCfHgtW2Bra0YMGfNOnfpa5YGr3AlYbL8HwUaQMErEj6htxbjgXjKUS1q4F5fvLXebPb9PD5z3Tr+MV8I5fZMkuiZmaIUytiJgSsIo7MsxhyLNjBwUE9l9Lxm4m28w119u/R6Xy/FrGUVPQy43n6p855Q8Dq7P2EZZdjwbgjn5uUdTvEYpaWfZ3cU2nLPPR/FfooQMAKxW/OzUUs2Ndff11DARO1rNXdqNB8LPYZhoAVy9+Yu4tNUHgeJPeJ1etY9H/1xvO2I9G8Yx/Nx6KeBwhYUeQNuy933HMt7LPPPqvfRO7QUUZf2Dh84sOfNPy9XCsOG/aIZTIXApYJW/1+xH1fLGAXL16snYDNmomK/R7mwnaPnvfu05MKLSVuyhMOATPFUwXbKWLBzp8/XzMB8/u/VLtpeQLG+yD8RP35/ggFO6pmt4eA1czhWYsr76OJlWuzUsTvdBOAgOkmWtH85FgwCFhFnWxgsSBgBjqtCJN5FQqxoGER98c9QUBFAAKmooI0EAABIwhAwIxwE4wEARBQEYCAqaggDQRAwAgCEDAj3AQjQQAEVAQgYCoqSAMBEDCCAATMCDfBSBAAARUBCJiKCtJAAASMIAABM8JNMBIEQEBFAAKmooI0EAABIwhAwIxwE4wEARBQEYCAqaggDQRAwAgCEDAj3AQjQQAEVAQgYCoqSAMBEDCCAATMCDfBSBAAARUBCJiKCtJAAASMIAABM8JNMBIEQEBFAAKmooI0EAABIwhAwIxwE4wEARBQEYCAqaggDQRAwAgCEDAj3AQjQQAEVAQgYCoqSAMBEDCCAATMCDfBSBAAARUBCJiKCtJAAASMIAABM8JNMBIEQEBFwBOw83v/IP6Af2CAZwDPgEnPAGvX/wFmzKZk2MTq4AAAAABJRU5ErkJggg==)"
      ]
    },
    {
      "cell_type": "code",
      "metadata": {
        "id": "gZjvw601O7Ns",
        "colab_type": "code",
        "outputId": "ad807b0e-d9cb-4519-9895-612260cfe5ad",
        "colab": {
          "base_uri": "https://localhost:8080/",
          "height": 68
        }
      },
      "source": [
        "np.std(train[['item_price','item_cnt_day']], axis=0)"
      ],
      "execution_count": 22,
      "outputs": [
        {
          "output_type": "execute_result",
          "data": {
            "text/plain": [
              "item_price      1124.828469\n",
              "item_cnt_day       1.600202\n",
              "dtype: float64"
            ]
          },
          "metadata": {
            "tags": []
          },
          "execution_count": 22
        }
      ]
    },
    {
      "cell_type": "markdown",
      "metadata": {
        "id": "LyZMbSFP6U6l",
        "colab_type": "text"
      },
      "source": [
        "# <b> Variance </b>\n",
        "\n",
        "Variance measures how far a set of data is spread out. A variance of zero indicates that all of the data values are identical. All non-zero variances are positive. Variance is the average of the squared distances from each point to the mean.\n",
        "\n",
        "<img src=\"http://zerodha.com/varsity/wp-content/uploads/2017/03/Formula-variance.png\" width=\"350\" height=\"150\" >\n",
        "\n",
        "<br>\n",
        "<b>\n",
        "1.   x = Particular value<br>\n",
        "2.   meu = mean value<br>\n",
        "3.   N = numbers of observation</b>\n",
        "\n",
        "\n",
        "\n",
        "\n",
        "\n",
        "\n",
        "\n",
        "\n"
      ]
    },
    {
      "cell_type": "code",
      "metadata": {
        "id": "s41ouNty8Fre",
        "colab_type": "code",
        "outputId": "45809022-5d79-411f-c5d2-e04fb7ad17b4",
        "colab": {
          "base_uri": "https://localhost:8080/",
          "height": 68
        }
      },
      "source": [
        "np.var(train[['item_price','item_cnt_day']], axis=0)"
      ],
      "execution_count": 23,
      "outputs": [
        {
          "output_type": "execute_result",
          "data": {
            "text/plain": [
              "item_price      1.265239e+06\n",
              "item_cnt_day    2.560647e+00\n",
              "dtype: float64"
            ]
          },
          "metadata": {
            "tags": []
          },
          "execution_count": 23
        }
      ]
    },
    {
      "cell_type": "markdown",
      "metadata": {
        "id": "uxPI8bJrNdx9",
        "colab_type": "text"
      },
      "source": [
        "#<b>What is Kurtosis?</b>\n",
        "\n",
        "Kurtosis is a statistical measure that defines how heavily the tails of a distribution differ from the tails of a normal distribution. In other words, kurtosis identifies whether the tails of a given distribution contain extreme values.\n",
        "\n",
        "<img src=\" https://corporatefinanceinstitute.com/assets/kurtosis.png\" width=\"300\" height=\"250\" >\n",
        "\n",
        " It is the the fourth central moment divided by the square of the variance. It is a measure of the “tailedness” i.e. descriptor of shape of probability distribution of a real-valued random variable. In simple terms, one can say it is a measure of how heavy tail is compared to a normal distribution.\n",
        "\n",
        "<img src=\" https://media.geeksforgeeks.org/wp-content/uploads/kurtosis.jpg\" width=\"500\" height=\"150\" >\n",
        "\n",
        "<b>Parameters :\n",
        "array : Input array or object having the elements.<br>\n",
        "axis : Axis along which the kurtosis value is to be measured. By default axis = 0.<br>\n",
        "fisher : Bool; Fisher’s definition is used (normal 0.0) if True; else Pearson’s definition is used (normal 3.0) if set to False.<br>\n",
        "bias : Bool; calculations are corrected for statistical bias, if set to False.\n",
        "<br></b>\n",
        "\n"
      ]
    },
    {
      "cell_type": "code",
      "metadata": {
        "id": "sdH_eSTeOjXr",
        "colab_type": "code",
        "outputId": "87d52436-cf97-4aa0-d302-ef7087feaed4",
        "colab": {
          "base_uri": "https://localhost:8080/",
          "height": 51
        }
      },
      "source": [
        "from scipy.stats import kurtosis\n",
        "print(\"Pearson kurtosis:\", kurtosis(train[['item_price','item_cnt_day']], fisher=False))\n",
        "print(\"Fisher's kurtosis:\", kurtosis(train[['item_price','item_cnt_day']], fisher=True))"
      ],
      "execution_count": 24,
      "outputs": [
        {
          "output_type": "stream",
          "text": [
            "Pearson kurtosis: [  92.66216202 3713.29719682]\n",
            "Fisher's kurtosis: [  89.66216202 3710.29719682]\n"
          ],
          "name": "stdout"
        }
      ]
    },
    {
      "cell_type": "markdown",
      "metadata": {
        "id": "mi2wW9v6PO-H",
        "colab_type": "text"
      },
      "source": [
        "# <b> Skewness</b>:\n",
        "Skewness is a measure of the asymmetry of a data distribution. Skewness is asymmetry in a statistical distribution, in which the curve appears distorted or skewed either to the left or to the right. Skewness can be quantified to define the extent to which a distribution differs from a normal distribution.\n",
        "<br>\n",
        "<br>\n",
        "<img src=\"https://media.geeksforgeeks.org/wp-content/uploads/Skewness-1.png\" width=\"450\" height=\"150\" >\n",
        "\n",
        "<b>Where gamma is called skewness\n",
        "      sigma is called standard deviation and sigma square can be calculated as\n",
        "      \n",
        "      N is number of population and\n",
        "      mu is called mean of data.  \n",
        "</b>\n"
      ]
    },
    {
      "cell_type": "code",
      "metadata": {
        "id": "yIMqEinIPo-Q",
        "colab_type": "code",
        "outputId": "811ee216-ef6e-4ff1-e16e-2478952884f8",
        "colab": {
          "base_uri": "https://localhost:8080/",
          "height": 34
        }
      },
      "source": [
        "from scipy.stats import skew\n",
        "skew(train[['item_price','item_cnt_day']], axis=0)"
      ],
      "execution_count": 25,
      "outputs": [
        {
          "output_type": "execute_result",
          "data": {
            "text/plain": [
              "array([ 7.7545186, 40.2899548])"
            ]
          },
          "metadata": {
            "tags": []
          },
          "execution_count": 25
        }
      ]
    },
    {
      "cell_type": "markdown",
      "metadata": {
        "id": "n-x1Ly6tbxa8",
        "colab_type": "text"
      },
      "source": [
        "#<b>  Using box plots</b>"
      ]
    },
    {
      "cell_type": "code",
      "metadata": {
        "id": "kYq7oXeMbxa9",
        "colab_type": "code",
        "colab": {}
      },
      "source": [
        "%matplotlib inline\n",
        "import seaborn as sns"
      ],
      "execution_count": 0,
      "outputs": []
    },
    {
      "cell_type": "code",
      "metadata": {
        "id": "4NLwsiipbxbA",
        "colab_type": "code",
        "outputId": "b7fd00ef-06c0-451e-f1f1-ca6d04a64394",
        "colab": {
          "base_uri": "https://localhost:8080/",
          "height": 297
        }
      },
      "source": [
        "sns.boxplot(x=train['item_price'])"
      ],
      "execution_count": 27,
      "outputs": [
        {
          "output_type": "execute_result",
          "data": {
            "text/plain": [
              "<matplotlib.axes._subplots.AxesSubplot at 0x7fa95d7ec940>"
            ]
          },
          "metadata": {
            "tags": []
          },
          "execution_count": 27
        },
        {
          "output_type": "display_data",
          "data": {
            "image/png": "[encoded data removed]",
            "text/plain": [
              "<Figure size 432x288 with 1 Axes>"
            ]
          },
          "metadata": {
            "tags": []
          }
        }
      ]
    },
    {
      "cell_type": "code",
      "metadata": {
        "id": "6v4gw0IwbxbD",
        "colab_type": "code",
        "outputId": "becdd6b9-d244-452f-8e57-b857e830652a",
        "colab": {
          "base_uri": "https://localhost:8080/",
          "height": 297
        }
      },
      "source": [
        "sns.boxplot(x=train['item_cnt_day'])"
      ],
      "execution_count": 28,
      "outputs": [
        {
          "output_type": "execute_result",
          "data": {
            "text/plain": [
              "<matplotlib.axes._subplots.AxesSubplot at 0x7fa95d2b9898>"
            ]
          },
          "metadata": {
            "tags": []
          },
          "execution_count": 28
        },
        {
          "output_type": "display_data",
          "data": {
            "image/png": "[encoded data removed]",
            "text/plain": [
              "<Figure size 432x288 with 1 Axes>"
            ]
          },
          "metadata": {
            "tags": []
          }
        }
      ]
    },
    {
      "cell_type": "markdown",
      "metadata": {
        "id": "bgnlrZ9qbxbH",
        "colab_type": "text"
      },
      "source": [
        "# <b>Using scatter plots</b>"
      ]
    },
    {
      "cell_type": "code",
      "metadata": {
        "id": "rvIOL6qybxbI",
        "colab_type": "code",
        "outputId": "dfcea333-8b8c-4839-d846-ee0bbeba222b",
        "colab": {
          "base_uri": "https://localhost:8080/",
          "height": 297
        }
      },
      "source": [
        "sns.scatterplot(x=\"item_cnt_day\", y=\"item_price\", data=train)"
      ],
      "execution_count": 29,
      "outputs": [
        {
          "output_type": "execute_result",
          "data": {
            "text/plain": [
              "<matplotlib.axes._subplots.AxesSubplot at 0x7fa95d246390>"
            ]
          },
          "metadata": {
            "tags": []
          },
          "execution_count": 29
        },
        {
          "output_type": "display_data",
          "data": {
            "image/png": "[encoded data removed]",
            "text/plain": [
              "<Figure size 432x288 with 1 Axes>"
            ]
          },
          "metadata": {
            "tags": []
          }
        }
      ]
    },
    {
      "cell_type": "markdown",
      "metadata": {
        "id": "9Td67Rk2bxbM",
        "colab_type": "text"
      },
      "source": [
        "# Mode"
      ]
    },
    {
      "cell_type": "code",
      "metadata": {
        "id": "EXAx-rpsbxbN",
        "colab_type": "code",
        "outputId": "2db34526-90ff-440c-cee8-548c3c086da4",
        "colab": {
          "base_uri": "https://localhost:8080/",
          "height": 80
        }
      },
      "source": [
        "train.mode()"
      ],
      "execution_count": 30,
      "outputs": [
        {
          "output_type": "execute_result",
          "data": {
            "text/html": [
              "<div>\n",
              "<style scoped>\n",
              "    .dataframe tbody tr th:only-of-type {\n",
              "        vertical-align: middle;\n",
              "    }\n",
              "\n",
              "    .dataframe tbody tr th {\n",
              "        vertical-align: top;\n",
              "    }\n",
              "\n",
              "    .dataframe thead th {\n",
              "        text-align: right;\n",
              "    }\n",
              "</style>\n",
              "<table border=\"1\" class=\"dataframe\">\n",
              "  <thead>\n",
              "    <tr style=\"text-align: right;\">\n",
              "      <th></th>\n",
              "      <th>date</th>\n",
              "      <th>date_block_num</th>\n",
              "      <th>shop_id</th>\n",
              "      <th>item_id</th>\n",
              "      <th>item_price</th>\n",
              "      <th>item_cnt_day</th>\n",
              "    </tr>\n",
              "  </thead>\n",
              "  <tbody>\n",
              "    <tr>\n",
              "      <th>0</th>\n",
              "      <td>23.02.2013</td>\n",
              "      <td>2</td>\n",
              "      <td>31</td>\n",
              "      <td>20949</td>\n",
              "      <td>299.0</td>\n",
              "      <td>1</td>\n",
              "    </tr>\n",
              "  </tbody>\n",
              "</table>\n",
              "</div>"
            ],
            "text/plain": [
              "         date  date_block_num  shop_id  item_id  item_price  item_cnt_day\n",
              "0  23.02.2013               2       31    20949       299.0             1"
            ]
          },
          "metadata": {
            "tags": []
          },
          "execution_count": 30
        }
      ]
    },
    {
      "cell_type": "markdown",
      "metadata": {
        "id": "GmdbxuV7Q3b6",
        "colab_type": "text"
      },
      "source": [
        "#<b> Covariance and Correlation</b>\n",
        "\n",
        "These two terms measure the relationship and the dependency between two variables\n",
        "\n",
        "1.   Covariance\n",
        "2.   Correlation\n",
        "\n",
        "\n",
        "<b> 1. Covariance:</b><br>\n",
        "Covariance” indicates the direction of the linear relationship between variables\n",
        "\n"
      ]
    },
    {
      "cell_type": "code",
      "metadata": {
        "id": "2gh9RF67UFHr",
        "colab_type": "code",
        "outputId": "0bfbefdf-836b-4310-d117-33d9eb9484c1",
        "colab": {
          "base_uri": "https://localhost:8080/",
          "height": 119
        }
      },
      "source": [
        "import numpy as np \n",
        "  \n",
        "x = np.array([[0, 3, 4], [1, 2, 4], [3, 4, 5]]) \n",
        "  \n",
        "print(\"Shape of array:\\n\", np.shape(x)) \n",
        "  \n",
        "print(\"Covarinace matrix of x:\\n\", np.cov(x)) "
      ],
      "execution_count": 31,
      "outputs": [
        {
          "output_type": "stream",
          "text": [
            "Shape of array:\n",
            " (3, 3)\n",
            "Covarinace matrix of x:\n",
            " [[4.33333333 2.83333333 2.        ]\n",
            " [2.83333333 2.33333333 1.5       ]\n",
            " [2.         1.5        1.        ]]\n"
          ],
          "name": "stdout"
        }
      ]
    },
    {
      "cell_type": "markdown",
      "metadata": {
        "id": "g6iLfWFRUJ-L",
        "colab_type": "text"
      },
      "source": [
        "<b> 2.Correlation:</b><br>\n",
        "Correlation measures both the strength and direction of the linear relationship between two variables\n"
      ]
    },
    {
      "cell_type": "code",
      "metadata": {
        "id": "7aTWdDv8UeiU",
        "colab_type": "code",
        "outputId": "2792d36c-254f-4686-9388-02e3764e2ec6",
        "colab": {
          "base_uri": "https://localhost:8080/",
          "height": 309
        }
      },
      "source": [
        "# Step 0 - Read the dataset, calculate column correlations and make a seaborn heatmap\n",
        "\n",
        "data = pd.read_csv('https://raw.githubusercontent.com/drazenz/heatmap/master/autos.clean.csv')\n",
        "\n",
        "data.head()"
      ],
      "execution_count": 32,
      "outputs": [
        {
          "output_type": "execute_result",
          "data": {
            "text/html": [
              "<div>\n",
              "<style scoped>\n",
              "    .dataframe tbody tr th:only-of-type {\n",
              "        vertical-align: middle;\n",
              "    }\n",
              "\n",
              "    .dataframe tbody tr th {\n",
              "        vertical-align: top;\n",
              "    }\n",
              "\n",
              "    .dataframe thead th {\n",
              "        text-align: right;\n",
              "    }\n",
              "</style>\n",
              "<table border=\"1\" class=\"dataframe\">\n",
              "  <thead>\n",
              "    <tr style=\"text-align: right;\">\n",
              "      <th></th>\n",
              "      <th>symboling</th>\n",
              "      <th>normalized-losses</th>\n",
              "      <th>make</th>\n",
              "      <th>fuel-type</th>\n",
              "      <th>aspiration</th>\n",
              "      <th>num-of-doors</th>\n",
              "      <th>body-style</th>\n",
              "      <th>drive-wheels</th>\n",
              "      <th>engine-location</th>\n",
              "      <th>wheel-base</th>\n",
              "      <th>length</th>\n",
              "      <th>width</th>\n",
              "      <th>height</th>\n",
              "      <th>curb-weight</th>\n",
              "      <th>engine-type</th>\n",
              "      <th>num-of-cylinders</th>\n",
              "      <th>engine-size</th>\n",
              "      <th>fuel-system</th>\n",
              "      <th>bore</th>\n",
              "      <th>stroke</th>\n",
              "      <th>compression-ratio</th>\n",
              "      <th>horsepower</th>\n",
              "      <th>peak-rpm</th>\n",
              "      <th>city-mpg</th>\n",
              "      <th>highway-mpg</th>\n",
              "      <th>price</th>\n",
              "    </tr>\n",
              "  </thead>\n",
              "  <tbody>\n",
              "    <tr>\n",
              "      <th>0</th>\n",
              "      <td>3</td>\n",
              "      <td>122</td>\n",
              "      <td>alfa-romero</td>\n",
              "      <td>gas</td>\n",
              "      <td>std</td>\n",
              "      <td>two</td>\n",
              "      <td>convertible</td>\n",
              "      <td>rwd</td>\n",
              "      <td>front</td>\n",
              "      <td>88.6</td>\n",
              "      <td>168.8</td>\n",
              "      <td>64.1</td>\n",
              "      <td>48.8</td>\n",
              "      <td>2548</td>\n",
              "      <td>dohc</td>\n",
              "      <td>four</td>\n",
              "      <td>130</td>\n",
              "      <td>mpfi</td>\n",
              "      <td>3.47</td>\n",
              "      <td>2.68</td>\n",
              "      <td>9.0</td>\n",
              "      <td>111.0</td>\n",
              "      <td>5000.0</td>\n",
              "      <td>21</td>\n",
              "      <td>27</td>\n",
              "      <td>13495.0</td>\n",
              "    </tr>\n",
              "    <tr>\n",
              "      <th>1</th>\n",
              "      <td>3</td>\n",
              "      <td>122</td>\n",
              "      <td>alfa-romero</td>\n",
              "      <td>gas</td>\n",
              "      <td>std</td>\n",
              "      <td>two</td>\n",
              "      <td>convertible</td>\n",
              "      <td>rwd</td>\n",
              "      <td>front</td>\n",
              "      <td>88.6</td>\n",
              "      <td>168.8</td>\n",
              "      <td>64.1</td>\n",
              "      <td>48.8</td>\n",
              "      <td>2548</td>\n",
              "      <td>dohc</td>\n",
              "      <td>four</td>\n",
              "      <td>130</td>\n",
              "      <td>mpfi</td>\n",
              "      <td>3.47</td>\n",
              "      <td>2.68</td>\n",
              "      <td>9.0</td>\n",
              "      <td>111.0</td>\n",
              "      <td>5000.0</td>\n",
              "      <td>21</td>\n",
              "      <td>27</td>\n",
              "      <td>16500.0</td>\n",
              "    </tr>\n",
              "    <tr>\n",
              "      <th>2</th>\n",
              "      <td>1</td>\n",
              "      <td>122</td>\n",
              "      <td>alfa-romero</td>\n",
              "      <td>gas</td>\n",
              "      <td>std</td>\n",
              "      <td>two</td>\n",
              "      <td>hatchback</td>\n",
              "      <td>rwd</td>\n",
              "      <td>front</td>\n",
              "      <td>94.5</td>\n",
              "      <td>171.2</td>\n",
              "      <td>65.5</td>\n",
              "      <td>52.4</td>\n",
              "      <td>2823</td>\n",
              "      <td>ohcv</td>\n",
              "      <td>six</td>\n",
              "      <td>152</td>\n",
              "      <td>mpfi</td>\n",
              "      <td>2.68</td>\n",
              "      <td>3.47</td>\n",
              "      <td>9.0</td>\n",
              "      <td>154.0</td>\n",
              "      <td>5000.0</td>\n",
              "      <td>19</td>\n",
              "      <td>26</td>\n",
              "      <td>16500.0</td>\n",
              "    </tr>\n",
              "    <tr>\n",
              "      <th>3</th>\n",
              "      <td>2</td>\n",
              "      <td>164</td>\n",
              "      <td>audi</td>\n",
              "      <td>gas</td>\n",
              "      <td>std</td>\n",
              "      <td>four</td>\n",
              "      <td>sedan</td>\n",
              "      <td>fwd</td>\n",
              "      <td>front</td>\n",
              "      <td>99.8</td>\n",
              "      <td>176.6</td>\n",
              "      <td>66.2</td>\n",
              "      <td>54.3</td>\n",
              "      <td>2337</td>\n",
              "      <td>ohc</td>\n",
              "      <td>four</td>\n",
              "      <td>109</td>\n",
              "      <td>mpfi</td>\n",
              "      <td>3.19</td>\n",
              "      <td>3.40</td>\n",
              "      <td>10.0</td>\n",
              "      <td>102.0</td>\n",
              "      <td>5500.0</td>\n",
              "      <td>24</td>\n",
              "      <td>30</td>\n",
              "      <td>13950.0</td>\n",
              "    </tr>\n",
              "    <tr>\n",
              "      <th>4</th>\n",
              "      <td>2</td>\n",
              "      <td>164</td>\n",
              "      <td>audi</td>\n",
              "      <td>gas</td>\n",
              "      <td>std</td>\n",
              "      <td>four</td>\n",
              "      <td>sedan</td>\n",
              "      <td>4wd</td>\n",
              "      <td>front</td>\n",
              "      <td>99.4</td>\n",
              "      <td>176.6</td>\n",
              "      <td>66.4</td>\n",
              "      <td>54.3</td>\n",
              "      <td>2824</td>\n",
              "      <td>ohc</td>\n",
              "      <td>five</td>\n",
              "      <td>136</td>\n",
              "      <td>mpfi</td>\n",
              "      <td>3.19</td>\n",
              "      <td>3.40</td>\n",
              "      <td>8.0</td>\n",
              "      <td>115.0</td>\n",
              "      <td>5500.0</td>\n",
              "      <td>18</td>\n",
              "      <td>22</td>\n",
              "      <td>17450.0</td>\n",
              "    </tr>\n",
              "  </tbody>\n",
              "</table>\n",
              "</div>"
            ],
            "text/plain": [
              "    symboling  normalized-losses         make  ... city-mpg highway-mpg    price\n",
              "0           3                122  alfa-romero  ...       21          27  13495.0\n",
              "1           3                122  alfa-romero  ...       21          27  16500.0\n",
              "2           1                122  alfa-romero  ...       19          26  16500.0\n",
              "3           2                164         audi  ...       24          30  13950.0\n",
              "4           2                164         audi  ...       18          22  17450.0\n",
              "\n",
              "[5 rows x 26 columns]"
            ]
          },
          "metadata": {
            "tags": []
          },
          "execution_count": 32
        }
      ]
    },
    {
      "cell_type": "code",
      "metadata": {
        "id": "2RiPDmRRUp0k",
        "colab_type": "code",
        "outputId": "c23e7f65-bd5a-458c-f10f-fed575ea6700",
        "colab": {
          "base_uri": "https://localhost:8080/",
          "height": 326
        }
      },
      "source": [
        "corr = data.corr()\n",
        "ax = sns.heatmap(\n",
        "    corr, \n",
        "    vmin=-1, vmax=1, center=0,\n",
        "    cmap=sns.diverging_palette(20, 220, n=200),\n",
        "    square=True\n",
        ")\n",
        "ax.set_xticklabels(\n",
        "    ax.get_xticklabels(),\n",
        "    rotation=45,\n",
        "    horizontalalignment='right'\n",
        ");\n"
      ],
      "execution_count": 33,
      "outputs": [
        {
          "output_type": "display_data",
          "data": {
            "image/png": "[encoded data removed]",
            "text/plain": [
              "<Figure size 432x288 with 2 Axes>"
            ]
          },
          "metadata": {
            "tags": []
          }
        }
      ]
    },
    {
      "cell_type": "code",
      "metadata": {
        "id": "k9tDI1G-UqP-",
        "colab_type": "code",
        "outputId": "d33870bf-9e54-4e16-9c15-3917d126af6e",
        "colab": {
          "base_uri": "https://localhost:8080/",
          "height": 445
        }
      },
      "source": [
        "!wget https://www.dropbox.com/s/otahux7jejxe3yo/InputDModule2_data.zip"
      ],
      "execution_count": 34,
      "outputs": [
        {
          "output_type": "stream",
          "text": [
            "--2019-12-27 05:52:24--  https://www.dropbox.com/s/otahux7jejxe3yo/InputDModule2_data.zip\n",
            "Resolving www.dropbox.com (www.dropbox.com)... 162.125.8.1, 2620:100:6016:1::a27d:101\n",
            "Connecting to www.dropbox.com (www.dropbox.com)|162.125.8.1|:443... connected.\n",
            "HTTP request sent, awaiting response... 301 Moved Permanently\n",
            "Location: /s/raw/otahux7jejxe3yo/InputDModule2_data.zip [following]\n",
            "--2019-12-27 05:52:24--  https://www.dropbox.com/s/raw/otahux7jejxe3yo/InputDModule2_data.zip\n",
            "Reusing existing connection to www.dropbox.com:443.\n",
            "HTTP request sent, awaiting response... 302 Found\n",
            "Location: https://ucd58d1547b0d841da107013f78b.dl.dropboxusercontent.com/cd/0/inline/AvDVMNyosRTmfTbraECImJvN7w63QgdvHWIX5_cegnCfrwgufFLLhGHI9VwuecvIsY-qt5FoPWTBL35CVUEENRokIGpIiZ7LBITORq7KnJW8fs9bqXbjUlpLFxmhOphYacc/file# [following]\n",
            "--2019-12-27 05:52:24--  https://ucd58d1547b0d841da107013f78b.dl.dropboxusercontent.com/cd/0/inline/AvDVMNyosRTmfTbraECImJvN7w63QgdvHWIX5_cegnCfrwgufFLLhGHI9VwuecvIsY-qt5FoPWTBL35CVUEENRokIGpIiZ7LBITORq7KnJW8fs9bqXbjUlpLFxmhOphYacc/file\n",
            "Resolving ucd58d1547b0d841da107013f78b.dl.dropboxusercontent.com (ucd58d1547b0d841da107013f78b.dl.dropboxusercontent.com)... 162.125.8.6, 2620:100:601b:6::a27d:806\n",
            "Connecting to ucd58d1547b0d841da107013f78b.dl.dropboxusercontent.com (ucd58d1547b0d841da107013f78b.dl.dropboxusercontent.com)|162.125.8.6|:443... connected.\n",
            "HTTP request sent, awaiting response... 302 FOUND\n",
            "Location: /cd/0/inline2/AvAo9CXbzeH0Z8nlqAVGuVFUkBPNqJ4Gsya0Yg00XXCWzAD7wcjvxLr4gjJMWC9ug8HhH1Acy343gM-PTke8YcofyMSskbiJMs14G_5LPQcDqgYDKN4YSxK7gv5wNNY7ZJ6pLMbLa5qkHt6eDYN0f5FjAMpnlBTFPxny5jPjYHt61XU-k-JeRClJejCx5kDy8hn4gdugXU9sPVzhMLS121FZcKtY2BnN-NHG9aCI5HNpOCXFYQou9UFgeApLLLWbuRQh0F2-ACJ4T3qH7AfuRdUQJU-fwkAsfWeJxheS0WmW9GxFrzEC_kp1ibFGtR2U5rDWIzXaZHNxXcLQK4vxqnsDvTEx9vpw-NX01ouEwWsnKQ/file [following]\n",
            "--2019-12-27 05:52:24--  https://ucd58d1547b0d841da107013f78b.dl.dropboxusercontent.com/cd/0/inline2/AvAo9CXbzeH0Z8nlqAVGuVFUkBPNqJ4Gsya0Yg00XXCWzAD7wcjvxLr4gjJMWC9ug8HhH1Acy343gM-PTke8YcofyMSskbiJMs14G_5LPQcDqgYDKN4YSxK7gv5wNNY7ZJ6pLMbLa5qkHt6eDYN0f5FjAMpnlBTFPxny5jPjYHt61XU-k-JeRClJejCx5kDy8hn4gdugXU9sPVzhMLS121FZcKtY2BnN-NHG9aCI5HNpOCXFYQou9UFgeApLLLWbuRQh0F2-ACJ4T3qH7AfuRdUQJU-fwkAsfWeJxheS0WmW9GxFrzEC_kp1ibFGtR2U5rDWIzXaZHNxXcLQK4vxqnsDvTEx9vpw-NX01ouEwWsnKQ/file\n",
            "Reusing existing connection to ucd58d1547b0d841da107013f78b.dl.dropboxusercontent.com:443.\n",
            "HTTP request sent, awaiting response... 200 OK\n",
            "Length: 706288 (690K) [application/zip]\n",
            "Saving to: ‘InputDModule2_data.zip’\n",
            "\n",
            "InputDModule2_data. 100%[===================>] 689.73K  3.24MB/s    in 0.2s    \n",
            "\n",
            "2019-12-27 05:52:25 (3.24 MB/s) - ‘InputDModule2_data.zip’ saved [706288/706288]\n",
            "\n"
          ],
          "name": "stdout"
        }
      ]
    },
    {
      "cell_type": "code",
      "metadata": {
        "id": "jgHNpXmLhucw",
        "colab_type": "code",
        "outputId": "7b20303e-7503-4992-e370-da7f444bf2f2",
        "colab": {
          "base_uri": "https://localhost:8080/",
          "height": 85
        }
      },
      "source": [
        "!unzip InputDModule2_data.zip"
      ],
      "execution_count": 35,
      "outputs": [
        {
          "output_type": "stream",
          "text": [
            "Archive:  InputDModule2_data.zip\n",
            "  inflating: bayestheorem.csv        \n",
            "  inflating: marvel-wikia-data.csv   \n",
            "  inflating: matches.csv             \n"
          ],
          "name": "stdout"
        }
      ]
    },
    {
      "cell_type": "code",
      "metadata": {
        "id": "Bb12fA5_h5ZF",
        "colab_type": "code",
        "colab": {}
      },
      "source": [
        "# Import libarries\n",
        "import numpy as np\n",
        "import pandas as pd"
      ],
      "execution_count": 0,
      "outputs": []
    },
    {
      "cell_type": "code",
      "metadata": {
        "id": "SWchh0SSh90V",
        "colab_type": "code",
        "outputId": "d95b186c-699c-43aa-a865-f21f395ae3bc",
        "colab": {
          "base_uri": "https://localhost:8080/",
          "height": 479
        }
      },
      "source": [
        "# Read input data file and print top five rows from the dataset\n",
        "df = pd.read_csv('/content/marvel-wikia-data.csv')\n",
        "df.head()"
      ],
      "execution_count": 37,
      "outputs": [
        {
          "output_type": "execute_result",
          "data": {
            "text/html": [
              "<div>\n",
              "<style scoped>\n",
              "    .dataframe tbody tr th:only-of-type {\n",
              "        vertical-align: middle;\n",
              "    }\n",
              "\n",
              "    .dataframe tbody tr th {\n",
              "        vertical-align: top;\n",
              "    }\n",
              "\n",
              "    .dataframe thead th {\n",
              "        text-align: right;\n",
              "    }\n",
              "</style>\n",
              "<table border=\"1\" class=\"dataframe\">\n",
              "  <thead>\n",
              "    <tr style=\"text-align: right;\">\n",
              "      <th></th>\n",
              "      <th>page_id</th>\n",
              "      <th>name</th>\n",
              "      <th>urlslug</th>\n",
              "      <th>ID</th>\n",
              "      <th>ALIGN</th>\n",
              "      <th>EYE</th>\n",
              "      <th>HAIR</th>\n",
              "      <th>SEX</th>\n",
              "      <th>GSM</th>\n",
              "      <th>ALIVE</th>\n",
              "      <th>APPEARANCES</th>\n",
              "      <th>FIRST APPEARANCE</th>\n",
              "      <th>Year</th>\n",
              "    </tr>\n",
              "  </thead>\n",
              "  <tbody>\n",
              "    <tr>\n",
              "      <th>0</th>\n",
              "      <td>1678</td>\n",
              "      <td>Spider-Man (Peter Parker)</td>\n",
              "      <td>\\/Spider-Man_(Peter_Parker)</td>\n",
              "      <td>Secret Identity</td>\n",
              "      <td>Good Characters</td>\n",
              "      <td>Hazel Eyes</td>\n",
              "      <td>Brown Hair</td>\n",
              "      <td>Male Characters</td>\n",
              "      <td>NaN</td>\n",
              "      <td>Living Characters</td>\n",
              "      <td>4043.0</td>\n",
              "      <td>Aug-62</td>\n",
              "      <td>1962.0</td>\n",
              "    </tr>\n",
              "    <tr>\n",
              "      <th>1</th>\n",
              "      <td>7139</td>\n",
              "      <td>Captain America (Steven Rogers)</td>\n",
              "      <td>\\/Captain_America_(Steven_Rogers)</td>\n",
              "      <td>Public Identity</td>\n",
              "      <td>Good Characters</td>\n",
              "      <td>Blue Eyes</td>\n",
              "      <td>White Hair</td>\n",
              "      <td>Male Characters</td>\n",
              "      <td>NaN</td>\n",
              "      <td>Living Characters</td>\n",
              "      <td>3360.0</td>\n",
              "      <td>Mar-41</td>\n",
              "      <td>1941.0</td>\n",
              "    </tr>\n",
              "    <tr>\n",
              "      <th>2</th>\n",
              "      <td>64786</td>\n",
              "      <td>Wolverine (James \\\"Logan\\\" Howlett)</td>\n",
              "      <td>\\/Wolverine_(James_%22Logan%22_Howlett)</td>\n",
              "      <td>Public Identity</td>\n",
              "      <td>Neutral Characters</td>\n",
              "      <td>Blue Eyes</td>\n",
              "      <td>Black Hair</td>\n",
              "      <td>Male Characters</td>\n",
              "      <td>NaN</td>\n",
              "      <td>Living Characters</td>\n",
              "      <td>3061.0</td>\n",
              "      <td>Oct-74</td>\n",
              "      <td>1974.0</td>\n",
              "    </tr>\n",
              "    <tr>\n",
              "      <th>3</th>\n",
              "      <td>1868</td>\n",
              "      <td>Iron Man (Anthony \\\"Tony\\\" Stark)</td>\n",
              "      <td>\\/Iron_Man_(Anthony_%22Tony%22_Stark)</td>\n",
              "      <td>Public Identity</td>\n",
              "      <td>Good Characters</td>\n",
              "      <td>Blue Eyes</td>\n",
              "      <td>Black Hair</td>\n",
              "      <td>Male Characters</td>\n",
              "      <td>NaN</td>\n",
              "      <td>Living Characters</td>\n",
              "      <td>2961.0</td>\n",
              "      <td>Mar-63</td>\n",
              "      <td>1963.0</td>\n",
              "    </tr>\n",
              "    <tr>\n",
              "      <th>4</th>\n",
              "      <td>2460</td>\n",
              "      <td>Thor (Thor Odinson)</td>\n",
              "      <td>\\/Thor_(Thor_Odinson)</td>\n",
              "      <td>No Dual Identity</td>\n",
              "      <td>Good Characters</td>\n",
              "      <td>Blue Eyes</td>\n",
              "      <td>Blond Hair</td>\n",
              "      <td>Male Characters</td>\n",
              "      <td>NaN</td>\n",
              "      <td>Living Characters</td>\n",
              "      <td>2258.0</td>\n",
              "      <td>Nov-50</td>\n",
              "      <td>1950.0</td>\n",
              "    </tr>\n",
              "  </tbody>\n",
              "</table>\n",
              "</div>"
            ],
            "text/plain": [
              "   page_id                                 name  ... FIRST APPEARANCE    Year\n",
              "0     1678            Spider-Man (Peter Parker)  ...           Aug-62  1962.0\n",
              "1     7139      Captain America (Steven Rogers)  ...           Mar-41  1941.0\n",
              "2    64786  Wolverine (James \\\"Logan\\\" Howlett)  ...           Oct-74  1974.0\n",
              "3     1868    Iron Man (Anthony \\\"Tony\\\" Stark)  ...           Mar-63  1963.0\n",
              "4     2460                  Thor (Thor Odinson)  ...           Nov-50  1950.0\n",
              "\n",
              "[5 rows x 13 columns]"
            ]
          },
          "metadata": {
            "tags": []
          },
          "execution_count": 37
        }
      ]
    },
    {
      "cell_type": "code",
      "metadata": {
        "id": "AAelfAc-izCi",
        "colab_type": "code",
        "outputId": "e383b8a8-d700-4353-83f6-91bb6bbe2d10",
        "colab": {
          "base_uri": "https://localhost:8080/",
          "height": 34
        }
      },
      "source": [
        "# Calculate total number of character counts\n",
        "x = len(df['name'])\n",
        "x\n",
        "#x = df['name'].count()\n",
        "#x"
      ],
      "execution_count": 38,
      "outputs": [
        {
          "output_type": "execute_result",
          "data": {
            "text/plain": [
              "16376"
            ]
          },
          "metadata": {
            "tags": []
          },
          "execution_count": 38
        }
      ]
    },
    {
      "cell_type": "code",
      "metadata": {
        "id": "zVBdIS6Zi6hC",
        "colab_type": "code",
        "outputId": "ef626207-8987-460b-bb67-fbf73af7f57d",
        "colab": {
          "base_uri": "https://localhost:8080/",
          "height": 419
        }
      },
      "source": [
        "# Display columns SEX, EYE, HAIR\n",
        "marvel = df[['SEX','EYE','HAIR']]\n",
        "marvel"
      ],
      "execution_count": 39,
      "outputs": [
        {
          "output_type": "execute_result",
          "data": {
            "text/html": [
              "<div>\n",
              "<style scoped>\n",
              "    .dataframe tbody tr th:only-of-type {\n",
              "        vertical-align: middle;\n",
              "    }\n",
              "\n",
              "    .dataframe tbody tr th {\n",
              "        vertical-align: top;\n",
              "    }\n",
              "\n",
              "    .dataframe thead th {\n",
              "        text-align: right;\n",
              "    }\n",
              "</style>\n",
              "<table border=\"1\" class=\"dataframe\">\n",
              "  <thead>\n",
              "    <tr style=\"text-align: right;\">\n",
              "      <th></th>\n",
              "      <th>SEX</th>\n",
              "      <th>EYE</th>\n",
              "      <th>HAIR</th>\n",
              "    </tr>\n",
              "  </thead>\n",
              "  <tbody>\n",
              "    <tr>\n",
              "      <th>0</th>\n",
              "      <td>Male Characters</td>\n",
              "      <td>Hazel Eyes</td>\n",
              "      <td>Brown Hair</td>\n",
              "    </tr>\n",
              "    <tr>\n",
              "      <th>1</th>\n",
              "      <td>Male Characters</td>\n",
              "      <td>Blue Eyes</td>\n",
              "      <td>White Hair</td>\n",
              "    </tr>\n",
              "    <tr>\n",
              "      <th>2</th>\n",
              "      <td>Male Characters</td>\n",
              "      <td>Blue Eyes</td>\n",
              "      <td>Black Hair</td>\n",
              "    </tr>\n",
              "    <tr>\n",
              "      <th>3</th>\n",
              "      <td>Male Characters</td>\n",
              "      <td>Blue Eyes</td>\n",
              "      <td>Black Hair</td>\n",
              "    </tr>\n",
              "    <tr>\n",
              "      <th>4</th>\n",
              "      <td>Male Characters</td>\n",
              "      <td>Blue Eyes</td>\n",
              "      <td>Blond Hair</td>\n",
              "    </tr>\n",
              "    <tr>\n",
              "      <th>...</th>\n",
              "      <td>...</td>\n",
              "      <td>...</td>\n",
              "      <td>...</td>\n",
              "    </tr>\n",
              "    <tr>\n",
              "      <th>16371</th>\n",
              "      <td>Male Characters</td>\n",
              "      <td>Green Eyes</td>\n",
              "      <td>No Hair</td>\n",
              "    </tr>\n",
              "    <tr>\n",
              "      <th>16372</th>\n",
              "      <td>Male Characters</td>\n",
              "      <td>Blue Eyes</td>\n",
              "      <td>Bald</td>\n",
              "    </tr>\n",
              "    <tr>\n",
              "      <th>16373</th>\n",
              "      <td>Male Characters</td>\n",
              "      <td>Black Eyes</td>\n",
              "      <td>Bald</td>\n",
              "    </tr>\n",
              "    <tr>\n",
              "      <th>16374</th>\n",
              "      <td>Male Characters</td>\n",
              "      <td>NaN</td>\n",
              "      <td>NaN</td>\n",
              "    </tr>\n",
              "    <tr>\n",
              "      <th>16375</th>\n",
              "      <td>NaN</td>\n",
              "      <td>NaN</td>\n",
              "      <td>NaN</td>\n",
              "    </tr>\n",
              "  </tbody>\n",
              "</table>\n",
              "<p>16376 rows × 3 columns</p>\n",
              "</div>"
            ],
            "text/plain": [
              "                   SEX         EYE        HAIR\n",
              "0      Male Characters  Hazel Eyes  Brown Hair\n",
              "1      Male Characters   Blue Eyes  White Hair\n",
              "2      Male Characters   Blue Eyes  Black Hair\n",
              "3      Male Characters   Blue Eyes  Black Hair\n",
              "4      Male Characters   Blue Eyes  Blond Hair\n",
              "...                ...         ...         ...\n",
              "16371  Male Characters  Green Eyes     No Hair\n",
              "16372  Male Characters   Blue Eyes        Bald\n",
              "16373  Male Characters  Black Eyes        Bald\n",
              "16374  Male Characters         NaN         NaN\n",
              "16375              NaN         NaN         NaN\n",
              "\n",
              "[16376 rows x 3 columns]"
            ]
          },
          "metadata": {
            "tags": []
          },
          "execution_count": 39
        }
      ]
    },
    {
      "cell_type": "code",
      "metadata": {
        "id": "sMN3LIWDjP_y",
        "colab_type": "code",
        "outputId": "eb904634-3b64-4f13-b51d-0ada4cd30349",
        "colab": {
          "base_uri": "https://localhost:8080/",
          "height": 119
        }
      },
      "source": [
        "# Calculate total number of characters according to gender\n",
        "char = df.groupby(['SEX']).count()['name']\n",
        "#print(char)\n",
        "char"
      ],
      "execution_count": 40,
      "outputs": [
        {
          "output_type": "execute_result",
          "data": {
            "text/plain": [
              "SEX\n",
              "Agender Characters           45\n",
              "Female Characters          3837\n",
              "Genderfluid Characters        2\n",
              "Male Characters           11638\n",
              "Name: name, dtype: int64"
            ]
          },
          "metadata": {
            "tags": []
          },
          "execution_count": 40
        }
      ]
    },
    {
      "cell_type": "markdown",
      "metadata": {
        "id": "ze051q6djinp",
        "colab_type": "text"
      },
      "source": [
        "# <B> Marginal Probability (Unconditional)</b> \n",
        "The probability of an event occuring p(A). It may be consider as an unconditional probability\n",
        "\n",
        "<b>example: the probability that a card drawn is 4 = 4/52 = 1/13</b>\n",
        "\n",
        "<img src=\"https://i.guim.co.uk/img/static/sys-images/Guardian/Pix/pictures/2013/12/3/1386076321394/4-cards-009.jpg?width=300&quality=85&auto=format&fit=max&s=61fe6ac2669bc19fb14cd0b845e9ad89\" width=\"450\" height=\"250\" >\n"
      ]
    },
    {
      "cell_type": "markdown",
      "metadata": {
        "id": "MDzahNeAnJnP",
        "colab_type": "text"
      },
      "source": [
        "#<b> Calculate the probability of a character being male</b>\n",
        "\n",
        "<img src=\"https://cdn0.iconfinder.com/data/icons/user-pictures/100/malecostume-512.png\" width=\"250\" height=\"250\" >\n"
      ]
    },
    {
      "cell_type": "code",
      "metadata": {
        "id": "YTjhKAJEnF9F",
        "colab_type": "code",
        "colab": {}
      },
      "source": [
        "z=char.reset_index()\n",
        "no_of=z[z['SEX']=='Male Characters']\n",
        "no_of_male=no_of['name']\n"
      ],
      "execution_count": 0,
      "outputs": []
    },
    {
      "cell_type": "code",
      "metadata": {
        "id": "7o_souQRkxSs",
        "colab_type": "code",
        "colab": {}
      },
      "source": [
        "#z = pd.read_csv(\"/content/marvel-wikia-data.csv\", index_col =\"SEX\") \n",
        "  \n",
        "# retrieving rows by loc method \n",
        "#rows = z.loc[[\"Male Characters\"]] \n",
        "#no_of_male=rows.count()['name']\n",
        "#no_of_male\n",
        "#p=z.reset_index()"
      ],
      "execution_count": 0,
      "outputs": []
    },
    {
      "cell_type": "code",
      "metadata": {
        "id": "4SAixgFTocRT",
        "colab_type": "code",
        "outputId": "2823e77d-e512-46c5-e10f-66b1292cd90e",
        "colab": {
          "base_uri": "https://localhost:8080/",
          "height": 51
        }
      },
      "source": [
        "probability_of_being_male=no_of_male/x\n",
        "probability_of_being_male"
      ],
      "execution_count": 43,
      "outputs": [
        {
          "output_type": "execute_result",
          "data": {
            "text/plain": [
              "3    0.710674\n",
              "Name: name, dtype: float64"
            ]
          },
          "metadata": {
            "tags": []
          },
          "execution_count": 43
        }
      ]
    },
    {
      "cell_type": "markdown",
      "metadata": {
        "id": "y7pjM4QepcHW",
        "colab_type": "text"
      },
      "source": [
        "# <b>Conditional Probability</b>\n",
        "p(A|B) is the probability of event A occurring, given that event B occurs\n",
        "\n",
        "<b>Example: Given that character is female, calculate the probability of having green eyes</b>\n",
        "\n",
        "<img src=\"https://thumbs.dreamstime.com/b/cartoon-girl-character-portrait-vector-avatar-blonde-happy-green-eyes-isolated-white-background-icon-143155889.jpg\" width=\"250\" height=\"250\" >\n",
        "\n"
      ]
    },
    {
      "cell_type": "code",
      "metadata": {
        "id": "KAfviuRoon60",
        "colab_type": "code",
        "colab": {}
      },
      "source": [
        "b=df.groupby(['SEX']).count()\n"
      ],
      "execution_count": 0,
      "outputs": []
    },
    {
      "cell_type": "code",
      "metadata": {
        "id": "UVW-xPLqqWBJ",
        "colab_type": "code",
        "outputId": "868dd2a1-306f-4d59-bdb6-11440836d96c",
        "colab": {
          "base_uri": "https://localhost:8080/",
          "height": 238
        }
      },
      "source": [
        "df.groupby(['SEX']).count()"
      ],
      "execution_count": 45,
      "outputs": [
        {
          "output_type": "execute_result",
          "data": {
            "text/html": [
              "<div>\n",
              "<style scoped>\n",
              "    .dataframe tbody tr th:only-of-type {\n",
              "        vertical-align: middle;\n",
              "    }\n",
              "\n",
              "    .dataframe tbody tr th {\n",
              "        vertical-align: top;\n",
              "    }\n",
              "\n",
              "    .dataframe thead th {\n",
              "        text-align: right;\n",
              "    }\n",
              "</style>\n",
              "<table border=\"1\" class=\"dataframe\">\n",
              "  <thead>\n",
              "    <tr style=\"text-align: right;\">\n",
              "      <th></th>\n",
              "      <th>page_id</th>\n",
              "      <th>name</th>\n",
              "      <th>urlslug</th>\n",
              "      <th>ID</th>\n",
              "      <th>ALIGN</th>\n",
              "      <th>EYE</th>\n",
              "      <th>HAIR</th>\n",
              "      <th>GSM</th>\n",
              "      <th>ALIVE</th>\n",
              "      <th>APPEARANCES</th>\n",
              "      <th>FIRST APPEARANCE</th>\n",
              "      <th>Year</th>\n",
              "    </tr>\n",
              "    <tr>\n",
              "      <th>SEX</th>\n",
              "      <th></th>\n",
              "      <th></th>\n",
              "      <th></th>\n",
              "      <th></th>\n",
              "      <th></th>\n",
              "      <th></th>\n",
              "      <th></th>\n",
              "      <th></th>\n",
              "      <th></th>\n",
              "      <th></th>\n",
              "      <th></th>\n",
              "      <th></th>\n",
              "    </tr>\n",
              "  </thead>\n",
              "  <tbody>\n",
              "    <tr>\n",
              "      <th>Agender Characters</th>\n",
              "      <td>45</td>\n",
              "      <td>45</td>\n",
              "      <td>45</td>\n",
              "      <td>31</td>\n",
              "      <td>43</td>\n",
              "      <td>33</td>\n",
              "      <td>38</td>\n",
              "      <td>0</td>\n",
              "      <td>45</td>\n",
              "      <td>42</td>\n",
              "      <td>36</td>\n",
              "      <td>36</td>\n",
              "    </tr>\n",
              "    <tr>\n",
              "      <th>Female Characters</th>\n",
              "      <td>3837</td>\n",
              "      <td>3837</td>\n",
              "      <td>3837</td>\n",
              "      <td>3047</td>\n",
              "      <td>3153</td>\n",
              "      <td>1928</td>\n",
              "      <td>3184</td>\n",
              "      <td>40</td>\n",
              "      <td>3837</td>\n",
              "      <td>3599</td>\n",
              "      <td>3628</td>\n",
              "      <td>3628</td>\n",
              "    </tr>\n",
              "    <tr>\n",
              "      <th>Genderfluid Characters</th>\n",
              "      <td>2</td>\n",
              "      <td>2</td>\n",
              "      <td>2</td>\n",
              "      <td>2</td>\n",
              "      <td>2</td>\n",
              "      <td>2</td>\n",
              "      <td>2</td>\n",
              "      <td>2</td>\n",
              "      <td>2</td>\n",
              "      <td>2</td>\n",
              "      <td>2</td>\n",
              "      <td>2</td>\n",
              "    </tr>\n",
              "    <tr>\n",
              "      <th>Male Characters</th>\n",
              "      <td>11638</td>\n",
              "      <td>11638</td>\n",
              "      <td>11638</td>\n",
              "      <td>9128</td>\n",
              "      <td>9744</td>\n",
              "      <td>4492</td>\n",
              "      <td>8580</td>\n",
              "      <td>48</td>\n",
              "      <td>11638</td>\n",
              "      <td>10899</td>\n",
              "      <td>11100</td>\n",
              "      <td>11100</td>\n",
              "    </tr>\n",
              "  </tbody>\n",
              "</table>\n",
              "</div>"
            ],
            "text/plain": [
              "                        page_id   name  ...  FIRST APPEARANCE   Year\n",
              "SEX                                     ...                         \n",
              "Agender Characters           45     45  ...                36     36\n",
              "Female Characters          3837   3837  ...              3628   3628\n",
              "Genderfluid Characters        2      2  ...                 2      2\n",
              "Male Characters           11638  11638  ...             11100  11100\n",
              "\n",
              "[4 rows x 12 columns]"
            ]
          },
          "metadata": {
            "tags": []
          },
          "execution_count": 45
        }
      ]
    },
    {
      "cell_type": "code",
      "metadata": {
        "id": "_Zt7gJqBqjuU",
        "colab_type": "code",
        "outputId": "553143e0-8c5f-4ba2-a00b-978a5a8a2c43",
        "colab": {
          "base_uri": "https://localhost:8080/",
          "height": 88
        }
      },
      "source": [
        "green_eyes = df[df =='Green Eyes'].EYE.count()\n",
        "green_eyes"
      ],
      "execution_count": 46,
      "outputs": [
        {
          "output_type": "stream",
          "text": [
            "/usr/local/lib/python3.6/dist-packages/pandas/core/ops/__init__.py:1115: FutureWarning: elementwise comparison failed; returning scalar instead, but in the future will perform elementwise comparison\n",
            "  result = method(y)\n"
          ],
          "name": "stderr"
        },
        {
          "output_type": "execute_result",
          "data": {
            "text/plain": [
              "613"
            ]
          },
          "metadata": {
            "tags": []
          },
          "execution_count": 46
        }
      ]
    },
    {
      "cell_type": "code",
      "metadata": {
        "id": "RCh_hNIvsVbG",
        "colab_type": "code",
        "outputId": "c98c39bf-ca49-4dc1-e9ef-072593c737c6",
        "colab": {
          "base_uri": "https://localhost:8080/",
          "height": 105
        }
      },
      "source": [
        "female=df[df=='Female Characters'].SEX.count()\n",
        "print('female in the dataset',female)\n",
        "probability_of_female=female/x\n",
        "print('probability of female',probability_of_female)"
      ],
      "execution_count": 47,
      "outputs": [
        {
          "output_type": "stream",
          "text": [
            "female in the dataset 3837\n",
            "probability of female 0.23430630190522717\n"
          ],
          "name": "stdout"
        },
        {
          "output_type": "stream",
          "text": [
            "/usr/local/lib/python3.6/dist-packages/pandas/core/ops/__init__.py:1115: FutureWarning: elementwise comparison failed; returning scalar instead, but in the future will perform elementwise comparison\n",
            "  result = method(y)\n"
          ],
          "name": "stderr"
        }
      ]
    },
    {
      "cell_type": "code",
      "metadata": {
        "id": "iQEJHwaUtAvx",
        "colab_type": "code",
        "outputId": "fd2dc5bb-dd92-46d6-bf06-dc52dd70718f",
        "colab": {
          "base_uri": "https://localhost:8080/",
          "height": 34
        }
      },
      "source": [
        "# Calculate count of female characters with green eyes\n",
        "female_green_count = df[(df.SEX=='Female Characters') & (df.EYE=='Green Eyes')].SEX.count()\n",
        "print('female with green eye:',female_green_count)"
      ],
      "execution_count": 48,
      "outputs": [
        {
          "output_type": "stream",
          "text": [
            "female with green eye: 268\n"
          ],
          "name": "stdout"
        }
      ]
    },
    {
      "cell_type": "code",
      "metadata": {
        "id": "qr3Jw4xLskWm",
        "colab_type": "code",
        "outputId": "27ded553-b6e1-4379-88c0-f36c9c6a4ead",
        "colab": {
          "base_uri": "https://localhost:8080/",
          "height": 34
        }
      },
      "source": [
        "probability_of_green_eye_as_a_female=female_green_count/x\n",
        "probability_of_green_eye_as_a_female"
      ],
      "execution_count": 49,
      "outputs": [
        {
          "output_type": "execute_result",
          "data": {
            "text/plain": [
              "0.016365412799218368"
            ]
          },
          "metadata": {
            "tags": []
          },
          "execution_count": 49
        }
      ]
    },
    {
      "cell_type": "code",
      "metadata": {
        "id": "zgP5Z2ftsv1c",
        "colab_type": "code",
        "outputId": "7286d63d-ea1a-40a6-954c-c781eacab224",
        "colab": {
          "base_uri": "https://localhost:8080/",
          "height": 34
        }
      },
      "source": [
        "# Calculate conditional probability of female with green eyes\n",
        "probability_of_green_eye_as_a_female/probability_of_female"
      ],
      "execution_count": 50,
      "outputs": [
        {
          "output_type": "execute_result",
          "data": {
            "text/plain": [
              "0.06984623403700807"
            ]
          },
          "metadata": {
            "tags": []
          },
          "execution_count": 50
        }
      ]
    },
    {
      "cell_type": "code",
      "metadata": {
        "id": "nA45_SF8rFD9",
        "colab_type": "code",
        "colab": {}
      },
      "source": [
        "#probability that a character has blue eyes provided that he is a Male\n",
        "w=df[df['SEX']=='Male Characters']\n",
        "#male_count=w.count()['name']\n",
        "#probability_of_being_male\n",
        "#male and blue eyes probability\n",
        "#male_with_blue_eyes=w[w[\"EYE\"]=='Blue Eyes'] \n",
        "#male_with_blue_eyes.count()['name']/x\n"
      ],
      "execution_count": 0,
      "outputs": []
    },
    {
      "cell_type": "code",
      "metadata": {
        "id": "uoASvsjorezT",
        "colab_type": "code",
        "colab": {
          "base_uri": "https://localhost:8080/",
          "height": 847
        },
        "outputId": "6596a70f-519f-4c27-b09e-a242c893ac77"
      },
      "source": [
        "male=df[df['SEX']=='Male Charactes']\n",
        "df"
      ],
      "execution_count": 52,
      "outputs": [
        {
          "output_type": "execute_result",
          "data": {
            "text/html": [
              "<div>\n",
              "<style scoped>\n",
              "    .dataframe tbody tr th:only-of-type {\n",
              "        vertical-align: middle;\n",
              "    }\n",
              "\n",
              "    .dataframe tbody tr th {\n",
              "        vertical-align: top;\n",
              "    }\n",
              "\n",
              "    .dataframe thead th {\n",
              "        text-align: right;\n",
              "    }\n",
              "</style>\n",
              "<table border=\"1\" class=\"dataframe\">\n",
              "  <thead>\n",
              "    <tr style=\"text-align: right;\">\n",
              "      <th></th>\n",
              "      <th>page_id</th>\n",
              "      <th>name</th>\n",
              "      <th>urlslug</th>\n",
              "      <th>ID</th>\n",
              "      <th>ALIGN</th>\n",
              "      <th>EYE</th>\n",
              "      <th>HAIR</th>\n",
              "      <th>SEX</th>\n",
              "      <th>GSM</th>\n",
              "      <th>ALIVE</th>\n",
              "      <th>APPEARANCES</th>\n",
              "      <th>FIRST APPEARANCE</th>\n",
              "      <th>Year</th>\n",
              "    </tr>\n",
              "  </thead>\n",
              "  <tbody>\n",
              "    <tr>\n",
              "      <th>0</th>\n",
              "      <td>1678</td>\n",
              "      <td>Spider-Man (Peter Parker)</td>\n",
              "      <td>\\/Spider-Man_(Peter_Parker)</td>\n",
              "      <td>Secret Identity</td>\n",
              "      <td>Good Characters</td>\n",
              "      <td>Hazel Eyes</td>\n",
              "      <td>Brown Hair</td>\n",
              "      <td>Male Characters</td>\n",
              "      <td>NaN</td>\n",
              "      <td>Living Characters</td>\n",
              "      <td>4043.0</td>\n",
              "      <td>Aug-62</td>\n",
              "      <td>1962.0</td>\n",
              "    </tr>\n",
              "    <tr>\n",
              "      <th>1</th>\n",
              "      <td>7139</td>\n",
              "      <td>Captain America (Steven Rogers)</td>\n",
              "      <td>\\/Captain_America_(Steven_Rogers)</td>\n",
              "      <td>Public Identity</td>\n",
              "      <td>Good Characters</td>\n",
              "      <td>Blue Eyes</td>\n",
              "      <td>White Hair</td>\n",
              "      <td>Male Characters</td>\n",
              "      <td>NaN</td>\n",
              "      <td>Living Characters</td>\n",
              "      <td>3360.0</td>\n",
              "      <td>Mar-41</td>\n",
              "      <td>1941.0</td>\n",
              "    </tr>\n",
              "    <tr>\n",
              "      <th>2</th>\n",
              "      <td>64786</td>\n",
              "      <td>Wolverine (James \\\"Logan\\\" Howlett)</td>\n",
              "      <td>\\/Wolverine_(James_%22Logan%22_Howlett)</td>\n",
              "      <td>Public Identity</td>\n",
              "      <td>Neutral Characters</td>\n",
              "      <td>Blue Eyes</td>\n",
              "      <td>Black Hair</td>\n",
              "      <td>Male Characters</td>\n",
              "      <td>NaN</td>\n",
              "      <td>Living Characters</td>\n",
              "      <td>3061.0</td>\n",
              "      <td>Oct-74</td>\n",
              "      <td>1974.0</td>\n",
              "    </tr>\n",
              "    <tr>\n",
              "      <th>3</th>\n",
              "      <td>1868</td>\n",
              "      <td>Iron Man (Anthony \\\"Tony\\\" Stark)</td>\n",
              "      <td>\\/Iron_Man_(Anthony_%22Tony%22_Stark)</td>\n",
              "      <td>Public Identity</td>\n",
              "      <td>Good Characters</td>\n",
              "      <td>Blue Eyes</td>\n",
              "      <td>Black Hair</td>\n",
              "      <td>Male Characters</td>\n",
              "      <td>NaN</td>\n",
              "      <td>Living Characters</td>\n",
              "      <td>2961.0</td>\n",
              "      <td>Mar-63</td>\n",
              "      <td>1963.0</td>\n",
              "    </tr>\n",
              "    <tr>\n",
              "      <th>4</th>\n",
              "      <td>2460</td>\n",
              "      <td>Thor (Thor Odinson)</td>\n",
              "      <td>\\/Thor_(Thor_Odinson)</td>\n",
              "      <td>No Dual Identity</td>\n",
              "      <td>Good Characters</td>\n",
              "      <td>Blue Eyes</td>\n",
              "      <td>Blond Hair</td>\n",
              "      <td>Male Characters</td>\n",
              "      <td>NaN</td>\n",
              "      <td>Living Characters</td>\n",
              "      <td>2258.0</td>\n",
              "      <td>Nov-50</td>\n",
              "      <td>1950.0</td>\n",
              "    </tr>\n",
              "    <tr>\n",
              "      <th>...</th>\n",
              "      <td>...</td>\n",
              "      <td>...</td>\n",
              "      <td>...</td>\n",
              "      <td>...</td>\n",
              "      <td>...</td>\n",
              "      <td>...</td>\n",
              "      <td>...</td>\n",
              "      <td>...</td>\n",
              "      <td>...</td>\n",
              "      <td>...</td>\n",
              "      <td>...</td>\n",
              "      <td>...</td>\n",
              "      <td>...</td>\n",
              "    </tr>\n",
              "    <tr>\n",
              "      <th>16371</th>\n",
              "      <td>657508</td>\n",
              "      <td>Ru'ach (Earth-616)</td>\n",
              "      <td>\\/Ru%27ach_(Earth-616)</td>\n",
              "      <td>No Dual Identity</td>\n",
              "      <td>Bad Characters</td>\n",
              "      <td>Green Eyes</td>\n",
              "      <td>No Hair</td>\n",
              "      <td>Male Characters</td>\n",
              "      <td>NaN</td>\n",
              "      <td>Living Characters</td>\n",
              "      <td>NaN</td>\n",
              "      <td>NaN</td>\n",
              "      <td>NaN</td>\n",
              "    </tr>\n",
              "    <tr>\n",
              "      <th>16372</th>\n",
              "      <td>665474</td>\n",
              "      <td>Thane (Thanos' son) (Earth-616)</td>\n",
              "      <td>\\/Thane_(Thanos%27_son)_(Earth-616)</td>\n",
              "      <td>No Dual Identity</td>\n",
              "      <td>Good Characters</td>\n",
              "      <td>Blue Eyes</td>\n",
              "      <td>Bald</td>\n",
              "      <td>Male Characters</td>\n",
              "      <td>NaN</td>\n",
              "      <td>Living Characters</td>\n",
              "      <td>NaN</td>\n",
              "      <td>NaN</td>\n",
              "      <td>NaN</td>\n",
              "    </tr>\n",
              "    <tr>\n",
              "      <th>16373</th>\n",
              "      <td>695217</td>\n",
              "      <td>Tinkerer (Skrull) (Earth-616)</td>\n",
              "      <td>\\/Tinkerer_(Skrull)_(Earth-616)</td>\n",
              "      <td>Secret Identity</td>\n",
              "      <td>Bad Characters</td>\n",
              "      <td>Black Eyes</td>\n",
              "      <td>Bald</td>\n",
              "      <td>Male Characters</td>\n",
              "      <td>NaN</td>\n",
              "      <td>Living Characters</td>\n",
              "      <td>NaN</td>\n",
              "      <td>NaN</td>\n",
              "      <td>NaN</td>\n",
              "    </tr>\n",
              "    <tr>\n",
              "      <th>16374</th>\n",
              "      <td>708811</td>\n",
              "      <td>TK421 (Spiderling) (Earth-616)</td>\n",
              "      <td>\\/TK421_(Spiderling)_(Earth-616)</td>\n",
              "      <td>Secret Identity</td>\n",
              "      <td>Neutral Characters</td>\n",
              "      <td>NaN</td>\n",
              "      <td>NaN</td>\n",
              "      <td>Male Characters</td>\n",
              "      <td>NaN</td>\n",
              "      <td>Living Characters</td>\n",
              "      <td>NaN</td>\n",
              "      <td>NaN</td>\n",
              "      <td>NaN</td>\n",
              "    </tr>\n",
              "    <tr>\n",
              "      <th>16375</th>\n",
              "      <td>673702</td>\n",
              "      <td>Yologarch (Earth-616)</td>\n",
              "      <td>\\/Yologarch_(Earth-616)</td>\n",
              "      <td>NaN</td>\n",
              "      <td>Bad Characters</td>\n",
              "      <td>NaN</td>\n",
              "      <td>NaN</td>\n",
              "      <td>NaN</td>\n",
              "      <td>NaN</td>\n",
              "      <td>Living Characters</td>\n",
              "      <td>NaN</td>\n",
              "      <td>NaN</td>\n",
              "      <td>NaN</td>\n",
              "    </tr>\n",
              "  </tbody>\n",
              "</table>\n",
              "<p>16376 rows × 13 columns</p>\n",
              "</div>"
            ],
            "text/plain": [
              "       page_id                                 name  ... FIRST APPEARANCE    Year\n",
              "0         1678            Spider-Man (Peter Parker)  ...           Aug-62  1962.0\n",
              "1         7139      Captain America (Steven Rogers)  ...           Mar-41  1941.0\n",
              "2        64786  Wolverine (James \\\"Logan\\\" Howlett)  ...           Oct-74  1974.0\n",
              "3         1868    Iron Man (Anthony \\\"Tony\\\" Stark)  ...           Mar-63  1963.0\n",
              "4         2460                  Thor (Thor Odinson)  ...           Nov-50  1950.0\n",
              "...        ...                                  ...  ...              ...     ...\n",
              "16371   657508                   Ru'ach (Earth-616)  ...              NaN     NaN\n",
              "16372   665474      Thane (Thanos' son) (Earth-616)  ...              NaN     NaN\n",
              "16373   695217        Tinkerer (Skrull) (Earth-616)  ...              NaN     NaN\n",
              "16374   708811       TK421 (Spiderling) (Earth-616)  ...              NaN     NaN\n",
              "16375   673702                Yologarch (Earth-616)  ...              NaN     NaN\n",
              "\n",
              "[16376 rows x 13 columns]"
            ]
          },
          "metadata": {
            "tags": []
          },
          "execution_count": 52
        }
      ]
    },
    {
      "cell_type": "code",
      "metadata": {
        "id": "EFQFe2pAq4kM",
        "colab_type": "code",
        "colab": {
          "base_uri": "https://localhost:8080/",
          "height": 34
        },
        "outputId": "f883d7d6-4833-49fc-c7c5-c89ac85ccba8"
      },
      "source": [
        "#probability that a character has blue eyes provided that he is a Male\n",
        "All_Blue_Eyes=df[df.EYE=='Blue Eyes']\n",
        "\n",
        "probability_blue_eye_male=len(All_Blue_Eyes[All_Blue_Eyes.SEX=='Male Characters'])/w.count()['name']\n",
        "print('The probability that a character has blue eyes provided that he is a Male:',round(probability_blue_eye_male,2))"
      ],
      "execution_count": 53,
      "outputs": [
        {
          "output_type": "stream",
          "text": [
            "The probability that a character has blue eyes provided that he is a Male: 0.11\n"
          ],
          "name": "stdout"
        }
      ]
    },
    {
      "cell_type": "code",
      "metadata": {
        "id": "t_4FQm7jvtEL",
        "colab_type": "code",
        "colab": {}
      },
      "source": [
        "female=df[df['SEX']=='Female Characters']\n",
        "only_female=female.count()['name']"
      ],
      "execution_count": 0,
      "outputs": []
    },
    {
      "cell_type": "code",
      "metadata": {
        "id": "okyxBVfguy_M",
        "colab_type": "code",
        "colab": {
          "base_uri": "https://localhost:8080/",
          "height": 34
        },
        "outputId": "3a8e8b59-1998-4d02-c880-33a63ffa2142"
      },
      "source": [
        "#probability that a character has blue eyes provided that she is Female\n",
        "All_Blue_Eyes_female=df[df.EYE=='Blue Eyes']\n",
        "\n",
        "probability_blue_eye_female=len(All_Blue_Eyes_female[All_Blue_Eyes_female.SEX=='Female Characters'])/(only_female)\n",
        "\n",
        "print('The probability that a character has blue eyes provided that she is a Female:',round(probability_blue_eye_female,2))"
      ],
      "execution_count": 55,
      "outputs": [
        {
          "output_type": "stream",
          "text": [
            "The probability that a character has blue eyes provided that she is a Female: 0.18\n"
          ],
          "name": "stdout"
        }
      ]
    },
    {
      "cell_type": "markdown",
      "metadata": {
        "id": "fiYuLklTh1s-",
        "colab_type": "text"
      },
      "source": [
        "#<b>Probability Distribution</b>\n",
        "<img src=\"https://images-na.ssl-images-amazon.com/images/I/61b-7%2BcowML._SY355_.png\" width=\"250\" height=\"250\" > \n",
        "\n",
        "\n",
        "<img src=\"https://previews.123rf.com/images/ontsunan/ontsunan1908/ontsunan190800021/128509597-business-report-financial-management-teamwork-statistics-pie-chart-create-idea-to-success-vector-ill.jpg\" width=\"350\" height=\"250\" > \n",
        "\n",
        "Probability distribution is used to describe random variable<br>\n",
        "<b>A probability distribution is a list of all of the possible outcomes of a random variable along with their corresponding probability values.</b>\n",
        "\n",
        "<b>Discrete: </b><br>\n",
        "This means that if I pick any two consecutive outcomes. I can’t get an outcome that’s in between.\n",
        "\n",
        "example:  if we consider 1 and 2 as outcomes of rolling a six-sided die, then I can’t have an outcome in between that (e.g. I can have an outcome of 1.5)\n",
        "\n",
        "<b>Univariate </b> <br>\n",
        " Means that we only have one (random) variable. In this case, we only have the outcome of the die roll. In contrast, if we have more than one variable then we say that we have a multivariate distribution. In the specific case where we have 2 variables, we often say that it’s a bivariate distribution\n",
        "\n",
        "<b> Finite support:</b><br>\n",
        "This means that there is a limited number of outcomes. The support is essentially the outcomes for which the probability distribution is defined. So the support in our example is. 1, 2, 3, 4, 5 and 6. And since this is not an infinite number of values, it means that the support is finite."
      ]
    },
    {
      "cell_type": "markdown",
      "metadata": {
        "id": "g4afkq4A76qi",
        "colab_type": "text"
      },
      "source": [
        "#<b> Generate random number with seed \n",
        "<img src=\"https://www.netclipart.com/pp/m/93-935905_random-numbers-cloud-3-no-background-random-numbers.png\" width=\"250\" height=\"250\" > \n",
        "\n",
        "\n",
        "<b>SEED:</b><br> \n",
        "It initializes the pseudorandom number generator\n",
        "\n"
      ]
    },
    {
      "cell_type": "code",
      "metadata": {
        "id": "iPsG1xEG9FP0",
        "colab_type": "code",
        "colab": {
          "base_uri": "https://localhost:8080/",
          "height": 34
        },
        "outputId": "c7f0afc5-2179-42ba-ea40-1b69c90d0df7"
      },
      "source": [
        "from random import seed\n",
        "from random import random\n",
        "seed(1)\n",
        "random_nums = [random(), random()]\n",
        "print(random_nums)"
      ],
      "execution_count": 56,
      "outputs": [
        {
          "output_type": "stream",
          "text": [
            "[0.13436424411240122, 0.8474337369372327]\n"
          ],
          "name": "stdout"
        }
      ]
    },
    {
      "cell_type": "code",
      "metadata": {
        "id": "R883bcQ09ITb",
        "colab_type": "code",
        "colab": {
          "base_uri": "https://localhost:8080/",
          "height": 34
        },
        "outputId": "f70754ef-4884-45bf-e530-5c06189e3bdf"
      },
      "source": [
        "seed(1)\n",
        "print(random(), random())"
      ],
      "execution_count": 57,
      "outputs": [
        {
          "output_type": "stream",
          "text": [
            "0.13436424411240122 0.8474337369372327\n"
          ],
          "name": "stdout"
        }
      ]
    },
    {
      "cell_type": "markdown",
      "metadata": {
        "id": "VhAD3ALA9LRQ",
        "colab_type": "text"
      },
      "source": [
        "# Generate random integer value between 40 and 60"
      ]
    },
    {
      "cell_type": "code",
      "metadata": {
        "id": "JOPsSiVk9OXk",
        "colab_type": "code",
        "colab": {
          "base_uri": "https://localhost:8080/",
          "height": 34
        },
        "outputId": "fc97cf12-c0c9-4a11-98f7-771a317c1241"
      },
      "source": [
        "from random import randint\n",
        "seed(1)\n",
        "[randint(40,60) for _ in range(4)]"
      ],
      "execution_count": 58,
      "outputs": [
        {
          "output_type": "execute_result",
          "data": {
            "text/plain": [
              "[44, 58, 42, 48]"
            ]
          },
          "metadata": {
            "tags": []
          },
          "execution_count": 58
        }
      ]
    },
    {
      "cell_type": "markdown",
      "metadata": {
        "id": "jqRmZmKu9akN",
        "colab_type": "text"
      },
      "source": [
        "# Probability Distribution Functions"
      ]
    },
    {
      "cell_type": "code",
      "metadata": {
        "id": "4MdcX1DM9dqW",
        "colab_type": "code",
        "colab": {}
      },
      "source": [
        "# for inline plots\n",
        "%matplotlib inline\n",
        "import matplotlib.pyplot as plt\n",
        "\n",
        "# import seaborn\n",
        "import seaborn as sns\n",
        "# settings for seaborn plot sizes\n",
        "sns.set(rc={'figure.figsize':(4.5,3)})"
      ],
      "execution_count": 0,
      "outputs": []
    },
    {
      "cell_type": "markdown",
      "metadata": {
        "id": "Wmh9ux2M9pCO",
        "colab_type": "text"
      },
      "source": [
        "#<b> Generate random numbers following Bernoulli distribution</b>\n",
        "This distribution applies when an experiment or random variable has only two possible outcomes, namely “success” or “failure[link text](https://)\n"
      ]
    },
    {
      "cell_type": "code",
      "metadata": {
        "id": "KNrIbnSn9kUU",
        "colab_type": "code",
        "colab": {
          "base_uri": "https://localhost:8080/",
          "height": 249
        },
        "outputId": "acf603fa-e7ce-4827-9d18-e471acd23834"
      },
      "source": [
        "from scipy.stats import bernoulli\n",
        "\n",
        "# generate bernoulli\n",
        "data_bern = bernoulli.rvs(size=10000,p=0.3)\n",
        "ax= sns.distplot(data_bern)\n",
        "ax.set(xlabel='Bernoulli', ylabel='Frequency')"
      ],
      "execution_count": 60,
      "outputs": [
        {
          "output_type": "execute_result",
          "data": {
            "text/plain": [
              "[Text(0, 0.5, 'Frequency'), Text(0.5, 0, 'Bernoulli')]"
            ]
          },
          "metadata": {
            "tags": []
          },
          "execution_count": 60
        },
        {
          "output_type": "display_data",
          "data": {
            "image/png": "[encoded data removed]",
            "text/plain": [
              "<Figure size 324x216 with 1 Axes>"
            ]
          },
          "metadata": {
            "tags": []
          }
        }
      ]
    },
    {
      "cell_type": "markdown",
      "metadata": {
        "id": "8Ph2Zwjw-MY5",
        "colab_type": "text"
      },
      "source": [
        "#<b> Generate random numbers following Binomial distribution</b>\n",
        "\n",
        "This distribution applies when N independent Bernoulli trials are carried out each with the same probability p of success\n"
      ]
    },
    {
      "cell_type": "code",
      "metadata": {
        "id": "9t-xaNBZ-JcI",
        "colab_type": "code",
        "colab": {
          "base_uri": "https://localhost:8080/",
          "height": 247
        },
        "outputId": "b04f5676-d6f2-4799-f892-a0eeeb51f227"
      },
      "source": [
        "from scipy.stats import binom\n",
        "\n",
        "data_binom = binom.rvs(n=10,p=0.5,size=10000)\n",
        "ax = sns.distplot(data_binom)\n",
        "ax.set(xlabel='Binomial', ylabel='Frequency')"
      ],
      "execution_count": 61,
      "outputs": [
        {
          "output_type": "execute_result",
          "data": {
            "text/plain": [
              "[Text(0, 0.5, 'Frequency'), Text(0.5, 0, 'Binomial')]"
            ]
          },
          "metadata": {
            "tags": []
          },
          "execution_count": 61
        },
        {
          "output_type": "display_data",
          "data": {
            "image/png": "[encoded data removed]",
            "text/plain": [
              "<Figure size 324x216 with 1 Axes>"
            ]
          },
          "metadata": {
            "tags": []
          }
        }
      ]
    },
    {
      "cell_type": "markdown",
      "metadata": {
        "id": "xaSC9f0u-mgB",
        "colab_type": "text"
      },
      "source": [
        "# Generate random numbers following Geometric distribution"
      ]
    },
    {
      "cell_type": "code",
      "metadata": {
        "id": "NoiXFs8E-qKq",
        "colab_type": "code",
        "colab": {
          "base_uri": "https://localhost:8080/",
          "height": 247
        },
        "outputId": "4d76ff49-9521-48e8-c8b1-c049ebbd1fd0"
      },
      "source": [
        "from scipy.stats import geom\n",
        "data_geom = geom.rvs(p=0.5,size=10000)\n",
        "ax = sns.distplot(data_geom)\n",
        "ax.set(xlabel='Geometric', ylabel='Frequency')"
      ],
      "execution_count": 62,
      "outputs": [
        {
          "output_type": "execute_result",
          "data": {
            "text/plain": [
              "[Text(0, 0.5, 'Frequency'), Text(0.5, 0, 'Geometric')]"
            ]
          },
          "metadata": {
            "tags": []
          },
          "execution_count": 62
        },
        {
          "output_type": "display_data",
          "data": {
            "image/png": "[encoded data removed]",
            "text/plain": [
              "<Figure size 324x216 with 1 Axes>"
            ]
          },
          "metadata": {
            "tags": []
          }
        }
      ]
    },
    {
      "cell_type": "markdown",
      "metadata": {
        "id": "hAIlTRSe7xNw",
        "colab_type": "text"
      },
      "source": [
        "#<b> Use case: Using IPL league data\n",
        "![alt text](http://www.teluguone.com/teluguoneUserFiles/Indian%20IPL(1).png)"
      ]
    },
    {
      "cell_type": "code",
      "metadata": {
        "id": "P7qm021U7xuG",
        "colab_type": "code",
        "colab": {
          "base_uri": "https://localhost:8080/",
          "height": 445
        },
        "outputId": "2ff115a2-4a9a-4eaf-9b10-abf390e88ad1"
      },
      "source": [
        "# Import required libraries\n",
        "\n",
        "import pandas as pd\n",
        "import numpy as np\n",
        "from matplotlib import pyplot\n",
        "from scipy import stats\n",
        "\n",
        "# Read the input file into a Dataframe\n",
        "df=pd.read_csv(\"/content/matches.csv\")\n",
        "\n",
        "# Display the first five rows of the Dataframe\n",
        "df.head()"
      ],
      "execution_count": 64,
      "outputs": [
        {
          "output_type": "execute_result",
          "data": {
            "text/html": [
              "<div>\n",
              "<style scoped>\n",
              "    .dataframe tbody tr th:only-of-type {\n",
              "        vertical-align: middle;\n",
              "    }\n",
              "\n",
              "    .dataframe tbody tr th {\n",
              "        vertical-align: top;\n",
              "    }\n",
              "\n",
              "    .dataframe thead th {\n",
              "        text-align: right;\n",
              "    }\n",
              "</style>\n",
              "<table border=\"1\" class=\"dataframe\">\n",
              "  <thead>\n",
              "    <tr style=\"text-align: right;\">\n",
              "      <th></th>\n",
              "      <th>id</th>\n",
              "      <th>season</th>\n",
              "      <th>city</th>\n",
              "      <th>date</th>\n",
              "      <th>team1</th>\n",
              "      <th>team2</th>\n",
              "      <th>toss_winner</th>\n",
              "      <th>toss_decision</th>\n",
              "      <th>result</th>\n",
              "      <th>dl_applied</th>\n",
              "      <th>winner</th>\n",
              "      <th>win_by_runs</th>\n",
              "      <th>win_by_wickets</th>\n",
              "      <th>player_of_match</th>\n",
              "      <th>venue</th>\n",
              "      <th>umpire1</th>\n",
              "      <th>umpire2</th>\n",
              "      <th>umpire3</th>\n",
              "    </tr>\n",
              "  </thead>\n",
              "  <tbody>\n",
              "    <tr>\n",
              "      <th>0</th>\n",
              "      <td>1</td>\n",
              "      <td>2017</td>\n",
              "      <td>Hyderabad</td>\n",
              "      <td>2017-04-05</td>\n",
              "      <td>Sunrisers Hyderabad</td>\n",
              "      <td>Royal Challengers Bangalore</td>\n",
              "      <td>Royal Challengers Bangalore</td>\n",
              "      <td>field</td>\n",
              "      <td>normal</td>\n",
              "      <td>0</td>\n",
              "      <td>Sunrisers Hyderabad</td>\n",
              "      <td>35</td>\n",
              "      <td>0</td>\n",
              "      <td>Yuvraj Singh</td>\n",
              "      <td>Rajiv Gandhi International Stadium, Uppal</td>\n",
              "      <td>AY Dandekar</td>\n",
              "      <td>NJ Llong</td>\n",
              "      <td>NaN</td>\n",
              "    </tr>\n",
              "    <tr>\n",
              "      <th>1</th>\n",
              "      <td>2</td>\n",
              "      <td>2017</td>\n",
              "      <td>Pune</td>\n",
              "      <td>2017-04-06</td>\n",
              "      <td>Mumbai Indians</td>\n",
              "      <td>Rising Pune Supergiant</td>\n",
              "      <td>Rising Pune Supergiant</td>\n",
              "      <td>field</td>\n",
              "      <td>normal</td>\n",
              "      <td>0</td>\n",
              "      <td>Rising Pune Supergiant</td>\n",
              "      <td>0</td>\n",
              "      <td>7</td>\n",
              "      <td>SPD Smith</td>\n",
              "      <td>Maharashtra Cricket Association Stadium</td>\n",
              "      <td>A Nand Kishore</td>\n",
              "      <td>S Ravi</td>\n",
              "      <td>NaN</td>\n",
              "    </tr>\n",
              "    <tr>\n",
              "      <th>2</th>\n",
              "      <td>3</td>\n",
              "      <td>2017</td>\n",
              "      <td>Rajkot</td>\n",
              "      <td>2017-04-07</td>\n",
              "      <td>Gujarat Lions</td>\n",
              "      <td>Kolkata Knight Riders</td>\n",
              "      <td>Kolkata Knight Riders</td>\n",
              "      <td>field</td>\n",
              "      <td>normal</td>\n",
              "      <td>0</td>\n",
              "      <td>Kolkata Knight Riders</td>\n",
              "      <td>0</td>\n",
              "      <td>10</td>\n",
              "      <td>CA Lynn</td>\n",
              "      <td>Saurashtra Cricket Association Stadium</td>\n",
              "      <td>Nitin Menon</td>\n",
              "      <td>CK Nandan</td>\n",
              "      <td>NaN</td>\n",
              "    </tr>\n",
              "    <tr>\n",
              "      <th>3</th>\n",
              "      <td>4</td>\n",
              "      <td>2017</td>\n",
              "      <td>Indore</td>\n",
              "      <td>2017-04-08</td>\n",
              "      <td>Rising Pune Supergiant</td>\n",
              "      <td>Kings XI Punjab</td>\n",
              "      <td>Kings XI Punjab</td>\n",
              "      <td>field</td>\n",
              "      <td>normal</td>\n",
              "      <td>0</td>\n",
              "      <td>Kings XI Punjab</td>\n",
              "      <td>0</td>\n",
              "      <td>6</td>\n",
              "      <td>GJ Maxwell</td>\n",
              "      <td>Holkar Cricket Stadium</td>\n",
              "      <td>AK Chaudhary</td>\n",
              "      <td>C Shamshuddin</td>\n",
              "      <td>NaN</td>\n",
              "    </tr>\n",
              "    <tr>\n",
              "      <th>4</th>\n",
              "      <td>5</td>\n",
              "      <td>2017</td>\n",
              "      <td>Bangalore</td>\n",
              "      <td>2017-04-08</td>\n",
              "      <td>Royal Challengers Bangalore</td>\n",
              "      <td>Delhi Daredevils</td>\n",
              "      <td>Royal Challengers Bangalore</td>\n",
              "      <td>bat</td>\n",
              "      <td>normal</td>\n",
              "      <td>0</td>\n",
              "      <td>Royal Challengers Bangalore</td>\n",
              "      <td>15</td>\n",
              "      <td>0</td>\n",
              "      <td>KM Jadhav</td>\n",
              "      <td>M Chinnaswamy Stadium</td>\n",
              "      <td>NaN</td>\n",
              "      <td>NaN</td>\n",
              "      <td>NaN</td>\n",
              "    </tr>\n",
              "  </tbody>\n",
              "</table>\n",
              "</div>"
            ],
            "text/plain": [
              "   id  season       city  ...         umpire1        umpire2 umpire3\n",
              "0   1    2017  Hyderabad  ...     AY Dandekar       NJ Llong     NaN\n",
              "1   2    2017       Pune  ...  A Nand Kishore         S Ravi     NaN\n",
              "2   3    2017     Rajkot  ...     Nitin Menon      CK Nandan     NaN\n",
              "3   4    2017     Indore  ...    AK Chaudhary  C Shamshuddin     NaN\n",
              "4   5    2017  Bangalore  ...             NaN            NaN     NaN\n",
              "\n",
              "[5 rows x 18 columns]"
            ]
          },
          "metadata": {
            "tags": []
          },
          "execution_count": 64
        }
      ]
    },
    {
      "cell_type": "code",
      "metadata": {
        "id": "PqehLgCp727w",
        "colab_type": "code",
        "colab": {
          "base_uri": "https://localhost:8080/",
          "height": 221
        },
        "outputId": "e823d214-e62b-4fc4-d7b6-bed52254120f"
      },
      "source": [
        "# Create a separate dataframe containing only win_by_wickets column data\n",
        "win_by_wickets_data = df[df.win_by_wickets > 0].win_by_wickets\n",
        "win_by_wickets_data"
      ],
      "execution_count": 68,
      "outputs": [
        {
          "output_type": "execute_result",
          "data": {
            "text/plain": [
              "1       7\n",
              "2      10\n",
              "3       6\n",
              "5       9\n",
              "6       4\n",
              "       ..\n",
              "684     6\n",
              "689     5\n",
              "691     5\n",
              "692     2\n",
              "695     8\n",
              "Name: win_by_wickets, Length: 371, dtype: int64"
            ]
          },
          "metadata": {
            "tags": []
          },
          "execution_count": 68
        }
      ]
    },
    {
      "cell_type": "code",
      "metadata": {
        "id": "4S7FSptw75yi",
        "colab_type": "code",
        "colab": {}
      },
      "source": [
        "# Calculate mean & standard deviation of win_by_wickets data\n",
        "mean = win_by_wickets_data.mean()\n",
        "std = win_by_wickets_data.std()"
      ],
      "execution_count": 0,
      "outputs": []
    },
    {
      "cell_type": "code",
      "metadata": {
        "id": "XwHRjm9J8K22",
        "colab_type": "code",
        "colab": {
          "base_uri": "https://localhost:8080/",
          "height": 1000
        },
        "outputId": "0940df05-eb6f-44bb-97f3-d747386de3d6"
      },
      "source": [
        "# Calculate weights to be applied in plotting histogram of win_by_wickets data\n",
        "weights =np.zeros_like(win_by_wickets_data)+  1.0 / win_by_wickets_data.count()\n",
        "weights"
      ],
      "execution_count": 85,
      "outputs": [
        {
          "output_type": "execute_result",
          "data": {
            "text/plain": [
              "array([0.00269542, 0.00269542, 0.00269542, 0.00269542, 0.00269542,\n",
              "       0.00269542, 0.00269542, 0.00269542, 0.00269542, 0.00269542,\n",
              "       0.00269542, 0.00269542, 0.00269542, 0.00269542, 0.00269542,\n",
              "       0.00269542, 0.00269542, 0.00269542, 0.00269542, 0.00269542,\n",
              "       0.00269542, 0.00269542, 0.00269542, 0.00269542, 0.00269542,\n",
              "       0.00269542, 0.00269542, 0.00269542, 0.00269542, 0.00269542,\n",
              "       0.00269542, 0.00269542, 0.00269542, 0.00269542, 0.00269542,\n",
              "       0.00269542, 0.00269542, 0.00269542, 0.00269542, 0.00269542,\n",
              "       0.00269542, 0.00269542, 0.00269542, 0.00269542, 0.00269542,\n",
              "       0.00269542, 0.00269542, 0.00269542, 0.00269542, 0.00269542,\n",
              "       0.00269542, 0.00269542, 0.00269542, 0.00269542, 0.00269542,\n",
              "       0.00269542, 0.00269542, 0.00269542, 0.00269542, 0.00269542,\n",
              "       0.00269542, 0.00269542, 0.00269542, 0.00269542, 0.00269542,\n",
              "       0.00269542, 0.00269542, 0.00269542, 0.00269542, 0.00269542,\n",
              "       0.00269542, 0.00269542, 0.00269542, 0.00269542, 0.00269542,\n",
              "       0.00269542, 0.00269542, 0.00269542, 0.00269542, 0.00269542,\n",
              "       0.00269542, 0.00269542, 0.00269542, 0.00269542, 0.00269542,\n",
              "       0.00269542, 0.00269542, 0.00269542, 0.00269542, 0.00269542,\n",
              "       0.00269542, 0.00269542, 0.00269542, 0.00269542, 0.00269542,\n",
              "       0.00269542, 0.00269542, 0.00269542, 0.00269542, 0.00269542,\n",
              "       0.00269542, 0.00269542, 0.00269542, 0.00269542, 0.00269542,\n",
              "       0.00269542, 0.00269542, 0.00269542, 0.00269542, 0.00269542,\n",
              "       0.00269542, 0.00269542, 0.00269542, 0.00269542, 0.00269542,\n",
              "       0.00269542, 0.00269542, 0.00269542, 0.00269542, 0.00269542,\n",
              "       0.00269542, 0.00269542, 0.00269542, 0.00269542, 0.00269542,\n",
              "       0.00269542, 0.00269542, 0.00269542, 0.00269542, 0.00269542,\n",
              "       0.00269542, 0.00269542, 0.00269542, 0.00269542, 0.00269542,\n",
              "       0.00269542, 0.00269542, 0.00269542, 0.00269542, 0.00269542,\n",
              "       0.00269542, 0.00269542, 0.00269542, 0.00269542, 0.00269542,\n",
              "       0.00269542, 0.00269542, 0.00269542, 0.00269542, 0.00269542,\n",
              "       0.00269542, 0.00269542, 0.00269542, 0.00269542, 0.00269542,\n",
              "       0.00269542, 0.00269542, 0.00269542, 0.00269542, 0.00269542,\n",
              "       0.00269542, 0.00269542, 0.00269542, 0.00269542, 0.00269542,\n",
              "       0.00269542, 0.00269542, 0.00269542, 0.00269542, 0.00269542,\n",
              "       0.00269542, 0.00269542, 0.00269542, 0.00269542, 0.00269542,\n",
              "       0.00269542, 0.00269542, 0.00269542, 0.00269542, 0.00269542,\n",
              "       0.00269542, 0.00269542, 0.00269542, 0.00269542, 0.00269542,\n",
              "       0.00269542, 0.00269542, 0.00269542, 0.00269542, 0.00269542,\n",
              "       0.00269542, 0.00269542, 0.00269542, 0.00269542, 0.00269542,\n",
              "       0.00269542, 0.00269542, 0.00269542, 0.00269542, 0.00269542,\n",
              "       0.00269542, 0.00269542, 0.00269542, 0.00269542, 0.00269542,\n",
              "       0.00269542, 0.00269542, 0.00269542, 0.00269542, 0.00269542,\n",
              "       0.00269542, 0.00269542, 0.00269542, 0.00269542, 0.00269542,\n",
              "       0.00269542, 0.00269542, 0.00269542, 0.00269542, 0.00269542,\n",
              "       0.00269542, 0.00269542, 0.00269542, 0.00269542, 0.00269542,\n",
              "       0.00269542, 0.00269542, 0.00269542, 0.00269542, 0.00269542,\n",
              "       0.00269542, 0.00269542, 0.00269542, 0.00269542, 0.00269542,\n",
              "       0.00269542, 0.00269542, 0.00269542, 0.00269542, 0.00269542,\n",
              "       0.00269542, 0.00269542, 0.00269542, 0.00269542, 0.00269542,\n",
              "       0.00269542, 0.00269542, 0.00269542, 0.00269542, 0.00269542,\n",
              "       0.00269542, 0.00269542, 0.00269542, 0.00269542, 0.00269542,\n",
              "       0.00269542, 0.00269542, 0.00269542, 0.00269542, 0.00269542,\n",
              "       0.00269542, 0.00269542, 0.00269542, 0.00269542, 0.00269542,\n",
              "       0.00269542, 0.00269542, 0.00269542, 0.00269542, 0.00269542,\n",
              "       0.00269542, 0.00269542, 0.00269542, 0.00269542, 0.00269542,\n",
              "       0.00269542, 0.00269542, 0.00269542, 0.00269542, 0.00269542,\n",
              "       0.00269542, 0.00269542, 0.00269542, 0.00269542, 0.00269542,\n",
              "       0.00269542, 0.00269542, 0.00269542, 0.00269542, 0.00269542,\n",
              "       0.00269542, 0.00269542, 0.00269542, 0.00269542, 0.00269542,\n",
              "       0.00269542, 0.00269542, 0.00269542, 0.00269542, 0.00269542,\n",
              "       0.00269542, 0.00269542, 0.00269542, 0.00269542, 0.00269542,\n",
              "       0.00269542, 0.00269542, 0.00269542, 0.00269542, 0.00269542,\n",
              "       0.00269542, 0.00269542, 0.00269542, 0.00269542, 0.00269542,\n",
              "       0.00269542, 0.00269542, 0.00269542, 0.00269542, 0.00269542,\n",
              "       0.00269542, 0.00269542, 0.00269542, 0.00269542, 0.00269542,\n",
              "       0.00269542, 0.00269542, 0.00269542, 0.00269542, 0.00269542,\n",
              "       0.00269542, 0.00269542, 0.00269542, 0.00269542, 0.00269542,\n",
              "       0.00269542, 0.00269542, 0.00269542, 0.00269542, 0.00269542,\n",
              "       0.00269542, 0.00269542, 0.00269542, 0.00269542, 0.00269542,\n",
              "       0.00269542, 0.00269542, 0.00269542, 0.00269542, 0.00269542,\n",
              "       0.00269542, 0.00269542, 0.00269542, 0.00269542, 0.00269542,\n",
              "       0.00269542, 0.00269542, 0.00269542, 0.00269542, 0.00269542,\n",
              "       0.00269542, 0.00269542, 0.00269542, 0.00269542, 0.00269542,\n",
              "       0.00269542, 0.00269542, 0.00269542, 0.00269542, 0.00269542,\n",
              "       0.00269542])"
            ]
          },
          "metadata": {
            "tags": []
          },
          "execution_count": 85
        }
      ]
    },
    {
      "cell_type": "code",
      "metadata": {
        "id": "4NKvnjaq8987",
        "colab_type": "code",
        "colab": {
          "base_uri": "https://localhost:8080/",
          "height": 230
        },
        "outputId": "c643a6c7-3f80-4af2-c486-da12bc01f09a"
      },
      "source": [
        "# Plot a histogram of win_by_wickets data\n",
        "win_by_wickets_data.hist(weights = weights)"
      ],
      "execution_count": 72,
      "outputs": [
        {
          "output_type": "execute_result",
          "data": {
            "text/plain": [
              "<matplotlib.axes._subplots.AxesSubplot at 0x7fa958d665f8>"
            ]
          },
          "metadata": {
            "tags": []
          },
          "execution_count": 72
        },
        {
          "output_type": "display_data",
          "data": {
            "image/png": "[encoded data removed]",
            "text/plain": [
              "<Figure size 324x216 with 1 Axes>"
            ]
          },
          "metadata": {
            "tags": []
          }
        }
      ]
    },
    {
      "cell_type": "code",
      "metadata": {
        "id": "wgH_-lrZ8L5k",
        "colab_type": "code",
        "colab": {
          "base_uri": "https://localhost:8080/",
          "height": 34
        },
        "outputId": "f1fd2b26-1d12-488b-8c27-3969f7842b08"
      },
      "source": [
        "# Generate equally distributed random numbers for the same range as that of win_by_wickets data\n",
        "random_data = np.arange(win_by_wickets_data.min(), win_by_wickets_data.max(), 0.001)\n",
        "random_data"
      ],
      "execution_count": 86,
      "outputs": [
        {
          "output_type": "execute_result",
          "data": {
            "text/plain": [
              "array([1.   , 1.001, 1.002, ..., 9.997, 9.998, 9.999])"
            ]
          },
          "metadata": {
            "tags": []
          },
          "execution_count": 86
        }
      ]
    },
    {
      "cell_type": "code",
      "metadata": {
        "id": "EOxgESf59L-o",
        "colab_type": "code",
        "colab": {
          "base_uri": "https://localhost:8080/",
          "height": 230
        },
        "outputId": "3b6d2f29-1e5f-4ee1-db6f-e25b25a5bc80"
      },
      "source": [
        "# Plot a histogram of win_by_wickets data\n",
        "win_by_wickets_data.hist(weights = weights)\n",
        "# Plot a normal probability distribution curve on top of the above histogram using the random number array\n",
        "pyplot.plot(random_data, stats.norm.pdf(random_data, mean, std), color='green')"
      ],
      "execution_count": 77,
      "outputs": [
        {
          "output_type": "execute_result",
          "data": {
            "text/plain": [
              "[<matplotlib.lines.Line2D at 0x7fa958b3d518>]"
            ]
          },
          "metadata": {
            "tags": []
          },
          "execution_count": 77
        },
        {
          "output_type": "display_data",
          "data": {
            "image/png": "[encoded data removed]",
            "text/plain": [
              "<Figure size 324x216 with 1 Axes>"
            ]
          },
          "metadata": {
            "tags": []
          }
        }
      ]
    },
    {
      "cell_type": "code",
      "metadata": {
        "id": "rEpp4U6y9V7T",
        "colab_type": "code",
        "colab": {
          "base_uri": "https://localhost:8080/",
          "height": 34
        },
        "outputId": "48e68fa0-2a2d-4dce-ef82-ab8eecb32b1a"
      },
      "source": [
        "# Compute probability that a match is won with wickets greater than 3 and less than or equal to 6\n",
        "\n",
        "# Compute Z-scores\n",
        "\n",
        "z1 = (3 - mean)/std\n",
        "z2 = (6 - mean)/std\n",
        "\n",
        "prob = stats.norm.cdf(z2) - stats.norm.cdf(z1)\n",
        "prob\n",
        "#print(\"Probability that a match is won by number of wickets greater than 3 and less than or equal to 6 is: \", np.round(prob,3))"
      ],
      "execution_count": 89,
      "outputs": [
        {
          "output_type": "execute_result",
          "data": {
            "text/plain": [
              "0.40180017041824395"
            ]
          },
          "metadata": {
            "tags": []
          },
          "execution_count": 89
        }
      ]
    },
    {
      "cell_type": "code",
      "metadata": {
        "id": "V_BcCxnl9fID",
        "colab_type": "code",
        "colab": {
          "base_uri": "https://localhost:8080/",
          "height": 34
        },
        "outputId": "bed08f6c-6dde-471f-f45a-2779c3e3fb47"
      },
      "source": [
        " # Compute the probability that the winner is Mumbai Indians when the match was played at Mumbai\n",
        "\n",
        "df2 = pd.DataFrame({'count' : df.groupby( [ 'city','winner'] ).size()}).reset_index()\n",
        "\n",
        "city_count=df.groupby(['city']).count()['id']\n",
        "\n",
        "prob2=df2['count'][(df2['city']=='Mumbai') & (df2['winner']=='Mumbai Indians')].tolist()[0]/city_count['Mumbai']\n",
        "print(\"Probability that the winner is Mumbai Indians when the match was played at Mumbai: \", np.round(prob2,3))"
      ],
      "execution_count": 76,
      "outputs": [
        {
          "output_type": "stream",
          "text": [
            "Probability that the winner is Mumbai Indians when the match was played at Mumbai:  0.511\n"
          ],
          "name": "stdout"
        }
      ]
    }
  ]
}